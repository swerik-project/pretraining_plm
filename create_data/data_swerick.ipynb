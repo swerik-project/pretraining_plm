{
 "cells": [
  {
   "cell_type": "code",
   "execution_count": null,
   "metadata": {},
   "outputs": [],
   "source": [
    "%pip install pyriksdagen\n",
    "from lxml import etree\n",
    "import progressbar\n",
    "from pyparlaclarin.read import paragraph_iterator, speeches_with_name,parlaclarin_to_txt,parlaclarin_to_md\n",
    "from pyriksdagen.utils import protocol_iterators, download_corpus\n",
    "from pyriksdagen.metadata import load_Corpus_metadata\n",
    "import pyriksdagen\n",
    "# We need a parser for reading in XML data\n",
    "parser = etree.XMLParser(remove_blank_text=True)\n",
    "import pandas as pd\n",
    "from sklearn.model_selection import train_test_split\n",
    "import numpy as np\n",
    "import pandas as pd\n",
    "from bs4 import BeautifulSoup\n",
    "import re\n"
   ]
  },
  {
   "cell_type": "code",
   "execution_count": null,
   "metadata": {},
   "outputs": [],
   "source": [
    "def train_test_valid(df):\n",
    "    df_train=pd.DataFrame()\n",
    "    df_test=pd.DataFrame(\n",
    "    )\n",
    "    df_valid=pd.DataFrame()\n",
    "\n",
    "    for s in df[\"protocole\"].unique():\n",
    "        subset_df = df[df[\"protocole\"] == s]\n",
    "        h=hash(s)\n",
    "        h_adjusted = h % (2**32 - 1)\n",
    "        np.random.seed(h_adjusted)\n",
    "        r = np.random.rand()\n",
    "        if r <= 0.7 :\n",
    "            df_train = pd.concat([df_train, subset_df], ignore_index=True)\n",
    "        elif r <=0.85:\n",
    "            df_test = pd.concat([df_test, subset_df], ignore_index=True)\n",
    "        else:\n",
    "            df_valid = pd.concat([df_valid, subset_df], ignore_index=True)\n",
    "    return df_train,df_test,df_valid\n"
   ]
  },
  {
   "cell_type": "code",
   "execution_count": null,
   "metadata": {},
   "outputs": [],
   "source": [
    "\n",
    "#download_corpus(partitions=[\"politicians\", \"records\"])"
   ]
  },
  {
   "cell_type": "code",
   "execution_count": null,
   "metadata": {},
   "outputs": [],
   "source": [
    "protocols = list(protocol_iterators(corpus_root=\"data/\", start=1867, end=202122))"
   ]
  },
  {
   "cell_type": "code",
   "execution_count": null,
   "metadata": {},
   "outputs": [],
   "source": [
    "protocol_in_question = protocols[10]\n",
    "root = etree.parse(protocol_in_question, parser).getroot()"
   ]
  },
  {
   "cell_type": "markdown",
   "metadata": {},
   "source": [
    "Dataset for pretraining models"
   ]
  },
  {
   "cell_type": "code",
   "execution_count": null,
   "metadata": {},
   "outputs": [],
   "source": [
    "data_train=[]\n",
    "data_test=[]\n",
    "data_valid=[]\n",
    "\n",
    "for i in range(len(protocols)):\n",
    "  protocol_in_question = protocols[i]\n",
    "\n",
    "  h=hash(protocol_in_question)\n",
    "  h_adjusted = h % (2**32 - 1)\n",
    "  np.random.seed(h_adjusted)\n",
    "  r = np.random.rand()\n",
    "  root = etree.parse(protocol_in_question, parser).getroot()\n",
    "  element_str=paragraph_iterator(root, output=\"str\")\n",
    "  if r<=0.7:\n",
    "    data_train.append({\"protocole\": protocol_in_question,\"texte\": \" \".join(element_str)})\n",
    "  elif r<=0.85:\n",
    "    data_test.append({\"protocole\": protocol_in_question,\"texte\": \" \".join(element_str)})\n",
    "  else :\n",
    "    data_valid.append({\"protocole\": protocol_in_question,\"texte\": \" \".join(element_str)})\n",
    "\n",
    "df_train=pd.DataFrame(data_train)\n",
    "df_test=pd.DataFrame(data_test)\n",
    "df_valid=pd.DataFrame(data_valid)\n",
    "\n",
    "print(df_train.head())\n",
    "#df_train,df_test = train_test_split(df,test_size=0.2,random_state=42)\n",
    "df_train.to_pickle(\"swerick_data_random_train.pkl\")\n",
    "df_test.to_pickle(\"swerick_data_random_test.pkl\")\n",
    "df_valid.to_pickle(\"swerick_data_random_valid.pkl\")"
   ]
  },
  {
   "cell_type": "markdown",
   "metadata": {},
   "source": [
    "Dataset for downstreams tasks"
   ]
  },
  {
   "cell_type": "code",
   "execution_count": null,
   "metadata": {},
   "outputs": [],
   "source": [
    "metadata =load_Corpus_metadata()\n",
    "metadata =pd.DataFrame(metadata)\n",
    "metadata=metadata.set_index(\"person_id\")\n",
    "print(metadata)\n"
   ]
  },
  {
   "cell_type": "code",
   "execution_count": null,
   "metadata": {},
   "outputs": [],
   "source": [
    "# Party gender classficication\n",
    "\n",
    "notes=[]\n",
    "id=[]\n",
    "party=[]\n",
    "gender=[]\n",
    "protocol=[]\n",
    "\n",
    "for i in range(len(protocols)):\n",
    "    protocol_in_question = protocols[i]\n",
    "    with open(protocol_in_question,\"r\") as f:\n",
    "        xml_content=f.read()\n",
    "    soup=BeautifulSoup(xml_content,\"xml\")\n",
    "    note_elements=soup.find_all(\"u\")\n",
    "\n",
    "\n",
    "    for note in note_elements:\n",
    "        note_text = note.text.strip()\n",
    "        note_text = re.sub(r'\\s+',' ',note_text)\n",
    "        note_text = re.sub(r'\\n+',' ',note_text)\n",
    "        next_element = note.get(\"who\")\n",
    "        if next_element != \"unknown\":\n",
    "            id.append(next_element)\n",
    "            notes.append(note_text)\n",
    "\n",
    "            party_value = metadata.loc[next_element, \"party\"]\n",
    "            if isinstance(party_value, pd.Series):\n",
    "                party_values = party_value.dropna()\n",
    "                if not party_values.empty:\n",
    "                    party.append(party_values.iloc[0])\n",
    "                else:\n",
    "                    party.append(np.nan)\n",
    "            else:\n",
    "                party.append(party_value)\n",
    "\n",
    "            gender_value = metadata.loc[next_element, \"gender\"]\n",
    "            if isinstance(gender_value, pd.Series):\n",
    "                gender_values = gender_value.dropna()\n",
    "                if not gender_values.empty:\n",
    "                    gender.append(gender_values.iloc[0])\n",
    "                else:\n",
    "                    gender.append(np.nan)\n",
    "            else:\n",
    "                gender.append(gender_value)\n",
    "\n",
    "            protocol.append(protocol_in_question)\n",
    "\n",
    "df = pd.DataFrame({\"protocol\": protocol, \"Note\": notes, \"id\": id, \"party\": party, \"gender\": gender})\n",
    "\n",
    "df_train,df_test,df_valid=train_test_valid(df)  "
   ]
  },
  {
   "cell_type": "code",
   "execution_count": null,
   "metadata": {},
   "outputs": [],
   "source": [
    "df_train.to_pickle(\"swerick_data_party_train.pkl\")\n",
    "df_test.to_pickle(\"swerick_data_party_test.pkl\")\n",
    "df_valid.to_pickle(\"swerick_data_party_valid.pkl\")"
   ]
  },
  {
   "cell_type": "code",
   "execution_count": null,
   "metadata": {},
   "outputs": [],
   "source": [
    "#NOte Seg classification\n",
    "\n",
    "\n",
    "\n",
    "text=[]\n",
    "note_seg=[]\n",
    "\n",
    "for i in range(len(protocols)):\n",
    "    protocol_in_question = protocols[i]\n",
    "    with open(protocol_in_question,\"r\") as f:\n",
    "        xml_content=f.read()\n",
    "    soup=BeautifulSoup(xml_content,\"xml\")\n",
    "    note_elements=soup.find_all(\"note\")\n",
    "    seg_elements=soup.find_all(\"seg\")\n",
    "\n",
    "    for note in note_elements:\n",
    "        text.append(note.text.strip())\n",
    "        note_seg.append(\"note\")\n",
    "\n",
    "    for seg in seg_elements:\n",
    "        text.append(seg.text.strip())\n",
    "        note_seg.append(\"seg\")\n",
    "\n",
    "df=pd.DataFrame({\"Text\" :text, \"Note/seg\":note_seg})\n",
    "df_train_seg,df_test_seg,df_valid=train_test_valid(df)\n",
    "print(df)"
   ]
  },
  {
   "cell_type": "code",
   "execution_count": null,
   "metadata": {},
   "outputs": [],
   "source": [
    "df_train_seg,df_test_seg = train_test_split(df,test_size=0.2,random_state=42)\n",
    "df_train_seg.to_pickle(\"swerick_data_seg_train.pkl\")\n",
    "df_test_seg.to_pickle(\"swerick_data_seg_test.pkl\")"
   ]
  }
 ],
 "metadata": {
  "kernelspec": {
   "display_name": "base",
   "language": "python",
   "name": "python3"
  },
  "language_info": {
   "codemirror_mode": {
    "name": "ipython",
    "version": 3
   },
   "file_extension": ".py",
   "mimetype": "text/x-python",
   "name": "python",
   "nbconvert_exporter": "python",
   "pygments_lexer": "ipython3",
   "version": "3.12.2"
  }
 },
 "nbformat": 4,
 "nbformat_minor": 2
}
