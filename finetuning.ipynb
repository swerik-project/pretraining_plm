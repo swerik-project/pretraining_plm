{
 "cells": [
  {
   "cell_type": "code",
   "execution_count": 3,
   "metadata": {},
   "outputs": [],
   "source": [
    "from transformers import AutoModelForMaskedLM\n",
    "from transformers import AutoTokenizer\n",
    "import torch\n",
    "from datasets import load_dataset\n",
    "from transformers import DataCollatorForLanguageModeling\n",
    "from transformers import TrainingArguments\n",
    "from transformers import Trainer\n",
    "import math\n",
    "from torch.utils.data import DataLoader\n",
    "from transformers import default_data_collator\n",
    "from torch.optim import AdamW\n",
    "from accelerate import Accelerator\n",
    "from transformers import get_scheduler\n",
    "from tqdm.auto import tqdm\n",
    "import matplotlib.pyplot as plt\n",
    "import preprocessing\n",
    "import pickle\n",
    "import pandas as pd\n",
    "from datasets import Dataset,DatasetDict"
   ]
  },
  {
   "cell_type": "code",
   "execution_count": 3,
   "metadata": {},
   "outputs": [
    {
     "name": "stdout",
     "output_type": "stream",
     "text": [
      "cuda\n"
     ]
    }
   ],
   "source": [
    "device = torch.device(\"cuda\" if torch.cuda.is_available() else \"cpu\")\n",
    "print(device)"
   ]
  },
  {
   "cell_type": "code",
   "execution_count": 4,
   "metadata": {},
   "outputs": [],
   "source": [
    "def insert_random_mask(batch,data_collator):\n",
    "    features = [dict(zip(batch, t)) for t in zip(*batch.values())]\n",
    "    masked_inputs = data_collator(features)\n",
    "    # Create a new \"masked\" column for each column in the dataset\n",
    "    return {\"masked_\" + k: v.numpy() for k, v in masked_inputs.items()}"
   ]
  },
  {
   "cell_type": "code",
   "execution_count": 5,
   "metadata": {},
   "outputs": [
    {
     "name": "stderr",
     "output_type": "stream",
     "text": [
      "Some weights of the model checkpoint at KBLab/bert-base-swedish-cased were not used when initializing BertForMaskedLM: ['bert.pooler.dense.bias', 'bert.pooler.dense.weight']\n",
      "- This IS expected if you are initializing BertForMaskedLM from the checkpoint of a model trained on another task or with another architecture (e.g. initializing a BertForSequenceClassification model from a BertForPreTraining model).\n",
      "- This IS NOT expected if you are initializing BertForMaskedLM from the checkpoint of a model that you expect to be exactly identical (initializing a BertForSequenceClassification model from a BertForSequenceClassification model).\n"
     ]
    }
   ],
   "source": [
    "model_checkpoint = \"KBLab/bert-base-swedish-cased\"\n",
    "model_kb = preprocessing.create_model_MLM(model_checkpoint)\n",
    "model_kb =model_kb.to(device)"
   ]
  },
  {
   "cell_type": "code",
   "execution_count": 6,
   "metadata": {},
   "outputs": [],
   "source": [
    "tokenizer =preprocessing.create_tokenizer(model_checkpoint)"
   ]
  },
  {
   "cell_type": "code",
   "execution_count": 7,
   "metadata": {},
   "outputs": [
    {
     "name": "stdout",
     "output_type": "stream",
     "text": [
      "DatasetDict({\n",
      "    train: Dataset({\n",
      "        features: ['protocole', 'texte'],\n",
      "        num_rows: 12399\n",
      "    })\n",
      "    test: Dataset({\n",
      "        features: ['protocole', 'texte'],\n",
      "        num_rows: 2673\n",
      "    })\n",
      "})\n"
     ]
    }
   ],
   "source": [
    "#datasest\n",
    "data_files = {\"train\": \"swerick_data_random_train.pkl\", \"test\": \"swerick_data_random_test.pkl\"}\n",
    "swerick_dataset = load_dataset(\"pandas\",data_files=data_files)\n",
    "print(swerick_dataset)\n"
   ]
  },
  {
   "cell_type": "code",
   "execution_count": 8,
   "metadata": {},
   "outputs": [],
   "source": [
    "from transformers import RobertaTokenizerFast\n",
    "roberta_tokenizer = RobertaTokenizerFast.from_pretrained(\"BPE_swerick_tokenizer\", max_len=512)"
   ]
  },
  {
   "cell_type": "code",
   "execution_count": 11,
   "metadata": {},
   "outputs": [
    {
     "name": "stderr",
     "output_type": "stream",
     "text": [
      "Token indices sequence length is longer than the specified maximum sequence length for this model (9763 > 512). Running this sequence through the model will result in indexing errors\n"
     ]
    }
   ],
   "source": [
    "lm_datasets_train= preprocessing.chunk_and_pad(swerick_dataset[\"train\"],roberta_tokenizer,128)"
   ]
  },
  {
   "cell_type": "code",
   "execution_count": 12,
   "metadata": {},
   "outputs": [],
   "source": [
    "lm_datasets_test= preprocessing.chunk_and_pad(swerick_dataset[\"test\"],roberta_tokenizer,128)"
   ]
  },
  {
   "cell_type": "code",
   "execution_count": 16,
   "metadata": {},
   "outputs": [],
   "source": [
    "lm_datasets_roberta = DatasetDict({\"train\":lm_datasets_train,\"test\":lm_datasets_test})"
   ]
  },
  {
   "cell_type": "code",
   "execution_count": 9,
   "metadata": {},
   "outputs": [
    {
     "data": {
      "application/vnd.jupyter.widget-view+json": {
       "model_id": "8852d0d79d784b129e8c468c76e6f69c",
       "version_major": 2,
       "version_minor": 0
      },
      "text/plain": [
       "Map:   0%|          | 0/12399 [00:00<?, ? examples/s]"
      ]
     },
     "metadata": {},
     "output_type": "display_data"
    },
    {
     "name": "stderr",
     "output_type": "stream",
     "text": [
      "Token indices sequence length is longer than the specified maximum sequence length for this model (9763 > 512). Running this sequence through the model will result in indexing errors\n"
     ]
    },
    {
     "data": {
      "text/plain": [
       "Dataset({\n",
       "    features: ['input_ids', 'attention_mask', 'word_ids'],\n",
       "    num_rows: 12399\n",
       "})"
      ]
     },
     "execution_count": 9,
     "metadata": {},
     "output_type": "execute_result"
    }
   ],
   "source": [
    "tokenized_datasets_train =preprocessing.tokenize_dataset(swerick_dataset[\"train\"],roberta_tokenizer)\n",
    "tokenized_datasets_test =preprocessing.tokenize_dataset(swerick_dataset[\"test\"],roberta_tokenizer)\n",
    "tokenized_datasets_train\n"
   ]
  },
  {
   "cell_type": "code",
   "execution_count": 12,
   "metadata": {},
   "outputs": [],
   "source": [
    "chunk_size = 128"
   ]
  },
  {
   "cell_type": "code",
   "execution_count": 45,
   "metadata": {},
   "outputs": [
    {
     "ename": "NameError",
     "evalue": "name 'tokenized_datasets' is not defined",
     "output_type": "error",
     "traceback": [
      "\u001b[0;31m---------------------------------------------------------------------------\u001b[0m",
      "\u001b[0;31mNameError\u001b[0m                                 Traceback (most recent call last)",
      "Cell \u001b[0;32mIn[45], line 1\u001b[0m\n\u001b[0;32m----> 1\u001b[0m tokenized_datasets\u001b[38;5;241m=\u001b[39m\u001b[43mtokenized_datasets\u001b[49m\u001b[38;5;241m.\u001b[39mremove_columns(\u001b[38;5;124m\"\u001b[39m\u001b[38;5;124mprotocole\u001b[39m\u001b[38;5;124m\"\u001b[39m)\n",
      "\u001b[0;31mNameError\u001b[0m: name 'tokenized_datasets' is not defined"
     ]
    }
   ],
   "source": [
    "tokenized_datasets_train=tokenized_datasets_train.remove_columns(\"protocole\")\n",
    "tokenized_datasets_train=tokenized_datasets_train.remove_columns(\"protocole\")"
   ]
  },
  {
   "cell_type": "code",
   "execution_count": 13,
   "metadata": {},
   "outputs": [
    {
     "data": {
      "application/vnd.jupyter.widget-view+json": {
       "model_id": "423fefadd9384d1aaa32ada908024e37",
       "version_major": 2,
       "version_minor": 0
      },
      "text/plain": [
       "Map:   0%|          | 0/12399 [00:00<?, ? examples/s]"
      ]
     },
     "metadata": {},
     "output_type": "display_data"
    },
    {
     "data": {
      "application/vnd.jupyter.widget-view+json": {
       "model_id": "2da4457855a04ffaac78b13be11d7f35",
       "version_major": 2,
       "version_minor": 0
      },
      "text/plain": [
       "Map:   0%|          | 0/2673 [00:00<?, ? examples/s]"
      ]
     },
     "metadata": {},
     "output_type": "display_data"
    },
    {
     "ename": "NameError",
     "evalue": "name 'lm_datasets' is not defined",
     "output_type": "error",
     "traceback": [
      "\u001b[0;31m---------------------------------------------------------------------------\u001b[0m",
      "\u001b[0;31mNameError\u001b[0m                                 Traceback (most recent call last)",
      "Cell \u001b[0;32mIn[13], line 3\u001b[0m\n\u001b[1;32m      1\u001b[0m lm_datasets_train \u001b[38;5;241m=\u001b[39m preprocessing\u001b[38;5;241m.\u001b[39mgrouping_dataset(tokenized_datasets_train,chunk_size)\n\u001b[1;32m      2\u001b[0m lm_datasets_test \u001b[38;5;241m=\u001b[39m preprocessing\u001b[38;5;241m.\u001b[39mgrouping_dataset(tokenized_datasets_test,chunk_size)\n\u001b[0;32m----> 3\u001b[0m \u001b[43mlm_datasets\u001b[49m\n",
      "\u001b[0;31mNameError\u001b[0m: name 'lm_datasets' is not defined"
     ]
    }
   ],
   "source": [
    "lm_datasets_train = preprocessing.grouping_dataset(tokenized_datasets_train,chunk_size)\n",
    "lm_datasets_test = preprocessing.grouping_dataset(tokenized_datasets_test,chunk_size)\n",
    "lm_datasets"
   ]
  },
  {
   "cell_type": "code",
   "execution_count": 15,
   "metadata": {},
   "outputs": [
    {
     "data": {
      "text/plain": [
       "DatasetDict({\n",
       "    train: Dataset({\n",
       "        features: ['input_ids', 'attention_mask', 'word_ids', 'labels'],\n",
       "        num_rows: 3425181\n",
       "    })\n",
       "    test: Dataset({\n",
       "        features: ['input_ids', 'attention_mask', 'word_ids', 'labels'],\n",
       "        num_rows: 736092\n",
       "    })\n",
       "})"
      ]
     },
     "execution_count": 15,
     "metadata": {},
     "output_type": "execute_result"
    }
   ],
   "source": [
    "lm_datasets = DatasetDict({'train':lm_datasets_train,'test':lm_datasets_test})\n",
    "lm_datasets"
   ]
  },
  {
   "cell_type": "code",
   "execution_count": 16,
   "metadata": {},
   "outputs": [],
   "source": [
    "with open(\"lm_dataset_roberta.pkl\",\"wb\") as f:\n",
    "    pickle.dump(lm_datasets,f)"
   ]
  },
  {
   "cell_type": "code",
   "execution_count": 17,
   "metadata": {},
   "outputs": [
    {
     "data": {
      "text/plain": [
       "DatasetDict({\n",
       "    train: Dataset({\n",
       "        features: ['input_ids', 'attention_mask', 'word_ids', 'labels'],\n",
       "        num_rows: 3425181\n",
       "    })\n",
       "    test: Dataset({\n",
       "        features: ['input_ids', 'attention_mask', 'word_ids', 'labels'],\n",
       "        num_rows: 736092\n",
       "    })\n",
       "})"
      ]
     },
     "execution_count": 17,
     "metadata": {},
     "output_type": "execute_result"
    }
   ],
   "source": [
    "with open(\"lm_dataset_roberta.pkl\",\"rb\") as f:\n",
    "    lm_datasets= pickle.load(f)\n",
    "    \n",
    "lm_datasets"
   ]
  },
  {
   "cell_type": "code",
   "execution_count": 18,
   "metadata": {},
   "outputs": [
    {
     "data": {
      "text/plain": [
       "DatasetDict({\n",
       "    valid: Dataset({\n",
       "        features: ['protocole', 'texte'],\n",
       "        num_rows: 2570\n",
       "    })\n",
       "})"
      ]
     },
     "execution_count": 18,
     "metadata": {},
     "output_type": "execute_result"
    }
   ],
   "source": [
    "data_valid={\"valid\":\"swerick_data_random_valid.pkl\"}\n",
    "valid_dataset_initial = load_dataset(\"pandas\",data_files=data_valid) \n",
    "\n",
    "valid_dataset_initial"
   ]
  },
  {
   "cell_type": "code",
   "execution_count": 7,
   "metadata": {},
   "outputs": [
    {
     "name": "stderr",
     "output_type": "stream",
     "text": [
      "Special tokens have been added in the vocabulary, make sure the associated word embeddings are fine-tuned or trained.\n"
     ]
    }
   ],
   "source": [
    "exbert_tokenizer = AutoTokenizer.from_pretrained(\"exbert_tokenizer\")"
   ]
  },
  {
   "cell_type": "code",
   "execution_count": 19,
   "metadata": {},
   "outputs": [],
   "source": [
    "valid_dataset_roberta =preprocessing.chunk_and_pad(valid_dataset_initial[\"valid\"],roberta_tokenizer,128)"
   ]
  },
  {
   "cell_type": "code",
   "execution_count": 20,
   "metadata": {},
   "outputs": [],
   "source": [
    "valid_dataset_roberta= Dataset.from_dict(valid_dataset_roberta)"
   ]
  },
  {
   "cell_type": "code",
   "execution_count": 21,
   "metadata": {},
   "outputs": [],
   "source": [
    "with open(\"valid_dataset_roberta.pkl\",\"wb\") as f:\n",
    "     pickle.dump(valid_dataset_roberta,f)"
   ]
  },
  {
   "cell_type": "code",
   "execution_count": 25,
   "metadata": {},
   "outputs": [
    {
     "data": {
      "text/plain": [
       "Dataset({\n",
       "    features: ['input_ids', 'attention_mask', 'labels', 'word_ids'],\n",
       "    num_rows: 764056\n",
       "})"
      ]
     },
     "execution_count": 25,
     "metadata": {},
     "output_type": "execute_result"
    }
   ],
   "source": [
    "with open(\"valid_dataset.pkl\",\"rb\") as f:\n",
    "    valid_dataset= pickle.load(f)\n",
    "\n",
    "valid_dataset"
   ]
  },
  {
   "cell_type": "code",
   "execution_count": 28,
   "metadata": {},
   "outputs": [
    {
     "name": "stdout",
     "output_type": "stream",
     "text": [
      "motionstid samt uppskjuten behandling § 35 Anmälan om interpellationer § 36 Anmälan om frågor för skriftliga svar § 37 Kammaren åtskildes kl. 20. 07. Tryck : Elanders Sverige AB, Vällingby 2022 [SEP] [PAD] [PAD] [PAD] [PAD] [PAD] [PAD] [PAD] [PAD] [PAD] [PAD] [PAD] [PAD] [PAD] [PAD] [PAD] [PAD] [PAD] [PAD] [PAD] [PAD] [PAD] [PAD] [PAD] [PAD] [PAD] [PAD] [PAD] [PAD] [PAD] [PAD] [PAD] [PAD] [PAD] [PAD] [PAD] [PAD] [PAD] [PAD] [PAD] [PAD] [PAD] [PAD] [PAD] [PAD] [PAD] [PAD] [PAD] [PAD] [PAD] [PAD] [PAD] [PAD] [PAD] [PAD] [PAD] [PAD] [PAD] [PAD] [PAD] [PAD] [PAD] [PAD] [PAD] [PAD] [PAD] [PAD] [PAD] [PAD] [PAD] [PAD] [PAD] [PAD] [PAD] [PAD] [PAD] [PAD] [PAD] [PAD] [PAD] [PAD] [PAD] [PAD] [PAD] [PAD]\n",
      "svar § 37 Kammaren åtskildes kl. 20. 07. Tryck : Elande rs Sverige AB, Vällingby 2022 [SEP] [PAD] [PAD] [PAD] [PAD] [PAD] [PAD] [PAD] [PAD] [PAD] [PAD] [PAD] [PAD] [PAD] [PAD] [PAD] [PAD] [PAD] [PAD] [PAD] [PAD] [PAD] [PAD] [PAD] [PAD] [PAD] [PAD] [PAD] [PAD] [PAD] [PAD] [PAD] [PAD] [PAD] [PAD] [PAD] [PAD] [PAD] [PAD] [PAD] [PAD] [PAD] [PAD] [PAD] [PAD] [PAD] [PAD] [PAD] [PAD] [PAD] [PAD] [PAD] [PAD] [PAD] [PAD] [PAD] [PAD] [PAD] [PAD] [PAD] [PAD] [PAD] [PAD] [PAD] [PAD] [PAD] [PAD] [PAD] [PAD] [PAD] [PAD] [PAD] [PAD] [PAD] [PAD] [PAD] [PAD] [PAD] [PAD] [PAD] [PAD] [PAD] [PAD] [PAD] [PAD] [PAD] [PAD] [PAD] [PAD] [PAD] [PAD] [PAD] [PAD] [PAD] [PAD] [PAD] [PAD] [PAD] [PAD] [PAD] [PAD] [PAD] [PAD] [PAD] [PAD] [PAD] [PAD]\n"
     ]
    }
   ],
   "source": [
    "print(tokenizer.decode(valid_dataset[-1][\"input_ids\"]))\n",
    "print(exbert_tokenizer.decode(valid_dataset_exbert[-1][\"input_ids\"]))"
   ]
  },
  {
   "cell_type": "code",
   "execution_count": 33,
   "metadata": {},
   "outputs": [],
   "source": [
    "\n",
    "valid_dataset_exbert=valid_dataset_exbert.remove_columns([\"word_ids\"])"
   ]
  },
  {
   "cell_type": "code",
   "execution_count": 34,
   "metadata": {},
   "outputs": [],
   "source": [
    "data_collator_exbert = preprocessing.data_collector_masking(exbert_tokenizer,0.15)\n",
    "data_collator = preprocessing.data_collector_masking(tokenizer,0.15)"
   ]
  },
  {
   "cell_type": "markdown",
   "metadata": {},
   "source": [
    "trial with a manual implementation"
   ]
  },
  {
   "cell_type": "code",
   "execution_count": 14,
   "metadata": {},
   "outputs": [
    {
     "name": "stdout",
     "output_type": "stream",
     "text": [
      "Dataset({\n",
      "    features: ['input_ids', 'token_type_ids', 'attention_mask', 'word_ids', 'labels'],\n",
      "    num_rows: 3663965\n",
      "})\n",
      "Dataset({\n",
      "    features: ['input_ids', 'attention_mask', 'labels'],\n",
      "    num_rows: 800106\n",
      "})\n"
     ]
    },
    {
     "ename": "NameError",
     "evalue": "name 'valid_dataset' is not defined",
     "output_type": "error",
     "traceback": [
      "\u001b[0;31m---------------------------------------------------------------------------\u001b[0m",
      "\u001b[0;31mNameError\u001b[0m                                 Traceback (most recent call last)",
      "Cell \u001b[0;32mIn[14], line 7\u001b[0m\n\u001b[1;32m      5\u001b[0m \u001b[38;5;28mprint\u001b[39m(lm_dataset_bis[\u001b[38;5;124m\"\u001b[39m\u001b[38;5;124mtest\u001b[39m\u001b[38;5;124m\"\u001b[39m])\n\u001b[1;32m      6\u001b[0m \u001b[38;5;66;03m#eval_dataset = preprocessing.create_deterministic_eval_dataset(lm_dataset_bis[\"test\"],data_collator)\u001b[39;00m\n\u001b[0;32m----> 7\u001b[0m valid_dataset\u001b[38;5;241m=\u001b[39mpreprocessing\u001b[38;5;241m.\u001b[39mcreate_deterministic_eval_dataset(\u001b[43mvalid_dataset\u001b[49m[\u001b[38;5;124m\"\u001b[39m\u001b[38;5;124mvalid\u001b[39m\u001b[38;5;124m\"\u001b[39m],data_collator_exbert)\n\u001b[1;32m      9\u001b[0m \u001b[38;5;28mprint\u001b[39m(eval_dataset)\n",
      "\u001b[0;31mNameError\u001b[0m: name 'valid_dataset' is not defined"
     ]
    }
   ],
   "source": [
    "print(lm_datasets[\"train\"])\n",
    "\n",
    "lm_dataset_bis = lm_datasets.remove_columns([\"word_ids\",\"token_type_ids\"])\n",
    "\n",
    "print(lm_dataset_bis[\"test\"])\n",
    "eval_dataset = preprocessing.create_deterministic_eval_dataset(lm_dataset_bis[\"test\"],data_collator)\n",
    "valid_dataset=preprocessing.create_deterministic_eval_dataset(valid_dataset[\"valid\"],data_collator_exbert)\n",
    "\n",
    "print(eval_dataset)"
   ]
  },
  {
   "cell_type": "code",
   "execution_count": 35,
   "metadata": {},
   "outputs": [
    {
     "data": {
      "application/vnd.jupyter.widget-view+json": {
       "model_id": "ad3c433fa47042dd817da4551bd7d0c8",
       "version_major": 2,
       "version_minor": 0
      },
      "text/plain": [
       "Map:   0%|          | 0/801549 [00:00<?, ? examples/s]"
      ]
     },
     "metadata": {},
     "output_type": "display_data"
    }
   ],
   "source": [
    "\n",
    "valid_dataset_exbert=preprocessing.create_deterministic_eval_dataset(valid_dataset_exbert,data_collator_exbert)"
   ]
  },
  {
   "cell_type": "code",
   "execution_count": 36,
   "metadata": {},
   "outputs": [
    {
     "data": {
      "text/plain": [
       "<torch.utils.data.dataloader.DataLoader at 0x792c41cbfd10>"
      ]
     },
     "execution_count": 36,
     "metadata": {},
     "output_type": "execute_result"
    }
   ],
   "source": [
    "valid_dataloader_exbert = preprocessing.create_dataloader(valid_dataset_exbert,64,default_data_collator)\n",
    "valid_dataloader_exbert"
   ]
  },
  {
   "cell_type": "code",
   "execution_count": null,
   "metadata": {},
   "outputs": [
    {
     "name": "stdout",
     "output_type": "stream",
     "text": [
      "ok\n",
      "ok\n",
      "Dataset({\n",
      "    features: ['input_ids', 'attention_mask', 'labels'],\n",
      "    num_rows: 800106\n",
      "})\n"
     ]
    }
   ],
   "source": [
    "batch_size = 64\n",
    "train_dataloader = preprocessing.create_dataloader(lm_dataset_bis[\"train\"],batch_size,data_collator)\n",
    "def to_device(batch):\n",
    "    return {key: value.to(device) for key, value in batch.items()}\n",
    "\n",
    "print(\"ok\")\n",
    "eval_dataloader = preprocessing.create_dataloader(eval_dataset,batch_size,default_data_collator)\n",
    "valid_dataloader=preprocessing.create_dataloader(valid_dataset,batch_size,default_data_collator)\n",
    "print(\"ok\")\n",
    "\n",
    "#for batch in train_dataloader:\n",
    "    #batch = to_device(batch)\n",
    "\n",
    "#for batch in eval_dataloader:\n",
    "    #batch = to_device(batch)\n",
    "\n",
    "\n",
    "\n",
    "\n",
    "print(eval_dataloader.dataset)"
   ]
  },
  {
   "cell_type": "code",
   "execution_count": 15,
   "metadata": {},
   "outputs": [],
   "source": [
    "from transformers import PreTrainedTokenizerFast\n",
    "\n",
    "swerick_tokenizer= PreTrainedTokenizerFast(\n",
    "    tokenizer_file=\"/home/laurinemeier/swerick/pretraining_from_scratch/tokenizer_swerick.json\",\n",
    "    unk_token=\"[UNK]\",\n",
    "    pad_token=\"[PAD]\",\n",
    "    cls_token=\"[CLS]\",\n",
    "    sep_token=\"[SEP]\",\n",
    "    mask_token=\"[MASK]\"\n",
    ")"
   ]
  },
  {
   "cell_type": "code",
   "execution_count": 25,
   "metadata": {},
   "outputs": [
    {
     "name": "stderr",
     "output_type": "stream",
     "text": [
      "/home/laurinemeier/.cache/huggingface/modules/transformers_modules/checkpoint-2419094/bert_layers.py:177: UserWarning: Unable to import Triton; defaulting MosaicBERT attention implementation to pytorch (this will reduce throughput when using this model).\n",
      "  warnings.warn(\n"
     ]
    }
   ],
   "source": [
    "import transformers\n",
    "config = transformers.BertConfig.from_pretrained(\"pretraining_from_scratch/checkpoint-2419094\")\n",
    "mosaicBert = AutoModelForMaskedLM.from_pretrained(\"pretraining_from_scratch/checkpoint-2419094\",config=config,trust_remote_code=True)"
   ]
  },
  {
   "cell_type": "code",
   "execution_count": 65,
   "metadata": {},
   "outputs": [
    {
     "data": {
      "text/plain": [
       "[{'score': 0.051451172679662704,\n",
       "  'token': 2550,\n",
       "  'token_str': 'Johansson',\n",
       "  'sequence': 'Hey Johansson'},\n",
       " {'score': 0.036675550043582916,\n",
       "  'token': 7826,\n",
       "  'token_str': 'Ekman',\n",
       "  'sequence': 'Hey Ekman'},\n",
       " {'score': 0.024931393563747406,\n",
       "  'token': 10683,\n",
       "  'token_str': 'Gustafson',\n",
       "  'sequence': 'Hey Gustafson'},\n",
       " {'score': 0.020839007571339607,\n",
       "  'token': 1458,\n",
       "  'token_str': 'Stockholm',\n",
       "  'sequence': 'Hey Stockholm'},\n",
       " {'score': 0.013345717452466488,\n",
       "  'token': 34491,\n",
       "  'token_str': 'Vällingby',\n",
       "  'sequence': 'Hey Vällingby'}]"
      ]
     },
     "execution_count": 65,
     "metadata": {},
     "output_type": "execute_result"
    }
   ],
   "source": [
    "from transformers import pipeline\n",
    "pipe = pipeline(task=\"fill-mask\", model=mosaicBert, tokenizer=swerick_tokenizer)\n",
    "pipe(\"Hey [MASK]\")"
   ]
  },
  {
   "cell_type": "code",
   "execution_count": 16,
   "metadata": {},
   "outputs": [],
   "source": [
    "model_hugging_face = AutoModelForMaskedLM.from_pretrained(\"finetuning_hugging_whitespace_lr-finetuned-imdb/checkpoint-1030500\")\n",
    "model_hugging_face=model_hugging_face.to(device)"
   ]
  },
  {
   "cell_type": "code",
   "execution_count": 1,
   "metadata": {},
   "outputs": [
    {
     "ename": "NameError",
     "evalue": "name 'AutoModelForMaskedLM' is not defined",
     "output_type": "error",
     "traceback": [
      "\u001b[0;31m---------------------------------------------------------------------------\u001b[0m",
      "\u001b[0;31mNameError\u001b[0m                                 Traceback (most recent call last)",
      "Cell \u001b[0;32mIn[1], line 1\u001b[0m\n\u001b[0;32m----> 1\u001b[0m model_hugging_face2 \u001b[38;5;241m=\u001b[39m \u001b[43mAutoModelForMaskedLM\u001b[49m\u001b[38;5;241m.\u001b[39mfrom_pretrained(\u001b[38;5;124m\"\u001b[39m\u001b[38;5;124mfinetuning/finetuning_hugging_whitespace_bis-finetuned-imdb/checkpoint-400750\u001b[39m\u001b[38;5;124m\"\u001b[39m)\n\u001b[1;32m      2\u001b[0m model_hugging_face2\u001b[38;5;241m=\u001b[39mmodel_hugging_face2\u001b[38;5;241m.\u001b[39mto(device)\n",
      "\u001b[0;31mNameError\u001b[0m: name 'AutoModelForMaskedLM' is not defined"
     ]
    }
   ],
   "source": [
    "model_hugging_face2 = AutoModelForMaskedLM.from_pretrained(\"finetuning/finetuning_hugging_whitespace_bis-finetuned-imdb/checkpoint-400750\")\n",
    "model_hugging_face2=model_hugging_face2.to(device)"
   ]
  },
  {
   "cell_type": "code",
   "execution_count": 13,
   "metadata": {},
   "outputs": [
    {
     "name": "stderr",
     "output_type": "stream",
     "text": [
      "Some weights of the model checkpoint at KBLab/bert-base-swedish-cased were not used when initializing BertForMaskedLM: ['bert.pooler.dense.bias', 'bert.pooler.dense.weight']\n",
      "- This IS expected if you are initializing BertForMaskedLM from the checkpoint of a model trained on another task or with another architecture (e.g. initializing a BertForSequenceClassification model from a BertForPreTraining model).\n",
      "- This IS NOT expected if you are initializing BertForMaskedLM from the checkpoint of a model that you expect to be exactly identical (initializing a BertForSequenceClassification model from a BertForSequenceClassification model).\n"
     ]
    },
    {
     "name": "stdout",
     "output_type": "stream",
     "text": [
      "BertForMaskedLM(\n",
      "  (bert): BertModel(\n",
      "    (embeddings): BertEmbeddings(\n",
      "      (word_embeddings): Embedding(51955, 768)\n",
      "      (position_embeddings): Embedding(512, 768)\n",
      "      (token_type_embeddings): Embedding(2, 768)\n",
      "      (LayerNorm): LayerNorm((768,), eps=1e-12, elementwise_affine=True)\n",
      "      (dropout): Dropout(p=0.1, inplace=False)\n",
      "    )\n",
      "    (encoder): BertEncoder(\n",
      "      (layer): ModuleList(\n",
      "        (0-11): 12 x BertLayer(\n",
      "          (attention): BertAttention(\n",
      "            (self): BertSelfAttention(\n",
      "              (query): Linear(in_features=768, out_features=768, bias=True)\n",
      "              (key): Linear(in_features=768, out_features=768, bias=True)\n",
      "              (value): Linear(in_features=768, out_features=768, bias=True)\n",
      "              (dropout): Dropout(p=0.1, inplace=False)\n",
      "            )\n",
      "            (output): BertSelfOutput(\n",
      "              (dense): Linear(in_features=768, out_features=768, bias=True)\n",
      "              (LayerNorm): LayerNorm((768,), eps=1e-12, elementwise_affine=True)\n",
      "              (dropout): Dropout(p=0.1, inplace=False)\n",
      "            )\n",
      "          )\n",
      "          (intermediate): BertIntermediate(\n",
      "            (dense): Linear(in_features=768, out_features=3072, bias=True)\n",
      "            (intermediate_act_fn): GELUActivation()\n",
      "          )\n",
      "          (output): BertOutput(\n",
      "            (dense): Linear(in_features=3072, out_features=768, bias=True)\n",
      "            (LayerNorm): LayerNorm((768,), eps=1e-12, elementwise_affine=True)\n",
      "            (dropout): Dropout(p=0.1, inplace=False)\n",
      "          )\n",
      "        )\n",
      "      )\n",
      "    )\n",
      "  )\n",
      "  (cls): BertOnlyMLMHead(\n",
      "    (predictions): BertLMPredictionHead(\n",
      "      (transform): BertPredictionHeadTransform(\n",
      "        (dense): Linear(in_features=768, out_features=768, bias=True)\n",
      "        (transform_act_fn): GELUActivation()\n",
      "        (LayerNorm): LayerNorm((768,), eps=1e-12, elementwise_affine=True)\n",
      "      )\n",
      "      (decoder): Linear(in_features=768, out_features=51955, bias=True)\n",
      "    )\n",
      "  )\n",
      ")\n"
     ]
    }
   ],
   "source": [
    "model_exbert_new = AutoModelForMaskedLM.from_pretrained(model_checkpoint) \n",
    "model_exbert_new.resize_token_embeddings(len(exbert_tokenizer)) \n",
    "model_exbert_new = model_exbert_new.to(\"cpu\")\n",
    "print(model_exbert_new)"
   ]
  },
  {
   "cell_type": "code",
   "execution_count": 37,
   "metadata": {},
   "outputs": [
    {
     "name": "stdout",
     "output_type": "stream",
     "text": [
      "BertForMaskedLM(\n",
      "  (bert): BertModel(\n",
      "    (embeddings): BertEmbeddings(\n",
      "      (word_embeddings): Embedding(51955, 768, padding_idx=0)\n",
      "      (position_embeddings): Embedding(512, 768)\n",
      "      (token_type_embeddings): Embedding(2, 768)\n",
      "      (LayerNorm): LayerNorm((768,), eps=1e-12, elementwise_affine=True)\n",
      "      (dropout): Dropout(p=0.1, inplace=False)\n",
      "    )\n",
      "    (encoder): BertEncoder(\n",
      "      (layer): ModuleList(\n",
      "        (0-11): 12 x BertLayer(\n",
      "          (attention): BertAttention(\n",
      "            (self): BertSelfAttention(\n",
      "              (query): Linear(in_features=768, out_features=768, bias=True)\n",
      "              (key): Linear(in_features=768, out_features=768, bias=True)\n",
      "              (value): Linear(in_features=768, out_features=768, bias=True)\n",
      "              (dropout): Dropout(p=0.1, inplace=False)\n",
      "            )\n",
      "            (output): BertSelfOutput(\n",
      "              (dense): Linear(in_features=768, out_features=768, bias=True)\n",
      "              (LayerNorm): LayerNorm((768,), eps=1e-12, elementwise_affine=True)\n",
      "              (dropout): Dropout(p=0.1, inplace=False)\n",
      "            )\n",
      "          )\n",
      "          (intermediate): BertIntermediate(\n",
      "            (dense): Linear(in_features=768, out_features=3072, bias=True)\n",
      "            (intermediate_act_fn): GELUActivation()\n",
      "          )\n",
      "          (output): BertOutput(\n",
      "            (dense): Linear(in_features=3072, out_features=768, bias=True)\n",
      "            (LayerNorm): LayerNorm((768,), eps=1e-12, elementwise_affine=True)\n",
      "            (dropout): Dropout(p=0.1, inplace=False)\n",
      "          )\n",
      "        )\n",
      "      )\n",
      "    )\n",
      "  )\n",
      "  (cls): BertOnlyMLMHead(\n",
      "    (predictions): BertLMPredictionHead(\n",
      "      (transform): BertPredictionHeadTransform(\n",
      "        (dense): Linear(in_features=768, out_features=768, bias=True)\n",
      "        (transform_act_fn): GELUActivation()\n",
      "        (LayerNorm): LayerNorm((768,), eps=1e-12, elementwise_affine=True)\n",
      "      )\n",
      "      (decoder): Linear(in_features=768, out_features=51955, bias=True)\n",
      "    )\n",
      "  )\n",
      ")\n"
     ]
    }
   ],
   "source": [
    "model_exbert = AutoModelForMaskedLM.from_pretrained(\"exbert-finetuned-imdb/checkpoint-1271340\")\n",
    "model_exbert =model_exbert.to(device)\n",
    "print(model_exbert)"
   ]
  },
  {
   "cell_type": "code",
   "execution_count": 25,
   "metadata": {},
   "outputs": [],
   "source": [
    "valid_data = preprocessing.chunk_and_pad(valid_dataset_initial[\"valid\"],swerick_tokenizer,128)\n"
   ]
  },
  {
   "cell_type": "code",
   "execution_count": 26,
   "metadata": {},
   "outputs": [
    {
     "data": {
      "text/plain": [
       "Dataset({\n",
       "    features: ['input_ids', 'attention_mask', 'labels', 'word_ids'],\n",
       "    num_rows: 708060\n",
       "})"
      ]
     },
     "execution_count": 26,
     "metadata": {},
     "output_type": "execute_result"
    }
   ],
   "source": [
    "valid_data = Dataset.from_dict(valid_data)\n",
    "valid_data"
   ]
  },
  {
   "cell_type": "code",
   "execution_count": 27,
   "metadata": {},
   "outputs": [],
   "source": [
    "with open(\"valid_scratch.pkl\",\"wb\") as f :\n",
    "    pickle.dump(valid_data,f)"
   ]
  },
  {
   "cell_type": "code",
   "execution_count": 7,
   "metadata": {},
   "outputs": [
    {
     "data": {
      "text/plain": [
       "Dataset({\n",
       "    features: ['input_ids', 'attention_mask', 'labels', 'word_ids'],\n",
       "    num_rows: 708060\n",
       "})"
      ]
     },
     "execution_count": 7,
     "metadata": {},
     "output_type": "execute_result"
    }
   ],
   "source": [
    "with open(\"valid_scratch.pkl\",\"rb\") as f :\n",
    "    valid_data = pickle.load(f)\n",
    "    \n",
    "valid_data"
   ]
  },
  {
   "cell_type": "code",
   "execution_count": 36,
   "metadata": {},
   "outputs": [
    {
     "name": "stderr",
     "output_type": "stream",
     "text": [
      "Map: 100%|██████████| 706758/706758 [02:28<00:00, 4753.01 examples/s]\n"
     ]
    }
   ],
   "source": [
    "data_collector =preprocessing.data_collector_masking(swerick_tokenizer,0.15)\n",
    "valid_data = valid_data.remove_columns([\"word_ids\",\"token_type_ids\"])\n",
    "valid_scratch_loader =preprocessing.create_deterministic_eval_dataset(valid_data[\"valid\"],data_collator)\n",
    "valid_scratch_loader =preprocessing.create_dataloader(valid_scratch_loader,64,default_data_collator)"
   ]
  },
  {
   "cell_type": "code",
   "execution_count": 38,
   "metadata": {},
   "outputs": [
    {
     "name": "stdout",
     "output_type": "stream",
     "text": [
      "Trainer evaluation....\n",
      "Manual perplexity...\n",
      " Perplexity: 2.615009290093024\n",
      "Accuracy...\n",
      "Accuracy: 0.777489566547581\n"
     ]
    }
   ],
   "source": [
    "from evaluation import evaluation_task\n",
    "\n",
    "#evaluation_task(model_kb,valid_scratch_loader,\"finetuning_hugging_whitespace-finetuned-imdb/checkpoint-4179250\")\n",
    "#evaluation_task(model_hugging_face,valid_dataloader,\"finetuning_hugging_whitespace-finetuned-imdb/checkpoint-4179250\")\n",
    "evaluation_task(model_exbert,valid_dataloader_exbert,\" \")"
   ]
  },
  {
   "cell_type": "code",
   "execution_count": 21,
   "metadata": {},
   "outputs": [
    {
     "data": {
      "image/png": "[encoded data removed]",
      "text/plain": [
       "<Figure size 1000x500 with 1 Axes>"
      ]
     },
     "metadata": {},
     "output_type": "display_data"
    }
   ],
   "source": [
    "import json\n",
    "import matplotlib.pyplot as plt\n",
    "\n",
    "# Charger les données à partir du fichier JSON\n",
    "with open(\"finetuning/finetuning_hugging_whitespace-finetuned-imdb/checkpoint-5667750/trainer_state.json\",'r') as file :\n",
    "    data_prev=json.load(file)\n",
    "\n",
    "with open(\"exbert-finetuned-imdb/checkpoint-1271340/trainer_state.json\", 'r') as file:\n",
    "    data = json.load(file)\n",
    "\n",
    "\n",
    "eval_loss = []\n",
    "epoch_test=[]\n",
    "train_loss=[]\n",
    "train_epoch=[]\n",
    "# for entry in data_prev['log_history']:\n",
    "#     if 'loss' in entry:\n",
    "#         train_loss.append(entry['loss'])\n",
    "#         train_epoch.append((entry['epoch']))\n",
    "#     if 'eval_loss' in entry:\n",
    "#         eval_loss.append(entry['eval_loss'])\n",
    "#         epoch_test.append((entry['epoch']))\n",
    "        \n",
    "for entry in data['log_history']:\n",
    "    if 'loss' in entry:\n",
    "        train_loss.append(entry['loss'])\n",
    "        train_epoch.append((entry['epoch']))\n",
    "        \n",
    "    if 'eval_loss' in entry:\n",
    "        eval_loss.append(entry['eval_loss'])\n",
    "        epoch_test.append((entry['epoch']))\n",
    "        \n",
    "plt.figure(figsize=(10, 5))\n",
    "plt.plot(train_epoch, train_loss, label='training Loss', marker='o')\n",
    "plt.plot(epoch_test, eval_loss, label='Test Loss', marker='o')\n",
    "plt.title('test and training Loss over Epochs for Exbert')\n",
    "plt.xlabel('Epochs')\n",
    "plt.ylabel('Loss')\n",
    "plt.legend()\n",
    "plt.grid(True)\n",
    "plt.show()"
   ]
  },
  {
   "cell_type": "code",
   "execution_count": 5,
   "metadata": {},
   "outputs": [
    {
     "data": {
      "image/png": "[encoded data removed]",
      "text/plain": [
       "<Figure size 1000x500 with 1 Axes>"
      ]
     },
     "metadata": {},
     "output_type": "display_data"
    }
   ],
   "source": [
    "#Losses on test set for from scratch and finetuned set\n",
    "# \n",
    "import json\n",
    "import matplotlib.pyplot as plt\n",
    "\n",
    "# Charger les données à partir du fichier JSON\n",
    "with open(\"finetuning/finetuning_hugging_whitespace-finetuned-imdb/checkpoint-5667750/trainer_state.json\",'r') as file :\n",
    "    data_prev=json.load(file)\n",
    "\n",
    "with open(\"finetuning_hugging_whitespace_lr-finetuned-imdb/checkpoint-1030500/trainer_state.json\", 'r') as file:\n",
    "    data = json.load(file)\n",
    "\n",
    "with open(\"pretraining_from_scratch/checkpoint-2419094/trainer_state.json\",\"r\") as file :\n",
    "    scratch = json.load(file)\n",
    "eval_loss = []\n",
    "epoch_test=[]\n",
    "scratch_loss=[]\n",
    "scratch_epoch=[]\n",
    "for entry in data_prev['log_history']:\n",
    "    if 'eval_loss' in entry:\n",
    "        eval_loss.append(entry['eval_loss'])\n",
    "        epoch_test.append((entry['epoch']))\n",
    "        \n",
    "for entry in data['log_history']:\n",
    "    if 'eval_loss' in entry:\n",
    "        eval_loss.append(entry['eval_loss'])\n",
    "        epoch_test.append((entry['epoch']))\n",
    "        \n",
    "for entry in scratch['log_history']:\n",
    "    if 'eval_loss' in entry:\n",
    "        scratch_loss.append(entry['eval_loss'])\n",
    "        scratch_epoch.append((entry['epoch']))    \n",
    "\n",
    "plt.figure(figsize=(10, 5))\n",
    "plt.plot(scratch_epoch, scratch_loss, label='From Scratch Loss', marker='o')\n",
    "plt.plot(epoch_test, eval_loss, label='Finetunig Loss', marker='o')\n",
    "plt.title('From Scratch and finetuning test Loss over Epochs')\n",
    "plt.xlabel('Epochs')\n",
    "plt.ylabel('Loss')\n",
    "plt.legend()\n",
    "plt.grid(True)\n",
    "plt.show()"
   ]
  },
  {
   "cell_type": "code",
   "execution_count": 10,
   "metadata": {},
   "outputs": [
    {
     "data": {
      "image/png": "[encoded data removed]",
      "text/plain": [
       "<Figure size 1000x500 with 1 Axes>"
      ]
     },
     "metadata": {},
     "output_type": "display_data"
    },
    {
     "data": {
      "image/png": "[encoded data removed]",
      "text/plain": [
       "<Figure size 1000x500 with 1 Axes>"
      ]
     },
     "metadata": {},
     "output_type": "display_data"
    }
   ],
   "source": [
    "# Comparing perplexity nad accuracy on validation set for from scartch and fientuned model\n",
    "# \n",
    "perplexity_scratch=[20.7,4.67,3.59,3.51,3.46,3.40,3.37,3.32]\n",
    "accuracy_scratch =[60,67,71.2,71.6,71.9,72.1,72.3,72.6]\n",
    "scratch_epoch =[1,8,27,31,34,38,41,46]\n",
    "\n",
    "perplexity_finetuning=[9.86,3.03,2.96,2.90,2.76,2.745,2.70,2.59]\n",
    "accuracy_finetuning=[59,74.6,75.1,75.4,76,76.5,77.4,77.5]\n",
    "finetuning_epoch=[0,6,10,14,33,37,51,55]\n",
    "\n",
    "plt.figure(figsize=(10, 5))\n",
    "plt.plot(scratch_epoch, perplexity_scratch, label='From Scratch perplexity', marker='o')\n",
    "plt.plot(finetuning_epoch, perplexity_finetuning, label='Finetunig perplexity', marker='o')\n",
    "plt.title('From Scratch and finetuning perplexity on valid dataset over Epochs')\n",
    "plt.xlabel('Epochs')\n",
    "plt.ylabel('Loss')\n",
    "plt.legend()\n",
    "plt.grid(True)\n",
    "plt.show()\n",
    "\n",
    "plt.figure(figsize=(10, 5))\n",
    "plt.plot(scratch_epoch, accuracy_scratch, label='From Scratch accuracy', marker='o')\n",
    "plt.plot(finetuning_epoch, accuracy_finetuning, label='Finetunig accuracy', marker='o')\n",
    "plt.title('From Scratch and finetuning accuracy on valid dataset over Epochs')\n",
    "plt.xlabel('Epochs')\n",
    "plt.ylabel('Loss')\n",
    "plt.legend()\n",
    "plt.grid(True)\n",
    "plt.show()"
   ]
  },
  {
   "cell_type": "code",
   "execution_count": null,
   "metadata": {},
   "outputs": [],
   "source": [
    "# Obeserving training and test loss through epochs\n",
    "# \n",
    "with open(\"finetuning/finetuning_hugging_whitespace-finetuned-imdb/checkpoint-5667750/trainer_state.json\",'r') as file :\n",
    "    data_prev=json.load(file)\n",
    "\n",
    "with open(\"finetuning_hugging_whitespace_lr-finetuned-imdb/checkpoint-1030500/trainer_state.json\", 'r') as file:\n",
    "    data = json.load(file)\n",
    "\n",
    "train_loss = []\n",
    "eval_loss = []\n",
    "epoch_train = []\n",
    "epoch_test=[]\n",
    "\n",
    "for entry in data_prev['log_history']:\n",
    "    if 'loss' in entry:\n",
    "        train_loss.append(entry['loss'])\n",
    "        epoch_train.append((entry['epoch']))\n",
    "    elif 'eval_loss' in entry:\n",
    "        eval_loss.append(entry['eval_loss'])\n",
    "        epoch_test.append((entry['epoch']))\n",
    "        \n",
    "for entry in data['log_history']:\n",
    "    if 'loss' in entry:\n",
    "        train_loss.append(entry['loss'])\n",
    "        epoch_train.append((entry['epoch']))\n",
    "    elif 'eval_loss' in entry:\n",
    "        eval_loss.append(entry['eval_loss'])\n",
    "        epoch_test.append((entry['epoch']))\n",
    "\n",
    "plt.figure(figsize=(10, 5))\n",
    "plt.plot(epoch_train, train_loss, label='Training Loss', marker='o')\n",
    "plt.plot(epoch_test, eval_loss, label='Evaluation Loss', marker='o')\n",
    "plt.title('Training and Evaluation Loss over Epochs')\n",
    "plt.xlabel('Epochs')\n",
    "plt.ylabes')\n",
    "plt.legend()\n",
    "plt.grid(True)\n",
    "plt.show()"
   ]
  },
  {
   "cell_type": "code",
   "execution_count": 16,
   "metadata": {},
   "outputs": [
    {
     "data": {
      "image/png": "[encoded data removed]",
      "text/plain": [
       "<Figure size 1000x500 with 1 Axes>"
      ]
     },
     "metadata": {},
     "output_type": "display_data"
    },
    {
     "data": {
      "image/png": "[encoded data removed]",
      "text/plain": [
       "<Figure size 1000x500 with 1 Axes>"
      ]
     },
     "metadata": {},
     "output_type": "display_data"
    }
   ],
   "source": [
    "# studying the learning rate and grad norm of training\n",
    "\n",
    "import json\n",
    "import matplotlib.pyplot as plt\n",
    "\n",
    "# Charger les données à partir du fichier JSON\n",
    "with open(\"finetuning/finetuning_hugging_whitespace-finetuned-imdb/checkpoint-5667750/trainer_state.json\",'r') as file :\n",
    "    data_prev=json.load(file)\n",
    "\n",
    "with open(\"finetuning_hugging_whitespace_bis-finetuned-imdb/checkpoint-2061000/trainer_state.json\", 'r') as file:\n",
    "    data = json.load(file)\n",
    "\n",
    "learning_rate = []\n",
    "grad_norm= []\n",
    "epoch =[]\n",
    "\n",
    "for entry in data_prev['log_history']:\n",
    "    if 'loss' in entry:\n",
    "        learning_rate.append(entry['learning_rate'])\n",
    "        grad_norm.append((entry['grad_norm']))\n",
    "        epoch.append((entry['epoch']))\n",
    "   \n",
    "        \n",
    "for entry in data['log_history']:\n",
    "    if 'loss' in entry:\n",
    "        learning_rate.append(entry['learning_rate'])\n",
    "        grad_norm.append((entry['grad_norm']))\n",
    "        epoch.append((entry['epoch']))\n",
    "\n",
    "plt.figure(figsize=(10, 5))\n",
    "plt.plot(epoch, learning_rate, label='learning rate', marker='o')\n",
    "plt.title('Training learning rate over Epochs')\n",
    "plt.xlabel('Epochs')\n",
    "plt.ylabel('learning rate')\n",
    "plt.legend()\n",
    "plt.grid(True)\n",
    "plt.show()\n",
    "plt.figure(figsize=(10, 5))\n",
    "plt.plot(epoch, grad_norm, label='Evaluation Loss', marker='o')\n",
    "plt.title('Training  grad norm over Epochs')\n",
    "plt.xlabel('Epochs')\n",
    "plt.ylabel('grad norm')\n",
    "plt.legend()\n",
    "plt.grid(True)\n",
    "plt.show()\n"
   ]
  },
  {
   "cell_type": "code",
   "execution_count": 4,
   "metadata": {},
   "outputs": [
    {
     "data": {
      "image/png": "[encoded data removed]",
      "text/plain": [
       "<Figure size 1000x600 with 1 Axes>"
      ]
     },
     "metadata": {},
     "output_type": "display_data"
    },
    {
     "data": {
      "image/png": "[encoded data removed]",
      "text/plain": [
       "<Figure size 1000x600 with 1 Axes>"
      ]
     },
     "metadata": {},
     "output_type": "display_data"
    }
   ],
   "source": [
    "kb_loss=[3.05,2.13,1.69,1.41]\n",
    "ft_loss=[3.02,1.59,1.04,0.91]\n",
    "kb_r2=[0.802,0.858,0.89,0.78]\n",
    "ft_r2=[0.808,0.896,0.93,0.95]\n",
    "size=[100,200,500,1000]\n",
    "\n",
    "plt.figure(figsize=(10,6))\n",
    "plt.plot(size,kb_loss,label='KB-Loss',marker='o')\n",
    "plt.plot(size,ft_loss,label='ft-Loss',marker='o')\n",
    "plt.xlabel=('Size of training dataset')\n",
    "plt.ylabel=('Loss')\n",
    "plt.title('Loss of the finetuned model and KB bert fo the year regression over different size of  training dataset')\n",
    "plt.legend()\n",
    "plt.show()\n",
    "\n",
    "plt.figure(figsize=(10,6))\n",
    "plt.plot(size,kb_r2,label='KB-r2',marker='o')\n",
    "plt.plot(size,ft_r2,label='ft-r2',marker='o')\n",
    "plt.xlabel=('Size of training dataset')\n",
    "plt.ylabel=('R2')\n",
    "plt.title('R2 of the finetuned model and KB bert fo the year regression over different size of  training dataset')\n",
    "plt.legend()\n",
    "plt.show()"
   ]
  },
  {
   "cell_type": "code",
   "execution_count": null,
   "metadata": {},
   "outputs": [],
   "source": [
    "pad_token_id= tokenizer.pad_token_id\n",
    "sep_token_id = tokenizer.sep_token_id"
   ]
  },
  {
   "cell_type": "code",
   "execution_count": 45,
   "metadata": {},
   "outputs": [],
   "source": [
    "def evaluate_model_token(model,dataloader):\n",
    "    model.eval()\n",
    "    correct_pred=[]\n",
    "    incorrect_pred=[]\n",
    "\n",
    "    for batch in dataloader:\n",
    "        batch = {key: value.to(device) for key, value in batch.items()} \n",
    "        with torch.no_grad():\n",
    "            outputs=model(**batch)\n",
    "        predictions=torch.argmax(outputs.logits,dim=-1)\n",
    "        indices_tokens_masked = torch.nonzero(batch[\"labels\"] != -100, as_tuple=False)\n",
    "        correct_indices=[]\n",
    "        incorrect_indices=[]\n",
    "        for id,label in enumerate(batch[\"labels\"][indices_tokens_masked[:, 0], indices_tokens_masked[:, 1]]):\n",
    "            if label.item() == predictions[indices_tokens_masked[:, 0], indices_tokens_masked[:, 1]][id]:\n",
    "                correct_indices.append(id)\n",
    "            else :\n",
    "                incorrect_indices.append(id)\n",
    "        correct_pred.extend(batch['labels'][indices_tokens_masked[:, 0], indices_tokens_masked[:, 1]][correct_indices])\n",
    "        incorrect_pred.extend(batch['labels'][indices_tokens_masked[:, 0], indices_tokens_masked[:, 1]][incorrect_indices])\n",
    "\n",
    "    return correct_pred,incorrect_pred"
   ]
  },
  {
   "cell_type": "code",
   "execution_count": 39,
   "metadata": {},
   "outputs": [],
   "source": [
    "hugging_face_correct,hugging_face_incorrect = evaluate_model_token(model_hugging_face,valid_dataloader)"
   ]
  },
  {
   "cell_type": "code",
   "execution_count": 44,
   "metadata": {},
   "outputs": [
    {
     "data": {
      "text/plain": [
       "['+',\n",
       " '6',\n",
       " '«',\n",
       " '?',\n",
       " 'J',\n",
       " ',',\n",
       " 'å',\n",
       " 'y',\n",
       " 'ë',\n",
       " '$',\n",
       " 'E',\n",
       " 'k',\n",
       " 'U',\n",
       " 'á',\n",
       " \"'\",\n",
       " 'Y',\n",
       " 'f',\n",
       " 'w',\n",
       " '>',\n",
       " 'm',\n",
       " 'G',\n",
       " '_',\n",
       " '2',\n",
       " '&',\n",
       " 'O',\n",
       " 'n',\n",
       " 'i',\n",
       " 'ö',\n",
       " 'ä',\n",
       " 'I',\n",
       " '£',\n",
       " ':',\n",
       " '-',\n",
       " '.',\n",
       " 'd',\n",
       " 'D',\n",
       " '*',\n",
       " 'V',\n",
       " '[',\n",
       " ']',\n",
       " 'ç',\n",
       " 'A',\n",
       " 'Q',\n",
       " '!',\n",
       " 'l',\n",
       " 'K',\n",
       " 'é',\n",
       " 'h',\n",
       " 'q',\n",
       " 'à',\n",
       " 'b',\n",
       " 'T',\n",
       " 'P',\n",
       " 'c',\n",
       " 'N',\n",
       " '8',\n",
       " 'g',\n",
       " 'ü',\n",
       " '§',\n",
       " '%',\n",
       " 'L',\n",
       " 'Z',\n",
       " '=',\n",
       " 'r',\n",
       " '4',\n",
       " 'a',\n",
       " '\"',\n",
       " '#',\n",
       " '—',\n",
       " 'ã',\n",
       " ';',\n",
       " '1',\n",
       " 'W',\n",
       " 'S',\n",
       " 'É',\n",
       " 'M',\n",
       " 'H',\n",
       " 'R',\n",
       " ')',\n",
       " 'j',\n",
       " 'F',\n",
       " 'Ö',\n",
       " 'Ä',\n",
       " 'z',\n",
       " 'ø',\n",
       " '|',\n",
       " 'Å',\n",
       " '€',\n",
       " '(',\n",
       " 'è',\n",
       " 'x',\n",
       " '»',\n",
       " 'B',\n",
       " 's',\n",
       " '0',\n",
       " 'v',\n",
       " 'Ó',\n",
       " 't',\n",
       " '5',\n",
       " '<',\n",
       " 'ó',\n",
       " ' ',\n",
       " 'X',\n",
       " 'e',\n",
       " 'u',\n",
       " '9',\n",
       " '3',\n",
       " 'p',\n",
       " 'o',\n",
       " 'C',\n",
       " '/',\n",
       " '7']"
      ]
     },
     "execution_count": 44,
     "metadata": {},
     "output_type": "execute_result"
    }
   ],
   "source": [
    "hugging_face_incorrect_unique = list(set(hugging_face_incorrect))\n",
    "hugging_face_incorrect_unique\n"
   ]
  },
  {
   "cell_type": "code",
   "execution_count": 46,
   "metadata": {},
   "outputs": [],
   "source": [
    "hugging_correct,hugging_incorrect=evaluate_model_token(model_hugging_face,valid_dataloader)"
   ]
  },
  {
   "cell_type": "code",
   "execution_count": 53,
   "metadata": {},
   "outputs": [],
   "source": [
    "base_correct,base_incorrect=evaluate_model_token(model_kb,valid_dataloader)"
   ]
  },
  {
   "cell_type": "code",
   "execution_count": 54,
   "metadata": {},
   "outputs": [],
   "source": [
    "from collections import Counter\n",
    "def decoding_text(list):\n",
    "    counter = Counter(list)\n",
    "\n",
    "    # Trier les éléments par leur fréquence décroissante\n",
    "    sorted_numbers = sorted(counter.items(), key=lambda x: x[1], reverse=True)\n",
    "\n",
    "    # Extraire les chiffres triés\n",
    "    unique_sorted_numbers = [num for num, _ in sorted_numbers]\n",
    "\n",
    "    decoded_texts = []\n",
    "    for tensor in unique_sorted_numbers:\n",
    "        decoded_text = tokenizer.decode(tensor.item())\n",
    "        decoded_texts.append(decoded_text)\n",
    "    return decoded_texts"
   ]
  },
  {
   "cell_type": "code",
   "execution_count": 55,
   "metadata": {},
   "outputs": [],
   "source": [
    "decoded_base_correct = decoding_text(base_correct)\n",
    "decoded_hugging_correct = decoding_text(hugging_correct)"
   ]
  },
  {
   "cell_type": "code",
   "execution_count": 61,
   "metadata": {},
   "outputs": [
    {
     "name": "stdout",
     "output_type": "stream",
     "text": [
      "0.5899161482519455\n",
      "0.7792149671790606\n"
     ]
    }
   ],
   "source": [
    "print(len(decoded_base_correct)/(len(decoded_base_correct)+len(base_incorrect)))\n",
    "print(len(decoded_hugging_correct)/(len(decoded_hugging_correct)+len(hugging_incorrect)))"
   ]
  },
  {
   "cell_type": "code",
   "execution_count": 59,
   "metadata": {},
   "outputs": [
    {
     "name": "stdout",
     "output_type": "stream",
     "text": [
      "2078\n"
     ]
    },
    {
     "data": {
      "text/plain": [
       "['flät',\n",
       " '##oarer',\n",
       " 'FAST',\n",
       " '##tain',\n",
       " 'köttbullar',\n",
       " 'Stadens',\n",
       " '##omter',\n",
       " 'gled',\n",
       " 'Smart',\n",
       " 'Längd',\n",
       " '##vita',\n",
       " 'lättad',\n",
       " 'Up',\n",
       " 'sankt',\n",
       " '##smaskin',\n",
       " '##etecken',\n",
       " 'Eget',\n",
       " '##stjärnor',\n",
       " '##icers',\n",
       " '##bero',\n",
       " '##IER',\n",
       " '##alom',\n",
       " '##frusna',\n",
       " '##butik',\n",
       " 'invester',\n",
       " 'avsiktligt',\n",
       " '##ANN',\n",
       " 'Europat',\n",
       " 'Måndag',\n",
       " 'vandringen',\n",
       " 'that',\n",
       " 'Örgryte',\n",
       " '##ändskt',\n",
       " 'Alex',\n",
       " 'nybyggt',\n",
       " '##växel',\n",
       " '##aton',\n",
       " 'Burton',\n",
       " '##YK',\n",
       " '##ugget',\n",
       " '##artan',\n",
       " 'östern',\n",
       " 'Globen',\n",
       " 'Mood',\n",
       " '##ward',\n",
       " 'avveck',\n",
       " '##ales',\n",
       " '##avd',\n",
       " '##såsen',\n",
       " '##miral',\n",
       " 'grytan',\n",
       " 'vänskapen',\n",
       " '##harmon',\n",
       " '##ssäsongen',\n",
       " '##embl',\n",
       " 'Raf',\n",
       " 'Stein',\n",
       " 'avhandlingen',\n",
       " 'uppn',\n",
       " 'musikdirektör',\n",
       " '##ografier',\n",
       " 'trampade',\n",
       " '##less',\n",
       " 'Cirk',\n",
       " '##igan',\n",
       " '##127',\n",
       " '##oplan',\n",
       " 'Teresa',\n",
       " '##ipa',\n",
       " 'skotten',\n",
       " 'sun',\n",
       " 'mästar',\n",
       " '##sutställningen',\n",
       " 'Emilia',\n",
       " 'Österb',\n",
       " '##ävlan',\n",
       " '##skiv',\n",
       " '668',\n",
       " 'uppen',\n",
       " '##merna',\n",
       " 'gamm',\n",
       " '##rukna',\n",
       " '##lekar',\n",
       " '##gnost',\n",
       " '##oning',\n",
       " '786',\n",
       " '##provinsen',\n",
       " '749',\n",
       " 'Hopkins',\n",
       " 'GL',\n",
       " '##RF',\n",
       " 'grädd',\n",
       " 'Ambul',\n",
       " '##ätare',\n",
       " '##fönster',\n",
       " '##uvan',\n",
       " '##löpande',\n",
       " '##utex',\n",
       " '##flöj',\n",
       " 'Järvs',\n",
       " 'publikt',\n",
       " '##hett',\n",
       " 'Augusta',\n",
       " '##köttet',\n",
       " 'enl',\n",
       " 'korsar',\n",
       " 'frodas',\n",
       " 'baken',\n",
       " 'Rust',\n",
       " 'egenhändigt',\n",
       " '050',\n",
       " '##sökte',\n",
       " 'motgång',\n",
       " 'Wret',\n",
       " '##moln',\n",
       " 'deporter',\n",
       " '##spänning',\n",
       " 'nyöpp',\n",
       " '##amet',\n",
       " '##ungan',\n",
       " 'Cec',\n",
       " 'ugg',\n",
       " '##sholmen',\n",
       " 'jättelika',\n",
       " '##cia',\n",
       " 'övergiven',\n",
       " 'svängarna',\n",
       " 'Chans',\n",
       " '##66',\n",
       " '##sborgs',\n",
       " '##artor',\n",
       " '##eci',\n",
       " 'tab',\n",
       " '##unch',\n",
       " 'samlare',\n",
       " '709',\n",
       " 'Wes',\n",
       " 'Monta',\n",
       " '##skaja',\n",
       " '##ynes',\n",
       " 'Endre',\n",
       " '##sven',\n",
       " '##glöm',\n",
       " 'arbet',\n",
       " 'käng',\n",
       " '##ÖK',\n",
       " 'Wen',\n",
       " 'Petit',\n",
       " 'mv',\n",
       " '##85',\n",
       " '##analysen',\n",
       " 'tjuvarna',\n",
       " '##haus',\n",
       " 'Tell',\n",
       " '##rakten',\n",
       " 'efterträda',\n",
       " 'foton',\n",
       " '##sprin',\n",
       " '##skylt',\n",
       " 'Clar',\n",
       " 'angel',\n",
       " 'astrona',\n",
       " '##reation',\n",
       " '##attar',\n",
       " 'Rydell',\n",
       " 'Kostar',\n",
       " '##nick',\n",
       " 'Nordqvist',\n",
       " '##ktis',\n",
       " 'Hirsch',\n",
       " 'egyptiska',\n",
       " 'Bonniers',\n",
       " 'galen',\n",
       " '##edöm',\n",
       " '##ologerna',\n",
       " '##italet',\n",
       " '##lagor',\n",
       " '##ussar',\n",
       " '##ADE',\n",
       " 'illustrationer',\n",
       " 'förkn',\n",
       " 'Aut',\n",
       " '##jten',\n",
       " 'Tf',\n",
       " 'tha',\n",
       " '##mir',\n",
       " 'Klipp',\n",
       " 'Said',\n",
       " 'Kro',\n",
       " '##ther',\n",
       " 'Matts',\n",
       " '##more',\n",
       " 'Gere',\n",
       " '##hjulet',\n",
       " 'Reyn',\n",
       " 'Eskilst',\n",
       " 'Philadelphia',\n",
       " 'klostret',\n",
       " '##järna',\n",
       " 'Ander',\n",
       " '##makaren',\n",
       " 'Friday',\n",
       " '##hos',\n",
       " 'äkten',\n",
       " 'Orm',\n",
       " '##nette',\n",
       " 'krigar',\n",
       " 'knän',\n",
       " '755',\n",
       " 'välplanerade',\n",
       " 'Db',\n",
       " '##skontakt',\n",
       " 'krama',\n",
       " 'misstänktes',\n",
       " 'Peters',\n",
       " '##kvällen',\n",
       " 'Stephen',\n",
       " 'kvarstod',\n",
       " '##rädgården',\n",
       " 'ingivas',\n",
       " '##ässan',\n",
       " 'daghemmet',\n",
       " '##rockar',\n",
       " '##ION',\n",
       " '##artjänsten',\n",
       " '##cirkel',\n",
       " 'backarna',\n",
       " 'Chansen',\n",
       " 'protestantiska',\n",
       " 'soul',\n",
       " 'AIK',\n",
       " 'made',\n",
       " '##fester',\n",
       " '##Sk',\n",
       " 'Valborg',\n",
       " '##minen',\n",
       " '##sgar',\n",
       " '##räffande',\n",
       " 'Vit',\n",
       " '##52',\n",
       " '##ofog',\n",
       " 'lättskött',\n",
       " '757',\n",
       " '##yrkom',\n",
       " 'Alexis',\n",
       " 'puff',\n",
       " 'insänd',\n",
       " 'Lang',\n",
       " 'hektiska',\n",
       " '##IEN',\n",
       " 'kista',\n",
       " '##ÅR',\n",
       " 'bister',\n",
       " '##saft',\n",
       " '##anch',\n",
       " '##smästaren',\n",
       " '##ippen',\n",
       " 'intermezz',\n",
       " 'tjugofem',\n",
       " 'aw',\n",
       " '##smatch',\n",
       " 'bokstä',\n",
       " 'Hedem',\n",
       " '##ankt',\n",
       " 'torra',\n",
       " '##ublic',\n",
       " 'lagets',\n",
       " 'BEK',\n",
       " 'brittiskt',\n",
       " '##ertig',\n",
       " 'Förresten',\n",
       " 'tav',\n",
       " '##estation',\n",
       " '##aså',\n",
       " '##icia',\n",
       " 'irländ',\n",
       " '##värr',\n",
       " 'Smör',\n",
       " '##edrag',\n",
       " 'bortglömda',\n",
       " 'administ',\n",
       " '##bloms',\n",
       " 'nedanstående',\n",
       " '##eley',\n",
       " '##åkare',\n",
       " 'käns',\n",
       " '##jerg',\n",
       " '##bbats',\n",
       " 'doc',\n",
       " 'formuleras',\n",
       " '##ronic',\n",
       " 'Google',\n",
       " 'font',\n",
       " '##leverantör',\n",
       " '##stadt',\n",
       " 'envis',\n",
       " '##agat',\n",
       " 'Bean',\n",
       " '##finnas',\n",
       " 'reag',\n",
       " 'aman',\n",
       " '##andagen',\n",
       " 'Palmer',\n",
       " 'braskamin',\n",
       " 'lår',\n",
       " 'befordrades',\n",
       " '##sker',\n",
       " '##eled',\n",
       " '##EET',\n",
       " '##ollar',\n",
       " 'Silv',\n",
       " '##ornet',\n",
       " '##sutställningar',\n",
       " 'Barcelona',\n",
       " 'kyr',\n",
       " '##hålet',\n",
       " 'Stenson',\n",
       " 'Takt',\n",
       " 'Freeman',\n",
       " 'Hallström',\n",
       " '##ÅNG',\n",
       " 'Cop',\n",
       " 'Ping',\n",
       " '##igenom',\n",
       " '##anas',\n",
       " 'andades',\n",
       " '##ifik',\n",
       " 'People',\n",
       " '##uel',\n",
       " '##öjt',\n",
       " 'Stenbeck',\n",
       " '##itteringen',\n",
       " 'tillbehör',\n",
       " '##skara',\n",
       " 'fle',\n",
       " 'Pool',\n",
       " '##eig',\n",
       " 'BAK',\n",
       " '##smiljön',\n",
       " 'Maja',\n",
       " 'Limhamn',\n",
       " 'Palmgren',\n",
       " '##fisken',\n",
       " 'äkt',\n",
       " 'Jes',\n",
       " 'sjunk',\n",
       " 'Corp',\n",
       " '##skommunikation',\n",
       " '##yle',\n",
       " 'Solv',\n",
       " '##ogie',\n",
       " '##östra',\n",
       " 'Kronprinsessan',\n",
       " 'Filmen',\n",
       " '##karlen',\n",
       " '##amo',\n",
       " 'skakande',\n",
       " 'tyget',\n",
       " '##ucka',\n",
       " 'katoliker',\n",
       " '##198',\n",
       " '##itos',\n",
       " 'häd',\n",
       " '##useets',\n",
       " 'Hew',\n",
       " '##rond',\n",
       " '##åverkan',\n",
       " '##imerat',\n",
       " '##repren',\n",
       " 'Eneby',\n",
       " 'präktig',\n",
       " '##eker',\n",
       " '##ures',\n",
       " 'plattan',\n",
       " '712',\n",
       " '##ÖS',\n",
       " '##plattor',\n",
       " 'Grat',\n",
       " '##rader',\n",
       " '##ettes',\n",
       " 'Ps',\n",
       " '##179',\n",
       " 'Tåget',\n",
       " '##ioter',\n",
       " '##spis',\n",
       " 'Rivière',\n",
       " 'Ces',\n",
       " 'Dana',\n",
       " 'Ond',\n",
       " 'barnvänligt',\n",
       " '##stidningen',\n",
       " 'Bjerk',\n",
       " 'Sat',\n",
       " '##iren',\n",
       " 'Osa',\n",
       " 'karri',\n",
       " 'försvunnen',\n",
       " '##ember',\n",
       " 'Häcken',\n",
       " '##uddar',\n",
       " '##olika',\n",
       " 'Fridhem',\n",
       " 'påpek',\n",
       " '##vänder',\n",
       " '##sleden',\n",
       " 'tillträd',\n",
       " '##lir',\n",
       " '##ejo',\n",
       " 'Lönneberga',\n",
       " '##ansök',\n",
       " '##andar',\n",
       " 'Out',\n",
       " 'Mort',\n",
       " '##iansen',\n",
       " '##liss',\n",
       " 'Häl',\n",
       " 'sekunden',\n",
       " '##talien',\n",
       " '##någ',\n",
       " '##lay',\n",
       " '##NING',\n",
       " 'EFTER',\n",
       " '##zzo',\n",
       " '##akes',\n",
       " 'Ladd',\n",
       " '##ply',\n",
       " '##veriet',\n",
       " 'uppsatser',\n",
       " 'Hipp',\n",
       " '##skytt',\n",
       " 'Hud',\n",
       " 'djär',\n",
       " '##ville',\n",
       " '##skjuten',\n",
       " 'vap',\n",
       " 'Beat',\n",
       " 'Skicka',\n",
       " 'Jones',\n",
       " '##gäst',\n",
       " '##lum',\n",
       " 'Snäll',\n",
       " 'Lagerbäck',\n",
       " 'Tjugo',\n",
       " '##43',\n",
       " 'Corn',\n",
       " 'Anläggningen',\n",
       " 'Stellan',\n",
       " '##Ne',\n",
       " '##spur',\n",
       " '##mart',\n",
       " 'Fart',\n",
       " '##segling',\n",
       " 'Dell',\n",
       " 'Bremen',\n",
       " '##150',\n",
       " '##aug',\n",
       " '##hyllor',\n",
       " '##steater',\n",
       " '##järt',\n",
       " '##svall',\n",
       " 'tänd',\n",
       " 'skutt',\n",
       " 'italienare',\n",
       " 'Kurserna',\n",
       " 'Hyre',\n",
       " 'välkom',\n",
       " '##ove',\n",
       " '##haw',\n",
       " 'kick',\n",
       " 'Argent',\n",
       " '##sfallet',\n",
       " 'Bent',\n",
       " '##rass',\n",
       " 'tredjepar',\n",
       " 'Ou',\n",
       " 'summerar',\n",
       " '##giro',\n",
       " '##lipper',\n",
       " '##lish',\n",
       " '##ardin',\n",
       " 'vetemjöl',\n",
       " '724',\n",
       " 'massage',\n",
       " '##umb',\n",
       " 'omdiskuterade',\n",
       " 'Kaf',\n",
       " '##emoni',\n",
       " 'rodd',\n",
       " 'ML',\n",
       " '##antas',\n",
       " '##geln',\n",
       " '##iaden',\n",
       " '##holt',\n",
       " '##128',\n",
       " '##Marie',\n",
       " '##musiker',\n",
       " '##grenska',\n",
       " 'Mimi',\n",
       " '##mässa',\n",
       " '##skyddade',\n",
       " 'månadskostnad',\n",
       " 'lagas',\n",
       " 'befint',\n",
       " '##ative',\n",
       " 'Dubb',\n",
       " '##producent',\n",
       " 'Nicar',\n",
       " 'olag',\n",
       " 'VÄST',\n",
       " 'handpenning',\n",
       " 'bätt',\n",
       " '##Ü',\n",
       " '##sponden',\n",
       " 'put',\n",
       " '##eper',\n",
       " 'Contin',\n",
       " 'illustr',\n",
       " 'arb',\n",
       " '##alagen',\n",
       " 'Reb',\n",
       " '##infar',\n",
       " 'Mild',\n",
       " 'Bomb',\n",
       " 'maskerad',\n",
       " 'lekfull',\n",
       " '##sbär',\n",
       " '##hol',\n",
       " '##atel',\n",
       " '##enc',\n",
       " '##arek',\n",
       " 'Jok',\n",
       " '##administrativa',\n",
       " 'express',\n",
       " '##efer',\n",
       " '##OCK',\n",
       " 'Zamb',\n",
       " 'Fut',\n",
       " 'Lap',\n",
       " 'förkunskaper',\n",
       " 'koma',\n",
       " 'Lennartsson',\n",
       " '##61',\n",
       " 'MODER',\n",
       " '##erman',\n",
       " 'soft',\n",
       " 'hits',\n",
       " 'spricker',\n",
       " '##säcken',\n",
       " '##emellan',\n",
       " 'Eger',\n",
       " '##orge',\n",
       " '##ningskort',\n",
       " 'motvind',\n",
       " 'livssyn',\n",
       " 'INGEN',\n",
       " 'Kerr',\n",
       " '##176',\n",
       " 'byrås',\n",
       " '##ivan',\n",
       " 'återfanns',\n",
       " 'ubåten',\n",
       " 'omöj',\n",
       " '##boden',\n",
       " '##RING',\n",
       " 'jubil',\n",
       " 'Lug',\n",
       " 'Mey',\n",
       " 'Dix',\n",
       " '##ulo',\n",
       " '##ustens',\n",
       " '##ATA',\n",
       " '##ylvan',\n",
       " 'Vågar',\n",
       " 'Toronto',\n",
       " 'Söndagar',\n",
       " '##onerande',\n",
       " '##skod',\n",
       " '##bytare',\n",
       " 'Södert',\n",
       " 'Jylland',\n",
       " '##burn',\n",
       " '##atu',\n",
       " '##OP',\n",
       " '##illo',\n",
       " 'avbröt',\n",
       " 'Wass',\n",
       " '##götlands',\n",
       " 'skärmen',\n",
       " 'sw',\n",
       " 'à',\n",
       " '##ugården',\n",
       " '##smottag',\n",
       " '##histor',\n",
       " '##deman',\n",
       " '##701',\n",
       " '##kamraten',\n",
       " '##111',\n",
       " '##klund',\n",
       " '##frik',\n",
       " '617',\n",
       " 'Mak',\n",
       " '##kir',\n",
       " '##ruvorna',\n",
       " 'Sura',\n",
       " 'Greg',\n",
       " 'Milles',\n",
       " 'Rus',\n",
       " '##oil',\n",
       " 'Vett',\n",
       " '##estra',\n",
       " '##SKOL',\n",
       " '##183',\n",
       " 'Hedvig',\n",
       " '595',\n",
       " 'FBI',\n",
       " 'segt',\n",
       " '##isto',\n",
       " 'rådgiv',\n",
       " '##pelet',\n",
       " '##samhäll',\n",
       " '##gärderna',\n",
       " 'musklerna',\n",
       " '##ierark',\n",
       " 'skålar',\n",
       " '##uvud',\n",
       " 'Long',\n",
       " '##ungarna',\n",
       " 'estetiskt',\n",
       " '##brö',\n",
       " 'Wag',\n",
       " '##bjudna',\n",
       " '##äckar',\n",
       " 'ÅLDER',\n",
       " 'kombin',\n",
       " 'Skytt',\n",
       " '##efull',\n",
       " 'dad',\n",
       " 'Love',\n",
       " 'potten',\n",
       " 'Inside',\n",
       " '##oule',\n",
       " 'Nordmakedonien',\n",
       " '##onius',\n",
       " '##imb',\n",
       " 'serve',\n",
       " 'Hid',\n",
       " 'berättelserna',\n",
       " 'slar',\n",
       " '##fota',\n",
       " 'Riss',\n",
       " '##ph',\n",
       " '##omy',\n",
       " 'kantonen',\n",
       " 'måltiden',\n",
       " '##204',\n",
       " 'Jokkm',\n",
       " '##engar',\n",
       " '##papperen',\n",
       " '##Ol',\n",
       " 'Haj',\n",
       " 'Deb',\n",
       " '##stick',\n",
       " '##IAL',\n",
       " '##skuponger',\n",
       " '##villa',\n",
       " 'Kontoret',\n",
       " 'Lyd',\n",
       " 'strip',\n",
       " 'Food',\n",
       " '##smäk',\n",
       " 'Sov',\n",
       " '##cl',\n",
       " '##gal',\n",
       " 'sås',\n",
       " 'Joachim',\n",
       " '##84',\n",
       " 'allmäng',\n",
       " '##omagasin',\n",
       " 'komedi',\n",
       " 'CNN',\n",
       " 'likvidator',\n",
       " '##sim',\n",
       " '##ellertid',\n",
       " '##tendenten',\n",
       " 'Trea',\n",
       " '##305',\n",
       " 'Steen',\n",
       " '##ertz',\n",
       " 'China',\n",
       " '##illen',\n",
       " '##imir',\n",
       " 'Nanny',\n",
       " '##såker',\n",
       " 'tul',\n",
       " 'kompisarna',\n",
       " '##kören',\n",
       " '##spapper',\n",
       " '##nöj',\n",
       " '##CKER',\n",
       " 'Sep',\n",
       " 'fans',\n",
       " '##ubbar',\n",
       " 'Sandhamn',\n",
       " '##cel',\n",
       " 'Jann',\n",
       " 'Broman',\n",
       " '##fire',\n",
       " '##fulle',\n",
       " 'BIL',\n",
       " 'Mari',\n",
       " '##urg',\n",
       " '##unkten',\n",
       " 'action',\n",
       " '##abs',\n",
       " 'Lagercrantz',\n",
       " 'Turt',\n",
       " '##hild',\n",
       " 'Bellman',\n",
       " '##åster',\n",
       " '##inom',\n",
       " 'inrikt',\n",
       " '##96',\n",
       " '##sfören',\n",
       " '##bads',\n",
       " 'Storg',\n",
       " '##republik',\n",
       " 'illustrerade',\n",
       " '##rövar',\n",
       " '##vällen',\n",
       " 'sydväst',\n",
       " '##nik',\n",
       " 'romantisk',\n",
       " 'konser',\n",
       " '##lägret',\n",
       " '##rain',\n",
       " 'Petrus',\n",
       " 'Sophia',\n",
       " 'soffan',\n",
       " 'festa',\n",
       " '##gänget',\n",
       " 'Dog',\n",
       " '##hästarna',\n",
       " 'hort',\n",
       " 'ip',\n",
       " '##SF',\n",
       " 'Stack',\n",
       " 'Lee',\n",
       " '##HJ',\n",
       " '##senter',\n",
       " '##laine',\n",
       " 'ostad',\n",
       " '##BERGS',\n",
       " '##UF',\n",
       " '##emaskin',\n",
       " 'Eventuella',\n",
       " 'Pear',\n",
       " 'MC',\n",
       " 'Gené',\n",
       " '##benen',\n",
       " '##avdelningens',\n",
       " 'Typ',\n",
       " 'inneh',\n",
       " 'giftet',\n",
       " '##idag',\n",
       " '754',\n",
       " '##bety',\n",
       " 'Herceg',\n",
       " 'Was',\n",
       " '##denna',\n",
       " 'uttagningen',\n",
       " '##hållna',\n",
       " '##installationer',\n",
       " 'Loh',\n",
       " 'präg',\n",
       " '##hoppet',\n",
       " '##56',\n",
       " '##ight',\n",
       " 'ledningsm',\n",
       " '##keberg',\n",
       " 'blund',\n",
       " '##hood',\n",
       " '##annen',\n",
       " 'Sein',\n",
       " 'Hustrun',\n",
       " 'Gård',\n",
       " 'Sle',\n",
       " '##heden',\n",
       " 'förkyld',\n",
       " '##enet',\n",
       " '##svagnar',\n",
       " '##snack',\n",
       " '##smaskiner',\n",
       " '##END',\n",
       " '##weiz',\n",
       " 'Mind',\n",
       " '##svägarna',\n",
       " 'jurid',\n",
       " 'kora',\n",
       " 'Gården',\n",
       " '##raste',\n",
       " 'pas',\n",
       " 'Musta',\n",
       " '##splanet',\n",
       " 'Gid',\n",
       " 'tår',\n",
       " 'Lend',\n",
       " 'råttor',\n",
       " 'Bollen',\n",
       " 'Bend',\n",
       " 'härlig',\n",
       " '##skärmar',\n",
       " '##sext',\n",
       " 'Jö',\n",
       " 'klingar',\n",
       " 'Cram',\n",
       " '##card',\n",
       " 'las',\n",
       " 'Great',\n",
       " '##ated',\n",
       " 'ound',\n",
       " 'Western',\n",
       " 'samhällskrit',\n",
       " 'dol',\n",
       " '##57',\n",
       " '##scenter',\n",
       " '##ÄD',\n",
       " 'Torn',\n",
       " 'Järvsö',\n",
       " 'Sha',\n",
       " '##dos',\n",
       " 'VIL',\n",
       " 'spär',\n",
       " 'minn',\n",
       " '##skoncernen',\n",
       " 'grenarna',\n",
       " 'Chil',\n",
       " 'grin',\n",
       " 'framlidne',\n",
       " '##46',\n",
       " 'välfört',\n",
       " 'Sop',\n",
       " '##orama',\n",
       " '##£',\n",
       " '##rique',\n",
       " 'grotta',\n",
       " '##ael',\n",
       " 'Bolibompa',\n",
       " 'Fordringar',\n",
       " 'distansen',\n",
       " 'Mich',\n",
       " '##ovskij',\n",
       " '##blandningen',\n",
       " 'dist',\n",
       " 'varumärket',\n",
       " 'José',\n",
       " 'Kille',\n",
       " 'färgad',\n",
       " 'Stol',\n",
       " '##wal',\n",
       " 'strateg',\n",
       " '##IX',\n",
       " 'sopp',\n",
       " '##uger',\n",
       " '##brän',\n",
       " 'prover',\n",
       " '##historier',\n",
       " 'Pur',\n",
       " '##ffin',\n",
       " 'Församlingen',\n",
       " '##göt',\n",
       " '##Q',\n",
       " 'Bianca',\n",
       " '##68',\n",
       " 'Pic',\n",
       " 'Alto',\n",
       " 'Ups',\n",
       " 'slal',\n",
       " '##91',\n",
       " 'föred',\n",
       " 'Vardags',\n",
       " '##fattare',\n",
       " 'Anfall',\n",
       " '##etti',\n",
       " '##chin',\n",
       " 'prem',\n",
       " '##iday',\n",
       " 'Vax',\n",
       " '##ynda',\n",
       " 'litter',\n",
       " 'proport',\n",
       " 'hipp',\n",
       " '##49',\n",
       " 'Betydligt',\n",
       " 'dödens',\n",
       " 'MEN',\n",
       " '##usar',\n",
       " '740',\n",
       " 'Pel',\n",
       " '##omer',\n",
       " 'Stadsbyggnad',\n",
       " '##emit',\n",
       " 'hörna',\n",
       " '##anmälan',\n",
       " '##aled',\n",
       " '##elsystem',\n",
       " 'gult',\n",
       " 'förhören',\n",
       " 'bölja',\n",
       " 'Gammel',\n",
       " '##urar',\n",
       " 'Lägenhet',\n",
       " 'Kajsa',\n",
       " '##sutrymmen',\n",
       " '##ilding',\n",
       " 'inarbetad',\n",
       " 'spöken',\n",
       " '##ries',\n",
       " '##skrafter',\n",
       " 'Utsikt',\n",
       " 'Aber',\n",
       " '##manland',\n",
       " '##huvudstaden',\n",
       " '##andas',\n",
       " '##rael',\n",
       " '##beln',\n",
       " '##iné',\n",
       " '##skägg',\n",
       " 'orgeln',\n",
       " 'Känd',\n",
       " '##fruar',\n",
       " '##ilas',\n",
       " 'äm',\n",
       " 'tackat',\n",
       " '##bd',\n",
       " 'Mellby',\n",
       " 'Kabel',\n",
       " 'Fleming',\n",
       " '##seln',\n",
       " 'nyförvär',\n",
       " 'markt',\n",
       " 'ordn',\n",
       " '##teckningar',\n",
       " '##rekvensen',\n",
       " '##uper',\n",
       " '##ersätt',\n",
       " '##irl',\n",
       " 'Abram',\n",
       " 'Reich',\n",
       " '##snatur',\n",
       " 'LEJON',\n",
       " 'TINGS',\n",
       " 'Lju',\n",
       " 'Indust',\n",
       " '##iblioteken',\n",
       " '##ädje',\n",
       " 'Boko',\n",
       " 'lagerb',\n",
       " '##aljer',\n",
       " 'rätter',\n",
       " 'vim',\n",
       " 'folkdans',\n",
       " 'Force',\n",
       " '##jobbet',\n",
       " '##301',\n",
       " '##qu',\n",
       " 'Allen',\n",
       " '##årsju',\n",
       " 'gass',\n",
       " '##artid',\n",
       " '##unken',\n",
       " '##haninge',\n",
       " 'Cruz',\n",
       " '##reporter',\n",
       " 'mart',\n",
       " 'förmed',\n",
       " 'illamående',\n",
       " '##ydde',\n",
       " 'Vänner',\n",
       " '##122',\n",
       " '##götland',\n",
       " 'Vass',\n",
       " '##ötte',\n",
       " '##ELSE',\n",
       " '##abliss',\n",
       " 'sjöutsikt',\n",
       " '##isar',\n",
       " 'årtion',\n",
       " 'skåde',\n",
       " 'RAD',\n",
       " 'king',\n",
       " 'Tam',\n",
       " '##ón',\n",
       " '##chn',\n",
       " '##sgat',\n",
       " 'Nyår',\n",
       " 'fingert',\n",
       " '##alender',\n",
       " 'källar',\n",
       " '##bow',\n",
       " 'dalen',\n",
       " ...]"
      ]
     },
     "execution_count": 59,
     "metadata": {},
     "output_type": "execute_result"
    }
   ],
   "source": [
    "good_tokens = list(set(decoded_hugging_correct)-set(decoded_base_correct))\n",
    "print(len(good_tokens))\n",
    "good_tokens"
   ]
  },
  {
   "cell_type": "code",
   "execution_count": 41,
   "metadata": {},
   "outputs": [],
   "source": [
    "max_length=128"
   ]
  },
  {
   "cell_type": "code",
   "execution_count": 32,
   "metadata": {},
   "outputs": [
    {
     "name": "stdout",
     "output_type": "stream",
     "text": [
      "motionstid samt uppskjuten behandling § 35 Anmälan om interpellationer § 36 Anmälan om frågor för skriftliga svar § 37 Kammaren åtskildes kl. 20. 07. Tryck : Elanders Sverige AB, Vällingby 2022 [SEP] [PAD] [PAD] [PAD] [PAD] [PAD] [PAD] [PAD] [PAD] [PAD] [PAD] [PAD] [PAD] [PAD] [PAD] [PAD] [PAD] [PAD] [PAD] [PAD] [PAD] [PAD] [PAD] [PAD] [PAD] [PAD] [PAD] [PAD] [PAD] [PAD] [PAD] [PAD] [PAD] [PAD] [PAD] [PAD] [PAD] [PAD] [PAD] [PAD] [PAD] [PAD] [PAD] [PAD] [PAD] [PAD] [PAD] [PAD] [PAD] [PAD] [PAD] [PAD] [PAD] [PAD] [PAD] [PAD] [PAD] [PAD] [PAD] [PAD] [PAD] [PAD] [PAD] [PAD] [PAD] [PAD] [PAD] [PAD] [PAD] [PAD] [PAD] [PAD] [PAD] [PAD] [PAD] [PAD] [PAD] [PAD] [PAD] [PAD] [PAD] [PAD] [PAD] [PAD] [PAD]\n",
      "om interpellationer § 36 Anmälan om frågor för skriftliga svar § 37 Kammaren åtskildes kl. 20. 07. Tryck : Elanders Sverige AB, Vällingby 2022 [SEP] [PAD] [PAD] [PAD] [PAD] [PAD] [PAD] [PAD] [PAD] [PAD] [PAD] [PAD] [PAD] [PAD] [PAD] [PAD] [PAD] [PAD] [PAD] [PAD] [PAD] [PAD] [PAD] [PAD] [PAD] [PAD] [PAD] [PAD] [PAD] [PAD] [PAD] [PAD] [PAD] [PAD] [PAD] [PAD] [PAD] [PAD] [PAD] [PAD] [PAD] [PAD] [PAD] [PAD] [PAD] [PAD] [PAD] [PAD] [PAD] [PAD] [PAD] [PAD] [PAD] [PAD] [PAD] [PAD] [PAD] [PAD] [PAD] [PAD] [PAD] [PAD] [PAD] [PAD] [PAD] [PAD] [PAD] [PAD] [PAD] [PAD] [PAD] [PAD] [PAD] [PAD] [PAD] [PAD] [PAD] [PAD] [PAD] [PAD] [PAD] [PAD] [PAD] [PAD] [PAD] [PAD] [PAD] [PAD] [PAD] [PAD] [PAD] [PAD] [PAD] [PAD] [PAD] [PAD] [PAD] [PAD] [PAD] [PAD]\n",
      "128\n",
      "128\n"
     ]
    }
   ],
   "source": [
    "print(tokenizer.decode(valid_dataset[-1][\"input_ids\"]))\n",
    "print(swerick_tokenizer.decode(valid_data[-1][\"input_ids\"]))\n",
    "print(len(valid_dataset[0][\"input_ids\"]))\n",
    "print(len(valid_data[0][\"input_ids\"]))"
   ]
  },
  {
   "cell_type": "code",
   "execution_count": 17,
   "metadata": {},
   "outputs": [],
   "source": [
    "subset = valid_dataset_initial[\"valid\"].select(range(3))\n",
    "subset_kb = Dataset.from_dict(preprocessing.chunk_and_pad(subset,tokenizer,128))\n",
    "subset_ft =Dataset.from_dict(preprocessing.chunk_and_pad(subset,swerick_tokenizer,128))"
   ]
  },
  {
   "cell_type": "code",
   "execution_count": 73,
   "metadata": {},
   "outputs": [
    {
     "data": {
      "text/plain": [
       "Dataset({\n",
       "    features: ['input_ids', 'attention_mask', 'labels', 'word_ids'],\n",
       "    num_rows: 212\n",
       "})"
      ]
     },
     "execution_count": 73,
     "metadata": {},
     "output_type": "execute_result"
    }
   ],
   "source": [
    "subset_ft"
   ]
  },
  {
   "cell_type": "code",
   "execution_count": 9,
   "metadata": {},
   "outputs": [],
   "source": [
    "from evaluation import l2R_MLM_Crossentropy"
   ]
  },
  {
   "cell_type": "code",
   "execution_count": 18,
   "metadata": {},
   "outputs": [
    {
     "data": {
      "application/vnd.jupyter.widget-view+json": {
       "model_id": "dab2e3baa33b46e29e6b3c26f8eb9d6b",
       "version_major": 2,
       "version_minor": 0
      },
      "text/plain": [
       "Map:   0%|          | 0/252 [00:00<?, ? examples/s]"
      ]
     },
     "metadata": {},
     "output_type": "display_data"
    },
    {
     "data": {
      "application/vnd.jupyter.widget-view+json": {
       "model_id": "9cfcea77495340a0a154d617f6265a41",
       "version_major": 2,
       "version_minor": 0
      },
      "text/plain": [
       "Map:   0%|          | 0/252 [00:00<?, ? examples/s]"
      ]
     },
     "metadata": {},
     "output_type": "display_data"
    },
    {
     "data": {
      "application/vnd.jupyter.widget-view+json": {
       "model_id": "cad892f803b44396b5a5ad8bd310f0a1",
       "version_major": 2,
       "version_minor": 0
      },
      "text/plain": [
       "Map:   0%|          | 0/252 [00:00<?, ? examples/s]"
      ]
     },
     "metadata": {},
     "output_type": "display_data"
    },
    {
     "data": {
      "application/vnd.jupyter.widget-view+json": {
       "model_id": "70ba1448d57248fa8532fc70a1d8e4db",
       "version_major": 2,
       "version_minor": 0
      },
      "text/plain": [
       "Map:   0%|          | 0/252 [00:00<?, ? examples/s]"
      ]
     },
     "metadata": {},
     "output_type": "display_data"
    },
    {
     "data": {
      "application/vnd.jupyter.widget-view+json": {
       "model_id": "c7cd0aecad654387917d64560a1c21fc",
       "version_major": 2,
       "version_minor": 0
      },
      "text/plain": [
       "Map:   0%|          | 0/252 [00:00<?, ? examples/s]"
      ]
     },
     "metadata": {},
     "output_type": "display_data"
    },
    {
     "data": {
      "application/vnd.jupyter.widget-view+json": {
       "model_id": "fe6b8c9b93fb497fa789324670a3023e",
       "version_major": 2,
       "version_minor": 0
      },
      "text/plain": [
       "Map:   0%|          | 0/252 [00:00<?, ? examples/s]"
      ]
     },
     "metadata": {},
     "output_type": "display_data"
    },
    {
     "data": {
      "application/vnd.jupyter.widget-view+json": {
       "model_id": "a3e95add9fa941de97946785f708fa40",
       "version_major": 2,
       "version_minor": 0
      },
      "text/plain": [
       "Map:   0%|          | 0/252 [00:00<?, ? examples/s]"
      ]
     },
     "metadata": {},
     "output_type": "display_data"
    },
    {
     "data": {
      "application/vnd.jupyter.widget-view+json": {
       "model_id": "692502de6e8245f8aeeb34de50e41699",
       "version_major": 2,
       "version_minor": 0
      },
      "text/plain": [
       "Map:   0%|          | 0/252 [00:00<?, ? examples/s]"
      ]
     },
     "metadata": {},
     "output_type": "display_data"
    },
    {
     "data": {
      "application/vnd.jupyter.widget-view+json": {
       "model_id": "8cc9bb9ca90048c7852f0e2a1d904b4c",
       "version_major": 2,
       "version_minor": 0
      },
      "text/plain": [
       "Map:   0%|          | 0/252 [00:00<?, ? examples/s]"
      ]
     },
     "metadata": {},
     "output_type": "display_data"
    },
    {
     "data": {
      "application/vnd.jupyter.widget-view+json": {
       "model_id": "abf8399b6b884c4ca64d6a1fbf7ac9c5",
       "version_major": 2,
       "version_minor": 0
      },
      "text/plain": [
       "Map:   0%|          | 0/252 [00:00<?, ? examples/s]"
      ]
     },
     "metadata": {},
     "output_type": "display_data"
    },
    {
     "data": {
      "application/vnd.jupyter.widget-view+json": {
       "model_id": "61ee30c913144eda938684d2bc067dbc",
       "version_major": 2,
       "version_minor": 0
      },
      "text/plain": [
       "Map:   0%|          | 0/252 [00:00<?, ? examples/s]"
      ]
     },
     "metadata": {},
     "output_type": "display_data"
    },
    {
     "data": {
      "application/vnd.jupyter.widget-view+json": {
       "model_id": "41f011660fc747eeae56b51351322e51",
       "version_major": 2,
       "version_minor": 0
      },
      "text/plain": [
       "Map:   0%|          | 0/252 [00:00<?, ? examples/s]"
      ]
     },
     "metadata": {},
     "output_type": "display_data"
    },
    {
     "data": {
      "application/vnd.jupyter.widget-view+json": {
       "model_id": "6b886745fd99418da6e7d3df8f394021",
       "version_major": 2,
       "version_minor": 0
      },
      "text/plain": [
       "Map:   0%|          | 0/252 [00:00<?, ? examples/s]"
      ]
     },
     "metadata": {},
     "output_type": "display_data"
    },
    {
     "data": {
      "application/vnd.jupyter.widget-view+json": {
       "model_id": "8ec11d001886416d9da8fceff65f7ddb",
       "version_major": 2,
       "version_minor": 0
      },
      "text/plain": [
       "Map:   0%|          | 0/252 [00:00<?, ? examples/s]"
      ]
     },
     "metadata": {},
     "output_type": "display_data"
    },
    {
     "data": {
      "application/vnd.jupyter.widget-view+json": {
       "model_id": "f5cc5021e3c245a89d06dcd6b24f6517",
       "version_major": 2,
       "version_minor": 0
      },
      "text/plain": [
       "Map:   0%|          | 0/252 [00:00<?, ? examples/s]"
      ]
     },
     "metadata": {},
     "output_type": "display_data"
    },
    {
     "data": {
      "application/vnd.jupyter.widget-view+json": {
       "model_id": "fa410e415f4442a99019073e8f8b5baa",
       "version_major": 2,
       "version_minor": 0
      },
      "text/plain": [
       "Map:   0%|          | 0/252 [00:00<?, ? examples/s]"
      ]
     },
     "metadata": {},
     "output_type": "display_data"
    },
    {
     "data": {
      "application/vnd.jupyter.widget-view+json": {
       "model_id": "f16e3c8cb3894b41ba016d712fda7930",
       "version_major": 2,
       "version_minor": 0
      },
      "text/plain": [
       "Map:   0%|          | 0/252 [00:00<?, ? examples/s]"
      ]
     },
     "metadata": {},
     "output_type": "display_data"
    },
    {
     "data": {
      "application/vnd.jupyter.widget-view+json": {
       "model_id": "5137bf21061c46b6832be555160b06a6",
       "version_major": 2,
       "version_minor": 0
      },
      "text/plain": [
       "Map:   0%|          | 0/252 [00:00<?, ? examples/s]"
      ]
     },
     "metadata": {},
     "output_type": "display_data"
    },
    {
     "data": {
      "application/vnd.jupyter.widget-view+json": {
       "model_id": "41b85ca5b1104f5897f9e7cd608361f0",
       "version_major": 2,
       "version_minor": 0
      },
      "text/plain": [
       "Map:   0%|          | 0/252 [00:00<?, ? examples/s]"
      ]
     },
     "metadata": {},
     "output_type": "display_data"
    },
    {
     "data": {
      "application/vnd.jupyter.widget-view+json": {
       "model_id": "f950d63b382f408f8cfee4968e6440a9",
       "version_major": 2,
       "version_minor": 0
      },
      "text/plain": [
       "Map:   0%|          | 0/252 [00:00<?, ? examples/s]"
      ]
     },
     "metadata": {},
     "output_type": "display_data"
    },
    {
     "data": {
      "application/vnd.jupyter.widget-view+json": {
       "model_id": "410361cc29164d58a34c633bd2cd6cfa",
       "version_major": 2,
       "version_minor": 0
      },
      "text/plain": [
       "Map:   0%|          | 0/252 [00:00<?, ? examples/s]"
      ]
     },
     "metadata": {},
     "output_type": "display_data"
    },
    {
     "data": {
      "application/vnd.jupyter.widget-view+json": {
       "model_id": "620f7209a2534518bccaec0c7e8add5f",
       "version_major": 2,
       "version_minor": 0
      },
      "text/plain": [
       "Map:   0%|          | 0/252 [00:00<?, ? examples/s]"
      ]
     },
     "metadata": {},
     "output_type": "display_data"
    },
    {
     "data": {
      "application/vnd.jupyter.widget-view+json": {
       "model_id": "107a306bdaf24c5fbd6d986eb9dd6457",
       "version_major": 2,
       "version_minor": 0
      },
      "text/plain": [
       "Map:   0%|          | 0/252 [00:00<?, ? examples/s]"
      ]
     },
     "metadata": {},
     "output_type": "display_data"
    },
    {
     "data": {
      "application/vnd.jupyter.widget-view+json": {
       "model_id": "d0a5703bc8ad4b33afe4c041c63a9498",
       "version_major": 2,
       "version_minor": 0
      },
      "text/plain": [
       "Map:   0%|          | 0/252 [00:00<?, ? examples/s]"
      ]
     },
     "metadata": {},
     "output_type": "display_data"
    },
    {
     "data": {
      "application/vnd.jupyter.widget-view+json": {
       "model_id": "ff8bbb6b914f4134ba4cf837680b465b",
       "version_major": 2,
       "version_minor": 0
      },
      "text/plain": [
       "Map:   0%|          | 0/252 [00:00<?, ? examples/s]"
      ]
     },
     "metadata": {},
     "output_type": "display_data"
    },
    {
     "data": {
      "application/vnd.jupyter.widget-view+json": {
       "model_id": "8b656f08fcd3436e95bc5fd27af68c1e",
       "version_major": 2,
       "version_minor": 0
      },
      "text/plain": [
       "Map:   0%|          | 0/252 [00:00<?, ? examples/s]"
      ]
     },
     "metadata": {},
     "output_type": "display_data"
    },
    {
     "data": {
      "application/vnd.jupyter.widget-view+json": {
       "model_id": "ab5a0323f2484c1f9365b37ddb01bae0",
       "version_major": 2,
       "version_minor": 0
      },
      "text/plain": [
       "Map:   0%|          | 0/252 [00:00<?, ? examples/s]"
      ]
     },
     "metadata": {},
     "output_type": "display_data"
    },
    {
     "data": {
      "application/vnd.jupyter.widget-view+json": {
       "model_id": "0e44fcd4ade5450894489f3ab7ddc64f",
       "version_major": 2,
       "version_minor": 0
      },
      "text/plain": [
       "Map:   0%|          | 0/252 [00:00<?, ? examples/s]"
      ]
     },
     "metadata": {},
     "output_type": "display_data"
    },
    {
     "data": {
      "application/vnd.jupyter.widget-view+json": {
       "model_id": "dcc61bb5c32547428307a3540425ea9d",
       "version_major": 2,
       "version_minor": 0
      },
      "text/plain": [
       "Map:   0%|          | 0/252 [00:00<?, ? examples/s]"
      ]
     },
     "metadata": {},
     "output_type": "display_data"
    },
    {
     "data": {
      "application/vnd.jupyter.widget-view+json": {
       "model_id": "de32de1b6bd743bca191b4b9fb712f91",
       "version_major": 2,
       "version_minor": 0
      },
      "text/plain": [
       "Map:   0%|          | 0/252 [00:00<?, ? examples/s]"
      ]
     },
     "metadata": {},
     "output_type": "display_data"
    },
    {
     "data": {
      "application/vnd.jupyter.widget-view+json": {
       "model_id": "738b7d2a823646c9acfced56a643ec86",
       "version_major": 2,
       "version_minor": 0
      },
      "text/plain": [
       "Map:   0%|          | 0/252 [00:00<?, ? examples/s]"
      ]
     },
     "metadata": {},
     "output_type": "display_data"
    },
    {
     "data": {
      "application/vnd.jupyter.widget-view+json": {
       "model_id": "2b4f258985d54a1faf1bd3f5952b3748",
       "version_major": 2,
       "version_minor": 0
      },
      "text/plain": [
       "Map:   0%|          | 0/252 [00:00<?, ? examples/s]"
      ]
     },
     "metadata": {},
     "output_type": "display_data"
    },
    {
     "data": {
      "application/vnd.jupyter.widget-view+json": {
       "model_id": "1afbe2a387664cbdb8ceb4f17744b008",
       "version_major": 2,
       "version_minor": 0
      },
      "text/plain": [
       "Map:   0%|          | 0/252 [00:00<?, ? examples/s]"
      ]
     },
     "metadata": {},
     "output_type": "display_data"
    },
    {
     "data": {
      "application/vnd.jupyter.widget-view+json": {
       "model_id": "f0060bbe652e4c6681993095a99f53b8",
       "version_major": 2,
       "version_minor": 0
      },
      "text/plain": [
       "Map:   0%|          | 0/252 [00:00<?, ? examples/s]"
      ]
     },
     "metadata": {},
     "output_type": "display_data"
    },
    {
     "data": {
      "application/vnd.jupyter.widget-view+json": {
       "model_id": "39b87478fce542feaf4991f94d92cfd7",
       "version_major": 2,
       "version_minor": 0
      },
      "text/plain": [
       "Map:   0%|          | 0/252 [00:00<?, ? examples/s]"
      ]
     },
     "metadata": {},
     "output_type": "display_data"
    },
    {
     "data": {
      "application/vnd.jupyter.widget-view+json": {
       "model_id": "6a0a18c68eb84eef89d752f244504158",
       "version_major": 2,
       "version_minor": 0
      },
      "text/plain": [
       "Map:   0%|          | 0/252 [00:00<?, ? examples/s]"
      ]
     },
     "metadata": {},
     "output_type": "display_data"
    },
    {
     "data": {
      "application/vnd.jupyter.widget-view+json": {
       "model_id": "a7da10f0613c441d8ae205bd875672ee",
       "version_major": 2,
       "version_minor": 0
      },
      "text/plain": [
       "Map:   0%|          | 0/252 [00:00<?, ? examples/s]"
      ]
     },
     "metadata": {},
     "output_type": "display_data"
    },
    {
     "data": {
      "application/vnd.jupyter.widget-view+json": {
       "model_id": "9aa5bfaf446240c5873061bdcd4ce432",
       "version_major": 2,
       "version_minor": 0
      },
      "text/plain": [
       "Map:   0%|          | 0/252 [00:00<?, ? examples/s]"
      ]
     },
     "metadata": {},
     "output_type": "display_data"
    },
    {
     "data": {
      "application/vnd.jupyter.widget-view+json": {
       "model_id": "db73864df9724f948fdcb78e41e7ab72",
       "version_major": 2,
       "version_minor": 0
      },
      "text/plain": [
       "Map:   0%|          | 0/252 [00:00<?, ? examples/s]"
      ]
     },
     "metadata": {},
     "output_type": "display_data"
    },
    {
     "data": {
      "application/vnd.jupyter.widget-view+json": {
       "model_id": "824d75e613a8421ea29ce43f08b3ea75",
       "version_major": 2,
       "version_minor": 0
      },
      "text/plain": [
       "Map:   0%|          | 0/252 [00:00<?, ? examples/s]"
      ]
     },
     "metadata": {},
     "output_type": "display_data"
    },
    {
     "data": {
      "application/vnd.jupyter.widget-view+json": {
       "model_id": "1019584b0e334fd0aaed6108001646af",
       "version_major": 2,
       "version_minor": 0
      },
      "text/plain": [
       "Map:   0%|          | 0/252 [00:00<?, ? examples/s]"
      ]
     },
     "metadata": {},
     "output_type": "display_data"
    },
    {
     "data": {
      "application/vnd.jupyter.widget-view+json": {
       "model_id": "14b8c1565ed4478baba1c4a6354805e0",
       "version_major": 2,
       "version_minor": 0
      },
      "text/plain": [
       "Map:   0%|          | 0/252 [00:00<?, ? examples/s]"
      ]
     },
     "metadata": {},
     "output_type": "display_data"
    },
    {
     "data": {
      "application/vnd.jupyter.widget-view+json": {
       "model_id": "66e067a85c844b0499c42d61250f548b",
       "version_major": 2,
       "version_minor": 0
      },
      "text/plain": [
       "Map:   0%|          | 0/252 [00:00<?, ? examples/s]"
      ]
     },
     "metadata": {},
     "output_type": "display_data"
    },
    {
     "data": {
      "application/vnd.jupyter.widget-view+json": {
       "model_id": "a35898f22cd24686b10bb1961a06984e",
       "version_major": 2,
       "version_minor": 0
      },
      "text/plain": [
       "Map:   0%|          | 0/252 [00:00<?, ? examples/s]"
      ]
     },
     "metadata": {},
     "output_type": "display_data"
    },
    {
     "data": {
      "application/vnd.jupyter.widget-view+json": {
       "model_id": "cc79abce1d0d45beac0647bdb08374cd",
       "version_major": 2,
       "version_minor": 0
      },
      "text/plain": [
       "Map:   0%|          | 0/252 [00:00<?, ? examples/s]"
      ]
     },
     "metadata": {},
     "output_type": "display_data"
    },
    {
     "data": {
      "application/vnd.jupyter.widget-view+json": {
       "model_id": "4998b5d5acbc4443bec808b12a03480b",
       "version_major": 2,
       "version_minor": 0
      },
      "text/plain": [
       "Map:   0%|          | 0/252 [00:00<?, ? examples/s]"
      ]
     },
     "metadata": {},
     "output_type": "display_data"
    },
    {
     "data": {
      "application/vnd.jupyter.widget-view+json": {
       "model_id": "4f904e63940f47dc894a16a3f27509e9",
       "version_major": 2,
       "version_minor": 0
      },
      "text/plain": [
       "Map:   0%|          | 0/252 [00:00<?, ? examples/s]"
      ]
     },
     "metadata": {},
     "output_type": "display_data"
    },
    {
     "data": {
      "application/vnd.jupyter.widget-view+json": {
       "model_id": "f6d4f40cf7d642b597cc2e8b4f82902b",
       "version_major": 2,
       "version_minor": 0
      },
      "text/plain": [
       "Map:   0%|          | 0/252 [00:00<?, ? examples/s]"
      ]
     },
     "metadata": {},
     "output_type": "display_data"
    },
    {
     "data": {
      "application/vnd.jupyter.widget-view+json": {
       "model_id": "a5525d28eff34f18b39762006a778abe",
       "version_major": 2,
       "version_minor": 0
      },
      "text/plain": [
       "Map:   0%|          | 0/252 [00:00<?, ? examples/s]"
      ]
     },
     "metadata": {},
     "output_type": "display_data"
    },
    {
     "data": {
      "application/vnd.jupyter.widget-view+json": {
       "model_id": "27760f02f2af49dbad4e69335aea2a52",
       "version_major": 2,
       "version_minor": 0
      },
      "text/plain": [
       "Map:   0%|          | 0/252 [00:00<?, ? examples/s]"
      ]
     },
     "metadata": {},
     "output_type": "display_data"
    },
    {
     "data": {
      "application/vnd.jupyter.widget-view+json": {
       "model_id": "cce5706ddfd34b64a6a01147c49b0b87",
       "version_major": 2,
       "version_minor": 0
      },
      "text/plain": [
       "Map:   0%|          | 0/252 [00:00<?, ? examples/s]"
      ]
     },
     "metadata": {},
     "output_type": "display_data"
    },
    {
     "data": {
      "application/vnd.jupyter.widget-view+json": {
       "model_id": "e2492befb9ef477482828557d507aab2",
       "version_major": 2,
       "version_minor": 0
      },
      "text/plain": [
       "Map:   0%|          | 0/252 [00:00<?, ? examples/s]"
      ]
     },
     "metadata": {},
     "output_type": "display_data"
    },
    {
     "data": {
      "application/vnd.jupyter.widget-view+json": {
       "model_id": "5bd5c76055bd45a6a00e6b256a13d75c",
       "version_major": 2,
       "version_minor": 0
      },
      "text/plain": [
       "Map:   0%|          | 0/252 [00:00<?, ? examples/s]"
      ]
     },
     "metadata": {},
     "output_type": "display_data"
    },
    {
     "data": {
      "application/vnd.jupyter.widget-view+json": {
       "model_id": "a87e41daa3e14133accf3659324ef897",
       "version_major": 2,
       "version_minor": 0
      },
      "text/plain": [
       "Map:   0%|          | 0/252 [00:00<?, ? examples/s]"
      ]
     },
     "metadata": {},
     "output_type": "display_data"
    },
    {
     "data": {
      "application/vnd.jupyter.widget-view+json": {
       "model_id": "044e295d5e984c1096e8b9b4daaacda0",
       "version_major": 2,
       "version_minor": 0
      },
      "text/plain": [
       "Map:   0%|          | 0/252 [00:00<?, ? examples/s]"
      ]
     },
     "metadata": {},
     "output_type": "display_data"
    },
    {
     "data": {
      "application/vnd.jupyter.widget-view+json": {
       "model_id": "bff72dbff4a74c7d8939f00f99857947",
       "version_major": 2,
       "version_minor": 0
      },
      "text/plain": [
       "Map:   0%|          | 0/252 [00:00<?, ? examples/s]"
      ]
     },
     "metadata": {},
     "output_type": "display_data"
    },
    {
     "data": {
      "application/vnd.jupyter.widget-view+json": {
       "model_id": "f9198abdc9404f48a867c208c03edbbe",
       "version_major": 2,
       "version_minor": 0
      },
      "text/plain": [
       "Map:   0%|          | 0/252 [00:00<?, ? examples/s]"
      ]
     },
     "metadata": {},
     "output_type": "display_data"
    },
    {
     "data": {
      "application/vnd.jupyter.widget-view+json": {
       "model_id": "d8a490d6abf14504a470299e7b1546f4",
       "version_major": 2,
       "version_minor": 0
      },
      "text/plain": [
       "Map:   0%|          | 0/252 [00:00<?, ? examples/s]"
      ]
     },
     "metadata": {},
     "output_type": "display_data"
    },
    {
     "data": {
      "application/vnd.jupyter.widget-view+json": {
       "model_id": "19b03ac9252d4f0aa9153d1af6dff053",
       "version_major": 2,
       "version_minor": 0
      },
      "text/plain": [
       "Map:   0%|          | 0/252 [00:00<?, ? examples/s]"
      ]
     },
     "metadata": {},
     "output_type": "display_data"
    },
    {
     "data": {
      "application/vnd.jupyter.widget-view+json": {
       "model_id": "ce2f38a4c01b4fc79c77bb506df690d9",
       "version_major": 2,
       "version_minor": 0
      },
      "text/plain": [
       "Map:   0%|          | 0/252 [00:00<?, ? examples/s]"
      ]
     },
     "metadata": {},
     "output_type": "display_data"
    },
    {
     "data": {
      "application/vnd.jupyter.widget-view+json": {
       "model_id": "14f89a7193eb41dd90085930e880621d",
       "version_major": 2,
       "version_minor": 0
      },
      "text/plain": [
       "Map:   0%|          | 0/252 [00:00<?, ? examples/s]"
      ]
     },
     "metadata": {},
     "output_type": "display_data"
    },
    {
     "data": {
      "application/vnd.jupyter.widget-view+json": {
       "model_id": "9d6d23f0323f4541bbfba6f520bf492f",
       "version_major": 2,
       "version_minor": 0
      },
      "text/plain": [
       "Map:   0%|          | 0/252 [00:00<?, ? examples/s]"
      ]
     },
     "metadata": {},
     "output_type": "display_data"
    },
    {
     "data": {
      "application/vnd.jupyter.widget-view+json": {
       "model_id": "b2396fa6bfd1478ea4213be3fb0e30e6",
       "version_major": 2,
       "version_minor": 0
      },
      "text/plain": [
       "Map:   0%|          | 0/252 [00:00<?, ? examples/s]"
      ]
     },
     "metadata": {},
     "output_type": "display_data"
    },
    {
     "data": {
      "application/vnd.jupyter.widget-view+json": {
       "model_id": "9b0c7f8ea293413a877714a85fda7457",
       "version_major": 2,
       "version_minor": 0
      },
      "text/plain": [
       "Map:   0%|          | 0/252 [00:00<?, ? examples/s]"
      ]
     },
     "metadata": {},
     "output_type": "display_data"
    },
    {
     "data": {
      "application/vnd.jupyter.widget-view+json": {
       "model_id": "ead334666c6045afb448f98858bc3b74",
       "version_major": 2,
       "version_minor": 0
      },
      "text/plain": [
       "Map:   0%|          | 0/252 [00:00<?, ? examples/s]"
      ]
     },
     "metadata": {},
     "output_type": "display_data"
    },
    {
     "data": {
      "application/vnd.jupyter.widget-view+json": {
       "model_id": "1749c5e929be4453b4c46c55a121397e",
       "version_major": 2,
       "version_minor": 0
      },
      "text/plain": [
       "Map:   0%|          | 0/252 [00:00<?, ? examples/s]"
      ]
     },
     "metadata": {},
     "output_type": "display_data"
    },
    {
     "data": {
      "application/vnd.jupyter.widget-view+json": {
       "model_id": "7334ba0149ef4eb6aa1aea9a2cda0303",
       "version_major": 2,
       "version_minor": 0
      },
      "text/plain": [
       "Map:   0%|          | 0/252 [00:00<?, ? examples/s]"
      ]
     },
     "metadata": {},
     "output_type": "display_data"
    },
    {
     "data": {
      "application/vnd.jupyter.widget-view+json": {
       "model_id": "954b3ea6e7564330b4dc1d4d9c43bc71",
       "version_major": 2,
       "version_minor": 0
      },
      "text/plain": [
       "Map:   0%|          | 0/252 [00:00<?, ? examples/s]"
      ]
     },
     "metadata": {},
     "output_type": "display_data"
    },
    {
     "data": {
      "application/vnd.jupyter.widget-view+json": {
       "model_id": "aeed0d43e4694c3486843270890725af",
       "version_major": 2,
       "version_minor": 0
      },
      "text/plain": [
       "Map:   0%|          | 0/252 [00:00<?, ? examples/s]"
      ]
     },
     "metadata": {},
     "output_type": "display_data"
    },
    {
     "data": {
      "application/vnd.jupyter.widget-view+json": {
       "model_id": "48f0c95a8ceb4aeca1c46073a76cbf14",
       "version_major": 2,
       "version_minor": 0
      },
      "text/plain": [
       "Map:   0%|          | 0/252 [00:00<?, ? examples/s]"
      ]
     },
     "metadata": {},
     "output_type": "display_data"
    },
    {
     "data": {
      "application/vnd.jupyter.widget-view+json": {
       "model_id": "78da1f7029894f82bffc22efea798923",
       "version_major": 2,
       "version_minor": 0
      },
      "text/plain": [
       "Map:   0%|          | 0/252 [00:00<?, ? examples/s]"
      ]
     },
     "metadata": {},
     "output_type": "display_data"
    },
    {
     "data": {
      "application/vnd.jupyter.widget-view+json": {
       "model_id": "2fbf3612c11c4d0d97fa30689a994fde",
       "version_major": 2,
       "version_minor": 0
      },
      "text/plain": [
       "Map:   0%|          | 0/252 [00:00<?, ? examples/s]"
      ]
     },
     "metadata": {},
     "output_type": "display_data"
    },
    {
     "data": {
      "application/vnd.jupyter.widget-view+json": {
       "model_id": "da8bde5335404903a42568299f16ea29",
       "version_major": 2,
       "version_minor": 0
      },
      "text/plain": [
       "Map:   0%|          | 0/252 [00:00<?, ? examples/s]"
      ]
     },
     "metadata": {},
     "output_type": "display_data"
    },
    {
     "data": {
      "application/vnd.jupyter.widget-view+json": {
       "model_id": "317957d72ea443d6b7c94a5758906104",
       "version_major": 2,
       "version_minor": 0
      },
      "text/plain": [
       "Map:   0%|          | 0/252 [00:00<?, ? examples/s]"
      ]
     },
     "metadata": {},
     "output_type": "display_data"
    },
    {
     "data": {
      "application/vnd.jupyter.widget-view+json": {
       "model_id": "69a2f03b53ac4f02af6c7403150c87d2",
       "version_major": 2,
       "version_minor": 0
      },
      "text/plain": [
       "Map:   0%|          | 0/252 [00:00<?, ? examples/s]"
      ]
     },
     "metadata": {},
     "output_type": "display_data"
    },
    {
     "data": {
      "application/vnd.jupyter.widget-view+json": {
       "model_id": "4202f4d2d933443c81a6737ec59d1eeb",
       "version_major": 2,
       "version_minor": 0
      },
      "text/plain": [
       "Map:   0%|          | 0/252 [00:00<?, ? examples/s]"
      ]
     },
     "metadata": {},
     "output_type": "display_data"
    },
    {
     "data": {
      "application/vnd.jupyter.widget-view+json": {
       "model_id": "6ba9e1578f284e33acfbcf857a900126",
       "version_major": 2,
       "version_minor": 0
      },
      "text/plain": [
       "Map:   0%|          | 0/252 [00:00<?, ? examples/s]"
      ]
     },
     "metadata": {},
     "output_type": "display_data"
    },
    {
     "data": {
      "application/vnd.jupyter.widget-view+json": {
       "model_id": "2bed34d89a104fc48a6afb6c0a6e946d",
       "version_major": 2,
       "version_minor": 0
      },
      "text/plain": [
       "Map:   0%|          | 0/252 [00:00<?, ? examples/s]"
      ]
     },
     "metadata": {},
     "output_type": "display_data"
    },
    {
     "data": {
      "application/vnd.jupyter.widget-view+json": {
       "model_id": "4e2b8d3c4a504568afbfaab186b42ea6",
       "version_major": 2,
       "version_minor": 0
      },
      "text/plain": [
       "Map:   0%|          | 0/252 [00:00<?, ? examples/s]"
      ]
     },
     "metadata": {},
     "output_type": "display_data"
    },
    {
     "data": {
      "application/vnd.jupyter.widget-view+json": {
       "model_id": "f8eab7c3e71e4ee2836fb98aec1cee53",
       "version_major": 2,
       "version_minor": 0
      },
      "text/plain": [
       "Map:   0%|          | 0/252 [00:00<?, ? examples/s]"
      ]
     },
     "metadata": {},
     "output_type": "display_data"
    },
    {
     "data": {
      "application/vnd.jupyter.widget-view+json": {
       "model_id": "f65680965a294443ad797aa71e4e5f98",
       "version_major": 2,
       "version_minor": 0
      },
      "text/plain": [
       "Map:   0%|          | 0/252 [00:00<?, ? examples/s]"
      ]
     },
     "metadata": {},
     "output_type": "display_data"
    },
    {
     "data": {
      "application/vnd.jupyter.widget-view+json": {
       "model_id": "556337ce0b734c95a8ff646755377ea0",
       "version_major": 2,
       "version_minor": 0
      },
      "text/plain": [
       "Map:   0%|          | 0/252 [00:00<?, ? examples/s]"
      ]
     },
     "metadata": {},
     "output_type": "display_data"
    },
    {
     "data": {
      "application/vnd.jupyter.widget-view+json": {
       "model_id": "5149a133da9c46a8a61a8d9286695ce1",
       "version_major": 2,
       "version_minor": 0
      },
      "text/plain": [
       "Map:   0%|          | 0/252 [00:00<?, ? examples/s]"
      ]
     },
     "metadata": {},
     "output_type": "display_data"
    },
    {
     "data": {
      "application/vnd.jupyter.widget-view+json": {
       "model_id": "15f8ced20058482f921a1c8a39a21e59",
       "version_major": 2,
       "version_minor": 0
      },
      "text/plain": [
       "Map:   0%|          | 0/252 [00:00<?, ? examples/s]"
      ]
     },
     "metadata": {},
     "output_type": "display_data"
    },
    {
     "data": {
      "application/vnd.jupyter.widget-view+json": {
       "model_id": "1f3b672e187b4953a4e64cf17abe864b",
       "version_major": 2,
       "version_minor": 0
      },
      "text/plain": [
       "Map:   0%|          | 0/252 [00:00<?, ? examples/s]"
      ]
     },
     "metadata": {},
     "output_type": "display_data"
    },
    {
     "data": {
      "application/vnd.jupyter.widget-view+json": {
       "model_id": "387f2915382247c093aebd3f7a44a475",
       "version_major": 2,
       "version_minor": 0
      },
      "text/plain": [
       "Map:   0%|          | 0/252 [00:00<?, ? examples/s]"
      ]
     },
     "metadata": {},
     "output_type": "display_data"
    },
    {
     "data": {
      "application/vnd.jupyter.widget-view+json": {
       "model_id": "c824cc429c8c40d1bab5d95661e51a04",
       "version_major": 2,
       "version_minor": 0
      },
      "text/plain": [
       "Map:   0%|          | 0/252 [00:00<?, ? examples/s]"
      ]
     },
     "metadata": {},
     "output_type": "display_data"
    },
    {
     "data": {
      "application/vnd.jupyter.widget-view+json": {
       "model_id": "760782ace2cd41b699bb8ccef8ff485b",
       "version_major": 2,
       "version_minor": 0
      },
      "text/plain": [
       "Map:   0%|          | 0/252 [00:00<?, ? examples/s]"
      ]
     },
     "metadata": {},
     "output_type": "display_data"
    },
    {
     "data": {
      "application/vnd.jupyter.widget-view+json": {
       "model_id": "6cd49fb1bdb3478c83267e6df1b095a9",
       "version_major": 2,
       "version_minor": 0
      },
      "text/plain": [
       "Map:   0%|          | 0/252 [00:00<?, ? examples/s]"
      ]
     },
     "metadata": {},
     "output_type": "display_data"
    },
    {
     "data": {
      "application/vnd.jupyter.widget-view+json": {
       "model_id": "7611ccaf45cf45279d6affc5cede1955",
       "version_major": 2,
       "version_minor": 0
      },
      "text/plain": [
       "Map:   0%|          | 0/252 [00:00<?, ? examples/s]"
      ]
     },
     "metadata": {},
     "output_type": "display_data"
    },
    {
     "data": {
      "application/vnd.jupyter.widget-view+json": {
       "model_id": "a6bebfdb7e2745a2b6f1a005cf69651a",
       "version_major": 2,
       "version_minor": 0
      },
      "text/plain": [
       "Map:   0%|          | 0/252 [00:00<?, ? examples/s]"
      ]
     },
     "metadata": {},
     "output_type": "display_data"
    },
    {
     "data": {
      "application/vnd.jupyter.widget-view+json": {
       "model_id": "127ddc75dae7457e9da8348521025554",
       "version_major": 2,
       "version_minor": 0
      },
      "text/plain": [
       "Map:   0%|          | 0/252 [00:00<?, ? examples/s]"
      ]
     },
     "metadata": {},
     "output_type": "display_data"
    },
    {
     "data": {
      "application/vnd.jupyter.widget-view+json": {
       "model_id": "d0e8110f316940718c856b6069b4b6d4",
       "version_major": 2,
       "version_minor": 0
      },
      "text/plain": [
       "Map:   0%|          | 0/252 [00:00<?, ? examples/s]"
      ]
     },
     "metadata": {},
     "output_type": "display_data"
    },
    {
     "data": {
      "application/vnd.jupyter.widget-view+json": {
       "model_id": "31cc43f2b3df474e88bda45a1e17f82c",
       "version_major": 2,
       "version_minor": 0
      },
      "text/plain": [
       "Map:   0%|          | 0/252 [00:00<?, ? examples/s]"
      ]
     },
     "metadata": {},
     "output_type": "display_data"
    },
    {
     "data": {
      "application/vnd.jupyter.widget-view+json": {
       "model_id": "97f847463adc4f71b3850bb51fa91f10",
       "version_major": 2,
       "version_minor": 0
      },
      "text/plain": [
       "Map:   0%|          | 0/252 [00:00<?, ? examples/s]"
      ]
     },
     "metadata": {},
     "output_type": "display_data"
    },
    {
     "data": {
      "application/vnd.jupyter.widget-view+json": {
       "model_id": "a82a34baa08445be9a22c9f918b23708",
       "version_major": 2,
       "version_minor": 0
      },
      "text/plain": [
       "Map:   0%|          | 0/252 [00:00<?, ? examples/s]"
      ]
     },
     "metadata": {},
     "output_type": "display_data"
    },
    {
     "data": {
      "application/vnd.jupyter.widget-view+json": {
       "model_id": "effa172643294c808a010fecf93abfa1",
       "version_major": 2,
       "version_minor": 0
      },
      "text/plain": [
       "Map:   0%|          | 0/252 [00:00<?, ? examples/s]"
      ]
     },
     "metadata": {},
     "output_type": "display_data"
    },
    {
     "data": {
      "application/vnd.jupyter.widget-view+json": {
       "model_id": "009bcb6ecf25430cb5addee34b245c10",
       "version_major": 2,
       "version_minor": 0
      },
      "text/plain": [
       "Map:   0%|          | 0/252 [00:00<?, ? examples/s]"
      ]
     },
     "metadata": {},
     "output_type": "display_data"
    },
    {
     "data": {
      "application/vnd.jupyter.widget-view+json": {
       "model_id": "21c3568b758342428b5ab82361ed0dca",
       "version_major": 2,
       "version_minor": 0
      },
      "text/plain": [
       "Map:   0%|          | 0/252 [00:00<?, ? examples/s]"
      ]
     },
     "metadata": {},
     "output_type": "display_data"
    },
    {
     "data": {
      "application/vnd.jupyter.widget-view+json": {
       "model_id": "1ac6dcc3bf1b460784d24885eddf462e",
       "version_major": 2,
       "version_minor": 0
      },
      "text/plain": [
       "Map:   0%|          | 0/252 [00:00<?, ? examples/s]"
      ]
     },
     "metadata": {},
     "output_type": "display_data"
    },
    {
     "data": {
      "application/vnd.jupyter.widget-view+json": {
       "model_id": "152c663d38694f09bc36a7ba485f34fc",
       "version_major": 2,
       "version_minor": 0
      },
      "text/plain": [
       "Map:   0%|          | 0/252 [00:00<?, ? examples/s]"
      ]
     },
     "metadata": {},
     "output_type": "display_data"
    },
    {
     "data": {
      "application/vnd.jupyter.widget-view+json": {
       "model_id": "1c3b3076543a476887bf99e5b57049e8",
       "version_major": 2,
       "version_minor": 0
      },
      "text/plain": [
       "Map:   0%|          | 0/252 [00:00<?, ? examples/s]"
      ]
     },
     "metadata": {},
     "output_type": "display_data"
    },
    {
     "data": {
      "application/vnd.jupyter.widget-view+json": {
       "model_id": "53516ae2d66b475685abd9dc5d7325b7",
       "version_major": 2,
       "version_minor": 0
      },
      "text/plain": [
       "Map:   0%|          | 0/252 [00:00<?, ? examples/s]"
      ]
     },
     "metadata": {},
     "output_type": "display_data"
    },
    {
     "data": {
      "application/vnd.jupyter.widget-view+json": {
       "model_id": "cd779d59e3e3474ea0925794572185df",
       "version_major": 2,
       "version_minor": 0
      },
      "text/plain": [
       "Map:   0%|          | 0/252 [00:00<?, ? examples/s]"
      ]
     },
     "metadata": {},
     "output_type": "display_data"
    },
    {
     "data": {
      "application/vnd.jupyter.widget-view+json": {
       "model_id": "3e501bae3eb64f859ae7c23da3ea46fb",
       "version_major": 2,
       "version_minor": 0
      },
      "text/plain": [
       "Map:   0%|          | 0/252 [00:00<?, ? examples/s]"
      ]
     },
     "metadata": {},
     "output_type": "display_data"
    },
    {
     "data": {
      "application/vnd.jupyter.widget-view+json": {
       "model_id": "d86fed65053645cfba94b8b6b4ac4d8f",
       "version_major": 2,
       "version_minor": 0
      },
      "text/plain": [
       "Map:   0%|          | 0/252 [00:00<?, ? examples/s]"
      ]
     },
     "metadata": {},
     "output_type": "display_data"
    },
    {
     "data": {
      "application/vnd.jupyter.widget-view+json": {
       "model_id": "c6199c49507149ee95b11d8aa9a7f5a0",
       "version_major": 2,
       "version_minor": 0
      },
      "text/plain": [
       "Map:   0%|          | 0/252 [00:00<?, ? examples/s]"
      ]
     },
     "metadata": {},
     "output_type": "display_data"
    },
    {
     "data": {
      "application/vnd.jupyter.widget-view+json": {
       "model_id": "c0ebe309c7db47e792e2102063aa602b",
       "version_major": 2,
       "version_minor": 0
      },
      "text/plain": [
       "Map:   0%|          | 0/252 [00:00<?, ? examples/s]"
      ]
     },
     "metadata": {},
     "output_type": "display_data"
    },
    {
     "data": {
      "application/vnd.jupyter.widget-view+json": {
       "model_id": "4eaeaa78f8664ec295e3f260ee5a3263",
       "version_major": 2,
       "version_minor": 0
      },
      "text/plain": [
       "Map:   0%|          | 0/252 [00:00<?, ? examples/s]"
      ]
     },
     "metadata": {},
     "output_type": "display_data"
    },
    {
     "data": {
      "application/vnd.jupyter.widget-view+json": {
       "model_id": "848c750bd0db4ba09f3c3940a5e87e13",
       "version_major": 2,
       "version_minor": 0
      },
      "text/plain": [
       "Map:   0%|          | 0/252 [00:00<?, ? examples/s]"
      ]
     },
     "metadata": {},
     "output_type": "display_data"
    },
    {
     "data": {
      "application/vnd.jupyter.widget-view+json": {
       "model_id": "63b4a6cca5104d78a629bd421ecead35",
       "version_major": 2,
       "version_minor": 0
      },
      "text/plain": [
       "Map:   0%|          | 0/252 [00:00<?, ? examples/s]"
      ]
     },
     "metadata": {},
     "output_type": "display_data"
    },
    {
     "data": {
      "application/vnd.jupyter.widget-view+json": {
       "model_id": "1757c177fe9747caaf8c7f00872db1c7",
       "version_major": 2,
       "version_minor": 0
      },
      "text/plain": [
       "Map:   0%|          | 0/252 [00:00<?, ? examples/s]"
      ]
     },
     "metadata": {},
     "output_type": "display_data"
    },
    {
     "data": {
      "application/vnd.jupyter.widget-view+json": {
       "model_id": "4124bf03e2844aaf828ff31cc47d7aa0",
       "version_major": 2,
       "version_minor": 0
      },
      "text/plain": [
       "Map:   0%|          | 0/252 [00:00<?, ? examples/s]"
      ]
     },
     "metadata": {},
     "output_type": "display_data"
    },
    {
     "data": {
      "application/vnd.jupyter.widget-view+json": {
       "model_id": "17ef8b1ac0da4e8583d1aea6567b5dc1",
       "version_major": 2,
       "version_minor": 0
      },
      "text/plain": [
       "Map:   0%|          | 0/252 [00:00<?, ? examples/s]"
      ]
     },
     "metadata": {},
     "output_type": "display_data"
    },
    {
     "data": {
      "application/vnd.jupyter.widget-view+json": {
       "model_id": "c7ef672b5729466eb9772af27ad74aaf",
       "version_major": 2,
       "version_minor": 0
      },
      "text/plain": [
       "Map:   0%|          | 0/252 [00:00<?, ? examples/s]"
      ]
     },
     "metadata": {},
     "output_type": "display_data"
    },
    {
     "data": {
      "application/vnd.jupyter.widget-view+json": {
       "model_id": "749533b7c1294ed0abc8dd04d982a1a1",
       "version_major": 2,
       "version_minor": 0
      },
      "text/plain": [
       "Map:   0%|          | 0/252 [00:00<?, ? examples/s]"
      ]
     },
     "metadata": {},
     "output_type": "display_data"
    },
    {
     "data": {
      "application/vnd.jupyter.widget-view+json": {
       "model_id": "8ae06ca2689545d995805e8660eb1885",
       "version_major": 2,
       "version_minor": 0
      },
      "text/plain": [
       "Map:   0%|          | 0/252 [00:00<?, ? examples/s]"
      ]
     },
     "metadata": {},
     "output_type": "display_data"
    },
    {
     "data": {
      "application/vnd.jupyter.widget-view+json": {
       "model_id": "c18459b6f6474263a849f5926976764c",
       "version_major": 2,
       "version_minor": 0
      },
      "text/plain": [
       "Map:   0%|          | 0/252 [00:00<?, ? examples/s]"
      ]
     },
     "metadata": {},
     "output_type": "display_data"
    },
    {
     "data": {
      "application/vnd.jupyter.widget-view+json": {
       "model_id": "5697c04394884b339b429c048a9d198a",
       "version_major": 2,
       "version_minor": 0
      },
      "text/plain": [
       "Map:   0%|          | 0/252 [00:00<?, ? examples/s]"
      ]
     },
     "metadata": {},
     "output_type": "display_data"
    },
    {
     "data": {
      "application/vnd.jupyter.widget-view+json": {
       "model_id": "ebd3e251728a4442a8bd035f2aa6aa3f",
       "version_major": 2,
       "version_minor": 0
      },
      "text/plain": [
       "Map:   0%|          | 0/252 [00:00<?, ? examples/s]"
      ]
     },
     "metadata": {},
     "output_type": "display_data"
    },
    {
     "data": {
      "application/vnd.jupyter.widget-view+json": {
       "model_id": "0c3cbc10e2b44824a726ed53363d1097",
       "version_major": 2,
       "version_minor": 0
      },
      "text/plain": [
       "Map:   0%|          | 0/252 [00:00<?, ? examples/s]"
      ]
     },
     "metadata": {},
     "output_type": "display_data"
    },
    {
     "data": {
      "application/vnd.jupyter.widget-view+json": {
       "model_id": "b252436b6dc348d6b6739a20b1a03cc1",
       "version_major": 2,
       "version_minor": 0
      },
      "text/plain": [
       "Map:   0%|          | 0/252 [00:00<?, ? examples/s]"
      ]
     },
     "metadata": {},
     "output_type": "display_data"
    },
    {
     "data": {
      "application/vnd.jupyter.widget-view+json": {
       "model_id": "78e44f1623e24319b141d3bfd04ee019",
       "version_major": 2,
       "version_minor": 0
      },
      "text/plain": [
       "Map:   0%|          | 0/252 [00:00<?, ? examples/s]"
      ]
     },
     "metadata": {},
     "output_type": "display_data"
    },
    {
     "data": {
      "application/vnd.jupyter.widget-view+json": {
       "model_id": "d327f14ff4f24c3c82d1e75ee5c48a71",
       "version_major": 2,
       "version_minor": 0
      },
      "text/plain": [
       "Map:   0%|          | 0/252 [00:00<?, ? examples/s]"
      ]
     },
     "metadata": {},
     "output_type": "display_data"
    },
    {
     "data": {
      "application/vnd.jupyter.widget-view+json": {
       "model_id": "e427f03ca4254093b6e75fc5eed3d87b",
       "version_major": 2,
       "version_minor": 0
      },
      "text/plain": [
       "Map:   0%|          | 0/252 [00:00<?, ? examples/s]"
      ]
     },
     "metadata": {},
     "output_type": "display_data"
    },
    {
     "data": {
      "application/vnd.jupyter.widget-view+json": {
       "model_id": "a9ebb24245f445b5a9014d89d7de06e5",
       "version_major": 2,
       "version_minor": 0
      },
      "text/plain": [
       "Map:   0%|          | 0/252 [00:00<?, ? examples/s]"
      ]
     },
     "metadata": {},
     "output_type": "display_data"
    },
    {
     "data": {
      "application/vnd.jupyter.widget-view+json": {
       "model_id": "fdcd16678207461fbe680ba8d4811d2d",
       "version_major": 2,
       "version_minor": 0
      },
      "text/plain": [
       "Map:   0%|          | 0/252 [00:00<?, ? examples/s]"
      ]
     },
     "metadata": {},
     "output_type": "display_data"
    },
    {
     "data": {
      "application/vnd.jupyter.widget-view+json": {
       "model_id": "575bc33b37934ca69b526f2fa59a67de",
       "version_major": 2,
       "version_minor": 0
      },
      "text/plain": [
       "Map:   0%|          | 0/252 [00:00<?, ? examples/s]"
      ]
     },
     "metadata": {},
     "output_type": "display_data"
    },
    {
     "name": "stdout",
     "output_type": "stream",
     "text": [
      "Pseudo log perplexity hugging face: 466.1853332519531\n",
      "Average pseudo log perplexity hugging_face: 3.642072916030884\n"
     ]
    }
   ],
   "source": [
    "pll,pll_bis = l2R_MLM_Crossentropy(model_kb,subset_kb,tokenizer)"
   ]
  },
  {
   "cell_type": "code",
   "execution_count": 20,
   "metadata": {},
   "outputs": [
    {
     "data": {
      "text/plain": [
       "tensor(466.1853, device='cuda:0')"
      ]
     },
     "execution_count": 20,
     "metadata": {},
     "output_type": "execute_result"
    }
   ],
   "source": [
    "pll"
   ]
  },
  {
   "cell_type": "code",
   "execution_count": 17,
   "metadata": {},
   "outputs": [
    {
     "ename": "KeyboardInterrupt",
     "evalue": "",
     "output_type": "error",
     "traceback": [
      "\u001b[0;31m---------------------------------------------------------------------------\u001b[0m",
      "\u001b[0;31mKeyboardInterrupt\u001b[0m                         Traceback (most recent call last)",
      "Cell \u001b[0;32mIn[17], line 14\u001b[0m\n\u001b[1;32m     12\u001b[0m     loss \u001b[38;5;241m=\u001b[39m loss_function(output\u001b[38;5;241m.\u001b[39mlogits\u001b[38;5;241m.\u001b[39mview(\u001b[38;5;241m-\u001b[39m\u001b[38;5;241m1\u001b[39m,output\u001b[38;5;241m.\u001b[39mlogits\u001b[38;5;241m.\u001b[39msize(\u001b[38;5;241m-\u001b[39m\u001b[38;5;241m1\u001b[39m)), batch[\u001b[38;5;124m'\u001b[39m\u001b[38;5;124mlabels\u001b[39m\u001b[38;5;124m'\u001b[39m]\u001b[38;5;241m.\u001b[39mview(\u001b[38;5;241m-\u001b[39m\u001b[38;5;241m1\u001b[39m))\n\u001b[1;32m     13\u001b[0m     \u001b[38;5;28;01mdel\u001b[39;00m output\n\u001b[0;32m---> 14\u001b[0m     losses\u001b[38;5;241m.\u001b[39mextend(\u001b[43mloss\u001b[49m\u001b[38;5;241;43m.\u001b[39;49m\u001b[43mtolist\u001b[49m\u001b[43m(\u001b[49m\u001b[43m)\u001b[49m)\n\u001b[1;32m     15\u001b[0m     token_indices_with_high_loss\u001b[38;5;241m.\u001b[39mextend(batch[\u001b[38;5;124m'\u001b[39m\u001b[38;5;124mlabels\u001b[39m\u001b[38;5;124m'\u001b[39m]\u001b[38;5;241m.\u001b[39mview(\u001b[38;5;241m-\u001b[39m\u001b[38;5;241m1\u001b[39m)\u001b[38;5;241m.\u001b[39mtolist())\n\u001b[1;32m     18\u001b[0m high_loss_indices \u001b[38;5;241m=\u001b[39m \u001b[38;5;28msorted\u001b[39m(\u001b[38;5;28mrange\u001b[39m(\u001b[38;5;28mlen\u001b[39m(losses)), key\u001b[38;5;241m=\u001b[39m\u001b[38;5;28;01mlambda\u001b[39;00m i: losses[i], reverse\u001b[38;5;241m=\u001b[39m\u001b[38;5;28;01mTrue\u001b[39;00m)[:\u001b[38;5;241m50\u001b[39m]\n",
      "\u001b[0;31mKeyboardInterrupt\u001b[0m: "
     ]
    }
   ],
   "source": [
    "# Undertanding the loss\n",
    "import torch.nn as nn\n",
    "\n",
    "vocab_size = 50328\n",
    "loss_function=nn.CrossEntropyLoss(reduction='none')\n",
    "losses=[]\n",
    "token_indices_with_high_loss = []\n",
    "\n",
    "for batch in valid_dataloader :\n",
    "    batch={key : batch[key].to(device) for key in batch.keys()}\n",
    "    output= model_kb(**batch)\n",
    "    loss = loss_function(output.logits.view(-1,output.logits.size(-1)), batch['labels'].view(-1))\n",
    "    del output\n",
    "    losses.extend(loss.tolist())\n",
    "    token_indices_with_high_loss.extend(batch['labels'].view(-1).tolist())\n",
    "    \n",
    "    \n",
    "high_loss_indices = sorted(range(len(losses)), key=lambda i: losses[i], reverse=True)[:50]\n",
    "high_loss_values = [losses[i] for i in high_loss_indices]\n",
    "print(high_loss_values)\n",
    "high_loss_tokens = [token_indices_with_high_loss[i] for i in high_loss_indices]\n",
    "print(high_loss_tokens)\n",
    "high_loss_words = [tokenizer.decode([idx]) for idx in high_loss_tokens]\n",
    "print(high_loss_words)"
   ]
  },
  {
   "cell_type": "code",
   "execution_count": 23,
   "metadata": {},
   "outputs": [],
   "source": [
    "from datasets import Dataset\n",
    "with open(\"valid_dataset.pkl\",\"rb\") as f:\n",
    "    valid_dataset= pickle.load(f)\n",
    "data_collator = preprocessing.data_collector_masking(tokenizer,0.15)\n",
    "valid_dataset=valid_dataset.remove_columns([\"word_ids\",\"token_type_ids\"])\n",
    "valid_dataset=preprocessing.create_deterministic_eval_dataset(valid_dataset[\"valid\"],data_collator)\n",
    "valid_dataloader=preprocessing.create_dataloader(valid_dataset,64,default_data_collator)"
   ]
  },
  {
   "cell_type": "code",
   "execution_count": 36,
   "metadata": {},
   "outputs": [
    {
     "name": "stdout",
     "output_type": "stream",
     "text": [
      "[34.16690444946289, 33.44769287109375, 32.177791595458984, 31.815332412719727, 31.14257049560547, 30.125518798828125, 29.32961654663086, 29.0551815032959, 28.900352478027344, 28.87763214111328, 28.779325485229492, 28.774396896362305, 28.69538688659668, 28.461957931518555, 28.415964126586914, 28.390581130981445, 28.339235305786133, 28.13591957092285, 28.02939796447754, 27.95220184326172, 27.936315536499023, 27.916841506958008, 27.915950775146484, 27.526657104492188, 27.408864974975586, 27.284896850585938, 27.206340789794922, 27.202180862426758, 27.167280197143555, 27.144380569458008, 27.123811721801758, 27.082685470581055, 26.998489379882812, 26.87909698486328, 26.81005859375, 26.754566192626953, 26.7490234375, 26.718589782714844, 26.705434799194336, 26.7049560546875, 26.58800506591797, 26.56228256225586, 26.551862716674805, 26.478626251220703, 26.470779418945312, 26.39838981628418, 26.215553283691406, 26.15913963317871, 26.153779983520508, 26.107723236083984]\n",
      "['intendent', 'reson', 'FR', '##sed', '718', '258', 'replik', '##eck', 'vanlig', 'gram', 'Onsdagen', 'någonting', '##skoncernen', '##nader', '##varo', 'försäkra', 'ned', 'tryggare', '##sapparat', 'bistånd', 'fullt', 'varnings', 'Tittar', 'begär', '##ier', '##vens', 'avstod', '##das', '##oso', '##skri', 'regionerna', 'intellektuella', 'vul', '##ads', 'märkning', '##skar', '##raff', '##oko', '##näringen', 'sitt', 'mitt', '##ati', 'Fru', '##ositionen', 'beskattning', 'Utskottet', '##vot', '##fri', 'höjt', '##rain']\n",
      "['Fan', '##olding', 'Bag', 'ps', 'iir', '##rard', 'pl', '##ankt', '##rew', 'Kv', 'medan', 'skra', 'maff', 'RE', 'igen', 'skrä', 'lett', 'Ven', 'uppr', 'stad', 'ugg', 'tillbakagång', 'Annas', 'viss', 'okt', '##imin', 'likviditet', '##ämnade', 'Hust', 'I', '##ekon', 'stöp', 'ursprungligen', 'jog', 'spur', 'GE', 'Kup', 'göd', '##ää', '##7', 'inriktade', 'krångliga', '##dem', 'tänder', 'se', 'bidrags', '##äl', 'Torne', '##O', 'ner']\n",
      "['##nader', '##varo', '##sapparat', 'ned', 'begär', '##ier', '##vens', 'replik', '##skri', '##ads', 'regionerna', '##skar', '##ositionen', 'försäkra', '##vot', '##fri', '##näringen', '##oko', '##olin', 'fonden', '##äck', '##skill', '##kontakt', '##grip', '##raftt', 'Fru', '##mäl', '##vari', 'Statsrådet', 'Utskottet', '##£', '##ati', '##rift', 'Full', '##farlig', '##eminister', '##iter', 'Pro', '##ande', 'någonting', 'Hultsfred', '##ötet', '##igen', '##speriod', 'Kungl', '##pekt', 'Onsdagen', '##kning', '##£', 'Kungl']\n"
     ]
    }
   ],
   "source": [
    "import torch.nn as nn\n",
    "\n",
    "vocab_size = 50328\n",
    "loss_function=nn.CrossEntropyLoss(reduction='none')\n",
    "losses=[]\n",
    "losses_f=[]\n",
    "losses_diff=[]\n",
    "token_indices_with_high_loss = []\n",
    "token_id =  tokenizer.convert_tokens_to_ids('Riksdagen')\n",
    "for batch in valid_dataloader :\n",
    "    batch={key : batch[key].to(device) for key in batch.keys()}\n",
    "    with torch.no_grad():\n",
    "     output1= model_kb(**batch)\n",
    "     output2=model_hugging_face(**batch)\n",
    "    mask = (batch['labels'].view(-1) == token_id)\n",
    "    loss1 = loss_function(output1.logits.view(-1,output1.logits.size(-1)), batch['labels'].view(-1))\n",
    "    loss2= loss_function(output2.logits.view(-1,output2.logits.size(-1)), batch['labels'].view(-1))\n",
    "    del output1\n",
    "    del output2\n",
    "    loss_diff =(loss1-loss2)\n",
    "    losses.extend(loss1.tolist())\n",
    "    losses_f.extend(loss2.tolist())\n",
    "    losses_diff.extend(loss_diff.tolist())\n",
    "    token_indices_with_high_loss.extend(batch['labels'].view(-1).tolist())\n",
    "    \n",
    "    \n",
    "high_loss_diff_indices = sorted(range(len(losses_diff)), key=lambda i: losses_diff[i], reverse=True)[:50]\n",
    "high_loss_indices = sorted(range(len(losses)), key=lambda i: losses[i], reverse=True)[:50]\n",
    "high_loss2_indices = sorted(range(len(losses_f)), key=lambda i: losses_f[i], reverse=True)[:50]\n",
    "high_loss_values = [losses[i] for i in high_loss_indices]\n",
    "high_loss2_values = [losses[i] for i in high_loss2_indices]\n",
    "high_loss_diff_values = [losses_diff[i] for i in high_loss_diff_indices]\n",
    "print(high_loss_values)\n",
    "high_loss_tokens = [token_indices_with_high_loss[i] for i in high_loss_indices]\n",
    "high_loss2_tokens = [token_indices_with_high_loss[i] for i in high_loss2_indices]\n",
    "high_loss_diff_tokens = [token_indices_with_high_loss[i] for i in high_loss_diff_indices]\n",
    "high_loss_words = [tokenizer.decode([idx]) for idx in high_loss_tokens]\n",
    "print(high_loss_words)\n",
    "high_loss2_words = [tokenizer.decode([idx]) for idx in high_loss2_tokens]\n",
    "print(high_loss2_words)\n",
    "high_loss_diff_words = [tokenizer.decode([idx]) for idx in high_loss_diff_tokens]\n",
    "print(high_loss_diff_words)"
   ]
  },
  {
   "cell_type": "code",
   "execution_count": 29,
   "metadata": {},
   "outputs": [
    {
     "name": "stdout",
     "output_type": "stream",
     "text": [
      "0.0\n"
     ]
    }
   ],
   "source": [
    "high_loss_indices = sorted(range(len(losses)), key=lambda i: losses[i], reverse=True)\n",
    "index = high_loss_indices.index(token_id)\n",
    "\n",
    "print(losses[index])"
   ]
  },
  {
   "cell_type": "code",
   "execution_count": 32,
   "metadata": {},
   "outputs": [
    {
     "name": "stdout",
     "output_type": "stream",
     "text": [
      "97637632\n",
      "97637632\n"
     ]
    }
   ],
   "source": [
    "print(len(losses))\n",
    "print(len(high_loss_indices))"
   ]
  },
  {
   "cell_type": "code",
   "execution_count": 38,
   "metadata": {},
   "outputs": [
    {
     "name": "stdout",
     "output_type": "stream",
     "text": [
      "[34.16690444946289, 33.44769287109375, 32.177791595458984, 31.815332412719727, 31.14257049560547, 30.125518798828125, 29.32961654663086, 29.0551815032959, 28.900352478027344, 28.87763214111328, 28.779325485229492, 28.774396896362305, 28.69538688659668, 28.461957931518555, 28.415964126586914, 28.390581130981445, 28.339235305786133, 28.13591957092285, 28.02939796447754, 27.95220184326172, 27.936315536499023, 27.916841506958008, 27.915950775146484, 27.526657104492188, 27.408864974975586, 27.284896850585938, 27.206340789794922, 27.202180862426758, 27.167280197143555, 27.144380569458008, 27.123811721801758, 27.082685470581055, 26.998489379882812, 26.87909698486328, 26.81005859375, 26.754566192626953, 26.7490234375, 26.718589782714844, 26.705434799194336, 26.7049560546875, 26.58800506591797, 26.56228256225586, 26.551862716674805, 26.478626251220703, 26.470779418945312, 26.39838981628418, 26.215553283691406, 26.15913963317871, 26.153779983520508, 26.107723236083984, 26.070486068725586, 26.055673599243164, 25.99539566040039, 25.98761749267578, 25.980789184570312, 25.945919036865234, 25.943580627441406, 25.911836624145508, 25.8718204498291, 25.85581398010254, 25.83426856994629, 25.82501983642578, 25.779787063598633, 25.770078659057617, 25.766098022460938, 25.7552547454834, 25.746700286865234, 25.737943649291992, 25.708389282226562, 25.70707893371582, 25.68930435180664, 25.633005142211914, 25.62299156188965, 25.559162139892578, 25.533966064453125, 25.48935890197754, 25.466732025146484, 25.45006561279297, 25.391990661621094, 25.38400650024414, 25.379568099975586, 25.37479019165039, 25.337791442871094, 25.284961700439453, 25.235857009887695, 25.203046798706055, 25.172916412353516, 25.166385650634766, 25.166269302368164, 25.135250091552734, 25.13243865966797, 25.119619369506836, 25.110782623291016, 25.104461669921875, 25.087648391723633, 25.071748733520508, 25.037311553955078, 25.004566192626953, 24.992456436157227, 24.964292526245117, 24.96310806274414, 24.953792572021484, 24.934309005737305, 24.930740356445312, 24.9266414642334, 24.899372100830078, 24.895944595336914, 24.881271362304688, 24.872072219848633, 24.859764099121094, 24.802461624145508, 24.78628921508789, 24.776552200317383, 24.756023406982422, 24.75285530090332, 24.748600006103516, 24.671358108520508, 24.660486221313477, 24.642234802246094, 24.638273239135742, 24.63726806640625, 24.614315032958984, 24.606428146362305, 24.605953216552734, 24.594045639038086, 24.582962036132812, 24.578824996948242, 24.567424774169922, 24.56496238708496, 24.536327362060547, 24.53554916381836, 24.534992218017578, 24.52111053466797, 24.513633728027344, 24.459178924560547, 24.439804077148438, 24.433732986450195, 24.41289520263672, 24.41251564025879, 24.401445388793945, 24.390108108520508, 24.374975204467773, 24.36874771118164, 24.36461639404297, 24.3643798828125, 24.350698471069336, 24.335773468017578, 24.32086181640625, 24.318239212036133, 24.316377639770508, 24.31288719177246, 24.311302185058594, 24.29438591003418, 24.282817840576172, 24.252504348754883, 24.219776153564453, 24.21502685546875, 24.210975646972656, 24.208227157592773, 24.207948684692383, 24.194393157958984, 24.194290161132812, 24.18315887451172, 24.15412139892578, 24.121192932128906, 24.07237434387207, 24.064476013183594, 24.051015853881836, 24.032899856567383, 24.031211853027344, 24.013317108154297, 24.01103401184082, 24.0043888092041, 23.9974422454834, 23.991361618041992, 23.98941993713379, 23.985551834106445, 23.98000717163086, 23.979143142700195, 23.97325325012207, 23.970245361328125, 23.970027923583984, 23.969688415527344, 23.95907211303711, 23.946489334106445, 23.9421443939209, 23.94091796875, 23.929391860961914, 23.9234676361084, 23.91089630126953, 23.908979415893555, 23.90799331665039, 23.904592514038086, 23.90156364440918, 23.875709533691406, 23.87225914001465, 23.872241973876953, 23.86884880065918, 23.862606048583984, 23.860931396484375, 23.84885025024414, 23.81612777709961, 23.797651290893555, 23.793004989624023, 23.771930694580078, 23.76512336730957, 23.763397216796875, 23.756044387817383, 23.75324821472168, 23.751258850097656, 23.74048614501953, 23.733787536621094, 23.727989196777344, 23.726572036743164, 23.72627830505371, 23.72576904296875, 23.721494674682617, 23.72004508972168, 23.71516990661621, 23.686481475830078, 23.68143081665039, 23.679094314575195, 23.678638458251953, 23.677885055541992, 23.66709327697754, 23.666709899902344, 23.664142608642578, 23.655860900878906, 23.65277671813965, 23.65189552307129, 23.647157669067383, 23.643484115600586, 23.637598037719727, 23.618852615356445, 23.610795974731445, 23.609521865844727, 23.60652732849121, 23.60236167907715, 23.599821090698242, 23.597217559814453, 23.566253662109375, 23.547809600830078, 23.544530868530273, 23.539955139160156, 23.529804229736328, 23.519634246826172, 23.512617111206055, 23.507478713989258, 23.495439529418945, 23.477481842041016, 23.476715087890625, 23.462688446044922, 23.458341598510742, 23.45794105529785, 23.442596435546875, 23.439640045166016, 23.437976837158203, 23.43433952331543, 23.41246795654297, 23.41038703918457, 23.398576736450195, 23.394601821899414, 23.393877029418945, 23.391939163208008, 23.388111114501953, 23.385417938232422, 23.376314163208008, 23.375213623046875, 23.366304397583008, 23.36277198791504, 23.358062744140625, 23.35797119140625, 23.354501724243164, 23.34974479675293, 23.347644805908203, 23.33729362487793, 23.325664520263672, 23.30159568786621, 23.294862747192383, 23.291414260864258, 23.291179656982422, 23.288721084594727, 23.28119659423828, 23.275409698486328, 23.268335342407227, 23.266870498657227, 23.26535987854004, 23.263505935668945, 23.254545211791992, 23.2485294342041, 23.23908233642578, 23.23550033569336, 23.229114532470703, 23.22420310974121, 23.220075607299805, 23.217344284057617, 23.21604347229004, 23.20674705505371, 23.203899383544922, 23.20387077331543]\n",
      "['intendent', 'reson', 'FR', '##sed', '718', '258', 'replik', '##eck', 'vanlig', 'gram', 'Onsdagen', 'någonting', '##skoncernen', '##nader', '##varo', 'försäkra', 'ned', 'tryggare', '##sapparat', 'bistånd', 'fullt', 'varnings', 'Tittar', 'begär', '##ier', '##vens', 'avstod', '##das', '##oso', '##skri', 'regionerna', 'intellektuella', 'vul', '##ads', 'märkning', '##skar', '##raff', '##oko', '##näringen', 'sitt', 'mitt', '##ati', 'Fru', '##ositionen', 'beskattning', 'Utskottet', '##vot', '##fri', 'höjt', '##rain', 'fonden', '##olin', '##eminister', '##äck', '##ullen', '##ultur', 'peng', 'Hultsfred', '##rust', 'RE', 'ställt', '##kontakt', 'framfört', '##ilton', 'Full', 'Visar', '##bod', 'lönen', '##skill', 'Tisdagen', 'Möj', '##broms', 'Flott', 'Herrar', '##grip', 'större', '##raftt', 'pläder', '##mäl', '##vari', '##rygg', 'Statsrådet', '##ovård', '##£', 'dröja', '##farlig', '##smetoder', '##ötet', '##samhet', 'Kungl', 'vild', '##perioder', 'läroverk', '##rift', 'enskildes', '##verks', 'respekteras', 'Nyberg', 'riktningar', '##använd', '##hållningen', 'tvill', 'KD', 'planer', 'skilde', '##iter', 'Lördagen', 'Därför', 'Pro', '##sättas', '##ande', '##pps', 'utgifterna', 'EG', '##skyddet', 'hissar', '##situationen', 'Den', 'Onsdagen', 'brors', 'fisk', 'förvärvat', '##igen', '##vågen', 'skildring', 'regeringen', 'Kungl', 'Måndagen', '##speriod', 'Stats', '##förhållandena', 'hon', 'attrah', '##pekt', '##gjorde', 'ÖRE', 'tagas', '##riper', '148', '##insk', '##£', 'Undersök', '##kning', 'rr', 'allmänhet', '##ännen', 'ent', '##kostnader', '##antalet', '##buss', '##arbetar', 'Sung', 'bekräfta', 'Torsdagen', 'grundlag', 'godkännas', 'käpp', '##sten', 'motiv', '##mäter', 'Jern', 'Fe', 'Torsdagen', 'företagens', '##arne', 'besparingar', '##mt', 'fi', '##agen', 'JOHANSSON', 'Internationellt', 'föres', '##NE', 'förplikt', '##åtgärder', 'missbruket', 'Wies', '##lins', 'ingått', 'ass', '##ition', 'RS', '##enberg', '##res', 'delar', 'Onsdagen', 'trik', 'folkomröstning', '##taga', 'Lördagen', '##ace', 'Måndagen', '##aster', 'MATT', 'Nr', '##stad', 'ambition', 'folken', 'Riksdagen', '##gru', '##hai', 'talman', 'AV', 'tåg', 'väte', 'friv', '##lay', 'ökning', '##ställelse', 'reservation', '##iva', '##von', '##ång', '##vit', '##ögen', 'Onsdagen', 'Gre', '##hk', 'passar', '##sint', 'sum', 'lyssna', '##stad', '##läggningen', '##sbyn', '##vitet', 'Onsdagen', '##sut', '##blom', '##smöjligheter', '##ankar', 'leg', 'RA', '134', '##etabl', 'hemtjänst', 'betydelsel', '##leri', '##liga', 'Det', '##rot', '##21', 'Långt', '##smark', '##standard', '##aras', 'vil', 'Armé', '##ingen', 'prester', '##is', 'frans', '##låt', 'YR', 'cur', '##inu', '##roduktion', 'riktningen', '##ösning', 'rakt', '##olin', 'Fredagen', '##uti', 'Torsdagen', 'Nr', 'Statsrådet', 'Maj', '##£', 'påstått', '##inu', 'förbättra', 'vakten', 'uppdrag', '##riska', '##agen', '##höj', 'drar', '##nings', 'statsbidrag', 'Fredagen', '##ningskoden', 'Pro', '##änk', '##ställts', '##material', 'Lördagen', 'medel', '##ita', 'tut', 'tillhanda', '##imin', 'bergs', 'tycker', 'förklarar', '##lim', '##753', 'Måndagen', 'välkommet', 'Eg', '152']\n",
      "['Fan', '##olding', 'Bag', 'ps', 'iir', '##rard', 'pl', '##ankt', '##rew', 'Kv', 'medan', 'skra', 'maff', 'RE', 'igen', 'skrä', 'lett', 'Ven', 'uppr', 'stad', 'ugg', 'tillbakagång', 'Annas', 'viss', 'okt', '##imin', 'likviditet', '##ämnade', 'Hust', 'I', '##ekon', 'stöp', 'ursprungligen', 'jog', 'spur', 'GE', 'Kup', 'göd', '##ää', '##7', 'inriktade', 'krångliga', '##dem', 'tänder', 'se', 'bidrags', '##äl', 'Torne', '##O', 'ner', 'rr', 'run', 'ell', 'eli', 'Gubb', 'Kö', 'analyseras', '##e', 'saga', 'potent', 'iv', '##FA', 'per', '##urt', 'skåda', 'Av', 'Så', 'störta', 'förvånar', 'måttet', 'ent', 'Or', 'möd', 'menat', '##ione', '##ng', 'dolda', 'vet', 'bostäder', 'bubbel', 'hans', 'Jod', 'breda', '##GE', '##ting', 'Bil', 'hästa', 'HE', 'önskningar', 'fr', 'Forsgren', '##kostnader', '##von', 'des', 'finger', 'fastställt', '##os', 'Reeves', 'gr', 'varva', 'ER', 'andar', 'biografer', 'underlag', 'felt', '##NE', 'lll', 'hörd', 'sanningen', 'ned', '##sback', 'num', '##vett', 'ass', 'sk', 'dök', 'TE', 'RS', 'identitet', 'Skal', '##lat', 'universitetet', 'TE', 'AN', '##rät', 'Er', 'Diamant', 'SN', 'Lillen', 'läder', 'Zetterlund', 'vald', '##mn', 'mil', 'innes', 'FR', '##aga', 'nattetid', '##d', '##fte', 'in', 'Byggd', 'Hill', 'ske', 'reson', '##los', '##min', '##å', '##när', 'beskjut', 'obligationer', 'lära', 'härom', '49', 'hels', '##egatan', 'dramatisk', 'frans', 'åtstram', 'små', 'Jon', '##err', 'de', 'kontakt', 'låg', 'Rein', 'honom', 'jour', 'Brasilien', 'varandra', '##inu', 'stött', '268', '##igan', '11', 'BARN', '##järn', 'rekl', '##sten', 'Hug', 'hand', 'tillg', '##bär', 'Char', 'ri', 'En', 'råg', 'dö', 'fil', 'ers', 'havs', 'utförda', 'NA', '45', 'kanske', 'leg', '149', 'ärm', 'stöl', '##lige', 'ro', 'resande', 'fre', 'grind', 'gå', 'iver', 'lönar', 'ur', 'lager', 'Max', '162', 'interpellation', '##tak', 'Kungsängen', 'engagemang', 'sig', 'viss', 'Gustaf', 'Bern', 'fen', '##TT', '##go', 'Ön', '##8', 'studenter', '##ö', 'FR', 'CARL', 'dilem', 'hyv', '##tio', 'ot', 'r', '##ven', 'sega', 'fe', '##inska', '##stämm', 'u', 'First', 'kod', 'spär', 'has', 'Bali', 'rest', '##ält', 'lev', 'praktiska', 'äg', 'af', '##uds', 'som', '##vägs', 'stämning', '##gyn', 'ske', '##sur', '25', '##iem', 'vard', 'rev', 'Kr', 'radi', 'parallell', '##gala', 'Södra', 'synen', 'ekonomisk', 'munt', 'hög', 'område', 'sympt', 'Dä', 'Rib', 'moget', 'förordningen', 'dennes', '##ana', 'styrelser', '258', 'dragen', 'Hu', 'ske', '##249', '!', 'arvode', '719', 'san', 'Sjukhuset', 'Br', '##åra', 'rakt', 'halva', 'd', 'gå', '82', '##niska', 'löses', '##öld', 'orri']\n",
      "['##nader', '##varo', '##sapparat', 'ned', 'begär', '##ier', '##vens', 'replik', '##skri', '##ads', 'regionerna', '##skar', '##ositionen', 'försäkra', '##vot', '##fri', '##näringen', '##oko', '##olin', 'fonden', '##äck', '##skill', '##kontakt', '##grip', '##raftt', 'Fru', '##mäl', '##vari', 'Statsrådet', 'Utskottet', '##£', '##ati', '##rift', 'Full', '##farlig', '##eminister', '##iter', 'Pro', '##ande', 'någonting', 'Hultsfred', '##ötet', '##igen', '##speriod', 'Kungl', '##pekt', 'Onsdagen', '##kning', '##£', 'Kungl', 'Flott', '##sättas', '##arbetar', '718', '##mäter', '##mt', 'fi', '##NE', 'godkännas', 'JOHANSSON', 'Onsdagen', '##taga', 'Måndagen', 'Nr', '##hai', 'talman', 'Riksdagen', '##ännen', '##ställelse', '##insk', '##iva', '##sint', 'Gre', '##sbyn', '##stad', '##sut', '##läggningen', '##enberg', '##etabl', 'allmänhet', '##rot', '##smark', '##blom', 'betydelsel', '##aras', '##rygg', '##arne', '##låt', '##inu', 'Nr', '##olin', 'Maj', 'Statsrådet', '##£', '##agen', '##gru', 'Fredagen', '##ningskoden', 'Pro', '##änk', '##ställts', '##gi', 'folkomröstning', '##liga', '152', 'av', '##dre', 'Nr', '##pell', '##agen', 'Nr', 'Torsdagen', 'avstod', '##mäl', '##låt', '##standard', 'm', '##ingen', '##ultur', '##ml', '##ega', 'Onsdagen', '##ättar', '##as', '##rust', '##samhet', 'Torsdagen', '##gt', '##hus', '##va', 'Larry', '##uktion', 'rum', '##it', '##ater', '##avgift', 'prester', '##IN', 'Måndagen', '##egler', 'planer', '##ierad', 'produktion', 'Tisdagen', '##ening', '##ätter', '##egan', 'uppsatt', '##riper', '##ket', 'hels', '##varn', '##hk', '##ition', '##nal', '##erier', '##nav', '126', 'missbruket', '##ages', 'skilja', 'med', '##niska', 'större', '##vo', '##ela', '##ansträng', 'Bev', 'Onsdagen', '##verks', '##förhållandena', '##over', '##ämnade', 'Nr', '##seende', '##ege', '##rem', '##jel', '##vant', '##nings', '##rod', '##oo', '##nämnd', '##nare', 'vanlig', '##al', 'Nr', '##lind', '##cent', '##arsch', '##mt', '##raff', '##riska', 'reservation', 'lösning', '##kal', '##oritet', 'engagemang', '##vers', 'NIL', 'Forts', 'Nr', 'Måndagen', '1957', '##pr', '##mora', '##block', '##situationen', '##sfonden', '##sbev', '##evi', '##aus', '##ministern', '##ång', 'Utskottet', '##vel', 'talman', 'Fru', '##läd', '##brutet', '##ima', '##elb', 'mill', '##BO', 'Fe', '##tter', '##sm', 'Full', '##FA', 'SCH', 'främmande', 'An', '##material', '##ref', '##aster', '##evi', 'dagordningen', '##ägare', 'cur', '##skur', '##märk', '##fri', '##ation', 'GU', 'Fredagen', 'regeringen', '##vil', 'nationerna', 'Nr', '##emit', '##fver', '##orna', '##produkter', 'upplysningar', '##os', '##uts', 'Tisdagen', '##rå', 'lyda', '##vitet', '148', '##aby', '##sfonden', 'trycks', '##rali', '##£', 'Nr', '##avs', 'Onsdagen', 'bifall', '##atik', '##ägen', 'Kungl', '##kad', '##tj', 'reserv', 'Torsdagen', '##vel', '##res', '##skoncernen', 'förstått', '##orer', '##orp', '##föra', 'korthet', '##igi', '##vägar', '##ssk', '##byt', '##fest', 'PRO', '##£', 'löneökningar', '##tel', '##alerna', '##öp', '##iseringen', '##elet', 'KD', 'skulle']\n"
     ]
    }
   ],
   "source": [
    "high_loss_diff_indices = sorted(range(len(losses_diff)), key=lambda i: losses_diff[i], reverse=True)[:300]\n",
    "high_loss_indices = sorted(range(len(losses)), key=lambda i: losses[i], reverse=True)[:300]\n",
    "high_loss2_indices = sorted(range(len(losses_f)), key=lambda i: losses_f[i], reverse=True)[:300]\n",
    "high_loss_values = [losses[i] for i in high_loss_indices]\n",
    "high_loss2_values = [losses[i] for i in high_loss2_indices]\n",
    "high_loss_diff_values = [losses_diff[i] for i in high_loss_diff_indices]\n",
    "print(high_loss_values)\n",
    "high_loss_tokens = [token_indices_with_high_loss[i] for i in high_loss_indices]\n",
    "high_loss2_tokens = [token_indices_with_high_loss[i] for i in high_loss2_indices]\n",
    "high_loss_diff_tokens = [token_indices_with_high_loss[i] for i in high_loss_diff_indices]\n",
    "high_loss_words = [tokenizer.decode([idx]) for idx in high_loss_tokens]\n",
    "print(high_loss_words)\n",
    "high_loss2_words = [tokenizer.decode([idx]) for idx in high_loss2_tokens]\n",
    "print(high_loss2_words)\n",
    "high_loss_diff_words = [tokenizer.decode([idx]) for idx in high_loss_diff_tokens]\n",
    "print(high_loss_diff_words)"
   ]
  },
  {
   "cell_type": "code",
   "execution_count": 44,
   "metadata": {},
   "outputs": [
    {
     "name": "stdout",
     "output_type": "stream",
     "text": [
      "66\n"
     ]
    },
    {
     "data": {
      "text/plain": [
       "23.811447143554688"
      ]
     },
     "execution_count": 44,
     "metadata": {},
     "output_type": "execute_result"
    }
   ],
   "source": [
    "index = high_loss_diff_words.index('Riksdagen')\n",
    "print(index)\n",
    "high_loss_diff_values[index]"
   ]
  },
  {
   "cell_type": "code",
   "execution_count": 19,
   "metadata": {},
   "outputs": [
    {
     "name": "stdout",
     "output_type": "stream",
     "text": [
      "{'talan'}\n"
     ]
    }
   ],
   "source": [
    "high_words_bis = ['OS', 'liknas', '##olding', 'möd', 'Meri', 'talan', '##GE', '##rard', '##dju', 'Ts', '##ää', 'bor', '##edi', 'inva', '##ssor', 'Brev', 'MT', 'försk', 'Sweden', '##my', 'forsk', 'AN', 'dun', 'Möt', '##perio', '##atal', '##inar', 'RR', '##uch', '##göra', '147', 'fristående', 'anda', 'Meg', 'yn', '##core', 'RÄTT', 'fri', 'häng', 'Kons', '##äl', 'lycka', 'Len', 'til', 'bar', 'hos', '##vatt', 'Mind', 'Sn', 'Kommen']\n",
    "high_loss_words_set = set(high_loss_words)\n",
    "high_words_bis_set = set(high_words_bis)\n",
    "\n",
    "# Use the intersection method\n",
    "inter = high_loss_words_set.intersection(high_words_bis_set)\n",
    "print(inter)"
   ]
  }
 ],
 "metadata": {
  "kernelspec": {
   "display_name": "base",
   "language": "python",
   "name": "python3"
  },
  "language_info": {
   "codemirror_mode": {
    "name": "ipython",
    "version": 3
   },
   "file_extension": ".py",
   "mimetype": "text/x-python",
   "name": "python",
   "nbconvert_exporter": "python",
   "pygments_lexer": "ipython3",
   "version": "3.12.2"
  }
 },
 "nbformat": 4,
 "nbformat_minor": 2
}
