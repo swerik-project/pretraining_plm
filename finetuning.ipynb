{
 "cells": [
  {
   "cell_type": "code",
   "execution_count": 1,
   "metadata": {},
   "outputs": [],
   "source": [
    "from transformers import AutoModelForMaskedLM\n",
    "from transformers import AutoTokenizer\n",
    "import torch\n",
    "from datasets import load_dataset\n",
    "from transformers import DataCollatorForLanguageModeling\n",
    "from transformers import TrainingArguments\n",
    "from transformers import Trainer\n",
    "import math\n",
    "from torch.utils.data import DataLoader\n",
    "from transformers import default_data_collator\n",
    "from torch.optim import AdamW\n",
    "from accelerate import Accelerator\n",
    "from transformers import get_scheduler\n",
    "from tqdm.auto import tqdm\n",
    "import matplotlib.pyplot as plt\n",
    "from data_swerick import create_dataset_swerick\n",
    "from evaluation import evaluation_task,regression_year\n",
    "import preprocessing\n",
    "import pickle"
   ]
  },
  {
   "cell_type": "code",
   "execution_count": 2,
   "metadata": {},
   "outputs": [
    {
     "name": "stdout",
     "output_type": "stream",
     "text": [
      "cuda\n"
     ]
    }
   ],
   "source": [
    "device = torch.device(\"cuda\" if torch.cuda.is_available() else \"cpu\")\n",
    "print(device)"
   ]
  },
  {
   "cell_type": "code",
   "execution_count": 3,
   "metadata": {},
   "outputs": [],
   "source": [
    "def insert_random_mask(batch,data_collator):\n",
    "    features = [dict(zip(batch, t)) for t in zip(*batch.values())]\n",
    "    masked_inputs = data_collator(features)\n",
    "    # Create a new \"masked\" column for each column in the dataset\n",
    "    return {\"masked_\" + k: v.numpy() for k, v in masked_inputs.items()}"
   ]
  },
  {
   "cell_type": "code",
   "execution_count": 8,
   "metadata": {},
   "outputs": [
    {
     "name": "stderr",
     "output_type": "stream",
     "text": [
      "Some weights of the model checkpoint at KBLab/bert-base-swedish-cased were not used when initializing BertForMaskedLM: ['bert.pooler.dense.bias', 'bert.pooler.dense.weight']\n",
      "- This IS expected if you are initializing BertForMaskedLM from the checkpoint of a model trained on another task or with another architecture (e.g. initializing a BertForSequenceClassification model from a BertForPreTraining model).\n",
      "- This IS NOT expected if you are initializing BertForMaskedLM from the checkpoint of a model that you expect to be exactly identical (initializing a BertForSequenceClassification model from a BertForSequenceClassification model).\n"
     ]
    }
   ],
   "source": [
    "model_checkpoint = \"KBLab/bert-base-swedish-cased\"\n",
    "model = preprocessing.create_model_MLM(model_checkpoint)"
   ]
  },
  {
   "cell_type": "code",
   "execution_count": 5,
   "metadata": {},
   "outputs": [],
   "source": [
    "tokenizer =preprocessing.create_tokenizer(model_checkpoint)"
   ]
  },
  {
   "cell_type": "code",
   "execution_count": 6,
   "metadata": {},
   "outputs": [
    {
     "name": "stdout",
     "output_type": "stream",
     "text": [
      "DatasetDict({\n",
      "    train: Dataset({\n",
      "        features: ['protocole', 'texte'],\n",
      "        num_rows: 12319\n",
      "    })\n",
      "    test: Dataset({\n",
      "        features: ['protocole', 'texte'],\n",
      "        num_rows: 2683\n",
      "    })\n",
      "})\n"
     ]
    }
   ],
   "source": [
    "#datasest\n",
    "data_files = {\"train\": \"swerick_data_random_train.pkl\", \"test\": \"swerick_data_random_test.pkl\"}\n",
    "swerick_dataset = load_dataset(\"pandas\",data_files=data_files)\n",
    "print(swerick_dataset)\n"
   ]
  },
  {
   "cell_type": "code",
   "execution_count": 7,
   "metadata": {},
   "outputs": [
    {
     "data": {
      "application/vnd.jupyter.widget-view+json": {
       "model_id": "242041d06ef440b090f781dfdf789bcc",
       "version_major": 2,
       "version_minor": 0
      },
      "text/plain": [
       "Map:   0%|          | 0/12319 [00:00<?, ? examples/s]"
      ]
     },
     "metadata": {},
     "output_type": "display_data"
    }
   ],
   "source": [
    "tokenized_datasets =preprocessing.tokenize_dataset(swerick_dataset,tokenizer)\n",
    "\n",
    "tokenized_datasets"
   ]
  },
  {
   "cell_type": "code",
   "execution_count": null,
   "metadata": {},
   "outputs": [],
   "source": [
    "chunk_size = 128"
   ]
  },
  {
   "cell_type": "code",
   "execution_count": 11,
   "metadata": {},
   "outputs": [],
   "source": [
    "with open(\"token_dataset.pkl\",\"wb\") as f:\n",
    "    pickle.dump(tokenized_datasets,f)"
   ]
  },
  {
   "cell_type": "code",
   "execution_count": 18,
   "metadata": {},
   "outputs": [
    {
     "ename": "ValueError",
     "evalue": "Column name ['protocole'] not in the dataset. Current columns in the dataset: ['input_ids', 'token_type_ids', 'attention_mask', 'word_ids']",
     "output_type": "error",
     "traceback": [
      "\u001b[0;31m---------------------------------------------------------------------------\u001b[0m",
      "\u001b[0;31mValueError\u001b[0m                                Traceback (most recent call last)",
      "Cell \u001b[0;32mIn[18], line 1\u001b[0m\n\u001b[0;32m----> 1\u001b[0m tokenized_datasets\u001b[38;5;241m=\u001b[39mtokenized_datasets\u001b[38;5;241m.\u001b[39mremove_columns(\u001b[38;5;124m\"\u001b[39m\u001b[38;5;124mprotocole\u001b[39m\u001b[38;5;124m\"\u001b[39m)\n",
      "File \u001b[0;32m~/anaconda3/lib/python3.11/site-packages/datasets/dataset_dict.py:366\u001b[0m, in \u001b[0;36mDatasetDict.remove_columns\u001b[0;34m(self, column_names)\u001b[0m\n\u001b[1;32m    330\u001b[0m \u001b[38;5;250m\u001b[39m\u001b[38;5;124;03m\"\"\"\u001b[39;00m\n\u001b[1;32m    331\u001b[0m \u001b[38;5;124;03mRemove one or several column(s) from each split in the dataset\u001b[39;00m\n\u001b[1;32m    332\u001b[0m \u001b[38;5;124;03mand the features associated to the column(s).\u001b[39;00m\n\u001b[0;32m   (...)\u001b[0m\n\u001b[1;32m    363\u001b[0m \u001b[38;5;124;03m```\u001b[39;00m\n\u001b[1;32m    364\u001b[0m \u001b[38;5;124;03m\"\"\"\u001b[39;00m\n\u001b[1;32m    365\u001b[0m \u001b[38;5;28mself\u001b[39m\u001b[38;5;241m.\u001b[39m_check_values_type()\n\u001b[0;32m--> 366\u001b[0m \u001b[38;5;28;01mreturn\u001b[39;00m DatasetDict({k: dataset\u001b[38;5;241m.\u001b[39mremove_columns(column_names\u001b[38;5;241m=\u001b[39mcolumn_names) \u001b[38;5;28;01mfor\u001b[39;00m k, dataset \u001b[38;5;129;01min\u001b[39;00m \u001b[38;5;28mself\u001b[39m\u001b[38;5;241m.\u001b[39mitems()})\n",
      "File \u001b[0;32m~/anaconda3/lib/python3.11/site-packages/datasets/dataset_dict.py:366\u001b[0m, in \u001b[0;36m<dictcomp>\u001b[0;34m(.0)\u001b[0m\n\u001b[1;32m    330\u001b[0m \u001b[38;5;250m\u001b[39m\u001b[38;5;124;03m\"\"\"\u001b[39;00m\n\u001b[1;32m    331\u001b[0m \u001b[38;5;124;03mRemove one or several column(s) from each split in the dataset\u001b[39;00m\n\u001b[1;32m    332\u001b[0m \u001b[38;5;124;03mand the features associated to the column(s).\u001b[39;00m\n\u001b[0;32m   (...)\u001b[0m\n\u001b[1;32m    363\u001b[0m \u001b[38;5;124;03m```\u001b[39;00m\n\u001b[1;32m    364\u001b[0m \u001b[38;5;124;03m\"\"\"\u001b[39;00m\n\u001b[1;32m    365\u001b[0m \u001b[38;5;28mself\u001b[39m\u001b[38;5;241m.\u001b[39m_check_values_type()\n\u001b[0;32m--> 366\u001b[0m \u001b[38;5;28;01mreturn\u001b[39;00m DatasetDict({k: dataset\u001b[38;5;241m.\u001b[39mremove_columns(column_names\u001b[38;5;241m=\u001b[39mcolumn_names) \u001b[38;5;28;01mfor\u001b[39;00m k, dataset \u001b[38;5;129;01min\u001b[39;00m \u001b[38;5;28mself\u001b[39m\u001b[38;5;241m.\u001b[39mitems()})\n",
      "File \u001b[0;32m~/anaconda3/lib/python3.11/site-packages/datasets/arrow_dataset.py:593\u001b[0m, in \u001b[0;36mtransmit_tasks.<locals>.wrapper\u001b[0;34m(*args, **kwargs)\u001b[0m\n\u001b[1;32m    591\u001b[0m     \u001b[38;5;28mself\u001b[39m: \u001b[38;5;124m\"\u001b[39m\u001b[38;5;124mDataset\u001b[39m\u001b[38;5;124m\"\u001b[39m \u001b[38;5;241m=\u001b[39m kwargs\u001b[38;5;241m.\u001b[39mpop(\u001b[38;5;124m\"\u001b[39m\u001b[38;5;124mself\u001b[39m\u001b[38;5;124m\"\u001b[39m)\n\u001b[1;32m    592\u001b[0m \u001b[38;5;66;03m# apply actual function\u001b[39;00m\n\u001b[0;32m--> 593\u001b[0m out: Union[\u001b[38;5;124m\"\u001b[39m\u001b[38;5;124mDataset\u001b[39m\u001b[38;5;124m\"\u001b[39m, \u001b[38;5;124m\"\u001b[39m\u001b[38;5;124mDatasetDict\u001b[39m\u001b[38;5;124m\"\u001b[39m] \u001b[38;5;241m=\u001b[39m func(\u001b[38;5;28mself\u001b[39m, \u001b[38;5;241m*\u001b[39margs, \u001b[38;5;241m*\u001b[39m\u001b[38;5;241m*\u001b[39mkwargs)\n\u001b[1;32m    594\u001b[0m datasets: List[\u001b[38;5;124m\"\u001b[39m\u001b[38;5;124mDataset\u001b[39m\u001b[38;5;124m\"\u001b[39m] \u001b[38;5;241m=\u001b[39m \u001b[38;5;28mlist\u001b[39m(out\u001b[38;5;241m.\u001b[39mvalues()) \u001b[38;5;28;01mif\u001b[39;00m \u001b[38;5;28misinstance\u001b[39m(out, \u001b[38;5;28mdict\u001b[39m) \u001b[38;5;28;01melse\u001b[39;00m [out]\n\u001b[1;32m    595\u001b[0m \u001b[38;5;28;01mfor\u001b[39;00m dataset \u001b[38;5;129;01min\u001b[39;00m datasets:\n\u001b[1;32m    596\u001b[0m     \u001b[38;5;66;03m# Remove task templates if a column mapping of the template is no longer valid\u001b[39;00m\n",
      "File \u001b[0;32m~/anaconda3/lib/python3.11/site-packages/datasets/arrow_dataset.py:558\u001b[0m, in \u001b[0;36mtransmit_format.<locals>.wrapper\u001b[0;34m(*args, **kwargs)\u001b[0m\n\u001b[1;32m    551\u001b[0m self_format \u001b[38;5;241m=\u001b[39m {\n\u001b[1;32m    552\u001b[0m     \u001b[38;5;124m\"\u001b[39m\u001b[38;5;124mtype\u001b[39m\u001b[38;5;124m\"\u001b[39m: \u001b[38;5;28mself\u001b[39m\u001b[38;5;241m.\u001b[39m_format_type,\n\u001b[1;32m    553\u001b[0m     \u001b[38;5;124m\"\u001b[39m\u001b[38;5;124mformat_kwargs\u001b[39m\u001b[38;5;124m\"\u001b[39m: \u001b[38;5;28mself\u001b[39m\u001b[38;5;241m.\u001b[39m_format_kwargs,\n\u001b[1;32m    554\u001b[0m     \u001b[38;5;124m\"\u001b[39m\u001b[38;5;124mcolumns\u001b[39m\u001b[38;5;124m\"\u001b[39m: \u001b[38;5;28mself\u001b[39m\u001b[38;5;241m.\u001b[39m_format_columns,\n\u001b[1;32m    555\u001b[0m     \u001b[38;5;124m\"\u001b[39m\u001b[38;5;124moutput_all_columns\u001b[39m\u001b[38;5;124m\"\u001b[39m: \u001b[38;5;28mself\u001b[39m\u001b[38;5;241m.\u001b[39m_output_all_columns,\n\u001b[1;32m    556\u001b[0m }\n\u001b[1;32m    557\u001b[0m \u001b[38;5;66;03m# apply actual function\u001b[39;00m\n\u001b[0;32m--> 558\u001b[0m out: Union[\u001b[38;5;124m\"\u001b[39m\u001b[38;5;124mDataset\u001b[39m\u001b[38;5;124m\"\u001b[39m, \u001b[38;5;124m\"\u001b[39m\u001b[38;5;124mDatasetDict\u001b[39m\u001b[38;5;124m\"\u001b[39m] \u001b[38;5;241m=\u001b[39m func(\u001b[38;5;28mself\u001b[39m, \u001b[38;5;241m*\u001b[39margs, \u001b[38;5;241m*\u001b[39m\u001b[38;5;241m*\u001b[39mkwargs)\n\u001b[1;32m    559\u001b[0m datasets: List[\u001b[38;5;124m\"\u001b[39m\u001b[38;5;124mDataset\u001b[39m\u001b[38;5;124m\"\u001b[39m] \u001b[38;5;241m=\u001b[39m \u001b[38;5;28mlist\u001b[39m(out\u001b[38;5;241m.\u001b[39mvalues()) \u001b[38;5;28;01mif\u001b[39;00m \u001b[38;5;28misinstance\u001b[39m(out, \u001b[38;5;28mdict\u001b[39m) \u001b[38;5;28;01melse\u001b[39;00m [out]\n\u001b[1;32m    560\u001b[0m \u001b[38;5;66;03m# re-apply format to the output\u001b[39;00m\n",
      "File \u001b[0;32m~/anaconda3/lib/python3.11/site-packages/datasets/fingerprint.py:482\u001b[0m, in \u001b[0;36mfingerprint_transform.<locals>._fingerprint.<locals>.wrapper\u001b[0;34m(*args, **kwargs)\u001b[0m\n\u001b[1;32m    478\u001b[0m             validate_fingerprint(kwargs[fingerprint_name])\n\u001b[1;32m    480\u001b[0m \u001b[38;5;66;03m# Call actual function\u001b[39;00m\n\u001b[0;32m--> 482\u001b[0m out \u001b[38;5;241m=\u001b[39m func(dataset, \u001b[38;5;241m*\u001b[39margs, \u001b[38;5;241m*\u001b[39m\u001b[38;5;241m*\u001b[39mkwargs)\n\u001b[1;32m    484\u001b[0m \u001b[38;5;66;03m# Update fingerprint of in-place transforms + update in-place history of transforms\u001b[39;00m\n\u001b[1;32m    486\u001b[0m \u001b[38;5;28;01mif\u001b[39;00m inplace:  \u001b[38;5;66;03m# update after calling func so that the fingerprint doesn't change if the function fails\u001b[39;00m\n",
      "File \u001b[0;32m~/anaconda3/lib/python3.11/site-packages/datasets/arrow_dataset.py:2160\u001b[0m, in \u001b[0;36mDataset.remove_columns\u001b[0;34m(self, column_names, new_fingerprint)\u001b[0m\n\u001b[1;32m   2158\u001b[0m missing_columns \u001b[38;5;241m=\u001b[39m \u001b[38;5;28mset\u001b[39m(column_names) \u001b[38;5;241m-\u001b[39m \u001b[38;5;28mset\u001b[39m(\u001b[38;5;28mself\u001b[39m\u001b[38;5;241m.\u001b[39m_data\u001b[38;5;241m.\u001b[39mcolumn_names)\n\u001b[1;32m   2159\u001b[0m \u001b[38;5;28;01mif\u001b[39;00m missing_columns:\n\u001b[0;32m-> 2160\u001b[0m     \u001b[38;5;28;01mraise\u001b[39;00m \u001b[38;5;167;01mValueError\u001b[39;00m(\n\u001b[1;32m   2161\u001b[0m         \u001b[38;5;124mf\u001b[39m\u001b[38;5;124m\"\u001b[39m\u001b[38;5;124mColumn name \u001b[39m\u001b[38;5;132;01m{\u001b[39;00m\u001b[38;5;28mlist\u001b[39m(missing_columns)\u001b[38;5;132;01m}\u001b[39;00m\u001b[38;5;124m not in the dataset. \u001b[39m\u001b[38;5;124m\"\u001b[39m\n\u001b[1;32m   2162\u001b[0m         \u001b[38;5;124mf\u001b[39m\u001b[38;5;124m\"\u001b[39m\u001b[38;5;124mCurrent columns in the dataset: \u001b[39m\u001b[38;5;132;01m{\u001b[39;00mdataset\u001b[38;5;241m.\u001b[39m_data\u001b[38;5;241m.\u001b[39mcolumn_names\u001b[38;5;132;01m}\u001b[39;00m\u001b[38;5;124m\"\u001b[39m\n\u001b[1;32m   2163\u001b[0m     )\n\u001b[1;32m   2165\u001b[0m \u001b[38;5;28;01mfor\u001b[39;00m column_name \u001b[38;5;129;01min\u001b[39;00m column_names:\n\u001b[1;32m   2166\u001b[0m     \u001b[38;5;28;01mdel\u001b[39;00m dataset\u001b[38;5;241m.\u001b[39m_info\u001b[38;5;241m.\u001b[39mfeatures[column_name]\n",
      "\u001b[0;31mValueError\u001b[0m: Column name ['protocole'] not in the dataset. Current columns in the dataset: ['input_ids', 'token_type_ids', 'attention_mask', 'word_ids']"
     ]
    }
   ],
   "source": [
    "tokenized_datasets=tokenized_datasets.remove_columns(\"protocole\")\n"
   ]
  },
  {
   "cell_type": "code",
   "execution_count": null,
   "metadata": {},
   "outputs": [],
   "source": [
    "tokenized_datasets[\"train\"]"
   ]
  },
  {
   "cell_type": "code",
   "execution_count": 6,
   "metadata": {},
   "outputs": [
    {
     "ename": "NameError",
     "evalue": "name 'tokenized_datasets' is not defined",
     "output_type": "error",
     "traceback": [
      "\u001b[0;31m---------------------------------------------------------------------------\u001b[0m",
      "\u001b[0;31mNameError\u001b[0m                                 Traceback (most recent call last)",
      "Cell \u001b[0;32mIn[6], line 1\u001b[0m\n\u001b[0;32m----> 1\u001b[0m lm_datasets \u001b[38;5;241m=\u001b[39m preprocessing\u001b[38;5;241m.\u001b[39mgrouping_dataset(tokenized_datasets,chunk_size)\n\u001b[1;32m      2\u001b[0m lm_datasets\n",
      "\u001b[0;31mNameError\u001b[0m: name 'tokenized_datasets' is not defined"
     ]
    }
   ],
   "source": [
    "lm_datasets = preprocessing.grouping_dataset(tokenized_datasets,chunk_size)\n",
    "lm_datasets"
   ]
  },
  {
   "cell_type": "code",
   "execution_count": 29,
   "metadata": {},
   "outputs": [],
   "source": [
    "with open(\"lm_dataset.pkl\",\"wb\") as f:\n",
    "    pickle.dump(lm_datasets,f)"
   ]
  },
  {
   "cell_type": "code",
   "execution_count": 6,
   "metadata": {},
   "outputs": [],
   "source": [
    "with open(\"lm_dataset.pkl\",\"rb\") as f:\n",
    "    lm_datasets= pickle.load(f)"
   ]
  },
  {
   "cell_type": "code",
   "execution_count": 8,
   "metadata": {},
   "outputs": [],
   "source": [
    "data_valid={\"valid\":\"swerick_data_random_valid.pkl\"}\n",
    "valid_dataset = load_dataset(\"pandas\",data_files=data_valid) \n",
    "valid_dataset =preprocessing.tokenize_dataset(valid_dataset,tokenizer)\n",
    "valid_dataset=preprocessing.grouping_dataset(valid_dataset,chunk_size)\n",
    "\n",
    "valid_dataset"
   ]
  },
  {
   "cell_type": "code",
   "execution_count": 10,
   "metadata": {},
   "outputs": [],
   "source": [
    "with open(\"valid_dataset.pkl\",\"wb\") as f:\n",
    "     pickle.dump(valid_dataset,f)"
   ]
  },
  {
   "cell_type": "code",
   "execution_count": 7,
   "metadata": {},
   "outputs": [
    {
     "data": {
      "text/plain": [
       "DatasetDict({\n",
       "    valid: Dataset({\n",
       "        features: ['input_ids', 'token_type_ids', 'attention_mask', 'word_ids', 'labels'],\n",
       "        num_rows: 800106\n",
       "    })\n",
       "})"
      ]
     },
     "execution_count": 7,
     "metadata": {},
     "output_type": "execute_result"
    }
   ],
   "source": [
    "with open(\"valid_dataset.pkl\",\"rb\") as f:\n",
    "    valid_dataset= pickle.load(f)\n",
    "\n",
    "valid_dataset"
   ]
  },
  {
   "cell_type": "code",
   "execution_count": 8,
   "metadata": {},
   "outputs": [],
   "source": [
    "\n",
    "valid_dataset=valid_dataset.remove_columns([\"word_ids\",\"token_type_ids\"])"
   ]
  },
  {
   "cell_type": "code",
   "execution_count": 9,
   "metadata": {},
   "outputs": [],
   "source": [
    "data_collator = preprocessing.data_collector_masking(tokenizer,0.15)"
   ]
  },
  {
   "cell_type": "markdown",
   "metadata": {},
   "source": [
    "trial with a manual implementation"
   ]
  },
  {
   "cell_type": "code",
   "execution_count": 10,
   "metadata": {},
   "outputs": [
    {
     "name": "stdout",
     "output_type": "stream",
     "text": [
      "Dataset({\n",
      "    features: ['input_ids', 'token_type_ids', 'attention_mask', 'word_ids', 'labels'],\n",
      "    num_rows: 3663965\n",
      "})\n",
      "Dataset({\n",
      "    features: ['input_ids', 'attention_mask', 'labels'],\n",
      "    num_rows: 800106\n",
      "})\n",
      "Dataset({\n",
      "    features: ['input_ids', 'attention_mask', 'labels'],\n",
      "    num_rows: 800106\n",
      "})\n"
     ]
    }
   ],
   "source": [
    "print(lm_datasets[\"train\"])\n",
    "\n",
    "lm_dataset_bis = lm_datasets.remove_columns([\"word_ids\",\"token_type_ids\"])\n",
    "\n",
    "print(lm_dataset_bis[\"test\"])\n",
    "eval_dataset = preprocessing.create_deterministic_eval_dataset(lm_dataset_bis[\"test\"],data_collator)\n",
    "valid_dataset=preprocessing.create_deterministic_eval_dataset(valid_dataset[\"valid\"],data_collator)\n",
    "\n",
    "print(eval_dataset)"
   ]
  },
  {
   "cell_type": "code",
   "execution_count": 11,
   "metadata": {},
   "outputs": [
    {
     "name": "stdout",
     "output_type": "stream",
     "text": [
      "ok\n",
      "ok\n",
      "Dataset({\n",
      "    features: ['input_ids', 'attention_mask', 'labels'],\n",
      "    num_rows: 800106\n",
      "})\n"
     ]
    }
   ],
   "source": [
    "batch_size = 64\n",
    "train_dataloader = preprocessing.create_dataloader(lm_dataset_bis[\"train\"],batch_size,data_collator)\n",
    "def to_device(batch):\n",
    "    return {key: value.to(\"cpu\") for key, value in batch.items()}\n",
    "\n",
    "print(\"ok\")\n",
    "eval_dataloader = preprocessing.create_dataloader(eval_dataset,batch_size,default_data_collator)\n",
    "valid_dataloader=preprocessing.create_dataloader(valid_dataset,batch_size,default_data_collator)\n",
    "print(\"ok\")\n",
    "\n",
    "#for batch in train_dataloader:\n",
    "    #batch = to_device(batch)\n",
    "\n",
    "#for batch in eval_dataloader:\n",
    "    #batch = to_device(batch)\n",
    "\n",
    "\n",
    "\n",
    "\n",
    "print(eval_dataloader.dataset)"
   ]
  },
  {
   "cell_type": "code",
   "execution_count": 13,
   "metadata": {},
   "outputs": [
    {
     "name": "stdout",
     "output_type": "stream",
     "text": [
      "Dataset({\n",
      "    features: ['input_ids', 'attention_mask', 'labels'],\n",
      "    num_rows: 3663965\n",
      "})\n",
      "<torch.utils.data.dataloader.DataLoader object at 0x775620217590>\n",
      "cpu\n"
     ]
    }
   ],
   "source": [
    "print(train_dataloader.dataset)\n",
    "print(eval_dataloader)\n",
    "\n",
    "for batch in eval_dataloader:\n",
    "    print(batch[\"input_ids\"].device)\n",
    "    break"
   ]
  },
  {
   "cell_type": "code",
   "execution_count": 15,
   "metadata": {},
   "outputs": [
    {
     "name": "stdout",
     "output_type": "stream",
     "text": [
      "893\n"
     ]
    }
   ],
   "source": [
    "print(len(train_dataloader))"
   ]
  },
  {
   "cell_type": "code",
   "execution_count": 16,
   "metadata": {},
   "outputs": [
    {
     "name": "stdout",
     "output_type": "stream",
     "text": [
      "##försvar, industriellberedskap, ekonomiskberedskapo. s. v. Manharräknatmedolikakostnaderfördessaochsedanförsöktfog [MASK]hopdessabyggklotsartillenen [MASK] 90Nr10Onsdagenden23 [MASK]s1955Överbefälhavarensutredningrörandekrigsmaktensutvecklinghetligbyggnad. [UNK]. HerrHjalmarsonvari rest [MASK]åenfråga [MASK] somjagmednåg [MASK]ynpunktervillspinnavidarep [MASK]. Vilkenärsj [MASK]agrundenförÖB - utredningens [MASK] [MASK]? [MASK], minadamerochherrar, det [MASK], attdetta [MASK]representerardetminimumsom\n",
      "##inläggetskullekanskeintebehövanågotgenmäle, tyjagkonstaterarmedtillfreds [MASK], attherr [MASK]rhén [MASK]kommitmerapappersliknandevåglängdsomjagäridennas [MASK], [MASK]jagnufåruttryckamigså. Jagvilldockgöraetttillugerläggande. Manharpåvissthåll [MASK]tförlöjligavadsomskeddeiuniversitetsutredningengenomatts [MASK]attordföranden, d. v [MASK] [MASK]. statssekreterare [MASK]denman, skrevtillsigsjälv. Det [MASK]håller [MASK] [MASK]allspådets [MASK]t, utanvidenavdeförsta [MASK]gångarnaunderhöstens\n"
     ]
    }
   ],
   "source": [
    "def get_dataloader():\n",
    "    train =DataLoader(\n",
    "    lm_dataset_bis[\"train\"],\n",
    "    shuffle=True,\n",
    "    batch_size=batch_size,\n",
    "    collate_fn=data_collator)\n",
    "    train = [inputs.to(device) for inputs in train_dataloader]\n",
    "    return train\n",
    "\n",
    "\n",
    "for step,batch in enumerate(get_dataloader()):\n",
    "    print(\n",
    "        tokenizer.decode(batch[\"input_ids\"][0]))\n",
    "    break\n",
    "\n",
    "for step,batch in enumerate(get_dataloader()):\n",
    "    print(\n",
    "        tokenizer.decode(batch[\"input_ids\"][0]))\n",
    "    break\n",
    "\n"
   ]
  },
  {
   "cell_type": "code",
   "execution_count": 17,
   "metadata": {},
   "outputs": [
    {
     "name": "stderr",
     "output_type": "stream",
     "text": [
      "Some weights of the model checkpoint at KBLab/bert-base-swedish-cased were not used when initializing BertForMaskedLM: ['bert.pooler.dense.bias', 'bert.pooler.dense.weight']\n",
      "- This IS expected if you are initializing BertForMaskedLM from the checkpoint of a model trained on another task or with another architecture (e.g. initializing a BertForSequenceClassification model from a BertForPreTraining model).\n",
      "- This IS NOT expected if you are initializing BertForMaskedLM from the checkpoint of a model that you expect to be exactly identical (initializing a BertForSequenceClassification model from a BertForSequenceClassification model).\n"
     ]
    }
   ],
   "source": [
    "model_bis = AutoModelForMaskedLM.from_pretrained(model_checkpoint)\n",
    "model_bis=model_bis.to(\"cpu\")"
   ]
  },
  {
   "cell_type": "code",
   "execution_count": null,
   "metadata": {},
   "outputs": [],
   "source": [
    "model_bis.eval()\n",
    "\n",
    "total_loss = 0.0  # Variable to accumulate total loss\n",
    "\n",
    "for step, batch in enumerate(eval_dataloader):\n",
    "    with torch.no_grad():\n",
    "        outputs = model_bis(**batch)\n",
    "    loss = outputs.loss\n",
    "    total_loss += loss.item()   # Accumulate the batch loss\n",
    "\n",
    "# Calculate the average loss\n",
    "average_loss = total_loss / len(eval_dataloader)\n",
    "\n",
    "print(f\"Initial Loss: {average_loss}\")"
   ]
  },
  {
   "cell_type": "code",
   "execution_count": null,
   "metadata": {},
   "outputs": [],
   "source": [
    "\n",
    "optimizer = AdamW(model_bis.parameters(), lr=1.3e-5)\n",
    "print(optimizer)"
   ]
  },
  {
   "cell_type": "code",
   "execution_count": null,
   "metadata": {},
   "outputs": [],
   "source": [
    "num_train_epochs = 3\n",
    "num_update_steps_per_epoch = len(train_dataloader)\n",
    "num_training_steps = num_train_epochs * num_update_steps_per_epoch\n",
    "\n",
    "lr_scheduler = get_scheduler(\n",
    "    \"linear\",\n",
    "    optimizer=optimizer,\n",
    "    num_warmup_steps=0,\n",
    "    num_training_steps=num_training_steps,\n",
    ")"
   ]
  },
  {
   "cell_type": "code",
   "execution_count": null,
   "metadata": {},
   "outputs": [],
   "source": [
    "progress_bar = tqdm(range(num_training_steps))\n",
    "\n",
    "losses_train=[]\n",
    "losses_test=[]\n",
    "#train_dataloader = get_dataloader()\n",
    "for epoch in range(num_train_epochs):\n",
    "    # Training\n",
    "    model_bis.train()\n",
    "    print(next(model_bis.parameters()).device)\n",
    "    print(epoch)\n",
    "    params_before_optimization = [param.data.clone() for param in model_bis.parameters()]\n",
    "    total_loss_train = 0.0 \n",
    "    train_dataloader = get_dataloader()\n",
    "\n",
    "    for batch in train_dataloader:\n",
    "        outputs = model_bis(**batch)\n",
    "        loss = outputs.loss\n",
    "        total_loss_train += loss.item()\n",
    "        loss.backward()\n",
    "        optimizer.step()\n",
    "        lr_scheduler.step()\n",
    "        optimizer.zero_grad()\n",
    "        params_after_optimization = [param.data for param in model_bis.parameters()]\n",
    "        parameters_changed = any((param_before != param_after).any() for param_before, param_after in zip(params_before_optimization, params_after_optimization))\n",
    "        #if parameters_changed==True :\n",
    "             # print(parameters_changed) \n",
    "        progress_bar.update(1)\n",
    "\n",
    "    losses_train.append(total_loss_train/len(train_dataloader))\n",
    "    print(\"losses_train\",losses_train)\n",
    "\n",
    "    # Evaluation\n",
    "    model_bis.eval()\n",
    "    losses=[]\n",
    "    total_loss_eval=0.0\n",
    "    for step, batch in enumerate(eval_dataloader):\n",
    "        with torch.no_grad():\n",
    "            outputs = model_bis(**batch)\n",
    "\n",
    "        loss = outputs.loss\n",
    "        losses.append(loss.repeat(batch_size))\n",
    "        total_loss_eval +=loss.item()\n",
    "\n",
    "\n",
    "    losses = torch.cat(losses)\n",
    "    losses = losses[: len(eval_dataset)]\n",
    "    try:\n",
    "        perplexity = math.exp(torch.mean(losses))\n",
    "    except OverflowError:\n",
    "       perplexity = float(\"inf\")\n",
    "\n",
    "    losses_test.append(total_loss_eval/len(eval_dataloader))\n",
    "\n",
    "\n",
    "    print(f\">>> Epoch {epoch}: Perplexity: {perplexity}\")\n",
    "\n",
    "    print(\"losses_test\",losses_test)\n",
    "\n",
    "print(\"epoch\",num_train_epochs)\n",
    "plt.plot(range(num_train_epochs),losses_train,label=\"train Loss\")\n",
    "\n",
    "plt.plot(range(num_train_epochs),losses_test,label=\"test Loss\")\n",
    "plt.xlabel(\"Epochs\")\n",
    "plt.ylabel(\"Loss\")\n",
    "plt.legend()\n",
    "plt.show()\n",
    "\n",
    "            "
   ]
  },
  {
   "cell_type": "code",
   "execution_count": null,
   "metadata": {},
   "outputs": [],
   "source": [
    "print(losses_train)\n",
    "print(losses_test)"
   ]
  },
  {
   "cell_type": "code",
   "execution_count": null,
   "metadata": {},
   "outputs": [],
   "source": [
    "file_path = \"finetuning_manual\"\n",
    "model_bis.save_pretrained(file_path)\n",
    "tokenizer.save_pretrained(file_path)"
   ]
  },
  {
   "cell_type": "code",
   "execution_count": null,
   "metadata": {},
   "outputs": [],
   "source": [
    "import pickle\n",
    "\n",
    "file_name = \"losses.pkl\"\n",
    "\n",
    "with open(file_name, 'wb') as f:\n",
    "    pickle.dump({'losses_train': losses_train, 'losses_test': losses_test}, f)\n"
   ]
  },
  {
   "cell_type": "code",
   "execution_count": null,
   "metadata": {},
   "outputs": [],
   "source": [
    "from transformers import pipeline\n",
    "pipe = pipeline(task=\"fill-mask\", model=\"./test_model\")"
   ]
  },
  {
   "cell_type": "code",
   "execution_count": null,
   "metadata": {},
   "outputs": [],
   "source": []
  },
  {
   "cell_type": "code",
   "execution_count": null,
   "metadata": {},
   "outputs": [],
   "source": []
  },
  {
   "cell_type": "code",
   "execution_count": 15,
   "metadata": {},
   "outputs": [],
   "source": [
    "model_long=AutoModelForMaskedLM.from_pretrained(\"./finetuning_hugging-finetuned-imdb/checkpoint-259384\")\n",
    "model_long=model_long.to(\"cpu\")"
   ]
  },
  {
   "cell_type": "code",
   "execution_count": 17,
   "metadata": {},
   "outputs": [],
   "source": [
    "model=AutoModelForMaskedLM.from_pretrained(\"./test_model\")\n",
    "model=model.to(\"cpu\")"
   ]
  },
  {
   "cell_type": "code",
   "execution_count": 12,
   "metadata": {},
   "outputs": [],
   "source": [
    "model_hugging_face = AutoModelForMaskedLM.from_pretrained(\"finetuning_hugging_whitespace-finetuned-imdb/checkpoint-801500\")\n",
    "model_hugging_face=model_hugging_face.to(device)"
   ]
  },
  {
   "cell_type": "code",
   "execution_count": 18,
   "metadata": {},
   "outputs": [
    {
     "name": "stderr",
     "output_type": "stream",
     "text": [
      "Some weights of the model checkpoint at KBLab/bert-base-swedish-cased were not used when initializing BertForMaskedLM: ['bert.pooler.dense.bias', 'bert.pooler.dense.weight']\n",
      "- This IS expected if you are initializing BertForMaskedLM from the checkpoint of a model trained on another task or with another architecture (e.g. initializing a BertForSequenceClassification model from a BertForPreTraining model).\n",
      "- This IS NOT expected if you are initializing BertForMaskedLM from the checkpoint of a model that you expect to be exactly identical (initializing a BertForSequenceClassification model from a BertForSequenceClassification model).\n"
     ]
    }
   ],
   "source": [
    "model_kb=AutoModelForMaskedLM.from_pretrained(model_checkpoint)\n",
    "model_kb=model_kb.to(device)"
   ]
  },
  {
   "cell_type": "code",
   "execution_count": 13,
   "metadata": {},
   "outputs": [
    {
     "name": "stdout",
     "output_type": "stream",
     "text": [
      "Trainer evaluation....\n",
      "Manual perplexity...\n",
      " Perplexity: 2.905360638290348\n",
      "Accuracy...\n",
      "Accuracy: 0.7544896756314945\n"
     ]
    }
   ],
   "source": [
    "evaluation_task(model_hugging_face,valid_dataloader,\"finetuning_hugging_whitespace-finetuned-imdb/checkpoint-801500\")"
   ]
  },
  {
   "cell_type": "code",
   "execution_count": 17,
   "metadata": {},
   "outputs": [
    {
     "name": "stdout",
     "output_type": "stream",
     "text": [
      "Trainer evaluation....\n"
     ]
    },
    {
     "data": {
      "application/vnd.jupyter.widget-view+json": {
       "model_id": "846796b047fb47deb8391d2752a6f032",
       "version_major": 2,
       "version_minor": 0
      },
      "text/plain": [
       "  0%|          | 0/12502 [00:00<?, ?it/s]"
      ]
     },
     "metadata": {},
     "output_type": "display_data"
    },
    {
     "name": "stdout",
     "output_type": "stream",
     "text": [
      "{'eval_loss': 2.2889373302459717, 'eval_runtime': 1670.4142, 'eval_samples_per_second': 478.987, 'eval_steps_per_second': 7.484}\n",
      ">>> Perplexity: 9.86\n",
      "Manual perplexity...\n",
      " Perplexity: 9.864508254198425\n",
      "Accuracy...\n",
      "Accuracy: 0.588802334176737\n"
     ]
    }
   ],
   "source": [
    "evaluation_task(model,valid_dataloader)"
   ]
  },
  {
   "cell_type": "code",
   "execution_count": 28,
   "metadata": {},
   "outputs": [
    {
     "name": "stdout",
     "output_type": "stream",
     "text": [
      "{'input_ids': tensor([[    4,     4, 49795,  ..., 49795,  6742,     4],\n",
      "        [10996,   688, 12494,  ...,  3193, 13781,    19],\n",
      "        [18059,   183,  2261,  ...,    24, 48380, 48465],\n",
      "        ...,\n",
      "        [49816, 21033,    49,  ...,   469,  1314, 49830],\n",
      "        [21264,  1219,     4,  ..., 11583,   546, 20805],\n",
      "        [    7,     1,     4,  ...,     4,     4, 28662]]), 'attention_mask': tensor([[1, 1, 1,  ..., 1, 1, 1],\n",
      "        [1, 1, 1,  ..., 1, 1, 1],\n",
      "        [1, 1, 1,  ..., 1, 1, 1],\n",
      "        ...,\n",
      "        [1, 1, 1,  ..., 1, 1, 1],\n",
      "        [1, 1, 1,  ..., 1, 1, 1],\n",
      "        [1, 1, 1,  ..., 1, 1, 1]]), 'labels': tensor([[  109, 28534,  -100,  ...,  -100,  -100, 15873],\n",
      "        [ -100,  -100,  -100,  ...,  -100,  -100,  -100],\n",
      "        [ -100,  -100,  -100,  ...,  -100,  -100,  -100],\n",
      "        ...,\n",
      "        [ -100,  -100,  -100,  ...,  -100,  -100,  -100],\n",
      "        [ -100,  -100, 38839,  ...,  -100,  -100,  -100],\n",
      "        [ -100,  -100,     7,  ...,    37,  2193,  -100]])}\n"
     ]
    }
   ],
   "source": [
    "for batch in eval_dataloader:\n",
    "    print(batch)\n",
    "    break"
   ]
  },
  {
   "cell_type": "code",
   "execution_count": 16,
   "metadata": {},
   "outputs": [
    {
     "data": {
      "text/plain": [
       "1.1410209390681376"
      ]
     },
     "execution_count": 16,
     "metadata": {},
     "output_type": "execute_result"
    }
   ],
   "source": [
    "math.exp(0.13192342221736908)"
   ]
  },
  {
   "cell_type": "code",
   "execution_count": 14,
   "metadata": {},
   "outputs": [
    {
     "data": {
      "image/png": "[encoded data removed]",
      "text/plain": [
       "<Figure size 1000x500 with 1 Axes>"
      ]
     },
     "metadata": {},
     "output_type": "display_data"
    }
   ],
   "source": [
    "import json\n",
    "import matplotlib.pyplot as plt\n",
    "\n",
    "# Charger les données à partir du fichier JSON\n",
    "with open(\"finetuning_hugging_whitespace-finetuned-imdb/checkpoint-801500/trainer_state.json\", 'r') as file:\n",
    "    data = json.load(file)\n",
    "\n",
    "train_loss = []\n",
    "eval_loss = []\n",
    "epoch_train = []\n",
    "epoch_test=[]\n",
    "\n",
    "for entry in data['log_history']:\n",
    "    if 'loss' in entry:\n",
    "        train_loss.append(entry['loss'])\n",
    "        epoch_train.append((entry['epoch']))\n",
    "    elif 'eval_loss' in entry:\n",
    "        eval_loss.append(entry['eval_loss'])\n",
    "        epoch_test.append((entry['epoch']))\n",
    "\n",
    "plt.figure(figsize=(10, 5))\n",
    "plt.plot(epoch_train, train_loss, label='Training Loss', marker='o')\n",
    "plt.plot(epoch_test, eval_loss, label='Evaluation Loss', marker='o')\n",
    "plt.title('Training and Evaluation Loss over Epochs')\n",
    "plt.xlabel('Epochs')\n",
    "plt.ylabel('Loss')\n",
    "plt.legend()\n",
    "plt.grid(True)\n",
    "plt.show()"
   ]
  },
  {
   "cell_type": "code",
   "execution_count": 11,
   "metadata": {},
   "outputs": [],
   "source": [
    "pad_token_id= tokenizer.pad_token_id\n",
    "sep_token_id = tokenizer.sep_token_id"
   ]
  },
  {
   "cell_type": "code",
   "execution_count": 55,
   "metadata": {},
   "outputs": [],
   "source": [
    "import numpy as np"
   ]
  },
  {
   "cell_type": "code",
   "execution_count": 63,
   "metadata": {},
   "outputs": [],
   "source": [
    "max_length=128"
   ]
  },
  {
   "cell_type": "code",
   "execution_count": 107,
   "metadata": {},
   "outputs": [],
   "source": [
    "def insert_special_masking(batch,i):\n",
    "    word_ids=batch[\"word_ids\"]\n",
    " \n",
    "    masked_input_id=batch[\"input_ids\"].copy()\n",
    "    attention_mask=batch[\"attention_mask\"].copy()\n",
    " \n",
    "    labels=[[-100]*max_length]*len(batch[\"labels\"])\n",
    "    for z in range(len(masked_input_id)):\n",
    "        if batch[\"input_ids\"][z][i] ==tokenizer.pad_token_id or batch[\"input_ids\"][z][i] ==tokenizer.sep_token_id:\n",
    "            continue\n",
    "        \n",
    "        labels[z][i]=batch[\"input_ids\"][z][i]\n",
    "        masked_input_id[z][i]=tokenizer.mask_token_id\n",
    "  \n",
    "        \n",
    "        word=tokenizer.decode(batch[\"input_ids\"][z][i])\n",
    "   \n",
    "        future_token=[j for j,_ in enumerate(word_ids[z]) if word_ids[z][j]==word_ids[z][i] and j>i]\n",
    "\n",
    "        for j in future_token:\n",
    "            labels[z][j]=batch[\"input_ids\"][z][j]\n",
    "    \n",
    "            masked_input_id[z][j]=tokenizer.mask_token_id\n",
    "           \n",
    "\n",
    "        masked_input_id[z]=np.array(masked_input_id[z])\n",
    "        attention_mask[z]=np.array(attention_mask[z])\n",
    "        labels[z]=np.array(labels[z])\n",
    "   \n",
    "    output_dict = {\"input_ids\": masked_input_id, \"attention_mask\": attention_mask, \"labels\": labels}\n",
    "    \n",
    "    return {k: v for k, v in output_dict.items()}"
   ]
  },
  {
   "cell_type": "code",
   "execution_count": 112,
   "metadata": {},
   "outputs": [],
   "source": [
    "def insert_special_masking_bis(batch, i):\n",
    "    word_ids = batch[\"word_ids\"]\n",
    "    masked_input_id = batch[\"input_ids\"].copy()\n",
    "    attention_mask = batch[\"attention_mask\"].copy()\n",
    "    \n",
    "    labels = np.full_like(masked_input_id, -100)\n",
    "    \n",
    "    for z, seq in enumerate(masked_input_id):\n",
    "        if seq[i] == tokenizer.pad_token_id or seq[i] == tokenizer.sep_token_id:\n",
    "            continue\n",
    "        \n",
    "        labels[z, i] = seq[i]\n",
    "        masked_input_id[z][i] = tokenizer.mask_token_id\n",
    "        future_token = [j for j, _ in enumerate(word_ids[z]) if word_ids[z][j] == word_ids[z][i] and j > i]\n",
    "        \n",
    "        for j in future_token:\n",
    "            labels[z][j] = batch[\"input_ids\"][z][j]\n",
    "            masked_input_id[z][j] = tokenizer.mask_token_id\n",
    "    \n",
    "    return {\n",
    "        \"input_ids\": masked_input_id,\n",
    "        \"attention_mask\": attention_mask,\n",
    "        \"labels\": labels\n",
    "    }"
   ]
  },
  {
   "cell_type": "code",
   "execution_count": 120,
   "metadata": {},
   "outputs": [
    {
     "name": "stdout",
     "output_type": "stream",
     "text": [
      "0\n",
      "daatset\n",
      "dataloader\n",
      "output\n",
      "loss\n",
      "loss\n",
      "1\n"
     ]
    },
    {
     "data": {
      "application/vnd.jupyter.widget-view+json": {
       "model_id": "a868fcd2f0a446ac8260aee3351fc56f",
       "version_major": 2,
       "version_minor": 0
      },
      "text/plain": [
       "Map:   0%|          | 0/761125 [00:00<?, ? examples/s]"
      ]
     },
     "metadata": {},
     "output_type": "display_data"
    },
    {
     "name": "stdout",
     "output_type": "stream",
     "text": [
      "daatset\n",
      "dataloader\n",
      "output\n",
      "loss\n",
      "loss\n",
      "2\n"
     ]
    },
    {
     "data": {
      "application/vnd.jupyter.widget-view+json": {
       "model_id": "5375b049bc084f5e9248be3ded3723e1",
       "version_major": 2,
       "version_minor": 0
      },
      "text/plain": [
       "Map:   0%|          | 0/761125 [00:00<?, ? examples/s]"
      ]
     },
     "metadata": {},
     "output_type": "display_data"
    },
    {
     "ename": "KeyboardInterrupt",
     "evalue": "",
     "output_type": "error",
     "traceback": [
      "\u001b[0;31m---------------------------------------------------------------------------\u001b[0m",
      "\u001b[0;31mKeyboardInterrupt\u001b[0m                         Traceback (most recent call last)",
      "Cell \u001b[0;32mIn[120], line 6\u001b[0m\n\u001b[1;32m      4\u001b[0m \u001b[38;5;28mprint\u001b[39m(i)\n\u001b[1;32m      5\u001b[0m losses\u001b[38;5;241m=\u001b[39m[]\n\u001b[0;32m----> 6\u001b[0m eval_dataset_log \u001b[38;5;241m=\u001b[39m lm_datasets[\u001b[38;5;124m\"\u001b[39m\u001b[38;5;124mtest\u001b[39m\u001b[38;5;124m\"\u001b[39m]\u001b[38;5;241m.\u001b[39mmap(\n\u001b[1;32m      7\u001b[0m     \u001b[38;5;28;01mlambda\u001b[39;00m examples: insert_special_masking_bis(examples,i),\n\u001b[1;32m      8\u001b[0m     batched\u001b[38;5;241m=\u001b[39m\u001b[38;5;28;01mTrue\u001b[39;00m,\n\u001b[1;32m      9\u001b[0m     remove_columns\u001b[38;5;241m=\u001b[39m lm_datasets[\u001b[38;5;124m\"\u001b[39m\u001b[38;5;124mtest\u001b[39m\u001b[38;5;124m\"\u001b[39m]\u001b[38;5;241m.\u001b[39mcolumn_names\n\u001b[1;32m     10\u001b[0m )\n\u001b[1;32m     11\u001b[0m \u001b[38;5;28mprint\u001b[39m(\u001b[38;5;124m\"\u001b[39m\u001b[38;5;124mdaatset\u001b[39m\u001b[38;5;124m\"\u001b[39m)\n\u001b[1;32m     12\u001b[0m eval_dataloader \u001b[38;5;241m=\u001b[39m preprocessing\u001b[38;5;241m.\u001b[39mcreate_dataloader(eval_dataset_log,batch_size,default_data_collator)\n",
      "File \u001b[0;32m~/anaconda3/lib/python3.11/site-packages/datasets/arrow_dataset.py:593\u001b[0m, in \u001b[0;36mtransmit_tasks.<locals>.wrapper\u001b[0;34m(*args, **kwargs)\u001b[0m\n\u001b[1;32m    591\u001b[0m     \u001b[38;5;28mself\u001b[39m: \u001b[38;5;124m\"\u001b[39m\u001b[38;5;124mDataset\u001b[39m\u001b[38;5;124m\"\u001b[39m \u001b[38;5;241m=\u001b[39m kwargs\u001b[38;5;241m.\u001b[39mpop(\u001b[38;5;124m\"\u001b[39m\u001b[38;5;124mself\u001b[39m\u001b[38;5;124m\"\u001b[39m)\n\u001b[1;32m    592\u001b[0m \u001b[38;5;66;03m# apply actual function\u001b[39;00m\n\u001b[0;32m--> 593\u001b[0m out: Union[\u001b[38;5;124m\"\u001b[39m\u001b[38;5;124mDataset\u001b[39m\u001b[38;5;124m\"\u001b[39m, \u001b[38;5;124m\"\u001b[39m\u001b[38;5;124mDatasetDict\u001b[39m\u001b[38;5;124m\"\u001b[39m] \u001b[38;5;241m=\u001b[39m func(\u001b[38;5;28mself\u001b[39m, \u001b[38;5;241m*\u001b[39margs, \u001b[38;5;241m*\u001b[39m\u001b[38;5;241m*\u001b[39mkwargs)\n\u001b[1;32m    594\u001b[0m datasets: List[\u001b[38;5;124m\"\u001b[39m\u001b[38;5;124mDataset\u001b[39m\u001b[38;5;124m\"\u001b[39m] \u001b[38;5;241m=\u001b[39m \u001b[38;5;28mlist\u001b[39m(out\u001b[38;5;241m.\u001b[39mvalues()) \u001b[38;5;28;01mif\u001b[39;00m \u001b[38;5;28misinstance\u001b[39m(out, \u001b[38;5;28mdict\u001b[39m) \u001b[38;5;28;01melse\u001b[39;00m [out]\n\u001b[1;32m    595\u001b[0m \u001b[38;5;28;01mfor\u001b[39;00m dataset \u001b[38;5;129;01min\u001b[39;00m datasets:\n\u001b[1;32m    596\u001b[0m     \u001b[38;5;66;03m# Remove task templates if a column mapping of the template is no longer valid\u001b[39;00m\n",
      "File \u001b[0;32m~/anaconda3/lib/python3.11/site-packages/datasets/arrow_dataset.py:558\u001b[0m, in \u001b[0;36mtransmit_format.<locals>.wrapper\u001b[0;34m(*args, **kwargs)\u001b[0m\n\u001b[1;32m    551\u001b[0m self_format \u001b[38;5;241m=\u001b[39m {\n\u001b[1;32m    552\u001b[0m     \u001b[38;5;124m\"\u001b[39m\u001b[38;5;124mtype\u001b[39m\u001b[38;5;124m\"\u001b[39m: \u001b[38;5;28mself\u001b[39m\u001b[38;5;241m.\u001b[39m_format_type,\n\u001b[1;32m    553\u001b[0m     \u001b[38;5;124m\"\u001b[39m\u001b[38;5;124mformat_kwargs\u001b[39m\u001b[38;5;124m\"\u001b[39m: \u001b[38;5;28mself\u001b[39m\u001b[38;5;241m.\u001b[39m_format_kwargs,\n\u001b[1;32m    554\u001b[0m     \u001b[38;5;124m\"\u001b[39m\u001b[38;5;124mcolumns\u001b[39m\u001b[38;5;124m\"\u001b[39m: \u001b[38;5;28mself\u001b[39m\u001b[38;5;241m.\u001b[39m_format_columns,\n\u001b[1;32m    555\u001b[0m     \u001b[38;5;124m\"\u001b[39m\u001b[38;5;124moutput_all_columns\u001b[39m\u001b[38;5;124m\"\u001b[39m: \u001b[38;5;28mself\u001b[39m\u001b[38;5;241m.\u001b[39m_output_all_columns,\n\u001b[1;32m    556\u001b[0m }\n\u001b[1;32m    557\u001b[0m \u001b[38;5;66;03m# apply actual function\u001b[39;00m\n\u001b[0;32m--> 558\u001b[0m out: Union[\u001b[38;5;124m\"\u001b[39m\u001b[38;5;124mDataset\u001b[39m\u001b[38;5;124m\"\u001b[39m, \u001b[38;5;124m\"\u001b[39m\u001b[38;5;124mDatasetDict\u001b[39m\u001b[38;5;124m\"\u001b[39m] \u001b[38;5;241m=\u001b[39m func(\u001b[38;5;28mself\u001b[39m, \u001b[38;5;241m*\u001b[39margs, \u001b[38;5;241m*\u001b[39m\u001b[38;5;241m*\u001b[39mkwargs)\n\u001b[1;32m    559\u001b[0m datasets: List[\u001b[38;5;124m\"\u001b[39m\u001b[38;5;124mDataset\u001b[39m\u001b[38;5;124m\"\u001b[39m] \u001b[38;5;241m=\u001b[39m \u001b[38;5;28mlist\u001b[39m(out\u001b[38;5;241m.\u001b[39mvalues()) \u001b[38;5;28;01mif\u001b[39;00m \u001b[38;5;28misinstance\u001b[39m(out, \u001b[38;5;28mdict\u001b[39m) \u001b[38;5;28;01melse\u001b[39;00m [out]\n\u001b[1;32m    560\u001b[0m \u001b[38;5;66;03m# re-apply format to the output\u001b[39;00m\n",
      "File \u001b[0;32m~/anaconda3/lib/python3.11/site-packages/datasets/arrow_dataset.py:3105\u001b[0m, in \u001b[0;36mDataset.map\u001b[0;34m(self, function, with_indices, with_rank, input_columns, batched, batch_size, drop_last_batch, remove_columns, keep_in_memory, load_from_cache_file, cache_file_name, writer_batch_size, features, disable_nullable, fn_kwargs, num_proc, suffix_template, new_fingerprint, desc)\u001b[0m\n\u001b[1;32m   3099\u001b[0m \u001b[38;5;28;01mif\u001b[39;00m transformed_dataset \u001b[38;5;129;01mis\u001b[39;00m \u001b[38;5;28;01mNone\u001b[39;00m:\n\u001b[1;32m   3100\u001b[0m     \u001b[38;5;28;01mwith\u001b[39;00m hf_tqdm(\n\u001b[1;32m   3101\u001b[0m         unit\u001b[38;5;241m=\u001b[39m\u001b[38;5;124m\"\u001b[39m\u001b[38;5;124m examples\u001b[39m\u001b[38;5;124m\"\u001b[39m,\n\u001b[1;32m   3102\u001b[0m         total\u001b[38;5;241m=\u001b[39mpbar_total,\n\u001b[1;32m   3103\u001b[0m         desc\u001b[38;5;241m=\u001b[39mdesc \u001b[38;5;129;01mor\u001b[39;00m \u001b[38;5;124m\"\u001b[39m\u001b[38;5;124mMap\u001b[39m\u001b[38;5;124m\"\u001b[39m,\n\u001b[1;32m   3104\u001b[0m     ) \u001b[38;5;28;01mas\u001b[39;00m pbar:\n\u001b[0;32m-> 3105\u001b[0m         \u001b[38;5;28;01mfor\u001b[39;00m rank, done, content \u001b[38;5;129;01min\u001b[39;00m Dataset\u001b[38;5;241m.\u001b[39m_map_single(\u001b[38;5;241m*\u001b[39m\u001b[38;5;241m*\u001b[39mdataset_kwargs):\n\u001b[1;32m   3106\u001b[0m             \u001b[38;5;28;01mif\u001b[39;00m done:\n\u001b[1;32m   3107\u001b[0m                 shards_done \u001b[38;5;241m+\u001b[39m\u001b[38;5;241m=\u001b[39m \u001b[38;5;241m1\u001b[39m\n",
      "File \u001b[0;32m~/anaconda3/lib/python3.11/site-packages/datasets/arrow_dataset.py:3482\u001b[0m, in \u001b[0;36mDataset._map_single\u001b[0;34m(shard, function, with_indices, with_rank, input_columns, batched, batch_size, drop_last_batch, remove_columns, keep_in_memory, cache_file_name, writer_batch_size, features, disable_nullable, fn_kwargs, new_fingerprint, rank, offset)\u001b[0m\n\u001b[1;32m   3478\u001b[0m indices \u001b[38;5;241m=\u001b[39m \u001b[38;5;28mlist\u001b[39m(\n\u001b[1;32m   3479\u001b[0m     \u001b[38;5;28mrange\u001b[39m(\u001b[38;5;241m*\u001b[39m(\u001b[38;5;28mslice\u001b[39m(i, i \u001b[38;5;241m+\u001b[39m batch_size)\u001b[38;5;241m.\u001b[39mindices(shard\u001b[38;5;241m.\u001b[39mnum_rows)))\n\u001b[1;32m   3480\u001b[0m )  \u001b[38;5;66;03m# Something simpler?\u001b[39;00m\n\u001b[1;32m   3481\u001b[0m \u001b[38;5;28;01mtry\u001b[39;00m:\n\u001b[0;32m-> 3482\u001b[0m     batch \u001b[38;5;241m=\u001b[39m apply_function_on_filtered_inputs(\n\u001b[1;32m   3483\u001b[0m         batch,\n\u001b[1;32m   3484\u001b[0m         indices,\n\u001b[1;32m   3485\u001b[0m         check_same_num_examples\u001b[38;5;241m=\u001b[39m\u001b[38;5;28mlen\u001b[39m(shard\u001b[38;5;241m.\u001b[39mlist_indexes()) \u001b[38;5;241m>\u001b[39m \u001b[38;5;241m0\u001b[39m,\n\u001b[1;32m   3486\u001b[0m         offset\u001b[38;5;241m=\u001b[39moffset,\n\u001b[1;32m   3487\u001b[0m     )\n\u001b[1;32m   3488\u001b[0m \u001b[38;5;28;01mexcept\u001b[39;00m NumExamplesMismatchError:\n\u001b[1;32m   3489\u001b[0m     \u001b[38;5;28;01mraise\u001b[39;00m DatasetTransformationNotAllowedError(\n\u001b[1;32m   3490\u001b[0m         \u001b[38;5;124m\"\u001b[39m\u001b[38;5;124mUsing `.map` in batched mode on a dataset with attached indexes is allowed only if it doesn\u001b[39m\u001b[38;5;124m'\u001b[39m\u001b[38;5;124mt create or remove existing examples. You can first run `.drop_index() to remove your index and then re-add it.\u001b[39m\u001b[38;5;124m\"\u001b[39m\n\u001b[1;32m   3491\u001b[0m     ) \u001b[38;5;28;01mfrom\u001b[39;00m \u001b[38;5;28;01mNone\u001b[39;00m\n",
      "File \u001b[0;32m~/anaconda3/lib/python3.11/site-packages/datasets/arrow_dataset.py:3361\u001b[0m, in \u001b[0;36mDataset._map_single.<locals>.apply_function_on_filtered_inputs\u001b[0;34m(pa_inputs, indices, check_same_num_examples, offset)\u001b[0m\n\u001b[1;32m   3359\u001b[0m \u001b[38;5;28;01mif\u001b[39;00m with_rank:\n\u001b[1;32m   3360\u001b[0m     additional_args \u001b[38;5;241m+\u001b[39m\u001b[38;5;241m=\u001b[39m (rank,)\n\u001b[0;32m-> 3361\u001b[0m processed_inputs \u001b[38;5;241m=\u001b[39m function(\u001b[38;5;241m*\u001b[39mfn_args, \u001b[38;5;241m*\u001b[39madditional_args, \u001b[38;5;241m*\u001b[39m\u001b[38;5;241m*\u001b[39mfn_kwargs)\n\u001b[1;32m   3362\u001b[0m \u001b[38;5;28;01mif\u001b[39;00m \u001b[38;5;28misinstance\u001b[39m(processed_inputs, LazyDict):\n\u001b[1;32m   3363\u001b[0m     processed_inputs \u001b[38;5;241m=\u001b[39m {\n\u001b[1;32m   3364\u001b[0m         k: v \u001b[38;5;28;01mfor\u001b[39;00m k, v \u001b[38;5;129;01min\u001b[39;00m processed_inputs\u001b[38;5;241m.\u001b[39mdata\u001b[38;5;241m.\u001b[39mitems() \u001b[38;5;28;01mif\u001b[39;00m k \u001b[38;5;129;01mnot\u001b[39;00m \u001b[38;5;129;01min\u001b[39;00m processed_inputs\u001b[38;5;241m.\u001b[39mkeys_to_format\n\u001b[1;32m   3365\u001b[0m     }\n",
      "Cell \u001b[0;32mIn[120], line 7\u001b[0m, in \u001b[0;36m<lambda>\u001b[0;34m(examples)\u001b[0m\n\u001b[1;32m      4\u001b[0m \u001b[38;5;28mprint\u001b[39m(i)\n\u001b[1;32m      5\u001b[0m losses\u001b[38;5;241m=\u001b[39m[]\n\u001b[1;32m      6\u001b[0m eval_dataset_log \u001b[38;5;241m=\u001b[39m lm_datasets[\u001b[38;5;124m\"\u001b[39m\u001b[38;5;124mtest\u001b[39m\u001b[38;5;124m\"\u001b[39m]\u001b[38;5;241m.\u001b[39mmap(\n\u001b[0;32m----> 7\u001b[0m     \u001b[38;5;28;01mlambda\u001b[39;00m examples: insert_special_masking_bis(examples,i),\n\u001b[1;32m      8\u001b[0m     batched\u001b[38;5;241m=\u001b[39m\u001b[38;5;28;01mTrue\u001b[39;00m,\n\u001b[1;32m      9\u001b[0m     remove_columns\u001b[38;5;241m=\u001b[39m lm_datasets[\u001b[38;5;124m\"\u001b[39m\u001b[38;5;124mtest\u001b[39m\u001b[38;5;124m\"\u001b[39m]\u001b[38;5;241m.\u001b[39mcolumn_names\n\u001b[1;32m     10\u001b[0m )\n\u001b[1;32m     11\u001b[0m \u001b[38;5;28mprint\u001b[39m(\u001b[38;5;124m\"\u001b[39m\u001b[38;5;124mdaatset\u001b[39m\u001b[38;5;124m\"\u001b[39m)\n\u001b[1;32m     12\u001b[0m eval_dataloader \u001b[38;5;241m=\u001b[39m preprocessing\u001b[38;5;241m.\u001b[39mcreate_dataloader(eval_dataset_log,batch_size,default_data_collator)\n",
      "Cell \u001b[0;32mIn[112], line 4\u001b[0m, in \u001b[0;36minsert_special_masking_bis\u001b[0;34m(batch, i)\u001b[0m\n\u001b[1;32m      2\u001b[0m word_ids \u001b[38;5;241m=\u001b[39m batch[\u001b[38;5;124m\"\u001b[39m\u001b[38;5;124mword_ids\u001b[39m\u001b[38;5;124m\"\u001b[39m]\n\u001b[1;32m      3\u001b[0m masked_input_id \u001b[38;5;241m=\u001b[39m batch[\u001b[38;5;124m\"\u001b[39m\u001b[38;5;124minput_ids\u001b[39m\u001b[38;5;124m\"\u001b[39m]\u001b[38;5;241m.\u001b[39mcopy()\n\u001b[0;32m----> 4\u001b[0m attention_mask \u001b[38;5;241m=\u001b[39m batch[\u001b[38;5;124m\"\u001b[39m\u001b[38;5;124mattention_mask\u001b[39m\u001b[38;5;124m\"\u001b[39m]\u001b[38;5;241m.\u001b[39mcopy()\n\u001b[1;32m      6\u001b[0m labels \u001b[38;5;241m=\u001b[39m np\u001b[38;5;241m.\u001b[39mfull_like(masked_input_id, \u001b[38;5;241m-\u001b[39m\u001b[38;5;241m100\u001b[39m)\n\u001b[1;32m      8\u001b[0m \u001b[38;5;28;01mfor\u001b[39;00m z, seq \u001b[38;5;129;01min\u001b[39;00m \u001b[38;5;28menumerate\u001b[39m(masked_input_id):\n",
      "File \u001b[0;32m~/anaconda3/lib/python3.11/site-packages/datasets/formatting/formatting.py:272\u001b[0m, in \u001b[0;36mLazyDict.__getitem__\u001b[0;34m(self, key)\u001b[0m\n\u001b[1;32m    270\u001b[0m value \u001b[38;5;241m=\u001b[39m \u001b[38;5;28mself\u001b[39m\u001b[38;5;241m.\u001b[39mdata[key]\n\u001b[1;32m    271\u001b[0m \u001b[38;5;28;01mif\u001b[39;00m key \u001b[38;5;129;01min\u001b[39;00m \u001b[38;5;28mself\u001b[39m\u001b[38;5;241m.\u001b[39mkeys_to_format:\n\u001b[0;32m--> 272\u001b[0m     value \u001b[38;5;241m=\u001b[39m \u001b[38;5;28mself\u001b[39m\u001b[38;5;241m.\u001b[39mformat(key)\n\u001b[1;32m    273\u001b[0m     \u001b[38;5;28mself\u001b[39m\u001b[38;5;241m.\u001b[39mdata[key] \u001b[38;5;241m=\u001b[39m value\n\u001b[1;32m    274\u001b[0m     \u001b[38;5;28mself\u001b[39m\u001b[38;5;241m.\u001b[39mkeys_to_format\u001b[38;5;241m.\u001b[39mremove(key)\n",
      "File \u001b[0;32m~/anaconda3/lib/python3.11/site-packages/datasets/formatting/formatting.py:375\u001b[0m, in \u001b[0;36mLazyBatch.format\u001b[0;34m(self, key)\u001b[0m\n\u001b[1;32m    374\u001b[0m \u001b[38;5;28;01mdef\u001b[39;00m \u001b[38;5;21mformat\u001b[39m(\u001b[38;5;28mself\u001b[39m, key):\n\u001b[0;32m--> 375\u001b[0m     \u001b[38;5;28;01mreturn\u001b[39;00m \u001b[38;5;28mself\u001b[39m\u001b[38;5;241m.\u001b[39mformatter\u001b[38;5;241m.\u001b[39mformat_column(\u001b[38;5;28mself\u001b[39m\u001b[38;5;241m.\u001b[39mpa_table\u001b[38;5;241m.\u001b[39mselect([key]))\n",
      "File \u001b[0;32m~/anaconda3/lib/python3.11/site-packages/datasets/formatting/formatting.py:441\u001b[0m, in \u001b[0;36mPythonFormatter.format_column\u001b[0;34m(self, pa_table)\u001b[0m\n\u001b[1;32m    440\u001b[0m \u001b[38;5;28;01mdef\u001b[39;00m \u001b[38;5;21mformat_column\u001b[39m(\u001b[38;5;28mself\u001b[39m, pa_table: pa\u001b[38;5;241m.\u001b[39mTable) \u001b[38;5;241m-\u001b[39m\u001b[38;5;241m>\u001b[39m \u001b[38;5;28mlist\u001b[39m:\n\u001b[0;32m--> 441\u001b[0m     column \u001b[38;5;241m=\u001b[39m \u001b[38;5;28mself\u001b[39m\u001b[38;5;241m.\u001b[39mpython_arrow_extractor()\u001b[38;5;241m.\u001b[39mextract_column(pa_table)\n\u001b[1;32m    442\u001b[0m     column \u001b[38;5;241m=\u001b[39m \u001b[38;5;28mself\u001b[39m\u001b[38;5;241m.\u001b[39mpython_features_decoder\u001b[38;5;241m.\u001b[39mdecode_column(column, pa_table\u001b[38;5;241m.\u001b[39mcolumn_names[\u001b[38;5;241m0\u001b[39m])\n\u001b[1;32m    443\u001b[0m     \u001b[38;5;28;01mreturn\u001b[39;00m column\n",
      "File \u001b[0;32m~/anaconda3/lib/python3.11/site-packages/datasets/formatting/formatting.py:147\u001b[0m, in \u001b[0;36mPythonArrowExtractor.extract_column\u001b[0;34m(self, pa_table)\u001b[0m\n\u001b[1;32m    146\u001b[0m \u001b[38;5;28;01mdef\u001b[39;00m \u001b[38;5;21mextract_column\u001b[39m(\u001b[38;5;28mself\u001b[39m, pa_table: pa\u001b[38;5;241m.\u001b[39mTable) \u001b[38;5;241m-\u001b[39m\u001b[38;5;241m>\u001b[39m \u001b[38;5;28mlist\u001b[39m:\n\u001b[0;32m--> 147\u001b[0m     \u001b[38;5;28;01mreturn\u001b[39;00m pa_table\u001b[38;5;241m.\u001b[39mcolumn(\u001b[38;5;241m0\u001b[39m)\u001b[38;5;241m.\u001b[39mto_pylist()\n",
      "\u001b[0;31mKeyboardInterrupt\u001b[0m: "
     ]
    }
   ],
   "source": [
    "pll = 0\n",
    "batch_size=64\n",
    "for i in  range(max_length):\n",
    "    print(i)\n",
    "    losses=[]\n",
    "    eval_dataset_log = lm_datasets[\"test\"].map(\n",
    "        lambda examples: insert_special_masking_bis(examples,i),\n",
    "        batched=True,\n",
    "        remove_columns= lm_datasets[\"test\"].column_names\n",
    "    )\n",
    "    print(\"daatset\")\n",
    "    eval_dataloader = preprocessing.create_dataloader(eval_dataset_log,batch_size,default_data_collator)\n",
    "    print(\"dataloader\")\n",
    "    for step, batch in enumerate(eval_dataloader):\n",
    "        batch={key: value.to(device) for key, value in batch.items()}\n",
    "        with torch.no_grad():\n",
    "            output=model_hugging_face(**batch)\n",
    "        print(\"output\")\n",
    "        loss=output.loss\n",
    "        losses.append(loss.repeat(eval_dataloader.batch_size))\n",
    "        print(\"loss\")\n",
    "        break\n",
    "    losses = torch.cat(losses)\n",
    "    print(\"loss\")\n",
    "    #losses = losses[: len(eval_dataloader.dataset)]\n",
    "    pll += torch.mean(losses)\n",
    "\n",
    "\n",
    "pll /=max_length\n",
    "pll"
   ]
  },
  {
   "cell_type": "markdown",
   "metadata": {},
   "source": []
  },
  {
   "cell_type": "code",
   "execution_count": 19,
   "metadata": {},
   "outputs": [
    {
     "name": "stdout",
     "output_type": "stream",
     "text": [
      "Trainer evaluation....\n"
     ]
    },
    {
     "data": {
      "application/vnd.jupyter.widget-view+json": {
       "model_id": "29d64e2999424512b94605be5fc3e3e4",
       "version_major": 2,
       "version_minor": 0
      },
      "text/plain": [
       "  0%|          | 0/16484 [00:00<?, ?it/s]"
      ]
     },
     "metadata": {},
     "output_type": "display_data"
    },
    {
     "name": "stdout",
     "output_type": "stream",
     "text": [
      ">>> Perplexity: 5813.28\n",
      "Manual perplexity...\n",
      " Perplexity: 5814.432395049958\n",
      "Accuracy...\n",
      "Accuracy: 0.18456963747366367\n"
     ]
    }
   ],
   "source": [
    "evaluation_task(model_kb,eval_dataloader)"
   ]
  },
  {
   "cell_type": "code",
   "execution_count": 3,
   "metadata": {},
   "outputs": [
    {
     "name": "stdout",
     "output_type": "stream",
     "text": [
      "Year regression\n",
      "training\n",
      "stdout: \u001b[32m14:48:05 [INFO] \u001b[37m(train-bert)\u001b[0m: Load and save tokenizer...\u001b[0m\n",
      "\u001b[32m14:48:05 [INFO] \u001b[37m(train-bert)\u001b[0m: Preprocess datasets...\u001b[0m\n",
      "\u001b[32m14:48:06 [INFO] \u001b[37m(train-bert)\u001b[0m: Labels: tensor([ 0.5352,  0.3230, -1.6105, -1.7756,  0.7710,  0.3937, -2.3650,  0.3701,\n",
      "         0.9596,  0.1108,  0.4880,  0.5352,  0.3937, -2.2000,  0.5352, -2.3886,\n",
      "         0.5588,  0.3465, -0.3372,  0.5116,  0.7945, -0.7381,  0.5588,  0.8889,\n",
      "         0.5116,  1.0303, -0.5259,  0.5588,  0.3937,  0.3937,  0.7238,  0.7238,\n",
      "         0.9596,  0.6295, -1.5869,  0.5116, -2.1057,  0.0400,  0.4173,  0.8889,\n",
      "        -0.5259, -1.0918,  0.9124,  0.6059,  1.0303, -2.0585,  0.6295, -1.4926,\n",
      "        -0.1722, -0.1015, -1.3983,  0.9596,  0.7002, -1.5633, -0.1486, -1.6812,\n",
      "         0.5588, -0.3372,  0.6059,  0.8417, -0.2193, -0.2193,  0.2287,  0.1343,\n",
      "         0.7238,  0.4644,  0.7238,  0.8181,  0.3937, -2.2235,  0.6295,  0.4173,\n",
      "         1.0068, -2.1528,  0.9360,  1.0303, -1.4690,  0.6059,  0.8181,  0.8653,\n",
      "        -1.9878,  0.3465,  0.4880,  1.0303, -1.3983,  0.9124,  0.9124,  0.5352,\n",
      "         1.0539,  1.0068, -0.1486,  0.3937,  0.7710, -0.5730, -1.9642,  1.0539,\n",
      "         0.3701,  0.5588, -1.3983,  0.1579,  0.2522, -0.8324,  0.4173, -0.5023,\n",
      "         0.3937,  0.3465,  0.8653,  0.5116,  0.8417,  0.1815,  0.7474, -1.2332,\n",
      "         0.7238,  1.0539,  0.4644,  0.5352,  0.0164, -0.4080, -1.1625, -2.4358,\n",
      "         0.3937,  0.9124,  0.6295, -0.7145,  0.5588,  0.3230,  0.4880,  0.8653,\n",
      "         0.7002,  0.1343,  0.6295,  0.5823,  0.9596, -0.1250, -1.8699,  0.4173,\n",
      "         0.9596,  0.5352,  0.9360,  0.7474,  0.8889, -0.2193, -1.4690, -1.4926,\n",
      "         0.4880,  1.0303,  0.7710,  0.5352,  0.4644,  0.0400,  0.3465,  1.0539,\n",
      "         0.5352,  0.8417, -2.4593, -0.5023,  0.4644, -1.6341, -0.8324, -1.3983,\n",
      "         0.5116,  0.3937,  1.0539,  0.3937,  0.7710, -0.1015,  0.4644,  0.3465,\n",
      "        -1.3511, -0.1722,  0.7002,  0.7945, -1.4926,  0.9124,  0.8417,  0.3937,\n",
      "         1.0068,  0.7238, -2.3414,  0.9124,  0.6295, -1.3983,  0.9832,  0.6059,\n",
      "         0.8653,  0.5116,  0.7710, -0.6202,  0.3701,  0.4644,  0.1815,  0.7238,\n",
      "         0.7238,  0.9832, -0.5966, -0.2901, -1.4454,  0.3465, -1.6812,  0.3701,\n",
      "         0.6531,  0.6295,  0.5823, -0.5023,  0.6767,  0.4880, -1.4219,  0.9832,\n",
      "         0.4173, -1.1153, -1.2097,  0.4409, -0.4316, -0.0307, -1.4690,  0.3230,\n",
      "        -0.1486, -1.2097, -1.7991,  0.6295, -1.5869,  0.8889,  0.3937,  0.9360,\n",
      "         0.8653, -0.4551, -1.9878,  0.7710,  0.9832,  0.8181, -0.6909,  0.5352,\n",
      "         0.3465,  0.9360,  0.5588,  0.7945,  0.7710,  0.7002,  0.9596, -1.1389,\n",
      "         0.2522,  0.7474,  0.9596,  0.5588,  0.8417, -1.7756,  0.9360,  0.9596,\n",
      "         0.6059, -0.3608, -1.5398,  0.5116,  0.8889,  0.5352, -2.3414,  0.5588,\n",
      "        -1.3983,  0.3465, -0.7617,  0.5116,  0.8889,  0.7002,  0.5352,  0.3230,\n",
      "        -0.1250,  0.4409,  0.6767,  0.8417, -0.4787,  0.2994,  0.4409,  0.6531,\n",
      "        -0.4316,  0.7945,  0.9124, -2.3886,  0.2994,  0.4409,  0.6295,  0.0872,\n",
      "         0.4173,  0.8181,  0.7002,  0.3937, -1.8463,  0.5352,  0.7238,  0.7710,\n",
      "        -1.4690, -1.5398, -2.3650,  0.9124,  0.5588,  1.0303,  0.4409,  0.6767,\n",
      "         0.8181, -2.5065,  0.7002,  0.5352, -1.4219,  0.3701, -1.7520,  0.6767,\n",
      "         0.4880,  0.9360, -0.8324, -1.7284,  0.4409, -1.3040,  0.8889,  0.9360,\n",
      "         0.4644, -1.8463,  0.8889,  0.6767, -1.3276,  0.6295,  0.6531, -2.1528,\n",
      "         0.8889, -1.5633,  0.4880, -0.2193,  0.9832,  0.7710,  0.8653,  0.7002,\n",
      "         0.6059,  0.7710, -1.6577,  0.4880,  0.6767, -0.2193,  1.0303,  0.4409,\n",
      "        -2.2235,  0.5823,  0.7710,  1.0303,  0.8889,  0.8417, -2.4358, -1.7048,\n",
      "         0.1108,  0.5588, -0.8324,  0.9832, -1.1389,  0.6295,  0.7238, -0.4316,\n",
      "         0.9124,  0.6059,  1.0303,  0.6295,  0.4409,  0.7474,  1.0539, -0.4551,\n",
      "         0.5116,  0.9832,  0.6531,  0.9832,  0.6531,  0.7002,  0.1343,  0.9360,\n",
      "        -0.6438,  0.6059, -0.5259,  1.0539,  0.7002,  0.8417, -1.7048,  0.2522,\n",
      "         0.9360,  0.7238,  0.4409, -2.3886, -1.3511, -1.3747,  0.5352,  0.3465,\n",
      "        -2.2471,  0.9596,  0.3701,  0.3701,  0.3701,  0.2287, -0.6673,  0.9596,\n",
      "         1.0303, -1.5633,  1.0303, -1.3747,  0.9360, -0.4316,  0.5352, -2.4829,\n",
      "         1.0303,  0.9360,  0.3701,  0.0636,  0.5823,  0.4173, -0.2901,  0.3937,\n",
      "         0.5116, -0.2429,  0.8417,  0.8653, -2.0821,  0.9124,  0.6531, -0.3608,\n",
      "         0.9124,  0.3701,  0.3230,  1.0068,  0.6767,  0.9360,  0.9124, -1.3983,\n",
      "         0.7238,  0.5352,  1.0303,  0.6295, -2.0349,  0.8889, -1.3983,  0.8889,\n",
      "         0.3465,  1.0539,  0.5823,  0.5823,  0.8653, -1.8463,  0.3230,  0.5352,\n",
      "         0.6767,  0.3230,  0.3701,  0.8653, -1.0210,  0.3230, -1.2804,  0.3465,\n",
      "         0.1815, -1.7520, -0.0779,  0.9360,  0.3701,  1.0068,  0.5823, -1.6105,\n",
      "         0.3701, -2.3179,  0.7002,  1.0068, -1.3747,  0.4644,  0.3701, -0.3372,\n",
      "        -1.5398,  0.5352,  0.7238,  1.0303,  0.5588,  0.4880,  1.0539,  0.6767,\n",
      "         0.7945,  0.9360, -1.3040,  0.3701,  0.3701,  0.5588,  0.7474,  0.7002,\n",
      "         0.7002,  0.5116, -1.3511,  1.0539,  0.7474, -1.7284, -1.3747,  0.0636,\n",
      "         0.4409,  0.8181,  1.0303, -0.3137,  0.7002, -1.6577,  0.9124,  0.6767,\n",
      "        -2.5772,  0.4173, -0.8560, -2.4358, -0.4080, -0.0779, -2.1292, -2.2000,\n",
      "         0.6059,  1.0068, -2.5301,  0.7238, -1.4926, -2.4829,  0.4173, -1.3511,\n",
      "         0.4173,  0.8417, -0.1958,  0.9596,  0.6295,  0.3701,  0.5588,  0.5588,\n",
      "        -2.0821,  1.0068,  0.9124, -0.6202, -0.6202, -1.0682,  0.4644, -1.7756,\n",
      "         0.8181,  0.2758, -1.1153, -0.2665,  0.6531,  0.4409,  0.3465,  0.4880,\n",
      "         0.8889, -0.4080,  0.8417,  0.8417,  0.5588,  0.9596, -2.4122,  0.7474,\n",
      "        -2.5537, -1.1389,  0.2287, -1.0918,  0.3465,  0.4880, -0.6202,  0.5352,\n",
      "         0.4880,  0.7474,  0.3937,  0.0164,  0.5116,  1.0539, -1.0682,  0.5823,\n",
      "        -1.5162, -1.7284,  0.3701,  0.5352,  0.7002,  0.9124,  0.3230, -0.1250,\n",
      "         0.8653,  0.5588, -1.6341, -1.4926,  0.5823, -2.3179,  0.3701,  0.3937,\n",
      "         0.6531,  0.4880,  0.8889,  0.5352,  0.5823, -0.1015,  0.8653,  0.7945,\n",
      "         1.0539,  0.4644,  0.3230,  0.8889, -1.2097, -2.1528,  0.9596, -1.3511,\n",
      "        -0.2193, -1.5633,  0.7002, -0.2429,  0.9360,  0.1815,  0.8889,  0.4880,\n",
      "        -1.9170,  0.8417,  0.6531,  0.6059, -2.2235,  0.4644,  0.3230,  0.7238,\n",
      "         0.3701, -1.5633,  0.2994, -0.8324,  0.4173, -1.3040,  0.3937,  0.9360,\n",
      "        -0.7852,  0.7710,  0.6059,  0.4409,  0.2758,  0.8889,  0.3701, -1.0918,\n",
      "        -1.7520, -2.2000,  0.6059,  0.6767,  0.7710,  0.8653,  0.0636, -0.2193,\n",
      "         0.6059, -1.0446,  0.8889, -1.3747,  1.0539, -0.3608,  0.7474,  0.6295,\n",
      "        -1.4926,  0.6767,  0.3701,  0.9596,  0.7238, -0.7381,  0.7710,  0.8889,\n",
      "        -0.6202,  0.5823,  1.0068,  0.7002,  0.9596, -0.7617,  0.4173,  0.5116,\n",
      "         0.8417,  0.6295, -0.7381,  0.9596, -0.5966,  0.7002, -0.6202,  0.4409,\n",
      "         0.4173,  0.9124, -1.0918,  0.2994,  0.7945,  0.6059,  0.4644,  0.6767,\n",
      "         0.6295, -0.4787, -1.1625, -1.7284, -0.0779,  0.2758,  0.5352,  0.6059,\n",
      "         0.3701, -0.3137,  0.4880,  0.5823,  0.3465,  0.4173, -0.8560,  0.7945,\n",
      "         0.7238, -1.5633, -0.9974,  0.7710, -0.3844,  0.4173, -0.9503,  0.8889,\n",
      "        -0.7852, -0.5259, -1.7520,  0.4173,  0.8653,  0.6059,  0.8889,  0.6767,\n",
      "         0.8653,  0.5588,  0.9832, -0.1722,  0.2994, -0.1958,  0.8889,  0.7710,\n",
      "         1.0539,  0.3937,  0.5823,  0.3465,  0.3937,  0.4644,  0.4409, -0.7145,\n",
      "         0.7002,  0.8653, -0.1486, -1.0918,  0.0164,  0.7002,  0.0636, -2.2235,\n",
      "        -1.3983,  0.8889,  0.7002, -0.0779,  1.0539,  0.6059, -1.8699,  0.4644,\n",
      "         0.8889, -1.0210, -1.5869,  0.7002,  0.2994,  1.0303,  0.9124,  0.5588,\n",
      "        -0.3844, -2.5537,  0.8417,  0.5116,  0.6059,  0.4409, -1.6577,  0.7238,\n",
      "        -0.0543,  0.9360,  0.5352,  0.4173,  0.8653, -0.1722, -0.2665,  0.1343,\n",
      "         0.7474, -1.5869, -1.7284,  0.8181, -0.3137,  0.3701, -0.7852,  1.0068,\n",
      "        -1.2804,  0.4644, -0.0779, -0.7381, -2.4593,  0.6059,  0.4880,  0.7238,\n",
      "        -2.0585,  1.0303,  0.7945, -1.7520,  0.9832, -2.5065, -1.2332,  0.6295,\n",
      "         0.3937, -0.5730,  0.5352,  0.4409, -2.4593,  0.3465,  0.9832, -1.8699,\n",
      "         0.7710,  0.7945,  0.9124,  1.0068,  1.0303,  0.5116, -0.2193, -2.0349,\n",
      "        -1.5162,  1.0303,  0.5588, -1.4454,  0.0636,  0.5823,  0.4644,  0.7002,\n",
      "         0.3701,  0.8653,  0.7238,  0.7238,  0.7474,  0.3701,  0.5588,  0.6531,\n",
      "        -0.1015,  0.9360,  0.8653, -2.4829,  0.7002,  0.9124,  0.6295,  0.9596,\n",
      "        -2.1057,  0.8417, -1.8934,  0.7710,  0.5352, -2.0585,  0.7474,  0.5116,\n",
      "         0.8889, -1.5869,  0.8417, -1.3747,  0.7002,  0.8653, -1.7520,  0.3937,\n",
      "         0.7945, -2.2707,  0.3465,  0.8653,  0.5823, -1.5162,  0.7002,  0.4880,\n",
      "        -0.5966, -0.4080, -0.5259, -0.2901,  0.8181, -0.0543,  0.2994,  0.8889,\n",
      "        -1.7284,  0.6767,  1.0539,  0.6059, -0.0779,  0.3230, -0.5966,  0.2522,\n",
      "         0.9124,  0.9360,  0.4409,  0.3701,  0.5116,  0.6531,  0.6531,  0.4644,\n",
      "         0.9832, -2.3414, -0.5023, -0.3137,  0.6295,  0.7002, -0.3372, -2.0349,\n",
      "         0.3465, -1.1153,  0.3701,  0.4644, -1.4454,  0.8889,  0.9596,  0.4880,\n",
      "        -0.0543,  0.3937,  0.7002, -0.3608, -1.4926,  0.9124, -0.7852,  0.4880,\n",
      "         0.2287,  0.8889,  0.9360,  0.9596,  0.8653, -2.3414,  0.7474,  0.3937,\n",
      "         0.9832, -0.5966,  0.3465, -1.3511,  0.5823,  0.4173,  0.1579,  0.7474,\n",
      "         0.6531, -1.6105,  0.4880,  0.8181,  0.3230,  0.9596,  0.4644, -0.6673,\n",
      "        -0.1015, -1.4926,  1.0068,  0.7474,  0.6295,  0.4173, -2.4358,  0.3230,\n",
      "         0.6295,  0.5588, -2.3886,  0.8889,  0.5823,  0.5352, -0.0307,  0.3230,\n",
      "         0.9124, -0.4316, -1.3747,  0.1579, -1.7048, -1.5633,  0.5823,  0.9832,\n",
      "         0.1108,  1.0303, -0.0307,  0.8181, -0.8796, -0.8324,  1.0068,  0.6531,\n",
      "        -2.5301,  0.5588,  1.0303, -0.6202, -0.0543,  0.6295, -0.5966,  0.5116,\n",
      "         0.2994,  0.4644,  0.2522,  0.7238,  0.0164,  0.7238,  0.3465,  0.7710,\n",
      "         0.4409,  0.9360,  1.0539,  0.7474,  0.7710, -1.7991,  0.8181, -0.1958,\n",
      "         0.7002,  0.3230,  0.2994, -1.6341,  0.4409,  0.5823,  0.7710, -0.1958,\n",
      "         0.7474,  0.6531,  0.7238,  0.5823,  0.5352,  0.5588, -0.9739,  0.8181,\n",
      "         0.7710,  0.4644, -0.7381,  0.7238, -2.0821,  0.1343,  0.4409,  0.0636])\u001b[0m\n",
      "\u001b[34m14:48:07 [TRAIN] \u001b[37m(train-bert)\u001b[0m: Epoch 0 starts!\u001b[0m\n",
      "\u001b[34m14:48:22 [TRAIN] \u001b[37m(train-bert)\u001b[0m: Training Loss: 8.192\u001b[0m\n",
      "\u001b[34m14:48:22 [TRAIN] \u001b[37m(train-bert)\u001b[0m: Validation Loss: 2.386\u001b[0m\n",
      "\u001b[34m14:48:22 [TRAIN] \u001b[37m(train-bert)\u001b[0m: Validation r2: 0.8247222900390625\u001b[0m\n",
      "\u001b[32m14:48:22 [INFO] \u001b[37m(train-bert)\u001b[0m: Best validation loss so far\u001b[0m\n",
      "\u001b[34m14:48:23 [TRAIN] \u001b[37m(train-bert)\u001b[0m: Epoch 1 starts!\u001b[0m\n",
      "\u001b[34m14:48:38 [TRAIN] \u001b[37m(train-bert)\u001b[0m: Training Loss: 2.033\u001b[0m\n",
      "\u001b[34m14:48:38 [TRAIN] \u001b[37m(train-bert)\u001b[0m: Validation Loss: 1.827\u001b[0m\n",
      "\u001b[34m14:48:38 [TRAIN] \u001b[37m(train-bert)\u001b[0m: Validation r2: 0.8589841723442078\u001b[0m\n",
      "\u001b[32m14:48:38 [INFO] \u001b[37m(train-bert)\u001b[0m: Best validation loss so far\u001b[0m\n",
      "\u001b[34m14:48:39 [TRAIN] \u001b[37m(train-bert)\u001b[0m: Epoch 2 starts!\u001b[0m\n",
      "\u001b[34m14:48:54 [TRAIN] \u001b[37m(train-bert)\u001b[0m: Training Loss: 1.097\u001b[0m\n",
      "\u001b[34m14:48:54 [TRAIN] \u001b[37m(train-bert)\u001b[0m: Validation Loss: 1.445\u001b[0m\n",
      "\u001b[34m14:48:54 [TRAIN] \u001b[37m(train-bert)\u001b[0m: Validation r2: 0.8881311416625977\u001b[0m\n",
      "\u001b[32m14:48:54 [INFO] \u001b[37m(train-bert)\u001b[0m: Best validation loss so far\u001b[0m\n",
      "\u001b[34m14:48:55 [TRAIN] \u001b[37m(train-bert)\u001b[0m: Epoch 3 starts!\u001b[0m\n",
      "\u001b[34m14:49:10 [TRAIN] \u001b[37m(train-bert)\u001b[0m: Training Loss: 0.723\u001b[0m\n",
      "\u001b[34m14:49:10 [TRAIN] \u001b[37m(train-bert)\u001b[0m: Validation Loss: 1.246\u001b[0m\n",
      "\u001b[34m14:49:10 [TRAIN] \u001b[37m(train-bert)\u001b[0m: Validation r2: 0.9019820094108582\u001b[0m\n",
      "\u001b[32m14:49:10 [INFO] \u001b[37m(train-bert)\u001b[0m: Best validation loss so far\u001b[0m\n",
      "\u001b[34m14:49:11 [TRAIN] \u001b[37m(train-bert)\u001b[0m: Epoch 4 starts!\u001b[0m\n",
      "\u001b[34m14:49:26 [TRAIN] \u001b[37m(train-bert)\u001b[0m: Training Loss: 0.511\u001b[0m\n",
      "\u001b[34m14:49:26 [TRAIN] \u001b[37m(train-bert)\u001b[0m: Validation Loss: 1.227\u001b[0m\n",
      "\u001b[34m14:49:26 [TRAIN] \u001b[37m(train-bert)\u001b[0m: Validation r2: 0.9051702618598938\u001b[0m\n",
      "\u001b[32m14:49:26 [INFO] \u001b[37m(train-bert)\u001b[0m: Best validation loss so far\u001b[0m\n",
      "\u001b[34m14:49:28 [TRAIN] \u001b[37m(train-bert)\u001b[0m: Epoch 5 starts!\u001b[0m\n",
      "\u001b[34m14:49:43 [TRAIN] \u001b[37m(train-bert)\u001b[0m: Training Loss: 0.434\u001b[0m\n",
      "\u001b[34m14:49:43 [TRAIN] \u001b[37m(train-bert)\u001b[0m: Validation Loss: 1.204\u001b[0m\n",
      "\u001b[34m14:49:43 [TRAIN] \u001b[37m(train-bert)\u001b[0m: Validation r2: 0.9062244296073914\u001b[0m\n",
      "\u001b[32m14:49:43 [INFO] \u001b[37m(train-bert)\u001b[0m: Best validation loss so far\u001b[0m\n",
      "\u001b[34m14:49:44 [TRAIN] \u001b[37m(train-bert)\u001b[0m: Epoch 6 starts!\u001b[0m\n",
      "\u001b[34m14:49:59 [TRAIN] \u001b[37m(train-bert)\u001b[0m: Training Loss: 0.372\u001b[0m\n",
      "\u001b[34m14:49:59 [TRAIN] \u001b[37m(train-bert)\u001b[0m: Validation Loss: 1.139\u001b[0m\n",
      "\u001b[34m14:49:59 [TRAIN] \u001b[37m(train-bert)\u001b[0m: Validation r2: 0.9111806750297546\u001b[0m\n",
      "\u001b[32m14:49:59 [INFO] \u001b[37m(train-bert)\u001b[0m: Best validation loss so far\u001b[0m\n",
      "\u001b[34m14:50:00 [TRAIN] \u001b[37m(train-bert)\u001b[0m: Epoch 7 starts!\u001b[0m\n",
      "\u001b[34m14:50:15 [TRAIN] \u001b[37m(train-bert)\u001b[0m: Training Loss: 0.377\u001b[0m\n",
      "\u001b[34m14:50:15 [TRAIN] \u001b[37m(train-bert)\u001b[0m: Validation Loss: 1.174\u001b[0m\n",
      "\u001b[34m14:50:15 [TRAIN] \u001b[37m(train-bert)\u001b[0m: Validation r2: 0.9072189331054688\u001b[0m\n",
      "\u001b[32m14:50:15 [INFO] \u001b[37m(train-bert)\u001b[0m: Not the best validation loss so far\u001b[0m\n",
      "\u001b[34m14:50:15 [TRAIN] \u001b[37m(train-bert)\u001b[0m: Epoch 8 starts!\u001b[0m\n",
      "\u001b[34m14:50:30 [TRAIN] \u001b[37m(train-bert)\u001b[0m: Training Loss: 0.329\u001b[0m\n",
      "\u001b[34m14:50:30 [TRAIN] \u001b[37m(train-bert)\u001b[0m: Validation Loss: 1.175\u001b[0m\n",
      "\u001b[34m14:50:30 [TRAIN] \u001b[37m(train-bert)\u001b[0m: Validation r2: 0.9081009030342102\u001b[0m\n",
      "\u001b[32m14:50:30 [INFO] \u001b[37m(train-bert)\u001b[0m: Not the best validation loss so far\u001b[0m\n",
      "\u001b[34m14:50:30 [TRAIN] \u001b[37m(train-bert)\u001b[0m: Epoch 9 starts!\u001b[0m\n",
      "\u001b[34m14:50:45 [TRAIN] \u001b[37m(train-bert)\u001b[0m: Training Loss: 0.335\u001b[0m\n",
      "\u001b[34m14:50:45 [TRAIN] \u001b[37m(train-bert)\u001b[0m: Validation Loss: 1.180\u001b[0m\n",
      "\u001b[34m14:50:45 [TRAIN] \u001b[37m(train-bert)\u001b[0m: Validation r2: 0.9086167216300964\u001b[0m\n",
      "\u001b[32m14:50:45 [INFO] \u001b[37m(train-bert)\u001b[0m: Not the best validation loss so far\u001b[0m\n",
      "\n",
      "stderr: Some weights of BertForSequenceClassification were not initialized from the model checkpoint at KBLab/bert-base-swedish-cased and are newly initialized: ['classifier.bias', 'classifier.weight']\n",
      "You should probably TRAIN this model on a down-stream task to be able to use it for predictions and inference.\n",
      "100%|██████████| 44/44 [00:14<00:00,  3.14it/s]\n",
      "100%|██████████| 10/10 [00:01<00:00,  8.59it/s]\n",
      "100%|██████████| 44/44 [00:13<00:00,  3.23it/s]\n",
      "100%|██████████| 10/10 [00:01<00:00,  8.42it/s]\n",
      "100%|██████████| 44/44 [00:13<00:00,  3.20it/s]\n",
      "100%|██████████| 10/10 [00:01<00:00,  8.67it/s]\n",
      "100%|██████████| 44/44 [00:13<00:00,  3.18it/s]\n",
      "100%|██████████| 10/10 [00:01<00:00,  8.47it/s]\n",
      "100%|██████████| 44/44 [00:13<00:00,  3.19it/s]\n",
      "100%|██████████| 10/10 [00:01<00:00,  8.67it/s]\n",
      "100%|██████████| 44/44 [00:13<00:00,  3.18it/s]\n",
      "100%|██████████| 10/10 [00:01<00:00,  8.41it/s]\n",
      "100%|██████████| 44/44 [00:13<00:00,  3.19it/s]\n",
      "100%|██████████| 10/10 [00:01<00:00,  8.66it/s]\n",
      "100%|██████████| 44/44 [00:13<00:00,  3.16it/s]\n",
      "100%|██████████| 10/10 [00:01<00:00,  8.28it/s]\n",
      "100%|██████████| 44/44 [00:13<00:00,  3.17it/s]\n",
      "100%|██████████| 10/10 [00:01<00:00,  8.69it/s]\n",
      "100%|██████████| 44/44 [00:13<00:00,  3.17it/s]\n",
      "100%|██████████| 10/10 [00:01<00:00,  8.57it/s]\n",
      "\n",
      "Party classification\n",
      "training hugging face\n",
      "stdout: \u001b[32m14:50:47 [INFO] \u001b[37m(train-bert)\u001b[0m: Load and save tokenizer...\u001b[0m\n",
      "\u001b[32m14:50:48 [INFO] \u001b[37m(train-bert)\u001b[0m: Preprocess datasets...\u001b[0m\n",
      "\u001b[32m14:50:48 [INFO] \u001b[37m(train-bert)\u001b[0m: Labels: tensor([ 0.5352,  0.3230, -1.6105, -1.7756,  0.7710,  0.3937, -2.3650,  0.3701,\n",
      "         0.9596,  0.1108,  0.4880,  0.5352,  0.3937, -2.2000,  0.5352, -2.3886,\n",
      "         0.5588,  0.3465, -0.3372,  0.5116,  0.7945, -0.7381,  0.5588,  0.8889,\n",
      "         0.5116,  1.0303, -0.5259,  0.5588,  0.3937,  0.3937,  0.7238,  0.7238,\n",
      "         0.9596,  0.6295, -1.5869,  0.5116, -2.1057,  0.0400,  0.4173,  0.8889,\n",
      "        -0.5259, -1.0918,  0.9124,  0.6059,  1.0303, -2.0585,  0.6295, -1.4926,\n",
      "        -0.1722, -0.1015, -1.3983,  0.9596,  0.7002, -1.5633, -0.1486, -1.6812,\n",
      "         0.5588, -0.3372,  0.6059,  0.8417, -0.2193, -0.2193,  0.2287,  0.1343,\n",
      "         0.7238,  0.4644,  0.7238,  0.8181,  0.3937, -2.2235,  0.6295,  0.4173,\n",
      "         1.0068, -2.1528,  0.9360,  1.0303, -1.4690,  0.6059,  0.8181,  0.8653,\n",
      "        -1.9878,  0.3465,  0.4880,  1.0303, -1.3983,  0.9124,  0.9124,  0.5352,\n",
      "         1.0539,  1.0068, -0.1486,  0.3937,  0.7710, -0.5730, -1.9642,  1.0539,\n",
      "         0.3701,  0.5588, -1.3983,  0.1579,  0.2522, -0.8324,  0.4173, -0.5023,\n",
      "         0.3937,  0.3465,  0.8653,  0.5116,  0.8417,  0.1815,  0.7474, -1.2332,\n",
      "         0.7238,  1.0539,  0.4644,  0.5352,  0.0164, -0.4080, -1.1625, -2.4358,\n",
      "         0.3937,  0.9124,  0.6295, -0.7145,  0.5588,  0.3230,  0.4880,  0.8653,\n",
      "         0.7002,  0.1343,  0.6295,  0.5823,  0.9596, -0.1250, -1.8699,  0.4173,\n",
      "         0.9596,  0.5352,  0.9360,  0.7474,  0.8889, -0.2193, -1.4690, -1.4926,\n",
      "         0.4880,  1.0303,  0.7710,  0.5352,  0.4644,  0.0400,  0.3465,  1.0539,\n",
      "         0.5352,  0.8417, -2.4593, -0.5023,  0.4644, -1.6341, -0.8324, -1.3983,\n",
      "         0.5116,  0.3937,  1.0539,  0.3937,  0.7710, -0.1015,  0.4644,  0.3465,\n",
      "        -1.3511, -0.1722,  0.7002,  0.7945, -1.4926,  0.9124,  0.8417,  0.3937,\n",
      "         1.0068,  0.7238, -2.3414,  0.9124,  0.6295, -1.3983,  0.9832,  0.6059,\n",
      "         0.8653,  0.5116,  0.7710, -0.6202,  0.3701,  0.4644,  0.1815,  0.7238,\n",
      "         0.7238,  0.9832, -0.5966, -0.2901, -1.4454,  0.3465, -1.6812,  0.3701,\n",
      "         0.6531,  0.6295,  0.5823, -0.5023,  0.6767,  0.4880, -1.4219,  0.9832,\n",
      "         0.4173, -1.1153, -1.2097,  0.4409, -0.4316, -0.0307, -1.4690,  0.3230,\n",
      "        -0.1486, -1.2097, -1.7991,  0.6295, -1.5869,  0.8889,  0.3937,  0.9360,\n",
      "         0.8653, -0.4551, -1.9878,  0.7710,  0.9832,  0.8181, -0.6909,  0.5352,\n",
      "         0.3465,  0.9360,  0.5588,  0.7945,  0.7710,  0.7002,  0.9596, -1.1389,\n",
      "         0.2522,  0.7474,  0.9596,  0.5588,  0.8417, -1.7756,  0.9360,  0.9596,\n",
      "         0.6059, -0.3608, -1.5398,  0.5116,  0.8889,  0.5352, -2.3414,  0.5588,\n",
      "        -1.3983,  0.3465, -0.7617,  0.5116,  0.8889,  0.7002,  0.5352,  0.3230,\n",
      "        -0.1250,  0.4409,  0.6767,  0.8417, -0.4787,  0.2994,  0.4409,  0.6531,\n",
      "        -0.4316,  0.7945,  0.9124, -2.3886,  0.2994,  0.4409,  0.6295,  0.0872,\n",
      "         0.4173,  0.8181,  0.7002,  0.3937, -1.8463,  0.5352,  0.7238,  0.7710,\n",
      "        -1.4690, -1.5398, -2.3650,  0.9124,  0.5588,  1.0303,  0.4409,  0.6767,\n",
      "         0.8181, -2.5065,  0.7002,  0.5352, -1.4219,  0.3701, -1.7520,  0.6767,\n",
      "         0.4880,  0.9360, -0.8324, -1.7284,  0.4409, -1.3040,  0.8889,  0.9360,\n",
      "         0.4644, -1.8463,  0.8889,  0.6767, -1.3276,  0.6295,  0.6531, -2.1528,\n",
      "         0.8889, -1.5633,  0.4880, -0.2193,  0.9832,  0.7710,  0.8653,  0.7002,\n",
      "         0.6059,  0.7710, -1.6577,  0.4880,  0.6767, -0.2193,  1.0303,  0.4409,\n",
      "        -2.2235,  0.5823,  0.7710,  1.0303,  0.8889,  0.8417, -2.4358, -1.7048,\n",
      "         0.1108,  0.5588, -0.8324,  0.9832, -1.1389,  0.6295,  0.7238, -0.4316,\n",
      "         0.9124,  0.6059,  1.0303,  0.6295,  0.4409,  0.7474,  1.0539, -0.4551,\n",
      "         0.5116,  0.9832,  0.6531,  0.9832,  0.6531,  0.7002,  0.1343,  0.9360,\n",
      "        -0.6438,  0.6059, -0.5259,  1.0539,  0.7002,  0.8417, -1.7048,  0.2522,\n",
      "         0.9360,  0.7238,  0.4409, -2.3886, -1.3511, -1.3747,  0.5352,  0.3465,\n",
      "        -2.2471,  0.9596,  0.3701,  0.3701,  0.3701,  0.2287, -0.6673,  0.9596,\n",
      "         1.0303, -1.5633,  1.0303, -1.3747,  0.9360, -0.4316,  0.5352, -2.4829,\n",
      "         1.0303,  0.9360,  0.3701,  0.0636,  0.5823,  0.4173, -0.2901,  0.3937,\n",
      "         0.5116, -0.2429,  0.8417,  0.8653, -2.0821,  0.9124,  0.6531, -0.3608,\n",
      "         0.9124,  0.3701,  0.3230,  1.0068,  0.6767,  0.9360,  0.9124, -1.3983,\n",
      "         0.7238,  0.5352,  1.0303,  0.6295, -2.0349,  0.8889, -1.3983,  0.8889,\n",
      "         0.3465,  1.0539,  0.5823,  0.5823,  0.8653, -1.8463,  0.3230,  0.5352,\n",
      "         0.6767,  0.3230,  0.3701,  0.8653, -1.0210,  0.3230, -1.2804,  0.3465,\n",
      "         0.1815, -1.7520, -0.0779,  0.9360,  0.3701,  1.0068,  0.5823, -1.6105,\n",
      "         0.3701, -2.3179,  0.7002,  1.0068, -1.3747,  0.4644,  0.3701, -0.3372,\n",
      "        -1.5398,  0.5352,  0.7238,  1.0303,  0.5588,  0.4880,  1.0539,  0.6767,\n",
      "         0.7945,  0.9360, -1.3040,  0.3701,  0.3701,  0.5588,  0.7474,  0.7002,\n",
      "         0.7002,  0.5116, -1.3511,  1.0539,  0.7474, -1.7284, -1.3747,  0.0636,\n",
      "         0.4409,  0.8181,  1.0303, -0.3137,  0.7002, -1.6577,  0.9124,  0.6767,\n",
      "        -2.5772,  0.4173, -0.8560, -2.4358, -0.4080, -0.0779, -2.1292, -2.2000,\n",
      "         0.6059,  1.0068, -2.5301,  0.7238, -1.4926, -2.4829,  0.4173, -1.3511,\n",
      "         0.4173,  0.8417, -0.1958,  0.9596,  0.6295,  0.3701,  0.5588,  0.5588,\n",
      "        -2.0821,  1.0068,  0.9124, -0.6202, -0.6202, -1.0682,  0.4644, -1.7756,\n",
      "         0.8181,  0.2758, -1.1153, -0.2665,  0.6531,  0.4409,  0.3465,  0.4880,\n",
      "         0.8889, -0.4080,  0.8417,  0.8417,  0.5588,  0.9596, -2.4122,  0.7474,\n",
      "        -2.5537, -1.1389,  0.2287, -1.0918,  0.3465,  0.4880, -0.6202,  0.5352,\n",
      "         0.4880,  0.7474,  0.3937,  0.0164,  0.5116,  1.0539, -1.0682,  0.5823,\n",
      "        -1.5162, -1.7284,  0.3701,  0.5352,  0.7002,  0.9124,  0.3230, -0.1250,\n",
      "         0.8653,  0.5588, -1.6341, -1.4926,  0.5823, -2.3179,  0.3701,  0.3937,\n",
      "         0.6531,  0.4880,  0.8889,  0.5352,  0.5823, -0.1015,  0.8653,  0.7945,\n",
      "         1.0539,  0.4644,  0.3230,  0.8889, -1.2097, -2.1528,  0.9596, -1.3511,\n",
      "        -0.2193, -1.5633,  0.7002, -0.2429,  0.9360,  0.1815,  0.8889,  0.4880,\n",
      "        -1.9170,  0.8417,  0.6531,  0.6059, -2.2235,  0.4644,  0.3230,  0.7238,\n",
      "         0.3701, -1.5633,  0.2994, -0.8324,  0.4173, -1.3040,  0.3937,  0.9360,\n",
      "        -0.7852,  0.7710,  0.6059,  0.4409,  0.2758,  0.8889,  0.3701, -1.0918,\n",
      "        -1.7520, -2.2000,  0.6059,  0.6767,  0.7710,  0.8653,  0.0636, -0.2193,\n",
      "         0.6059, -1.0446,  0.8889, -1.3747,  1.0539, -0.3608,  0.7474,  0.6295,\n",
      "        -1.4926,  0.6767,  0.3701,  0.9596,  0.7238, -0.7381,  0.7710,  0.8889,\n",
      "        -0.6202,  0.5823,  1.0068,  0.7002,  0.9596, -0.7617,  0.4173,  0.5116,\n",
      "         0.8417,  0.6295, -0.7381,  0.9596, -0.5966,  0.7002, -0.6202,  0.4409,\n",
      "         0.4173,  0.9124, -1.0918,  0.2994,  0.7945,  0.6059,  0.4644,  0.6767,\n",
      "         0.6295, -0.4787, -1.1625, -1.7284, -0.0779,  0.2758,  0.5352,  0.6059,\n",
      "         0.3701, -0.3137,  0.4880,  0.5823,  0.3465,  0.4173, -0.8560,  0.7945,\n",
      "         0.7238, -1.5633, -0.9974,  0.7710, -0.3844,  0.4173, -0.9503,  0.8889,\n",
      "        -0.7852, -0.5259, -1.7520,  0.4173,  0.8653,  0.6059,  0.8889,  0.6767,\n",
      "         0.8653,  0.5588,  0.9832, -0.1722,  0.2994, -0.1958,  0.8889,  0.7710,\n",
      "         1.0539,  0.3937,  0.5823,  0.3465,  0.3937,  0.4644,  0.4409, -0.7145,\n",
      "         0.7002,  0.8653, -0.1486, -1.0918,  0.0164,  0.7002,  0.0636, -2.2235,\n",
      "        -1.3983,  0.8889,  0.7002, -0.0779,  1.0539,  0.6059, -1.8699,  0.4644,\n",
      "         0.8889, -1.0210, -1.5869,  0.7002,  0.2994,  1.0303,  0.9124,  0.5588,\n",
      "        -0.3844, -2.5537,  0.8417,  0.5116,  0.6059,  0.4409, -1.6577,  0.7238,\n",
      "        -0.0543,  0.9360,  0.5352,  0.4173,  0.8653, -0.1722, -0.2665,  0.1343,\n",
      "         0.7474, -1.5869, -1.7284,  0.8181, -0.3137,  0.3701, -0.7852,  1.0068,\n",
      "        -1.2804,  0.4644, -0.0779, -0.7381, -2.4593,  0.6059,  0.4880,  0.7238,\n",
      "        -2.0585,  1.0303,  0.7945, -1.7520,  0.9832, -2.5065, -1.2332,  0.6295,\n",
      "         0.3937, -0.5730,  0.5352,  0.4409, -2.4593,  0.3465,  0.9832, -1.8699,\n",
      "         0.7710,  0.7945,  0.9124,  1.0068,  1.0303,  0.5116, -0.2193, -2.0349,\n",
      "        -1.5162,  1.0303,  0.5588, -1.4454,  0.0636,  0.5823,  0.4644,  0.7002,\n",
      "         0.3701,  0.8653,  0.7238,  0.7238,  0.7474,  0.3701,  0.5588,  0.6531,\n",
      "        -0.1015,  0.9360,  0.8653, -2.4829,  0.7002,  0.9124,  0.6295,  0.9596,\n",
      "        -2.1057,  0.8417, -1.8934,  0.7710,  0.5352, -2.0585,  0.7474,  0.5116,\n",
      "         0.8889, -1.5869,  0.8417, -1.3747,  0.7002,  0.8653, -1.7520,  0.3937,\n",
      "         0.7945, -2.2707,  0.3465,  0.8653,  0.5823, -1.5162,  0.7002,  0.4880,\n",
      "        -0.5966, -0.4080, -0.5259, -0.2901,  0.8181, -0.0543,  0.2994,  0.8889,\n",
      "        -1.7284,  0.6767,  1.0539,  0.6059, -0.0779,  0.3230, -0.5966,  0.2522,\n",
      "         0.9124,  0.9360,  0.4409,  0.3701,  0.5116,  0.6531,  0.6531,  0.4644,\n",
      "         0.9832, -2.3414, -0.5023, -0.3137,  0.6295,  0.7002, -0.3372, -2.0349,\n",
      "         0.3465, -1.1153,  0.3701,  0.4644, -1.4454,  0.8889,  0.9596,  0.4880,\n",
      "        -0.0543,  0.3937,  0.7002, -0.3608, -1.4926,  0.9124, -0.7852,  0.4880,\n",
      "         0.2287,  0.8889,  0.9360,  0.9596,  0.8653, -2.3414,  0.7474,  0.3937,\n",
      "         0.9832, -0.5966,  0.3465, -1.3511,  0.5823,  0.4173,  0.1579,  0.7474,\n",
      "         0.6531, -1.6105,  0.4880,  0.8181,  0.3230,  0.9596,  0.4644, -0.6673,\n",
      "        -0.1015, -1.4926,  1.0068,  0.7474,  0.6295,  0.4173, -2.4358,  0.3230,\n",
      "         0.6295,  0.5588, -2.3886,  0.8889,  0.5823,  0.5352, -0.0307,  0.3230,\n",
      "         0.9124, -0.4316, -1.3747,  0.1579, -1.7048, -1.5633,  0.5823,  0.9832,\n",
      "         0.1108,  1.0303, -0.0307,  0.8181, -0.8796, -0.8324,  1.0068,  0.6531,\n",
      "        -2.5301,  0.5588,  1.0303, -0.6202, -0.0543,  0.6295, -0.5966,  0.5116,\n",
      "         0.2994,  0.4644,  0.2522,  0.7238,  0.0164,  0.7238,  0.3465,  0.7710,\n",
      "         0.4409,  0.9360,  1.0539,  0.7474,  0.7710, -1.7991,  0.8181, -0.1958,\n",
      "         0.7002,  0.3230,  0.2994, -1.6341,  0.4409,  0.5823,  0.7710, -0.1958,\n",
      "         0.7474,  0.6531,  0.7238,  0.5823,  0.5352,  0.5588, -0.9739,  0.8181,\n",
      "         0.7710,  0.4644, -0.7381,  0.7238, -2.0821,  0.1343,  0.4409,  0.0636])\u001b[0m\n",
      "\u001b[34m14:50:49 [TRAIN] \u001b[37m(train-bert)\u001b[0m: Epoch 0 starts!\u001b[0m\n",
      "\u001b[34m14:51:05 [TRAIN] \u001b[37m(train-bert)\u001b[0m: Training Loss: 8.362\u001b[0m\n",
      "\u001b[34m14:51:05 [TRAIN] \u001b[37m(train-bert)\u001b[0m: Validation Loss: 2.035\u001b[0m\n",
      "\u001b[34m14:51:05 [TRAIN] \u001b[37m(train-bert)\u001b[0m: Validation r2: 0.8649309873580933\u001b[0m\n",
      "\u001b[32m14:51:05 [INFO] \u001b[37m(train-bert)\u001b[0m: Best validation loss so far\u001b[0m\n",
      "\u001b[34m14:51:06 [TRAIN] \u001b[37m(train-bert)\u001b[0m: Epoch 1 starts!\u001b[0m\n",
      "\u001b[34m14:51:21 [TRAIN] \u001b[37m(train-bert)\u001b[0m: Training Loss: 1.630\u001b[0m\n",
      "\u001b[34m14:51:21 [TRAIN] \u001b[37m(train-bert)\u001b[0m: Validation Loss: 1.428\u001b[0m\n",
      "\u001b[34m14:51:21 [TRAIN] \u001b[37m(train-bert)\u001b[0m: Validation r2: 0.9041872024536133\u001b[0m\n",
      "\u001b[32m14:51:21 [INFO] \u001b[37m(train-bert)\u001b[0m: Best validation loss so far\u001b[0m\n",
      "\u001b[34m14:51:22 [TRAIN] \u001b[37m(train-bert)\u001b[0m: Epoch 2 starts!\u001b[0m\n",
      "\u001b[34m14:51:37 [TRAIN] \u001b[37m(train-bert)\u001b[0m: Training Loss: 0.891\u001b[0m\n",
      "\u001b[34m14:51:37 [TRAIN] \u001b[37m(train-bert)\u001b[0m: Validation Loss: 1.284\u001b[0m\n",
      "\u001b[34m14:51:37 [TRAIN] \u001b[37m(train-bert)\u001b[0m: Validation r2: 0.9157894849777222\u001b[0m\n",
      "\u001b[32m14:51:37 [INFO] \u001b[37m(train-bert)\u001b[0m: Best validation loss so far\u001b[0m\n",
      "\u001b[34m14:51:39 [TRAIN] \u001b[37m(train-bert)\u001b[0m: Epoch 3 starts!\u001b[0m\n",
      "\u001b[34m14:51:54 [TRAIN] \u001b[37m(train-bert)\u001b[0m: Training Loss: 0.663\u001b[0m\n",
      "\u001b[34m14:51:54 [TRAIN] \u001b[37m(train-bert)\u001b[0m: Validation Loss: 1.152\u001b[0m\n",
      "\u001b[34m14:51:54 [TRAIN] \u001b[37m(train-bert)\u001b[0m: Validation r2: 0.9210456609725952\u001b[0m\n",
      "\u001b[32m14:51:54 [INFO] \u001b[37m(train-bert)\u001b[0m: Best validation loss so far\u001b[0m\n",
      "\u001b[34m14:51:55 [TRAIN] \u001b[37m(train-bert)\u001b[0m: Epoch 4 starts!\u001b[0m\n",
      "\u001b[34m14:52:10 [TRAIN] \u001b[37m(train-bert)\u001b[0m: Training Loss: 0.540\u001b[0m\n",
      "\u001b[34m14:52:10 [TRAIN] \u001b[37m(train-bert)\u001b[0m: Validation Loss: 1.166\u001b[0m\n",
      "\u001b[34m14:52:10 [TRAIN] \u001b[37m(train-bert)\u001b[0m: Validation r2: 0.9185675382614136\u001b[0m\n",
      "\u001b[32m14:52:10 [INFO] \u001b[37m(train-bert)\u001b[0m: Not the best validation loss so far\u001b[0m\n",
      "\u001b[34m14:52:10 [TRAIN] \u001b[37m(train-bert)\u001b[0m: Epoch 5 starts!\u001b[0m\n",
      "\u001b[34m14:52:25 [TRAIN] \u001b[37m(train-bert)\u001b[0m: Training Loss: 0.471\u001b[0m\n",
      "\u001b[34m14:52:25 [TRAIN] \u001b[37m(train-bert)\u001b[0m: Validation Loss: 1.028\u001b[0m\n",
      "\u001b[34m14:52:25 [TRAIN] \u001b[37m(train-bert)\u001b[0m: Validation r2: 0.9291154146194458\u001b[0m\n",
      "\u001b[32m14:52:25 [INFO] \u001b[37m(train-bert)\u001b[0m: Best validation loss so far\u001b[0m\n",
      "\u001b[34m14:52:26 [TRAIN] \u001b[37m(train-bert)\u001b[0m: Epoch 6 starts!\u001b[0m\n",
      "\u001b[34m14:52:41 [TRAIN] \u001b[37m(train-bert)\u001b[0m: Training Loss: 0.408\u001b[0m\n",
      "\u001b[34m14:52:41 [TRAIN] \u001b[37m(train-bert)\u001b[0m: Validation Loss: 1.129\u001b[0m\n",
      "\u001b[34m14:52:41 [TRAIN] \u001b[37m(train-bert)\u001b[0m: Validation r2: 0.9223154783248901\u001b[0m\n",
      "\u001b[32m14:52:41 [INFO] \u001b[37m(train-bert)\u001b[0m: Not the best validation loss so far\u001b[0m\n",
      "\u001b[34m14:52:41 [TRAIN] \u001b[37m(train-bert)\u001b[0m: Epoch 7 starts!\u001b[0m\n",
      "\u001b[34m14:52:56 [TRAIN] \u001b[37m(train-bert)\u001b[0m: Training Loss: 0.354\u001b[0m\n",
      "\u001b[34m14:52:56 [TRAIN] \u001b[37m(train-bert)\u001b[0m: Validation Loss: 1.009\u001b[0m\n",
      "\u001b[34m14:52:56 [TRAIN] \u001b[37m(train-bert)\u001b[0m: Validation r2: 0.930173397064209\u001b[0m\n",
      "\u001b[32m14:52:56 [INFO] \u001b[37m(train-bert)\u001b[0m: Best validation loss so far\u001b[0m\n",
      "\u001b[34m14:52:58 [TRAIN] \u001b[37m(train-bert)\u001b[0m: Epoch 8 starts!\u001b[0m\n",
      "\u001b[34m14:53:13 [TRAIN] \u001b[37m(train-bert)\u001b[0m: Training Loss: 0.340\u001b[0m\n",
      "\u001b[34m14:53:13 [TRAIN] \u001b[37m(train-bert)\u001b[0m: Validation Loss: 1.070\u001b[0m\n",
      "\u001b[34m14:53:13 [TRAIN] \u001b[37m(train-bert)\u001b[0m: Validation r2: 0.9254475831985474\u001b[0m\n",
      "\u001b[32m14:53:13 [INFO] \u001b[37m(train-bert)\u001b[0m: Not the best validation loss so far\u001b[0m\n",
      "\u001b[34m14:53:13 [TRAIN] \u001b[37m(train-bert)\u001b[0m: Epoch 9 starts!\u001b[0m\n",
      "\u001b[34m14:53:28 [TRAIN] \u001b[37m(train-bert)\u001b[0m: Training Loss: 0.347\u001b[0m\n",
      "\u001b[34m14:53:28 [TRAIN] \u001b[37m(train-bert)\u001b[0m: Validation Loss: 1.076\u001b[0m\n",
      "\u001b[34m14:53:28 [TRAIN] \u001b[37m(train-bert)\u001b[0m: Validation r2: 0.925439715385437\u001b[0m\n",
      "\u001b[32m14:53:28 [INFO] \u001b[37m(train-bert)\u001b[0m: Not the best validation loss so far\u001b[0m\n",
      "\n",
      "stderr: Some weights of BertForSequenceClassification were not initialized from the model checkpoint at KBLab/bert-base-swedish-cased and are newly initialized: ['classifier.bias', 'classifier.weight']\n",
      "You should probably TRAIN this model on a down-stream task to be able to use it for predictions and inference.\n",
      "100%|██████████| 44/44 [00:14<00:00,  3.07it/s]\n",
      "100%|██████████| 10/10 [00:01<00:00,  8.47it/s]\n",
      "100%|██████████| 44/44 [00:13<00:00,  3.14it/s]\n",
      "100%|██████████| 10/10 [00:01<00:00,  8.53it/s]\n",
      "100%|██████████| 44/44 [00:13<00:00,  3.17it/s]\n",
      "100%|██████████| 10/10 [00:01<00:00,  8.36it/s]\n",
      "100%|██████████| 44/44 [00:14<00:00,  3.13it/s]\n",
      "100%|██████████| 10/10 [00:01<00:00,  8.32it/s]\n",
      "100%|██████████| 44/44 [00:13<00:00,  3.18it/s]\n",
      "100%|██████████| 10/10 [00:01<00:00,  8.58it/s]\n",
      "100%|██████████| 44/44 [00:13<00:00,  3.19it/s]\n",
      "100%|██████████| 10/10 [00:01<00:00,  8.75it/s]\n",
      "100%|██████████| 44/44 [00:13<00:00,  3.16it/s]\n",
      "100%|██████████| 10/10 [00:01<00:00,  8.25it/s]\n",
      "100%|██████████| 44/44 [00:13<00:00,  3.17it/s]\n",
      "100%|██████████| 10/10 [00:01<00:00,  8.63it/s]\n",
      "100%|██████████| 44/44 [00:13<00:00,  3.15it/s]\n",
      "100%|██████████| 10/10 [00:01<00:00,  8.67it/s]\n",
      "100%|██████████| 44/44 [00:13<00:00,  3.18it/s]\n",
      "100%|██████████| 10/10 [00:01<00:00,  8.55it/s]\n",
      "\n",
      "comparing\n",
      "stdout: \n",
      "stderr: Traceback (most recent call last):\n",
      "  File \"/home/laurinemeier/swerick/compare_models_regression.py\", line 130, in <module>\n",
      "    main(args)\n",
      "  File \"/home/laurinemeier/swerick/compare_models_regression.py\", line 94, in main\n",
      "    input_ids, attention_masks, labels = encode(df, tokenizer)\n",
      "                                         ^^^^^^^^^^^^^^^^^^^^^\n",
      "  File \"/home/laurinemeier/swerick/compare_models_regression.py\", line 41, in encode\n",
      "    labels = torch.tensor(df['tag'].tolist())\n",
      "             ^^^^^^^^^^^^^^^^^^^^^^^^^^^^^^^^\n",
      "ValueError: too many dimensions 'str'\n",
      "\n"
     ]
    }
   ],
   "source": [
    "regression_year(\"finetuning_hugging_whitespace-finetuned-imdb/checkpoint-801500\")"
   ]
  },
  {
   "cell_type": "code",
   "execution_count": 5,
   "metadata": {},
   "outputs": [],
   "source": [
    "def encode(df, tokenizer):\n",
    "    # Tokenize all of the sentences and map the tokens to their word IDs.\n",
    "    input_ids = []\n",
    "    attention_masks = []\n",
    "\n",
    "    # For every sentence...\n",
    "    for ix, row in df.iterrows():\n",
    "        encoded_dict = tokenizer.encode_plus(\n",
    "            row['content'],\n",
    "            add_special_tokens=True,\n",
    "            max_length=512,\n",
    "            truncation=True,\n",
    "            padding='max_length',\n",
    "            return_attention_mask=True,\n",
    "            return_tensors='pt',\n",
    "        )\n",
    "        \n",
    "        # Add the encoded sentence to the list.    \n",
    "        input_ids.append(encoded_dict['input_ids'])\n",
    "        \n",
    "        # And its attention mask (simply differentiates padding from non-padding).\n",
    "        attention_masks.append(encoded_dict['attention_mask'])\n",
    "\n",
    "    # Convert the lists into tensors.\n",
    "    input_ids = torch.cat(input_ids, dim=0)\n",
    "    attention_masks = torch.cat(attention_masks, dim=0)\n",
    "    print(df[\"tag\"])\n",
    "    labels = torch.tensor(df['tag'].tolist())\n",
    "\n",
    "    return input_ids, attention_masks, labels"
   ]
  },
  {
   "cell_type": "code",
   "execution_count": 9,
   "metadata": {},
   "outputs": [
    {
     "name": "stdout",
     "output_type": "stream",
     "text": [
      "0       0.346546\n",
      "1       0.676650\n",
      "2       0.770966\n",
      "3      -2.270707\n",
      "4      -0.596608\n",
      "          ...   \n",
      "4995    0.205073\n",
      "4996   -2.341444\n",
      "4997    0.228652\n",
      "4998    0.228652\n",
      "4999   -0.313662\n",
      "Name: tag, Length: 5000, dtype: float64\n"
     ]
    }
   ],
   "source": [
    "import pandas as pd\n",
    "df = pd.read_csv(\"swerick_subsetdata_date_test.csv\")\n",
    "df = df.sample(frac=1, random_state=123).reset_index(drop=True)\n",
    "\n",
    "# Create binary label where seg = 1\n",
    "df = df[df[\"content\"].notnull()]\n",
    "tokenizer = AutoTokenizer.from_pretrained(model_checkpoint)\n",
    "\n",
    "input_ids, attention_masks, labels = encode(df, tokenizer)"
   ]
  },
  {
   "cell_type": "code",
   "execution_count": 10,
   "metadata": {},
   "outputs": [
    {
     "data": {
      "text/plain": [
       "tensor([ 0.3465,  0.6767,  0.7710,  ...,  0.2287,  0.2287, -0.3137])"
      ]
     },
     "execution_count": 10,
     "metadata": {},
     "output_type": "execute_result"
    }
   ],
   "source": [
    "labels"
   ]
  },
  {
   "cell_type": "code",
   "execution_count": 29,
   "metadata": {},
   "outputs": [
    {
     "name": "stderr",
     "output_type": "stream",
     "text": [
      "/home/laurinemeier/anaconda3/lib/python3.11/site-packages/transformers/training_args.py:1399: FutureWarning: using `no_cuda` is deprecated and will be removed in version 5.0 of 🤗 Transformers. Use `use_cpu` instead\n",
      "  warnings.warn(\n",
      "/home/laurinemeier/anaconda3/lib/python3.11/site-packages/accelerate/accelerator.py:432: FutureWarning: Passing the following arguments to `Accelerator` is deprecated and will be removed in version 1.0 of Accelerate: dict_keys(['dispatch_batches', 'split_batches', 'even_batches', 'use_seedable_sampler']). Please pass an `accelerate.DataLoaderConfiguration` instead: \n",
      "dataloader_config = DataLoaderConfiguration(dispatch_batches=None, split_batches=False, even_batches=True, use_seedable_sampler=True)\n",
      "  warnings.warn(\n"
     ]
    },
    {
     "name": "stdout",
     "output_type": "stream",
     "text": [
      "cpu\n"
     ]
    },
    {
     "data": {
      "application/vnd.jupyter.widget-view+json": {
       "model_id": "86f9eda7965b4212b1be4ee6874b1e91",
       "version_major": 2,
       "version_minor": 0
      },
      "text/plain": [
       "  0%|          | 0/195 [00:00<?, ?it/s]"
      ]
     },
     "metadata": {},
     "output_type": "display_data"
    }
   ],
   "source": [
    "\n",
    "\n",
    "# Define your training arguments\n",
    "training_args = TrainingArguments(\n",
    "    output_dir=f\"{model_long.config.name_or_path}-imdb\",\n",
    "    per_device_eval_batch_size=64,\n",
    "    # Add other training arguments as needed\n",
    "    logging_steps=892,\n",
    "    evaluation_strategy=\"epoch\",\n",
    "    learning_rate=2e-5,\n",
    "    weight_decay=0.01,\n",
    "    no_cuda=True\n",
    ")\n",
    "print(training_args.device)\n",
    "# Create the Trainer object\n",
    "trainer = Trainer(\n",
    "    model=model_long,\n",
    "    args=training_args,\n",
    "    eval_dataset=eval_dataset\n",
    ")\n",
    "\n",
    "result = trainer.evaluate()"
   ]
  },
  {
   "cell_type": "code",
   "execution_count": 30,
   "metadata": {},
   "outputs": [
    {
     "data": {
      "text/plain": [
       "{'eval_loss': 0.8190011382102966,\n",
       " 'eval_runtime': 1639.8287,\n",
       " 'eval_samples_per_second': 7.575,\n",
       " 'eval_steps_per_second': 0.119}"
      ]
     },
     "execution_count": 30,
     "metadata": {},
     "output_type": "execute_result"
    }
   ],
   "source": [
    "result\n"
   ]
  },
  {
   "cell_type": "code",
   "execution_count": 33,
   "metadata": {},
   "outputs": [
    {
     "data": {
      "text/plain": [
       "2.2682330542912186"
      ]
     },
     "execution_count": 33,
     "metadata": {},
     "output_type": "execute_result"
    }
   ],
   "source": [
    "math.exp(result['eval_loss'])"
   ]
  }
 ],
 "metadata": {
  "kernelspec": {
   "display_name": "base",
   "language": "python",
   "name": "python3"
  },
  "language_info": {
   "codemirror_mode": {
    "name": "ipython",
    "version": 3
   },
   "file_extension": ".py",
   "mimetype": "text/x-python",
   "name": "python",
   "nbconvert_exporter": "python",
   "pygments_lexer": "ipython3",
   "version": "3.11.7"
  }
 },
 "nbformat": 4,
 "nbformat_minor": 2
}
