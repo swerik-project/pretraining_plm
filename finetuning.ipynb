{
 "cells": [
  {
   "cell_type": "code",
   "execution_count": 1,
   "metadata": {},
   "outputs": [
    {
     "name": "stderr",
     "output_type": "stream",
     "text": [
      "/home/laurinemeier/anaconda3/envs/swerick/lib/python3.12/site-packages/tqdm/auto.py:21: TqdmWarning: IProgress not found. Please update jupyter and ipywidgets. See https://ipywidgets.readthedocs.io/en/stable/user_install.html\n",
      "  from .autonotebook import tqdm as notebook_tqdm\n"
     ]
    }
   ],
   "source": [
    "from transformers import AutoModelForMaskedLM\n",
    "from transformers import AutoTokenizer\n",
    "import torch\n",
    "from datasets import load_dataset\n",
    "from transformers import DataCollatorForLanguageModeling\n",
    "from transformers import TrainingArguments\n",
    "from transformers import Trainer\n",
    "import math\n",
    "from torch.utils.data import DataLoader\n",
    "from transformers import default_data_collator\n",
    "from torch.optim import AdamW\n",
    "from accelerate import Accelerator\n",
    "from transformers import get_scheduler\n",
    "from tqdm.auto import tqdm\n",
    "import matplotlib.pyplot as plt\n",
    "import preprocessing\n",
    "import pickle\n",
    "import pandas as pd"
   ]
  },
  {
   "cell_type": "code",
   "execution_count": 2,
   "metadata": {},
   "outputs": [
    {
     "name": "stdout",
     "output_type": "stream",
     "text": [
      "cuda\n"
     ]
    }
   ],
   "source": [
    "device = torch.device(\"cuda\" if torch.cuda.is_available() else \"cpu\")\n",
    "print(device)"
   ]
  },
  {
   "cell_type": "code",
   "execution_count": 3,
   "metadata": {},
   "outputs": [],
   "source": [
    "def insert_random_mask(batch,data_collator):\n",
    "    features = [dict(zip(batch, t)) for t in zip(*batch.values())]\n",
    "    masked_inputs = data_collator(features)\n",
    "    # Create a new \"masked\" column for each column in the dataset\n",
    "    return {\"masked_\" + k: v.numpy() for k, v in masked_inputs.items()}"
   ]
  },
  {
   "cell_type": "code",
   "execution_count": 4,
   "metadata": {},
   "outputs": [
    {
     "name": "stderr",
     "output_type": "stream",
     "text": [
      "Some weights of the model checkpoint at KBLab/bert-base-swedish-cased were not used when initializing BertForMaskedLM: ['bert.pooler.dense.bias', 'bert.pooler.dense.weight']\n",
      "- This IS expected if you are initializing BertForMaskedLM from the checkpoint of a model trained on another task or with another architecture (e.g. initializing a BertForSequenceClassification model from a BertForPreTraining model).\n",
      "- This IS NOT expected if you are initializing BertForMaskedLM from the checkpoint of a model that you expect to be exactly identical (initializing a BertForSequenceClassification model from a BertForSequenceClassification model).\n"
     ]
    }
   ],
   "source": [
    "model_checkpoint = \"KBLab/bert-base-swedish-cased\"\n",
    "model = preprocessing.create_model_MLM(model_checkpoint)"
   ]
  },
  {
   "cell_type": "code",
   "execution_count": 5,
   "metadata": {},
   "outputs": [],
   "source": [
    "tokenizer =preprocessing.create_tokenizer(model_checkpoint)"
   ]
  },
  {
   "cell_type": "code",
   "execution_count": 11,
   "metadata": {},
   "outputs": [
    {
     "name": "stdout",
     "output_type": "stream",
     "text": [
      "DatasetDict({\n",
      "    train: Dataset({\n",
      "        features: ['protocole', 'texte'],\n",
      "        num_rows: 12399\n",
      "    })\n",
      "    test: Dataset({\n",
      "        features: ['protocole', 'texte'],\n",
      "        num_rows: 2673\n",
      "    })\n",
      "})\n"
     ]
    }
   ],
   "source": [
    "#datasest\n",
    "data_files = {\"train\": \"swerick_data_random_train.pkl\", \"test\": \"swerick_data_random_test.pkl\"}\n",
    "swerick_dataset = load_dataset(\"pandas\",data_files=data_files)\n",
    "print(swerick_dataset)\n"
   ]
  },
  {
   "cell_type": "code",
   "execution_count": 7,
   "metadata": {},
   "outputs": [
    {
     "data": {
      "application/vnd.jupyter.widget-view+json": {
       "model_id": "372ae99b6e784bb09beddbfcf54903c0",
       "version_major": 2,
       "version_minor": 0
      },
      "text/plain": [
       "Map:   0%|          | 0/12399 [00:00<?, ? examples/s]"
      ]
     },
     "metadata": {},
     "output_type": "display_data"
    },
    {
     "ename": "KeyboardInterrupt",
     "evalue": "",
     "output_type": "error",
     "traceback": [
      "\u001b[0;31m---------------------------------------------------------------------------\u001b[0m",
      "\u001b[0;31mKeyboardInterrupt\u001b[0m                         Traceback (most recent call last)",
      "Cell \u001b[0;32mIn[7], line 1\u001b[0m\n\u001b[0;32m----> 1\u001b[0m tokenized_datasets \u001b[38;5;241m=\u001b[39mpreprocessing\u001b[38;5;241m.\u001b[39mtokenize_dataset(swerick_dataset,tokenizer)\n\u001b[1;32m      3\u001b[0m tokenized_datasets\n",
      "File \u001b[0;32m~/swerick/preprocessing.py:49\u001b[0m, in \u001b[0;36mtokenize_dataset\u001b[0;34m(dataset, tokenizer)\u001b[0m\n\u001b[1;32m     47\u001b[0m \u001b[38;5;28;01mdef\u001b[39;00m \u001b[38;5;21mtokenize_dataset\u001b[39m(dataset,tokenizer):\n\u001b[0;32m---> 49\u001b[0m     \u001b[38;5;28;01mreturn\u001b[39;00m dataset\u001b[38;5;241m.\u001b[39mmap(\n\u001b[1;32m     50\u001b[0m       \u001b[38;5;28;01mlambda\u001b[39;00m examples: tokenize_function(examples, tokenizer), batched\u001b[38;5;241m=\u001b[39m\u001b[38;5;28;01mTrue\u001b[39;00m, remove_columns\u001b[38;5;241m=\u001b[39m[\u001b[38;5;124m\"\u001b[39m\u001b[38;5;124mtexte\u001b[39m\u001b[38;5;124m\"\u001b[39m,\u001b[38;5;124m\"\u001b[39m\u001b[38;5;124mprotocole\u001b[39m\u001b[38;5;124m\"\u001b[39m]\n\u001b[1;32m     51\u001b[0m )\n",
      "File \u001b[0;32m~/anaconda3/lib/python3.11/site-packages/datasets/dataset_dict.py:868\u001b[0m, in \u001b[0;36mDatasetDict.map\u001b[0;34m(self, function, with_indices, with_rank, input_columns, batched, batch_size, drop_last_batch, remove_columns, keep_in_memory, load_from_cache_file, cache_file_names, writer_batch_size, features, disable_nullable, fn_kwargs, num_proc, desc)\u001b[0m\n\u001b[1;32m    865\u001b[0m \u001b[38;5;28;01mif\u001b[39;00m cache_file_names \u001b[38;5;129;01mis\u001b[39;00m \u001b[38;5;28;01mNone\u001b[39;00m:\n\u001b[1;32m    866\u001b[0m     cache_file_names \u001b[38;5;241m=\u001b[39m {k: \u001b[38;5;28;01mNone\u001b[39;00m \u001b[38;5;28;01mfor\u001b[39;00m k \u001b[38;5;129;01min\u001b[39;00m \u001b[38;5;28mself\u001b[39m}\n\u001b[1;32m    867\u001b[0m \u001b[38;5;28;01mreturn\u001b[39;00m DatasetDict(\n\u001b[0;32m--> 868\u001b[0m     {\n\u001b[1;32m    869\u001b[0m         k: dataset\u001b[38;5;241m.\u001b[39mmap(\n\u001b[1;32m    870\u001b[0m             function\u001b[38;5;241m=\u001b[39mfunction,\n\u001b[1;32m    871\u001b[0m             with_indices\u001b[38;5;241m=\u001b[39mwith_indices,\n\u001b[1;32m    872\u001b[0m             with_rank\u001b[38;5;241m=\u001b[39mwith_rank,\n\u001b[1;32m    873\u001b[0m             input_columns\u001b[38;5;241m=\u001b[39minput_columns,\n\u001b[1;32m    874\u001b[0m             batched\u001b[38;5;241m=\u001b[39mbatched,\n\u001b[1;32m    875\u001b[0m             batch_size\u001b[38;5;241m=\u001b[39mbatch_size,\n\u001b[1;32m    876\u001b[0m             drop_last_batch\u001b[38;5;241m=\u001b[39mdrop_last_batch,\n\u001b[1;32m    877\u001b[0m             remove_columns\u001b[38;5;241m=\u001b[39mremove_columns,\n\u001b[1;32m    878\u001b[0m             keep_in_memory\u001b[38;5;241m=\u001b[39mkeep_in_memory,\n\u001b[1;32m    879\u001b[0m             load_from_cache_file\u001b[38;5;241m=\u001b[39mload_from_cache_file,\n\u001b[1;32m    880\u001b[0m             cache_file_name\u001b[38;5;241m=\u001b[39mcache_file_names[k],\n\u001b[1;32m    881\u001b[0m             writer_batch_size\u001b[38;5;241m=\u001b[39mwriter_batch_size,\n\u001b[1;32m    882\u001b[0m             features\u001b[38;5;241m=\u001b[39mfeatures,\n\u001b[1;32m    883\u001b[0m             disable_nullable\u001b[38;5;241m=\u001b[39mdisable_nullable,\n\u001b[1;32m    884\u001b[0m             fn_kwargs\u001b[38;5;241m=\u001b[39mfn_kwargs,\n\u001b[1;32m    885\u001b[0m             num_proc\u001b[38;5;241m=\u001b[39mnum_proc,\n\u001b[1;32m    886\u001b[0m             desc\u001b[38;5;241m=\u001b[39mdesc,\n\u001b[1;32m    887\u001b[0m         )\n\u001b[1;32m    888\u001b[0m         \u001b[38;5;28;01mfor\u001b[39;00m k, dataset \u001b[38;5;129;01min\u001b[39;00m \u001b[38;5;28mself\u001b[39m\u001b[38;5;241m.\u001b[39mitems()\n\u001b[1;32m    889\u001b[0m     }\n\u001b[1;32m    890\u001b[0m )\n",
      "File \u001b[0;32m~/anaconda3/lib/python3.11/site-packages/datasets/dataset_dict.py:869\u001b[0m, in \u001b[0;36m<dictcomp>\u001b[0;34m(.0)\u001b[0m\n\u001b[1;32m    865\u001b[0m \u001b[38;5;28;01mif\u001b[39;00m cache_file_names \u001b[38;5;129;01mis\u001b[39;00m \u001b[38;5;28;01mNone\u001b[39;00m:\n\u001b[1;32m    866\u001b[0m     cache_file_names \u001b[38;5;241m=\u001b[39m {k: \u001b[38;5;28;01mNone\u001b[39;00m \u001b[38;5;28;01mfor\u001b[39;00m k \u001b[38;5;129;01min\u001b[39;00m \u001b[38;5;28mself\u001b[39m}\n\u001b[1;32m    867\u001b[0m \u001b[38;5;28;01mreturn\u001b[39;00m DatasetDict(\n\u001b[1;32m    868\u001b[0m     {\n\u001b[0;32m--> 869\u001b[0m         k: dataset\u001b[38;5;241m.\u001b[39mmap(\n\u001b[1;32m    870\u001b[0m             function\u001b[38;5;241m=\u001b[39mfunction,\n\u001b[1;32m    871\u001b[0m             with_indices\u001b[38;5;241m=\u001b[39mwith_indices,\n\u001b[1;32m    872\u001b[0m             with_rank\u001b[38;5;241m=\u001b[39mwith_rank,\n\u001b[1;32m    873\u001b[0m             input_columns\u001b[38;5;241m=\u001b[39minput_columns,\n\u001b[1;32m    874\u001b[0m             batched\u001b[38;5;241m=\u001b[39mbatched,\n\u001b[1;32m    875\u001b[0m             batch_size\u001b[38;5;241m=\u001b[39mbatch_size,\n\u001b[1;32m    876\u001b[0m             drop_last_batch\u001b[38;5;241m=\u001b[39mdrop_last_batch,\n\u001b[1;32m    877\u001b[0m             remove_columns\u001b[38;5;241m=\u001b[39mremove_columns,\n\u001b[1;32m    878\u001b[0m             keep_in_memory\u001b[38;5;241m=\u001b[39mkeep_in_memory,\n\u001b[1;32m    879\u001b[0m             load_from_cache_file\u001b[38;5;241m=\u001b[39mload_from_cache_file,\n\u001b[1;32m    880\u001b[0m             cache_file_name\u001b[38;5;241m=\u001b[39mcache_file_names[k],\n\u001b[1;32m    881\u001b[0m             writer_batch_size\u001b[38;5;241m=\u001b[39mwriter_batch_size,\n\u001b[1;32m    882\u001b[0m             features\u001b[38;5;241m=\u001b[39mfeatures,\n\u001b[1;32m    883\u001b[0m             disable_nullable\u001b[38;5;241m=\u001b[39mdisable_nullable,\n\u001b[1;32m    884\u001b[0m             fn_kwargs\u001b[38;5;241m=\u001b[39mfn_kwargs,\n\u001b[1;32m    885\u001b[0m             num_proc\u001b[38;5;241m=\u001b[39mnum_proc,\n\u001b[1;32m    886\u001b[0m             desc\u001b[38;5;241m=\u001b[39mdesc,\n\u001b[1;32m    887\u001b[0m         )\n\u001b[1;32m    888\u001b[0m         \u001b[38;5;28;01mfor\u001b[39;00m k, dataset \u001b[38;5;129;01min\u001b[39;00m \u001b[38;5;28mself\u001b[39m\u001b[38;5;241m.\u001b[39mitems()\n\u001b[1;32m    889\u001b[0m     }\n\u001b[1;32m    890\u001b[0m )\n",
      "File \u001b[0;32m~/anaconda3/lib/python3.11/site-packages/datasets/arrow_dataset.py:593\u001b[0m, in \u001b[0;36mtransmit_tasks.<locals>.wrapper\u001b[0;34m(*args, **kwargs)\u001b[0m\n\u001b[1;32m    591\u001b[0m     \u001b[38;5;28mself\u001b[39m: \u001b[38;5;124m\"\u001b[39m\u001b[38;5;124mDataset\u001b[39m\u001b[38;5;124m\"\u001b[39m \u001b[38;5;241m=\u001b[39m kwargs\u001b[38;5;241m.\u001b[39mpop(\u001b[38;5;124m\"\u001b[39m\u001b[38;5;124mself\u001b[39m\u001b[38;5;124m\"\u001b[39m)\n\u001b[1;32m    592\u001b[0m \u001b[38;5;66;03m# apply actual function\u001b[39;00m\n\u001b[0;32m--> 593\u001b[0m out: Union[\u001b[38;5;124m\"\u001b[39m\u001b[38;5;124mDataset\u001b[39m\u001b[38;5;124m\"\u001b[39m, \u001b[38;5;124m\"\u001b[39m\u001b[38;5;124mDatasetDict\u001b[39m\u001b[38;5;124m\"\u001b[39m] \u001b[38;5;241m=\u001b[39m func(\u001b[38;5;28mself\u001b[39m, \u001b[38;5;241m*\u001b[39margs, \u001b[38;5;241m*\u001b[39m\u001b[38;5;241m*\u001b[39mkwargs)\n\u001b[1;32m    594\u001b[0m datasets: List[\u001b[38;5;124m\"\u001b[39m\u001b[38;5;124mDataset\u001b[39m\u001b[38;5;124m\"\u001b[39m] \u001b[38;5;241m=\u001b[39m \u001b[38;5;28mlist\u001b[39m(out\u001b[38;5;241m.\u001b[39mvalues()) \u001b[38;5;28;01mif\u001b[39;00m \u001b[38;5;28misinstance\u001b[39m(out, \u001b[38;5;28mdict\u001b[39m) \u001b[38;5;28;01melse\u001b[39;00m [out]\n\u001b[1;32m    595\u001b[0m \u001b[38;5;28;01mfor\u001b[39;00m dataset \u001b[38;5;129;01min\u001b[39;00m datasets:\n\u001b[1;32m    596\u001b[0m     \u001b[38;5;66;03m# Remove task templates if a column mapping of the template is no longer valid\u001b[39;00m\n",
      "File \u001b[0;32m~/anaconda3/lib/python3.11/site-packages/datasets/arrow_dataset.py:558\u001b[0m, in \u001b[0;36mtransmit_format.<locals>.wrapper\u001b[0;34m(*args, **kwargs)\u001b[0m\n\u001b[1;32m    551\u001b[0m self_format \u001b[38;5;241m=\u001b[39m {\n\u001b[1;32m    552\u001b[0m     \u001b[38;5;124m\"\u001b[39m\u001b[38;5;124mtype\u001b[39m\u001b[38;5;124m\"\u001b[39m: \u001b[38;5;28mself\u001b[39m\u001b[38;5;241m.\u001b[39m_format_type,\n\u001b[1;32m    553\u001b[0m     \u001b[38;5;124m\"\u001b[39m\u001b[38;5;124mformat_kwargs\u001b[39m\u001b[38;5;124m\"\u001b[39m: \u001b[38;5;28mself\u001b[39m\u001b[38;5;241m.\u001b[39m_format_kwargs,\n\u001b[1;32m    554\u001b[0m     \u001b[38;5;124m\"\u001b[39m\u001b[38;5;124mcolumns\u001b[39m\u001b[38;5;124m\"\u001b[39m: \u001b[38;5;28mself\u001b[39m\u001b[38;5;241m.\u001b[39m_format_columns,\n\u001b[1;32m    555\u001b[0m     \u001b[38;5;124m\"\u001b[39m\u001b[38;5;124moutput_all_columns\u001b[39m\u001b[38;5;124m\"\u001b[39m: \u001b[38;5;28mself\u001b[39m\u001b[38;5;241m.\u001b[39m_output_all_columns,\n\u001b[1;32m    556\u001b[0m }\n\u001b[1;32m    557\u001b[0m \u001b[38;5;66;03m# apply actual function\u001b[39;00m\n\u001b[0;32m--> 558\u001b[0m out: Union[\u001b[38;5;124m\"\u001b[39m\u001b[38;5;124mDataset\u001b[39m\u001b[38;5;124m\"\u001b[39m, \u001b[38;5;124m\"\u001b[39m\u001b[38;5;124mDatasetDict\u001b[39m\u001b[38;5;124m\"\u001b[39m] \u001b[38;5;241m=\u001b[39m func(\u001b[38;5;28mself\u001b[39m, \u001b[38;5;241m*\u001b[39margs, \u001b[38;5;241m*\u001b[39m\u001b[38;5;241m*\u001b[39mkwargs)\n\u001b[1;32m    559\u001b[0m datasets: List[\u001b[38;5;124m\"\u001b[39m\u001b[38;5;124mDataset\u001b[39m\u001b[38;5;124m\"\u001b[39m] \u001b[38;5;241m=\u001b[39m \u001b[38;5;28mlist\u001b[39m(out\u001b[38;5;241m.\u001b[39mvalues()) \u001b[38;5;28;01mif\u001b[39;00m \u001b[38;5;28misinstance\u001b[39m(out, \u001b[38;5;28mdict\u001b[39m) \u001b[38;5;28;01melse\u001b[39;00m [out]\n\u001b[1;32m    560\u001b[0m \u001b[38;5;66;03m# re-apply format to the output\u001b[39;00m\n",
      "File \u001b[0;32m~/anaconda3/lib/python3.11/site-packages/datasets/arrow_dataset.py:3105\u001b[0m, in \u001b[0;36mDataset.map\u001b[0;34m(self, function, with_indices, with_rank, input_columns, batched, batch_size, drop_last_batch, remove_columns, keep_in_memory, load_from_cache_file, cache_file_name, writer_batch_size, features, disable_nullable, fn_kwargs, num_proc, suffix_template, new_fingerprint, desc)\u001b[0m\n\u001b[1;32m   3099\u001b[0m \u001b[38;5;28;01mif\u001b[39;00m transformed_dataset \u001b[38;5;129;01mis\u001b[39;00m \u001b[38;5;28;01mNone\u001b[39;00m:\n\u001b[1;32m   3100\u001b[0m     \u001b[38;5;28;01mwith\u001b[39;00m hf_tqdm(\n\u001b[1;32m   3101\u001b[0m         unit\u001b[38;5;241m=\u001b[39m\u001b[38;5;124m\"\u001b[39m\u001b[38;5;124m examples\u001b[39m\u001b[38;5;124m\"\u001b[39m,\n\u001b[1;32m   3102\u001b[0m         total\u001b[38;5;241m=\u001b[39mpbar_total,\n\u001b[1;32m   3103\u001b[0m         desc\u001b[38;5;241m=\u001b[39mdesc \u001b[38;5;129;01mor\u001b[39;00m \u001b[38;5;124m\"\u001b[39m\u001b[38;5;124mMap\u001b[39m\u001b[38;5;124m\"\u001b[39m,\n\u001b[1;32m   3104\u001b[0m     ) \u001b[38;5;28;01mas\u001b[39;00m pbar:\n\u001b[0;32m-> 3105\u001b[0m         \u001b[38;5;28;01mfor\u001b[39;00m rank, done, content \u001b[38;5;129;01min\u001b[39;00m Dataset\u001b[38;5;241m.\u001b[39m_map_single(\u001b[38;5;241m*\u001b[39m\u001b[38;5;241m*\u001b[39mdataset_kwargs):\n\u001b[1;32m   3106\u001b[0m             \u001b[38;5;28;01mif\u001b[39;00m done:\n\u001b[1;32m   3107\u001b[0m                 shards_done \u001b[38;5;241m+\u001b[39m\u001b[38;5;241m=\u001b[39m \u001b[38;5;241m1\u001b[39m\n",
      "File \u001b[0;32m~/anaconda3/lib/python3.11/site-packages/datasets/arrow_dataset.py:3482\u001b[0m, in \u001b[0;36mDataset._map_single\u001b[0;34m(shard, function, with_indices, with_rank, input_columns, batched, batch_size, drop_last_batch, remove_columns, keep_in_memory, cache_file_name, writer_batch_size, features, disable_nullable, fn_kwargs, new_fingerprint, rank, offset)\u001b[0m\n\u001b[1;32m   3478\u001b[0m indices \u001b[38;5;241m=\u001b[39m \u001b[38;5;28mlist\u001b[39m(\n\u001b[1;32m   3479\u001b[0m     \u001b[38;5;28mrange\u001b[39m(\u001b[38;5;241m*\u001b[39m(\u001b[38;5;28mslice\u001b[39m(i, i \u001b[38;5;241m+\u001b[39m batch_size)\u001b[38;5;241m.\u001b[39mindices(shard\u001b[38;5;241m.\u001b[39mnum_rows)))\n\u001b[1;32m   3480\u001b[0m )  \u001b[38;5;66;03m# Something simpler?\u001b[39;00m\n\u001b[1;32m   3481\u001b[0m \u001b[38;5;28;01mtry\u001b[39;00m:\n\u001b[0;32m-> 3482\u001b[0m     batch \u001b[38;5;241m=\u001b[39m apply_function_on_filtered_inputs(\n\u001b[1;32m   3483\u001b[0m         batch,\n\u001b[1;32m   3484\u001b[0m         indices,\n\u001b[1;32m   3485\u001b[0m         check_same_num_examples\u001b[38;5;241m=\u001b[39m\u001b[38;5;28mlen\u001b[39m(shard\u001b[38;5;241m.\u001b[39mlist_indexes()) \u001b[38;5;241m>\u001b[39m \u001b[38;5;241m0\u001b[39m,\n\u001b[1;32m   3486\u001b[0m         offset\u001b[38;5;241m=\u001b[39moffset,\n\u001b[1;32m   3487\u001b[0m     )\n\u001b[1;32m   3488\u001b[0m \u001b[38;5;28;01mexcept\u001b[39;00m NumExamplesMismatchError:\n\u001b[1;32m   3489\u001b[0m     \u001b[38;5;28;01mraise\u001b[39;00m DatasetTransformationNotAllowedError(\n\u001b[1;32m   3490\u001b[0m         \u001b[38;5;124m\"\u001b[39m\u001b[38;5;124mUsing `.map` in batched mode on a dataset with attached indexes is allowed only if it doesn\u001b[39m\u001b[38;5;124m'\u001b[39m\u001b[38;5;124mt create or remove existing examples. You can first run `.drop_index() to remove your index and then re-add it.\u001b[39m\u001b[38;5;124m\"\u001b[39m\n\u001b[1;32m   3491\u001b[0m     ) \u001b[38;5;28;01mfrom\u001b[39;00m \u001b[38;5;28;01mNone\u001b[39;00m\n",
      "File \u001b[0;32m~/anaconda3/lib/python3.11/site-packages/datasets/arrow_dataset.py:3361\u001b[0m, in \u001b[0;36mDataset._map_single.<locals>.apply_function_on_filtered_inputs\u001b[0;34m(pa_inputs, indices, check_same_num_examples, offset)\u001b[0m\n\u001b[1;32m   3359\u001b[0m \u001b[38;5;28;01mif\u001b[39;00m with_rank:\n\u001b[1;32m   3360\u001b[0m     additional_args \u001b[38;5;241m+\u001b[39m\u001b[38;5;241m=\u001b[39m (rank,)\n\u001b[0;32m-> 3361\u001b[0m processed_inputs \u001b[38;5;241m=\u001b[39m function(\u001b[38;5;241m*\u001b[39mfn_args, \u001b[38;5;241m*\u001b[39madditional_args, \u001b[38;5;241m*\u001b[39m\u001b[38;5;241m*\u001b[39mfn_kwargs)\n\u001b[1;32m   3362\u001b[0m \u001b[38;5;28;01mif\u001b[39;00m \u001b[38;5;28misinstance\u001b[39m(processed_inputs, LazyDict):\n\u001b[1;32m   3363\u001b[0m     processed_inputs \u001b[38;5;241m=\u001b[39m {\n\u001b[1;32m   3364\u001b[0m         k: v \u001b[38;5;28;01mfor\u001b[39;00m k, v \u001b[38;5;129;01min\u001b[39;00m processed_inputs\u001b[38;5;241m.\u001b[39mdata\u001b[38;5;241m.\u001b[39mitems() \u001b[38;5;28;01mif\u001b[39;00m k \u001b[38;5;129;01mnot\u001b[39;00m \u001b[38;5;129;01min\u001b[39;00m processed_inputs\u001b[38;5;241m.\u001b[39mkeys_to_format\n\u001b[1;32m   3365\u001b[0m     }\n",
      "File \u001b[0;32m~/swerick/preprocessing.py:50\u001b[0m, in \u001b[0;36mtokenize_dataset.<locals>.<lambda>\u001b[0;34m(examples)\u001b[0m\n\u001b[1;32m     47\u001b[0m \u001b[38;5;28;01mdef\u001b[39;00m \u001b[38;5;21mtokenize_dataset\u001b[39m(dataset,tokenizer):\n\u001b[1;32m     49\u001b[0m     \u001b[38;5;28;01mreturn\u001b[39;00m dataset\u001b[38;5;241m.\u001b[39mmap(\n\u001b[0;32m---> 50\u001b[0m       \u001b[38;5;28;01mlambda\u001b[39;00m examples: tokenize_function(examples, tokenizer), batched\u001b[38;5;241m=\u001b[39m\u001b[38;5;28;01mTrue\u001b[39;00m, remove_columns\u001b[38;5;241m=\u001b[39m[\u001b[38;5;124m\"\u001b[39m\u001b[38;5;124mtexte\u001b[39m\u001b[38;5;124m\"\u001b[39m,\u001b[38;5;124m\"\u001b[39m\u001b[38;5;124mprotocole\u001b[39m\u001b[38;5;124m\"\u001b[39m]\n\u001b[1;32m     51\u001b[0m )\n",
      "File \u001b[0;32m~/swerick/preprocessing.py:13\u001b[0m, in \u001b[0;36mtokenize_function\u001b[0;34m(examples, tokenizer)\u001b[0m\n\u001b[1;32m     12\u001b[0m \u001b[38;5;28;01mdef\u001b[39;00m \u001b[38;5;21mtokenize_function\u001b[39m(examples,tokenizer):\n\u001b[0;32m---> 13\u001b[0m     result \u001b[38;5;241m=\u001b[39m tokenizer(examples[\u001b[38;5;124m\"\u001b[39m\u001b[38;5;124mtexte\u001b[39m\u001b[38;5;124m\"\u001b[39m])\n\u001b[1;32m     14\u001b[0m     \u001b[38;5;28;01mif\u001b[39;00m tokenizer\u001b[38;5;241m.\u001b[39mis_fast:\n\u001b[1;32m     15\u001b[0m         result[\u001b[38;5;124m\"\u001b[39m\u001b[38;5;124mword_ids\u001b[39m\u001b[38;5;124m\"\u001b[39m] \u001b[38;5;241m=\u001b[39m [result\u001b[38;5;241m.\u001b[39mword_ids(i) \u001b[38;5;28;01mfor\u001b[39;00m i \u001b[38;5;129;01min\u001b[39;00m \u001b[38;5;28mrange\u001b[39m(\u001b[38;5;28mlen\u001b[39m(result[\u001b[38;5;124m\"\u001b[39m\u001b[38;5;124minput_ids\u001b[39m\u001b[38;5;124m\"\u001b[39m]))]\n",
      "File \u001b[0;32m~/anaconda3/lib/python3.11/site-packages/transformers/tokenization_utils_base.py:2872\u001b[0m, in \u001b[0;36mPreTrainedTokenizerBase.__call__\u001b[0;34m(self, text, text_pair, text_target, text_pair_target, add_special_tokens, padding, truncation, max_length, stride, is_split_into_words, pad_to_multiple_of, return_tensors, return_token_type_ids, return_attention_mask, return_overflowing_tokens, return_special_tokens_mask, return_offsets_mapping, return_length, verbose, **kwargs)\u001b[0m\n\u001b[1;32m   2870\u001b[0m     \u001b[38;5;28;01mif\u001b[39;00m \u001b[38;5;129;01mnot\u001b[39;00m \u001b[38;5;28mself\u001b[39m\u001b[38;5;241m.\u001b[39m_in_target_context_manager:\n\u001b[1;32m   2871\u001b[0m         \u001b[38;5;28mself\u001b[39m\u001b[38;5;241m.\u001b[39m_switch_to_input_mode()\n\u001b[0;32m-> 2872\u001b[0m     encodings \u001b[38;5;241m=\u001b[39m \u001b[38;5;28mself\u001b[39m\u001b[38;5;241m.\u001b[39m_call_one(text\u001b[38;5;241m=\u001b[39mtext, text_pair\u001b[38;5;241m=\u001b[39mtext_pair, \u001b[38;5;241m*\u001b[39m\u001b[38;5;241m*\u001b[39mall_kwargs)\n\u001b[1;32m   2873\u001b[0m \u001b[38;5;28;01mif\u001b[39;00m text_target \u001b[38;5;129;01mis\u001b[39;00m \u001b[38;5;129;01mnot\u001b[39;00m \u001b[38;5;28;01mNone\u001b[39;00m:\n\u001b[1;32m   2874\u001b[0m     \u001b[38;5;28mself\u001b[39m\u001b[38;5;241m.\u001b[39m_switch_to_target_mode()\n",
      "File \u001b[0;32m~/anaconda3/lib/python3.11/site-packages/transformers/tokenization_utils_base.py:2958\u001b[0m, in \u001b[0;36mPreTrainedTokenizerBase._call_one\u001b[0;34m(self, text, text_pair, add_special_tokens, padding, truncation, max_length, stride, is_split_into_words, pad_to_multiple_of, return_tensors, return_token_type_ids, return_attention_mask, return_overflowing_tokens, return_special_tokens_mask, return_offsets_mapping, return_length, verbose, **kwargs)\u001b[0m\n\u001b[1;32m   2953\u001b[0m         \u001b[38;5;28;01mraise\u001b[39;00m \u001b[38;5;167;01mValueError\u001b[39;00m(\n\u001b[1;32m   2954\u001b[0m             \u001b[38;5;124mf\u001b[39m\u001b[38;5;124m\"\u001b[39m\u001b[38;5;124mbatch length of `text`: \u001b[39m\u001b[38;5;132;01m{\u001b[39;00m\u001b[38;5;28mlen\u001b[39m(text)\u001b[38;5;132;01m}\u001b[39;00m\u001b[38;5;124m does not match batch length of `text_pair`:\u001b[39m\u001b[38;5;124m\"\u001b[39m\n\u001b[1;32m   2955\u001b[0m             \u001b[38;5;124mf\u001b[39m\u001b[38;5;124m\"\u001b[39m\u001b[38;5;124m \u001b[39m\u001b[38;5;132;01m{\u001b[39;00m\u001b[38;5;28mlen\u001b[39m(text_pair)\u001b[38;5;132;01m}\u001b[39;00m\u001b[38;5;124m.\u001b[39m\u001b[38;5;124m\"\u001b[39m\n\u001b[1;32m   2956\u001b[0m         )\n\u001b[1;32m   2957\u001b[0m     batch_text_or_text_pairs \u001b[38;5;241m=\u001b[39m \u001b[38;5;28mlist\u001b[39m(\u001b[38;5;28mzip\u001b[39m(text, text_pair)) \u001b[38;5;28;01mif\u001b[39;00m text_pair \u001b[38;5;129;01mis\u001b[39;00m \u001b[38;5;129;01mnot\u001b[39;00m \u001b[38;5;28;01mNone\u001b[39;00m \u001b[38;5;28;01melse\u001b[39;00m text\n\u001b[0;32m-> 2958\u001b[0m     \u001b[38;5;28;01mreturn\u001b[39;00m \u001b[38;5;28mself\u001b[39m\u001b[38;5;241m.\u001b[39mbatch_encode_plus(\n\u001b[1;32m   2959\u001b[0m         batch_text_or_text_pairs\u001b[38;5;241m=\u001b[39mbatch_text_or_text_pairs,\n\u001b[1;32m   2960\u001b[0m         add_special_tokens\u001b[38;5;241m=\u001b[39madd_special_tokens,\n\u001b[1;32m   2961\u001b[0m         padding\u001b[38;5;241m=\u001b[39mpadding,\n\u001b[1;32m   2962\u001b[0m         truncation\u001b[38;5;241m=\u001b[39mtruncation,\n\u001b[1;32m   2963\u001b[0m         max_length\u001b[38;5;241m=\u001b[39mmax_length,\n\u001b[1;32m   2964\u001b[0m         stride\u001b[38;5;241m=\u001b[39mstride,\n\u001b[1;32m   2965\u001b[0m         is_split_into_words\u001b[38;5;241m=\u001b[39mis_split_into_words,\n\u001b[1;32m   2966\u001b[0m         pad_to_multiple_of\u001b[38;5;241m=\u001b[39mpad_to_multiple_of,\n\u001b[1;32m   2967\u001b[0m         return_tensors\u001b[38;5;241m=\u001b[39mreturn_tensors,\n\u001b[1;32m   2968\u001b[0m         return_token_type_ids\u001b[38;5;241m=\u001b[39mreturn_token_type_ids,\n\u001b[1;32m   2969\u001b[0m         return_attention_mask\u001b[38;5;241m=\u001b[39mreturn_attention_mask,\n\u001b[1;32m   2970\u001b[0m         return_overflowing_tokens\u001b[38;5;241m=\u001b[39mreturn_overflowing_tokens,\n\u001b[1;32m   2971\u001b[0m         return_special_tokens_mask\u001b[38;5;241m=\u001b[39mreturn_special_tokens_mask,\n\u001b[1;32m   2972\u001b[0m         return_offsets_mapping\u001b[38;5;241m=\u001b[39mreturn_offsets_mapping,\n\u001b[1;32m   2973\u001b[0m         return_length\u001b[38;5;241m=\u001b[39mreturn_length,\n\u001b[1;32m   2974\u001b[0m         verbose\u001b[38;5;241m=\u001b[39mverbose,\n\u001b[1;32m   2975\u001b[0m         \u001b[38;5;241m*\u001b[39m\u001b[38;5;241m*\u001b[39mkwargs,\n\u001b[1;32m   2976\u001b[0m     )\n\u001b[1;32m   2977\u001b[0m \u001b[38;5;28;01melse\u001b[39;00m:\n\u001b[1;32m   2978\u001b[0m     \u001b[38;5;28;01mreturn\u001b[39;00m \u001b[38;5;28mself\u001b[39m\u001b[38;5;241m.\u001b[39mencode_plus(\n\u001b[1;32m   2979\u001b[0m         text\u001b[38;5;241m=\u001b[39mtext,\n\u001b[1;32m   2980\u001b[0m         text_pair\u001b[38;5;241m=\u001b[39mtext_pair,\n\u001b[0;32m   (...)\u001b[0m\n\u001b[1;32m   2996\u001b[0m         \u001b[38;5;241m*\u001b[39m\u001b[38;5;241m*\u001b[39mkwargs,\n\u001b[1;32m   2997\u001b[0m     )\n",
      "File \u001b[0;32m~/anaconda3/lib/python3.11/site-packages/transformers/tokenization_utils_base.py:3149\u001b[0m, in \u001b[0;36mPreTrainedTokenizerBase.batch_encode_plus\u001b[0;34m(self, batch_text_or_text_pairs, add_special_tokens, padding, truncation, max_length, stride, is_split_into_words, pad_to_multiple_of, return_tensors, return_token_type_ids, return_attention_mask, return_overflowing_tokens, return_special_tokens_mask, return_offsets_mapping, return_length, verbose, **kwargs)\u001b[0m\n\u001b[1;32m   3139\u001b[0m \u001b[38;5;66;03m# Backward compatibility for 'truncation_strategy', 'pad_to_max_length'\u001b[39;00m\n\u001b[1;32m   3140\u001b[0m padding_strategy, truncation_strategy, max_length, kwargs \u001b[38;5;241m=\u001b[39m \u001b[38;5;28mself\u001b[39m\u001b[38;5;241m.\u001b[39m_get_padding_truncation_strategies(\n\u001b[1;32m   3141\u001b[0m     padding\u001b[38;5;241m=\u001b[39mpadding,\n\u001b[1;32m   3142\u001b[0m     truncation\u001b[38;5;241m=\u001b[39mtruncation,\n\u001b[0;32m   (...)\u001b[0m\n\u001b[1;32m   3146\u001b[0m     \u001b[38;5;241m*\u001b[39m\u001b[38;5;241m*\u001b[39mkwargs,\n\u001b[1;32m   3147\u001b[0m )\n\u001b[0;32m-> 3149\u001b[0m \u001b[38;5;28;01mreturn\u001b[39;00m \u001b[38;5;28mself\u001b[39m\u001b[38;5;241m.\u001b[39m_batch_encode_plus(\n\u001b[1;32m   3150\u001b[0m     batch_text_or_text_pairs\u001b[38;5;241m=\u001b[39mbatch_text_or_text_pairs,\n\u001b[1;32m   3151\u001b[0m     add_special_tokens\u001b[38;5;241m=\u001b[39madd_special_tokens,\n\u001b[1;32m   3152\u001b[0m     padding_strategy\u001b[38;5;241m=\u001b[39mpadding_strategy,\n\u001b[1;32m   3153\u001b[0m     truncation_strategy\u001b[38;5;241m=\u001b[39mtruncation_strategy,\n\u001b[1;32m   3154\u001b[0m     max_length\u001b[38;5;241m=\u001b[39mmax_length,\n\u001b[1;32m   3155\u001b[0m     stride\u001b[38;5;241m=\u001b[39mstride,\n\u001b[1;32m   3156\u001b[0m     is_split_into_words\u001b[38;5;241m=\u001b[39mis_split_into_words,\n\u001b[1;32m   3157\u001b[0m     pad_to_multiple_of\u001b[38;5;241m=\u001b[39mpad_to_multiple_of,\n\u001b[1;32m   3158\u001b[0m     return_tensors\u001b[38;5;241m=\u001b[39mreturn_tensors,\n\u001b[1;32m   3159\u001b[0m     return_token_type_ids\u001b[38;5;241m=\u001b[39mreturn_token_type_ids,\n\u001b[1;32m   3160\u001b[0m     return_attention_mask\u001b[38;5;241m=\u001b[39mreturn_attention_mask,\n\u001b[1;32m   3161\u001b[0m     return_overflowing_tokens\u001b[38;5;241m=\u001b[39mreturn_overflowing_tokens,\n\u001b[1;32m   3162\u001b[0m     return_special_tokens_mask\u001b[38;5;241m=\u001b[39mreturn_special_tokens_mask,\n\u001b[1;32m   3163\u001b[0m     return_offsets_mapping\u001b[38;5;241m=\u001b[39mreturn_offsets_mapping,\n\u001b[1;32m   3164\u001b[0m     return_length\u001b[38;5;241m=\u001b[39mreturn_length,\n\u001b[1;32m   3165\u001b[0m     verbose\u001b[38;5;241m=\u001b[39mverbose,\n\u001b[1;32m   3166\u001b[0m     \u001b[38;5;241m*\u001b[39m\u001b[38;5;241m*\u001b[39mkwargs,\n\u001b[1;32m   3167\u001b[0m )\n",
      "File \u001b[0;32m~/anaconda3/lib/python3.11/site-packages/transformers/tokenization_utils_fast.py:504\u001b[0m, in \u001b[0;36mPreTrainedTokenizerFast._batch_encode_plus\u001b[0;34m(self, batch_text_or_text_pairs, add_special_tokens, padding_strategy, truncation_strategy, max_length, stride, is_split_into_words, pad_to_multiple_of, return_tensors, return_token_type_ids, return_attention_mask, return_overflowing_tokens, return_special_tokens_mask, return_offsets_mapping, return_length, verbose)\u001b[0m\n\u001b[1;32m    495\u001b[0m \u001b[38;5;66;03m# Set the truncation and padding strategy and restore the initial configuration\u001b[39;00m\n\u001b[1;32m    496\u001b[0m \u001b[38;5;28mself\u001b[39m\u001b[38;5;241m.\u001b[39mset_truncation_and_padding(\n\u001b[1;32m    497\u001b[0m     padding_strategy\u001b[38;5;241m=\u001b[39mpadding_strategy,\n\u001b[1;32m    498\u001b[0m     truncation_strategy\u001b[38;5;241m=\u001b[39mtruncation_strategy,\n\u001b[0;32m   (...)\u001b[0m\n\u001b[1;32m    501\u001b[0m     pad_to_multiple_of\u001b[38;5;241m=\u001b[39mpad_to_multiple_of,\n\u001b[1;32m    502\u001b[0m )\n\u001b[0;32m--> 504\u001b[0m encodings \u001b[38;5;241m=\u001b[39m \u001b[38;5;28mself\u001b[39m\u001b[38;5;241m.\u001b[39m_tokenizer\u001b[38;5;241m.\u001b[39mencode_batch(\n\u001b[1;32m    505\u001b[0m     batch_text_or_text_pairs,\n\u001b[1;32m    506\u001b[0m     add_special_tokens\u001b[38;5;241m=\u001b[39madd_special_tokens,\n\u001b[1;32m    507\u001b[0m     is_pretokenized\u001b[38;5;241m=\u001b[39mis_split_into_words,\n\u001b[1;32m    508\u001b[0m )\n\u001b[1;32m    510\u001b[0m \u001b[38;5;66;03m# Convert encoding to dict\u001b[39;00m\n\u001b[1;32m    511\u001b[0m \u001b[38;5;66;03m# `Tokens` has type: Tuple[\u001b[39;00m\n\u001b[1;32m    512\u001b[0m \u001b[38;5;66;03m#                       List[Dict[str, List[List[int]]]] or List[Dict[str, 2D-Tensor]],\u001b[39;00m\n\u001b[1;32m    513\u001b[0m \u001b[38;5;66;03m#                       List[EncodingFast]\u001b[39;00m\n\u001b[1;32m    514\u001b[0m \u001b[38;5;66;03m#                    ]\u001b[39;00m\n\u001b[1;32m    515\u001b[0m \u001b[38;5;66;03m# with nested dimensions corresponding to batch, overflows, sequence length\u001b[39;00m\n\u001b[1;32m    516\u001b[0m tokens_and_encodings \u001b[38;5;241m=\u001b[39m [\n\u001b[1;32m    517\u001b[0m     \u001b[38;5;28mself\u001b[39m\u001b[38;5;241m.\u001b[39m_convert_encoding(\n\u001b[1;32m    518\u001b[0m         encoding\u001b[38;5;241m=\u001b[39mencoding,\n\u001b[0;32m   (...)\u001b[0m\n\u001b[1;32m    527\u001b[0m     \u001b[38;5;28;01mfor\u001b[39;00m encoding \u001b[38;5;129;01min\u001b[39;00m encodings\n\u001b[1;32m    528\u001b[0m ]\n",
      "\u001b[0;31mKeyboardInterrupt\u001b[0m: "
     ]
    }
   ],
   "source": [
    "tokenized_datasets =preprocessing.tokenize_dataset(swerick_dataset,tokenizer)\n",
    "\n",
    "tokenized_datasets\n"
   ]
  },
  {
   "cell_type": "code",
   "execution_count": null,
   "metadata": {},
   "outputs": [],
   "source": [
    "chunk_size = 128"
   ]
  },
  {
   "cell_type": "code",
   "execution_count": null,
   "metadata": {},
   "outputs": [],
   "source": [
    "with open(\"token_dataset.pkl\",\"wb\") as f:\n",
    "    pickle.dump(tokenized_datasets,f)"
   ]
  },
  {
   "cell_type": "code",
   "execution_count": null,
   "metadata": {},
   "outputs": [],
   "source": [
    "tokenized_datasets=tokenized_datasets.remove_columns(\"protocole\")\n"
   ]
  },
  {
   "cell_type": "code",
   "execution_count": null,
   "metadata": {},
   "outputs": [],
   "source": [
    "tokenized_datasets[\"train\"]"
   ]
  },
  {
   "cell_type": "code",
   "execution_count": 6,
   "metadata": {},
   "outputs": [
    {
     "ename": "NameError",
     "evalue": "name 'tokenized_datasets' is not defined",
     "output_type": "error",
     "traceback": [
      "\u001b[0;31m---------------------------------------------------------------------------\u001b[0m",
      "\u001b[0;31mNameError\u001b[0m                                 Traceback (most recent call last)",
      "Cell \u001b[0;32mIn[6], line 1\u001b[0m\n\u001b[0;32m----> 1\u001b[0m lm_datasets \u001b[38;5;241m=\u001b[39m preprocessing\u001b[38;5;241m.\u001b[39mgrouping_dataset(tokenized_datasets,chunk_size)\n\u001b[1;32m      2\u001b[0m lm_datasets\n",
      "\u001b[0;31mNameError\u001b[0m: name 'tokenized_datasets' is not defined"
     ]
    }
   ],
   "source": [
    "lm_datasets = preprocessing.grouping_dataset(tokenized_datasets,chunk_size)\n",
    "lm_datasets"
   ]
  },
  {
   "cell_type": "code",
   "execution_count": null,
   "metadata": {},
   "outputs": [],
   "source": [
    "with open(\"lm_dataset.pkl\",\"wb\") as f:\n",
    "    pickle.dump(lm_datasets,f)"
   ]
  },
  {
   "cell_type": "code",
   "execution_count": 6,
   "metadata": {},
   "outputs": [],
   "source": [
    "with open(\"lm_dataset.pkl\",\"rb\") as f:\n",
    "    lm_datasets= pickle.load(f)"
   ]
  },
  {
   "cell_type": "code",
   "execution_count": 31,
   "metadata": {},
   "outputs": [],
   "source": [
    "data_valid={\"valid\":\"swerick_data_random_valid.pkl\"}\n",
    "valid_dataset = load_dataset(\"pandas\",data_files=data_valid) \n",
    "\n"
   ]
  },
  {
   "cell_type": "code",
   "execution_count": 10,
   "metadata": {},
   "outputs": [
    {
     "name": "stderr",
     "output_type": "stream",
     "text": [
      "Map:   0%|          | 0/2570 [00:09<?, ? examples/s]\n"
     ]
    },
    {
     "ename": "KeyboardInterrupt",
     "evalue": "",
     "output_type": "error",
     "traceback": [
      "\u001b[0;31m---------------------------------------------------------------------------\u001b[0m",
      "\u001b[0;31mKeyboardInterrupt\u001b[0m                         Traceback (most recent call last)",
      "Cell \u001b[0;32mIn[10], line 1\u001b[0m\n\u001b[0;32m----> 1\u001b[0m valid_dataset \u001b[38;5;241m=\u001b[39m\u001b[43mpreprocessing\u001b[49m\u001b[38;5;241;43m.\u001b[39;49m\u001b[43mtokenize_dataset\u001b[49m\u001b[43m(\u001b[49m\u001b[43mvalid_dataset\u001b[49m\u001b[43m,\u001b[49m\u001b[43mtokenizer\u001b[49m\u001b[43m)\u001b[49m\n",
      "File \u001b[0;32m~/swerick/preprocessing.py:49\u001b[0m, in \u001b[0;36mtokenize_dataset\u001b[0;34m(dataset, tokenizer)\u001b[0m\n\u001b[1;32m     47\u001b[0m \u001b[38;5;28;01mdef\u001b[39;00m \u001b[38;5;21mtokenize_dataset\u001b[39m(dataset,tokenizer):\n\u001b[0;32m---> 49\u001b[0m     \u001b[38;5;28;01mreturn\u001b[39;00m \u001b[43mdataset\u001b[49m\u001b[38;5;241;43m.\u001b[39;49m\u001b[43mmap\u001b[49m\u001b[43m(\u001b[49m\n\u001b[1;32m     50\u001b[0m \u001b[43m      \u001b[49m\u001b[38;5;28;43;01mlambda\u001b[39;49;00m\u001b[43m \u001b[49m\u001b[43mexamples\u001b[49m\u001b[43m:\u001b[49m\u001b[43m \u001b[49m\u001b[43mtokenize_function\u001b[49m\u001b[43m(\u001b[49m\u001b[43mexamples\u001b[49m\u001b[43m,\u001b[49m\u001b[43m \u001b[49m\u001b[43mtokenizer\u001b[49m\u001b[43m)\u001b[49m\u001b[43m,\u001b[49m\u001b[43m \u001b[49m\u001b[43mbatched\u001b[49m\u001b[38;5;241;43m=\u001b[39;49m\u001b[38;5;28;43;01mTrue\u001b[39;49;00m\u001b[43m,\u001b[49m\u001b[43m \u001b[49m\u001b[43mremove_columns\u001b[49m\u001b[38;5;241;43m=\u001b[39;49m\u001b[43m[\u001b[49m\u001b[38;5;124;43m\"\u001b[39;49m\u001b[38;5;124;43mtexte\u001b[39;49m\u001b[38;5;124;43m\"\u001b[39;49m\u001b[43m,\u001b[49m\u001b[38;5;124;43m\"\u001b[39;49m\u001b[38;5;124;43mprotocole\u001b[39;49m\u001b[38;5;124;43m\"\u001b[39;49m\u001b[43m]\u001b[49m\n\u001b[1;32m     51\u001b[0m \u001b[43m)\u001b[49m\n",
      "File \u001b[0;32m~/anaconda3/envs/swerick/lib/python3.12/site-packages/datasets/dataset_dict.py:869\u001b[0m, in \u001b[0;36mDatasetDict.map\u001b[0;34m(self, function, with_indices, with_rank, input_columns, batched, batch_size, drop_last_batch, remove_columns, keep_in_memory, load_from_cache_file, cache_file_names, writer_batch_size, features, disable_nullable, fn_kwargs, num_proc, desc)\u001b[0m\n\u001b[1;32m    865\u001b[0m \u001b[38;5;28;01mif\u001b[39;00m cache_file_names \u001b[38;5;129;01mis\u001b[39;00m \u001b[38;5;28;01mNone\u001b[39;00m:\n\u001b[1;32m    866\u001b[0m     cache_file_names \u001b[38;5;241m=\u001b[39m {k: \u001b[38;5;28;01mNone\u001b[39;00m \u001b[38;5;28;01mfor\u001b[39;00m k \u001b[38;5;129;01min\u001b[39;00m \u001b[38;5;28mself\u001b[39m}\n\u001b[1;32m    867\u001b[0m \u001b[38;5;28;01mreturn\u001b[39;00m DatasetDict(\n\u001b[1;32m    868\u001b[0m     {\n\u001b[0;32m--> 869\u001b[0m         k: \u001b[43mdataset\u001b[49m\u001b[38;5;241;43m.\u001b[39;49m\u001b[43mmap\u001b[49m\u001b[43m(\u001b[49m\n\u001b[1;32m    870\u001b[0m \u001b[43m            \u001b[49m\u001b[43mfunction\u001b[49m\u001b[38;5;241;43m=\u001b[39;49m\u001b[43mfunction\u001b[49m\u001b[43m,\u001b[49m\n\u001b[1;32m    871\u001b[0m \u001b[43m            \u001b[49m\u001b[43mwith_indices\u001b[49m\u001b[38;5;241;43m=\u001b[39;49m\u001b[43mwith_indices\u001b[49m\u001b[43m,\u001b[49m\n\u001b[1;32m    872\u001b[0m \u001b[43m            \u001b[49m\u001b[43mwith_rank\u001b[49m\u001b[38;5;241;43m=\u001b[39;49m\u001b[43mwith_rank\u001b[49m\u001b[43m,\u001b[49m\n\u001b[1;32m    873\u001b[0m \u001b[43m            \u001b[49m\u001b[43minput_columns\u001b[49m\u001b[38;5;241;43m=\u001b[39;49m\u001b[43minput_columns\u001b[49m\u001b[43m,\u001b[49m\n\u001b[1;32m    874\u001b[0m \u001b[43m            \u001b[49m\u001b[43mbatched\u001b[49m\u001b[38;5;241;43m=\u001b[39;49m\u001b[43mbatched\u001b[49m\u001b[43m,\u001b[49m\n\u001b[1;32m    875\u001b[0m \u001b[43m            \u001b[49m\u001b[43mbatch_size\u001b[49m\u001b[38;5;241;43m=\u001b[39;49m\u001b[43mbatch_size\u001b[49m\u001b[43m,\u001b[49m\n\u001b[1;32m    876\u001b[0m \u001b[43m            \u001b[49m\u001b[43mdrop_last_batch\u001b[49m\u001b[38;5;241;43m=\u001b[39;49m\u001b[43mdrop_last_batch\u001b[49m\u001b[43m,\u001b[49m\n\u001b[1;32m    877\u001b[0m \u001b[43m            \u001b[49m\u001b[43mremove_columns\u001b[49m\u001b[38;5;241;43m=\u001b[39;49m\u001b[43mremove_columns\u001b[49m\u001b[43m,\u001b[49m\n\u001b[1;32m    878\u001b[0m \u001b[43m            \u001b[49m\u001b[43mkeep_in_memory\u001b[49m\u001b[38;5;241;43m=\u001b[39;49m\u001b[43mkeep_in_memory\u001b[49m\u001b[43m,\u001b[49m\n\u001b[1;32m    879\u001b[0m \u001b[43m            \u001b[49m\u001b[43mload_from_cache_file\u001b[49m\u001b[38;5;241;43m=\u001b[39;49m\u001b[43mload_from_cache_file\u001b[49m\u001b[43m,\u001b[49m\n\u001b[1;32m    880\u001b[0m \u001b[43m            \u001b[49m\u001b[43mcache_file_name\u001b[49m\u001b[38;5;241;43m=\u001b[39;49m\u001b[43mcache_file_names\u001b[49m\u001b[43m[\u001b[49m\u001b[43mk\u001b[49m\u001b[43m]\u001b[49m\u001b[43m,\u001b[49m\n\u001b[1;32m    881\u001b[0m \u001b[43m            \u001b[49m\u001b[43mwriter_batch_size\u001b[49m\u001b[38;5;241;43m=\u001b[39;49m\u001b[43mwriter_batch_size\u001b[49m\u001b[43m,\u001b[49m\n\u001b[1;32m    882\u001b[0m \u001b[43m            \u001b[49m\u001b[43mfeatures\u001b[49m\u001b[38;5;241;43m=\u001b[39;49m\u001b[43mfeatures\u001b[49m\u001b[43m,\u001b[49m\n\u001b[1;32m    883\u001b[0m \u001b[43m            \u001b[49m\u001b[43mdisable_nullable\u001b[49m\u001b[38;5;241;43m=\u001b[39;49m\u001b[43mdisable_nullable\u001b[49m\u001b[43m,\u001b[49m\n\u001b[1;32m    884\u001b[0m \u001b[43m            \u001b[49m\u001b[43mfn_kwargs\u001b[49m\u001b[38;5;241;43m=\u001b[39;49m\u001b[43mfn_kwargs\u001b[49m\u001b[43m,\u001b[49m\n\u001b[1;32m    885\u001b[0m \u001b[43m            \u001b[49m\u001b[43mnum_proc\u001b[49m\u001b[38;5;241;43m=\u001b[39;49m\u001b[43mnum_proc\u001b[49m\u001b[43m,\u001b[49m\n\u001b[1;32m    886\u001b[0m \u001b[43m            \u001b[49m\u001b[43mdesc\u001b[49m\u001b[38;5;241;43m=\u001b[39;49m\u001b[43mdesc\u001b[49m\u001b[43m,\u001b[49m\n\u001b[1;32m    887\u001b[0m \u001b[43m        \u001b[49m\u001b[43m)\u001b[49m\n\u001b[1;32m    888\u001b[0m         \u001b[38;5;28;01mfor\u001b[39;00m k, dataset \u001b[38;5;129;01min\u001b[39;00m \u001b[38;5;28mself\u001b[39m\u001b[38;5;241m.\u001b[39mitems()\n\u001b[1;32m    889\u001b[0m     }\n\u001b[1;32m    890\u001b[0m )\n",
      "File \u001b[0;32m~/anaconda3/envs/swerick/lib/python3.12/site-packages/datasets/arrow_dataset.py:593\u001b[0m, in \u001b[0;36mtransmit_tasks.<locals>.wrapper\u001b[0;34m(*args, **kwargs)\u001b[0m\n\u001b[1;32m    591\u001b[0m     \u001b[38;5;28mself\u001b[39m: \u001b[38;5;124m\"\u001b[39m\u001b[38;5;124mDataset\u001b[39m\u001b[38;5;124m\"\u001b[39m \u001b[38;5;241m=\u001b[39m kwargs\u001b[38;5;241m.\u001b[39mpop(\u001b[38;5;124m\"\u001b[39m\u001b[38;5;124mself\u001b[39m\u001b[38;5;124m\"\u001b[39m)\n\u001b[1;32m    592\u001b[0m \u001b[38;5;66;03m# apply actual function\u001b[39;00m\n\u001b[0;32m--> 593\u001b[0m out: Union[\u001b[38;5;124m\"\u001b[39m\u001b[38;5;124mDataset\u001b[39m\u001b[38;5;124m\"\u001b[39m, \u001b[38;5;124m\"\u001b[39m\u001b[38;5;124mDatasetDict\u001b[39m\u001b[38;5;124m\"\u001b[39m] \u001b[38;5;241m=\u001b[39m \u001b[43mfunc\u001b[49m\u001b[43m(\u001b[49m\u001b[38;5;28;43mself\u001b[39;49m\u001b[43m,\u001b[49m\u001b[43m \u001b[49m\u001b[38;5;241;43m*\u001b[39;49m\u001b[43margs\u001b[49m\u001b[43m,\u001b[49m\u001b[43m \u001b[49m\u001b[38;5;241;43m*\u001b[39;49m\u001b[38;5;241;43m*\u001b[39;49m\u001b[43mkwargs\u001b[49m\u001b[43m)\u001b[49m\n\u001b[1;32m    594\u001b[0m datasets: List[\u001b[38;5;124m\"\u001b[39m\u001b[38;5;124mDataset\u001b[39m\u001b[38;5;124m\"\u001b[39m] \u001b[38;5;241m=\u001b[39m \u001b[38;5;28mlist\u001b[39m(out\u001b[38;5;241m.\u001b[39mvalues()) \u001b[38;5;28;01mif\u001b[39;00m \u001b[38;5;28misinstance\u001b[39m(out, \u001b[38;5;28mdict\u001b[39m) \u001b[38;5;28;01melse\u001b[39;00m [out]\n\u001b[1;32m    595\u001b[0m \u001b[38;5;28;01mfor\u001b[39;00m dataset \u001b[38;5;129;01min\u001b[39;00m datasets:\n\u001b[1;32m    596\u001b[0m     \u001b[38;5;66;03m# Remove task templates if a column mapping of the template is no longer valid\u001b[39;00m\n",
      "File \u001b[0;32m~/anaconda3/envs/swerick/lib/python3.12/site-packages/datasets/arrow_dataset.py:558\u001b[0m, in \u001b[0;36mtransmit_format.<locals>.wrapper\u001b[0;34m(*args, **kwargs)\u001b[0m\n\u001b[1;32m    551\u001b[0m self_format \u001b[38;5;241m=\u001b[39m {\n\u001b[1;32m    552\u001b[0m     \u001b[38;5;124m\"\u001b[39m\u001b[38;5;124mtype\u001b[39m\u001b[38;5;124m\"\u001b[39m: \u001b[38;5;28mself\u001b[39m\u001b[38;5;241m.\u001b[39m_format_type,\n\u001b[1;32m    553\u001b[0m     \u001b[38;5;124m\"\u001b[39m\u001b[38;5;124mformat_kwargs\u001b[39m\u001b[38;5;124m\"\u001b[39m: \u001b[38;5;28mself\u001b[39m\u001b[38;5;241m.\u001b[39m_format_kwargs,\n\u001b[1;32m    554\u001b[0m     \u001b[38;5;124m\"\u001b[39m\u001b[38;5;124mcolumns\u001b[39m\u001b[38;5;124m\"\u001b[39m: \u001b[38;5;28mself\u001b[39m\u001b[38;5;241m.\u001b[39m_format_columns,\n\u001b[1;32m    555\u001b[0m     \u001b[38;5;124m\"\u001b[39m\u001b[38;5;124moutput_all_columns\u001b[39m\u001b[38;5;124m\"\u001b[39m: \u001b[38;5;28mself\u001b[39m\u001b[38;5;241m.\u001b[39m_output_all_columns,\n\u001b[1;32m    556\u001b[0m }\n\u001b[1;32m    557\u001b[0m \u001b[38;5;66;03m# apply actual function\u001b[39;00m\n\u001b[0;32m--> 558\u001b[0m out: Union[\u001b[38;5;124m\"\u001b[39m\u001b[38;5;124mDataset\u001b[39m\u001b[38;5;124m\"\u001b[39m, \u001b[38;5;124m\"\u001b[39m\u001b[38;5;124mDatasetDict\u001b[39m\u001b[38;5;124m\"\u001b[39m] \u001b[38;5;241m=\u001b[39m \u001b[43mfunc\u001b[49m\u001b[43m(\u001b[49m\u001b[38;5;28;43mself\u001b[39;49m\u001b[43m,\u001b[49m\u001b[43m \u001b[49m\u001b[38;5;241;43m*\u001b[39;49m\u001b[43margs\u001b[49m\u001b[43m,\u001b[49m\u001b[43m \u001b[49m\u001b[38;5;241;43m*\u001b[39;49m\u001b[38;5;241;43m*\u001b[39;49m\u001b[43mkwargs\u001b[49m\u001b[43m)\u001b[49m\n\u001b[1;32m    559\u001b[0m datasets: List[\u001b[38;5;124m\"\u001b[39m\u001b[38;5;124mDataset\u001b[39m\u001b[38;5;124m\"\u001b[39m] \u001b[38;5;241m=\u001b[39m \u001b[38;5;28mlist\u001b[39m(out\u001b[38;5;241m.\u001b[39mvalues()) \u001b[38;5;28;01mif\u001b[39;00m \u001b[38;5;28misinstance\u001b[39m(out, \u001b[38;5;28mdict\u001b[39m) \u001b[38;5;28;01melse\u001b[39;00m [out]\n\u001b[1;32m    560\u001b[0m \u001b[38;5;66;03m# re-apply format to the output\u001b[39;00m\n",
      "File \u001b[0;32m~/anaconda3/envs/swerick/lib/python3.12/site-packages/datasets/arrow_dataset.py:3105\u001b[0m, in \u001b[0;36mDataset.map\u001b[0;34m(self, function, with_indices, with_rank, input_columns, batched, batch_size, drop_last_batch, remove_columns, keep_in_memory, load_from_cache_file, cache_file_name, writer_batch_size, features, disable_nullable, fn_kwargs, num_proc, suffix_template, new_fingerprint, desc)\u001b[0m\n\u001b[1;32m   3099\u001b[0m \u001b[38;5;28;01mif\u001b[39;00m transformed_dataset \u001b[38;5;129;01mis\u001b[39;00m \u001b[38;5;28;01mNone\u001b[39;00m:\n\u001b[1;32m   3100\u001b[0m     \u001b[38;5;28;01mwith\u001b[39;00m hf_tqdm(\n\u001b[1;32m   3101\u001b[0m         unit\u001b[38;5;241m=\u001b[39m\u001b[38;5;124m\"\u001b[39m\u001b[38;5;124m examples\u001b[39m\u001b[38;5;124m\"\u001b[39m,\n\u001b[1;32m   3102\u001b[0m         total\u001b[38;5;241m=\u001b[39mpbar_total,\n\u001b[1;32m   3103\u001b[0m         desc\u001b[38;5;241m=\u001b[39mdesc \u001b[38;5;129;01mor\u001b[39;00m \u001b[38;5;124m\"\u001b[39m\u001b[38;5;124mMap\u001b[39m\u001b[38;5;124m\"\u001b[39m,\n\u001b[1;32m   3104\u001b[0m     ) \u001b[38;5;28;01mas\u001b[39;00m pbar:\n\u001b[0;32m-> 3105\u001b[0m \u001b[43m        \u001b[49m\u001b[38;5;28;43;01mfor\u001b[39;49;00m\u001b[43m \u001b[49m\u001b[43mrank\u001b[49m\u001b[43m,\u001b[49m\u001b[43m \u001b[49m\u001b[43mdone\u001b[49m\u001b[43m,\u001b[49m\u001b[43m \u001b[49m\u001b[43mcontent\u001b[49m\u001b[43m \u001b[49m\u001b[38;5;129;43;01min\u001b[39;49;00m\u001b[43m \u001b[49m\u001b[43mDataset\u001b[49m\u001b[38;5;241;43m.\u001b[39;49m\u001b[43m_map_single\u001b[49m\u001b[43m(\u001b[49m\u001b[38;5;241;43m*\u001b[39;49m\u001b[38;5;241;43m*\u001b[39;49m\u001b[43mdataset_kwargs\u001b[49m\u001b[43m)\u001b[49m\u001b[43m:\u001b[49m\n\u001b[1;32m   3106\u001b[0m \u001b[43m            \u001b[49m\u001b[38;5;28;43;01mif\u001b[39;49;00m\u001b[43m \u001b[49m\u001b[43mdone\u001b[49m\u001b[43m:\u001b[49m\n\u001b[1;32m   3107\u001b[0m \u001b[43m                \u001b[49m\u001b[43mshards_done\u001b[49m\u001b[43m \u001b[49m\u001b[38;5;241;43m+\u001b[39;49m\u001b[38;5;241;43m=\u001b[39;49m\u001b[43m \u001b[49m\u001b[38;5;241;43m1\u001b[39;49m\n",
      "File \u001b[0;32m~/anaconda3/envs/swerick/lib/python3.12/site-packages/datasets/arrow_dataset.py:3482\u001b[0m, in \u001b[0;36mDataset._map_single\u001b[0;34m(shard, function, with_indices, with_rank, input_columns, batched, batch_size, drop_last_batch, remove_columns, keep_in_memory, cache_file_name, writer_batch_size, features, disable_nullable, fn_kwargs, new_fingerprint, rank, offset)\u001b[0m\n\u001b[1;32m   3478\u001b[0m indices \u001b[38;5;241m=\u001b[39m \u001b[38;5;28mlist\u001b[39m(\n\u001b[1;32m   3479\u001b[0m     \u001b[38;5;28mrange\u001b[39m(\u001b[38;5;241m*\u001b[39m(\u001b[38;5;28mslice\u001b[39m(i, i \u001b[38;5;241m+\u001b[39m batch_size)\u001b[38;5;241m.\u001b[39mindices(shard\u001b[38;5;241m.\u001b[39mnum_rows)))\n\u001b[1;32m   3480\u001b[0m )  \u001b[38;5;66;03m# Something simpler?\u001b[39;00m\n\u001b[1;32m   3481\u001b[0m \u001b[38;5;28;01mtry\u001b[39;00m:\n\u001b[0;32m-> 3482\u001b[0m     batch \u001b[38;5;241m=\u001b[39m \u001b[43mapply_function_on_filtered_inputs\u001b[49m\u001b[43m(\u001b[49m\n\u001b[1;32m   3483\u001b[0m \u001b[43m        \u001b[49m\u001b[43mbatch\u001b[49m\u001b[43m,\u001b[49m\n\u001b[1;32m   3484\u001b[0m \u001b[43m        \u001b[49m\u001b[43mindices\u001b[49m\u001b[43m,\u001b[49m\n\u001b[1;32m   3485\u001b[0m \u001b[43m        \u001b[49m\u001b[43mcheck_same_num_examples\u001b[49m\u001b[38;5;241;43m=\u001b[39;49m\u001b[38;5;28;43mlen\u001b[39;49m\u001b[43m(\u001b[49m\u001b[43mshard\u001b[49m\u001b[38;5;241;43m.\u001b[39;49m\u001b[43mlist_indexes\u001b[49m\u001b[43m(\u001b[49m\u001b[43m)\u001b[49m\u001b[43m)\u001b[49m\u001b[43m \u001b[49m\u001b[38;5;241;43m>\u001b[39;49m\u001b[43m \u001b[49m\u001b[38;5;241;43m0\u001b[39;49m\u001b[43m,\u001b[49m\n\u001b[1;32m   3486\u001b[0m \u001b[43m        \u001b[49m\u001b[43moffset\u001b[49m\u001b[38;5;241;43m=\u001b[39;49m\u001b[43moffset\u001b[49m\u001b[43m,\u001b[49m\n\u001b[1;32m   3487\u001b[0m \u001b[43m    \u001b[49m\u001b[43m)\u001b[49m\n\u001b[1;32m   3488\u001b[0m \u001b[38;5;28;01mexcept\u001b[39;00m NumExamplesMismatchError:\n\u001b[1;32m   3489\u001b[0m     \u001b[38;5;28;01mraise\u001b[39;00m DatasetTransformationNotAllowedError(\n\u001b[1;32m   3490\u001b[0m         \u001b[38;5;124m\"\u001b[39m\u001b[38;5;124mUsing `.map` in batched mode on a dataset with attached indexes is allowed only if it doesn\u001b[39m\u001b[38;5;124m'\u001b[39m\u001b[38;5;124mt create or remove existing examples. You can first run `.drop_index() to remove your index and then re-add it.\u001b[39m\u001b[38;5;124m\"\u001b[39m\n\u001b[1;32m   3491\u001b[0m     ) \u001b[38;5;28;01mfrom\u001b[39;00m \u001b[38;5;28;01mNone\u001b[39;00m\n",
      "File \u001b[0;32m~/anaconda3/envs/swerick/lib/python3.12/site-packages/datasets/arrow_dataset.py:3361\u001b[0m, in \u001b[0;36mDataset._map_single.<locals>.apply_function_on_filtered_inputs\u001b[0;34m(pa_inputs, indices, check_same_num_examples, offset)\u001b[0m\n\u001b[1;32m   3359\u001b[0m \u001b[38;5;28;01mif\u001b[39;00m with_rank:\n\u001b[1;32m   3360\u001b[0m     additional_args \u001b[38;5;241m+\u001b[39m\u001b[38;5;241m=\u001b[39m (rank,)\n\u001b[0;32m-> 3361\u001b[0m processed_inputs \u001b[38;5;241m=\u001b[39m \u001b[43mfunction\u001b[49m\u001b[43m(\u001b[49m\u001b[38;5;241;43m*\u001b[39;49m\u001b[43mfn_args\u001b[49m\u001b[43m,\u001b[49m\u001b[43m \u001b[49m\u001b[38;5;241;43m*\u001b[39;49m\u001b[43madditional_args\u001b[49m\u001b[43m,\u001b[49m\u001b[43m \u001b[49m\u001b[38;5;241;43m*\u001b[39;49m\u001b[38;5;241;43m*\u001b[39;49m\u001b[43mfn_kwargs\u001b[49m\u001b[43m)\u001b[49m\n\u001b[1;32m   3362\u001b[0m \u001b[38;5;28;01mif\u001b[39;00m \u001b[38;5;28misinstance\u001b[39m(processed_inputs, LazyDict):\n\u001b[1;32m   3363\u001b[0m     processed_inputs \u001b[38;5;241m=\u001b[39m {\n\u001b[1;32m   3364\u001b[0m         k: v \u001b[38;5;28;01mfor\u001b[39;00m k, v \u001b[38;5;129;01min\u001b[39;00m processed_inputs\u001b[38;5;241m.\u001b[39mdata\u001b[38;5;241m.\u001b[39mitems() \u001b[38;5;28;01mif\u001b[39;00m k \u001b[38;5;129;01mnot\u001b[39;00m \u001b[38;5;129;01min\u001b[39;00m processed_inputs\u001b[38;5;241m.\u001b[39mkeys_to_format\n\u001b[1;32m   3365\u001b[0m     }\n",
      "File \u001b[0;32m~/swerick/preprocessing.py:50\u001b[0m, in \u001b[0;36mtokenize_dataset.<locals>.<lambda>\u001b[0;34m(examples)\u001b[0m\n\u001b[1;32m     47\u001b[0m \u001b[38;5;28;01mdef\u001b[39;00m \u001b[38;5;21mtokenize_dataset\u001b[39m(dataset,tokenizer):\n\u001b[1;32m     49\u001b[0m     \u001b[38;5;28;01mreturn\u001b[39;00m dataset\u001b[38;5;241m.\u001b[39mmap(\n\u001b[0;32m---> 50\u001b[0m       \u001b[38;5;28;01mlambda\u001b[39;00m examples: \u001b[43mtokenize_function\u001b[49m\u001b[43m(\u001b[49m\u001b[43mexamples\u001b[49m\u001b[43m,\u001b[49m\u001b[43m \u001b[49m\u001b[43mtokenizer\u001b[49m\u001b[43m)\u001b[49m, batched\u001b[38;5;241m=\u001b[39m\u001b[38;5;28;01mTrue\u001b[39;00m, remove_columns\u001b[38;5;241m=\u001b[39m[\u001b[38;5;124m\"\u001b[39m\u001b[38;5;124mtexte\u001b[39m\u001b[38;5;124m\"\u001b[39m,\u001b[38;5;124m\"\u001b[39m\u001b[38;5;124mprotocole\u001b[39m\u001b[38;5;124m\"\u001b[39m]\n\u001b[1;32m     51\u001b[0m )\n",
      "File \u001b[0;32m~/swerick/preprocessing.py:13\u001b[0m, in \u001b[0;36mtokenize_function\u001b[0;34m(examples, tokenizer)\u001b[0m\n\u001b[1;32m     12\u001b[0m \u001b[38;5;28;01mdef\u001b[39;00m \u001b[38;5;21mtokenize_function\u001b[39m(examples,tokenizer):\n\u001b[0;32m---> 13\u001b[0m     result \u001b[38;5;241m=\u001b[39m \u001b[43mtokenizer\u001b[49m\u001b[43m(\u001b[49m\u001b[43mexamples\u001b[49m\u001b[43m[\u001b[49m\u001b[38;5;124;43m\"\u001b[39;49m\u001b[38;5;124;43mtexte\u001b[39;49m\u001b[38;5;124;43m\"\u001b[39;49m\u001b[43m]\u001b[49m\u001b[43m)\u001b[49m\n\u001b[1;32m     14\u001b[0m     \u001b[38;5;28;01mif\u001b[39;00m tokenizer\u001b[38;5;241m.\u001b[39mis_fast:\n\u001b[1;32m     15\u001b[0m         result[\u001b[38;5;124m\"\u001b[39m\u001b[38;5;124mword_ids\u001b[39m\u001b[38;5;124m\"\u001b[39m] \u001b[38;5;241m=\u001b[39m [result\u001b[38;5;241m.\u001b[39mword_ids(i) \u001b[38;5;28;01mfor\u001b[39;00m i \u001b[38;5;129;01min\u001b[39;00m \u001b[38;5;28mrange\u001b[39m(\u001b[38;5;28mlen\u001b[39m(result[\u001b[38;5;124m\"\u001b[39m\u001b[38;5;124minput_ids\u001b[39m\u001b[38;5;124m\"\u001b[39m]))]\n",
      "File \u001b[0;32m~/anaconda3/envs/swerick/lib/python3.12/site-packages/transformers/tokenization_utils_base.py:2872\u001b[0m, in \u001b[0;36mPreTrainedTokenizerBase.__call__\u001b[0;34m(self, text, text_pair, text_target, text_pair_target, add_special_tokens, padding, truncation, max_length, stride, is_split_into_words, pad_to_multiple_of, return_tensors, return_token_type_ids, return_attention_mask, return_overflowing_tokens, return_special_tokens_mask, return_offsets_mapping, return_length, verbose, **kwargs)\u001b[0m\n\u001b[1;32m   2870\u001b[0m     \u001b[38;5;28;01mif\u001b[39;00m \u001b[38;5;129;01mnot\u001b[39;00m \u001b[38;5;28mself\u001b[39m\u001b[38;5;241m.\u001b[39m_in_target_context_manager:\n\u001b[1;32m   2871\u001b[0m         \u001b[38;5;28mself\u001b[39m\u001b[38;5;241m.\u001b[39m_switch_to_input_mode()\n\u001b[0;32m-> 2872\u001b[0m     encodings \u001b[38;5;241m=\u001b[39m \u001b[38;5;28;43mself\u001b[39;49m\u001b[38;5;241;43m.\u001b[39;49m\u001b[43m_call_one\u001b[49m\u001b[43m(\u001b[49m\u001b[43mtext\u001b[49m\u001b[38;5;241;43m=\u001b[39;49m\u001b[43mtext\u001b[49m\u001b[43m,\u001b[49m\u001b[43m \u001b[49m\u001b[43mtext_pair\u001b[49m\u001b[38;5;241;43m=\u001b[39;49m\u001b[43mtext_pair\u001b[49m\u001b[43m,\u001b[49m\u001b[43m \u001b[49m\u001b[38;5;241;43m*\u001b[39;49m\u001b[38;5;241;43m*\u001b[39;49m\u001b[43mall_kwargs\u001b[49m\u001b[43m)\u001b[49m\n\u001b[1;32m   2873\u001b[0m \u001b[38;5;28;01mif\u001b[39;00m text_target \u001b[38;5;129;01mis\u001b[39;00m \u001b[38;5;129;01mnot\u001b[39;00m \u001b[38;5;28;01mNone\u001b[39;00m:\n\u001b[1;32m   2874\u001b[0m     \u001b[38;5;28mself\u001b[39m\u001b[38;5;241m.\u001b[39m_switch_to_target_mode()\n",
      "File \u001b[0;32m~/anaconda3/envs/swerick/lib/python3.12/site-packages/transformers/tokenization_utils_base.py:2958\u001b[0m, in \u001b[0;36mPreTrainedTokenizerBase._call_one\u001b[0;34m(self, text, text_pair, add_special_tokens, padding, truncation, max_length, stride, is_split_into_words, pad_to_multiple_of, return_tensors, return_token_type_ids, return_attention_mask, return_overflowing_tokens, return_special_tokens_mask, return_offsets_mapping, return_length, verbose, **kwargs)\u001b[0m\n\u001b[1;32m   2953\u001b[0m         \u001b[38;5;28;01mraise\u001b[39;00m \u001b[38;5;167;01mValueError\u001b[39;00m(\n\u001b[1;32m   2954\u001b[0m             \u001b[38;5;124mf\u001b[39m\u001b[38;5;124m\"\u001b[39m\u001b[38;5;124mbatch length of `text`: \u001b[39m\u001b[38;5;132;01m{\u001b[39;00m\u001b[38;5;28mlen\u001b[39m(text)\u001b[38;5;132;01m}\u001b[39;00m\u001b[38;5;124m does not match batch length of `text_pair`:\u001b[39m\u001b[38;5;124m\"\u001b[39m\n\u001b[1;32m   2955\u001b[0m             \u001b[38;5;124mf\u001b[39m\u001b[38;5;124m\"\u001b[39m\u001b[38;5;124m \u001b[39m\u001b[38;5;132;01m{\u001b[39;00m\u001b[38;5;28mlen\u001b[39m(text_pair)\u001b[38;5;132;01m}\u001b[39;00m\u001b[38;5;124m.\u001b[39m\u001b[38;5;124m\"\u001b[39m\n\u001b[1;32m   2956\u001b[0m         )\n\u001b[1;32m   2957\u001b[0m     batch_text_or_text_pairs \u001b[38;5;241m=\u001b[39m \u001b[38;5;28mlist\u001b[39m(\u001b[38;5;28mzip\u001b[39m(text, text_pair)) \u001b[38;5;28;01mif\u001b[39;00m text_pair \u001b[38;5;129;01mis\u001b[39;00m \u001b[38;5;129;01mnot\u001b[39;00m \u001b[38;5;28;01mNone\u001b[39;00m \u001b[38;5;28;01melse\u001b[39;00m text\n\u001b[0;32m-> 2958\u001b[0m     \u001b[38;5;28;01mreturn\u001b[39;00m \u001b[38;5;28;43mself\u001b[39;49m\u001b[38;5;241;43m.\u001b[39;49m\u001b[43mbatch_encode_plus\u001b[49m\u001b[43m(\u001b[49m\n\u001b[1;32m   2959\u001b[0m \u001b[43m        \u001b[49m\u001b[43mbatch_text_or_text_pairs\u001b[49m\u001b[38;5;241;43m=\u001b[39;49m\u001b[43mbatch_text_or_text_pairs\u001b[49m\u001b[43m,\u001b[49m\n\u001b[1;32m   2960\u001b[0m \u001b[43m        \u001b[49m\u001b[43madd_special_tokens\u001b[49m\u001b[38;5;241;43m=\u001b[39;49m\u001b[43madd_special_tokens\u001b[49m\u001b[43m,\u001b[49m\n\u001b[1;32m   2961\u001b[0m \u001b[43m        \u001b[49m\u001b[43mpadding\u001b[49m\u001b[38;5;241;43m=\u001b[39;49m\u001b[43mpadding\u001b[49m\u001b[43m,\u001b[49m\n\u001b[1;32m   2962\u001b[0m \u001b[43m        \u001b[49m\u001b[43mtruncation\u001b[49m\u001b[38;5;241;43m=\u001b[39;49m\u001b[43mtruncation\u001b[49m\u001b[43m,\u001b[49m\n\u001b[1;32m   2963\u001b[0m \u001b[43m        \u001b[49m\u001b[43mmax_length\u001b[49m\u001b[38;5;241;43m=\u001b[39;49m\u001b[43mmax_length\u001b[49m\u001b[43m,\u001b[49m\n\u001b[1;32m   2964\u001b[0m \u001b[43m        \u001b[49m\u001b[43mstride\u001b[49m\u001b[38;5;241;43m=\u001b[39;49m\u001b[43mstride\u001b[49m\u001b[43m,\u001b[49m\n\u001b[1;32m   2965\u001b[0m \u001b[43m        \u001b[49m\u001b[43mis_split_into_words\u001b[49m\u001b[38;5;241;43m=\u001b[39;49m\u001b[43mis_split_into_words\u001b[49m\u001b[43m,\u001b[49m\n\u001b[1;32m   2966\u001b[0m \u001b[43m        \u001b[49m\u001b[43mpad_to_multiple_of\u001b[49m\u001b[38;5;241;43m=\u001b[39;49m\u001b[43mpad_to_multiple_of\u001b[49m\u001b[43m,\u001b[49m\n\u001b[1;32m   2967\u001b[0m \u001b[43m        \u001b[49m\u001b[43mreturn_tensors\u001b[49m\u001b[38;5;241;43m=\u001b[39;49m\u001b[43mreturn_tensors\u001b[49m\u001b[43m,\u001b[49m\n\u001b[1;32m   2968\u001b[0m \u001b[43m        \u001b[49m\u001b[43mreturn_token_type_ids\u001b[49m\u001b[38;5;241;43m=\u001b[39;49m\u001b[43mreturn_token_type_ids\u001b[49m\u001b[43m,\u001b[49m\n\u001b[1;32m   2969\u001b[0m \u001b[43m        \u001b[49m\u001b[43mreturn_attention_mask\u001b[49m\u001b[38;5;241;43m=\u001b[39;49m\u001b[43mreturn_attention_mask\u001b[49m\u001b[43m,\u001b[49m\n\u001b[1;32m   2970\u001b[0m \u001b[43m        \u001b[49m\u001b[43mreturn_overflowing_tokens\u001b[49m\u001b[38;5;241;43m=\u001b[39;49m\u001b[43mreturn_overflowing_tokens\u001b[49m\u001b[43m,\u001b[49m\n\u001b[1;32m   2971\u001b[0m \u001b[43m        \u001b[49m\u001b[43mreturn_special_tokens_mask\u001b[49m\u001b[38;5;241;43m=\u001b[39;49m\u001b[43mreturn_special_tokens_mask\u001b[49m\u001b[43m,\u001b[49m\n\u001b[1;32m   2972\u001b[0m \u001b[43m        \u001b[49m\u001b[43mreturn_offsets_mapping\u001b[49m\u001b[38;5;241;43m=\u001b[39;49m\u001b[43mreturn_offsets_mapping\u001b[49m\u001b[43m,\u001b[49m\n\u001b[1;32m   2973\u001b[0m \u001b[43m        \u001b[49m\u001b[43mreturn_length\u001b[49m\u001b[38;5;241;43m=\u001b[39;49m\u001b[43mreturn_length\u001b[49m\u001b[43m,\u001b[49m\n\u001b[1;32m   2974\u001b[0m \u001b[43m        \u001b[49m\u001b[43mverbose\u001b[49m\u001b[38;5;241;43m=\u001b[39;49m\u001b[43mverbose\u001b[49m\u001b[43m,\u001b[49m\n\u001b[1;32m   2975\u001b[0m \u001b[43m        \u001b[49m\u001b[38;5;241;43m*\u001b[39;49m\u001b[38;5;241;43m*\u001b[39;49m\u001b[43mkwargs\u001b[49m\u001b[43m,\u001b[49m\n\u001b[1;32m   2976\u001b[0m \u001b[43m    \u001b[49m\u001b[43m)\u001b[49m\n\u001b[1;32m   2977\u001b[0m \u001b[38;5;28;01melse\u001b[39;00m:\n\u001b[1;32m   2978\u001b[0m     \u001b[38;5;28;01mreturn\u001b[39;00m \u001b[38;5;28mself\u001b[39m\u001b[38;5;241m.\u001b[39mencode_plus(\n\u001b[1;32m   2979\u001b[0m         text\u001b[38;5;241m=\u001b[39mtext,\n\u001b[1;32m   2980\u001b[0m         text_pair\u001b[38;5;241m=\u001b[39mtext_pair,\n\u001b[0;32m   (...)\u001b[0m\n\u001b[1;32m   2996\u001b[0m         \u001b[38;5;241m*\u001b[39m\u001b[38;5;241m*\u001b[39mkwargs,\n\u001b[1;32m   2997\u001b[0m     )\n",
      "File \u001b[0;32m~/anaconda3/envs/swerick/lib/python3.12/site-packages/transformers/tokenization_utils_base.py:3149\u001b[0m, in \u001b[0;36mPreTrainedTokenizerBase.batch_encode_plus\u001b[0;34m(self, batch_text_or_text_pairs, add_special_tokens, padding, truncation, max_length, stride, is_split_into_words, pad_to_multiple_of, return_tensors, return_token_type_ids, return_attention_mask, return_overflowing_tokens, return_special_tokens_mask, return_offsets_mapping, return_length, verbose, **kwargs)\u001b[0m\n\u001b[1;32m   3139\u001b[0m \u001b[38;5;66;03m# Backward compatibility for 'truncation_strategy', 'pad_to_max_length'\u001b[39;00m\n\u001b[1;32m   3140\u001b[0m padding_strategy, truncation_strategy, max_length, kwargs \u001b[38;5;241m=\u001b[39m \u001b[38;5;28mself\u001b[39m\u001b[38;5;241m.\u001b[39m_get_padding_truncation_strategies(\n\u001b[1;32m   3141\u001b[0m     padding\u001b[38;5;241m=\u001b[39mpadding,\n\u001b[1;32m   3142\u001b[0m     truncation\u001b[38;5;241m=\u001b[39mtruncation,\n\u001b[0;32m   (...)\u001b[0m\n\u001b[1;32m   3146\u001b[0m     \u001b[38;5;241m*\u001b[39m\u001b[38;5;241m*\u001b[39mkwargs,\n\u001b[1;32m   3147\u001b[0m )\n\u001b[0;32m-> 3149\u001b[0m \u001b[38;5;28;01mreturn\u001b[39;00m \u001b[38;5;28;43mself\u001b[39;49m\u001b[38;5;241;43m.\u001b[39;49m\u001b[43m_batch_encode_plus\u001b[49m\u001b[43m(\u001b[49m\n\u001b[1;32m   3150\u001b[0m \u001b[43m    \u001b[49m\u001b[43mbatch_text_or_text_pairs\u001b[49m\u001b[38;5;241;43m=\u001b[39;49m\u001b[43mbatch_text_or_text_pairs\u001b[49m\u001b[43m,\u001b[49m\n\u001b[1;32m   3151\u001b[0m \u001b[43m    \u001b[49m\u001b[43madd_special_tokens\u001b[49m\u001b[38;5;241;43m=\u001b[39;49m\u001b[43madd_special_tokens\u001b[49m\u001b[43m,\u001b[49m\n\u001b[1;32m   3152\u001b[0m \u001b[43m    \u001b[49m\u001b[43mpadding_strategy\u001b[49m\u001b[38;5;241;43m=\u001b[39;49m\u001b[43mpadding_strategy\u001b[49m\u001b[43m,\u001b[49m\n\u001b[1;32m   3153\u001b[0m \u001b[43m    \u001b[49m\u001b[43mtruncation_strategy\u001b[49m\u001b[38;5;241;43m=\u001b[39;49m\u001b[43mtruncation_strategy\u001b[49m\u001b[43m,\u001b[49m\n\u001b[1;32m   3154\u001b[0m \u001b[43m    \u001b[49m\u001b[43mmax_length\u001b[49m\u001b[38;5;241;43m=\u001b[39;49m\u001b[43mmax_length\u001b[49m\u001b[43m,\u001b[49m\n\u001b[1;32m   3155\u001b[0m \u001b[43m    \u001b[49m\u001b[43mstride\u001b[49m\u001b[38;5;241;43m=\u001b[39;49m\u001b[43mstride\u001b[49m\u001b[43m,\u001b[49m\n\u001b[1;32m   3156\u001b[0m \u001b[43m    \u001b[49m\u001b[43mis_split_into_words\u001b[49m\u001b[38;5;241;43m=\u001b[39;49m\u001b[43mis_split_into_words\u001b[49m\u001b[43m,\u001b[49m\n\u001b[1;32m   3157\u001b[0m \u001b[43m    \u001b[49m\u001b[43mpad_to_multiple_of\u001b[49m\u001b[38;5;241;43m=\u001b[39;49m\u001b[43mpad_to_multiple_of\u001b[49m\u001b[43m,\u001b[49m\n\u001b[1;32m   3158\u001b[0m \u001b[43m    \u001b[49m\u001b[43mreturn_tensors\u001b[49m\u001b[38;5;241;43m=\u001b[39;49m\u001b[43mreturn_tensors\u001b[49m\u001b[43m,\u001b[49m\n\u001b[1;32m   3159\u001b[0m \u001b[43m    \u001b[49m\u001b[43mreturn_token_type_ids\u001b[49m\u001b[38;5;241;43m=\u001b[39;49m\u001b[43mreturn_token_type_ids\u001b[49m\u001b[43m,\u001b[49m\n\u001b[1;32m   3160\u001b[0m \u001b[43m    \u001b[49m\u001b[43mreturn_attention_mask\u001b[49m\u001b[38;5;241;43m=\u001b[39;49m\u001b[43mreturn_attention_mask\u001b[49m\u001b[43m,\u001b[49m\n\u001b[1;32m   3161\u001b[0m \u001b[43m    \u001b[49m\u001b[43mreturn_overflowing_tokens\u001b[49m\u001b[38;5;241;43m=\u001b[39;49m\u001b[43mreturn_overflowing_tokens\u001b[49m\u001b[43m,\u001b[49m\n\u001b[1;32m   3162\u001b[0m \u001b[43m    \u001b[49m\u001b[43mreturn_special_tokens_mask\u001b[49m\u001b[38;5;241;43m=\u001b[39;49m\u001b[43mreturn_special_tokens_mask\u001b[49m\u001b[43m,\u001b[49m\n\u001b[1;32m   3163\u001b[0m \u001b[43m    \u001b[49m\u001b[43mreturn_offsets_mapping\u001b[49m\u001b[38;5;241;43m=\u001b[39;49m\u001b[43mreturn_offsets_mapping\u001b[49m\u001b[43m,\u001b[49m\n\u001b[1;32m   3164\u001b[0m \u001b[43m    \u001b[49m\u001b[43mreturn_length\u001b[49m\u001b[38;5;241;43m=\u001b[39;49m\u001b[43mreturn_length\u001b[49m\u001b[43m,\u001b[49m\n\u001b[1;32m   3165\u001b[0m \u001b[43m    \u001b[49m\u001b[43mverbose\u001b[49m\u001b[38;5;241;43m=\u001b[39;49m\u001b[43mverbose\u001b[49m\u001b[43m,\u001b[49m\n\u001b[1;32m   3166\u001b[0m \u001b[43m    \u001b[49m\u001b[38;5;241;43m*\u001b[39;49m\u001b[38;5;241;43m*\u001b[39;49m\u001b[43mkwargs\u001b[49m\u001b[43m,\u001b[49m\n\u001b[1;32m   3167\u001b[0m \u001b[43m\u001b[49m\u001b[43m)\u001b[49m\n",
      "File \u001b[0;32m~/anaconda3/envs/swerick/lib/python3.12/site-packages/transformers/tokenization_utils_fast.py:504\u001b[0m, in \u001b[0;36mPreTrainedTokenizerFast._batch_encode_plus\u001b[0;34m(self, batch_text_or_text_pairs, add_special_tokens, padding_strategy, truncation_strategy, max_length, stride, is_split_into_words, pad_to_multiple_of, return_tensors, return_token_type_ids, return_attention_mask, return_overflowing_tokens, return_special_tokens_mask, return_offsets_mapping, return_length, verbose)\u001b[0m\n\u001b[1;32m    495\u001b[0m \u001b[38;5;66;03m# Set the truncation and padding strategy and restore the initial configuration\u001b[39;00m\n\u001b[1;32m    496\u001b[0m \u001b[38;5;28mself\u001b[39m\u001b[38;5;241m.\u001b[39mset_truncation_and_padding(\n\u001b[1;32m    497\u001b[0m     padding_strategy\u001b[38;5;241m=\u001b[39mpadding_strategy,\n\u001b[1;32m    498\u001b[0m     truncation_strategy\u001b[38;5;241m=\u001b[39mtruncation_strategy,\n\u001b[0;32m   (...)\u001b[0m\n\u001b[1;32m    501\u001b[0m     pad_to_multiple_of\u001b[38;5;241m=\u001b[39mpad_to_multiple_of,\n\u001b[1;32m    502\u001b[0m )\n\u001b[0;32m--> 504\u001b[0m encodings \u001b[38;5;241m=\u001b[39m \u001b[38;5;28;43mself\u001b[39;49m\u001b[38;5;241;43m.\u001b[39;49m\u001b[43m_tokenizer\u001b[49m\u001b[38;5;241;43m.\u001b[39;49m\u001b[43mencode_batch\u001b[49m\u001b[43m(\u001b[49m\n\u001b[1;32m    505\u001b[0m \u001b[43m    \u001b[49m\u001b[43mbatch_text_or_text_pairs\u001b[49m\u001b[43m,\u001b[49m\n\u001b[1;32m    506\u001b[0m \u001b[43m    \u001b[49m\u001b[43madd_special_tokens\u001b[49m\u001b[38;5;241;43m=\u001b[39;49m\u001b[43madd_special_tokens\u001b[49m\u001b[43m,\u001b[49m\n\u001b[1;32m    507\u001b[0m \u001b[43m    \u001b[49m\u001b[43mis_pretokenized\u001b[49m\u001b[38;5;241;43m=\u001b[39;49m\u001b[43mis_split_into_words\u001b[49m\u001b[43m,\u001b[49m\n\u001b[1;32m    508\u001b[0m \u001b[43m\u001b[49m\u001b[43m)\u001b[49m\n\u001b[1;32m    510\u001b[0m \u001b[38;5;66;03m# Convert encoding to dict\u001b[39;00m\n\u001b[1;32m    511\u001b[0m \u001b[38;5;66;03m# `Tokens` has type: Tuple[\u001b[39;00m\n\u001b[1;32m    512\u001b[0m \u001b[38;5;66;03m#                       List[Dict[str, List[List[int]]]] or List[Dict[str, 2D-Tensor]],\u001b[39;00m\n\u001b[1;32m    513\u001b[0m \u001b[38;5;66;03m#                       List[EncodingFast]\u001b[39;00m\n\u001b[1;32m    514\u001b[0m \u001b[38;5;66;03m#                    ]\u001b[39;00m\n\u001b[1;32m    515\u001b[0m \u001b[38;5;66;03m# with nested dimensions corresponding to batch, overflows, sequence length\u001b[39;00m\n\u001b[1;32m    516\u001b[0m tokens_and_encodings \u001b[38;5;241m=\u001b[39m [\n\u001b[1;32m    517\u001b[0m     \u001b[38;5;28mself\u001b[39m\u001b[38;5;241m.\u001b[39m_convert_encoding(\n\u001b[1;32m    518\u001b[0m         encoding\u001b[38;5;241m=\u001b[39mencoding,\n\u001b[0;32m   (...)\u001b[0m\n\u001b[1;32m    527\u001b[0m     \u001b[38;5;28;01mfor\u001b[39;00m encoding \u001b[38;5;129;01min\u001b[39;00m encodings\n\u001b[1;32m    528\u001b[0m ]\n",
      "\u001b[0;31mKeyboardInterrupt\u001b[0m: "
     ]
    }
   ],
   "source": [
    "valid_dataset =preprocessing.tokenize_dataset(valid_dataset,tokenizer)"
   ]
  },
  {
   "cell_type": "code",
   "execution_count": null,
   "metadata": {},
   "outputs": [],
   "source": [
    "valid_dataset=preprocessing.grouping_dataset(valid_dataset,chunk_size)\n",
    "\n",
    "valid_dataset"
   ]
  },
  {
   "cell_type": "code",
   "execution_count": null,
   "metadata": {},
   "outputs": [],
   "source": [
    "with open(\"valid_dataset.pkl\",\"wb\") as f:\n",
    "     pickle.dump(valid_dataset,f)"
   ]
  },
  {
   "cell_type": "code",
   "execution_count": 7,
   "metadata": {},
   "outputs": [
    {
     "data": {
      "text/plain": [
       "DatasetDict({\n",
       "    valid: Dataset({\n",
       "        features: ['input_ids', 'token_type_ids', 'attention_mask', 'word_ids', 'labels'],\n",
       "        num_rows: 762794\n",
       "    })\n",
       "})"
      ]
     },
     "execution_count": 7,
     "metadata": {},
     "output_type": "execute_result"
    }
   ],
   "source": [
    "with open(\"valid_dataset.pkl\",\"rb\") as f:\n",
    "    valid_dataset= pickle.load(f)\n",
    "\n",
    "valid_dataset"
   ]
  },
  {
   "cell_type": "code",
   "execution_count": 8,
   "metadata": {},
   "outputs": [],
   "source": [
    "\n",
    "valid_dataset=valid_dataset.remove_columns([\"word_ids\",\"token_type_ids\"])"
   ]
  },
  {
   "cell_type": "code",
   "execution_count": 9,
   "metadata": {},
   "outputs": [],
   "source": [
    "data_collator = preprocessing.data_collector_masking(tokenizer,0.15)"
   ]
  },
  {
   "cell_type": "markdown",
   "metadata": {},
   "source": [
    "trial with a manual implementation"
   ]
  },
  {
   "cell_type": "code",
   "execution_count": 10,
   "metadata": {},
   "outputs": [
    {
     "name": "stdout",
     "output_type": "stream",
     "text": [
      "Dataset({\n",
      "    features: ['input_ids', 'token_type_ids', 'attention_mask', 'word_ids', 'labels'],\n",
      "    num_rows: 3663965\n",
      "})\n",
      "Dataset({\n",
      "    features: ['input_ids', 'attention_mask', 'labels'],\n",
      "    num_rows: 800106\n",
      "})\n",
      "Dataset({\n",
      "    features: ['input_ids', 'attention_mask', 'labels'],\n",
      "    num_rows: 800106\n",
      "})\n"
     ]
    }
   ],
   "source": [
    "print(lm_datasets[\"train\"])\n",
    "\n",
    "lm_dataset_bis = lm_datasets.remove_columns([\"word_ids\",\"token_type_ids\"])\n",
    "\n",
    "print(lm_dataset_bis[\"test\"])\n",
    "eval_dataset = preprocessing.create_deterministic_eval_dataset(lm_dataset_bis[\"test\"],data_collator)\n",
    "valid_dataset=preprocessing.create_deterministic_eval_dataset(valid_dataset[\"valid\"],data_collator)\n",
    "\n",
    "print(eval_dataset)"
   ]
  },
  {
   "cell_type": "code",
   "execution_count": 11,
   "metadata": {},
   "outputs": [
    {
     "name": "stdout",
     "output_type": "stream",
     "text": [
      "ok\n",
      "ok\n",
      "Dataset({\n",
      "    features: ['input_ids', 'attention_mask', 'labels'],\n",
      "    num_rows: 800106\n",
      "})\n"
     ]
    }
   ],
   "source": [
    "batch_size = 64\n",
    "train_dataloader = preprocessing.create_dataloader(lm_dataset_bis[\"train\"],batch_size,data_collator)\n",
    "def to_device(batch):\n",
    "    return {key: value.to(device) for key, value in batch.items()}\n",
    "\n",
    "print(\"ok\")\n",
    "eval_dataloader = preprocessing.create_dataloader(eval_dataset,batch_size,default_data_collator)\n",
    "valid_dataloader=preprocessing.create_dataloader(valid_dataset,batch_size,default_data_collator)\n",
    "print(\"ok\")\n",
    "\n",
    "#for batch in train_dataloader:\n",
    "    #batch = to_device(batch)\n",
    "\n",
    "#for batch in eval_dataloader:\n",
    "    #batch = to_device(batch)\n",
    "\n",
    "\n",
    "\n",
    "\n",
    "print(eval_dataloader.dataset)"
   ]
  },
  {
   "cell_type": "code",
   "execution_count": 22,
   "metadata": {},
   "outputs": [],
   "source": [
    "from transformers import PreTrainedTokenizerFast\n",
    "\n",
    "swerick_tokenizer= PreTrainedTokenizerFast(\n",
    "    tokenizer_file=\"/home/laurinemeier/swerick/pretraining_from_scratch/tokenizer_swerick.json\",\n",
    "    unk_token=\"[UNK]\",\n",
    "    pad_token=\"[PAD]\",\n",
    "    cls_token=\"[CLS]\",\n",
    "    sep_token=\"[SEP]\",\n",
    "    mask_token=\"[MASK]\"\n",
    ")"
   ]
  },
  {
   "cell_type": "code",
   "execution_count": 23,
   "metadata": {},
   "outputs": [
    {
     "name": "stderr",
     "output_type": "stream",
     "text": [
      "/home/laurinemeier/.cache/huggingface/modules/transformers_modules/checkpoint-841424/bert_layers.py:177: UserWarning: Unable to import Triton; defaulting MosaicBERT attention implementation to pytorch (this will reduce throughput when using this model).\n",
      "  warnings.warn(\n"
     ]
    }
   ],
   "source": [
    "import transformers\n",
    "config = transformers.BertConfig.from_pretrained(\"pretraining_from_scratch/checkpoint-841424\")\n",
    "mosaicBert = AutoModelForMaskedLM.from_pretrained(\"pretraining_from_scratch/checkpoint-841424\",config=config,trust_remote_code=True)"
   ]
  },
  {
   "cell_type": "code",
   "execution_count": 65,
   "metadata": {},
   "outputs": [
    {
     "data": {
      "text/plain": [
       "[{'score': 0.051451172679662704,\n",
       "  'token': 2550,\n",
       "  'token_str': 'Johansson',\n",
       "  'sequence': 'Hey Johansson'},\n",
       " {'score': 0.036675550043582916,\n",
       "  'token': 7826,\n",
       "  'token_str': 'Ekman',\n",
       "  'sequence': 'Hey Ekman'},\n",
       " {'score': 0.024931393563747406,\n",
       "  'token': 10683,\n",
       "  'token_str': 'Gustafson',\n",
       "  'sequence': 'Hey Gustafson'},\n",
       " {'score': 0.020839007571339607,\n",
       "  'token': 1458,\n",
       "  'token_str': 'Stockholm',\n",
       "  'sequence': 'Hey Stockholm'},\n",
       " {'score': 0.013345717452466488,\n",
       "  'token': 34491,\n",
       "  'token_str': 'Vällingby',\n",
       "  'sequence': 'Hey Vällingby'}]"
      ]
     },
     "execution_count": 65,
     "metadata": {},
     "output_type": "execute_result"
    }
   ],
   "source": [
    "from transformers import pipeline\n",
    "pipe = pipeline(task=\"fill-mask\", model=mosaicBert, tokenizer=swerick_tokenizer)\n",
    "pipe(\"Hey [MASK]\")"
   ]
  },
  {
   "cell_type": "code",
   "execution_count": null,
   "metadata": {},
   "outputs": [],
   "source": [
    "model_long=AutoModelForMaskedLM.from_pretrained(\"./finetuning_hugging-finetuned-imdb/checkpoint-259384\")\n",
    "model_long=model_long.to(\"cpu\")"
   ]
  },
  {
   "cell_type": "code",
   "execution_count": null,
   "metadata": {},
   "outputs": [],
   "source": [
    "model=AutoModelForMaskedLM.from_pretrained(\"./test_model\")\n",
    "model=model.to(\"cpu\")"
   ]
  },
  {
   "cell_type": "code",
   "execution_count": 12,
   "metadata": {},
   "outputs": [],
   "source": [
    "model_hugging_face = AutoModelForMaskedLM.from_pretrained(\"finetuning_hugging_whitespace_bis-finetuned-imdb/checkpoint-973250\")\n",
    "model_hugging_face=model_hugging_face.to(device)"
   ]
  },
  {
   "cell_type": "code",
   "execution_count": 21,
   "metadata": {},
   "outputs": [],
   "source": [
    "model_hugging_face2 = AutoModelForMaskedLM.from_pretrained(\"finetuning/finetuning_hugging_whitespace-finetuned-imdb/checkpoint-5782250\")\n",
    "model_hugging_face2=model_hugging_face2.to(device)"
   ]
  },
  {
   "cell_type": "code",
   "execution_count": 16,
   "metadata": {},
   "outputs": [
    {
     "name": "stderr",
     "output_type": "stream",
     "text": [
      "Some weights of the model checkpoint at KBLab/bert-base-swedish-cased were not used when initializing BertForMaskedLM: ['bert.pooler.dense.bias', 'bert.pooler.dense.weight']\n",
      "- This IS expected if you are initializing BertForMaskedLM from the checkpoint of a model trained on another task or with another architecture (e.g. initializing a BertForSequenceClassification model from a BertForPreTraining model).\n",
      "- This IS NOT expected if you are initializing BertForMaskedLM from the checkpoint of a model that you expect to be exactly identical (initializing a BertForSequenceClassification model from a BertForSequenceClassification model).\n"
     ]
    }
   ],
   "source": [
    "model_kb=AutoModelForMaskedLM.from_pretrained(model_checkpoint)\n",
    "model_kb=model_kb.to(device)"
   ]
  },
  {
   "cell_type": "code",
   "execution_count": 30,
   "metadata": {},
   "outputs": [
    {
     "data": {
      "text/plain": [
       "DatasetDict({\n",
       "    valid: Dataset({\n",
       "        features: ['input_ids', 'token_type_ids', 'attention_mask', 'word_ids', 'labels'],\n",
       "        num_rows: 762794\n",
       "    })\n",
       "})"
      ]
     },
     "execution_count": 30,
     "metadata": {},
     "output_type": "execute_result"
    }
   ],
   "source": []
  },
  {
   "cell_type": "code",
   "execution_count": 32,
   "metadata": {},
   "outputs": [],
   "source": [
    "valid_data = preprocessing.tokenize_dataset(valid_dataset,swerick_tokenizer)\n",
    "valid_data = preprocessing.grouping_dataset(valid_data,128)"
   ]
  },
  {
   "cell_type": "code",
   "execution_count": 33,
   "metadata": {},
   "outputs": [
    {
     "data": {
      "text/plain": [
       "DatasetDict({\n",
       "    valid: Dataset({\n",
       "        features: ['input_ids', 'token_type_ids', 'attention_mask', 'word_ids', 'labels'],\n",
       "        num_rows: 706758\n",
       "    })\n",
       "})"
      ]
     },
     "execution_count": 33,
     "metadata": {},
     "output_type": "execute_result"
    }
   ],
   "source": [
    "valid_data"
   ]
  },
  {
   "cell_type": "code",
   "execution_count": 34,
   "metadata": {},
   "outputs": [],
   "source": [
    "with open(\"valid_scratch.pkl\",\"wb\") as f :\n",
    "    pickle.dump(valid_data,f)"
   ]
  },
  {
   "cell_type": "code",
   "execution_count": 35,
   "metadata": {},
   "outputs": [],
   "source": [
    "with open(\"valid_scratch.pkl\",\"rb\") as f :\n",
    "    valid_data = pickle.load(f)"
   ]
  },
  {
   "cell_type": "code",
   "execution_count": 36,
   "metadata": {},
   "outputs": [
    {
     "name": "stderr",
     "output_type": "stream",
     "text": [
      "Map: 100%|██████████| 706758/706758 [02:28<00:00, 4753.01 examples/s]\n"
     ]
    }
   ],
   "source": [
    "data_collector =preprocessing.data_collector_masking(swerick_tokenizer,0.15)\n",
    "valid_data = valid_data.remove_columns([\"word_ids\",\"token_type_ids\"])\n",
    "valid_scratch_loader =preprocessing.create_deterministic_eval_dataset(valid_data[\"valid\"],data_collator)\n",
    "valid_scratch_loader =preprocessing.create_dataloader(valid_scratch_loader,64,default_data_collator)"
   ]
  },
  {
   "cell_type": "code",
   "execution_count": 13,
   "metadata": {},
   "outputs": [
    {
     "name": "stdout",
     "output_type": "stream",
     "text": [
      "Trainer evaluation....\n",
      "Manual perplexity...\n",
      " Perplexity: 2.471247117284021\n",
      "Accuracy...\n",
      "Accuracy: 0.7841822762250319\n"
     ]
    }
   ],
   "source": [
    "from evaluation.evaluation import evaluation_task\n",
    "\n",
    "#evaluation_task(model_kb,valid_scratch_loader,\"finetuning_hugging_whitespace-finetuned-imdb/checkpoint-4179250\")\n",
    "evaluation_task(model_hugging_face,valid_dataloader,\"finetuning_hugging_whitespace-finetuned-imdb/checkpoint-4179250\")"
   ]
  },
  {
   "cell_type": "code",
   "execution_count": null,
   "metadata": {},
   "outputs": [],
   "source": []
  },
  {
   "cell_type": "code",
   "execution_count": 148,
   "metadata": {},
   "outputs": [
    {
     "data": {
      "image/png": "[encoded data removed]",
      "text/plain": [
       "<Figure size 1000x700 with 1 Axes>"
      ]
     },
     "metadata": {},
     "output_type": "display_data"
    }
   ],
   "source": [
    "checkpoint_directory = 'finetuning/finetuning_hugging_whitespace-finetuned-imdb'\n",
    "checkpoint_files = os.listdir(checkpoint_directory)\n",
    "\n",
    "checkpoint_files.sort(key=lambda x: int(re.search(r'checkpoint-(\\d+)', x).group(1)))\n",
    "epoch_data = {}\n",
    "word_color = {}\n",
    "total_frequencies = {}\n",
    "initial_embeddings = model_kb.bert.embeddings.word_embeddings.weight.detach()[most_common_ids_tensor]\n",
    "colors = plt.cm.viridis(np.linspace(0, 1, 5))\n",
    "# Training loop\n",
    "epoch=4\n",
    "for checkpoint in checkpoint_files:\n",
    "    epoch +=1\n",
    "    model = AutoModelForMaskedLM.from_pretrained(\"finetuning/finetuning_hugging_whitespace-finetuned-imdb/\" + checkpoint)\n",
    "    model=model.to(device)\n",
    "    #initial_embeddings = embeddings\n",
    "    embeddings = model.bert.embeddings.word_embeddings.weight.detach()[most_common_ids_tensor]\n",
    "\n",
    "    embedding_changes = torch.norm(embeddings - initial_embeddings, dim=1)\n",
    "    \n",
    "    # Get the top 5 changes\n",
    "    _, top_indices = torch.topk(embedding_changes, 1)\n",
    "    top_words = [tokenizer.convert_ids_to_tokens(idx.item()) for idx in top_indices]\n",
    "    top_changes = embedding_changes[top_indices].tolist()\n",
    "    for word in top_words:\n",
    "            if word not in word_color:\n",
    "                word_color[word] = colors[len(word_color) % len(colors)]\n",
    "            if word not in total_frequencies :\n",
    "                total_frequencies[word] =1\n",
    "            if word  in total_frequencies :\n",
    "                total_frequencies[word] +=1\n",
    "        \n",
    "    # Store data\n",
    "    epoch_data[epoch] = list(zip(top_words, top_changes))\n",
    "\n",
    "# Plotting\n",
    "fig, ax = plt.subplots(figsize=(10, 7))\n",
    "already_labeled = set()\n",
    "for epoch in epoch_data:\n",
    "    words, changes = zip(*epoch_data[epoch])\n",
    "    if words[0] not in already_labeled:\n",
    "        ax.plot([epoch] * 1, changes, marker='o', linestyle='', markersize=10,color=word_color[words[0]],label=words[0])\n",
    "        already_labeled.add(words[0])\n",
    "    else : \n",
    "        ax.plot([epoch] * 1, changes, marker='o', linestyle='', markersize=10,color=word_color[words[0]])\n",
    "\n",
    "ax.set_xlabel('Epoch')\n",
    "ax.set_ylabel('Change in Norm of Embeddings')\n",
    "ax.set_title('Most changed word embedding by Epoch')\n",
    "ax.legend()\n",
    "plt.show()"
   ]
  },
  {
   "cell_type": "code",
   "execution_count": 141,
   "metadata": {},
   "outputs": [
    {
     "data": {
      "image/png": "[encoded data removed]",
      "text/plain": [
       "<Figure size 1000x700 with 1 Axes>"
      ]
     },
     "metadata": {},
     "output_type": "display_data"
    }
   ],
   "source": [
    "fig, ax = plt.subplots(figsize=(10, 7))\n",
    "already_labeled = set()\n",
    "for epoch in epoch_data:\n",
    "    words, changes = zip(*epoch_data[epoch])\n",
    "    if words[0] not in already_labeled:\n",
    "        ax.plot([epoch] * 1, changes, marker='o', linestyle='', markersize=10,color=word_color[words[0]],label=words[0])\n",
    "        already_labeled.add(words[0])\n",
    "    else : \n",
    "        ax.plot([epoch] * 1, changes, marker='o', linestyle='', markersize=10,color=word_color[words[0]])\n",
    "\n",
    "ax.set_xlabel('Epoch')\n",
    "ax.set_ylabel('Change in Norm of Embeddings')\n",
    "ax.set_title('Most changed word embedding by Epoch')\n",
    "ax.legend()\n",
    "plt.show()"
   ]
  },
  {
   "cell_type": "code",
   "execution_count": 91,
   "metadata": {},
   "outputs": [
    {
     "data": {
      "text/plain": [
       "{'[PAD]': 2,\n",
       " '##€': 2,\n",
       " 'läsaren': 2,\n",
       " 'sopt': 2,\n",
       " 'Sarajevo': 2,\n",
       " '##bearbetning': 2,\n",
       " 'seglare': 2,\n",
       " 'tillbaks': 2,\n",
       " '##ink': 2,\n",
       " 'minimala': 2,\n",
       " 'Jones': 2,\n",
       " 'Janeiro': 2,\n",
       " 'diagram': 2,\n",
       " 'Pontus': 2,\n",
       " '##randt': 2,\n",
       " '##stidningen': 2,\n",
       " 'Aur': 2,\n",
       " '##ämman': 2,\n",
       " 'Tru': 2,\n",
       " 'Wiv': 2,\n",
       " '##hotellet': 2,\n",
       " 'Warner': 2,\n",
       " 'förbl': 2,\n",
       " 'cellen': 2,\n",
       " 'Pojken': 2,\n",
       " 'Bash': 2,\n",
       " 'Materialet': 2,\n",
       " '[CLS]': 3,\n",
       " 'Tendens': 2,\n",
       " '##övningen': 2,\n",
       " 'hemligstäm': 2,\n",
       " '##röv': 2,\n",
       " 'Han': 2,\n",
       " '##yen': 2,\n",
       " '##ygn': 2,\n",
       " 'Brink': 2,\n",
       " 'kommunalrådet': 2,\n",
       " 'LÅNG': 2,\n",
       " 'kap': 2,\n",
       " 'dvs': 2,\n",
       " 'vitvaror': 2,\n",
       " 'milj': 2,\n",
       " 'Låg': 2,\n",
       " 'delegaterna': 2,\n",
       " '##brända': 2,\n",
       " '##uh': 2,\n",
       " 'Lausanne': 2,\n",
       " 'resp': 2,\n",
       " 'LENN': 2,\n",
       " 'Föraren': 2,\n",
       " 'ex': 2,\n",
       " '##lip': 2,\n",
       " 'belönas': 2,\n",
       " 'utställnings': 2,\n",
       " '##YM': 3,\n",
       " 'fotografi': 2,\n",
       " 'Pot': 2,\n",
       " '##påsar': 2,\n",
       " '##säng': 2,\n",
       " '##kling': 2,\n",
       " '##gicks': 2,\n",
       " 'Ana': 2,\n",
       " 'ETT': 2,\n",
       " 'RING': 2,\n",
       " 'OO': 2,\n",
       " 'Knutsson': 2,\n",
       " 'anal': 2,\n",
       " 'föd': 2,\n",
       " 'leker': 2,\n",
       " 'Gymnastik': 2,\n",
       " 'Museum': 2,\n",
       " 'Kungl': 2,\n",
       " 'Vad': 2,\n",
       " 'Mom': 2,\n",
       " 'VIL': 2,\n",
       " '##firande': 2,\n",
       " '##sstatistiken': 2,\n",
       " '786': 2,\n",
       " 'Fritiof': 2,\n",
       " 'sjökapten': 2,\n",
       " 'Barkarby': 2,\n",
       " '##lusten': 2,\n",
       " 'Eventuella': 2,\n",
       " 'Franska': 2,\n",
       " '##rees': 2,\n",
       " 'ESKIL': 2,\n",
       " 'ONS': 2,\n",
       " '##saffär': 2,\n",
       " '##GR': 2,\n",
       " 'danske': 2,\n",
       " 'marknaderna': 2,\n",
       " 'TR': 2,\n",
       " 'Yo': 2,\n",
       " '##AGE': 2,\n",
       " 'Forts': 2,\n",
       " 'fy': 2,\n",
       " 'Hyl': 2,\n",
       " 'webben': 2}"
      ]
     },
     "execution_count": 91,
     "metadata": {},
     "output_type": "execute_result"
    }
   ],
   "source": [
    "total_frequencies"
   ]
  },
  {
   "cell_type": "code",
   "execution_count": 14,
   "metadata": {},
   "outputs": [
    {
     "data": {
      "image/png": "[encoded data removed]",
      "text/plain": [
       "<Figure size 1000x500 with 1 Axes>"
      ]
     },
     "metadata": {},
     "output_type": "display_data"
    }
   ],
   "source": [
    "import json\n",
    "import matplotlib.pyplot as plt\n",
    "\n",
    "# Charger les données à partir du fichier JSON\n",
    "with open(\"finetuning/finetuning_hugging_whitespace-finetuned-imdb/checkpoint-5667750/trainer_state.json\",'r') as file :\n",
    "    data_prev=json.load(file)\n",
    "\n",
    "with open(\"finetuning_hugging_whitespace_bis-finetuned-imdb/checkpoint-973250/trainer_state.json\", 'r') as file:\n",
    "    data = json.load(file)\n",
    "\n",
    "train_loss = []\n",
    "eval_loss = []\n",
    "epoch_train = []\n",
    "epoch_test=[]\n",
    "\n",
    "for entry in data_prev['log_history']:\n",
    "    if 'loss' in entry:\n",
    "        train_loss.append(entry['loss'])\n",
    "        epoch_train.append((entry['epoch']))\n",
    "    elif 'eval_loss' in entry:\n",
    "        eval_loss.append(entry['eval_loss'])\n",
    "        epoch_test.append((entry['epoch']))\n",
    "        \n",
    "for entry in data['log_history']:\n",
    "    if 'loss' in entry:\n",
    "        train_loss.append(entry['loss'])\n",
    "        epoch_train.append((entry['epoch']))\n",
    "    elif 'eval_loss' in entry:\n",
    "        eval_loss.append(entry['eval_loss'])\n",
    "        epoch_test.append((entry['epoch']))\n",
    "\n",
    "plt.figure(figsize=(10, 5))\n",
    "plt.plot(epoch_train, train_loss, label='Training Loss', marker='o')\n",
    "plt.plot(epoch_test, eval_loss, label='Evaluation Loss', marker='o')\n",
    "plt.title('Training and Evaluation Loss over Epochs')\n",
    "plt.xlabel('Epochs')\n",
    "plt.ylabel('Loss')\n",
    "plt.legend()\n",
    "plt.grid(True)\n",
    "plt.show()"
   ]
  },
  {
   "cell_type": "code",
   "execution_count": null,
   "metadata": {},
   "outputs": [],
   "source": [
    "pad_token_id= tokenizer.pad_token_id\n",
    "sep_token_id = tokenizer.sep_token_id"
   ]
  },
  {
   "cell_type": "code",
   "execution_count": 45,
   "metadata": {},
   "outputs": [],
   "source": [
    "def evaluate_model_token(model,dataloader):\n",
    "    model.eval()\n",
    "    correct_pred=[]\n",
    "    incorrect_pred=[]\n",
    "\n",
    "    for batch in dataloader:\n",
    "        batch = {key: value.to(device) for key, value in batch.items()} \n",
    "        with torch.no_grad():\n",
    "            outputs=model(**batch)\n",
    "        predictions=torch.argmax(outputs.logits,dim=-1)\n",
    "        indices_tokens_masked = torch.nonzero(batch[\"labels\"] != -100, as_tuple=False)\n",
    "        correct_indices=[]\n",
    "        incorrect_indices=[]\n",
    "        for id,label in enumerate(batch[\"labels\"][indices_tokens_masked[:, 0], indices_tokens_masked[:, 1]]):\n",
    "            if label.item() == predictions[indices_tokens_masked[:, 0], indices_tokens_masked[:, 1]][id]:\n",
    "                correct_indices.append(id)\n",
    "            else :\n",
    "                incorrect_indices.append(id)\n",
    "        correct_pred.extend(batch['labels'][indices_tokens_masked[:, 0], indices_tokens_masked[:, 1]][correct_indices])\n",
    "        incorrect_pred.extend(batch['labels'][indices_tokens_masked[:, 0], indices_tokens_masked[:, 1]][incorrect_indices])\n",
    "\n",
    "    return correct_pred,incorrect_pred"
   ]
  },
  {
   "cell_type": "code",
   "execution_count": 39,
   "metadata": {},
   "outputs": [],
   "source": [
    "hugging_face_correct,hugging_face_incorrect = evaluate_model_token(model_hugging_face,valid_dataloader)"
   ]
  },
  {
   "cell_type": "code",
   "execution_count": 44,
   "metadata": {},
   "outputs": [
    {
     "data": {
      "text/plain": [
       "['+',\n",
       " '6',\n",
       " '«',\n",
       " '?',\n",
       " 'J',\n",
       " ',',\n",
       " 'å',\n",
       " 'y',\n",
       " 'ë',\n",
       " '$',\n",
       " 'E',\n",
       " 'k',\n",
       " 'U',\n",
       " 'á',\n",
       " \"'\",\n",
       " 'Y',\n",
       " 'f',\n",
       " 'w',\n",
       " '>',\n",
       " 'm',\n",
       " 'G',\n",
       " '_',\n",
       " '2',\n",
       " '&',\n",
       " 'O',\n",
       " 'n',\n",
       " 'i',\n",
       " 'ö',\n",
       " 'ä',\n",
       " 'I',\n",
       " '£',\n",
       " ':',\n",
       " '-',\n",
       " '.',\n",
       " 'd',\n",
       " 'D',\n",
       " '*',\n",
       " 'V',\n",
       " '[',\n",
       " ']',\n",
       " 'ç',\n",
       " 'A',\n",
       " 'Q',\n",
       " '!',\n",
       " 'l',\n",
       " 'K',\n",
       " 'é',\n",
       " 'h',\n",
       " 'q',\n",
       " 'à',\n",
       " 'b',\n",
       " 'T',\n",
       " 'P',\n",
       " 'c',\n",
       " 'N',\n",
       " '8',\n",
       " 'g',\n",
       " 'ü',\n",
       " '§',\n",
       " '%',\n",
       " 'L',\n",
       " 'Z',\n",
       " '=',\n",
       " 'r',\n",
       " '4',\n",
       " 'a',\n",
       " '\"',\n",
       " '#',\n",
       " '—',\n",
       " 'ã',\n",
       " ';',\n",
       " '1',\n",
       " 'W',\n",
       " 'S',\n",
       " 'É',\n",
       " 'M',\n",
       " 'H',\n",
       " 'R',\n",
       " ')',\n",
       " 'j',\n",
       " 'F',\n",
       " 'Ö',\n",
       " 'Ä',\n",
       " 'z',\n",
       " 'ø',\n",
       " '|',\n",
       " 'Å',\n",
       " '€',\n",
       " '(',\n",
       " 'è',\n",
       " 'x',\n",
       " '»',\n",
       " 'B',\n",
       " 's',\n",
       " '0',\n",
       " 'v',\n",
       " 'Ó',\n",
       " 't',\n",
       " '5',\n",
       " '<',\n",
       " 'ó',\n",
       " ' ',\n",
       " 'X',\n",
       " 'e',\n",
       " 'u',\n",
       " '9',\n",
       " '3',\n",
       " 'p',\n",
       " 'o',\n",
       " 'C',\n",
       " '/',\n",
       " '7']"
      ]
     },
     "execution_count": 44,
     "metadata": {},
     "output_type": "execute_result"
    }
   ],
   "source": [
    "hugging_face_incorrect_unique = list(set(hugging_face_incorrect))\n",
    "hugging_face_incorrect_unique\n"
   ]
  },
  {
   "cell_type": "code",
   "execution_count": 46,
   "metadata": {},
   "outputs": [],
   "source": [
    "hugging_correct,hugging_incorrect=evaluate_model_token(model_hugging_face,valid_dataloader)"
   ]
  },
  {
   "cell_type": "code",
   "execution_count": 53,
   "metadata": {},
   "outputs": [],
   "source": [
    "base_correct,base_incorrect=evaluate_model_token(model_kb,valid_dataloader)"
   ]
  },
  {
   "cell_type": "code",
   "execution_count": 54,
   "metadata": {},
   "outputs": [],
   "source": [
    "from collections import Counter\n",
    "def decoding_text(list):\n",
    "    counter = Counter(list)\n",
    "\n",
    "    # Trier les éléments par leur fréquence décroissante\n",
    "    sorted_numbers = sorted(counter.items(), key=lambda x: x[1], reverse=True)\n",
    "\n",
    "    # Extraire les chiffres triés\n",
    "    unique_sorted_numbers = [num for num, _ in sorted_numbers]\n",
    "\n",
    "    decoded_texts = []\n",
    "    for tensor in unique_sorted_numbers:\n",
    "        decoded_text = tokenizer.decode(tensor.item())\n",
    "        decoded_texts.append(decoded_text)\n",
    "    return decoded_texts"
   ]
  },
  {
   "cell_type": "code",
   "execution_count": 55,
   "metadata": {},
   "outputs": [],
   "source": [
    "decoded_base_correct = decoding_text(base_correct)\n",
    "decoded_hugging_correct = decoding_text(hugging_correct)"
   ]
  },
  {
   "cell_type": "code",
   "execution_count": 61,
   "metadata": {},
   "outputs": [
    {
     "name": "stdout",
     "output_type": "stream",
     "text": [
      "0.5899161482519455\n",
      "0.7792149671790606\n"
     ]
    }
   ],
   "source": [
    "print(len(decoded_base_correct)/(len(decoded_base_correct)+len(base_incorrect)))\n",
    "print(len(decoded_hugging_correct)/(len(decoded_hugging_correct)+len(hugging_incorrect)))"
   ]
  },
  {
   "cell_type": "code",
   "execution_count": 59,
   "metadata": {},
   "outputs": [
    {
     "name": "stdout",
     "output_type": "stream",
     "text": [
      "2078\n"
     ]
    },
    {
     "data": {
      "text/plain": [
       "['flät',\n",
       " '##oarer',\n",
       " 'FAST',\n",
       " '##tain',\n",
       " 'köttbullar',\n",
       " 'Stadens',\n",
       " '##omter',\n",
       " 'gled',\n",
       " 'Smart',\n",
       " 'Längd',\n",
       " '##vita',\n",
       " 'lättad',\n",
       " 'Up',\n",
       " 'sankt',\n",
       " '##smaskin',\n",
       " '##etecken',\n",
       " 'Eget',\n",
       " '##stjärnor',\n",
       " '##icers',\n",
       " '##bero',\n",
       " '##IER',\n",
       " '##alom',\n",
       " '##frusna',\n",
       " '##butik',\n",
       " 'invester',\n",
       " 'avsiktligt',\n",
       " '##ANN',\n",
       " 'Europat',\n",
       " 'Måndag',\n",
       " 'vandringen',\n",
       " 'that',\n",
       " 'Örgryte',\n",
       " '##ändskt',\n",
       " 'Alex',\n",
       " 'nybyggt',\n",
       " '##växel',\n",
       " '##aton',\n",
       " 'Burton',\n",
       " '##YK',\n",
       " '##ugget',\n",
       " '##artan',\n",
       " 'östern',\n",
       " 'Globen',\n",
       " 'Mood',\n",
       " '##ward',\n",
       " 'avveck',\n",
       " '##ales',\n",
       " '##avd',\n",
       " '##såsen',\n",
       " '##miral',\n",
       " 'grytan',\n",
       " 'vänskapen',\n",
       " '##harmon',\n",
       " '##ssäsongen',\n",
       " '##embl',\n",
       " 'Raf',\n",
       " 'Stein',\n",
       " 'avhandlingen',\n",
       " 'uppn',\n",
       " 'musikdirektör',\n",
       " '##ografier',\n",
       " 'trampade',\n",
       " '##less',\n",
       " 'Cirk',\n",
       " '##igan',\n",
       " '##127',\n",
       " '##oplan',\n",
       " 'Teresa',\n",
       " '##ipa',\n",
       " 'skotten',\n",
       " 'sun',\n",
       " 'mästar',\n",
       " '##sutställningen',\n",
       " 'Emilia',\n",
       " 'Österb',\n",
       " '##ävlan',\n",
       " '##skiv',\n",
       " '668',\n",
       " 'uppen',\n",
       " '##merna',\n",
       " 'gamm',\n",
       " '##rukna',\n",
       " '##lekar',\n",
       " '##gnost',\n",
       " '##oning',\n",
       " '786',\n",
       " '##provinsen',\n",
       " '749',\n",
       " 'Hopkins',\n",
       " 'GL',\n",
       " '##RF',\n",
       " 'grädd',\n",
       " 'Ambul',\n",
       " '##ätare',\n",
       " '##fönster',\n",
       " '##uvan',\n",
       " '##löpande',\n",
       " '##utex',\n",
       " '##flöj',\n",
       " 'Järvs',\n",
       " 'publikt',\n",
       " '##hett',\n",
       " 'Augusta',\n",
       " '##köttet',\n",
       " 'enl',\n",
       " 'korsar',\n",
       " 'frodas',\n",
       " 'baken',\n",
       " 'Rust',\n",
       " 'egenhändigt',\n",
       " '050',\n",
       " '##sökte',\n",
       " 'motgång',\n",
       " 'Wret',\n",
       " '##moln',\n",
       " 'deporter',\n",
       " '##spänning',\n",
       " 'nyöpp',\n",
       " '##amet',\n",
       " '##ungan',\n",
       " 'Cec',\n",
       " 'ugg',\n",
       " '##sholmen',\n",
       " 'jättelika',\n",
       " '##cia',\n",
       " 'övergiven',\n",
       " 'svängarna',\n",
       " 'Chans',\n",
       " '##66',\n",
       " '##sborgs',\n",
       " '##artor',\n",
       " '##eci',\n",
       " 'tab',\n",
       " '##unch',\n",
       " 'samlare',\n",
       " '709',\n",
       " 'Wes',\n",
       " 'Monta',\n",
       " '##skaja',\n",
       " '##ynes',\n",
       " 'Endre',\n",
       " '##sven',\n",
       " '##glöm',\n",
       " 'arbet',\n",
       " 'käng',\n",
       " '##ÖK',\n",
       " 'Wen',\n",
       " 'Petit',\n",
       " 'mv',\n",
       " '##85',\n",
       " '##analysen',\n",
       " 'tjuvarna',\n",
       " '##haus',\n",
       " 'Tell',\n",
       " '##rakten',\n",
       " 'efterträda',\n",
       " 'foton',\n",
       " '##sprin',\n",
       " '##skylt',\n",
       " 'Clar',\n",
       " 'angel',\n",
       " 'astrona',\n",
       " '##reation',\n",
       " '##attar',\n",
       " 'Rydell',\n",
       " 'Kostar',\n",
       " '##nick',\n",
       " 'Nordqvist',\n",
       " '##ktis',\n",
       " 'Hirsch',\n",
       " 'egyptiska',\n",
       " 'Bonniers',\n",
       " 'galen',\n",
       " '##edöm',\n",
       " '##ologerna',\n",
       " '##italet',\n",
       " '##lagor',\n",
       " '##ussar',\n",
       " '##ADE',\n",
       " 'illustrationer',\n",
       " 'förkn',\n",
       " 'Aut',\n",
       " '##jten',\n",
       " 'Tf',\n",
       " 'tha',\n",
       " '##mir',\n",
       " 'Klipp',\n",
       " 'Said',\n",
       " 'Kro',\n",
       " '##ther',\n",
       " 'Matts',\n",
       " '##more',\n",
       " 'Gere',\n",
       " '##hjulet',\n",
       " 'Reyn',\n",
       " 'Eskilst',\n",
       " 'Philadelphia',\n",
       " 'klostret',\n",
       " '##järna',\n",
       " 'Ander',\n",
       " '##makaren',\n",
       " 'Friday',\n",
       " '##hos',\n",
       " 'äkten',\n",
       " 'Orm',\n",
       " '##nette',\n",
       " 'krigar',\n",
       " 'knän',\n",
       " '755',\n",
       " 'välplanerade',\n",
       " 'Db',\n",
       " '##skontakt',\n",
       " 'krama',\n",
       " 'misstänktes',\n",
       " 'Peters',\n",
       " '##kvällen',\n",
       " 'Stephen',\n",
       " 'kvarstod',\n",
       " '##rädgården',\n",
       " 'ingivas',\n",
       " '##ässan',\n",
       " 'daghemmet',\n",
       " '##rockar',\n",
       " '##ION',\n",
       " '##artjänsten',\n",
       " '##cirkel',\n",
       " 'backarna',\n",
       " 'Chansen',\n",
       " 'protestantiska',\n",
       " 'soul',\n",
       " 'AIK',\n",
       " 'made',\n",
       " '##fester',\n",
       " '##Sk',\n",
       " 'Valborg',\n",
       " '##minen',\n",
       " '##sgar',\n",
       " '##räffande',\n",
       " 'Vit',\n",
       " '##52',\n",
       " '##ofog',\n",
       " 'lättskött',\n",
       " '757',\n",
       " '##yrkom',\n",
       " 'Alexis',\n",
       " 'puff',\n",
       " 'insänd',\n",
       " 'Lang',\n",
       " 'hektiska',\n",
       " '##IEN',\n",
       " 'kista',\n",
       " '##ÅR',\n",
       " 'bister',\n",
       " '##saft',\n",
       " '##anch',\n",
       " '##smästaren',\n",
       " '##ippen',\n",
       " 'intermezz',\n",
       " 'tjugofem',\n",
       " 'aw',\n",
       " '##smatch',\n",
       " 'bokstä',\n",
       " 'Hedem',\n",
       " '##ankt',\n",
       " 'torra',\n",
       " '##ublic',\n",
       " 'lagets',\n",
       " 'BEK',\n",
       " 'brittiskt',\n",
       " '##ertig',\n",
       " 'Förresten',\n",
       " 'tav',\n",
       " '##estation',\n",
       " '##aså',\n",
       " '##icia',\n",
       " 'irländ',\n",
       " '##värr',\n",
       " 'Smör',\n",
       " '##edrag',\n",
       " 'bortglömda',\n",
       " 'administ',\n",
       " '##bloms',\n",
       " 'nedanstående',\n",
       " '##eley',\n",
       " '##åkare',\n",
       " 'käns',\n",
       " '##jerg',\n",
       " '##bbats',\n",
       " 'doc',\n",
       " 'formuleras',\n",
       " '##ronic',\n",
       " 'Google',\n",
       " 'font',\n",
       " '##leverantör',\n",
       " '##stadt',\n",
       " 'envis',\n",
       " '##agat',\n",
       " 'Bean',\n",
       " '##finnas',\n",
       " 'reag',\n",
       " 'aman',\n",
       " '##andagen',\n",
       " 'Palmer',\n",
       " 'braskamin',\n",
       " 'lår',\n",
       " 'befordrades',\n",
       " '##sker',\n",
       " '##eled',\n",
       " '##EET',\n",
       " '##ollar',\n",
       " 'Silv',\n",
       " '##ornet',\n",
       " '##sutställningar',\n",
       " 'Barcelona',\n",
       " 'kyr',\n",
       " '##hålet',\n",
       " 'Stenson',\n",
       " 'Takt',\n",
       " 'Freeman',\n",
       " 'Hallström',\n",
       " '##ÅNG',\n",
       " 'Cop',\n",
       " 'Ping',\n",
       " '##igenom',\n",
       " '##anas',\n",
       " 'andades',\n",
       " '##ifik',\n",
       " 'People',\n",
       " '##uel',\n",
       " '##öjt',\n",
       " 'Stenbeck',\n",
       " '##itteringen',\n",
       " 'tillbehör',\n",
       " '##skara',\n",
       " 'fle',\n",
       " 'Pool',\n",
       " '##eig',\n",
       " 'BAK',\n",
       " '##smiljön',\n",
       " 'Maja',\n",
       " 'Limhamn',\n",
       " 'Palmgren',\n",
       " '##fisken',\n",
       " 'äkt',\n",
       " 'Jes',\n",
       " 'sjunk',\n",
       " 'Corp',\n",
       " '##skommunikation',\n",
       " '##yle',\n",
       " 'Solv',\n",
       " '##ogie',\n",
       " '##östra',\n",
       " 'Kronprinsessan',\n",
       " 'Filmen',\n",
       " '##karlen',\n",
       " '##amo',\n",
       " 'skakande',\n",
       " 'tyget',\n",
       " '##ucka',\n",
       " 'katoliker',\n",
       " '##198',\n",
       " '##itos',\n",
       " 'häd',\n",
       " '##useets',\n",
       " 'Hew',\n",
       " '##rond',\n",
       " '##åverkan',\n",
       " '##imerat',\n",
       " '##repren',\n",
       " 'Eneby',\n",
       " 'präktig',\n",
       " '##eker',\n",
       " '##ures',\n",
       " 'plattan',\n",
       " '712',\n",
       " '##ÖS',\n",
       " '##plattor',\n",
       " 'Grat',\n",
       " '##rader',\n",
       " '##ettes',\n",
       " 'Ps',\n",
       " '##179',\n",
       " 'Tåget',\n",
       " '##ioter',\n",
       " '##spis',\n",
       " 'Rivière',\n",
       " 'Ces',\n",
       " 'Dana',\n",
       " 'Ond',\n",
       " 'barnvänligt',\n",
       " '##stidningen',\n",
       " 'Bjerk',\n",
       " 'Sat',\n",
       " '##iren',\n",
       " 'Osa',\n",
       " 'karri',\n",
       " 'försvunnen',\n",
       " '##ember',\n",
       " 'Häcken',\n",
       " '##uddar',\n",
       " '##olika',\n",
       " 'Fridhem',\n",
       " 'påpek',\n",
       " '##vänder',\n",
       " '##sleden',\n",
       " 'tillträd',\n",
       " '##lir',\n",
       " '##ejo',\n",
       " 'Lönneberga',\n",
       " '##ansök',\n",
       " '##andar',\n",
       " 'Out',\n",
       " 'Mort',\n",
       " '##iansen',\n",
       " '##liss',\n",
       " 'Häl',\n",
       " 'sekunden',\n",
       " '##talien',\n",
       " '##någ',\n",
       " '##lay',\n",
       " '##NING',\n",
       " 'EFTER',\n",
       " '##zzo',\n",
       " '##akes',\n",
       " 'Ladd',\n",
       " '##ply',\n",
       " '##veriet',\n",
       " 'uppsatser',\n",
       " 'Hipp',\n",
       " '##skytt',\n",
       " 'Hud',\n",
       " 'djär',\n",
       " '##ville',\n",
       " '##skjuten',\n",
       " 'vap',\n",
       " 'Beat',\n",
       " 'Skicka',\n",
       " 'Jones',\n",
       " '##gäst',\n",
       " '##lum',\n",
       " 'Snäll',\n",
       " 'Lagerbäck',\n",
       " 'Tjugo',\n",
       " '##43',\n",
       " 'Corn',\n",
       " 'Anläggningen',\n",
       " 'Stellan',\n",
       " '##Ne',\n",
       " '##spur',\n",
       " '##mart',\n",
       " 'Fart',\n",
       " '##segling',\n",
       " 'Dell',\n",
       " 'Bremen',\n",
       " '##150',\n",
       " '##aug',\n",
       " '##hyllor',\n",
       " '##steater',\n",
       " '##järt',\n",
       " '##svall',\n",
       " 'tänd',\n",
       " 'skutt',\n",
       " 'italienare',\n",
       " 'Kurserna',\n",
       " 'Hyre',\n",
       " 'välkom',\n",
       " '##ove',\n",
       " '##haw',\n",
       " 'kick',\n",
       " 'Argent',\n",
       " '##sfallet',\n",
       " 'Bent',\n",
       " '##rass',\n",
       " 'tredjepar',\n",
       " 'Ou',\n",
       " 'summerar',\n",
       " '##giro',\n",
       " '##lipper',\n",
       " '##lish',\n",
       " '##ardin',\n",
       " 'vetemjöl',\n",
       " '724',\n",
       " 'massage',\n",
       " '##umb',\n",
       " 'omdiskuterade',\n",
       " 'Kaf',\n",
       " '##emoni',\n",
       " 'rodd',\n",
       " 'ML',\n",
       " '##antas',\n",
       " '##geln',\n",
       " '##iaden',\n",
       " '##holt',\n",
       " '##128',\n",
       " '##Marie',\n",
       " '##musiker',\n",
       " '##grenska',\n",
       " 'Mimi',\n",
       " '##mässa',\n",
       " '##skyddade',\n",
       " 'månadskostnad',\n",
       " 'lagas',\n",
       " 'befint',\n",
       " '##ative',\n",
       " 'Dubb',\n",
       " '##producent',\n",
       " 'Nicar',\n",
       " 'olag',\n",
       " 'VÄST',\n",
       " 'handpenning',\n",
       " 'bätt',\n",
       " '##Ü',\n",
       " '##sponden',\n",
       " 'put',\n",
       " '##eper',\n",
       " 'Contin',\n",
       " 'illustr',\n",
       " 'arb',\n",
       " '##alagen',\n",
       " 'Reb',\n",
       " '##infar',\n",
       " 'Mild',\n",
       " 'Bomb',\n",
       " 'maskerad',\n",
       " 'lekfull',\n",
       " '##sbär',\n",
       " '##hol',\n",
       " '##atel',\n",
       " '##enc',\n",
       " '##arek',\n",
       " 'Jok',\n",
       " '##administrativa',\n",
       " 'express',\n",
       " '##efer',\n",
       " '##OCK',\n",
       " 'Zamb',\n",
       " 'Fut',\n",
       " 'Lap',\n",
       " 'förkunskaper',\n",
       " 'koma',\n",
       " 'Lennartsson',\n",
       " '##61',\n",
       " 'MODER',\n",
       " '##erman',\n",
       " 'soft',\n",
       " 'hits',\n",
       " 'spricker',\n",
       " '##säcken',\n",
       " '##emellan',\n",
       " 'Eger',\n",
       " '##orge',\n",
       " '##ningskort',\n",
       " 'motvind',\n",
       " 'livssyn',\n",
       " 'INGEN',\n",
       " 'Kerr',\n",
       " '##176',\n",
       " 'byrås',\n",
       " '##ivan',\n",
       " 'återfanns',\n",
       " 'ubåten',\n",
       " 'omöj',\n",
       " '##boden',\n",
       " '##RING',\n",
       " 'jubil',\n",
       " 'Lug',\n",
       " 'Mey',\n",
       " 'Dix',\n",
       " '##ulo',\n",
       " '##ustens',\n",
       " '##ATA',\n",
       " '##ylvan',\n",
       " 'Vågar',\n",
       " 'Toronto',\n",
       " 'Söndagar',\n",
       " '##onerande',\n",
       " '##skod',\n",
       " '##bytare',\n",
       " 'Södert',\n",
       " 'Jylland',\n",
       " '##burn',\n",
       " '##atu',\n",
       " '##OP',\n",
       " '##illo',\n",
       " 'avbröt',\n",
       " 'Wass',\n",
       " '##götlands',\n",
       " 'skärmen',\n",
       " 'sw',\n",
       " 'à',\n",
       " '##ugården',\n",
       " '##smottag',\n",
       " '##histor',\n",
       " '##deman',\n",
       " '##701',\n",
       " '##kamraten',\n",
       " '##111',\n",
       " '##klund',\n",
       " '##frik',\n",
       " '617',\n",
       " 'Mak',\n",
       " '##kir',\n",
       " '##ruvorna',\n",
       " 'Sura',\n",
       " 'Greg',\n",
       " 'Milles',\n",
       " 'Rus',\n",
       " '##oil',\n",
       " 'Vett',\n",
       " '##estra',\n",
       " '##SKOL',\n",
       " '##183',\n",
       " 'Hedvig',\n",
       " '595',\n",
       " 'FBI',\n",
       " 'segt',\n",
       " '##isto',\n",
       " 'rådgiv',\n",
       " '##pelet',\n",
       " '##samhäll',\n",
       " '##gärderna',\n",
       " 'musklerna',\n",
       " '##ierark',\n",
       " 'skålar',\n",
       " '##uvud',\n",
       " 'Long',\n",
       " '##ungarna',\n",
       " 'estetiskt',\n",
       " '##brö',\n",
       " 'Wag',\n",
       " '##bjudna',\n",
       " '##äckar',\n",
       " 'ÅLDER',\n",
       " 'kombin',\n",
       " 'Skytt',\n",
       " '##efull',\n",
       " 'dad',\n",
       " 'Love',\n",
       " 'potten',\n",
       " 'Inside',\n",
       " '##oule',\n",
       " 'Nordmakedonien',\n",
       " '##onius',\n",
       " '##imb',\n",
       " 'serve',\n",
       " 'Hid',\n",
       " 'berättelserna',\n",
       " 'slar',\n",
       " '##fota',\n",
       " 'Riss',\n",
       " '##ph',\n",
       " '##omy',\n",
       " 'kantonen',\n",
       " 'måltiden',\n",
       " '##204',\n",
       " 'Jokkm',\n",
       " '##engar',\n",
       " '##papperen',\n",
       " '##Ol',\n",
       " 'Haj',\n",
       " 'Deb',\n",
       " '##stick',\n",
       " '##IAL',\n",
       " '##skuponger',\n",
       " '##villa',\n",
       " 'Kontoret',\n",
       " 'Lyd',\n",
       " 'strip',\n",
       " 'Food',\n",
       " '##smäk',\n",
       " 'Sov',\n",
       " '##cl',\n",
       " '##gal',\n",
       " 'sås',\n",
       " 'Joachim',\n",
       " '##84',\n",
       " 'allmäng',\n",
       " '##omagasin',\n",
       " 'komedi',\n",
       " 'CNN',\n",
       " 'likvidator',\n",
       " '##sim',\n",
       " '##ellertid',\n",
       " '##tendenten',\n",
       " 'Trea',\n",
       " '##305',\n",
       " 'Steen',\n",
       " '##ertz',\n",
       " 'China',\n",
       " '##illen',\n",
       " '##imir',\n",
       " 'Nanny',\n",
       " '##såker',\n",
       " 'tul',\n",
       " 'kompisarna',\n",
       " '##kören',\n",
       " '##spapper',\n",
       " '##nöj',\n",
       " '##CKER',\n",
       " 'Sep',\n",
       " 'fans',\n",
       " '##ubbar',\n",
       " 'Sandhamn',\n",
       " '##cel',\n",
       " 'Jann',\n",
       " 'Broman',\n",
       " '##fire',\n",
       " '##fulle',\n",
       " 'BIL',\n",
       " 'Mari',\n",
       " '##urg',\n",
       " '##unkten',\n",
       " 'action',\n",
       " '##abs',\n",
       " 'Lagercrantz',\n",
       " 'Turt',\n",
       " '##hild',\n",
       " 'Bellman',\n",
       " '##åster',\n",
       " '##inom',\n",
       " 'inrikt',\n",
       " '##96',\n",
       " '##sfören',\n",
       " '##bads',\n",
       " 'Storg',\n",
       " '##republik',\n",
       " 'illustrerade',\n",
       " '##rövar',\n",
       " '##vällen',\n",
       " 'sydväst',\n",
       " '##nik',\n",
       " 'romantisk',\n",
       " 'konser',\n",
       " '##lägret',\n",
       " '##rain',\n",
       " 'Petrus',\n",
       " 'Sophia',\n",
       " 'soffan',\n",
       " 'festa',\n",
       " '##gänget',\n",
       " 'Dog',\n",
       " '##hästarna',\n",
       " 'hort',\n",
       " 'ip',\n",
       " '##SF',\n",
       " 'Stack',\n",
       " 'Lee',\n",
       " '##HJ',\n",
       " '##senter',\n",
       " '##laine',\n",
       " 'ostad',\n",
       " '##BERGS',\n",
       " '##UF',\n",
       " '##emaskin',\n",
       " 'Eventuella',\n",
       " 'Pear',\n",
       " 'MC',\n",
       " 'Gené',\n",
       " '##benen',\n",
       " '##avdelningens',\n",
       " 'Typ',\n",
       " 'inneh',\n",
       " 'giftet',\n",
       " '##idag',\n",
       " '754',\n",
       " '##bety',\n",
       " 'Herceg',\n",
       " 'Was',\n",
       " '##denna',\n",
       " 'uttagningen',\n",
       " '##hållna',\n",
       " '##installationer',\n",
       " 'Loh',\n",
       " 'präg',\n",
       " '##hoppet',\n",
       " '##56',\n",
       " '##ight',\n",
       " 'ledningsm',\n",
       " '##keberg',\n",
       " 'blund',\n",
       " '##hood',\n",
       " '##annen',\n",
       " 'Sein',\n",
       " 'Hustrun',\n",
       " 'Gård',\n",
       " 'Sle',\n",
       " '##heden',\n",
       " 'förkyld',\n",
       " '##enet',\n",
       " '##svagnar',\n",
       " '##snack',\n",
       " '##smaskiner',\n",
       " '##END',\n",
       " '##weiz',\n",
       " 'Mind',\n",
       " '##svägarna',\n",
       " 'jurid',\n",
       " 'kora',\n",
       " 'Gården',\n",
       " '##raste',\n",
       " 'pas',\n",
       " 'Musta',\n",
       " '##splanet',\n",
       " 'Gid',\n",
       " 'tår',\n",
       " 'Lend',\n",
       " 'råttor',\n",
       " 'Bollen',\n",
       " 'Bend',\n",
       " 'härlig',\n",
       " '##skärmar',\n",
       " '##sext',\n",
       " 'Jö',\n",
       " 'klingar',\n",
       " 'Cram',\n",
       " '##card',\n",
       " 'las',\n",
       " 'Great',\n",
       " '##ated',\n",
       " 'ound',\n",
       " 'Western',\n",
       " 'samhällskrit',\n",
       " 'dol',\n",
       " '##57',\n",
       " '##scenter',\n",
       " '##ÄD',\n",
       " 'Torn',\n",
       " 'Järvsö',\n",
       " 'Sha',\n",
       " '##dos',\n",
       " 'VIL',\n",
       " 'spär',\n",
       " 'minn',\n",
       " '##skoncernen',\n",
       " 'grenarna',\n",
       " 'Chil',\n",
       " 'grin',\n",
       " 'framlidne',\n",
       " '##46',\n",
       " 'välfört',\n",
       " 'Sop',\n",
       " '##orama',\n",
       " '##£',\n",
       " '##rique',\n",
       " 'grotta',\n",
       " '##ael',\n",
       " 'Bolibompa',\n",
       " 'Fordringar',\n",
       " 'distansen',\n",
       " 'Mich',\n",
       " '##ovskij',\n",
       " '##blandningen',\n",
       " 'dist',\n",
       " 'varumärket',\n",
       " 'José',\n",
       " 'Kille',\n",
       " 'färgad',\n",
       " 'Stol',\n",
       " '##wal',\n",
       " 'strateg',\n",
       " '##IX',\n",
       " 'sopp',\n",
       " '##uger',\n",
       " '##brän',\n",
       " 'prover',\n",
       " '##historier',\n",
       " 'Pur',\n",
       " '##ffin',\n",
       " 'Församlingen',\n",
       " '##göt',\n",
       " '##Q',\n",
       " 'Bianca',\n",
       " '##68',\n",
       " 'Pic',\n",
       " 'Alto',\n",
       " 'Ups',\n",
       " 'slal',\n",
       " '##91',\n",
       " 'föred',\n",
       " 'Vardags',\n",
       " '##fattare',\n",
       " 'Anfall',\n",
       " '##etti',\n",
       " '##chin',\n",
       " 'prem',\n",
       " '##iday',\n",
       " 'Vax',\n",
       " '##ynda',\n",
       " 'litter',\n",
       " 'proport',\n",
       " 'hipp',\n",
       " '##49',\n",
       " 'Betydligt',\n",
       " 'dödens',\n",
       " 'MEN',\n",
       " '##usar',\n",
       " '740',\n",
       " 'Pel',\n",
       " '##omer',\n",
       " 'Stadsbyggnad',\n",
       " '##emit',\n",
       " 'hörna',\n",
       " '##anmälan',\n",
       " '##aled',\n",
       " '##elsystem',\n",
       " 'gult',\n",
       " 'förhören',\n",
       " 'bölja',\n",
       " 'Gammel',\n",
       " '##urar',\n",
       " 'Lägenhet',\n",
       " 'Kajsa',\n",
       " '##sutrymmen',\n",
       " '##ilding',\n",
       " 'inarbetad',\n",
       " 'spöken',\n",
       " '##ries',\n",
       " '##skrafter',\n",
       " 'Utsikt',\n",
       " 'Aber',\n",
       " '##manland',\n",
       " '##huvudstaden',\n",
       " '##andas',\n",
       " '##rael',\n",
       " '##beln',\n",
       " '##iné',\n",
       " '##skägg',\n",
       " 'orgeln',\n",
       " 'Känd',\n",
       " '##fruar',\n",
       " '##ilas',\n",
       " 'äm',\n",
       " 'tackat',\n",
       " '##bd',\n",
       " 'Mellby',\n",
       " 'Kabel',\n",
       " 'Fleming',\n",
       " '##seln',\n",
       " 'nyförvär',\n",
       " 'markt',\n",
       " 'ordn',\n",
       " '##teckningar',\n",
       " '##rekvensen',\n",
       " '##uper',\n",
       " '##ersätt',\n",
       " '##irl',\n",
       " 'Abram',\n",
       " 'Reich',\n",
       " '##snatur',\n",
       " 'LEJON',\n",
       " 'TINGS',\n",
       " 'Lju',\n",
       " 'Indust',\n",
       " '##iblioteken',\n",
       " '##ädje',\n",
       " 'Boko',\n",
       " 'lagerb',\n",
       " '##aljer',\n",
       " 'rätter',\n",
       " 'vim',\n",
       " 'folkdans',\n",
       " 'Force',\n",
       " '##jobbet',\n",
       " '##301',\n",
       " '##qu',\n",
       " 'Allen',\n",
       " '##årsju',\n",
       " 'gass',\n",
       " '##artid',\n",
       " '##unken',\n",
       " '##haninge',\n",
       " 'Cruz',\n",
       " '##reporter',\n",
       " 'mart',\n",
       " 'förmed',\n",
       " 'illamående',\n",
       " '##ydde',\n",
       " 'Vänner',\n",
       " '##122',\n",
       " '##götland',\n",
       " 'Vass',\n",
       " '##ötte',\n",
       " '##ELSE',\n",
       " '##abliss',\n",
       " 'sjöutsikt',\n",
       " '##isar',\n",
       " 'årtion',\n",
       " 'skåde',\n",
       " 'RAD',\n",
       " 'king',\n",
       " 'Tam',\n",
       " '##ón',\n",
       " '##chn',\n",
       " '##sgat',\n",
       " 'Nyår',\n",
       " 'fingert',\n",
       " '##alender',\n",
       " 'källar',\n",
       " '##bow',\n",
       " 'dalen',\n",
       " ...]"
      ]
     },
     "execution_count": 59,
     "metadata": {},
     "output_type": "execute_result"
    }
   ],
   "source": [
    "good_tokens = list(set(decoded_hugging_correct)-set(decoded_base_correct))\n",
    "print(len(good_tokens))\n",
    "good_tokens"
   ]
  },
  {
   "cell_type": "code",
   "execution_count": 41,
   "metadata": {},
   "outputs": [],
   "source": [
    "max_length=128"
   ]
  },
  {
   "cell_type": "code",
   "execution_count": 46,
   "metadata": {},
   "outputs": [],
   "source": [
    "def insert_special_masking(batch,i):\n",
    "    word_ids=batch[\"word_ids\"]\n",
    " \n",
    "    masked_input_id=batch[\"input_ids\"].copy()\n",
    "    attention_mask=batch[\"attention_mask\"].copy()\n",
    " \n",
    "    labels=[[-100]*max_length]*len(batch[\"labels\"])\n",
    "    for z in range(len(masked_input_id)):\n",
    "        if batch[\"input_ids\"][z][i] ==tokenizer.pad_token_id or batch[\"input_ids\"][z][i] ==tokenizer.sep_token_id:\n",
    "            continue\n",
    "        \n",
    "        labels[z][i]=batch[\"input_ids\"][z][i]\n",
    "        masked_input_id[z][i]=tokenizer.mask_token_id\n",
    "  \n",
    "        \n",
    "        word=tokenizer.decode(batch[\"input_ids\"][z][i])\n",
    "   \n",
    "        future_token=[j for j,_ in enumerate(word_ids[z]) if word_ids[z][j]==word_ids[z][i] and j>i]\n",
    "\n",
    "        for j in future_token:\n",
    "            labels[z][j]=batch[\"input_ids\"][z][j]\n",
    "    \n",
    "            masked_input_id[z][j]=tokenizer.mask_token_id\n",
    "           \n",
    "\n",
    "        masked_input_id[z]=np.array(masked_input_id[z])\n",
    "        attention_mask[z]=np.array(attention_mask[z])\n",
    "        labels[z]=np.array(labels[z])\n",
    "   \n",
    "    output_dict = {\"input_ids\": masked_input_id, \"attention_mask\": attention_mask, \"labels\": labels}\n",
    "    \n",
    "    return {k: v for k, v in output_dict.items()}"
   ]
  },
  {
   "cell_type": "code",
   "execution_count": 34,
   "metadata": {},
   "outputs": [],
   "source": [
    "def insert_special_masking_bis(batch, i):\n",
    "    word_ids = batch[\"word_ids\"]\n",
    "    masked_input_id = batch[\"input_ids\"].copy()\n",
    "    attention_mask = batch[\"attention_mask\"].copy()\n",
    "    \n",
    "    labels = np.full_like(masked_input_id, -100)\n",
    "    \n",
    "    for z, seq in enumerate(masked_input_id):\n",
    "        if seq[i] == tokenizer.pad_token_id or seq[i] == tokenizer.sep_token_id:\n",
    "            continue\n",
    "        \n",
    "        labels[z, i] = seq[i]\n",
    "        masked_input_id[z][i] = tokenizer.mask_token_id\n",
    "        future_token = [j for j, _ in enumerate(word_ids[z]) if word_ids[z][j] == word_ids[z][i] and j > i]\n",
    "        \n",
    "        for j in future_token:\n",
    "            labels[z][j] = batch[\"input_ids\"][z][j]\n",
    "            masked_input_id[z][j] = tokenizer.mask_token_id\n",
    "    \n",
    "    return {\n",
    "        \"input_ids\": masked_input_id,\n",
    "        \"attention_mask\": attention_mask,\n",
    "        \"labels\": labels\n",
    "    }"
   ]
  },
  {
   "cell_type": "code",
   "execution_count": 15,
   "metadata": {},
   "outputs": [],
   "source": [
    "lm_datasets_subset = lm_datasets[\"test\"][:100]"
   ]
  },
  {
   "cell_type": "code",
   "execution_count": 63,
   "metadata": {},
   "outputs": [
    {
     "name": "stderr",
     "output_type": "stream",
     "text": [
      "Map: 100%|██████████| 100/100 [00:00<00:00, 2702.52 examples/s]\n"
     ]
    },
    {
     "name": "stdout",
     "output_type": "stream",
     "text": [
      "100\n",
      "[4, 1729, 19, 31, 1640, 4815, 2833, 353, 16027, 965, 19, 5341, 10547, 16221, 4948, 1872, 49795, 382, 31, 16282, 49808, 31133, 912, 97, 417, 29222, 2397, 19, 587, 505, 1044, 40024, 1433, 43, 9724, 320, 4815, 40384, 4280, 26700, 49791, 244, 5036, 97, 31, 4223, 2435, 16221, 49796, 52, 12747, 2316, 3817, 775, 42, 9370, 19, 400, 49808, 3217, 27, 14492, 13390, 7863, 5, 27613, 19, 181, 44884, 346, 19, 36105, 97, 466, 47750, 45355, 19, 279, 7, 734, 284, 19, 602, 13, 7, 14, 7, 40384, 4280, 26700, 49791, 26812, 97, 43, 925, 1355, 16220, 3277, 18250, 168, 3698, 26812, 40384, 1004, 228, 41050, 19, 8183, 1457, 16221, 7815, 43, 1479, 905, 19, 21561, 31339, 17808, 5, 7172, 124, 7, 144, 7, 17990, 1793, 49792, 19]\n",
      "[4, 12003, 82, 146, 21545, 5, 4815, 27037, 19, 96, 82, 3620, 1809, 49098, 11, 27944, 8183, 27, 19, 48, 10532, 22366, 43, 3534, 2112, 3292, 22742, 12141, 480, 59, 6038, 27199, 36, 59, 19141, 19, 67, 409, 29219, 42, 7351, 400, 49808, 170, 574, 12806, 3309, 48, 737, 195, 4893, 7, 299, 33334, 49796, 42737, 63, 19, 44985, 1292, 5549, 2065, 2149, 52, 13564, 41767, 49795, 19, 9632, 75, 258, 51, 49808, 2706, 19, 252, 13686, 3969, 4815, 97, 16027, 965, 19, 67, 21489, 76, 275, 211, 43240, 103, 19, 48, 102, 610, 29219, 42, 533, 481, 23980, 3095, 103, 49795, 7, 3426, 734, 2407, 117, 1030, 3945, 33695, 29647, 10698, 734, 19, 1772, 102, 19, 98, 365, 2112, 66, 527, 49808, 1073, 19, 48, 76, 549]\n",
      "[4, 4, 9729, 45321, 6936, 49796, 7048, 100, 37384, 43, 1752, 36655, 17808, 49791, 2215, 52, 204, 219, 466, 47750, 7, 26538, 7, 28660, 335, 15192, 40354, 585, 31, 21, 16354, 67, 37439, 19, 36, 11340, 36221, 147, 48, 4815, 26838, 51, 678, 12801, 19, 5271, 26119, 21, 16354, 10563, 18523, 1069, 2997, 266, 7, 299, 102, 6177, 68, 275, 7152, 199, 713, 49796, 16889, 1793, 10, 19, 48, 31, 654, 26573, 20213, 49792, 21, 16354, 102, 29219, 1221, 5196, 7816, 49795, 19, 66, 9010, 4815, 97, 1060, 19377, 19, 98, 48, 440, 2143, 6936, 19, 480, 574, 970, 457, 4815, 6061, 19, 18022, 264, 797, 43240, 12104, 605, 19, 409, 358, 30378, 48, 17343, 31, 4216, 4815, 32591, 1385, 231, 49801, 23535, 357, 32, 43, 9745, 3277]\n",
      "loss\n"
     ]
    },
    {
     "name": "stderr",
     "output_type": "stream",
     "text": [
      "Map: 100%|██████████| 100/100 [00:00<00:00, 5604.59 examples/s]\n"
     ]
    },
    {
     "name": "stdout",
     "output_type": "stream",
     "text": [
      "100\n",
      "[2, 4, 19, 31, 1640, 4815, 2833, 353, 16027, 965, 19, 5341, 10547, 16221, 4948, 1872, 49795, 382, 31, 16282, 49808, 31133, 912, 97, 417, 29222, 2397, 19, 587, 505, 1044, 40024, 1433, 43, 9724, 320, 4815, 40384, 4280, 26700, 49791, 244, 5036, 97, 31, 4223, 2435, 16221, 49796, 52, 12747, 2316, 3817, 775, 42, 9370, 19, 400, 49808, 3217, 27, 14492, 13390, 7863, 5, 27613, 19, 181, 44884, 346, 19, 36105, 97, 466, 47750, 45355, 19, 279, 7, 734, 284, 19, 602, 13, 7, 14, 7, 40384, 4280, 26700, 49791, 26812, 97, 43, 925, 1355, 16220, 3277, 18250, 168, 3698, 26812, 40384, 1004, 228, 41050, 19, 8183, 1457, 16221, 7815, 43, 1479, 905, 19, 21561, 31339, 17808, 5, 7172, 124, 7, 144, 7, 17990, 1793, 49792, 19]\n",
      "[19, 4, 82, 146, 21545, 5, 4815, 27037, 19, 96, 82, 3620, 1809, 49098, 11, 27944, 8183, 27, 19, 48, 10532, 22366, 43, 3534, 2112, 3292, 22742, 12141, 480, 59, 6038, 27199, 36, 59, 19141, 19, 67, 409, 29219, 42, 7351, 400, 49808, 170, 574, 12806, 3309, 48, 737, 195, 4893, 7, 299, 33334, 49796, 42737, 63, 19, 44985, 1292, 5549, 2065, 2149, 52, 13564, 41767, 49795, 19, 9632, 75, 258, 51, 49808, 2706, 19, 252, 13686, 3969, 4815, 97, 16027, 965, 19, 67, 21489, 76, 275, 211, 43240, 103, 19, 48, 102, 610, 29219, 42, 533, 481, 23980, 3095, 103, 49795, 7, 3426, 734, 2407, 117, 1030, 3945, 33695, 29647, 10698, 734, 19, 1772, 102, 19, 98, 365, 2112, 66, 527, 49808, 1073, 19, 48, 76, 549]\n",
      "[12756, 4, 9729, 45321, 6936, 49796, 7048, 100, 37384, 43, 1752, 36655, 17808, 49791, 2215, 52, 204, 219, 466, 47750, 7, 26538, 7, 28660, 335, 15192, 40354, 585, 31, 21, 16354, 67, 37439, 19, 36, 11340, 36221, 147, 48, 4815, 26838, 51, 678, 12801, 19, 5271, 26119, 21, 16354, 10563, 18523, 1069, 2997, 266, 7, 299, 102, 6177, 68, 275, 7152, 199, 713, 49796, 16889, 1793, 10, 19, 48, 31, 654, 26573, 20213, 49792, 21, 16354, 102, 29219, 1221, 5196, 7816, 49795, 19, 66, 9010, 4815, 97, 1060, 19377, 19, 98, 48, 440, 2143, 6936, 19, 480, 574, 970, 457, 4815, 6061, 19, 18022, 264, 797, 43240, 12104, 605, 19, 409, 358, 30378, 48, 17343, 31, 4216, 4815, 32591, 1385, 231, 49801, 23535, 357, 32, 43, 9745, 3277]\n",
      "loss\n"
     ]
    },
    {
     "name": "stderr",
     "output_type": "stream",
     "text": [
      "Map: 100%|██████████| 100/100 [00:00<00:00, 5586.82 examples/s]\n"
     ]
    },
    {
     "name": "stdout",
     "output_type": "stream",
     "text": [
      "100\n",
      "[2, 1729, 4, 31, 1640, 4815, 2833, 353, 16027, 965, 19, 5341, 10547, 16221, 4948, 1872, 49795, 382, 31, 16282, 49808, 31133, 912, 97, 417, 29222, 2397, 19, 587, 505, 1044, 40024, 1433, 43, 9724, 320, 4815, 40384, 4280, 26700, 49791, 244, 5036, 97, 31, 4223, 2435, 16221, 49796, 52, 12747, 2316, 3817, 775, 42, 9370, 19, 400, 49808, 3217, 27, 14492, 13390, 7863, 5, 27613, 19, 181, 44884, 346, 19, 36105, 97, 466, 47750, 45355, 19, 279, 7, 734, 284, 19, 602, 13, 7, 14, 7, 40384, 4280, 26700, 49791, 26812, 97, 43, 925, 1355, 16220, 3277, 18250, 168, 3698, 26812, 40384, 1004, 228, 41050, 19, 8183, 1457, 16221, 7815, 43, 1479, 905, 19, 21561, 31339, 17808, 5, 7172, 124, 7, 144, 7, 17990, 1793, 49792, 19]\n",
      "[19, 12003, 4, 146, 21545, 5, 4815, 27037, 19, 96, 82, 3620, 1809, 49098, 11, 27944, 8183, 27, 19, 48, 10532, 22366, 43, 3534, 2112, 3292, 22742, 12141, 480, 59, 6038, 27199, 36, 59, 19141, 19, 67, 409, 29219, 42, 7351, 400, 49808, 170, 574, 12806, 3309, 48, 737, 195, 4893, 7, 299, 33334, 49796, 42737, 63, 19, 44985, 1292, 5549, 2065, 2149, 52, 13564, 41767, 49795, 19, 9632, 75, 258, 51, 49808, 2706, 19, 252, 13686, 3969, 4815, 97, 16027, 965, 19, 67, 21489, 76, 275, 211, 43240, 103, 19, 48, 102, 610, 29219, 42, 533, 481, 23980, 3095, 103, 49795, 7, 3426, 734, 2407, 117, 1030, 3945, 33695, 29647, 10698, 734, 19, 1772, 102, 19, 98, 365, 2112, 66, 527, 49808, 1073, 19, 48, 76, 549]\n",
      "[12756, 147, 4, 45321, 6936, 49796, 7048, 100, 37384, 43, 1752, 36655, 17808, 49791, 2215, 52, 204, 219, 466, 47750, 7, 26538, 7, 28660, 335, 15192, 40354, 585, 31, 21, 16354, 67, 37439, 19, 36, 11340, 36221, 147, 48, 4815, 26838, 51, 678, 12801, 19, 5271, 26119, 21, 16354, 10563, 18523, 1069, 2997, 266, 7, 299, 102, 6177, 68, 275, 7152, 199, 713, 49796, 16889, 1793, 10, 19, 48, 31, 654, 26573, 20213, 49792, 21, 16354, 102, 29219, 1221, 5196, 7816, 49795, 19, 66, 9010, 4815, 97, 1060, 19377, 19, 98, 48, 440, 2143, 6936, 19, 480, 574, 970, 457, 4815, 6061, 19, 18022, 264, 797, 43240, 12104, 605, 19, 409, 358, 30378, 48, 17343, 31, 4216, 4815, 32591, 1385, 231, 49801, 23535, 357, 32, 43, 9745, 3277]\n",
      "loss\n"
     ]
    },
    {
     "name": "stderr",
     "output_type": "stream",
     "text": [
      "Map: 100%|██████████| 100/100 [00:00<00:00, 5591.06 examples/s]\n"
     ]
    },
    {
     "name": "stdout",
     "output_type": "stream",
     "text": [
      "100\n",
      "[2, 1729, 19, 4, 1640, 4815, 2833, 353, 16027, 965, 19, 5341, 10547, 16221, 4948, 1872, 49795, 382, 31, 16282, 49808, 31133, 912, 97, 417, 29222, 2397, 19, 587, 505, 1044, 40024, 1433, 43, 9724, 320, 4815, 40384, 4280, 26700, 49791, 244, 5036, 97, 31, 4223, 2435, 16221, 49796, 52, 12747, 2316, 3817, 775, 42, 9370, 19, 400, 49808, 3217, 27, 14492, 13390, 7863, 5, 27613, 19, 181, 44884, 346, 19, 36105, 97, 466, 47750, 45355, 19, 279, 7, 734, 284, 19, 602, 13, 7, 14, 7, 40384, 4280, 26700, 49791, 26812, 97, 43, 925, 1355, 16220, 3277, 18250, 168, 3698, 26812, 40384, 1004, 228, 41050, 19, 8183, 1457, 16221, 7815, 43, 1479, 905, 19, 21561, 31339, 17808, 5, 7172, 124, 7, 144, 7, 17990, 1793, 49792, 19]\n",
      "[19, 12003, 82, 4, 21545, 5, 4815, 27037, 19, 96, 82, 3620, 1809, 49098, 11, 27944, 8183, 27, 19, 48, 10532, 22366, 43, 3534, 2112, 3292, 22742, 12141, 480, 59, 6038, 27199, 36, 59, 19141, 19, 67, 409, 29219, 42, 7351, 400, 49808, 170, 574, 12806, 3309, 48, 737, 195, 4893, 7, 299, 33334, 49796, 42737, 63, 19, 44985, 1292, 5549, 2065, 2149, 52, 13564, 41767, 49795, 19, 9632, 75, 258, 51, 49808, 2706, 19, 252, 13686, 3969, 4815, 97, 16027, 965, 19, 67, 21489, 76, 275, 211, 43240, 103, 19, 48, 102, 610, 29219, 42, 533, 481, 23980, 3095, 103, 49795, 7, 3426, 734, 2407, 117, 1030, 3945, 33695, 29647, 10698, 734, 19, 1772, 102, 19, 98, 365, 2112, 66, 527, 49808, 1073, 19, 48, 76, 549]\n",
      "[12756, 147, 9729, 4, 6936, 49796, 7048, 100, 37384, 43, 1752, 36655, 17808, 49791, 2215, 52, 204, 219, 466, 47750, 7, 26538, 7, 28660, 335, 15192, 40354, 585, 31, 21, 16354, 67, 37439, 19, 36, 11340, 36221, 147, 48, 4815, 26838, 51, 678, 12801, 19, 5271, 26119, 21, 16354, 10563, 18523, 1069, 2997, 266, 7, 299, 102, 6177, 68, 275, 7152, 199, 713, 49796, 16889, 1793, 10, 19, 48, 31, 654, 26573, 20213, 49792, 21, 16354, 102, 29219, 1221, 5196, 7816, 49795, 19, 66, 9010, 4815, 97, 1060, 19377, 19, 98, 48, 440, 2143, 6936, 19, 480, 574, 970, 457, 4815, 6061, 19, 18022, 264, 797, 43240, 12104, 605, 19, 409, 358, 30378, 48, 17343, 31, 4216, 4815, 32591, 1385, 231, 49801, 23535, 357, 32, 43, 9745, 3277]\n",
      "loss\n"
     ]
    },
    {
     "name": "stderr",
     "output_type": "stream",
     "text": [
      "Map: 100%|██████████| 100/100 [00:00<00:00, 5602.12 examples/s]\n"
     ]
    },
    {
     "name": "stdout",
     "output_type": "stream",
     "text": [
      "100\n",
      "[2, 1729, 19, 31, 4, 4815, 2833, 353, 16027, 965, 19, 5341, 10547, 16221, 4948, 1872, 49795, 382, 31, 16282, 49808, 31133, 912, 97, 417, 29222, 2397, 19, 587, 505, 1044, 40024, 1433, 43, 9724, 320, 4815, 40384, 4280, 26700, 49791, 244, 5036, 97, 31, 4223, 2435, 16221, 49796, 52, 12747, 2316, 3817, 775, 42, 9370, 19, 400, 49808, 3217, 27, 14492, 13390, 7863, 5, 27613, 19, 181, 44884, 346, 19, 36105, 97, 466, 47750, 45355, 19, 279, 7, 734, 284, 19, 602, 13, 7, 14, 7, 40384, 4280, 26700, 49791, 26812, 97, 43, 925, 1355, 16220, 3277, 18250, 168, 3698, 26812, 40384, 1004, 228, 41050, 19, 8183, 1457, 16221, 7815, 43, 1479, 905, 19, 21561, 31339, 17808, 5, 7172, 124, 7, 144, 7, 17990, 1793, 49792, 19]\n",
      "[19, 12003, 82, 146, 4, 4, 4815, 27037, 19, 96, 82, 3620, 1809, 49098, 11, 27944, 8183, 27, 19, 48, 10532, 22366, 43, 3534, 2112, 3292, 22742, 12141, 480, 59, 6038, 27199, 36, 59, 19141, 19, 67, 409, 29219, 42, 7351, 400, 49808, 170, 574, 12806, 3309, 48, 737, 195, 4893, 7, 299, 33334, 49796, 42737, 63, 19, 44985, 1292, 5549, 2065, 2149, 52, 13564, 41767, 49795, 19, 9632, 75, 258, 51, 49808, 2706, 19, 252, 13686, 3969, 4815, 97, 16027, 965, 19, 67, 21489, 76, 275, 211, 43240, 103, 19, 48, 102, 610, 29219, 42, 533, 481, 23980, 3095, 103, 49795, 7, 3426, 734, 2407, 117, 1030, 3945, 33695, 29647, 10698, 734, 19, 1772, 102, 19, 98, 365, 2112, 66, 527, 49808, 1073, 19, 48, 76, 549]\n",
      "[12756, 147, 9729, 45321, 4, 4, 7048, 100, 37384, 43, 1752, 36655, 17808, 49791, 2215, 52, 204, 219, 466, 47750, 7, 26538, 7, 28660, 335, 15192, 40354, 585, 31, 21, 16354, 67, 37439, 19, 36, 11340, 36221, 147, 48, 4815, 26838, 51, 678, 12801, 19, 5271, 26119, 21, 16354, 10563, 18523, 1069, 2997, 266, 7, 299, 102, 6177, 68, 275, 7152, 199, 713, 49796, 16889, 1793, 10, 19, 48, 31, 654, 26573, 20213, 49792, 21, 16354, 102, 29219, 1221, 5196, 7816, 49795, 19, 66, 9010, 4815, 97, 1060, 19377, 19, 98, 48, 440, 2143, 6936, 19, 480, 574, 970, 457, 4815, 6061, 19, 18022, 264, 797, 43240, 12104, 605, 19, 409, 358, 30378, 48, 17343, 31, 4216, 4815, 32591, 1385, 231, 49801, 23535, 357, 32, 43, 9745, 3277]\n",
      "loss\n"
     ]
    },
    {
     "name": "stderr",
     "output_type": "stream",
     "text": [
      "Map: 100%|██████████| 100/100 [00:00<00:00, 5683.72 examples/s]\n"
     ]
    },
    {
     "name": "stdout",
     "output_type": "stream",
     "text": [
      "100\n",
      "[2, 1729, 19, 31, 1640, 4, 2833, 353, 16027, 965, 19, 5341, 10547, 16221, 4948, 1872, 49795, 382, 31, 16282, 49808, 31133, 912, 97, 417, 29222, 2397, 19, 587, 505, 1044, 40024, 1433, 43, 9724, 320, 4815, 40384, 4280, 26700, 49791, 244, 5036, 97, 31, 4223, 2435, 16221, 49796, 52, 12747, 2316, 3817, 775, 42, 9370, 19, 400, 49808, 3217, 27, 14492, 13390, 7863, 5, 27613, 19, 181, 44884, 346, 19, 36105, 97, 466, 47750, 45355, 19, 279, 7, 734, 284, 19, 602, 13, 7, 14, 7, 40384, 4280, 26700, 49791, 26812, 97, 43, 925, 1355, 16220, 3277, 18250, 168, 3698, 26812, 40384, 1004, 228, 41050, 19, 8183, 1457, 16221, 7815, 43, 1479, 905, 19, 21561, 31339, 17808, 5, 7172, 124, 7, 144, 7, 17990, 1793, 49792, 19]\n",
      "[19, 12003, 82, 146, 21545, 4, 4815, 27037, 19, 96, 82, 3620, 1809, 49098, 11, 27944, 8183, 27, 19, 48, 10532, 22366, 43, 3534, 2112, 3292, 22742, 12141, 480, 59, 6038, 27199, 36, 59, 19141, 19, 67, 409, 29219, 42, 7351, 400, 49808, 170, 574, 12806, 3309, 48, 737, 195, 4893, 7, 299, 33334, 49796, 42737, 63, 19, 44985, 1292, 5549, 2065, 2149, 52, 13564, 41767, 49795, 19, 9632, 75, 258, 51, 49808, 2706, 19, 252, 13686, 3969, 4815, 97, 16027, 965, 19, 67, 21489, 76, 275, 211, 43240, 103, 19, 48, 102, 610, 29219, 42, 533, 481, 23980, 3095, 103, 49795, 7, 3426, 734, 2407, 117, 1030, 3945, 33695, 29647, 10698, 734, 19, 1772, 102, 19, 98, 365, 2112, 66, 527, 49808, 1073, 19, 48, 76, 549]\n",
      "[12756, 147, 9729, 45321, 6936, 4, 7048, 100, 37384, 43, 1752, 36655, 17808, 49791, 2215, 52, 204, 219, 466, 47750, 7, 26538, 7, 28660, 335, 15192, 40354, 585, 31, 21, 16354, 67, 37439, 19, 36, 11340, 36221, 147, 48, 4815, 26838, 51, 678, 12801, 19, 5271, 26119, 21, 16354, 10563, 18523, 1069, 2997, 266, 7, 299, 102, 6177, 68, 275, 7152, 199, 713, 49796, 16889, 1793, 10, 19, 48, 31, 654, 26573, 20213, 49792, 21, 16354, 102, 29219, 1221, 5196, 7816, 49795, 19, 66, 9010, 4815, 97, 1060, 19377, 19, 98, 48, 440, 2143, 6936, 19, 480, 574, 970, 457, 4815, 6061, 19, 18022, 264, 797, 43240, 12104, 605, 19, 409, 358, 30378, 48, 17343, 31, 4216, 4815, 32591, 1385, 231, 49801, 23535, 357, 32, 43, 9745, 3277]\n",
      "loss\n"
     ]
    },
    {
     "name": "stderr",
     "output_type": "stream",
     "text": [
      "Map: 100%|██████████| 100/100 [00:00<00:00, 5696.38 examples/s]\n"
     ]
    },
    {
     "name": "stdout",
     "output_type": "stream",
     "text": [
      "100\n",
      "[2, 1729, 19, 31, 1640, 4815, 4, 4, 16027, 965, 19, 5341, 10547, 16221, 4948, 1872, 49795, 382, 31, 16282, 49808, 31133, 912, 97, 417, 29222, 2397, 19, 587, 505, 1044, 40024, 1433, 43, 9724, 320, 4815, 40384, 4280, 26700, 49791, 244, 5036, 97, 31, 4223, 2435, 16221, 49796, 52, 12747, 2316, 3817, 775, 42, 9370, 19, 400, 49808, 3217, 27, 14492, 13390, 7863, 5, 27613, 19, 181, 44884, 346, 19, 36105, 97, 466, 47750, 45355, 19, 279, 7, 734, 284, 19, 602, 13, 7, 14, 7, 40384, 4280, 26700, 49791, 26812, 97, 43, 925, 1355, 16220, 3277, 18250, 168, 3698, 26812, 40384, 1004, 228, 41050, 19, 8183, 1457, 16221, 7815, 43, 1479, 905, 19, 21561, 31339, 17808, 5, 7172, 124, 7, 144, 7, 17990, 1793, 49792, 19]\n",
      "[19, 12003, 82, 146, 21545, 5, 4, 27037, 19, 96, 82, 3620, 1809, 49098, 11, 27944, 8183, 27, 19, 48, 10532, 22366, 43, 3534, 2112, 3292, 22742, 12141, 480, 59, 6038, 27199, 36, 59, 19141, 19, 67, 409, 29219, 42, 7351, 400, 49808, 170, 574, 12806, 3309, 48, 737, 195, 4893, 7, 299, 33334, 49796, 42737, 63, 19, 44985, 1292, 5549, 2065, 2149, 52, 13564, 41767, 49795, 19, 9632, 75, 258, 51, 49808, 2706, 19, 252, 13686, 3969, 4815, 97, 16027, 965, 19, 67, 21489, 76, 275, 211, 43240, 103, 19, 48, 102, 610, 29219, 42, 533, 481, 23980, 3095, 103, 49795, 7, 3426, 734, 2407, 117, 1030, 3945, 33695, 29647, 10698, 734, 19, 1772, 102, 19, 98, 365, 2112, 66, 527, 49808, 1073, 19, 48, 76, 549]\n",
      "[12756, 147, 9729, 45321, 6936, 49796, 4, 100, 37384, 43, 1752, 36655, 17808, 49791, 2215, 52, 204, 219, 466, 47750, 7, 26538, 7, 28660, 335, 15192, 40354, 585, 31, 21, 16354, 67, 37439, 19, 36, 11340, 36221, 147, 48, 4815, 26838, 51, 678, 12801, 19, 5271, 26119, 21, 16354, 10563, 18523, 1069, 2997, 266, 7, 299, 102, 6177, 68, 275, 7152, 199, 713, 49796, 16889, 1793, 10, 19, 48, 31, 654, 26573, 20213, 49792, 21, 16354, 102, 29219, 1221, 5196, 7816, 49795, 19, 66, 9010, 4815, 97, 1060, 19377, 19, 98, 48, 440, 2143, 6936, 19, 480, 574, 970, 457, 4815, 6061, 19, 18022, 264, 797, 43240, 12104, 605, 19, 409, 358, 30378, 48, 17343, 31, 4216, 4815, 32591, 1385, 231, 49801, 23535, 357, 32, 43, 9745, 3277]\n",
      "loss\n"
     ]
    },
    {
     "name": "stderr",
     "output_type": "stream",
     "text": [
      "Map: 100%|██████████| 100/100 [00:00<00:00, 5445.38 examples/s]\n"
     ]
    },
    {
     "name": "stdout",
     "output_type": "stream",
     "text": [
      "100\n",
      "[2, 1729, 19, 31, 1640, 4815, 2833, 4, 16027, 965, 19, 5341, 10547, 16221, 4948, 1872, 49795, 382, 31, 16282, 49808, 31133, 912, 97, 417, 29222, 2397, 19, 587, 505, 1044, 40024, 1433, 43, 9724, 320, 4815, 40384, 4280, 26700, 49791, 244, 5036, 97, 31, 4223, 2435, 16221, 49796, 52, 12747, 2316, 3817, 775, 42, 9370, 19, 400, 49808, 3217, 27, 14492, 13390, 7863, 5, 27613, 19, 181, 44884, 346, 19, 36105, 97, 466, 47750, 45355, 19, 279, 7, 734, 284, 19, 602, 13, 7, 14, 7, 40384, 4280, 26700, 49791, 26812, 97, 43, 925, 1355, 16220, 3277, 18250, 168, 3698, 26812, 40384, 1004, 228, 41050, 19, 8183, 1457, 16221, 7815, 43, 1479, 905, 19, 21561, 31339, 17808, 5, 7172, 124, 7, 144, 7, 17990, 1793, 49792, 19]\n",
      "[19, 12003, 82, 146, 21545, 5, 4815, 4, 19, 96, 82, 3620, 1809, 49098, 11, 27944, 8183, 27, 19, 48, 10532, 22366, 43, 3534, 2112, 3292, 22742, 12141, 480, 59, 6038, 27199, 36, 59, 19141, 19, 67, 409, 29219, 42, 7351, 400, 49808, 170, 574, 12806, 3309, 48, 737, 195, 4893, 7, 299, 33334, 49796, 42737, 63, 19, 44985, 1292, 5549, 2065, 2149, 52, 13564, 41767, 49795, 19, 9632, 75, 258, 51, 49808, 2706, 19, 252, 13686, 3969, 4815, 97, 16027, 965, 19, 67, 21489, 76, 275, 211, 43240, 103, 19, 48, 102, 610, 29219, 42, 533, 481, 23980, 3095, 103, 49795, 7, 3426, 734, 2407, 117, 1030, 3945, 33695, 29647, 10698, 734, 19, 1772, 102, 19, 98, 365, 2112, 66, 527, 49808, 1073, 19, 48, 76, 549]\n",
      "[12756, 147, 9729, 45321, 6936, 49796, 7048, 4, 37384, 43, 1752, 36655, 17808, 49791, 2215, 52, 204, 219, 466, 47750, 7, 26538, 7, 28660, 335, 15192, 40354, 585, 31, 21, 16354, 67, 37439, 19, 36, 11340, 36221, 147, 48, 4815, 26838, 51, 678, 12801, 19, 5271, 26119, 21, 16354, 10563, 18523, 1069, 2997, 266, 7, 299, 102, 6177, 68, 275, 7152, 199, 713, 49796, 16889, 1793, 10, 19, 48, 31, 654, 26573, 20213, 49792, 21, 16354, 102, 29219, 1221, 5196, 7816, 49795, 19, 66, 9010, 4815, 97, 1060, 19377, 19, 98, 48, 440, 2143, 6936, 19, 480, 574, 970, 457, 4815, 6061, 19, 18022, 264, 797, 43240, 12104, 605, 19, 409, 358, 30378, 48, 17343, 31, 4216, 4815, 32591, 1385, 231, 49801, 23535, 357, 32, 43, 9745, 3277]\n",
      "loss\n"
     ]
    },
    {
     "name": "stderr",
     "output_type": "stream",
     "text": [
      "Map: 100%|██████████| 100/100 [00:00<00:00, 5550.44 examples/s]\n"
     ]
    },
    {
     "name": "stdout",
     "output_type": "stream",
     "text": [
      "100\n",
      "[2, 1729, 19, 31, 1640, 4815, 2833, 353, 4, 4, 19, 5341, 10547, 16221, 4948, 1872, 49795, 382, 31, 16282, 49808, 31133, 912, 97, 417, 29222, 2397, 19, 587, 505, 1044, 40024, 1433, 43, 9724, 320, 4815, 40384, 4280, 26700, 49791, 244, 5036, 97, 31, 4223, 2435, 16221, 49796, 52, 12747, 2316, 3817, 775, 42, 9370, 19, 400, 49808, 3217, 27, 14492, 13390, 7863, 5, 27613, 19, 181, 44884, 346, 19, 36105, 97, 466, 47750, 45355, 19, 279, 7, 734, 284, 19, 602, 13, 7, 14, 7, 40384, 4280, 26700, 49791, 26812, 97, 43, 925, 1355, 16220, 3277, 18250, 168, 3698, 26812, 40384, 1004, 228, 41050, 19, 8183, 1457, 16221, 7815, 43, 1479, 905, 19, 21561, 31339, 17808, 5, 7172, 124, 7, 144, 7, 17990, 1793, 49792, 19]\n",
      "[19, 12003, 82, 146, 21545, 5, 4815, 27037, 4, 96, 82, 3620, 1809, 49098, 11, 27944, 8183, 27, 19, 48, 10532, 22366, 43, 3534, 2112, 3292, 22742, 12141, 480, 59, 6038, 27199, 36, 59, 19141, 19, 67, 409, 29219, 42, 7351, 400, 49808, 170, 574, 12806, 3309, 48, 737, 195, 4893, 7, 299, 33334, 49796, 42737, 63, 19, 44985, 1292, 5549, 2065, 2149, 52, 13564, 41767, 49795, 19, 9632, 75, 258, 51, 49808, 2706, 19, 252, 13686, 3969, 4815, 97, 16027, 965, 19, 67, 21489, 76, 275, 211, 43240, 103, 19, 48, 102, 610, 29219, 42, 533, 481, 23980, 3095, 103, 49795, 7, 3426, 734, 2407, 117, 1030, 3945, 33695, 29647, 10698, 734, 19, 1772, 102, 19, 98, 365, 2112, 66, 527, 49808, 1073, 19, 48, 76, 549]\n",
      "[12756, 147, 9729, 45321, 6936, 49796, 7048, 100, 4, 43, 1752, 36655, 17808, 49791, 2215, 52, 204, 219, 466, 47750, 7, 26538, 7, 28660, 335, 15192, 40354, 585, 31, 21, 16354, 67, 37439, 19, 36, 11340, 36221, 147, 48, 4815, 26838, 51, 678, 12801, 19, 5271, 26119, 21, 16354, 10563, 18523, 1069, 2997, 266, 7, 299, 102, 6177, 68, 275, 7152, 199, 713, 49796, 16889, 1793, 10, 19, 48, 31, 654, 26573, 20213, 49792, 21, 16354, 102, 29219, 1221, 5196, 7816, 49795, 19, 66, 9010, 4815, 97, 1060, 19377, 19, 98, 48, 440, 2143, 6936, 19, 480, 574, 970, 457, 4815, 6061, 19, 18022, 264, 797, 43240, 12104, 605, 19, 409, 358, 30378, 48, 17343, 31, 4216, 4815, 32591, 1385, 231, 49801, 23535, 357, 32, 43, 9745, 3277]\n",
      "loss\n"
     ]
    },
    {
     "name": "stderr",
     "output_type": "stream",
     "text": [
      "Map: 100%|██████████| 100/100 [00:00<00:00, 5687.89 examples/s]\n"
     ]
    },
    {
     "name": "stdout",
     "output_type": "stream",
     "text": [
      "100\n",
      "[2, 1729, 19, 31, 1640, 4815, 2833, 353, 16027, 4, 19, 5341, 10547, 16221, 4948, 1872, 49795, 382, 31, 16282, 49808, 31133, 912, 97, 417, 29222, 2397, 19, 587, 505, 1044, 40024, 1433, 43, 9724, 320, 4815, 40384, 4280, 26700, 49791, 244, 5036, 97, 31, 4223, 2435, 16221, 49796, 52, 12747, 2316, 3817, 775, 42, 9370, 19, 400, 49808, 3217, 27, 14492, 13390, 7863, 5, 27613, 19, 181, 44884, 346, 19, 36105, 97, 466, 47750, 45355, 19, 279, 7, 734, 284, 19, 602, 13, 7, 14, 7, 40384, 4280, 26700, 49791, 26812, 97, 43, 925, 1355, 16220, 3277, 18250, 168, 3698, 26812, 40384, 1004, 228, 41050, 19, 8183, 1457, 16221, 7815, 43, 1479, 905, 19, 21561, 31339, 17808, 5, 7172, 124, 7, 144, 7, 17990, 1793, 49792, 19]\n",
      "[19, 12003, 82, 146, 21545, 5, 4815, 27037, 19, 4, 82, 3620, 1809, 49098, 11, 27944, 8183, 27, 19, 48, 10532, 22366, 43, 3534, 2112, 3292, 22742, 12141, 480, 59, 6038, 27199, 36, 59, 19141, 19, 67, 409, 29219, 42, 7351, 400, 49808, 170, 574, 12806, 3309, 48, 737, 195, 4893, 7, 299, 33334, 49796, 42737, 63, 19, 44985, 1292, 5549, 2065, 2149, 52, 13564, 41767, 49795, 19, 9632, 75, 258, 51, 49808, 2706, 19, 252, 13686, 3969, 4815, 97, 16027, 965, 19, 67, 21489, 76, 275, 211, 43240, 103, 19, 48, 102, 610, 29219, 42, 533, 481, 23980, 3095, 103, 49795, 7, 3426, 734, 2407, 117, 1030, 3945, 33695, 29647, 10698, 734, 19, 1772, 102, 19, 98, 365, 2112, 66, 527, 49808, 1073, 19, 48, 76, 549]\n",
      "[12756, 147, 9729, 45321, 6936, 49796, 7048, 100, 37384, 4, 1752, 36655, 17808, 49791, 2215, 52, 204, 219, 466, 47750, 7, 26538, 7, 28660, 335, 15192, 40354, 585, 31, 21, 16354, 67, 37439, 19, 36, 11340, 36221, 147, 48, 4815, 26838, 51, 678, 12801, 19, 5271, 26119, 21, 16354, 10563, 18523, 1069, 2997, 266, 7, 299, 102, 6177, 68, 275, 7152, 199, 713, 49796, 16889, 1793, 10, 19, 48, 31, 654, 26573, 20213, 49792, 21, 16354, 102, 29219, 1221, 5196, 7816, 49795, 19, 66, 9010, 4815, 97, 1060, 19377, 19, 98, 48, 440, 2143, 6936, 19, 480, 574, 970, 457, 4815, 6061, 19, 18022, 264, 797, 43240, 12104, 605, 19, 409, 358, 30378, 48, 17343, 31, 4216, 4815, 32591, 1385, 231, 49801, 23535, 357, 32, 43, 9745, 3277]\n",
      "loss\n"
     ]
    },
    {
     "name": "stderr",
     "output_type": "stream",
     "text": [
      "Map: 100%|██████████| 100/100 [00:00<00:00, 5720.62 examples/s]\n"
     ]
    },
    {
     "name": "stdout",
     "output_type": "stream",
     "text": [
      "100\n",
      "[2, 1729, 19, 31, 1640, 4815, 2833, 353, 16027, 965, 4, 5341, 10547, 16221, 4948, 1872, 49795, 382, 31, 16282, 49808, 31133, 912, 97, 417, 29222, 2397, 19, 587, 505, 1044, 40024, 1433, 43, 9724, 320, 4815, 40384, 4280, 26700, 49791, 244, 5036, 97, 31, 4223, 2435, 16221, 49796, 52, 12747, 2316, 3817, 775, 42, 9370, 19, 400, 49808, 3217, 27, 14492, 13390, 7863, 5, 27613, 19, 181, 44884, 346, 19, 36105, 97, 466, 47750, 45355, 19, 279, 7, 734, 284, 19, 602, 13, 7, 14, 7, 40384, 4280, 26700, 49791, 26812, 97, 43, 925, 1355, 16220, 3277, 18250, 168, 3698, 26812, 40384, 1004, 228, 41050, 19, 8183, 1457, 16221, 7815, 43, 1479, 905, 19, 21561, 31339, 17808, 5, 7172, 124, 7, 144, 7, 17990, 1793, 49792, 19]\n",
      "[19, 12003, 82, 146, 21545, 5, 4815, 27037, 19, 96, 4, 3620, 1809, 49098, 11, 27944, 8183, 27, 19, 48, 10532, 22366, 43, 3534, 2112, 3292, 22742, 12141, 480, 59, 6038, 27199, 36, 59, 19141, 19, 67, 409, 29219, 42, 7351, 400, 49808, 170, 574, 12806, 3309, 48, 737, 195, 4893, 7, 299, 33334, 49796, 42737, 63, 19, 44985, 1292, 5549, 2065, 2149, 52, 13564, 41767, 49795, 19, 9632, 75, 258, 51, 49808, 2706, 19, 252, 13686, 3969, 4815, 97, 16027, 965, 19, 67, 21489, 76, 275, 211, 43240, 103, 19, 48, 102, 610, 29219, 42, 533, 481, 23980, 3095, 103, 49795, 7, 3426, 734, 2407, 117, 1030, 3945, 33695, 29647, 10698, 734, 19, 1772, 102, 19, 98, 365, 2112, 66, 527, 49808, 1073, 19, 48, 76, 549]\n",
      "[12756, 147, 9729, 45321, 6936, 49796, 7048, 100, 37384, 43, 4, 36655, 17808, 49791, 2215, 52, 204, 219, 466, 47750, 7, 26538, 7, 28660, 335, 15192, 40354, 585, 31, 21, 16354, 67, 37439, 19, 36, 11340, 36221, 147, 48, 4815, 26838, 51, 678, 12801, 19, 5271, 26119, 21, 16354, 10563, 18523, 1069, 2997, 266, 7, 299, 102, 6177, 68, 275, 7152, 199, 713, 49796, 16889, 1793, 10, 19, 48, 31, 654, 26573, 20213, 49792, 21, 16354, 102, 29219, 1221, 5196, 7816, 49795, 19, 66, 9010, 4815, 97, 1060, 19377, 19, 98, 48, 440, 2143, 6936, 19, 480, 574, 970, 457, 4815, 6061, 19, 18022, 264, 797, 43240, 12104, 605, 19, 409, 358, 30378, 48, 17343, 31, 4216, 4815, 32591, 1385, 231, 49801, 23535, 357, 32, 43, 9745, 3277]\n",
      "loss\n"
     ]
    },
    {
     "name": "stderr",
     "output_type": "stream",
     "text": [
      "Map: 100%|██████████| 100/100 [00:00<00:00, 5705.68 examples/s]\n"
     ]
    },
    {
     "name": "stdout",
     "output_type": "stream",
     "text": [
      "100\n",
      "[2, 1729, 19, 31, 1640, 4815, 2833, 353, 16027, 965, 19, 4, 4, 16221, 4948, 1872, 49795, 382, 31, 16282, 49808, 31133, 912, 97, 417, 29222, 2397, 19, 587, 505, 1044, 40024, 1433, 43, 9724, 320, 4815, 40384, 4280, 26700, 49791, 244, 5036, 97, 31, 4223, 2435, 16221, 49796, 52, 12747, 2316, 3817, 775, 42, 9370, 19, 400, 49808, 3217, 27, 14492, 13390, 7863, 5, 27613, 19, 181, 44884, 346, 19, 36105, 97, 466, 47750, 45355, 19, 279, 7, 734, 284, 19, 602, 13, 7, 14, 7, 40384, 4280, 26700, 49791, 26812, 97, 43, 925, 1355, 16220, 3277, 18250, 168, 3698, 26812, 40384, 1004, 228, 41050, 19, 8183, 1457, 16221, 7815, 43, 1479, 905, 19, 21561, 31339, 17808, 5, 7172, 124, 7, 144, 7, 17990, 1793, 49792, 19]\n",
      "[19, 12003, 82, 146, 21545, 5, 4815, 27037, 19, 96, 82, 4, 1809, 49098, 11, 27944, 8183, 27, 19, 48, 10532, 22366, 43, 3534, 2112, 3292, 22742, 12141, 480, 59, 6038, 27199, 36, 59, 19141, 19, 67, 409, 29219, 42, 7351, 400, 49808, 170, 574, 12806, 3309, 48, 737, 195, 4893, 7, 299, 33334, 49796, 42737, 63, 19, 44985, 1292, 5549, 2065, 2149, 52, 13564, 41767, 49795, 19, 9632, 75, 258, 51, 49808, 2706, 19, 252, 13686, 3969, 4815, 97, 16027, 965, 19, 67, 21489, 76, 275, 211, 43240, 103, 19, 48, 102, 610, 29219, 42, 533, 481, 23980, 3095, 103, 49795, 7, 3426, 734, 2407, 117, 1030, 3945, 33695, 29647, 10698, 734, 19, 1772, 102, 19, 98, 365, 2112, 66, 527, 49808, 1073, 19, 48, 76, 549]\n",
      "[12756, 147, 9729, 45321, 6936, 49796, 7048, 100, 37384, 43, 1752, 4, 4, 4, 2215, 52, 204, 219, 466, 47750, 7, 26538, 7, 28660, 335, 15192, 40354, 585, 31, 21, 16354, 67, 37439, 19, 36, 11340, 36221, 147, 48, 4815, 26838, 51, 678, 12801, 19, 5271, 26119, 21, 16354, 10563, 18523, 1069, 2997, 266, 7, 299, 102, 6177, 68, 275, 7152, 199, 713, 49796, 16889, 1793, 10, 19, 48, 31, 654, 26573, 20213, 49792, 21, 16354, 102, 29219, 1221, 5196, 7816, 49795, 19, 66, 9010, 4815, 97, 1060, 19377, 19, 98, 48, 440, 2143, 6936, 19, 480, 574, 970, 457, 4815, 6061, 19, 18022, 264, 797, 43240, 12104, 605, 19, 409, 358, 30378, 48, 17343, 31, 4216, 4815, 32591, 1385, 231, 49801, 23535, 357, 32, 43, 9745, 3277]\n",
      "loss\n"
     ]
    },
    {
     "name": "stderr",
     "output_type": "stream",
     "text": [
      "Map: 100%|██████████| 100/100 [00:00<00:00, 5610.06 examples/s]\n"
     ]
    },
    {
     "name": "stdout",
     "output_type": "stream",
     "text": [
      "100\n",
      "[2, 1729, 19, 31, 1640, 4815, 2833, 353, 16027, 965, 19, 5341, 4, 16221, 4948, 1872, 49795, 382, 31, 16282, 49808, 31133, 912, 97, 417, 29222, 2397, 19, 587, 505, 1044, 40024, 1433, 43, 9724, 320, 4815, 40384, 4280, 26700, 49791, 244, 5036, 97, 31, 4223, 2435, 16221, 49796, 52, 12747, 2316, 3817, 775, 42, 9370, 19, 400, 49808, 3217, 27, 14492, 13390, 7863, 5, 27613, 19, 181, 44884, 346, 19, 36105, 97, 466, 47750, 45355, 19, 279, 7, 734, 284, 19, 602, 13, 7, 14, 7, 40384, 4280, 26700, 49791, 26812, 97, 43, 925, 1355, 16220, 3277, 18250, 168, 3698, 26812, 40384, 1004, 228, 41050, 19, 8183, 1457, 16221, 7815, 43, 1479, 905, 19, 21561, 31339, 17808, 5, 7172, 124, 7, 144, 7, 17990, 1793, 49792, 19]\n",
      "[19, 12003, 82, 146, 21545, 5, 4815, 27037, 19, 96, 82, 3620, 4, 4, 4, 27944, 8183, 27, 19, 48, 10532, 22366, 43, 3534, 2112, 3292, 22742, 12141, 480, 59, 6038, 27199, 36, 59, 19141, 19, 67, 409, 29219, 42, 7351, 400, 49808, 170, 574, 12806, 3309, 48, 737, 195, 4893, 7, 299, 33334, 49796, 42737, 63, 19, 44985, 1292, 5549, 2065, 2149, 52, 13564, 41767, 49795, 19, 9632, 75, 258, 51, 49808, 2706, 19, 252, 13686, 3969, 4815, 97, 16027, 965, 19, 67, 21489, 76, 275, 211, 43240, 103, 19, 48, 102, 610, 29219, 42, 533, 481, 23980, 3095, 103, 49795, 7, 3426, 734, 2407, 117, 1030, 3945, 33695, 29647, 10698, 734, 19, 1772, 102, 19, 98, 365, 2112, 66, 527, 49808, 1073, 19, 48, 76, 549]\n",
      "[12756, 147, 9729, 45321, 6936, 49796, 7048, 100, 37384, 43, 1752, 36655, 4, 4, 2215, 52, 204, 219, 466, 47750, 7, 26538, 7, 28660, 335, 15192, 40354, 585, 31, 21, 16354, 67, 37439, 19, 36, 11340, 36221, 147, 48, 4815, 26838, 51, 678, 12801, 19, 5271, 26119, 21, 16354, 10563, 18523, 1069, 2997, 266, 7, 299, 102, 6177, 68, 275, 7152, 199, 713, 49796, 16889, 1793, 10, 19, 48, 31, 654, 26573, 20213, 49792, 21, 16354, 102, 29219, 1221, 5196, 7816, 49795, 19, 66, 9010, 4815, 97, 1060, 19377, 19, 98, 48, 440, 2143, 6936, 19, 480, 574, 970, 457, 4815, 6061, 19, 18022, 264, 797, 43240, 12104, 605, 19, 409, 358, 30378, 48, 17343, 31, 4216, 4815, 32591, 1385, 231, 49801, 23535, 357, 32, 43, 9745, 3277]\n",
      "loss\n"
     ]
    },
    {
     "name": "stderr",
     "output_type": "stream",
     "text": [
      "Map: 100%|██████████| 100/100 [00:00<00:00, 5627.14 examples/s]\n"
     ]
    },
    {
     "name": "stdout",
     "output_type": "stream",
     "text": [
      "100\n",
      "[2, 1729, 19, 31, 1640, 4815, 2833, 353, 16027, 965, 19, 5341, 10547, 4, 4948, 1872, 49795, 382, 31, 16282, 49808, 31133, 912, 97, 417, 29222, 2397, 19, 587, 505, 1044, 40024, 1433, 43, 9724, 320, 4815, 40384, 4280, 26700, 49791, 244, 5036, 97, 31, 4223, 2435, 16221, 49796, 52, 12747, 2316, 3817, 775, 42, 9370, 19, 400, 49808, 3217, 27, 14492, 13390, 7863, 5, 27613, 19, 181, 44884, 346, 19, 36105, 97, 466, 47750, 45355, 19, 279, 7, 734, 284, 19, 602, 13, 7, 14, 7, 40384, 4280, 26700, 49791, 26812, 97, 43, 925, 1355, 16220, 3277, 18250, 168, 3698, 26812, 40384, 1004, 228, 41050, 19, 8183, 1457, 16221, 7815, 43, 1479, 905, 19, 21561, 31339, 17808, 5, 7172, 124, 7, 144, 7, 17990, 1793, 49792, 19]\n",
      "[19, 12003, 82, 146, 21545, 5, 4815, 27037, 19, 96, 82, 3620, 1809, 4, 4, 27944, 8183, 27, 19, 48, 10532, 22366, 43, 3534, 2112, 3292, 22742, 12141, 480, 59, 6038, 27199, 36, 59, 19141, 19, 67, 409, 29219, 42, 7351, 400, 49808, 170, 574, 12806, 3309, 48, 737, 195, 4893, 7, 299, 33334, 49796, 42737, 63, 19, 44985, 1292, 5549, 2065, 2149, 52, 13564, 41767, 49795, 19, 9632, 75, 258, 51, 49808, 2706, 19, 252, 13686, 3969, 4815, 97, 16027, 965, 19, 67, 21489, 76, 275, 211, 43240, 103, 19, 48, 102, 610, 29219, 42, 533, 481, 23980, 3095, 103, 49795, 7, 3426, 734, 2407, 117, 1030, 3945, 33695, 29647, 10698, 734, 19, 1772, 102, 19, 98, 365, 2112, 66, 527, 49808, 1073, 19, 48, 76, 549]\n",
      "[12756, 147, 9729, 45321, 6936, 49796, 7048, 100, 37384, 43, 1752, 36655, 17808, 4, 2215, 52, 204, 219, 466, 47750, 7, 26538, 7, 28660, 335, 15192, 40354, 585, 31, 21, 16354, 67, 37439, 19, 36, 11340, 36221, 147, 48, 4815, 26838, 51, 678, 12801, 19, 5271, 26119, 21, 16354, 10563, 18523, 1069, 2997, 266, 7, 299, 102, 6177, 68, 275, 7152, 199, 713, 49796, 16889, 1793, 10, 19, 48, 31, 654, 26573, 20213, 49792, 21, 16354, 102, 29219, 1221, 5196, 7816, 49795, 19, 66, 9010, 4815, 97, 1060, 19377, 19, 98, 48, 440, 2143, 6936, 19, 480, 574, 970, 457, 4815, 6061, 19, 18022, 264, 797, 43240, 12104, 605, 19, 409, 358, 30378, 48, 17343, 31, 4216, 4815, 32591, 1385, 231, 49801, 23535, 357, 32, 43, 9745, 3277]\n",
      "loss\n"
     ]
    },
    {
     "name": "stderr",
     "output_type": "stream",
     "text": [
      "Map: 100%|██████████| 100/100 [00:00<00:00, 5496.69 examples/s]\n"
     ]
    },
    {
     "name": "stdout",
     "output_type": "stream",
     "text": [
      "100\n",
      "[2, 1729, 19, 31, 1640, 4815, 2833, 353, 16027, 965, 19, 5341, 10547, 16221, 4, 4, 4, 382, 31, 16282, 49808, 31133, 912, 97, 417, 29222, 2397, 19, 587, 505, 1044, 40024, 1433, 43, 9724, 320, 4815, 40384, 4280, 26700, 49791, 244, 5036, 97, 31, 4223, 2435, 16221, 49796, 52, 12747, 2316, 3817, 775, 42, 9370, 19, 400, 49808, 3217, 27, 14492, 13390, 7863, 5, 27613, 19, 181, 44884, 346, 19, 36105, 97, 466, 47750, 45355, 19, 279, 7, 734, 284, 19, 602, 13, 7, 14, 7, 40384, 4280, 26700, 49791, 26812, 97, 43, 925, 1355, 16220, 3277, 18250, 168, 3698, 26812, 40384, 1004, 228, 41050, 19, 8183, 1457, 16221, 7815, 43, 1479, 905, 19, 21561, 31339, 17808, 5, 7172, 124, 7, 144, 7, 17990, 1793, 49792, 19]\n",
      "[19, 12003, 82, 146, 21545, 5, 4815, 27037, 19, 96, 82, 3620, 1809, 49098, 4, 27944, 8183, 27, 19, 48, 10532, 22366, 43, 3534, 2112, 3292, 22742, 12141, 480, 59, 6038, 27199, 36, 59, 19141, 19, 67, 409, 29219, 42, 7351, 400, 49808, 170, 574, 12806, 3309, 48, 737, 195, 4893, 7, 299, 33334, 49796, 42737, 63, 19, 44985, 1292, 5549, 2065, 2149, 52, 13564, 41767, 49795, 19, 9632, 75, 258, 51, 49808, 2706, 19, 252, 13686, 3969, 4815, 97, 16027, 965, 19, 67, 21489, 76, 275, 211, 43240, 103, 19, 48, 102, 610, 29219, 42, 533, 481, 23980, 3095, 103, 49795, 7, 3426, 734, 2407, 117, 1030, 3945, 33695, 29647, 10698, 734, 19, 1772, 102, 19, 98, 365, 2112, 66, 527, 49808, 1073, 19, 48, 76, 549]\n",
      "[12756, 147, 9729, 45321, 6936, 49796, 7048, 100, 37384, 43, 1752, 36655, 17808, 49791, 4, 52, 204, 219, 466, 47750, 7, 26538, 7, 28660, 335, 15192, 40354, 585, 31, 21, 16354, 67, 37439, 19, 36, 11340, 36221, 147, 48, 4815, 26838, 51, 678, 12801, 19, 5271, 26119, 21, 16354, 10563, 18523, 1069, 2997, 266, 7, 299, 102, 6177, 68, 275, 7152, 199, 713, 49796, 16889, 1793, 10, 19, 48, 31, 654, 26573, 20213, 49792, 21, 16354, 102, 29219, 1221, 5196, 7816, 49795, 19, 66, 9010, 4815, 97, 1060, 19377, 19, 98, 48, 440, 2143, 6936, 19, 480, 574, 970, 457, 4815, 6061, 19, 18022, 264, 797, 43240, 12104, 605, 19, 409, 358, 30378, 48, 17343, 31, 4216, 4815, 32591, 1385, 231, 49801, 23535, 357, 32, 43, 9745, 3277]\n",
      "loss\n"
     ]
    },
    {
     "name": "stderr",
     "output_type": "stream",
     "text": [
      "Map: 100%|██████████| 100/100 [00:00<00:00, 5650.49 examples/s]\n"
     ]
    },
    {
     "name": "stdout",
     "output_type": "stream",
     "text": [
      "100\n",
      "[2, 1729, 19, 31, 1640, 4815, 2833, 353, 16027, 965, 19, 5341, 10547, 16221, 4948, 4, 4, 382, 31, 16282, 49808, 31133, 912, 97, 417, 29222, 2397, 19, 587, 505, 1044, 40024, 1433, 43, 9724, 320, 4815, 40384, 4280, 26700, 49791, 244, 5036, 97, 31, 4223, 2435, 16221, 49796, 52, 12747, 2316, 3817, 775, 42, 9370, 19, 400, 49808, 3217, 27, 14492, 13390, 7863, 5, 27613, 19, 181, 44884, 346, 19, 36105, 97, 466, 47750, 45355, 19, 279, 7, 734, 284, 19, 602, 13, 7, 14, 7, 40384, 4280, 26700, 49791, 26812, 97, 43, 925, 1355, 16220, 3277, 18250, 168, 3698, 26812, 40384, 1004, 228, 41050, 19, 8183, 1457, 16221, 7815, 43, 1479, 905, 19, 21561, 31339, 17808, 5, 7172, 124, 7, 144, 7, 17990, 1793, 49792, 19]\n",
      "[19, 12003, 82, 146, 21545, 5, 4815, 27037, 19, 96, 82, 3620, 1809, 49098, 11, 4, 8183, 27, 19, 48, 10532, 22366, 43, 3534, 2112, 3292, 22742, 12141, 480, 59, 6038, 27199, 36, 59, 19141, 19, 67, 409, 29219, 42, 7351, 400, 49808, 170, 574, 12806, 3309, 48, 737, 195, 4893, 7, 299, 33334, 49796, 42737, 63, 19, 44985, 1292, 5549, 2065, 2149, 52, 13564, 41767, 49795, 19, 9632, 75, 258, 51, 49808, 2706, 19, 252, 13686, 3969, 4815, 97, 16027, 965, 19, 67, 21489, 76, 275, 211, 43240, 103, 19, 48, 102, 610, 29219, 42, 533, 481, 23980, 3095, 103, 49795, 7, 3426, 734, 2407, 117, 1030, 3945, 33695, 29647, 10698, 734, 19, 1772, 102, 19, 98, 365, 2112, 66, 527, 49808, 1073, 19, 48, 76, 549]\n",
      "[12756, 147, 9729, 45321, 6936, 49796, 7048, 100, 37384, 43, 1752, 36655, 17808, 49791, 2215, 4, 204, 219, 466, 47750, 7, 26538, 7, 28660, 335, 15192, 40354, 585, 31, 21, 16354, 67, 37439, 19, 36, 11340, 36221, 147, 48, 4815, 26838, 51, 678, 12801, 19, 5271, 26119, 21, 16354, 10563, 18523, 1069, 2997, 266, 7, 299, 102, 6177, 68, 275, 7152, 199, 713, 49796, 16889, 1793, 10, 19, 48, 31, 654, 26573, 20213, 49792, 21, 16354, 102, 29219, 1221, 5196, 7816, 49795, 19, 66, 9010, 4815, 97, 1060, 19377, 19, 98, 48, 440, 2143, 6936, 19, 480, 574, 970, 457, 4815, 6061, 19, 18022, 264, 797, 43240, 12104, 605, 19, 409, 358, 30378, 48, 17343, 31, 4216, 4815, 32591, 1385, 231, 49801, 23535, 357, 32, 43, 9745, 3277]\n",
      "loss\n"
     ]
    },
    {
     "name": "stderr",
     "output_type": "stream",
     "text": [
      "Map: 100%|██████████| 100/100 [00:00<00:00, 5595.84 examples/s]\n"
     ]
    },
    {
     "name": "stdout",
     "output_type": "stream",
     "text": [
      "100\n",
      "[2, 1729, 19, 31, 1640, 4815, 2833, 353, 16027, 965, 19, 5341, 10547, 16221, 4948, 1872, 4, 382, 31, 16282, 49808, 31133, 912, 97, 417, 29222, 2397, 19, 587, 505, 1044, 40024, 1433, 43, 9724, 320, 4815, 40384, 4280, 26700, 49791, 244, 5036, 97, 31, 4223, 2435, 16221, 49796, 52, 12747, 2316, 3817, 775, 42, 9370, 19, 400, 49808, 3217, 27, 14492, 13390, 7863, 5, 27613, 19, 181, 44884, 346, 19, 36105, 97, 466, 47750, 45355, 19, 279, 7, 734, 284, 19, 602, 13, 7, 14, 7, 40384, 4280, 26700, 49791, 26812, 97, 43, 925, 1355, 16220, 3277, 18250, 168, 3698, 26812, 40384, 1004, 228, 41050, 19, 8183, 1457, 16221, 7815, 43, 1479, 905, 19, 21561, 31339, 17808, 5, 7172, 124, 7, 144, 7, 17990, 1793, 49792, 19]\n",
      "[19, 12003, 82, 146, 21545, 5, 4815, 27037, 19, 96, 82, 3620, 1809, 49098, 11, 27944, 4, 4, 19, 48, 10532, 22366, 43, 3534, 2112, 3292, 22742, 12141, 480, 59, 6038, 27199, 36, 59, 19141, 19, 67, 409, 29219, 42, 7351, 400, 49808, 170, 574, 12806, 3309, 48, 737, 195, 4893, 7, 299, 33334, 49796, 42737, 63, 19, 44985, 1292, 5549, 2065, 2149, 52, 13564, 41767, 49795, 19, 9632, 75, 258, 51, 49808, 2706, 19, 252, 13686, 3969, 4815, 97, 16027, 965, 19, 67, 21489, 76, 275, 211, 43240, 103, 19, 48, 102, 610, 29219, 42, 533, 481, 23980, 3095, 103, 49795, 7, 3426, 734, 2407, 117, 1030, 3945, 33695, 29647, 10698, 734, 19, 1772, 102, 19, 98, 365, 2112, 66, 527, 49808, 1073, 19, 48, 76, 549]\n",
      "[12756, 147, 9729, 45321, 6936, 49796, 7048, 100, 37384, 43, 1752, 36655, 17808, 49791, 2215, 52, 4, 219, 466, 47750, 7, 26538, 7, 28660, 335, 15192, 40354, 585, 31, 21, 16354, 67, 37439, 19, 36, 11340, 36221, 147, 48, 4815, 26838, 51, 678, 12801, 19, 5271, 26119, 21, 16354, 10563, 18523, 1069, 2997, 266, 7, 299, 102, 6177, 68, 275, 7152, 199, 713, 49796, 16889, 1793, 10, 19, 48, 31, 654, 26573, 20213, 49792, 21, 16354, 102, 29219, 1221, 5196, 7816, 49795, 19, 66, 9010, 4815, 97, 1060, 19377, 19, 98, 48, 440, 2143, 6936, 19, 480, 574, 970, 457, 4815, 6061, 19, 18022, 264, 797, 43240, 12104, 605, 19, 409, 358, 30378, 48, 17343, 31, 4216, 4815, 32591, 1385, 231, 49801, 23535, 357, 32, 43, 9745, 3277]\n",
      "loss\n"
     ]
    },
    {
     "name": "stderr",
     "output_type": "stream",
     "text": [
      "Map: 100%|██████████| 100/100 [00:00<00:00, 5755.40 examples/s]\n"
     ]
    },
    {
     "name": "stdout",
     "output_type": "stream",
     "text": [
      "100\n",
      "[2, 1729, 19, 31, 1640, 4815, 2833, 353, 16027, 965, 19, 5341, 10547, 16221, 4948, 1872, 49795, 4, 31, 16282, 49808, 31133, 912, 97, 417, 29222, 2397, 19, 587, 505, 1044, 40024, 1433, 43, 9724, 320, 4815, 40384, 4280, 26700, 49791, 244, 5036, 97, 31, 4223, 2435, 16221, 49796, 52, 12747, 2316, 3817, 775, 42, 9370, 19, 400, 49808, 3217, 27, 14492, 13390, 7863, 5, 27613, 19, 181, 44884, 346, 19, 36105, 97, 466, 47750, 45355, 19, 279, 7, 734, 284, 19, 602, 13, 7, 14, 7, 40384, 4280, 26700, 49791, 26812, 97, 43, 925, 1355, 16220, 3277, 18250, 168, 3698, 26812, 40384, 1004, 228, 41050, 19, 8183, 1457, 16221, 7815, 43, 1479, 905, 19, 21561, 31339, 17808, 5, 7172, 124, 7, 144, 7, 17990, 1793, 49792, 19]\n",
      "[19, 12003, 82, 146, 21545, 5, 4815, 27037, 19, 96, 82, 3620, 1809, 49098, 11, 27944, 8183, 4, 19, 48, 10532, 22366, 43, 3534, 2112, 3292, 22742, 12141, 480, 59, 6038, 27199, 36, 59, 19141, 19, 67, 409, 29219, 42, 7351, 400, 49808, 170, 574, 12806, 3309, 48, 737, 195, 4893, 7, 299, 33334, 49796, 42737, 63, 19, 44985, 1292, 5549, 2065, 2149, 52, 13564, 41767, 49795, 19, 9632, 75, 258, 51, 49808, 2706, 19, 252, 13686, 3969, 4815, 97, 16027, 965, 19, 67, 21489, 76, 275, 211, 43240, 103, 19, 48, 102, 610, 29219, 42, 533, 481, 23980, 3095, 103, 49795, 7, 3426, 734, 2407, 117, 1030, 3945, 33695, 29647, 10698, 734, 19, 1772, 102, 19, 98, 365, 2112, 66, 527, 49808, 1073, 19, 48, 76, 549]\n",
      "[12756, 147, 9729, 45321, 6936, 49796, 7048, 100, 37384, 43, 1752, 36655, 17808, 49791, 2215, 52, 204, 4, 466, 47750, 7, 26538, 7, 28660, 335, 15192, 40354, 585, 31, 21, 16354, 67, 37439, 19, 36, 11340, 36221, 147, 48, 4815, 26838, 51, 678, 12801, 19, 5271, 26119, 21, 16354, 10563, 18523, 1069, 2997, 266, 7, 299, 102, 6177, 68, 275, 7152, 199, 713, 49796, 16889, 1793, 10, 19, 48, 31, 654, 26573, 20213, 49792, 21, 16354, 102, 29219, 1221, 5196, 7816, 49795, 19, 66, 9010, 4815, 97, 1060, 19377, 19, 98, 48, 440, 2143, 6936, 19, 480, 574, 970, 457, 4815, 6061, 19, 18022, 264, 797, 43240, 12104, 605, 19, 409, 358, 30378, 48, 17343, 31, 4216, 4815, 32591, 1385, 231, 49801, 23535, 357, 32, 43, 9745, 3277]\n",
      "loss\n"
     ]
    },
    {
     "name": "stderr",
     "output_type": "stream",
     "text": [
      "Map: 100%|██████████| 100/100 [00:00<00:00, 5726.32 examples/s]\n"
     ]
    },
    {
     "name": "stdout",
     "output_type": "stream",
     "text": [
      "100\n",
      "[2, 1729, 19, 31, 1640, 4815, 2833, 353, 16027, 965, 19, 5341, 10547, 16221, 4948, 1872, 49795, 382, 4, 16282, 49808, 31133, 912, 97, 417, 29222, 2397, 19, 587, 505, 1044, 40024, 1433, 43, 9724, 320, 4815, 40384, 4280, 26700, 49791, 244, 5036, 97, 31, 4223, 2435, 16221, 49796, 52, 12747, 2316, 3817, 775, 42, 9370, 19, 400, 49808, 3217, 27, 14492, 13390, 7863, 5, 27613, 19, 181, 44884, 346, 19, 36105, 97, 466, 47750, 45355, 19, 279, 7, 734, 284, 19, 602, 13, 7, 14, 7, 40384, 4280, 26700, 49791, 26812, 97, 43, 925, 1355, 16220, 3277, 18250, 168, 3698, 26812, 40384, 1004, 228, 41050, 19, 8183, 1457, 16221, 7815, 43, 1479, 905, 19, 21561, 31339, 17808, 5, 7172, 124, 7, 144, 7, 17990, 1793, 49792, 19]\n",
      "[19, 12003, 82, 146, 21545, 5, 4815, 27037, 19, 96, 82, 3620, 1809, 49098, 11, 27944, 8183, 27, 4, 48, 10532, 22366, 43, 3534, 2112, 3292, 22742, 12141, 480, 59, 6038, 27199, 36, 59, 19141, 19, 67, 409, 29219, 42, 7351, 400, 49808, 170, 574, 12806, 3309, 48, 737, 195, 4893, 7, 299, 33334, 49796, 42737, 63, 19, 44985, 1292, 5549, 2065, 2149, 52, 13564, 41767, 49795, 19, 9632, 75, 258, 51, 49808, 2706, 19, 252, 13686, 3969, 4815, 97, 16027, 965, 19, 67, 21489, 76, 275, 211, 43240, 103, 19, 48, 102, 610, 29219, 42, 533, 481, 23980, 3095, 103, 49795, 7, 3426, 734, 2407, 117, 1030, 3945, 33695, 29647, 10698, 734, 19, 1772, 102, 19, 98, 365, 2112, 66, 527, 49808, 1073, 19, 48, 76, 549]\n",
      "[12756, 147, 9729, 45321, 6936, 49796, 7048, 100, 37384, 43, 1752, 36655, 17808, 49791, 2215, 52, 204, 219, 4, 47750, 7, 26538, 7, 28660, 335, 15192, 40354, 585, 31, 21, 16354, 67, 37439, 19, 36, 11340, 36221, 147, 48, 4815, 26838, 51, 678, 12801, 19, 5271, 26119, 21, 16354, 10563, 18523, 1069, 2997, 266, 7, 299, 102, 6177, 68, 275, 7152, 199, 713, 49796, 16889, 1793, 10, 19, 48, 31, 654, 26573, 20213, 49792, 21, 16354, 102, 29219, 1221, 5196, 7816, 49795, 19, 66, 9010, 4815, 97, 1060, 19377, 19, 98, 48, 440, 2143, 6936, 19, 480, 574, 970, 457, 4815, 6061, 19, 18022, 264, 797, 43240, 12104, 605, 19, 409, 358, 30378, 48, 17343, 31, 4216, 4815, 32591, 1385, 231, 49801, 23535, 357, 32, 43, 9745, 3277]\n",
      "loss\n"
     ]
    },
    {
     "name": "stderr",
     "output_type": "stream",
     "text": [
      "Map: 100%|██████████| 100/100 [00:00<00:00, 5668.82 examples/s]\n"
     ]
    },
    {
     "name": "stdout",
     "output_type": "stream",
     "text": [
      "100\n",
      "[2, 1729, 19, 31, 1640, 4815, 2833, 353, 16027, 965, 19, 5341, 10547, 16221, 4948, 1872, 49795, 382, 31, 4, 4, 4, 4, 97, 417, 29222, 2397, 19, 587, 505, 1044, 40024, 1433, 43, 9724, 320, 4815, 40384, 4280, 26700, 49791, 244, 5036, 97, 31, 4223, 2435, 16221, 49796, 52, 12747, 2316, 3817, 775, 42, 9370, 19, 400, 49808, 3217, 27, 14492, 13390, 7863, 5, 27613, 19, 181, 44884, 346, 19, 36105, 97, 466, 47750, 45355, 19, 279, 7, 734, 284, 19, 602, 13, 7, 14, 7, 40384, 4280, 26700, 49791, 26812, 97, 43, 925, 1355, 16220, 3277, 18250, 168, 3698, 26812, 40384, 1004, 228, 41050, 19, 8183, 1457, 16221, 7815, 43, 1479, 905, 19, 21561, 31339, 17808, 5, 7172, 124, 7, 144, 7, 17990, 1793, 49792, 19]\n",
      "[19, 12003, 82, 146, 21545, 5, 4815, 27037, 19, 96, 82, 3620, 1809, 49098, 11, 27944, 8183, 27, 19, 4, 10532, 22366, 43, 3534, 2112, 3292, 22742, 12141, 480, 59, 6038, 27199, 36, 59, 19141, 19, 67, 409, 29219, 42, 7351, 400, 49808, 170, 574, 12806, 3309, 48, 737, 195, 4893, 7, 299, 33334, 49796, 42737, 63, 19, 44985, 1292, 5549, 2065, 2149, 52, 13564, 41767, 49795, 19, 9632, 75, 258, 51, 49808, 2706, 19, 252, 13686, 3969, 4815, 97, 16027, 965, 19, 67, 21489, 76, 275, 211, 43240, 103, 19, 48, 102, 610, 29219, 42, 533, 481, 23980, 3095, 103, 49795, 7, 3426, 734, 2407, 117, 1030, 3945, 33695, 29647, 10698, 734, 19, 1772, 102, 19, 98, 365, 2112, 66, 527, 49808, 1073, 19, 48, 76, 549]\n",
      "[12756, 147, 9729, 45321, 6936, 49796, 7048, 100, 37384, 43, 1752, 36655, 17808, 49791, 2215, 52, 204, 219, 466, 4, 7, 26538, 7, 28660, 335, 15192, 40354, 585, 31, 21, 16354, 67, 37439, 19, 36, 11340, 36221, 147, 48, 4815, 26838, 51, 678, 12801, 19, 5271, 26119, 21, 16354, 10563, 18523, 1069, 2997, 266, 7, 299, 102, 6177, 68, 275, 7152, 199, 713, 49796, 16889, 1793, 10, 19, 48, 31, 654, 26573, 20213, 49792, 21, 16354, 102, 29219, 1221, 5196, 7816, 49795, 19, 66, 9010, 4815, 97, 1060, 19377, 19, 98, 48, 440, 2143, 6936, 19, 480, 574, 970, 457, 4815, 6061, 19, 18022, 264, 797, 43240, 12104, 605, 19, 409, 358, 30378, 48, 17343, 31, 4216, 4815, 32591, 1385, 231, 49801, 23535, 357, 32, 43, 9745, 3277]\n",
      "loss\n"
     ]
    },
    {
     "name": "stderr",
     "output_type": "stream",
     "text": [
      "Map: 100%|██████████| 100/100 [00:00<00:00, 5624.96 examples/s]\n"
     ]
    },
    {
     "name": "stdout",
     "output_type": "stream",
     "text": [
      "100\n",
      "[2, 1729, 19, 31, 1640, 4815, 2833, 353, 16027, 965, 19, 5341, 10547, 16221, 4948, 1872, 49795, 382, 31, 16282, 4, 4, 4, 97, 417, 29222, 2397, 19, 587, 505, 1044, 40024, 1433, 43, 9724, 320, 4815, 40384, 4280, 26700, 49791, 244, 5036, 97, 31, 4223, 2435, 16221, 49796, 52, 12747, 2316, 3817, 775, 42, 9370, 19, 400, 49808, 3217, 27, 14492, 13390, 7863, 5, 27613, 19, 181, 44884, 346, 19, 36105, 97, 466, 47750, 45355, 19, 279, 7, 734, 284, 19, 602, 13, 7, 14, 7, 40384, 4280, 26700, 49791, 26812, 97, 43, 925, 1355, 16220, 3277, 18250, 168, 3698, 26812, 40384, 1004, 228, 41050, 19, 8183, 1457, 16221, 7815, 43, 1479, 905, 19, 21561, 31339, 17808, 5, 7172, 124, 7, 144, 7, 17990, 1793, 49792, 19]\n",
      "[19, 12003, 82, 146, 21545, 5, 4815, 27037, 19, 96, 82, 3620, 1809, 49098, 11, 27944, 8183, 27, 19, 48, 4, 22366, 43, 3534, 2112, 3292, 22742, 12141, 480, 59, 6038, 27199, 36, 59, 19141, 19, 67, 409, 29219, 42, 7351, 400, 49808, 170, 574, 12806, 3309, 48, 737, 195, 4893, 7, 299, 33334, 49796, 42737, 63, 19, 44985, 1292, 5549, 2065, 2149, 52, 13564, 41767, 49795, 19, 9632, 75, 258, 51, 49808, 2706, 19, 252, 13686, 3969, 4815, 97, 16027, 965, 19, 67, 21489, 76, 275, 211, 43240, 103, 19, 48, 102, 610, 29219, 42, 533, 481, 23980, 3095, 103, 49795, 7, 3426, 734, 2407, 117, 1030, 3945, 33695, 29647, 10698, 734, 19, 1772, 102, 19, 98, 365, 2112, 66, 527, 49808, 1073, 19, 48, 76, 549]\n",
      "[12756, 147, 9729, 45321, 6936, 49796, 7048, 100, 37384, 43, 1752, 36655, 17808, 49791, 2215, 52, 204, 219, 466, 47750, 4, 26538, 7, 28660, 335, 15192, 40354, 585, 31, 21, 16354, 67, 37439, 19, 36, 11340, 36221, 147, 48, 4815, 26838, 51, 678, 12801, 19, 5271, 26119, 21, 16354, 10563, 18523, 1069, 2997, 266, 7, 299, 102, 6177, 68, 275, 7152, 199, 713, 49796, 16889, 1793, 10, 19, 48, 31, 654, 26573, 20213, 49792, 21, 16354, 102, 29219, 1221, 5196, 7816, 49795, 19, 66, 9010, 4815, 97, 1060, 19377, 19, 98, 48, 440, 2143, 6936, 19, 480, 574, 970, 457, 4815, 6061, 19, 18022, 264, 797, 43240, 12104, 605, 19, 409, 358, 30378, 48, 17343, 31, 4216, 4815, 32591, 1385, 231, 49801, 23535, 357, 32, 43, 9745, 3277]\n",
      "loss\n"
     ]
    },
    {
     "name": "stderr",
     "output_type": "stream",
     "text": [
      "Map: 100%|██████████| 100/100 [00:00<00:00, 5629.94 examples/s]\n"
     ]
    },
    {
     "name": "stdout",
     "output_type": "stream",
     "text": [
      "100\n",
      "[2, 1729, 19, 31, 1640, 4815, 2833, 353, 16027, 965, 19, 5341, 10547, 16221, 4948, 1872, 49795, 382, 31, 16282, 49808, 4, 4, 97, 417, 29222, 2397, 19, 587, 505, 1044, 40024, 1433, 43, 9724, 320, 4815, 40384, 4280, 26700, 49791, 244, 5036, 97, 31, 4223, 2435, 16221, 49796, 52, 12747, 2316, 3817, 775, 42, 9370, 19, 400, 49808, 3217, 27, 14492, 13390, 7863, 5, 27613, 19, 181, 44884, 346, 19, 36105, 97, 466, 47750, 45355, 19, 279, 7, 734, 284, 19, 602, 13, 7, 14, 7, 40384, 4280, 26700, 49791, 26812, 97, 43, 925, 1355, 16220, 3277, 18250, 168, 3698, 26812, 40384, 1004, 228, 41050, 19, 8183, 1457, 16221, 7815, 43, 1479, 905, 19, 21561, 31339, 17808, 5, 7172, 124, 7, 144, 7, 17990, 1793, 49792, 19]\n",
      "[19, 12003, 82, 146, 21545, 5, 4815, 27037, 19, 96, 82, 3620, 1809, 49098, 11, 27944, 8183, 27, 19, 48, 10532, 4, 43, 3534, 2112, 3292, 22742, 12141, 480, 59, 6038, 27199, 36, 59, 19141, 19, 67, 409, 29219, 42, 7351, 400, 49808, 170, 574, 12806, 3309, 48, 737, 195, 4893, 7, 299, 33334, 49796, 42737, 63, 19, 44985, 1292, 5549, 2065, 2149, 52, 13564, 41767, 49795, 19, 9632, 75, 258, 51, 49808, 2706, 19, 252, 13686, 3969, 4815, 97, 16027, 965, 19, 67, 21489, 76, 275, 211, 43240, 103, 19, 48, 102, 610, 29219, 42, 533, 481, 23980, 3095, 103, 49795, 7, 3426, 734, 2407, 117, 1030, 3945, 33695, 29647, 10698, 734, 19, 1772, 102, 19, 98, 365, 2112, 66, 527, 49808, 1073, 19, 48, 76, 549]\n",
      "[12756, 147, 9729, 45321, 6936, 49796, 7048, 100, 37384, 43, 1752, 36655, 17808, 49791, 2215, 52, 204, 219, 466, 47750, 7, 4, 7, 28660, 335, 15192, 40354, 585, 31, 21, 16354, 67, 37439, 19, 36, 11340, 36221, 147, 48, 4815, 26838, 51, 678, 12801, 19, 5271, 26119, 21, 16354, 10563, 18523, 1069, 2997, 266, 7, 299, 102, 6177, 68, 275, 7152, 199, 713, 49796, 16889, 1793, 10, 19, 48, 31, 654, 26573, 20213, 49792, 21, 16354, 102, 29219, 1221, 5196, 7816, 49795, 19, 66, 9010, 4815, 97, 1060, 19377, 19, 98, 48, 440, 2143, 6936, 19, 480, 574, 970, 457, 4815, 6061, 19, 18022, 264, 797, 43240, 12104, 605, 19, 409, 358, 30378, 48, 17343, 31, 4216, 4815, 32591, 1385, 231, 49801, 23535, 357, 32, 43, 9745, 3277]\n",
      "loss\n"
     ]
    },
    {
     "name": "stderr",
     "output_type": "stream",
     "text": [
      "Map: 100%|██████████| 100/100 [00:00<00:00, 5579.09 examples/s]\n"
     ]
    },
    {
     "name": "stdout",
     "output_type": "stream",
     "text": [
      "100\n",
      "[2, 1729, 19, 31, 1640, 4815, 2833, 353, 16027, 965, 19, 5341, 10547, 16221, 4948, 1872, 49795, 382, 31, 16282, 49808, 31133, 4, 97, 417, 29222, 2397, 19, 587, 505, 1044, 40024, 1433, 43, 9724, 320, 4815, 40384, 4280, 26700, 49791, 244, 5036, 97, 31, 4223, 2435, 16221, 49796, 52, 12747, 2316, 3817, 775, 42, 9370, 19, 400, 49808, 3217, 27, 14492, 13390, 7863, 5, 27613, 19, 181, 44884, 346, 19, 36105, 97, 466, 47750, 45355, 19, 279, 7, 734, 284, 19, 602, 13, 7, 14, 7, 40384, 4280, 26700, 49791, 26812, 97, 43, 925, 1355, 16220, 3277, 18250, 168, 3698, 26812, 40384, 1004, 228, 41050, 19, 8183, 1457, 16221, 7815, 43, 1479, 905, 19, 21561, 31339, 17808, 5, 7172, 124, 7, 144, 7, 17990, 1793, 49792, 19]\n",
      "[19, 12003, 82, 146, 21545, 5, 4815, 27037, 19, 96, 82, 3620, 1809, 49098, 11, 27944, 8183, 27, 19, 48, 10532, 22366, 4, 3534, 2112, 3292, 22742, 12141, 480, 59, 6038, 27199, 36, 59, 19141, 19, 67, 409, 29219, 42, 7351, 400, 49808, 170, 574, 12806, 3309, 48, 737, 195, 4893, 7, 299, 33334, 49796, 42737, 63, 19, 44985, 1292, 5549, 2065, 2149, 52, 13564, 41767, 49795, 19, 9632, 75, 258, 51, 49808, 2706, 19, 252, 13686, 3969, 4815, 97, 16027, 965, 19, 67, 21489, 76, 275, 211, 43240, 103, 19, 48, 102, 610, 29219, 42, 533, 481, 23980, 3095, 103, 49795, 7, 3426, 734, 2407, 117, 1030, 3945, 33695, 29647, 10698, 734, 19, 1772, 102, 19, 98, 365, 2112, 66, 527, 49808, 1073, 19, 48, 76, 549]\n",
      "[12756, 147, 9729, 45321, 6936, 49796, 7048, 100, 37384, 43, 1752, 36655, 17808, 49791, 2215, 52, 204, 219, 466, 47750, 7, 26538, 4, 28660, 335, 15192, 40354, 585, 31, 21, 16354, 67, 37439, 19, 36, 11340, 36221, 147, 48, 4815, 26838, 51, 678, 12801, 19, 5271, 26119, 21, 16354, 10563, 18523, 1069, 2997, 266, 7, 299, 102, 6177, 68, 275, 7152, 199, 713, 49796, 16889, 1793, 10, 19, 48, 31, 654, 26573, 20213, 49792, 21, 16354, 102, 29219, 1221, 5196, 7816, 49795, 19, 66, 9010, 4815, 97, 1060, 19377, 19, 98, 48, 440, 2143, 6936, 19, 480, 574, 970, 457, 4815, 6061, 19, 18022, 264, 797, 43240, 12104, 605, 19, 409, 358, 30378, 48, 17343, 31, 4216, 4815, 32591, 1385, 231, 49801, 23535, 357, 32, 43, 9745, 3277]\n",
      "loss\n"
     ]
    },
    {
     "name": "stderr",
     "output_type": "stream",
     "text": [
      "Map: 100%|██████████| 100/100 [00:00<00:00, 5732.12 examples/s]\n"
     ]
    },
    {
     "name": "stdout",
     "output_type": "stream",
     "text": [
      "100\n",
      "[2, 1729, 19, 31, 1640, 4815, 2833, 353, 16027, 965, 19, 5341, 10547, 16221, 4948, 1872, 49795, 382, 31, 16282, 49808, 31133, 912, 4, 417, 29222, 2397, 19, 587, 505, 1044, 40024, 1433, 43, 9724, 320, 4815, 40384, 4280, 26700, 49791, 244, 5036, 97, 31, 4223, 2435, 16221, 49796, 52, 12747, 2316, 3817, 775, 42, 9370, 19, 400, 49808, 3217, 27, 14492, 13390, 7863, 5, 27613, 19, 181, 44884, 346, 19, 36105, 97, 466, 47750, 45355, 19, 279, 7, 734, 284, 19, 602, 13, 7, 14, 7, 40384, 4280, 26700, 49791, 26812, 97, 43, 925, 1355, 16220, 3277, 18250, 168, 3698, 26812, 40384, 1004, 228, 41050, 19, 8183, 1457, 16221, 7815, 43, 1479, 905, 19, 21561, 31339, 17808, 5, 7172, 124, 7, 144, 7, 17990, 1793, 49792, 19]\n",
      "[19, 12003, 82, 146, 21545, 5, 4815, 27037, 19, 96, 82, 3620, 1809, 49098, 11, 27944, 8183, 27, 19, 48, 10532, 22366, 43, 4, 2112, 3292, 22742, 12141, 480, 59, 6038, 27199, 36, 59, 19141, 19, 67, 409, 29219, 42, 7351, 400, 49808, 170, 574, 12806, 3309, 48, 737, 195, 4893, 7, 299, 33334, 49796, 42737, 63, 19, 44985, 1292, 5549, 2065, 2149, 52, 13564, 41767, 49795, 19, 9632, 75, 258, 51, 49808, 2706, 19, 252, 13686, 3969, 4815, 97, 16027, 965, 19, 67, 21489, 76, 275, 211, 43240, 103, 19, 48, 102, 610, 29219, 42, 533, 481, 23980, 3095, 103, 49795, 7, 3426, 734, 2407, 117, 1030, 3945, 33695, 29647, 10698, 734, 19, 1772, 102, 19, 98, 365, 2112, 66, 527, 49808, 1073, 19, 48, 76, 549]\n",
      "[12756, 147, 9729, 45321, 6936, 49796, 7048, 100, 37384, 43, 1752, 36655, 17808, 49791, 2215, 52, 204, 219, 466, 47750, 7, 26538, 7, 4, 335, 15192, 40354, 585, 31, 21, 16354, 67, 37439, 19, 36, 11340, 36221, 147, 48, 4815, 26838, 51, 678, 12801, 19, 5271, 26119, 21, 16354, 10563, 18523, 1069, 2997, 266, 7, 299, 102, 6177, 68, 275, 7152, 199, 713, 49796, 16889, 1793, 10, 19, 48, 31, 654, 26573, 20213, 49792, 21, 16354, 102, 29219, 1221, 5196, 7816, 49795, 19, 66, 9010, 4815, 97, 1060, 19377, 19, 98, 48, 440, 2143, 6936, 19, 480, 574, 970, 457, 4815, 6061, 19, 18022, 264, 797, 43240, 12104, 605, 19, 409, 358, 30378, 48, 17343, 31, 4216, 4815, 32591, 1385, 231, 49801, 23535, 357, 32, 43, 9745, 3277]\n",
      "loss\n"
     ]
    },
    {
     "name": "stderr",
     "output_type": "stream",
     "text": [
      "Map: 100%|██████████| 100/100 [00:00<00:00, 5668.59 examples/s]\n"
     ]
    },
    {
     "name": "stdout",
     "output_type": "stream",
     "text": [
      "100\n",
      "[2, 1729, 19, 31, 1640, 4815, 2833, 353, 16027, 965, 19, 5341, 10547, 16221, 4948, 1872, 49795, 382, 31, 16282, 49808, 31133, 912, 97, 4, 29222, 2397, 19, 587, 505, 1044, 40024, 1433, 43, 9724, 320, 4815, 40384, 4280, 26700, 49791, 244, 5036, 97, 31, 4223, 2435, 16221, 49796, 52, 12747, 2316, 3817, 775, 42, 9370, 19, 400, 49808, 3217, 27, 14492, 13390, 7863, 5, 27613, 19, 181, 44884, 346, 19, 36105, 97, 466, 47750, 45355, 19, 279, 7, 734, 284, 19, 602, 13, 7, 14, 7, 40384, 4280, 26700, 49791, 26812, 97, 43, 925, 1355, 16220, 3277, 18250, 168, 3698, 26812, 40384, 1004, 228, 41050, 19, 8183, 1457, 16221, 7815, 43, 1479, 905, 19, 21561, 31339, 17808, 5, 7172, 124, 7, 144, 7, 17990, 1793, 49792, 19]\n",
      "[19, 12003, 82, 146, 21545, 5, 4815, 27037, 19, 96, 82, 3620, 1809, 49098, 11, 27944, 8183, 27, 19, 48, 10532, 22366, 43, 3534, 4, 3292, 22742, 12141, 480, 59, 6038, 27199, 36, 59, 19141, 19, 67, 409, 29219, 42, 7351, 400, 49808, 170, 574, 12806, 3309, 48, 737, 195, 4893, 7, 299, 33334, 49796, 42737, 63, 19, 44985, 1292, 5549, 2065, 2149, 52, 13564, 41767, 49795, 19, 9632, 75, 258, 51, 49808, 2706, 19, 252, 13686, 3969, 4815, 97, 16027, 965, 19, 67, 21489, 76, 275, 211, 43240, 103, 19, 48, 102, 610, 29219, 42, 533, 481, 23980, 3095, 103, 49795, 7, 3426, 734, 2407, 117, 1030, 3945, 33695, 29647, 10698, 734, 19, 1772, 102, 19, 98, 365, 2112, 66, 527, 49808, 1073, 19, 48, 76, 549]\n",
      "[12756, 147, 9729, 45321, 6936, 49796, 7048, 100, 37384, 43, 1752, 36655, 17808, 49791, 2215, 52, 204, 219, 466, 47750, 7, 26538, 7, 28660, 4, 15192, 40354, 585, 31, 21, 16354, 67, 37439, 19, 36, 11340, 36221, 147, 48, 4815, 26838, 51, 678, 12801, 19, 5271, 26119, 21, 16354, 10563, 18523, 1069, 2997, 266, 7, 299, 102, 6177, 68, 275, 7152, 199, 713, 49796, 16889, 1793, 10, 19, 48, 31, 654, 26573, 20213, 49792, 21, 16354, 102, 29219, 1221, 5196, 7816, 49795, 19, 66, 9010, 4815, 97, 1060, 19377, 19, 98, 48, 440, 2143, 6936, 19, 480, 574, 970, 457, 4815, 6061, 19, 18022, 264, 797, 43240, 12104, 605, 19, 409, 358, 30378, 48, 17343, 31, 4216, 4815, 32591, 1385, 231, 49801, 23535, 357, 32, 43, 9745, 3277]\n",
      "loss\n"
     ]
    },
    {
     "name": "stderr",
     "output_type": "stream",
     "text": [
      "Map: 100%|██████████| 100/100 [00:00<00:00, 5667.90 examples/s]\n"
     ]
    },
    {
     "name": "stdout",
     "output_type": "stream",
     "text": [
      "100\n",
      "[2, 1729, 19, 31, 1640, 4815, 2833, 353, 16027, 965, 19, 5341, 10547, 16221, 4948, 1872, 49795, 382, 31, 16282, 49808, 31133, 912, 97, 417, 4, 2397, 19, 587, 505, 1044, 40024, 1433, 43, 9724, 320, 4815, 40384, 4280, 26700, 49791, 244, 5036, 97, 31, 4223, 2435, 16221, 49796, 52, 12747, 2316, 3817, 775, 42, 9370, 19, 400, 49808, 3217, 27, 14492, 13390, 7863, 5, 27613, 19, 181, 44884, 346, 19, 36105, 97, 466, 47750, 45355, 19, 279, 7, 734, 284, 19, 602, 13, 7, 14, 7, 40384, 4280, 26700, 49791, 26812, 97, 43, 925, 1355, 16220, 3277, 18250, 168, 3698, 26812, 40384, 1004, 228, 41050, 19, 8183, 1457, 16221, 7815, 43, 1479, 905, 19, 21561, 31339, 17808, 5, 7172, 124, 7, 144, 7, 17990, 1793, 49792, 19]\n",
      "[19, 12003, 82, 146, 21545, 5, 4815, 27037, 19, 96, 82, 3620, 1809, 49098, 11, 27944, 8183, 27, 19, 48, 10532, 22366, 43, 3534, 2112, 4, 22742, 12141, 480, 59, 6038, 27199, 36, 59, 19141, 19, 67, 409, 29219, 42, 7351, 400, 49808, 170, 574, 12806, 3309, 48, 737, 195, 4893, 7, 299, 33334, 49796, 42737, 63, 19, 44985, 1292, 5549, 2065, 2149, 52, 13564, 41767, 49795, 19, 9632, 75, 258, 51, 49808, 2706, 19, 252, 13686, 3969, 4815, 97, 16027, 965, 19, 67, 21489, 76, 275, 211, 43240, 103, 19, 48, 102, 610, 29219, 42, 533, 481, 23980, 3095, 103, 49795, 7, 3426, 734, 2407, 117, 1030, 3945, 33695, 29647, 10698, 734, 19, 1772, 102, 19, 98, 365, 2112, 66, 527, 49808, 1073, 19, 48, 76, 549]\n",
      "[12756, 147, 9729, 45321, 6936, 49796, 7048, 100, 37384, 43, 1752, 36655, 17808, 49791, 2215, 52, 204, 219, 466, 47750, 7, 26538, 7, 28660, 335, 4, 40354, 585, 31, 21, 16354, 67, 37439, 19, 36, 11340, 36221, 147, 48, 4815, 26838, 51, 678, 12801, 19, 5271, 26119, 21, 16354, 10563, 18523, 1069, 2997, 266, 7, 299, 102, 6177, 68, 275, 7152, 199, 713, 49796, 16889, 1793, 10, 19, 48, 31, 654, 26573, 20213, 49792, 21, 16354, 102, 29219, 1221, 5196, 7816, 49795, 19, 66, 9010, 4815, 97, 1060, 19377, 19, 98, 48, 440, 2143, 6936, 19, 480, 574, 970, 457, 4815, 6061, 19, 18022, 264, 797, 43240, 12104, 605, 19, 409, 358, 30378, 48, 17343, 31, 4216, 4815, 32591, 1385, 231, 49801, 23535, 357, 32, 43, 9745, 3277]\n",
      "loss\n"
     ]
    },
    {
     "name": "stderr",
     "output_type": "stream",
     "text": [
      "Map: 100%|██████████| 100/100 [00:00<00:00, 5621.04 examples/s]\n"
     ]
    },
    {
     "name": "stdout",
     "output_type": "stream",
     "text": [
      "100\n",
      "[2, 1729, 19, 31, 1640, 4815, 2833, 353, 16027, 965, 19, 5341, 10547, 16221, 4948, 1872, 49795, 382, 31, 16282, 49808, 31133, 912, 97, 417, 29222, 4, 19, 587, 505, 1044, 40024, 1433, 43, 9724, 320, 4815, 40384, 4280, 26700, 49791, 244, 5036, 97, 31, 4223, 2435, 16221, 49796, 52, 12747, 2316, 3817, 775, 42, 9370, 19, 400, 49808, 3217, 27, 14492, 13390, 7863, 5, 27613, 19, 181, 44884, 346, 19, 36105, 97, 466, 47750, 45355, 19, 279, 7, 734, 284, 19, 602, 13, 7, 14, 7, 40384, 4280, 26700, 49791, 26812, 97, 43, 925, 1355, 16220, 3277, 18250, 168, 3698, 26812, 40384, 1004, 228, 41050, 19, 8183, 1457, 16221, 7815, 43, 1479, 905, 19, 21561, 31339, 17808, 5, 7172, 124, 7, 144, 7, 17990, 1793, 49792, 19]\n",
      "[19, 12003, 82, 146, 21545, 5, 4815, 27037, 19, 96, 82, 3620, 1809, 49098, 11, 27944, 8183, 27, 19, 48, 10532, 22366, 43, 3534, 2112, 3292, 4, 4, 480, 59, 6038, 27199, 36, 59, 19141, 19, 67, 409, 29219, 42, 7351, 400, 49808, 170, 574, 12806, 3309, 48, 737, 195, 4893, 7, 299, 33334, 49796, 42737, 63, 19, 44985, 1292, 5549, 2065, 2149, 52, 13564, 41767, 49795, 19, 9632, 75, 258, 51, 49808, 2706, 19, 252, 13686, 3969, 4815, 97, 16027, 965, 19, 67, 21489, 76, 275, 211, 43240, 103, 19, 48, 102, 610, 29219, 42, 533, 481, 23980, 3095, 103, 49795, 7, 3426, 734, 2407, 117, 1030, 3945, 33695, 29647, 10698, 734, 19, 1772, 102, 19, 98, 365, 2112, 66, 527, 49808, 1073, 19, 48, 76, 549]\n",
      "[12756, 147, 9729, 45321, 6936, 49796, 7048, 100, 37384, 43, 1752, 36655, 17808, 49791, 2215, 52, 204, 219, 466, 47750, 7, 26538, 7, 28660, 335, 15192, 4, 4, 31, 21, 16354, 67, 37439, 19, 36, 11340, 36221, 147, 48, 4815, 26838, 51, 678, 12801, 19, 5271, 26119, 21, 16354, 10563, 18523, 1069, 2997, 266, 7, 299, 102, 6177, 68, 275, 7152, 199, 713, 49796, 16889, 1793, 10, 19, 48, 31, 654, 26573, 20213, 49792, 21, 16354, 102, 29219, 1221, 5196, 7816, 49795, 19, 66, 9010, 4815, 97, 1060, 19377, 19, 98, 48, 440, 2143, 6936, 19, 480, 574, 970, 457, 4815, 6061, 19, 18022, 264, 797, 43240, 12104, 605, 19, 409, 358, 30378, 48, 17343, 31, 4216, 4815, 32591, 1385, 231, 49801, 23535, 357, 32, 43, 9745, 3277]\n",
      "loss\n"
     ]
    },
    {
     "name": "stderr",
     "output_type": "stream",
     "text": [
      "Map: 100%|██████████| 100/100 [00:00<00:00, 5586.89 examples/s]\n"
     ]
    },
    {
     "name": "stdout",
     "output_type": "stream",
     "text": [
      "100\n",
      "[2, 1729, 19, 31, 1640, 4815, 2833, 353, 16027, 965, 19, 5341, 10547, 16221, 4948, 1872, 49795, 382, 31, 16282, 49808, 31133, 912, 97, 417, 29222, 2397, 4, 587, 505, 1044, 40024, 1433, 43, 9724, 320, 4815, 40384, 4280, 26700, 49791, 244, 5036, 97, 31, 4223, 2435, 16221, 49796, 52, 12747, 2316, 3817, 775, 42, 9370, 19, 400, 49808, 3217, 27, 14492, 13390, 7863, 5, 27613, 19, 181, 44884, 346, 19, 36105, 97, 466, 47750, 45355, 19, 279, 7, 734, 284, 19, 602, 13, 7, 14, 7, 40384, 4280, 26700, 49791, 26812, 97, 43, 925, 1355, 16220, 3277, 18250, 168, 3698, 26812, 40384, 1004, 228, 41050, 19, 8183, 1457, 16221, 7815, 43, 1479, 905, 19, 21561, 31339, 17808, 5, 7172, 124, 7, 144, 7, 17990, 1793, 49792, 19]\n",
      "[19, 12003, 82, 146, 21545, 5, 4815, 27037, 19, 96, 82, 3620, 1809, 49098, 11, 27944, 8183, 27, 19, 48, 10532, 22366, 43, 3534, 2112, 3292, 22742, 4, 480, 59, 6038, 27199, 36, 59, 19141, 19, 67, 409, 29219, 42, 7351, 400, 49808, 170, 574, 12806, 3309, 48, 737, 195, 4893, 7, 299, 33334, 49796, 42737, 63, 19, 44985, 1292, 5549, 2065, 2149, 52, 13564, 41767, 49795, 19, 9632, 75, 258, 51, 49808, 2706, 19, 252, 13686, 3969, 4815, 97, 16027, 965, 19, 67, 21489, 76, 275, 211, 43240, 103, 19, 48, 102, 610, 29219, 42, 533, 481, 23980, 3095, 103, 49795, 7, 3426, 734, 2407, 117, 1030, 3945, 33695, 29647, 10698, 734, 19, 1772, 102, 19, 98, 365, 2112, 66, 527, 49808, 1073, 19, 48, 76, 549]\n",
      "[12756, 147, 9729, 45321, 6936, 49796, 7048, 100, 37384, 43, 1752, 36655, 17808, 49791, 2215, 52, 204, 219, 466, 47750, 7, 26538, 7, 28660, 335, 15192, 40354, 4, 31, 21, 16354, 67, 37439, 19, 36, 11340, 36221, 147, 48, 4815, 26838, 51, 678, 12801, 19, 5271, 26119, 21, 16354, 10563, 18523, 1069, 2997, 266, 7, 299, 102, 6177, 68, 275, 7152, 199, 713, 49796, 16889, 1793, 10, 19, 48, 31, 654, 26573, 20213, 49792, 21, 16354, 102, 29219, 1221, 5196, 7816, 49795, 19, 66, 9010, 4815, 97, 1060, 19377, 19, 98, 48, 440, 2143, 6936, 19, 480, 574, 970, 457, 4815, 6061, 19, 18022, 264, 797, 43240, 12104, 605, 19, 409, 358, 30378, 48, 17343, 31, 4216, 4815, 32591, 1385, 231, 49801, 23535, 357, 32, 43, 9745, 3277]\n",
      "loss\n"
     ]
    },
    {
     "name": "stderr",
     "output_type": "stream",
     "text": [
      "Map: 100%|██████████| 100/100 [00:00<00:00, 5604.06 examples/s]\n"
     ]
    },
    {
     "name": "stdout",
     "output_type": "stream",
     "text": [
      "100\n",
      "[2, 1729, 19, 31, 1640, 4815, 2833, 353, 16027, 965, 19, 5341, 10547, 16221, 4948, 1872, 49795, 382, 31, 16282, 49808, 31133, 912, 97, 417, 29222, 2397, 19, 4, 505, 1044, 40024, 1433, 43, 9724, 320, 4815, 40384, 4280, 26700, 49791, 244, 5036, 97, 31, 4223, 2435, 16221, 49796, 52, 12747, 2316, 3817, 775, 42, 9370, 19, 400, 49808, 3217, 27, 14492, 13390, 7863, 5, 27613, 19, 181, 44884, 346, 19, 36105, 97, 466, 47750, 45355, 19, 279, 7, 734, 284, 19, 602, 13, 7, 14, 7, 40384, 4280, 26700, 49791, 26812, 97, 43, 925, 1355, 16220, 3277, 18250, 168, 3698, 26812, 40384, 1004, 228, 41050, 19, 8183, 1457, 16221, 7815, 43, 1479, 905, 19, 21561, 31339, 17808, 5, 7172, 124, 7, 144, 7, 17990, 1793, 49792, 19]\n",
      "[19, 12003, 82, 146, 21545, 5, 4815, 27037, 19, 96, 82, 3620, 1809, 49098, 11, 27944, 8183, 27, 19, 48, 10532, 22366, 43, 3534, 2112, 3292, 22742, 12141, 4, 59, 6038, 27199, 36, 59, 19141, 19, 67, 409, 29219, 42, 7351, 400, 49808, 170, 574, 12806, 3309, 48, 737, 195, 4893, 7, 299, 33334, 49796, 42737, 63, 19, 44985, 1292, 5549, 2065, 2149, 52, 13564, 41767, 49795, 19, 9632, 75, 258, 51, 49808, 2706, 19, 252, 13686, 3969, 4815, 97, 16027, 965, 19, 67, 21489, 76, 275, 211, 43240, 103, 19, 48, 102, 610, 29219, 42, 533, 481, 23980, 3095, 103, 49795, 7, 3426, 734, 2407, 117, 1030, 3945, 33695, 29647, 10698, 734, 19, 1772, 102, 19, 98, 365, 2112, 66, 527, 49808, 1073, 19, 48, 76, 549]\n",
      "[12756, 147, 9729, 45321, 6936, 49796, 7048, 100, 37384, 43, 1752, 36655, 17808, 49791, 2215, 52, 204, 219, 466, 47750, 7, 26538, 7, 28660, 335, 15192, 40354, 585, 4, 21, 16354, 67, 37439, 19, 36, 11340, 36221, 147, 48, 4815, 26838, 51, 678, 12801, 19, 5271, 26119, 21, 16354, 10563, 18523, 1069, 2997, 266, 7, 299, 102, 6177, 68, 275, 7152, 199, 713, 49796, 16889, 1793, 10, 19, 48, 31, 654, 26573, 20213, 49792, 21, 16354, 102, 29219, 1221, 5196, 7816, 49795, 19, 66, 9010, 4815, 97, 1060, 19377, 19, 98, 48, 440, 2143, 6936, 19, 480, 574, 970, 457, 4815, 6061, 19, 18022, 264, 797, 43240, 12104, 605, 19, 409, 358, 30378, 48, 17343, 31, 4216, 4815, 32591, 1385, 231, 49801, 23535, 357, 32, 43, 9745, 3277]\n",
      "loss\n"
     ]
    },
    {
     "name": "stderr",
     "output_type": "stream",
     "text": [
      "Map: 100%|██████████| 100/100 [00:00<00:00, 5696.54 examples/s]\n"
     ]
    },
    {
     "name": "stdout",
     "output_type": "stream",
     "text": [
      "100\n",
      "[2, 1729, 19, 31, 1640, 4815, 2833, 353, 16027, 965, 19, 5341, 10547, 16221, 4948, 1872, 49795, 382, 31, 16282, 49808, 31133, 912, 97, 417, 29222, 2397, 19, 587, 4, 1044, 40024, 1433, 43, 9724, 320, 4815, 40384, 4280, 26700, 49791, 244, 5036, 97, 31, 4223, 2435, 16221, 49796, 52, 12747, 2316, 3817, 775, 42, 9370, 19, 400, 49808, 3217, 27, 14492, 13390, 7863, 5, 27613, 19, 181, 44884, 346, 19, 36105, 97, 466, 47750, 45355, 19, 279, 7, 734, 284, 19, 602, 13, 7, 14, 7, 40384, 4280, 26700, 49791, 26812, 97, 43, 925, 1355, 16220, 3277, 18250, 168, 3698, 26812, 40384, 1004, 228, 41050, 19, 8183, 1457, 16221, 7815, 43, 1479, 905, 19, 21561, 31339, 17808, 5, 7172, 124, 7, 144, 7, 17990, 1793, 49792, 19]\n",
      "[19, 12003, 82, 146, 21545, 5, 4815, 27037, 19, 96, 82, 3620, 1809, 49098, 11, 27944, 8183, 27, 19, 48, 10532, 22366, 43, 3534, 2112, 3292, 22742, 12141, 480, 4, 6038, 27199, 36, 59, 19141, 19, 67, 409, 29219, 42, 7351, 400, 49808, 170, 574, 12806, 3309, 48, 737, 195, 4893, 7, 299, 33334, 49796, 42737, 63, 19, 44985, 1292, 5549, 2065, 2149, 52, 13564, 41767, 49795, 19, 9632, 75, 258, 51, 49808, 2706, 19, 252, 13686, 3969, 4815, 97, 16027, 965, 19, 67, 21489, 76, 275, 211, 43240, 103, 19, 48, 102, 610, 29219, 42, 533, 481, 23980, 3095, 103, 49795, 7, 3426, 734, 2407, 117, 1030, 3945, 33695, 29647, 10698, 734, 19, 1772, 102, 19, 98, 365, 2112, 66, 527, 49808, 1073, 19, 48, 76, 549]\n",
      "[12756, 147, 9729, 45321, 6936, 49796, 7048, 100, 37384, 43, 1752, 36655, 17808, 49791, 2215, 52, 204, 219, 466, 47750, 7, 26538, 7, 28660, 335, 15192, 40354, 585, 31, 4, 4, 67, 37439, 19, 36, 11340, 36221, 147, 48, 4815, 26838, 51, 678, 12801, 19, 5271, 26119, 21, 16354, 10563, 18523, 1069, 2997, 266, 7, 299, 102, 6177, 68, 275, 7152, 199, 713, 49796, 16889, 1793, 10, 19, 48, 31, 654, 26573, 20213, 49792, 21, 16354, 102, 29219, 1221, 5196, 7816, 49795, 19, 66, 9010, 4815, 97, 1060, 19377, 19, 98, 48, 440, 2143, 6936, 19, 480, 574, 970, 457, 4815, 6061, 19, 18022, 264, 797, 43240, 12104, 605, 19, 409, 358, 30378, 48, 17343, 31, 4216, 4815, 32591, 1385, 231, 49801, 23535, 357, 32, 43, 9745, 3277]\n",
      "loss\n"
     ]
    },
    {
     "name": "stderr",
     "output_type": "stream",
     "text": [
      "Map: 100%|██████████| 100/100 [00:00<00:00, 5500.87 examples/s]\n"
     ]
    },
    {
     "name": "stdout",
     "output_type": "stream",
     "text": [
      "100\n",
      "[2, 1729, 19, 31, 1640, 4815, 2833, 353, 16027, 965, 19, 5341, 10547, 16221, 4948, 1872, 49795, 382, 31, 16282, 49808, 31133, 912, 97, 417, 29222, 2397, 19, 587, 505, 4, 4, 4, 43, 9724, 320, 4815, 40384, 4280, 26700, 49791, 244, 5036, 97, 31, 4223, 2435, 16221, 49796, 52, 12747, 2316, 3817, 775, 42, 9370, 19, 400, 49808, 3217, 27, 14492, 13390, 7863, 5, 27613, 19, 181, 44884, 346, 19, 36105, 97, 466, 47750, 45355, 19, 279, 7, 734, 284, 19, 602, 13, 7, 14, 7, 40384, 4280, 26700, 49791, 26812, 97, 43, 925, 1355, 16220, 3277, 18250, 168, 3698, 26812, 40384, 1004, 228, 41050, 19, 8183, 1457, 16221, 7815, 43, 1479, 905, 19, 21561, 31339, 17808, 5, 7172, 124, 7, 144, 7, 17990, 1793, 49792, 19]\n",
      "[19, 12003, 82, 146, 21545, 5, 4815, 27037, 19, 96, 82, 3620, 1809, 49098, 11, 27944, 8183, 27, 19, 48, 10532, 22366, 43, 3534, 2112, 3292, 22742, 12141, 480, 59, 4, 4, 36, 59, 19141, 19, 67, 409, 29219, 42, 7351, 400, 49808, 170, 574, 12806, 3309, 48, 737, 195, 4893, 7, 299, 33334, 49796, 42737, 63, 19, 44985, 1292, 5549, 2065, 2149, 52, 13564, 41767, 49795, 19, 9632, 75, 258, 51, 49808, 2706, 19, 252, 13686, 3969, 4815, 97, 16027, 965, 19, 67, 21489, 76, 275, 211, 43240, 103, 19, 48, 102, 610, 29219, 42, 533, 481, 23980, 3095, 103, 49795, 7, 3426, 734, 2407, 117, 1030, 3945, 33695, 29647, 10698, 734, 19, 1772, 102, 19, 98, 365, 2112, 66, 527, 49808, 1073, 19, 48, 76, 549]\n",
      "[12756, 147, 9729, 45321, 6936, 49796, 7048, 100, 37384, 43, 1752, 36655, 17808, 49791, 2215, 52, 204, 219, 466, 47750, 7, 26538, 7, 28660, 335, 15192, 40354, 585, 31, 21, 4, 67, 37439, 19, 36, 11340, 36221, 147, 48, 4815, 26838, 51, 678, 12801, 19, 5271, 26119, 21, 16354, 10563, 18523, 1069, 2997, 266, 7, 299, 102, 6177, 68, 275, 7152, 199, 713, 49796, 16889, 1793, 10, 19, 48, 31, 654, 26573, 20213, 49792, 21, 16354, 102, 29219, 1221, 5196, 7816, 49795, 19, 66, 9010, 4815, 97, 1060, 19377, 19, 98, 48, 440, 2143, 6936, 19, 480, 574, 970, 457, 4815, 6061, 19, 18022, 264, 797, 43240, 12104, 605, 19, 409, 358, 30378, 48, 17343, 31, 4216, 4815, 32591, 1385, 231, 49801, 23535, 357, 32, 43, 9745, 3277]\n",
      "loss\n"
     ]
    },
    {
     "name": "stderr",
     "output_type": "stream",
     "text": [
      "Map: 100%|██████████| 100/100 [00:00<00:00, 5612.76 examples/s]\n"
     ]
    },
    {
     "name": "stdout",
     "output_type": "stream",
     "text": [
      "100\n",
      "[2, 1729, 19, 31, 1640, 4815, 2833, 353, 16027, 965, 19, 5341, 10547, 16221, 4948, 1872, 49795, 382, 31, 16282, 49808, 31133, 912, 97, 417, 29222, 2397, 19, 587, 505, 1044, 4, 4, 43, 9724, 320, 4815, 40384, 4280, 26700, 49791, 244, 5036, 97, 31, 4223, 2435, 16221, 49796, 52, 12747, 2316, 3817, 775, 42, 9370, 19, 400, 49808, 3217, 27, 14492, 13390, 7863, 5, 27613, 19, 181, 44884, 346, 19, 36105, 97, 466, 47750, 45355, 19, 279, 7, 734, 284, 19, 602, 13, 7, 14, 7, 40384, 4280, 26700, 49791, 26812, 97, 43, 925, 1355, 16220, 3277, 18250, 168, 3698, 26812, 40384, 1004, 228, 41050, 19, 8183, 1457, 16221, 7815, 43, 1479, 905, 19, 21561, 31339, 17808, 5, 7172, 124, 7, 144, 7, 17990, 1793, 49792, 19]\n",
      "[19, 12003, 82, 146, 21545, 5, 4815, 27037, 19, 96, 82, 3620, 1809, 49098, 11, 27944, 8183, 27, 19, 48, 10532, 22366, 43, 3534, 2112, 3292, 22742, 12141, 480, 59, 6038, 4, 36, 59, 19141, 19, 67, 409, 29219, 42, 7351, 400, 49808, 170, 574, 12806, 3309, 48, 737, 195, 4893, 7, 299, 33334, 49796, 42737, 63, 19, 44985, 1292, 5549, 2065, 2149, 52, 13564, 41767, 49795, 19, 9632, 75, 258, 51, 49808, 2706, 19, 252, 13686, 3969, 4815, 97, 16027, 965, 19, 67, 21489, 76, 275, 211, 43240, 103, 19, 48, 102, 610, 29219, 42, 533, 481, 23980, 3095, 103, 49795, 7, 3426, 734, 2407, 117, 1030, 3945, 33695, 29647, 10698, 734, 19, 1772, 102, 19, 98, 365, 2112, 66, 527, 49808, 1073, 19, 48, 76, 549]\n",
      "[12756, 147, 9729, 45321, 6936, 49796, 7048, 100, 37384, 43, 1752, 36655, 17808, 49791, 2215, 52, 204, 219, 466, 47750, 7, 26538, 7, 28660, 335, 15192, 40354, 585, 31, 21, 16354, 4, 37439, 19, 36, 11340, 36221, 147, 48, 4815, 26838, 51, 678, 12801, 19, 5271, 26119, 21, 16354, 10563, 18523, 1069, 2997, 266, 7, 299, 102, 6177, 68, 275, 7152, 199, 713, 49796, 16889, 1793, 10, 19, 48, 31, 654, 26573, 20213, 49792, 21, 16354, 102, 29219, 1221, 5196, 7816, 49795, 19, 66, 9010, 4815, 97, 1060, 19377, 19, 98, 48, 440, 2143, 6936, 19, 480, 574, 970, 457, 4815, 6061, 19, 18022, 264, 797, 43240, 12104, 605, 19, 409, 358, 30378, 48, 17343, 31, 4216, 4815, 32591, 1385, 231, 49801, 23535, 357, 32, 43, 9745, 3277]\n",
      "loss\n"
     ]
    },
    {
     "name": "stderr",
     "output_type": "stream",
     "text": [
      "Map: 100%|██████████| 100/100 [00:00<00:00, 5542.16 examples/s]\n"
     ]
    },
    {
     "name": "stdout",
     "output_type": "stream",
     "text": [
      "100\n",
      "[2, 1729, 19, 31, 1640, 4815, 2833, 353, 16027, 965, 19, 5341, 10547, 16221, 4948, 1872, 49795, 382, 31, 16282, 49808, 31133, 912, 97, 417, 29222, 2397, 19, 587, 505, 1044, 40024, 4, 43, 9724, 320, 4815, 40384, 4280, 26700, 49791, 244, 5036, 97, 31, 4223, 2435, 16221, 49796, 52, 12747, 2316, 3817, 775, 42, 9370, 19, 400, 49808, 3217, 27, 14492, 13390, 7863, 5, 27613, 19, 181, 44884, 346, 19, 36105, 97, 466, 47750, 45355, 19, 279, 7, 734, 284, 19, 602, 13, 7, 14, 7, 40384, 4280, 26700, 49791, 26812, 97, 43, 925, 1355, 16220, 3277, 18250, 168, 3698, 26812, 40384, 1004, 228, 41050, 19, 8183, 1457, 16221, 7815, 43, 1479, 905, 19, 21561, 31339, 17808, 5, 7172, 124, 7, 144, 7, 17990, 1793, 49792, 19]\n",
      "[19, 12003, 82, 146, 21545, 5, 4815, 27037, 19, 96, 82, 3620, 1809, 49098, 11, 27944, 8183, 27, 19, 48, 10532, 22366, 43, 3534, 2112, 3292, 22742, 12141, 480, 59, 6038, 27199, 4, 59, 19141, 19, 67, 409, 29219, 42, 7351, 400, 49808, 170, 574, 12806, 3309, 48, 737, 195, 4893, 7, 299, 33334, 49796, 42737, 63, 19, 44985, 1292, 5549, 2065, 2149, 52, 13564, 41767, 49795, 19, 9632, 75, 258, 51, 49808, 2706, 19, 252, 13686, 3969, 4815, 97, 16027, 965, 19, 67, 21489, 76, 275, 211, 43240, 103, 19, 48, 102, 610, 29219, 42, 533, 481, 23980, 3095, 103, 49795, 7, 3426, 734, 2407, 117, 1030, 3945, 33695, 29647, 10698, 734, 19, 1772, 102, 19, 98, 365, 2112, 66, 527, 49808, 1073, 19, 48, 76, 549]\n",
      "[12756, 147, 9729, 45321, 6936, 49796, 7048, 100, 37384, 43, 1752, 36655, 17808, 49791, 2215, 52, 204, 219, 466, 47750, 7, 26538, 7, 28660, 335, 15192, 40354, 585, 31, 21, 16354, 67, 4, 19, 36, 11340, 36221, 147, 48, 4815, 26838, 51, 678, 12801, 19, 5271, 26119, 21, 16354, 10563, 18523, 1069, 2997, 266, 7, 299, 102, 6177, 68, 275, 7152, 199, 713, 49796, 16889, 1793, 10, 19, 48, 31, 654, 26573, 20213, 49792, 21, 16354, 102, 29219, 1221, 5196, 7816, 49795, 19, 66, 9010, 4815, 97, 1060, 19377, 19, 98, 48, 440, 2143, 6936, 19, 480, 574, 970, 457, 4815, 6061, 19, 18022, 264, 797, 43240, 12104, 605, 19, 409, 358, 30378, 48, 17343, 31, 4216, 4815, 32591, 1385, 231, 49801, 23535, 357, 32, 43, 9745, 3277]\n",
      "loss\n"
     ]
    },
    {
     "name": "stderr",
     "output_type": "stream",
     "text": [
      "Map: 100%|██████████| 100/100 [00:00<00:00, 5675.57 examples/s]\n"
     ]
    },
    {
     "name": "stdout",
     "output_type": "stream",
     "text": [
      "100\n",
      "[2, 1729, 19, 31, 1640, 4815, 2833, 353, 16027, 965, 19, 5341, 10547, 16221, 4948, 1872, 49795, 382, 31, 16282, 49808, 31133, 912, 97, 417, 29222, 2397, 19, 587, 505, 1044, 40024, 1433, 4, 9724, 320, 4815, 40384, 4280, 26700, 49791, 244, 5036, 97, 31, 4223, 2435, 16221, 49796, 52, 12747, 2316, 3817, 775, 42, 9370, 19, 400, 49808, 3217, 27, 14492, 13390, 7863, 5, 27613, 19, 181, 44884, 346, 19, 36105, 97, 466, 47750, 45355, 19, 279, 7, 734, 284, 19, 602, 13, 7, 14, 7, 40384, 4280, 26700, 49791, 26812, 97, 43, 925, 1355, 16220, 3277, 18250, 168, 3698, 26812, 40384, 1004, 228, 41050, 19, 8183, 1457, 16221, 7815, 43, 1479, 905, 19, 21561, 31339, 17808, 5, 7172, 124, 7, 144, 7, 17990, 1793, 49792, 19]\n",
      "[19, 12003, 82, 146, 21545, 5, 4815, 27037, 19, 96, 82, 3620, 1809, 49098, 11, 27944, 8183, 27, 19, 48, 10532, 22366, 43, 3534, 2112, 3292, 22742, 12141, 480, 59, 6038, 27199, 36, 4, 19141, 19, 67, 409, 29219, 42, 7351, 400, 49808, 170, 574, 12806, 3309, 48, 737, 195, 4893, 7, 299, 33334, 49796, 42737, 63, 19, 44985, 1292, 5549, 2065, 2149, 52, 13564, 41767, 49795, 19, 9632, 75, 258, 51, 49808, 2706, 19, 252, 13686, 3969, 4815, 97, 16027, 965, 19, 67, 21489, 76, 275, 211, 43240, 103, 19, 48, 102, 610, 29219, 42, 533, 481, 23980, 3095, 103, 49795, 7, 3426, 734, 2407, 117, 1030, 3945, 33695, 29647, 10698, 734, 19, 1772, 102, 19, 98, 365, 2112, 66, 527, 49808, 1073, 19, 48, 76, 549]\n",
      "[12756, 147, 9729, 45321, 6936, 49796, 7048, 100, 37384, 43, 1752, 36655, 17808, 49791, 2215, 52, 204, 219, 466, 47750, 7, 26538, 7, 28660, 335, 15192, 40354, 585, 31, 21, 16354, 67, 37439, 4, 36, 11340, 36221, 147, 48, 4815, 26838, 51, 678, 12801, 19, 5271, 26119, 21, 16354, 10563, 18523, 1069, 2997, 266, 7, 299, 102, 6177, 68, 275, 7152, 199, 713, 49796, 16889, 1793, 10, 19, 48, 31, 654, 26573, 20213, 49792, 21, 16354, 102, 29219, 1221, 5196, 7816, 49795, 19, 66, 9010, 4815, 97, 1060, 19377, 19, 98, 48, 440, 2143, 6936, 19, 480, 574, 970, 457, 4815, 6061, 19, 18022, 264, 797, 43240, 12104, 605, 19, 409, 358, 30378, 48, 17343, 31, 4216, 4815, 32591, 1385, 231, 49801, 23535, 357, 32, 43, 9745, 3277]\n",
      "loss\n"
     ]
    },
    {
     "name": "stderr",
     "output_type": "stream",
     "text": [
      "Map: 100%|██████████| 100/100 [00:00<00:00, 5683.26 examples/s]\n"
     ]
    },
    {
     "name": "stdout",
     "output_type": "stream",
     "text": [
      "100\n",
      "[2, 1729, 19, 31, 1640, 4815, 2833, 353, 16027, 965, 19, 5341, 10547, 16221, 4948, 1872, 49795, 382, 31, 16282, 49808, 31133, 912, 97, 417, 29222, 2397, 19, 587, 505, 1044, 40024, 1433, 43, 4, 4, 4815, 40384, 4280, 26700, 49791, 244, 5036, 97, 31, 4223, 2435, 16221, 49796, 52, 12747, 2316, 3817, 775, 42, 9370, 19, 400, 49808, 3217, 27, 14492, 13390, 7863, 5, 27613, 19, 181, 44884, 346, 19, 36105, 97, 466, 47750, 45355, 19, 279, 7, 734, 284, 19, 602, 13, 7, 14, 7, 40384, 4280, 26700, 49791, 26812, 97, 43, 925, 1355, 16220, 3277, 18250, 168, 3698, 26812, 40384, 1004, 228, 41050, 19, 8183, 1457, 16221, 7815, 43, 1479, 905, 19, 21561, 31339, 17808, 5, 7172, 124, 7, 144, 7, 17990, 1793, 49792, 19]\n",
      "[19, 12003, 82, 146, 21545, 5, 4815, 27037, 19, 96, 82, 3620, 1809, 49098, 11, 27944, 8183, 27, 19, 48, 10532, 22366, 43, 3534, 2112, 3292, 22742, 12141, 480, 59, 6038, 27199, 36, 59, 4, 19, 67, 409, 29219, 42, 7351, 400, 49808, 170, 574, 12806, 3309, 48, 737, 195, 4893, 7, 299, 33334, 49796, 42737, 63, 19, 44985, 1292, 5549, 2065, 2149, 52, 13564, 41767, 49795, 19, 9632, 75, 258, 51, 49808, 2706, 19, 252, 13686, 3969, 4815, 97, 16027, 965, 19, 67, 21489, 76, 275, 211, 43240, 103, 19, 48, 102, 610, 29219, 42, 533, 481, 23980, 3095, 103, 49795, 7, 3426, 734, 2407, 117, 1030, 3945, 33695, 29647, 10698, 734, 19, 1772, 102, 19, 98, 365, 2112, 66, 527, 49808, 1073, 19, 48, 76, 549]\n",
      "[12756, 147, 9729, 45321, 6936, 49796, 7048, 100, 37384, 43, 1752, 36655, 17808, 49791, 2215, 52, 204, 219, 466, 47750, 7, 26538, 7, 28660, 335, 15192, 40354, 585, 31, 21, 16354, 67, 37439, 19, 4, 11340, 36221, 147, 48, 4815, 26838, 51, 678, 12801, 19, 5271, 26119, 21, 16354, 10563, 18523, 1069, 2997, 266, 7, 299, 102, 6177, 68, 275, 7152, 199, 713, 49796, 16889, 1793, 10, 19, 48, 31, 654, 26573, 20213, 49792, 21, 16354, 102, 29219, 1221, 5196, 7816, 49795, 19, 66, 9010, 4815, 97, 1060, 19377, 19, 98, 48, 440, 2143, 6936, 19, 480, 574, 970, 457, 4815, 6061, 19, 18022, 264, 797, 43240, 12104, 605, 19, 409, 358, 30378, 48, 17343, 31, 4216, 4815, 32591, 1385, 231, 49801, 23535, 357, 32, 43, 9745, 3277]\n",
      "loss\n"
     ]
    },
    {
     "name": "stderr",
     "output_type": "stream",
     "text": [
      "Map: 100%|██████████| 100/100 [00:00<00:00, 5610.88 examples/s]\n"
     ]
    },
    {
     "name": "stdout",
     "output_type": "stream",
     "text": [
      "100\n",
      "[2, 1729, 19, 31, 1640, 4815, 2833, 353, 16027, 965, 19, 5341, 10547, 16221, 4948, 1872, 49795, 382, 31, 16282, 49808, 31133, 912, 97, 417, 29222, 2397, 19, 587, 505, 1044, 40024, 1433, 43, 9724, 4, 4815, 40384, 4280, 26700, 49791, 244, 5036, 97, 31, 4223, 2435, 16221, 49796, 52, 12747, 2316, 3817, 775, 42, 9370, 19, 400, 49808, 3217, 27, 14492, 13390, 7863, 5, 27613, 19, 181, 44884, 346, 19, 36105, 97, 466, 47750, 45355, 19, 279, 7, 734, 284, 19, 602, 13, 7, 14, 7, 40384, 4280, 26700, 49791, 26812, 97, 43, 925, 1355, 16220, 3277, 18250, 168, 3698, 26812, 40384, 1004, 228, 41050, 19, 8183, 1457, 16221, 7815, 43, 1479, 905, 19, 21561, 31339, 17808, 5, 7172, 124, 7, 144, 7, 17990, 1793, 49792, 19]\n",
      "[19, 12003, 82, 146, 21545, 5, 4815, 27037, 19, 96, 82, 3620, 1809, 49098, 11, 27944, 8183, 27, 19, 48, 10532, 22366, 43, 3534, 2112, 3292, 22742, 12141, 480, 59, 6038, 27199, 36, 59, 19141, 4, 67, 409, 29219, 42, 7351, 400, 49808, 170, 574, 12806, 3309, 48, 737, 195, 4893, 7, 299, 33334, 49796, 42737, 63, 19, 44985, 1292, 5549, 2065, 2149, 52, 13564, 41767, 49795, 19, 9632, 75, 258, 51, 49808, 2706, 19, 252, 13686, 3969, 4815, 97, 16027, 965, 19, 67, 21489, 76, 275, 211, 43240, 103, 19, 48, 102, 610, 29219, 42, 533, 481, 23980, 3095, 103, 49795, 7, 3426, 734, 2407, 117, 1030, 3945, 33695, 29647, 10698, 734, 19, 1772, 102, 19, 98, 365, 2112, 66, 527, 49808, 1073, 19, 48, 76, 549]\n",
      "[12756, 147, 9729, 45321, 6936, 49796, 7048, 100, 37384, 43, 1752, 36655, 17808, 49791, 2215, 52, 204, 219, 466, 47750, 7, 26538, 7, 28660, 335, 15192, 40354, 585, 31, 21, 16354, 67, 37439, 19, 36, 4, 36221, 147, 48, 4815, 26838, 51, 678, 12801, 19, 5271, 26119, 21, 16354, 10563, 18523, 1069, 2997, 266, 7, 299, 102, 6177, 68, 275, 7152, 199, 713, 49796, 16889, 1793, 10, 19, 48, 31, 654, 26573, 20213, 49792, 21, 16354, 102, 29219, 1221, 5196, 7816, 49795, 19, 66, 9010, 4815, 97, 1060, 19377, 19, 98, 48, 440, 2143, 6936, 19, 480, 574, 970, 457, 4815, 6061, 19, 18022, 264, 797, 43240, 12104, 605, 19, 409, 358, 30378, 48, 17343, 31, 4216, 4815, 32591, 1385, 231, 49801, 23535, 357, 32, 43, 9745, 3277]\n",
      "loss\n"
     ]
    },
    {
     "name": "stderr",
     "output_type": "stream",
     "text": [
      "Map: 100%|██████████| 100/100 [00:00<00:00, 5710.58 examples/s]\n"
     ]
    },
    {
     "name": "stdout",
     "output_type": "stream",
     "text": [
      "100\n",
      "[2, 1729, 19, 31, 1640, 4815, 2833, 353, 16027, 965, 19, 5341, 10547, 16221, 4948, 1872, 49795, 382, 31, 16282, 49808, 31133, 912, 97, 417, 29222, 2397, 19, 587, 505, 1044, 40024, 1433, 43, 9724, 320, 4, 40384, 4280, 26700, 49791, 244, 5036, 97, 31, 4223, 2435, 16221, 49796, 52, 12747, 2316, 3817, 775, 42, 9370, 19, 400, 49808, 3217, 27, 14492, 13390, 7863, 5, 27613, 19, 181, 44884, 346, 19, 36105, 97, 466, 47750, 45355, 19, 279, 7, 734, 284, 19, 602, 13, 7, 14, 7, 40384, 4280, 26700, 49791, 26812, 97, 43, 925, 1355, 16220, 3277, 18250, 168, 3698, 26812, 40384, 1004, 228, 41050, 19, 8183, 1457, 16221, 7815, 43, 1479, 905, 19, 21561, 31339, 17808, 5, 7172, 124, 7, 144, 7, 17990, 1793, 49792, 19]\n",
      "[19, 12003, 82, 146, 21545, 5, 4815, 27037, 19, 96, 82, 3620, 1809, 49098, 11, 27944, 8183, 27, 19, 48, 10532, 22366, 43, 3534, 2112, 3292, 22742, 12141, 480, 59, 6038, 27199, 36, 59, 19141, 19, 4, 409, 29219, 42, 7351, 400, 49808, 170, 574, 12806, 3309, 48, 737, 195, 4893, 7, 299, 33334, 49796, 42737, 63, 19, 44985, 1292, 5549, 2065, 2149, 52, 13564, 41767, 49795, 19, 9632, 75, 258, 51, 49808, 2706, 19, 252, 13686, 3969, 4815, 97, 16027, 965, 19, 67, 21489, 76, 275, 211, 43240, 103, 19, 48, 102, 610, 29219, 42, 533, 481, 23980, 3095, 103, 49795, 7, 3426, 734, 2407, 117, 1030, 3945, 33695, 29647, 10698, 734, 19, 1772, 102, 19, 98, 365, 2112, 66, 527, 49808, 1073, 19, 48, 76, 549]\n",
      "[12756, 147, 9729, 45321, 6936, 49796, 7048, 100, 37384, 43, 1752, 36655, 17808, 49791, 2215, 52, 204, 219, 466, 47750, 7, 26538, 7, 28660, 335, 15192, 40354, 585, 31, 21, 16354, 67, 37439, 19, 36, 11340, 4, 4, 48, 4815, 26838, 51, 678, 12801, 19, 5271, 26119, 21, 16354, 10563, 18523, 1069, 2997, 266, 7, 299, 102, 6177, 68, 275, 7152, 199, 713, 49796, 16889, 1793, 10, 19, 48, 31, 654, 26573, 20213, 49792, 21, 16354, 102, 29219, 1221, 5196, 7816, 49795, 19, 66, 9010, 4815, 97, 1060, 19377, 19, 98, 48, 440, 2143, 6936, 19, 480, 574, 970, 457, 4815, 6061, 19, 18022, 264, 797, 43240, 12104, 605, 19, 409, 358, 30378, 48, 17343, 31, 4216, 4815, 32591, 1385, 231, 49801, 23535, 357, 32, 43, 9745, 3277]\n",
      "loss\n"
     ]
    },
    {
     "name": "stderr",
     "output_type": "stream",
     "text": [
      "Map: 100%|██████████| 100/100 [00:00<00:00, 5580.35 examples/s]\n"
     ]
    },
    {
     "name": "stdout",
     "output_type": "stream",
     "text": [
      "100\n",
      "[2, 1729, 19, 31, 1640, 4815, 2833, 353, 16027, 965, 19, 5341, 10547, 16221, 4948, 1872, 49795, 382, 31, 16282, 49808, 31133, 912, 97, 417, 29222, 2397, 19, 587, 505, 1044, 40024, 1433, 43, 9724, 320, 4815, 4, 4280, 26700, 49791, 244, 5036, 97, 31, 4223, 2435, 16221, 49796, 52, 12747, 2316, 3817, 775, 42, 9370, 19, 400, 49808, 3217, 27, 14492, 13390, 7863, 5, 27613, 19, 181, 44884, 346, 19, 36105, 97, 466, 47750, 45355, 19, 279, 7, 734, 284, 19, 602, 13, 7, 14, 7, 40384, 4280, 26700, 49791, 26812, 97, 43, 925, 1355, 16220, 3277, 18250, 168, 3698, 26812, 40384, 1004, 228, 41050, 19, 8183, 1457, 16221, 7815, 43, 1479, 905, 19, 21561, 31339, 17808, 5, 7172, 124, 7, 144, 7, 17990, 1793, 49792, 19]\n",
      "[19, 12003, 82, 146, 21545, 5, 4815, 27037, 19, 96, 82, 3620, 1809, 49098, 11, 27944, 8183, 27, 19, 48, 10532, 22366, 43, 3534, 2112, 3292, 22742, 12141, 480, 59, 6038, 27199, 36, 59, 19141, 19, 67, 4, 29219, 42, 7351, 400, 49808, 170, 574, 12806, 3309, 48, 737, 195, 4893, 7, 299, 33334, 49796, 42737, 63, 19, 44985, 1292, 5549, 2065, 2149, 52, 13564, 41767, 49795, 19, 9632, 75, 258, 51, 49808, 2706, 19, 252, 13686, 3969, 4815, 97, 16027, 965, 19, 67, 21489, 76, 275, 211, 43240, 103, 19, 48, 102, 610, 29219, 42, 533, 481, 23980, 3095, 103, 49795, 7, 3426, 734, 2407, 117, 1030, 3945, 33695, 29647, 10698, 734, 19, 1772, 102, 19, 98, 365, 2112, 66, 527, 49808, 1073, 19, 48, 76, 549]\n",
      "[12756, 147, 9729, 45321, 6936, 49796, 7048, 100, 37384, 43, 1752, 36655, 17808, 49791, 2215, 52, 204, 219, 466, 47750, 7, 26538, 7, 28660, 335, 15192, 40354, 585, 31, 21, 16354, 67, 37439, 19, 36, 11340, 36221, 4, 48, 4815, 26838, 51, 678, 12801, 19, 5271, 26119, 21, 16354, 10563, 18523, 1069, 2997, 266, 7, 299, 102, 6177, 68, 275, 7152, 199, 713, 49796, 16889, 1793, 10, 19, 48, 31, 654, 26573, 20213, 49792, 21, 16354, 102, 29219, 1221, 5196, 7816, 49795, 19, 66, 9010, 4815, 97, 1060, 19377, 19, 98, 48, 440, 2143, 6936, 19, 480, 574, 970, 457, 4815, 6061, 19, 18022, 264, 797, 43240, 12104, 605, 19, 409, 358, 30378, 48, 17343, 31, 4216, 4815, 32591, 1385, 231, 49801, 23535, 357, 32, 43, 9745, 3277]\n",
      "loss\n"
     ]
    },
    {
     "name": "stderr",
     "output_type": "stream",
     "text": [
      "Map: 100%|██████████| 100/100 [00:00<00:00, 5592.11 examples/s]\n"
     ]
    },
    {
     "name": "stdout",
     "output_type": "stream",
     "text": [
      "100\n",
      "[2, 1729, 19, 31, 1640, 4815, 2833, 353, 16027, 965, 19, 5341, 10547, 16221, 4948, 1872, 49795, 382, 31, 16282, 49808, 31133, 912, 97, 417, 29222, 2397, 19, 587, 505, 1044, 40024, 1433, 43, 9724, 320, 4815, 40384, 4, 26700, 49791, 244, 5036, 97, 31, 4223, 2435, 16221, 49796, 52, 12747, 2316, 3817, 775, 42, 9370, 19, 400, 49808, 3217, 27, 14492, 13390, 7863, 5, 27613, 19, 181, 44884, 346, 19, 36105, 97, 466, 47750, 45355, 19, 279, 7, 734, 284, 19, 602, 13, 7, 14, 7, 40384, 4280, 26700, 49791, 26812, 97, 43, 925, 1355, 16220, 3277, 18250, 168, 3698, 26812, 40384, 1004, 228, 41050, 19, 8183, 1457, 16221, 7815, 43, 1479, 905, 19, 21561, 31339, 17808, 5, 7172, 124, 7, 144, 7, 17990, 1793, 49792, 19]\n",
      "[19, 12003, 82, 146, 21545, 5, 4815, 27037, 19, 96, 82, 3620, 1809, 49098, 11, 27944, 8183, 27, 19, 48, 10532, 22366, 43, 3534, 2112, 3292, 22742, 12141, 480, 59, 6038, 27199, 36, 59, 19141, 19, 67, 409, 4, 4, 7351, 400, 49808, 170, 574, 12806, 3309, 48, 737, 195, 4893, 7, 299, 33334, 49796, 42737, 63, 19, 44985, 1292, 5549, 2065, 2149, 52, 13564, 41767, 49795, 19, 9632, 75, 258, 51, 49808, 2706, 19, 252, 13686, 3969, 4815, 97, 16027, 965, 19, 67, 21489, 76, 275, 211, 43240, 103, 19, 48, 102, 610, 29219, 42, 533, 481, 23980, 3095, 103, 49795, 7, 3426, 734, 2407, 117, 1030, 3945, 33695, 29647, 10698, 734, 19, 1772, 102, 19, 98, 365, 2112, 66, 527, 49808, 1073, 19, 48, 76, 549]\n",
      "[12756, 147, 9729, 45321, 6936, 49796, 7048, 100, 37384, 43, 1752, 36655, 17808, 49791, 2215, 52, 204, 219, 466, 47750, 7, 26538, 7, 28660, 335, 15192, 40354, 585, 31, 21, 16354, 67, 37439, 19, 36, 11340, 36221, 147, 4, 4815, 26838, 51, 678, 12801, 19, 5271, 26119, 21, 16354, 10563, 18523, 1069, 2997, 266, 7, 299, 102, 6177, 68, 275, 7152, 199, 713, 49796, 16889, 1793, 10, 19, 48, 31, 654, 26573, 20213, 49792, 21, 16354, 102, 29219, 1221, 5196, 7816, 49795, 19, 66, 9010, 4815, 97, 1060, 19377, 19, 98, 48, 440, 2143, 6936, 19, 480, 574, 970, 457, 4815, 6061, 19, 18022, 264, 797, 43240, 12104, 605, 19, 409, 358, 30378, 48, 17343, 31, 4216, 4815, 32591, 1385, 231, 49801, 23535, 357, 32, 43, 9745, 3277]\n",
      "loss\n"
     ]
    },
    {
     "name": "stderr",
     "output_type": "stream",
     "text": [
      "Map: 100%|██████████| 100/100 [00:00<00:00, 5674.19 examples/s]\n"
     ]
    },
    {
     "name": "stdout",
     "output_type": "stream",
     "text": [
      "100\n",
      "[2, 1729, 19, 31, 1640, 4815, 2833, 353, 16027, 965, 19, 5341, 10547, 16221, 4948, 1872, 49795, 382, 31, 16282, 49808, 31133, 912, 97, 417, 29222, 2397, 19, 587, 505, 1044, 40024, 1433, 43, 9724, 320, 4815, 40384, 4280, 4, 4, 244, 5036, 97, 31, 4223, 2435, 16221, 49796, 52, 12747, 2316, 3817, 775, 42, 9370, 19, 400, 49808, 3217, 27, 14492, 13390, 7863, 5, 27613, 19, 181, 44884, 346, 19, 36105, 97, 466, 47750, 45355, 19, 279, 7, 734, 284, 19, 602, 13, 7, 14, 7, 40384, 4280, 26700, 49791, 26812, 97, 43, 925, 1355, 16220, 3277, 18250, 168, 3698, 26812, 40384, 1004, 228, 41050, 19, 8183, 1457, 16221, 7815, 43, 1479, 905, 19, 21561, 31339, 17808, 5, 7172, 124, 7, 144, 7, 17990, 1793, 49792, 19]\n",
      "[19, 12003, 82, 146, 21545, 5, 4815, 27037, 19, 96, 82, 3620, 1809, 49098, 11, 27944, 8183, 27, 19, 48, 10532, 22366, 43, 3534, 2112, 3292, 22742, 12141, 480, 59, 6038, 27199, 36, 59, 19141, 19, 67, 409, 29219, 4, 7351, 400, 49808, 170, 574, 12806, 3309, 48, 737, 195, 4893, 7, 299, 33334, 49796, 42737, 63, 19, 44985, 1292, 5549, 2065, 2149, 52, 13564, 41767, 49795, 19, 9632, 75, 258, 51, 49808, 2706, 19, 252, 13686, 3969, 4815, 97, 16027, 965, 19, 67, 21489, 76, 275, 211, 43240, 103, 19, 48, 102, 610, 29219, 42, 533, 481, 23980, 3095, 103, 49795, 7, 3426, 734, 2407, 117, 1030, 3945, 33695, 29647, 10698, 734, 19, 1772, 102, 19, 98, 365, 2112, 66, 527, 49808, 1073, 19, 48, 76, 549]\n",
      "[12756, 147, 9729, 45321, 6936, 49796, 7048, 100, 37384, 43, 1752, 36655, 17808, 49791, 2215, 52, 204, 219, 466, 47750, 7, 26538, 7, 28660, 335, 15192, 40354, 585, 31, 21, 16354, 67, 37439, 19, 36, 11340, 36221, 147, 48, 4, 4, 4, 4, 12801, 19, 5271, 26119, 21, 16354, 10563, 18523, 1069, 2997, 266, 7, 299, 102, 6177, 68, 275, 7152, 199, 713, 49796, 16889, 1793, 10, 19, 48, 31, 654, 26573, 20213, 49792, 21, 16354, 102, 29219, 1221, 5196, 7816, 49795, 19, 66, 9010, 4815, 97, 1060, 19377, 19, 98, 48, 440, 2143, 6936, 19, 480, 574, 970, 457, 4815, 6061, 19, 18022, 264, 797, 43240, 12104, 605, 19, 409, 358, 30378, 48, 17343, 31, 4216, 4815, 32591, 1385, 231, 49801, 23535, 357, 32, 43, 9745, 3277]\n",
      "loss\n"
     ]
    },
    {
     "name": "stderr",
     "output_type": "stream",
     "text": [
      "Map: 100%|██████████| 100/100 [00:00<00:00, 5664.53 examples/s]\n"
     ]
    },
    {
     "name": "stdout",
     "output_type": "stream",
     "text": [
      "100\n",
      "[2, 1729, 19, 31, 1640, 4815, 2833, 353, 16027, 965, 19, 5341, 10547, 16221, 4948, 1872, 49795, 382, 31, 16282, 49808, 31133, 912, 97, 417, 29222, 2397, 19, 587, 505, 1044, 40024, 1433, 43, 9724, 320, 4815, 40384, 4280, 26700, 4, 244, 5036, 97, 31, 4223, 2435, 16221, 49796, 52, 12747, 2316, 3817, 775, 42, 9370, 19, 400, 49808, 3217, 27, 14492, 13390, 7863, 5, 27613, 19, 181, 44884, 346, 19, 36105, 97, 466, 47750, 45355, 19, 279, 7, 734, 284, 19, 602, 13, 7, 14, 7, 40384, 4280, 26700, 49791, 26812, 97, 43, 925, 1355, 16220, 3277, 18250, 168, 3698, 26812, 40384, 1004, 228, 41050, 19, 8183, 1457, 16221, 7815, 43, 1479, 905, 19, 21561, 31339, 17808, 5, 7172, 124, 7, 144, 7, 17990, 1793, 49792, 19]\n",
      "[19, 12003, 82, 146, 21545, 5, 4815, 27037, 19, 96, 82, 3620, 1809, 49098, 11, 27944, 8183, 27, 19, 48, 10532, 22366, 43, 3534, 2112, 3292, 22742, 12141, 480, 59, 6038, 27199, 36, 59, 19141, 19, 67, 409, 29219, 42, 4, 400, 49808, 170, 574, 12806, 3309, 48, 737, 195, 4893, 7, 299, 33334, 49796, 42737, 63, 19, 44985, 1292, 5549, 2065, 2149, 52, 13564, 41767, 49795, 19, 9632, 75, 258, 51, 49808, 2706, 19, 252, 13686, 3969, 4815, 97, 16027, 965, 19, 67, 21489, 76, 275, 211, 43240, 103, 19, 48, 102, 610, 29219, 42, 533, 481, 23980, 3095, 103, 49795, 7, 3426, 734, 2407, 117, 1030, 3945, 33695, 29647, 10698, 734, 19, 1772, 102, 19, 98, 365, 2112, 66, 527, 49808, 1073, 19, 48, 76, 549]\n",
      "[12756, 147, 9729, 45321, 6936, 49796, 7048, 100, 37384, 43, 1752, 36655, 17808, 49791, 2215, 52, 204, 219, 466, 47750, 7, 26538, 7, 28660, 335, 15192, 40354, 585, 31, 21, 16354, 67, 37439, 19, 36, 11340, 36221, 147, 48, 4815, 4, 4, 4, 12801, 19, 5271, 26119, 21, 16354, 10563, 18523, 1069, 2997, 266, 7, 299, 102, 6177, 68, 275, 7152, 199, 713, 49796, 16889, 1793, 10, 19, 48, 31, 654, 26573, 20213, 49792, 21, 16354, 102, 29219, 1221, 5196, 7816, 49795, 19, 66, 9010, 4815, 97, 1060, 19377, 19, 98, 48, 440, 2143, 6936, 19, 480, 574, 970, 457, 4815, 6061, 19, 18022, 264, 797, 43240, 12104, 605, 19, 409, 358, 30378, 48, 17343, 31, 4216, 4815, 32591, 1385, 231, 49801, 23535, 357, 32, 43, 9745, 3277]\n",
      "loss\n"
     ]
    },
    {
     "name": "stderr",
     "output_type": "stream",
     "text": [
      "Map: 100%|██████████| 100/100 [00:00<00:00, 5565.10 examples/s]\n"
     ]
    },
    {
     "name": "stdout",
     "output_type": "stream",
     "text": [
      "100\n",
      "[2, 1729, 19, 31, 1640, 4815, 2833, 353, 16027, 965, 19, 5341, 10547, 16221, 4948, 1872, 49795, 382, 31, 16282, 49808, 31133, 912, 97, 417, 29222, 2397, 19, 587, 505, 1044, 40024, 1433, 43, 9724, 320, 4815, 40384, 4280, 26700, 49791, 4, 4, 97, 31, 4223, 2435, 16221, 49796, 52, 12747, 2316, 3817, 775, 42, 9370, 19, 400, 49808, 3217, 27, 14492, 13390, 7863, 5, 27613, 19, 181, 44884, 346, 19, 36105, 97, 466, 47750, 45355, 19, 279, 7, 734, 284, 19, 602, 13, 7, 14, 7, 40384, 4280, 26700, 49791, 26812, 97, 43, 925, 1355, 16220, 3277, 18250, 168, 3698, 26812, 40384, 1004, 228, 41050, 19, 8183, 1457, 16221, 7815, 43, 1479, 905, 19, 21561, 31339, 17808, 5, 7172, 124, 7, 144, 7, 17990, 1793, 49792, 19]\n",
      "[19, 12003, 82, 146, 21545, 5, 4815, 27037, 19, 96, 82, 3620, 1809, 49098, 11, 27944, 8183, 27, 19, 48, 10532, 22366, 43, 3534, 2112, 3292, 22742, 12141, 480, 59, 6038, 27199, 36, 59, 19141, 19, 67, 409, 29219, 42, 7351, 4, 4, 4, 574, 12806, 3309, 48, 737, 195, 4893, 7, 299, 33334, 49796, 42737, 63, 19, 44985, 1292, 5549, 2065, 2149, 52, 13564, 41767, 49795, 19, 9632, 75, 258, 51, 49808, 2706, 19, 252, 13686, 3969, 4815, 97, 16027, 965, 19, 67, 21489, 76, 275, 211, 43240, 103, 19, 48, 102, 610, 29219, 42, 533, 481, 23980, 3095, 103, 49795, 7, 3426, 734, 2407, 117, 1030, 3945, 33695, 29647, 10698, 734, 19, 1772, 102, 19, 98, 365, 2112, 66, 527, 49808, 1073, 19, 48, 76, 549]\n",
      "[12756, 147, 9729, 45321, 6936, 49796, 7048, 100, 37384, 43, 1752, 36655, 17808, 49791, 2215, 52, 204, 219, 466, 47750, 7, 26538, 7, 28660, 335, 15192, 40354, 585, 31, 21, 16354, 67, 37439, 19, 36, 11340, 36221, 147, 48, 4815, 26838, 4, 4, 12801, 19, 5271, 26119, 21, 16354, 10563, 18523, 1069, 2997, 266, 7, 299, 102, 6177, 68, 275, 7152, 199, 713, 49796, 16889, 1793, 10, 19, 48, 31, 654, 26573, 20213, 49792, 21, 16354, 102, 29219, 1221, 5196, 7816, 49795, 19, 66, 9010, 4815, 97, 1060, 19377, 19, 98, 48, 440, 2143, 6936, 19, 480, 574, 970, 457, 4815, 6061, 19, 18022, 264, 797, 43240, 12104, 605, 19, 409, 358, 30378, 48, 17343, 31, 4216, 4815, 32591, 1385, 231, 49801, 23535, 357, 32, 43, 9745, 3277]\n",
      "loss\n"
     ]
    },
    {
     "name": "stderr",
     "output_type": "stream",
     "text": [
      "Map: 100%|██████████| 100/100 [00:00<00:00, 5584.07 examples/s]\n"
     ]
    },
    {
     "name": "stdout",
     "output_type": "stream",
     "text": [
      "100\n",
      "[2, 1729, 19, 31, 1640, 4815, 2833, 353, 16027, 965, 19, 5341, 10547, 16221, 4948, 1872, 49795, 382, 31, 16282, 49808, 31133, 912, 97, 417, 29222, 2397, 19, 587, 505, 1044, 40024, 1433, 43, 9724, 320, 4815, 40384, 4280, 26700, 49791, 244, 4, 97, 31, 4223, 2435, 16221, 49796, 52, 12747, 2316, 3817, 775, 42, 9370, 19, 400, 49808, 3217, 27, 14492, 13390, 7863, 5, 27613, 19, 181, 44884, 346, 19, 36105, 97, 466, 47750, 45355, 19, 279, 7, 734, 284, 19, 602, 13, 7, 14, 7, 40384, 4280, 26700, 49791, 26812, 97, 43, 925, 1355, 16220, 3277, 18250, 168, 3698, 26812, 40384, 1004, 228, 41050, 19, 8183, 1457, 16221, 7815, 43, 1479, 905, 19, 21561, 31339, 17808, 5, 7172, 124, 7, 144, 7, 17990, 1793, 49792, 19]\n",
      "[19, 12003, 82, 146, 21545, 5, 4815, 27037, 19, 96, 82, 3620, 1809, 49098, 11, 27944, 8183, 27, 19, 48, 10532, 22366, 43, 3534, 2112, 3292, 22742, 12141, 480, 59, 6038, 27199, 36, 59, 19141, 19, 67, 409, 29219, 42, 7351, 400, 4, 4, 574, 12806, 3309, 48, 737, 195, 4893, 7, 299, 33334, 49796, 42737, 63, 19, 44985, 1292, 5549, 2065, 2149, 52, 13564, 41767, 49795, 19, 9632, 75, 258, 51, 49808, 2706, 19, 252, 13686, 3969, 4815, 97, 16027, 965, 19, 67, 21489, 76, 275, 211, 43240, 103, 19, 48, 102, 610, 29219, 42, 533, 481, 23980, 3095, 103, 49795, 7, 3426, 734, 2407, 117, 1030, 3945, 33695, 29647, 10698, 734, 19, 1772, 102, 19, 98, 365, 2112, 66, 527, 49808, 1073, 19, 48, 76, 549]\n",
      "[12756, 147, 9729, 45321, 6936, 49796, 7048, 100, 37384, 43, 1752, 36655, 17808, 49791, 2215, 52, 204, 219, 466, 47750, 7, 26538, 7, 28660, 335, 15192, 40354, 585, 31, 21, 16354, 67, 37439, 19, 36, 11340, 36221, 147, 48, 4815, 26838, 51, 4, 12801, 19, 5271, 26119, 21, 16354, 10563, 18523, 1069, 2997, 266, 7, 299, 102, 6177, 68, 275, 7152, 199, 713, 49796, 16889, 1793, 10, 19, 48, 31, 654, 26573, 20213, 49792, 21, 16354, 102, 29219, 1221, 5196, 7816, 49795, 19, 66, 9010, 4815, 97, 1060, 19377, 19, 98, 48, 440, 2143, 6936, 19, 480, 574, 970, 457, 4815, 6061, 19, 18022, 264, 797, 43240, 12104, 605, 19, 409, 358, 30378, 48, 17343, 31, 4216, 4815, 32591, 1385, 231, 49801, 23535, 357, 32, 43, 9745, 3277]\n",
      "loss\n"
     ]
    },
    {
     "name": "stderr",
     "output_type": "stream",
     "text": [
      "Map: 100%|██████████| 100/100 [00:00<00:00, 5615.54 examples/s]\n"
     ]
    },
    {
     "name": "stdout",
     "output_type": "stream",
     "text": [
      "100\n",
      "[2, 1729, 19, 31, 1640, 4815, 2833, 353, 16027, 965, 19, 5341, 10547, 16221, 4948, 1872, 49795, 382, 31, 16282, 49808, 31133, 912, 97, 417, 29222, 2397, 19, 587, 505, 1044, 40024, 1433, 43, 9724, 320, 4815, 40384, 4280, 26700, 49791, 244, 5036, 4, 31, 4223, 2435, 16221, 49796, 52, 12747, 2316, 3817, 775, 42, 9370, 19, 400, 49808, 3217, 27, 14492, 13390, 7863, 5, 27613, 19, 181, 44884, 346, 19, 36105, 97, 466, 47750, 45355, 19, 279, 7, 734, 284, 19, 602, 13, 7, 14, 7, 40384, 4280, 26700, 49791, 26812, 97, 43, 925, 1355, 16220, 3277, 18250, 168, 3698, 26812, 40384, 1004, 228, 41050, 19, 8183, 1457, 16221, 7815, 43, 1479, 905, 19, 21561, 31339, 17808, 5, 7172, 124, 7, 144, 7, 17990, 1793, 49792, 19]\n",
      "[19, 12003, 82, 146, 21545, 5, 4815, 27037, 19, 96, 82, 3620, 1809, 49098, 11, 27944, 8183, 27, 19, 48, 10532, 22366, 43, 3534, 2112, 3292, 22742, 12141, 480, 59, 6038, 27199, 36, 59, 19141, 19, 67, 409, 29219, 42, 7351, 400, 49808, 4, 574, 12806, 3309, 48, 737, 195, 4893, 7, 299, 33334, 49796, 42737, 63, 19, 44985, 1292, 5549, 2065, 2149, 52, 13564, 41767, 49795, 19, 9632, 75, 258, 51, 49808, 2706, 19, 252, 13686, 3969, 4815, 97, 16027, 965, 19, 67, 21489, 76, 275, 211, 43240, 103, 19, 48, 102, 610, 29219, 42, 533, 481, 23980, 3095, 103, 49795, 7, 3426, 734, 2407, 117, 1030, 3945, 33695, 29647, 10698, 734, 19, 1772, 102, 19, 98, 365, 2112, 66, 527, 49808, 1073, 19, 48, 76, 549]\n",
      "[12756, 147, 9729, 45321, 6936, 49796, 7048, 100, 37384, 43, 1752, 36655, 17808, 49791, 2215, 52, 204, 219, 466, 47750, 7, 26538, 7, 28660, 335, 15192, 40354, 585, 31, 21, 16354, 67, 37439, 19, 36, 11340, 36221, 147, 48, 4815, 26838, 51, 678, 4, 19, 5271, 26119, 21, 16354, 10563, 18523, 1069, 2997, 266, 7, 299, 102, 6177, 68, 275, 7152, 199, 713, 49796, 16889, 1793, 10, 19, 48, 31, 654, 26573, 20213, 49792, 21, 16354, 102, 29219, 1221, 5196, 7816, 49795, 19, 66, 9010, 4815, 97, 1060, 19377, 19, 98, 48, 440, 2143, 6936, 19, 480, 574, 970, 457, 4815, 6061, 19, 18022, 264, 797, 43240, 12104, 605, 19, 409, 358, 30378, 48, 17343, 31, 4216, 4815, 32591, 1385, 231, 49801, 23535, 357, 32, 43, 9745, 3277]\n",
      "loss\n"
     ]
    },
    {
     "name": "stderr",
     "output_type": "stream",
     "text": [
      "Map: 100%|██████████| 100/100 [00:00<00:00, 5607.36 examples/s]\n"
     ]
    },
    {
     "name": "stdout",
     "output_type": "stream",
     "text": [
      "100\n",
      "[2, 1729, 19, 31, 1640, 4815, 2833, 353, 16027, 965, 19, 5341, 10547, 16221, 4948, 1872, 49795, 382, 31, 16282, 49808, 31133, 912, 97, 417, 29222, 2397, 19, 587, 505, 1044, 40024, 1433, 43, 9724, 320, 4815, 40384, 4280, 26700, 49791, 244, 5036, 97, 4, 4223, 2435, 16221, 49796, 52, 12747, 2316, 3817, 775, 42, 9370, 19, 400, 49808, 3217, 27, 14492, 13390, 7863, 5, 27613, 19, 181, 44884, 346, 19, 36105, 97, 466, 47750, 45355, 19, 279, 7, 734, 284, 19, 602, 13, 7, 14, 7, 40384, 4280, 26700, 49791, 26812, 97, 43, 925, 1355, 16220, 3277, 18250, 168, 3698, 26812, 40384, 1004, 228, 41050, 19, 8183, 1457, 16221, 7815, 43, 1479, 905, 19, 21561, 31339, 17808, 5, 7172, 124, 7, 144, 7, 17990, 1793, 49792, 19]\n",
      "[19, 12003, 82, 146, 21545, 5, 4815, 27037, 19, 96, 82, 3620, 1809, 49098, 11, 27944, 8183, 27, 19, 48, 10532, 22366, 43, 3534, 2112, 3292, 22742, 12141, 480, 59, 6038, 27199, 36, 59, 19141, 19, 67, 409, 29219, 42, 7351, 400, 49808, 170, 4, 12806, 3309, 48, 737, 195, 4893, 7, 299, 33334, 49796, 42737, 63, 19, 44985, 1292, 5549, 2065, 2149, 52, 13564, 41767, 49795, 19, 9632, 75, 258, 51, 49808, 2706, 19, 252, 13686, 3969, 4815, 97, 16027, 965, 19, 67, 21489, 76, 275, 211, 43240, 103, 19, 48, 102, 610, 29219, 42, 533, 481, 23980, 3095, 103, 49795, 7, 3426, 734, 2407, 117, 1030, 3945, 33695, 29647, 10698, 734, 19, 1772, 102, 19, 98, 365, 2112, 66, 527, 49808, 1073, 19, 48, 76, 549]\n",
      "[12756, 147, 9729, 45321, 6936, 49796, 7048, 100, 37384, 43, 1752, 36655, 17808, 49791, 2215, 52, 204, 219, 466, 47750, 7, 26538, 7, 28660, 335, 15192, 40354, 585, 31, 21, 16354, 67, 37439, 19, 36, 11340, 36221, 147, 48, 4815, 26838, 51, 678, 12801, 4, 5271, 26119, 21, 16354, 10563, 18523, 1069, 2997, 266, 7, 299, 102, 6177, 68, 275, 7152, 199, 713, 49796, 16889, 1793, 10, 19, 48, 31, 654, 26573, 20213, 49792, 21, 16354, 102, 29219, 1221, 5196, 7816, 49795, 19, 66, 9010, 4815, 97, 1060, 19377, 19, 98, 48, 440, 2143, 6936, 19, 480, 574, 970, 457, 4815, 6061, 19, 18022, 264, 797, 43240, 12104, 605, 19, 409, 358, 30378, 48, 17343, 31, 4216, 4815, 32591, 1385, 231, 49801, 23535, 357, 32, 43, 9745, 3277]\n",
      "loss\n"
     ]
    },
    {
     "name": "stderr",
     "output_type": "stream",
     "text": [
      "Map: 100%|██████████| 100/100 [00:00<00:00, 5601.97 examples/s]\n"
     ]
    },
    {
     "name": "stdout",
     "output_type": "stream",
     "text": [
      "100\n",
      "[2, 1729, 19, 31, 1640, 4815, 2833, 353, 16027, 965, 19, 5341, 10547, 16221, 4948, 1872, 49795, 382, 31, 16282, 49808, 31133, 912, 97, 417, 29222, 2397, 19, 587, 505, 1044, 40024, 1433, 43, 9724, 320, 4815, 40384, 4280, 26700, 49791, 244, 5036, 97, 31, 4, 2435, 16221, 49796, 52, 12747, 2316, 3817, 775, 42, 9370, 19, 400, 49808, 3217, 27, 14492, 13390, 7863, 5, 27613, 19, 181, 44884, 346, 19, 36105, 97, 466, 47750, 45355, 19, 279, 7, 734, 284, 19, 602, 13, 7, 14, 7, 40384, 4280, 26700, 49791, 26812, 97, 43, 925, 1355, 16220, 3277, 18250, 168, 3698, 26812, 40384, 1004, 228, 41050, 19, 8183, 1457, 16221, 7815, 43, 1479, 905, 19, 21561, 31339, 17808, 5, 7172, 124, 7, 144, 7, 17990, 1793, 49792, 19]\n",
      "[19, 12003, 82, 146, 21545, 5, 4815, 27037, 19, 96, 82, 3620, 1809, 49098, 11, 27944, 8183, 27, 19, 48, 10532, 22366, 43, 3534, 2112, 3292, 22742, 12141, 480, 59, 6038, 27199, 36, 59, 19141, 19, 67, 409, 29219, 42, 7351, 400, 49808, 170, 574, 4, 3309, 48, 737, 195, 4893, 7, 299, 33334, 49796, 42737, 63, 19, 44985, 1292, 5549, 2065, 2149, 52, 13564, 41767, 49795, 19, 9632, 75, 258, 51, 49808, 2706, 19, 252, 13686, 3969, 4815, 97, 16027, 965, 19, 67, 21489, 76, 275, 211, 43240, 103, 19, 48, 102, 610, 29219, 42, 533, 481, 23980, 3095, 103, 49795, 7, 3426, 734, 2407, 117, 1030, 3945, 33695, 29647, 10698, 734, 19, 1772, 102, 19, 98, 365, 2112, 66, 527, 49808, 1073, 19, 48, 76, 549]\n",
      "[12756, 147, 9729, 45321, 6936, 49796, 7048, 100, 37384, 43, 1752, 36655, 17808, 49791, 2215, 52, 204, 219, 466, 47750, 7, 26538, 7, 28660, 335, 15192, 40354, 585, 31, 21, 16354, 67, 37439, 19, 36, 11340, 36221, 147, 48, 4815, 26838, 51, 678, 12801, 19, 4, 4, 21, 16354, 10563, 18523, 1069, 2997, 266, 7, 299, 102, 6177, 68, 275, 7152, 199, 713, 49796, 16889, 1793, 10, 19, 48, 31, 654, 26573, 20213, 49792, 21, 16354, 102, 29219, 1221, 5196, 7816, 49795, 19, 66, 9010, 4815, 97, 1060, 19377, 19, 98, 48, 440, 2143, 6936, 19, 480, 574, 970, 457, 4815, 6061, 19, 18022, 264, 797, 43240, 12104, 605, 19, 409, 358, 30378, 48, 17343, 31, 4216, 4815, 32591, 1385, 231, 49801, 23535, 357, 32, 43, 9745, 3277]\n",
      "loss\n"
     ]
    },
    {
     "name": "stderr",
     "output_type": "stream",
     "text": [
      "Map: 100%|██████████| 100/100 [00:00<00:00, 5657.05 examples/s]\n"
     ]
    },
    {
     "name": "stdout",
     "output_type": "stream",
     "text": [
      "100\n",
      "[2, 1729, 19, 31, 1640, 4815, 2833, 353, 16027, 965, 19, 5341, 10547, 16221, 4948, 1872, 49795, 382, 31, 16282, 49808, 31133, 912, 97, 417, 29222, 2397, 19, 587, 505, 1044, 40024, 1433, 43, 9724, 320, 4815, 40384, 4280, 26700, 49791, 244, 5036, 97, 31, 4223, 4, 16221, 49796, 52, 12747, 2316, 3817, 775, 42, 9370, 19, 400, 49808, 3217, 27, 14492, 13390, 7863, 5, 27613, 19, 181, 44884, 346, 19, 36105, 97, 466, 47750, 45355, 19, 279, 7, 734, 284, 19, 602, 13, 7, 14, 7, 40384, 4280, 26700, 49791, 26812, 97, 43, 925, 1355, 16220, 3277, 18250, 168, 3698, 26812, 40384, 1004, 228, 41050, 19, 8183, 1457, 16221, 7815, 43, 1479, 905, 19, 21561, 31339, 17808, 5, 7172, 124, 7, 144, 7, 17990, 1793, 49792, 19]\n",
      "[19, 12003, 82, 146, 21545, 5, 4815, 27037, 19, 96, 82, 3620, 1809, 49098, 11, 27944, 8183, 27, 19, 48, 10532, 22366, 43, 3534, 2112, 3292, 22742, 12141, 480, 59, 6038, 27199, 36, 59, 19141, 19, 67, 409, 29219, 42, 7351, 400, 49808, 170, 574, 12806, 4, 48, 737, 195, 4893, 7, 299, 33334, 49796, 42737, 63, 19, 44985, 1292, 5549, 2065, 2149, 52, 13564, 41767, 49795, 19, 9632, 75, 258, 51, 49808, 2706, 19, 252, 13686, 3969, 4815, 97, 16027, 965, 19, 67, 21489, 76, 275, 211, 43240, 103, 19, 48, 102, 610, 29219, 42, 533, 481, 23980, 3095, 103, 49795, 7, 3426, 734, 2407, 117, 1030, 3945, 33695, 29647, 10698, 734, 19, 1772, 102, 19, 98, 365, 2112, 66, 527, 49808, 1073, 19, 48, 76, 549]\n",
      "[12756, 147, 9729, 45321, 6936, 49796, 7048, 100, 37384, 43, 1752, 36655, 17808, 49791, 2215, 52, 204, 219, 466, 47750, 7, 26538, 7, 28660, 335, 15192, 40354, 585, 31, 21, 16354, 67, 37439, 19, 36, 11340, 36221, 147, 48, 4815, 26838, 51, 678, 12801, 19, 5271, 4, 21, 16354, 10563, 18523, 1069, 2997, 266, 7, 299, 102, 6177, 68, 275, 7152, 199, 713, 49796, 16889, 1793, 10, 19, 48, 31, 654, 26573, 20213, 49792, 21, 16354, 102, 29219, 1221, 5196, 7816, 49795, 19, 66, 9010, 4815, 97, 1060, 19377, 19, 98, 48, 440, 2143, 6936, 19, 480, 574, 970, 457, 4815, 6061, 19, 18022, 264, 797, 43240, 12104, 605, 19, 409, 358, 30378, 48, 17343, 31, 4216, 4815, 32591, 1385, 231, 49801, 23535, 357, 32, 43, 9745, 3277]\n",
      "loss\n"
     ]
    },
    {
     "name": "stderr",
     "output_type": "stream",
     "text": [
      "Map: 100%|██████████| 100/100 [00:00<00:00, 5639.70 examples/s]\n"
     ]
    },
    {
     "name": "stdout",
     "output_type": "stream",
     "text": [
      "100\n",
      "[2, 1729, 19, 31, 1640, 4815, 2833, 353, 16027, 965, 19, 5341, 10547, 16221, 4948, 1872, 49795, 382, 31, 16282, 49808, 31133, 912, 97, 417, 29222, 2397, 19, 587, 505, 1044, 40024, 1433, 43, 9724, 320, 4815, 40384, 4280, 26700, 49791, 244, 5036, 97, 31, 4223, 2435, 4, 4, 52, 12747, 2316, 3817, 775, 42, 9370, 19, 400, 49808, 3217, 27, 14492, 13390, 7863, 5, 27613, 19, 181, 44884, 346, 19, 36105, 97, 466, 47750, 45355, 19, 279, 7, 734, 284, 19, 602, 13, 7, 14, 7, 40384, 4280, 26700, 49791, 26812, 97, 43, 925, 1355, 16220, 3277, 18250, 168, 3698, 26812, 40384, 1004, 228, 41050, 19, 8183, 1457, 16221, 7815, 43, 1479, 905, 19, 21561, 31339, 17808, 5, 7172, 124, 7, 144, 7, 17990, 1793, 49792, 19]\n",
      "[19, 12003, 82, 146, 21545, 5, 4815, 27037, 19, 96, 82, 3620, 1809, 49098, 11, 27944, 8183, 27, 19, 48, 10532, 22366, 43, 3534, 2112, 3292, 22742, 12141, 480, 59, 6038, 27199, 36, 59, 19141, 19, 67, 409, 29219, 42, 7351, 400, 49808, 170, 574, 12806, 3309, 4, 737, 195, 4893, 7, 299, 33334, 49796, 42737, 63, 19, 44985, 1292, 5549, 2065, 2149, 52, 13564, 41767, 49795, 19, 9632, 75, 258, 51, 49808, 2706, 19, 252, 13686, 3969, 4815, 97, 16027, 965, 19, 67, 21489, 76, 275, 211, 43240, 103, 19, 48, 102, 610, 29219, 42, 533, 481, 23980, 3095, 103, 49795, 7, 3426, 734, 2407, 117, 1030, 3945, 33695, 29647, 10698, 734, 19, 1772, 102, 19, 98, 365, 2112, 66, 527, 49808, 1073, 19, 48, 76, 549]\n",
      "[12756, 147, 9729, 45321, 6936, 49796, 7048, 100, 37384, 43, 1752, 36655, 17808, 49791, 2215, 52, 204, 219, 466, 47750, 7, 26538, 7, 28660, 335, 15192, 40354, 585, 31, 21, 16354, 67, 37439, 19, 36, 11340, 36221, 147, 48, 4815, 26838, 51, 678, 12801, 19, 5271, 26119, 4, 4, 10563, 18523, 1069, 2997, 266, 7, 299, 102, 6177, 68, 275, 7152, 199, 713, 49796, 16889, 1793, 10, 19, 48, 31, 654, 26573, 20213, 49792, 21, 16354, 102, 29219, 1221, 5196, 7816, 49795, 19, 66, 9010, 4815, 97, 1060, 19377, 19, 98, 48, 440, 2143, 6936, 19, 480, 574, 970, 457, 4815, 6061, 19, 18022, 264, 797, 43240, 12104, 605, 19, 409, 358, 30378, 48, 17343, 31, 4216, 4815, 32591, 1385, 231, 49801, 23535, 357, 32, 43, 9745, 3277]\n",
      "loss\n"
     ]
    },
    {
     "name": "stderr",
     "output_type": "stream",
     "text": [
      "Map: 100%|██████████| 100/100 [00:00<00:00, 5632.74 examples/s]\n"
     ]
    },
    {
     "name": "stdout",
     "output_type": "stream",
     "text": [
      "100\n",
      "[2, 1729, 19, 31, 1640, 4815, 2833, 353, 16027, 965, 19, 5341, 10547, 16221, 4948, 1872, 49795, 382, 31, 16282, 49808, 31133, 912, 97, 417, 29222, 2397, 19, 587, 505, 1044, 40024, 1433, 43, 9724, 320, 4815, 40384, 4280, 26700, 49791, 244, 5036, 97, 31, 4223, 2435, 16221, 4, 52, 12747, 2316, 3817, 775, 42, 9370, 19, 400, 49808, 3217, 27, 14492, 13390, 7863, 5, 27613, 19, 181, 44884, 346, 19, 36105, 97, 466, 47750, 45355, 19, 279, 7, 734, 284, 19, 602, 13, 7, 14, 7, 40384, 4280, 26700, 49791, 26812, 97, 43, 925, 1355, 16220, 3277, 18250, 168, 3698, 26812, 40384, 1004, 228, 41050, 19, 8183, 1457, 16221, 7815, 43, 1479, 905, 19, 21561, 31339, 17808, 5, 7172, 124, 7, 144, 7, 17990, 1793, 49792, 19]\n",
      "[19, 12003, 82, 146, 21545, 5, 4815, 27037, 19, 96, 82, 3620, 1809, 49098, 11, 27944, 8183, 27, 19, 48, 10532, 22366, 43, 3534, 2112, 3292, 22742, 12141, 480, 59, 6038, 27199, 36, 59, 19141, 19, 67, 409, 29219, 42, 7351, 400, 49808, 170, 574, 12806, 3309, 48, 4, 195, 4893, 7, 299, 33334, 49796, 42737, 63, 19, 44985, 1292, 5549, 2065, 2149, 52, 13564, 41767, 49795, 19, 9632, 75, 258, 51, 49808, 2706, 19, 252, 13686, 3969, 4815, 97, 16027, 965, 19, 67, 21489, 76, 275, 211, 43240, 103, 19, 48, 102, 610, 29219, 42, 533, 481, 23980, 3095, 103, 49795, 7, 3426, 734, 2407, 117, 1030, 3945, 33695, 29647, 10698, 734, 19, 1772, 102, 19, 98, 365, 2112, 66, 527, 49808, 1073, 19, 48, 76, 549]\n",
      "[12756, 147, 9729, 45321, 6936, 49796, 7048, 100, 37384, 43, 1752, 36655, 17808, 49791, 2215, 52, 204, 219, 466, 47750, 7, 26538, 7, 28660, 335, 15192, 40354, 585, 31, 21, 16354, 67, 37439, 19, 36, 11340, 36221, 147, 48, 4815, 26838, 51, 678, 12801, 19, 5271, 26119, 21, 4, 10563, 18523, 1069, 2997, 266, 7, 299, 102, 6177, 68, 275, 7152, 199, 713, 49796, 16889, 1793, 10, 19, 48, 31, 654, 26573, 20213, 49792, 21, 16354, 102, 29219, 1221, 5196, 7816, 49795, 19, 66, 9010, 4815, 97, 1060, 19377, 19, 98, 48, 440, 2143, 6936, 19, 480, 574, 970, 457, 4815, 6061, 19, 18022, 264, 797, 43240, 12104, 605, 19, 409, 358, 30378, 48, 17343, 31, 4216, 4815, 32591, 1385, 231, 49801, 23535, 357, 32, 43, 9745, 3277]\n",
      "loss\n"
     ]
    },
    {
     "name": "stderr",
     "output_type": "stream",
     "text": [
      "Map: 100%|██████████| 100/100 [00:00<00:00, 5611.33 examples/s]\n"
     ]
    },
    {
     "name": "stdout",
     "output_type": "stream",
     "text": [
      "100\n",
      "[2, 1729, 19, 31, 1640, 4815, 2833, 353, 16027, 965, 19, 5341, 10547, 16221, 4948, 1872, 49795, 382, 31, 16282, 49808, 31133, 912, 97, 417, 29222, 2397, 19, 587, 505, 1044, 40024, 1433, 43, 9724, 320, 4815, 40384, 4280, 26700, 49791, 244, 5036, 97, 31, 4223, 2435, 16221, 49796, 4, 12747, 2316, 3817, 775, 42, 9370, 19, 400, 49808, 3217, 27, 14492, 13390, 7863, 5, 27613, 19, 181, 44884, 346, 19, 36105, 97, 466, 47750, 45355, 19, 279, 7, 734, 284, 19, 602, 13, 7, 14, 7, 40384, 4280, 26700, 49791, 26812, 97, 43, 925, 1355, 16220, 3277, 18250, 168, 3698, 26812, 40384, 1004, 228, 41050, 19, 8183, 1457, 16221, 7815, 43, 1479, 905, 19, 21561, 31339, 17808, 5, 7172, 124, 7, 144, 7, 17990, 1793, 49792, 19]\n",
      "[19, 12003, 82, 146, 21545, 5, 4815, 27037, 19, 96, 82, 3620, 1809, 49098, 11, 27944, 8183, 27, 19, 48, 10532, 22366, 43, 3534, 2112, 3292, 22742, 12141, 480, 59, 6038, 27199, 36, 59, 19141, 19, 67, 409, 29219, 42, 7351, 400, 49808, 170, 574, 12806, 3309, 48, 737, 4, 4893, 7, 299, 33334, 49796, 42737, 63, 19, 44985, 1292, 5549, 2065, 2149, 52, 13564, 41767, 49795, 19, 9632, 75, 258, 51, 49808, 2706, 19, 252, 13686, 3969, 4815, 97, 16027, 965, 19, 67, 21489, 76, 275, 211, 43240, 103, 19, 48, 102, 610, 29219, 42, 533, 481, 23980, 3095, 103, 49795, 7, 3426, 734, 2407, 117, 1030, 3945, 33695, 29647, 10698, 734, 19, 1772, 102, 19, 98, 365, 2112, 66, 527, 49808, 1073, 19, 48, 76, 549]\n",
      "[12756, 147, 9729, 45321, 6936, 49796, 7048, 100, 37384, 43, 1752, 36655, 17808, 49791, 2215, 52, 204, 219, 466, 47750, 7, 26538, 7, 28660, 335, 15192, 40354, 585, 31, 21, 16354, 67, 37439, 19, 36, 11340, 36221, 147, 48, 4815, 26838, 51, 678, 12801, 19, 5271, 26119, 21, 16354, 4, 4, 4, 2997, 266, 7, 299, 102, 6177, 68, 275, 7152, 199, 713, 49796, 16889, 1793, 10, 19, 48, 31, 654, 26573, 20213, 49792, 21, 16354, 102, 29219, 1221, 5196, 7816, 49795, 19, 66, 9010, 4815, 97, 1060, 19377, 19, 98, 48, 440, 2143, 6936, 19, 480, 574, 970, 457, 4815, 6061, 19, 18022, 264, 797, 43240, 12104, 605, 19, 409, 358, 30378, 48, 17343, 31, 4216, 4815, 32591, 1385, 231, 49801, 23535, 357, 32, 43, 9745, 3277]\n",
      "loss\n"
     ]
    },
    {
     "name": "stderr",
     "output_type": "stream",
     "text": [
      "Map: 100%|██████████| 100/100 [00:00<00:00, 5629.94 examples/s]\n"
     ]
    },
    {
     "name": "stdout",
     "output_type": "stream",
     "text": [
      "100\n",
      "[2, 1729, 19, 31, 1640, 4815, 2833, 353, 16027, 965, 19, 5341, 10547, 16221, 4948, 1872, 49795, 382, 31, 16282, 49808, 31133, 912, 97, 417, 29222, 2397, 19, 587, 505, 1044, 40024, 1433, 43, 9724, 320, 4815, 40384, 4280, 26700, 49791, 244, 5036, 97, 31, 4223, 2435, 16221, 49796, 52, 4, 2316, 3817, 775, 42, 9370, 19, 400, 49808, 3217, 27, 14492, 13390, 7863, 5, 27613, 19, 181, 44884, 346, 19, 36105, 97, 466, 47750, 45355, 19, 279, 7, 734, 284, 19, 602, 13, 7, 14, 7, 40384, 4280, 26700, 49791, 26812, 97, 43, 925, 1355, 16220, 3277, 18250, 168, 3698, 26812, 40384, 1004, 228, 41050, 19, 8183, 1457, 16221, 7815, 43, 1479, 905, 19, 21561, 31339, 17808, 5, 7172, 124, 7, 144, 7, 17990, 1793, 49792, 19]\n",
      "[19, 12003, 82, 146, 21545, 5, 4815, 27037, 19, 96, 82, 3620, 1809, 49098, 11, 27944, 8183, 27, 19, 48, 10532, 22366, 43, 3534, 2112, 3292, 22742, 12141, 480, 59, 6038, 27199, 36, 59, 19141, 19, 67, 409, 29219, 42, 7351, 400, 49808, 170, 574, 12806, 3309, 48, 737, 195, 4, 7, 299, 33334, 49796, 42737, 63, 19, 44985, 1292, 5549, 2065, 2149, 52, 13564, 41767, 49795, 19, 9632, 75, 258, 51, 49808, 2706, 19, 252, 13686, 3969, 4815, 97, 16027, 965, 19, 67, 21489, 76, 275, 211, 43240, 103, 19, 48, 102, 610, 29219, 42, 533, 481, 23980, 3095, 103, 49795, 7, 3426, 734, 2407, 117, 1030, 3945, 33695, 29647, 10698, 734, 19, 1772, 102, 19, 98, 365, 2112, 66, 527, 49808, 1073, 19, 48, 76, 549]\n",
      "[12756, 147, 9729, 45321, 6936, 49796, 7048, 100, 37384, 43, 1752, 36655, 17808, 49791, 2215, 52, 204, 219, 466, 47750, 7, 26538, 7, 28660, 335, 15192, 40354, 585, 31, 21, 16354, 67, 37439, 19, 36, 11340, 36221, 147, 48, 4815, 26838, 51, 678, 12801, 19, 5271, 26119, 21, 16354, 10563, 4, 4, 2997, 266, 7, 299, 102, 6177, 68, 275, 7152, 199, 713, 49796, 16889, 1793, 10, 19, 48, 31, 654, 26573, 20213, 49792, 21, 16354, 102, 29219, 1221, 5196, 7816, 49795, 19, 66, 9010, 4815, 97, 1060, 19377, 19, 98, 48, 440, 2143, 6936, 19, 480, 574, 970, 457, 4815, 6061, 19, 18022, 264, 797, 43240, 12104, 605, 19, 409, 358, 30378, 48, 17343, 31, 4216, 4815, 32591, 1385, 231, 49801, 23535, 357, 32, 43, 9745, 3277]\n",
      "loss\n"
     ]
    },
    {
     "name": "stderr",
     "output_type": "stream",
     "text": [
      "Map: 100%|██████████| 100/100 [00:00<00:00, 5619.83 examples/s]\n"
     ]
    },
    {
     "name": "stdout",
     "output_type": "stream",
     "text": [
      "100\n",
      "[2, 1729, 19, 31, 1640, 4815, 2833, 353, 16027, 965, 19, 5341, 10547, 16221, 4948, 1872, 49795, 382, 31, 16282, 49808, 31133, 912, 97, 417, 29222, 2397, 19, 587, 505, 1044, 40024, 1433, 43, 9724, 320, 4815, 40384, 4280, 26700, 49791, 244, 5036, 97, 31, 4223, 2435, 16221, 49796, 52, 12747, 4, 4, 4, 4, 9370, 19, 400, 49808, 3217, 27, 14492, 13390, 7863, 5, 27613, 19, 181, 44884, 346, 19, 36105, 97, 466, 47750, 45355, 19, 279, 7, 734, 284, 19, 602, 13, 7, 14, 7, 40384, 4280, 26700, 49791, 26812, 97, 43, 925, 1355, 16220, 3277, 18250, 168, 3698, 26812, 40384, 1004, 228, 41050, 19, 8183, 1457, 16221, 7815, 43, 1479, 905, 19, 21561, 31339, 17808, 5, 7172, 124, 7, 144, 7, 17990, 1793, 49792, 19]\n",
      "[19, 12003, 82, 146, 21545, 5, 4815, 27037, 19, 96, 82, 3620, 1809, 49098, 11, 27944, 8183, 27, 19, 48, 10532, 22366, 43, 3534, 2112, 3292, 22742, 12141, 480, 59, 6038, 27199, 36, 59, 19141, 19, 67, 409, 29219, 42, 7351, 400, 49808, 170, 574, 12806, 3309, 48, 737, 195, 4893, 4, 299, 33334, 49796, 42737, 63, 19, 44985, 1292, 5549, 2065, 2149, 52, 13564, 41767, 49795, 19, 9632, 75, 258, 51, 49808, 2706, 19, 252, 13686, 3969, 4815, 97, 16027, 965, 19, 67, 21489, 76, 275, 211, 43240, 103, 19, 48, 102, 610, 29219, 42, 533, 481, 23980, 3095, 103, 49795, 7, 3426, 734, 2407, 117, 1030, 3945, 33695, 29647, 10698, 734, 19, 1772, 102, 19, 98, 365, 2112, 66, 527, 49808, 1073, 19, 48, 76, 549]\n",
      "[12756, 147, 9729, 45321, 6936, 49796, 7048, 100, 37384, 43, 1752, 36655, 17808, 49791, 2215, 52, 204, 219, 466, 47750, 7, 26538, 7, 28660, 335, 15192, 40354, 585, 31, 21, 16354, 67, 37439, 19, 36, 11340, 36221, 147, 48, 4815, 26838, 51, 678, 12801, 19, 5271, 26119, 21, 16354, 10563, 18523, 4, 2997, 266, 7, 299, 102, 6177, 68, 275, 7152, 199, 713, 49796, 16889, 1793, 10, 19, 48, 31, 654, 26573, 20213, 49792, 21, 16354, 102, 29219, 1221, 5196, 7816, 49795, 19, 66, 9010, 4815, 97, 1060, 19377, 19, 98, 48, 440, 2143, 6936, 19, 480, 574, 970, 457, 4815, 6061, 19, 18022, 264, 797, 43240, 12104, 605, 19, 409, 358, 30378, 48, 17343, 31, 4216, 4815, 32591, 1385, 231, 49801, 23535, 357, 32, 43, 9745, 3277]\n",
      "loss\n"
     ]
    },
    {
     "name": "stderr",
     "output_type": "stream",
     "text": [
      "Map: 100%|██████████| 100/100 [00:00<00:00, 5615.39 examples/s]\n"
     ]
    },
    {
     "name": "stdout",
     "output_type": "stream",
     "text": [
      "100\n",
      "[2, 1729, 19, 31, 1640, 4815, 2833, 353, 16027, 965, 19, 5341, 10547, 16221, 4948, 1872, 49795, 382, 31, 16282, 49808, 31133, 912, 97, 417, 29222, 2397, 19, 587, 505, 1044, 40024, 1433, 43, 9724, 320, 4815, 40384, 4280, 26700, 49791, 244, 5036, 97, 31, 4223, 2435, 16221, 49796, 52, 12747, 2316, 4, 4, 4, 9370, 19, 400, 49808, 3217, 27, 14492, 13390, 7863, 5, 27613, 19, 181, 44884, 346, 19, 36105, 97, 466, 47750, 45355, 19, 279, 7, 734, 284, 19, 602, 13, 7, 14, 7, 40384, 4280, 26700, 49791, 26812, 97, 43, 925, 1355, 16220, 3277, 18250, 168, 3698, 26812, 40384, 1004, 228, 41050, 19, 8183, 1457, 16221, 7815, 43, 1479, 905, 19, 21561, 31339, 17808, 5, 7172, 124, 7, 144, 7, 17990, 1793, 49792, 19]\n",
      "[19, 12003, 82, 146, 21545, 5, 4815, 27037, 19, 96, 82, 3620, 1809, 49098, 11, 27944, 8183, 27, 19, 48, 10532, 22366, 43, 3534, 2112, 3292, 22742, 12141, 480, 59, 6038, 27199, 36, 59, 19141, 19, 67, 409, 29219, 42, 7351, 400, 49808, 170, 574, 12806, 3309, 48, 737, 195, 4893, 7, 4, 33334, 49796, 42737, 63, 19, 44985, 1292, 5549, 2065, 2149, 52, 13564, 41767, 49795, 19, 9632, 75, 258, 51, 49808, 2706, 19, 252, 13686, 3969, 4815, 97, 16027, 965, 19, 67, 21489, 76, 275, 211, 43240, 103, 19, 48, 102, 610, 29219, 42, 533, 481, 23980, 3095, 103, 49795, 7, 3426, 734, 2407, 117, 1030, 3945, 33695, 29647, 10698, 734, 19, 1772, 102, 19, 98, 365, 2112, 66, 527, 49808, 1073, 19, 48, 76, 549]\n",
      "[12756, 147, 9729, 45321, 6936, 49796, 7048, 100, 37384, 43, 1752, 36655, 17808, 49791, 2215, 52, 204, 219, 466, 47750, 7, 26538, 7, 28660, 335, 15192, 40354, 585, 31, 21, 16354, 67, 37439, 19, 36, 11340, 36221, 147, 48, 4815, 26838, 51, 678, 12801, 19, 5271, 26119, 21, 16354, 10563, 18523, 1069, 4, 4, 7, 299, 102, 6177, 68, 275, 7152, 199, 713, 49796, 16889, 1793, 10, 19, 48, 31, 654, 26573, 20213, 49792, 21, 16354, 102, 29219, 1221, 5196, 7816, 49795, 19, 66, 9010, 4815, 97, 1060, 19377, 19, 98, 48, 440, 2143, 6936, 19, 480, 574, 970, 457, 4815, 6061, 19, 18022, 264, 797, 43240, 12104, 605, 19, 409, 358, 30378, 48, 17343, 31, 4216, 4815, 32591, 1385, 231, 49801, 23535, 357, 32, 43, 9745, 3277]\n",
      "loss\n"
     ]
    },
    {
     "name": "stderr",
     "output_type": "stream",
     "text": [
      "Map: 100%|██████████| 100/100 [00:00<00:00, 5744.21 examples/s]\n"
     ]
    },
    {
     "name": "stdout",
     "output_type": "stream",
     "text": [
      "100\n",
      "[2, 1729, 19, 31, 1640, 4815, 2833, 353, 16027, 965, 19, 5341, 10547, 16221, 4948, 1872, 49795, 382, 31, 16282, 49808, 31133, 912, 97, 417, 29222, 2397, 19, 587, 505, 1044, 40024, 1433, 43, 9724, 320, 4815, 40384, 4280, 26700, 49791, 244, 5036, 97, 31, 4223, 2435, 16221, 49796, 52, 12747, 2316, 3817, 4, 4, 9370, 19, 400, 49808, 3217, 27, 14492, 13390, 7863, 5, 27613, 19, 181, 44884, 346, 19, 36105, 97, 466, 47750, 45355, 19, 279, 7, 734, 284, 19, 602, 13, 7, 14, 7, 40384, 4280, 26700, 49791, 26812, 97, 43, 925, 1355, 16220, 3277, 18250, 168, 3698, 26812, 40384, 1004, 228, 41050, 19, 8183, 1457, 16221, 7815, 43, 1479, 905, 19, 21561, 31339, 17808, 5, 7172, 124, 7, 144, 7, 17990, 1793, 49792, 19]\n",
      "[19, 12003, 82, 146, 21545, 5, 4815, 27037, 19, 96, 82, 3620, 1809, 49098, 11, 27944, 8183, 27, 19, 48, 10532, 22366, 43, 3534, 2112, 3292, 22742, 12141, 480, 59, 6038, 27199, 36, 59, 19141, 19, 67, 409, 29219, 42, 7351, 400, 49808, 170, 574, 12806, 3309, 48, 737, 195, 4893, 7, 299, 4, 4, 42737, 63, 19, 44985, 1292, 5549, 2065, 2149, 52, 13564, 41767, 49795, 19, 9632, 75, 258, 51, 49808, 2706, 19, 252, 13686, 3969, 4815, 97, 16027, 965, 19, 67, 21489, 76, 275, 211, 43240, 103, 19, 48, 102, 610, 29219, 42, 533, 481, 23980, 3095, 103, 49795, 7, 3426, 734, 2407, 117, 1030, 3945, 33695, 29647, 10698, 734, 19, 1772, 102, 19, 98, 365, 2112, 66, 527, 49808, 1073, 19, 48, 76, 549]\n",
      "[12756, 147, 9729, 45321, 6936, 49796, 7048, 100, 37384, 43, 1752, 36655, 17808, 49791, 2215, 52, 204, 219, 466, 47750, 7, 26538, 7, 28660, 335, 15192, 40354, 585, 31, 21, 16354, 67, 37439, 19, 36, 11340, 36221, 147, 48, 4815, 26838, 51, 678, 12801, 19, 5271, 26119, 21, 16354, 10563, 18523, 1069, 2997, 4, 7, 299, 102, 6177, 68, 275, 7152, 199, 713, 49796, 16889, 1793, 10, 19, 48, 31, 654, 26573, 20213, 49792, 21, 16354, 102, 29219, 1221, 5196, 7816, 49795, 19, 66, 9010, 4815, 97, 1060, 19377, 19, 98, 48, 440, 2143, 6936, 19, 480, 574, 970, 457, 4815, 6061, 19, 18022, 264, 797, 43240, 12104, 605, 19, 409, 358, 30378, 48, 17343, 31, 4216, 4815, 32591, 1385, 231, 49801, 23535, 357, 32, 43, 9745, 3277]\n",
      "loss\n"
     ]
    },
    {
     "name": "stderr",
     "output_type": "stream",
     "text": [
      "Map: 100%|██████████| 100/100 [00:00<00:00, 5636.22 examples/s]\n"
     ]
    },
    {
     "name": "stdout",
     "output_type": "stream",
     "text": [
      "100\n",
      "[2, 1729, 19, 31, 1640, 4815, 2833, 353, 16027, 965, 19, 5341, 10547, 16221, 4948, 1872, 49795, 382, 31, 16282, 49808, 31133, 912, 97, 417, 29222, 2397, 19, 587, 505, 1044, 40024, 1433, 43, 9724, 320, 4815, 40384, 4280, 26700, 49791, 244, 5036, 97, 31, 4223, 2435, 16221, 49796, 52, 12747, 2316, 3817, 775, 4, 9370, 19, 400, 49808, 3217, 27, 14492, 13390, 7863, 5, 27613, 19, 181, 44884, 346, 19, 36105, 97, 466, 47750, 45355, 19, 279, 7, 734, 284, 19, 602, 13, 7, 14, 7, 40384, 4280, 26700, 49791, 26812, 97, 43, 925, 1355, 16220, 3277, 18250, 168, 3698, 26812, 40384, 1004, 228, 41050, 19, 8183, 1457, 16221, 7815, 43, 1479, 905, 19, 21561, 31339, 17808, 5, 7172, 124, 7, 144, 7, 17990, 1793, 49792, 19]\n",
      "[19, 12003, 82, 146, 21545, 5, 4815, 27037, 19, 96, 82, 3620, 1809, 49098, 11, 27944, 8183, 27, 19, 48, 10532, 22366, 43, 3534, 2112, 3292, 22742, 12141, 480, 59, 6038, 27199, 36, 59, 19141, 19, 67, 409, 29219, 42, 7351, 400, 49808, 170, 574, 12806, 3309, 48, 737, 195, 4893, 7, 299, 33334, 4, 42737, 63, 19, 44985, 1292, 5549, 2065, 2149, 52, 13564, 41767, 49795, 19, 9632, 75, 258, 51, 49808, 2706, 19, 252, 13686, 3969, 4815, 97, 16027, 965, 19, 67, 21489, 76, 275, 211, 43240, 103, 19, 48, 102, 610, 29219, 42, 533, 481, 23980, 3095, 103, 49795, 7, 3426, 734, 2407, 117, 1030, 3945, 33695, 29647, 10698, 734, 19, 1772, 102, 19, 98, 365, 2112, 66, 527, 49808, 1073, 19, 48, 76, 549]\n",
      "[12756, 147, 9729, 45321, 6936, 49796, 7048, 100, 37384, 43, 1752, 36655, 17808, 49791, 2215, 52, 204, 219, 466, 47750, 7, 26538, 7, 28660, 335, 15192, 40354, 585, 31, 21, 16354, 67, 37439, 19, 36, 11340, 36221, 147, 48, 4815, 26838, 51, 678, 12801, 19, 5271, 26119, 21, 16354, 10563, 18523, 1069, 2997, 266, 4, 299, 102, 6177, 68, 275, 7152, 199, 713, 49796, 16889, 1793, 10, 19, 48, 31, 654, 26573, 20213, 49792, 21, 16354, 102, 29219, 1221, 5196, 7816, 49795, 19, 66, 9010, 4815, 97, 1060, 19377, 19, 98, 48, 440, 2143, 6936, 19, 480, 574, 970, 457, 4815, 6061, 19, 18022, 264, 797, 43240, 12104, 605, 19, 409, 358, 30378, 48, 17343, 31, 4216, 4815, 32591, 1385, 231, 49801, 23535, 357, 32, 43, 9745, 3277]\n",
      "loss\n"
     ]
    },
    {
     "name": "stderr",
     "output_type": "stream",
     "text": [
      "Map: 100%|██████████| 100/100 [00:00<00:00, 5667.29 examples/s]\n"
     ]
    },
    {
     "name": "stdout",
     "output_type": "stream",
     "text": [
      "100\n",
      "[2, 1729, 19, 31, 1640, 4815, 2833, 353, 16027, 965, 19, 5341, 10547, 16221, 4948, 1872, 49795, 382, 31, 16282, 49808, 31133, 912, 97, 417, 29222, 2397, 19, 587, 505, 1044, 40024, 1433, 43, 9724, 320, 4815, 40384, 4280, 26700, 49791, 244, 5036, 97, 31, 4223, 2435, 16221, 49796, 52, 12747, 2316, 3817, 775, 42, 4, 19, 400, 49808, 3217, 27, 14492, 13390, 7863, 5, 27613, 19, 181, 44884, 346, 19, 36105, 97, 466, 47750, 45355, 19, 279, 7, 734, 284, 19, 602, 13, 7, 14, 7, 40384, 4280, 26700, 49791, 26812, 97, 43, 925, 1355, 16220, 3277, 18250, 168, 3698, 26812, 40384, 1004, 228, 41050, 19, 8183, 1457, 16221, 7815, 43, 1479, 905, 19, 21561, 31339, 17808, 5, 7172, 124, 7, 144, 7, 17990, 1793, 49792, 19]\n",
      "[19, 12003, 82, 146, 21545, 5, 4815, 27037, 19, 96, 82, 3620, 1809, 49098, 11, 27944, 8183, 27, 19, 48, 10532, 22366, 43, 3534, 2112, 3292, 22742, 12141, 480, 59, 6038, 27199, 36, 59, 19141, 19, 67, 409, 29219, 42, 7351, 400, 49808, 170, 574, 12806, 3309, 48, 737, 195, 4893, 7, 299, 33334, 49796, 4, 4, 19, 44985, 1292, 5549, 2065, 2149, 52, 13564, 41767, 49795, 19, 9632, 75, 258, 51, 49808, 2706, 19, 252, 13686, 3969, 4815, 97, 16027, 965, 19, 67, 21489, 76, 275, 211, 43240, 103, 19, 48, 102, 610, 29219, 42, 533, 481, 23980, 3095, 103, 49795, 7, 3426, 734, 2407, 117, 1030, 3945, 33695, 29647, 10698, 734, 19, 1772, 102, 19, 98, 365, 2112, 66, 527, 49808, 1073, 19, 48, 76, 549]\n",
      "[12756, 147, 9729, 45321, 6936, 49796, 7048, 100, 37384, 43, 1752, 36655, 17808, 49791, 2215, 52, 204, 219, 466, 47750, 7, 26538, 7, 28660, 335, 15192, 40354, 585, 31, 21, 16354, 67, 37439, 19, 36, 11340, 36221, 147, 48, 4815, 26838, 51, 678, 12801, 19, 5271, 26119, 21, 16354, 10563, 18523, 1069, 2997, 266, 7, 4, 102, 6177, 68, 275, 7152, 199, 713, 49796, 16889, 1793, 10, 19, 48, 31, 654, 26573, 20213, 49792, 21, 16354, 102, 29219, 1221, 5196, 7816, 49795, 19, 66, 9010, 4815, 97, 1060, 19377, 19, 98, 48, 440, 2143, 6936, 19, 480, 574, 970, 457, 4815, 6061, 19, 18022, 264, 797, 43240, 12104, 605, 19, 409, 358, 30378, 48, 17343, 31, 4216, 4815, 32591, 1385, 231, 49801, 23535, 357, 32, 43, 9745, 3277]\n",
      "loss\n"
     ]
    },
    {
     "name": "stderr",
     "output_type": "stream",
     "text": [
      "Map: 100%|██████████| 100/100 [00:00<00:00, 5606.38 examples/s]\n"
     ]
    },
    {
     "name": "stdout",
     "output_type": "stream",
     "text": [
      "100\n",
      "[2, 1729, 19, 31, 1640, 4815, 2833, 353, 16027, 965, 19, 5341, 10547, 16221, 4948, 1872, 49795, 382, 31, 16282, 49808, 31133, 912, 97, 417, 29222, 2397, 19, 587, 505, 1044, 40024, 1433, 43, 9724, 320, 4815, 40384, 4280, 26700, 49791, 244, 5036, 97, 31, 4223, 2435, 16221, 49796, 52, 12747, 2316, 3817, 775, 42, 9370, 4, 400, 49808, 3217, 27, 14492, 13390, 7863, 5, 27613, 19, 181, 44884, 346, 19, 36105, 97, 466, 47750, 45355, 19, 279, 7, 734, 284, 19, 602, 13, 7, 14, 7, 40384, 4280, 26700, 49791, 26812, 97, 43, 925, 1355, 16220, 3277, 18250, 168, 3698, 26812, 40384, 1004, 228, 41050, 19, 8183, 1457, 16221, 7815, 43, 1479, 905, 19, 21561, 31339, 17808, 5, 7172, 124, 7, 144, 7, 17990, 1793, 49792, 19]\n",
      "[19, 12003, 82, 146, 21545, 5, 4815, 27037, 19, 96, 82, 3620, 1809, 49098, 11, 27944, 8183, 27, 19, 48, 10532, 22366, 43, 3534, 2112, 3292, 22742, 12141, 480, 59, 6038, 27199, 36, 59, 19141, 19, 67, 409, 29219, 42, 7351, 400, 49808, 170, 574, 12806, 3309, 48, 737, 195, 4893, 7, 299, 33334, 49796, 42737, 4, 19, 44985, 1292, 5549, 2065, 2149, 52, 13564, 41767, 49795, 19, 9632, 75, 258, 51, 49808, 2706, 19, 252, 13686, 3969, 4815, 97, 16027, 965, 19, 67, 21489, 76, 275, 211, 43240, 103, 19, 48, 102, 610, 29219, 42, 533, 481, 23980, 3095, 103, 49795, 7, 3426, 734, 2407, 117, 1030, 3945, 33695, 29647, 10698, 734, 19, 1772, 102, 19, 98, 365, 2112, 66, 527, 49808, 1073, 19, 48, 76, 549]\n",
      "[12756, 147, 9729, 45321, 6936, 49796, 7048, 100, 37384, 43, 1752, 36655, 17808, 49791, 2215, 52, 204, 219, 466, 47750, 7, 26538, 7, 28660, 335, 15192, 40354, 585, 31, 21, 16354, 67, 37439, 19, 36, 11340, 36221, 147, 48, 4815, 26838, 51, 678, 12801, 19, 5271, 26119, 21, 16354, 10563, 18523, 1069, 2997, 266, 7, 299, 4, 6177, 68, 275, 7152, 199, 713, 49796, 16889, 1793, 10, 19, 48, 31, 654, 26573, 20213, 49792, 21, 16354, 102, 29219, 1221, 5196, 7816, 49795, 19, 66, 9010, 4815, 97, 1060, 19377, 19, 98, 48, 440, 2143, 6936, 19, 480, 574, 970, 457, 4815, 6061, 19, 18022, 264, 797, 43240, 12104, 605, 19, 409, 358, 30378, 48, 17343, 31, 4216, 4815, 32591, 1385, 231, 49801, 23535, 357, 32, 43, 9745, 3277]\n",
      "loss\n"
     ]
    },
    {
     "name": "stderr",
     "output_type": "stream",
     "text": [
      "Map: 100%|██████████| 100/100 [00:00<00:00, 5704.52 examples/s]\n"
     ]
    },
    {
     "name": "stdout",
     "output_type": "stream",
     "text": [
      "100\n",
      "[2, 1729, 19, 31, 1640, 4815, 2833, 353, 16027, 965, 19, 5341, 10547, 16221, 4948, 1872, 49795, 382, 31, 16282, 49808, 31133, 912, 97, 417, 29222, 2397, 19, 587, 505, 1044, 40024, 1433, 43, 9724, 320, 4815, 40384, 4280, 26700, 49791, 244, 5036, 97, 31, 4223, 2435, 16221, 49796, 52, 12747, 2316, 3817, 775, 42, 9370, 19, 4, 4, 4, 4, 14492, 13390, 7863, 5, 27613, 19, 181, 44884, 346, 19, 36105, 97, 466, 47750, 45355, 19, 279, 7, 734, 284, 19, 602, 13, 7, 14, 7, 40384, 4280, 26700, 49791, 26812, 97, 43, 925, 1355, 16220, 3277, 18250, 168, 3698, 26812, 40384, 1004, 228, 41050, 19, 8183, 1457, 16221, 7815, 43, 1479, 905, 19, 21561, 31339, 17808, 5, 7172, 124, 7, 144, 7, 17990, 1793, 49792, 19]\n",
      "[19, 12003, 82, 146, 21545, 5, 4815, 27037, 19, 96, 82, 3620, 1809, 49098, 11, 27944, 8183, 27, 19, 48, 10532, 22366, 43, 3534, 2112, 3292, 22742, 12141, 480, 59, 6038, 27199, 36, 59, 19141, 19, 67, 409, 29219, 42, 7351, 400, 49808, 170, 574, 12806, 3309, 48, 737, 195, 4893, 7, 299, 33334, 49796, 42737, 63, 4, 44985, 1292, 5549, 2065, 2149, 52, 13564, 41767, 49795, 19, 9632, 75, 258, 51, 49808, 2706, 19, 252, 13686, 3969, 4815, 97, 16027, 965, 19, 67, 21489, 76, 275, 211, 43240, 103, 19, 48, 102, 610, 29219, 42, 533, 481, 23980, 3095, 103, 49795, 7, 3426, 734, 2407, 117, 1030, 3945, 33695, 29647, 10698, 734, 19, 1772, 102, 19, 98, 365, 2112, 66, 527, 49808, 1073, 19, 48, 76, 549]\n",
      "[12756, 147, 9729, 45321, 6936, 49796, 7048, 100, 37384, 43, 1752, 36655, 17808, 49791, 2215, 52, 204, 219, 466, 47750, 7, 26538, 7, 28660, 335, 15192, 40354, 585, 31, 21, 16354, 67, 37439, 19, 36, 11340, 36221, 147, 48, 4815, 26838, 51, 678, 12801, 19, 5271, 26119, 21, 16354, 10563, 18523, 1069, 2997, 266, 7, 299, 102, 4, 68, 275, 7152, 199, 713, 49796, 16889, 1793, 10, 19, 48, 31, 654, 26573, 20213, 49792, 21, 16354, 102, 29219, 1221, 5196, 7816, 49795, 19, 66, 9010, 4815, 97, 1060, 19377, 19, 98, 48, 440, 2143, 6936, 19, 480, 574, 970, 457, 4815, 6061, 19, 18022, 264, 797, 43240, 12104, 605, 19, 409, 358, 30378, 48, 17343, 31, 4216, 4815, 32591, 1385, 231, 49801, 23535, 357, 32, 43, 9745, 3277]\n",
      "loss\n"
     ]
    },
    {
     "name": "stderr",
     "output_type": "stream",
     "text": [
      "Map: 100%|██████████| 100/100 [00:00<00:00, 5489.85 examples/s]\n"
     ]
    },
    {
     "name": "stdout",
     "output_type": "stream",
     "text": [
      "100\n",
      "[2, 1729, 19, 31, 1640, 4815, 2833, 353, 16027, 965, 19, 5341, 10547, 16221, 4948, 1872, 49795, 382, 31, 16282, 49808, 31133, 912, 97, 417, 29222, 2397, 19, 587, 505, 1044, 40024, 1433, 43, 9724, 320, 4815, 40384, 4280, 26700, 49791, 244, 5036, 97, 31, 4223, 2435, 16221, 49796, 52, 12747, 2316, 3817, 775, 42, 9370, 19, 400, 4, 4, 4, 14492, 13390, 7863, 5, 27613, 19, 181, 44884, 346, 19, 36105, 97, 466, 47750, 45355, 19, 279, 7, 734, 284, 19, 602, 13, 7, 14, 7, 40384, 4280, 26700, 49791, 26812, 97, 43, 925, 1355, 16220, 3277, 18250, 168, 3698, 26812, 40384, 1004, 228, 41050, 19, 8183, 1457, 16221, 7815, 43, 1479, 905, 19, 21561, 31339, 17808, 5, 7172, 124, 7, 144, 7, 17990, 1793, 49792, 19]\n",
      "[19, 12003, 82, 146, 21545, 5, 4815, 27037, 19, 96, 82, 3620, 1809, 49098, 11, 27944, 8183, 27, 19, 48, 10532, 22366, 43, 3534, 2112, 3292, 22742, 12141, 480, 59, 6038, 27199, 36, 59, 19141, 19, 67, 409, 29219, 42, 7351, 400, 49808, 170, 574, 12806, 3309, 48, 737, 195, 4893, 7, 299, 33334, 49796, 42737, 63, 19, 4, 1292, 5549, 2065, 2149, 52, 13564, 41767, 49795, 19, 9632, 75, 258, 51, 49808, 2706, 19, 252, 13686, 3969, 4815, 97, 16027, 965, 19, 67, 21489, 76, 275, 211, 43240, 103, 19, 48, 102, 610, 29219, 42, 533, 481, 23980, 3095, 103, 49795, 7, 3426, 734, 2407, 117, 1030, 3945, 33695, 29647, 10698, 734, 19, 1772, 102, 19, 98, 365, 2112, 66, 527, 49808, 1073, 19, 48, 76, 549]\n",
      "[12756, 147, 9729, 45321, 6936, 49796, 7048, 100, 37384, 43, 1752, 36655, 17808, 49791, 2215, 52, 204, 219, 466, 47750, 7, 26538, 7, 28660, 335, 15192, 40354, 585, 31, 21, 16354, 67, 37439, 19, 36, 11340, 36221, 147, 48, 4815, 26838, 51, 678, 12801, 19, 5271, 26119, 21, 16354, 10563, 18523, 1069, 2997, 266, 7, 299, 102, 6177, 4, 275, 7152, 199, 713, 49796, 16889, 1793, 10, 19, 48, 31, 654, 26573, 20213, 49792, 21, 16354, 102, 29219, 1221, 5196, 7816, 49795, 19, 66, 9010, 4815, 97, 1060, 19377, 19, 98, 48, 440, 2143, 6936, 19, 480, 574, 970, 457, 4815, 6061, 19, 18022, 264, 797, 43240, 12104, 605, 19, 409, 358, 30378, 48, 17343, 31, 4216, 4815, 32591, 1385, 231, 49801, 23535, 357, 32, 43, 9745, 3277]\n",
      "loss\n"
     ]
    },
    {
     "name": "stderr",
     "output_type": "stream",
     "text": [
      "Map: 100%|██████████| 100/100 [00:00<00:00, 5620.66 examples/s]\n"
     ]
    },
    {
     "name": "stdout",
     "output_type": "stream",
     "text": [
      "100\n",
      "[2, 1729, 19, 31, 1640, 4815, 2833, 353, 16027, 965, 19, 5341, 10547, 16221, 4948, 1872, 49795, 382, 31, 16282, 49808, 31133, 912, 97, 417, 29222, 2397, 19, 587, 505, 1044, 40024, 1433, 43, 9724, 320, 4815, 40384, 4280, 26700, 49791, 244, 5036, 97, 31, 4223, 2435, 16221, 49796, 52, 12747, 2316, 3817, 775, 42, 9370, 19, 400, 49808, 4, 4, 14492, 13390, 7863, 5, 27613, 19, 181, 44884, 346, 19, 36105, 97, 466, 47750, 45355, 19, 279, 7, 734, 284, 19, 602, 13, 7, 14, 7, 40384, 4280, 26700, 49791, 26812, 97, 43, 925, 1355, 16220, 3277, 18250, 168, 3698, 26812, 40384, 1004, 228, 41050, 19, 8183, 1457, 16221, 7815, 43, 1479, 905, 19, 21561, 31339, 17808, 5, 7172, 124, 7, 144, 7, 17990, 1793, 49792, 19]\n",
      "[19, 12003, 82, 146, 21545, 5, 4815, 27037, 19, 96, 82, 3620, 1809, 49098, 11, 27944, 8183, 27, 19, 48, 10532, 22366, 43, 3534, 2112, 3292, 22742, 12141, 480, 59, 6038, 27199, 36, 59, 19141, 19, 67, 409, 29219, 42, 7351, 400, 49808, 170, 574, 12806, 3309, 48, 737, 195, 4893, 7, 299, 33334, 49796, 42737, 63, 19, 44985, 4, 5549, 2065, 2149, 52, 13564, 41767, 49795, 19, 9632, 75, 258, 51, 49808, 2706, 19, 252, 13686, 3969, 4815, 97, 16027, 965, 19, 67, 21489, 76, 275, 211, 43240, 103, 19, 48, 102, 610, 29219, 42, 533, 481, 23980, 3095, 103, 49795, 7, 3426, 734, 2407, 117, 1030, 3945, 33695, 29647, 10698, 734, 19, 1772, 102, 19, 98, 365, 2112, 66, 527, 49808, 1073, 19, 48, 76, 549]\n",
      "[12756, 147, 9729, 45321, 6936, 49796, 7048, 100, 37384, 43, 1752, 36655, 17808, 49791, 2215, 52, 204, 219, 466, 47750, 7, 26538, 7, 28660, 335, 15192, 40354, 585, 31, 21, 16354, 67, 37439, 19, 36, 11340, 36221, 147, 48, 4815, 26838, 51, 678, 12801, 19, 5271, 26119, 21, 16354, 10563, 18523, 1069, 2997, 266, 7, 299, 102, 6177, 68, 4, 4, 199, 713, 49796, 16889, 1793, 10, 19, 48, 31, 654, 26573, 20213, 49792, 21, 16354, 102, 29219, 1221, 5196, 7816, 49795, 19, 66, 9010, 4815, 97, 1060, 19377, 19, 98, 48, 440, 2143, 6936, 19, 480, 574, 970, 457, 4815, 6061, 19, 18022, 264, 797, 43240, 12104, 605, 19, 409, 358, 30378, 48, 17343, 31, 4216, 4815, 32591, 1385, 231, 49801, 23535, 357, 32, 43, 9745, 3277]\n",
      "loss\n"
     ]
    },
    {
     "name": "stderr",
     "output_type": "stream",
     "text": [
      "Map: 100%|██████████| 100/100 [00:00<00:00, 5684.26 examples/s]\n"
     ]
    },
    {
     "name": "stdout",
     "output_type": "stream",
     "text": [
      "100\n",
      "[2, 1729, 19, 31, 1640, 4815, 2833, 353, 16027, 965, 19, 5341, 10547, 16221, 4948, 1872, 49795, 382, 31, 16282, 49808, 31133, 912, 97, 417, 29222, 2397, 19, 587, 505, 1044, 40024, 1433, 43, 9724, 320, 4815, 40384, 4280, 26700, 49791, 244, 5036, 97, 31, 4223, 2435, 16221, 49796, 52, 12747, 2316, 3817, 775, 42, 9370, 19, 400, 49808, 3217, 4, 14492, 13390, 7863, 5, 27613, 19, 181, 44884, 346, 19, 36105, 97, 466, 47750, 45355, 19, 279, 7, 734, 284, 19, 602, 13, 7, 14, 7, 40384, 4280, 26700, 49791, 26812, 97, 43, 925, 1355, 16220, 3277, 18250, 168, 3698, 26812, 40384, 1004, 228, 41050, 19, 8183, 1457, 16221, 7815, 43, 1479, 905, 19, 21561, 31339, 17808, 5, 7172, 124, 7, 144, 7, 17990, 1793, 49792, 19]\n",
      "[19, 12003, 82, 146, 21545, 5, 4815, 27037, 19, 96, 82, 3620, 1809, 49098, 11, 27944, 8183, 27, 19, 48, 10532, 22366, 43, 3534, 2112, 3292, 22742, 12141, 480, 59, 6038, 27199, 36, 59, 19141, 19, 67, 409, 29219, 42, 7351, 400, 49808, 170, 574, 12806, 3309, 48, 737, 195, 4893, 7, 299, 33334, 49796, 42737, 63, 19, 44985, 1292, 4, 4, 4, 52, 13564, 41767, 49795, 19, 9632, 75, 258, 51, 49808, 2706, 19, 252, 13686, 3969, 4815, 97, 16027, 965, 19, 67, 21489, 76, 275, 211, 43240, 103, 19, 48, 102, 610, 29219, 42, 533, 481, 23980, 3095, 103, 49795, 7, 3426, 734, 2407, 117, 1030, 3945, 33695, 29647, 10698, 734, 19, 1772, 102, 19, 98, 365, 2112, 66, 527, 49808, 1073, 19, 48, 76, 549]\n",
      "[12756, 147, 9729, 45321, 6936, 49796, 7048, 100, 37384, 43, 1752, 36655, 17808, 49791, 2215, 52, 204, 219, 466, 47750, 7, 26538, 7, 28660, 335, 15192, 40354, 585, 31, 21, 16354, 67, 37439, 19, 36, 11340, 36221, 147, 48, 4815, 26838, 51, 678, 12801, 19, 5271, 26119, 21, 16354, 10563, 18523, 1069, 2997, 266, 7, 299, 102, 6177, 68, 275, 4, 199, 713, 49796, 16889, 1793, 10, 19, 48, 31, 654, 26573, 20213, 49792, 21, 16354, 102, 29219, 1221, 5196, 7816, 49795, 19, 66, 9010, 4815, 97, 1060, 19377, 19, 98, 48, 440, 2143, 6936, 19, 480, 574, 970, 457, 4815, 6061, 19, 18022, 264, 797, 43240, 12104, 605, 19, 409, 358, 30378, 48, 17343, 31, 4216, 4815, 32591, 1385, 231, 49801, 23535, 357, 32, 43, 9745, 3277]\n",
      "loss\n"
     ]
    },
    {
     "name": "stderr",
     "output_type": "stream",
     "text": [
      "Map: 100%|██████████| 100/100 [00:00<00:00, 5533.67 examples/s]\n"
     ]
    },
    {
     "name": "stdout",
     "output_type": "stream",
     "text": [
      "100\n",
      "[2, 1729, 19, 31, 1640, 4815, 2833, 353, 16027, 965, 19, 5341, 10547, 16221, 4948, 1872, 49795, 382, 31, 16282, 49808, 31133, 912, 97, 417, 29222, 2397, 19, 587, 505, 1044, 40024, 1433, 43, 9724, 320, 4815, 40384, 4280, 26700, 49791, 244, 5036, 97, 31, 4223, 2435, 16221, 49796, 52, 12747, 2316, 3817, 775, 42, 9370, 19, 400, 49808, 3217, 27, 4, 4, 7863, 5, 27613, 19, 181, 44884, 346, 19, 36105, 97, 466, 47750, 45355, 19, 279, 7, 734, 284, 19, 602, 13, 7, 14, 7, 40384, 4280, 26700, 49791, 26812, 97, 43, 925, 1355, 16220, 3277, 18250, 168, 3698, 26812, 40384, 1004, 228, 41050, 19, 8183, 1457, 16221, 7815, 43, 1479, 905, 19, 21561, 31339, 17808, 5, 7172, 124, 7, 144, 7, 17990, 1793, 49792, 19]\n",
      "[19, 12003, 82, 146, 21545, 5, 4815, 27037, 19, 96, 82, 3620, 1809, 49098, 11, 27944, 8183, 27, 19, 48, 10532, 22366, 43, 3534, 2112, 3292, 22742, 12141, 480, 59, 6038, 27199, 36, 59, 19141, 19, 67, 409, 29219, 42, 7351, 400, 49808, 170, 574, 12806, 3309, 48, 737, 195, 4893, 7, 299, 33334, 49796, 42737, 63, 19, 44985, 1292, 5549, 4, 4, 52, 13564, 41767, 49795, 19, 9632, 75, 258, 51, 49808, 2706, 19, 252, 13686, 3969, 4815, 97, 16027, 965, 19, 67, 21489, 76, 275, 211, 43240, 103, 19, 48, 102, 610, 29219, 42, 533, 481, 23980, 3095, 103, 49795, 7, 3426, 734, 2407, 117, 1030, 3945, 33695, 29647, 10698, 734, 19, 1772, 102, 19, 98, 365, 2112, 66, 527, 49808, 1073, 19, 48, 76, 549]\n",
      "[12756, 147, 9729, 45321, 6936, 49796, 7048, 100, 37384, 43, 1752, 36655, 17808, 49791, 2215, 52, 204, 219, 466, 47750, 7, 26538, 7, 28660, 335, 15192, 40354, 585, 31, 21, 16354, 67, 37439, 19, 36, 11340, 36221, 147, 48, 4815, 26838, 51, 678, 12801, 19, 5271, 26119, 21, 16354, 10563, 18523, 1069, 2997, 266, 7, 299, 102, 6177, 68, 275, 7152, 4, 4, 4, 16889, 1793, 10, 19, 48, 31, 654, 26573, 20213, 49792, 21, 16354, 102, 29219, 1221, 5196, 7816, 49795, 19, 66, 9010, 4815, 97, 1060, 19377, 19, 98, 48, 440, 2143, 6936, 19, 480, 574, 970, 457, 4815, 6061, 19, 18022, 264, 797, 43240, 12104, 605, 19, 409, 358, 30378, 48, 17343, 31, 4216, 4815, 32591, 1385, 231, 49801, 23535, 357, 32, 43, 9745, 3277]\n",
      "loss\n"
     ]
    },
    {
     "name": "stderr",
     "output_type": "stream",
     "text": [
      "Map: 100%|██████████| 100/100 [00:00<00:00, 5752.95 examples/s]\n"
     ]
    },
    {
     "name": "stdout",
     "output_type": "stream",
     "text": [
      "100\n",
      "[2, 1729, 19, 31, 1640, 4815, 2833, 353, 16027, 965, 19, 5341, 10547, 16221, 4948, 1872, 49795, 382, 31, 16282, 49808, 31133, 912, 97, 417, 29222, 2397, 19, 587, 505, 1044, 40024, 1433, 43, 9724, 320, 4815, 40384, 4280, 26700, 49791, 244, 5036, 97, 31, 4223, 2435, 16221, 49796, 52, 12747, 2316, 3817, 775, 42, 9370, 19, 400, 49808, 3217, 27, 14492, 4, 7863, 5, 27613, 19, 181, 44884, 346, 19, 36105, 97, 466, 47750, 45355, 19, 279, 7, 734, 284, 19, 602, 13, 7, 14, 7, 40384, 4280, 26700, 49791, 26812, 97, 43, 925, 1355, 16220, 3277, 18250, 168, 3698, 26812, 40384, 1004, 228, 41050, 19, 8183, 1457, 16221, 7815, 43, 1479, 905, 19, 21561, 31339, 17808, 5, 7172, 124, 7, 144, 7, 17990, 1793, 49792, 19]\n",
      "[19, 12003, 82, 146, 21545, 5, 4815, 27037, 19, 96, 82, 3620, 1809, 49098, 11, 27944, 8183, 27, 19, 48, 10532, 22366, 43, 3534, 2112, 3292, 22742, 12141, 480, 59, 6038, 27199, 36, 59, 19141, 19, 67, 409, 29219, 42, 7351, 400, 49808, 170, 574, 12806, 3309, 48, 737, 195, 4893, 7, 299, 33334, 49796, 42737, 63, 19, 44985, 1292, 5549, 2065, 4, 52, 13564, 41767, 49795, 19, 9632, 75, 258, 51, 49808, 2706, 19, 252, 13686, 3969, 4815, 97, 16027, 965, 19, 67, 21489, 76, 275, 211, 43240, 103, 19, 48, 102, 610, 29219, 42, 533, 481, 23980, 3095, 103, 49795, 7, 3426, 734, 2407, 117, 1030, 3945, 33695, 29647, 10698, 734, 19, 1772, 102, 19, 98, 365, 2112, 66, 527, 49808, 1073, 19, 48, 76, 549]\n",
      "[12756, 147, 9729, 45321, 6936, 49796, 7048, 100, 37384, 43, 1752, 36655, 17808, 49791, 2215, 52, 204, 219, 466, 47750, 7, 26538, 7, 28660, 335, 15192, 40354, 585, 31, 21, 16354, 67, 37439, 19, 36, 11340, 36221, 147, 48, 4815, 26838, 51, 678, 12801, 19, 5271, 26119, 21, 16354, 10563, 18523, 1069, 2997, 266, 7, 299, 102, 6177, 68, 275, 7152, 199, 4, 4, 16889, 1793, 10, 19, 48, 31, 654, 26573, 20213, 49792, 21, 16354, 102, 29219, 1221, 5196, 7816, 49795, 19, 66, 9010, 4815, 97, 1060, 19377, 19, 98, 48, 440, 2143, 6936, 19, 480, 574, 970, 457, 4815, 6061, 19, 18022, 264, 797, 43240, 12104, 605, 19, 409, 358, 30378, 48, 17343, 31, 4216, 4815, 32591, 1385, 231, 49801, 23535, 357, 32, 43, 9745, 3277]\n",
      "loss\n"
     ]
    },
    {
     "name": "stderr",
     "output_type": "stream",
     "text": [
      "Map: 100%|██████████| 100/100 [00:00<00:00, 5610.66 examples/s]\n"
     ]
    },
    {
     "name": "stdout",
     "output_type": "stream",
     "text": [
      "100\n",
      "[2, 1729, 19, 31, 1640, 4815, 2833, 353, 16027, 965, 19, 5341, 10547, 16221, 4948, 1872, 49795, 382, 31, 16282, 49808, 31133, 912, 97, 417, 29222, 2397, 19, 587, 505, 1044, 40024, 1433, 43, 9724, 320, 4815, 40384, 4280, 26700, 49791, 244, 5036, 97, 31, 4223, 2435, 16221, 49796, 52, 12747, 2316, 3817, 775, 42, 9370, 19, 400, 49808, 3217, 27, 14492, 13390, 4, 4, 27613, 19, 181, 44884, 346, 19, 36105, 97, 466, 47750, 45355, 19, 279, 7, 734, 284, 19, 602, 13, 7, 14, 7, 40384, 4280, 26700, 49791, 26812, 97, 43, 925, 1355, 16220, 3277, 18250, 168, 3698, 26812, 40384, 1004, 228, 41050, 19, 8183, 1457, 16221, 7815, 43, 1479, 905, 19, 21561, 31339, 17808, 5, 7172, 124, 7, 144, 7, 17990, 1793, 49792, 19]\n",
      "[19, 12003, 82, 146, 21545, 5, 4815, 27037, 19, 96, 82, 3620, 1809, 49098, 11, 27944, 8183, 27, 19, 48, 10532, 22366, 43, 3534, 2112, 3292, 22742, 12141, 480, 59, 6038, 27199, 36, 59, 19141, 19, 67, 409, 29219, 42, 7351, 400, 49808, 170, 574, 12806, 3309, 48, 737, 195, 4893, 7, 299, 33334, 49796, 42737, 63, 19, 44985, 1292, 5549, 2065, 2149, 4, 13564, 41767, 49795, 19, 9632, 75, 258, 51, 49808, 2706, 19, 252, 13686, 3969, 4815, 97, 16027, 965, 19, 67, 21489, 76, 275, 211, 43240, 103, 19, 48, 102, 610, 29219, 42, 533, 481, 23980, 3095, 103, 49795, 7, 3426, 734, 2407, 117, 1030, 3945, 33695, 29647, 10698, 734, 19, 1772, 102, 19, 98, 365, 2112, 66, 527, 49808, 1073, 19, 48, 76, 549]\n",
      "[12756, 147, 9729, 45321, 6936, 49796, 7048, 100, 37384, 43, 1752, 36655, 17808, 49791, 2215, 52, 204, 219, 466, 47750, 7, 26538, 7, 28660, 335, 15192, 40354, 585, 31, 21, 16354, 67, 37439, 19, 36, 11340, 36221, 147, 48, 4815, 26838, 51, 678, 12801, 19, 5271, 26119, 21, 16354, 10563, 18523, 1069, 2997, 266, 7, 299, 102, 6177, 68, 275, 7152, 199, 713, 4, 16889, 1793, 10, 19, 48, 31, 654, 26573, 20213, 49792, 21, 16354, 102, 29219, 1221, 5196, 7816, 49795, 19, 66, 9010, 4815, 97, 1060, 19377, 19, 98, 48, 440, 2143, 6936, 19, 480, 574, 970, 457, 4815, 6061, 19, 18022, 264, 797, 43240, 12104, 605, 19, 409, 358, 30378, 48, 17343, 31, 4216, 4815, 32591, 1385, 231, 49801, 23535, 357, 32, 43, 9745, 3277]\n",
      "loss\n"
     ]
    },
    {
     "name": "stderr",
     "output_type": "stream",
     "text": [
      "Map: 100%|██████████| 100/100 [00:00<00:00, 5588.31 examples/s]\n"
     ]
    },
    {
     "name": "stdout",
     "output_type": "stream",
     "text": [
      "100\n",
      "[2, 1729, 19, 31, 1640, 4815, 2833, 353, 16027, 965, 19, 5341, 10547, 16221, 4948, 1872, 49795, 382, 31, 16282, 49808, 31133, 912, 97, 417, 29222, 2397, 19, 587, 505, 1044, 40024, 1433, 43, 9724, 320, 4815, 40384, 4280, 26700, 49791, 244, 5036, 97, 31, 4223, 2435, 16221, 49796, 52, 12747, 2316, 3817, 775, 42, 9370, 19, 400, 49808, 3217, 27, 14492, 13390, 7863, 4, 27613, 19, 181, 44884, 346, 19, 36105, 97, 466, 47750, 45355, 19, 279, 7, 734, 284, 19, 602, 13, 7, 14, 7, 40384, 4280, 26700, 49791, 26812, 97, 43, 925, 1355, 16220, 3277, 18250, 168, 3698, 26812, 40384, 1004, 228, 41050, 19, 8183, 1457, 16221, 7815, 43, 1479, 905, 19, 21561, 31339, 17808, 5, 7172, 124, 7, 144, 7, 17990, 1793, 49792, 19]\n",
      "[19, 12003, 82, 146, 21545, 5, 4815, 27037, 19, 96, 82, 3620, 1809, 49098, 11, 27944, 8183, 27, 19, 48, 10532, 22366, 43, 3534, 2112, 3292, 22742, 12141, 480, 59, 6038, 27199, 36, 59, 19141, 19, 67, 409, 29219, 42, 7351, 400, 49808, 170, 574, 12806, 3309, 48, 737, 195, 4893, 7, 299, 33334, 49796, 42737, 63, 19, 44985, 1292, 5549, 2065, 2149, 52, 4, 4, 4, 19, 9632, 75, 258, 51, 49808, 2706, 19, 252, 13686, 3969, 4815, 97, 16027, 965, 19, 67, 21489, 76, 275, 211, 43240, 103, 19, 48, 102, 610, 29219, 42, 533, 481, 23980, 3095, 103, 49795, 7, 3426, 734, 2407, 117, 1030, 3945, 33695, 29647, 10698, 734, 19, 1772, 102, 19, 98, 365, 2112, 66, 527, 49808, 1073, 19, 48, 76, 549]\n",
      "[12756, 147, 9729, 45321, 6936, 49796, 7048, 100, 37384, 43, 1752, 36655, 17808, 49791, 2215, 52, 204, 219, 466, 47750, 7, 26538, 7, 28660, 335, 15192, 40354, 585, 31, 21, 16354, 67, 37439, 19, 36, 11340, 36221, 147, 48, 4815, 26838, 51, 678, 12801, 19, 5271, 26119, 21, 16354, 10563, 18523, 1069, 2997, 266, 7, 299, 102, 6177, 68, 275, 7152, 199, 713, 49796, 4, 4, 4, 19, 48, 31, 654, 26573, 20213, 49792, 21, 16354, 102, 29219, 1221, 5196, 7816, 49795, 19, 66, 9010, 4815, 97, 1060, 19377, 19, 98, 48, 440, 2143, 6936, 19, 480, 574, 970, 457, 4815, 6061, 19, 18022, 264, 797, 43240, 12104, 605, 19, 409, 358, 30378, 48, 17343, 31, 4216, 4815, 32591, 1385, 231, 49801, 23535, 357, 32, 43, 9745, 3277]\n",
      "loss\n"
     ]
    },
    {
     "name": "stderr",
     "output_type": "stream",
     "text": [
      "Map: 100%|██████████| 100/100 [00:00<00:00, 5656.89 examples/s]\n"
     ]
    },
    {
     "name": "stdout",
     "output_type": "stream",
     "text": [
      "100\n",
      "[2, 1729, 19, 31, 1640, 4815, 2833, 353, 16027, 965, 19, 5341, 10547, 16221, 4948, 1872, 49795, 382, 31, 16282, 49808, 31133, 912, 97, 417, 29222, 2397, 19, 587, 505, 1044, 40024, 1433, 43, 9724, 320, 4815, 40384, 4280, 26700, 49791, 244, 5036, 97, 31, 4223, 2435, 16221, 49796, 52, 12747, 2316, 3817, 775, 42, 9370, 19, 400, 49808, 3217, 27, 14492, 13390, 7863, 5, 4, 19, 181, 44884, 346, 19, 36105, 97, 466, 47750, 45355, 19, 279, 7, 734, 284, 19, 602, 13, 7, 14, 7, 40384, 4280, 26700, 49791, 26812, 97, 43, 925, 1355, 16220, 3277, 18250, 168, 3698, 26812, 40384, 1004, 228, 41050, 19, 8183, 1457, 16221, 7815, 43, 1479, 905, 19, 21561, 31339, 17808, 5, 7172, 124, 7, 144, 7, 17990, 1793, 49792, 19]\n",
      "[19, 12003, 82, 146, 21545, 5, 4815, 27037, 19, 96, 82, 3620, 1809, 49098, 11, 27944, 8183, 27, 19, 48, 10532, 22366, 43, 3534, 2112, 3292, 22742, 12141, 480, 59, 6038, 27199, 36, 59, 19141, 19, 67, 409, 29219, 42, 7351, 400, 49808, 170, 574, 12806, 3309, 48, 737, 195, 4893, 7, 299, 33334, 49796, 42737, 63, 19, 44985, 1292, 5549, 2065, 2149, 52, 13564, 4, 4, 19, 9632, 75, 258, 51, 49808, 2706, 19, 252, 13686, 3969, 4815, 97, 16027, 965, 19, 67, 21489, 76, 275, 211, 43240, 103, 19, 48, 102, 610, 29219, 42, 533, 481, 23980, 3095, 103, 49795, 7, 3426, 734, 2407, 117, 1030, 3945, 33695, 29647, 10698, 734, 19, 1772, 102, 19, 98, 365, 2112, 66, 527, 49808, 1073, 19, 48, 76, 549]\n",
      "[12756, 147, 9729, 45321, 6936, 49796, 7048, 100, 37384, 43, 1752, 36655, 17808, 49791, 2215, 52, 204, 219, 466, 47750, 7, 26538, 7, 28660, 335, 15192, 40354, 585, 31, 21, 16354, 67, 37439, 19, 36, 11340, 36221, 147, 48, 4815, 26838, 51, 678, 12801, 19, 5271, 26119, 21, 16354, 10563, 18523, 1069, 2997, 266, 7, 299, 102, 6177, 68, 275, 7152, 199, 713, 49796, 16889, 4, 4, 19, 48, 31, 654, 26573, 20213, 49792, 21, 16354, 102, 29219, 1221, 5196, 7816, 49795, 19, 66, 9010, 4815, 97, 1060, 19377, 19, 98, 48, 440, 2143, 6936, 19, 480, 574, 970, 457, 4815, 6061, 19, 18022, 264, 797, 43240, 12104, 605, 19, 409, 358, 30378, 48, 17343, 31, 4216, 4815, 32591, 1385, 231, 49801, 23535, 357, 32, 43, 9745, 3277]\n",
      "loss\n"
     ]
    },
    {
     "name": "stderr",
     "output_type": "stream",
     "text": [
      "Map: 100%|██████████| 100/100 [00:00<00:00, 5650.34 examples/s]\n"
     ]
    },
    {
     "name": "stdout",
     "output_type": "stream",
     "text": [
      "100\n",
      "[2, 1729, 19, 31, 1640, 4815, 2833, 353, 16027, 965, 19, 5341, 10547, 16221, 4948, 1872, 49795, 382, 31, 16282, 49808, 31133, 912, 97, 417, 29222, 2397, 19, 587, 505, 1044, 40024, 1433, 43, 9724, 320, 4815, 40384, 4280, 26700, 49791, 244, 5036, 97, 31, 4223, 2435, 16221, 49796, 52, 12747, 2316, 3817, 775, 42, 9370, 19, 400, 49808, 3217, 27, 14492, 13390, 7863, 5, 27613, 4, 181, 44884, 346, 19, 36105, 97, 466, 47750, 45355, 19, 279, 7, 734, 284, 19, 602, 13, 7, 14, 7, 40384, 4280, 26700, 49791, 26812, 97, 43, 925, 1355, 16220, 3277, 18250, 168, 3698, 26812, 40384, 1004, 228, 41050, 19, 8183, 1457, 16221, 7815, 43, 1479, 905, 19, 21561, 31339, 17808, 5, 7172, 124, 7, 144, 7, 17990, 1793, 49792, 19]\n",
      "[19, 12003, 82, 146, 21545, 5, 4815, 27037, 19, 96, 82, 3620, 1809, 49098, 11, 27944, 8183, 27, 19, 48, 10532, 22366, 43, 3534, 2112, 3292, 22742, 12141, 480, 59, 6038, 27199, 36, 59, 19141, 19, 67, 409, 29219, 42, 7351, 400, 49808, 170, 574, 12806, 3309, 48, 737, 195, 4893, 7, 299, 33334, 49796, 42737, 63, 19, 44985, 1292, 5549, 2065, 2149, 52, 13564, 41767, 4, 19, 9632, 75, 258, 51, 49808, 2706, 19, 252, 13686, 3969, 4815, 97, 16027, 965, 19, 67, 21489, 76, 275, 211, 43240, 103, 19, 48, 102, 610, 29219, 42, 533, 481, 23980, 3095, 103, 49795, 7, 3426, 734, 2407, 117, 1030, 3945, 33695, 29647, 10698, 734, 19, 1772, 102, 19, 98, 365, 2112, 66, 527, 49808, 1073, 19, 48, 76, 549]\n",
      "[12756, 147, 9729, 45321, 6936, 49796, 7048, 100, 37384, 43, 1752, 36655, 17808, 49791, 2215, 52, 204, 219, 466, 47750, 7, 26538, 7, 28660, 335, 15192, 40354, 585, 31, 21, 16354, 67, 37439, 19, 36, 11340, 36221, 147, 48, 4815, 26838, 51, 678, 12801, 19, 5271, 26119, 21, 16354, 10563, 18523, 1069, 2997, 266, 7, 299, 102, 6177, 68, 275, 7152, 199, 713, 49796, 16889, 1793, 4, 19, 48, 31, 654, 26573, 20213, 49792, 21, 16354, 102, 29219, 1221, 5196, 7816, 49795, 19, 66, 9010, 4815, 97, 1060, 19377, 19, 98, 48, 440, 2143, 6936, 19, 480, 574, 970, 457, 4815, 6061, 19, 18022, 264, 797, 43240, 12104, 605, 19, 409, 358, 30378, 48, 17343, 31, 4216, 4815, 32591, 1385, 231, 49801, 23535, 357, 32, 43, 9745, 3277]\n",
      "loss\n"
     ]
    },
    {
     "name": "stderr",
     "output_type": "stream",
     "text": [
      "Map: 100%|██████████| 100/100 [00:00<00:00, 5660.71 examples/s]\n"
     ]
    },
    {
     "name": "stdout",
     "output_type": "stream",
     "text": [
      "100\n",
      "[2, 1729, 19, 31, 1640, 4815, 2833, 353, 16027, 965, 19, 5341, 10547, 16221, 4948, 1872, 49795, 382, 31, 16282, 49808, 31133, 912, 97, 417, 29222, 2397, 19, 587, 505, 1044, 40024, 1433, 43, 9724, 320, 4815, 40384, 4280, 26700, 49791, 244, 5036, 97, 31, 4223, 2435, 16221, 49796, 52, 12747, 2316, 3817, 775, 42, 9370, 19, 400, 49808, 3217, 27, 14492, 13390, 7863, 5, 27613, 19, 4, 44884, 346, 19, 36105, 97, 466, 47750, 45355, 19, 279, 7, 734, 284, 19, 602, 13, 7, 14, 7, 40384, 4280, 26700, 49791, 26812, 97, 43, 925, 1355, 16220, 3277, 18250, 168, 3698, 26812, 40384, 1004, 228, 41050, 19, 8183, 1457, 16221, 7815, 43, 1479, 905, 19, 21561, 31339, 17808, 5, 7172, 124, 7, 144, 7, 17990, 1793, 49792, 19]\n",
      "[19, 12003, 82, 146, 21545, 5, 4815, 27037, 19, 96, 82, 3620, 1809, 49098, 11, 27944, 8183, 27, 19, 48, 10532, 22366, 43, 3534, 2112, 3292, 22742, 12141, 480, 59, 6038, 27199, 36, 59, 19141, 19, 67, 409, 29219, 42, 7351, 400, 49808, 170, 574, 12806, 3309, 48, 737, 195, 4893, 7, 299, 33334, 49796, 42737, 63, 19, 44985, 1292, 5549, 2065, 2149, 52, 13564, 41767, 49795, 4, 9632, 75, 258, 51, 49808, 2706, 19, 252, 13686, 3969, 4815, 97, 16027, 965, 19, 67, 21489, 76, 275, 211, 43240, 103, 19, 48, 102, 610, 29219, 42, 533, 481, 23980, 3095, 103, 49795, 7, 3426, 734, 2407, 117, 1030, 3945, 33695, 29647, 10698, 734, 19, 1772, 102, 19, 98, 365, 2112, 66, 527, 49808, 1073, 19, 48, 76, 549]\n",
      "[12756, 147, 9729, 45321, 6936, 49796, 7048, 100, 37384, 43, 1752, 36655, 17808, 49791, 2215, 52, 204, 219, 466, 47750, 7, 26538, 7, 28660, 335, 15192, 40354, 585, 31, 21, 16354, 67, 37439, 19, 36, 11340, 36221, 147, 48, 4815, 26838, 51, 678, 12801, 19, 5271, 26119, 21, 16354, 10563, 18523, 1069, 2997, 266, 7, 299, 102, 6177, 68, 275, 7152, 199, 713, 49796, 16889, 1793, 10, 4, 48, 31, 654, 26573, 20213, 49792, 21, 16354, 102, 29219, 1221, 5196, 7816, 49795, 19, 66, 9010, 4815, 97, 1060, 19377, 19, 98, 48, 440, 2143, 6936, 19, 480, 574, 970, 457, 4815, 6061, 19, 18022, 264, 797, 43240, 12104, 605, 19, 409, 358, 30378, 48, 17343, 31, 4216, 4815, 32591, 1385, 231, 49801, 23535, 357, 32, 43, 9745, 3277]\n",
      "loss\n"
     ]
    },
    {
     "name": "stderr",
     "output_type": "stream",
     "text": [
      "Map: 100%|██████████| 100/100 [00:00<00:00, 5658.04 examples/s]\n"
     ]
    },
    {
     "name": "stdout",
     "output_type": "stream",
     "text": [
      "100\n",
      "[2, 1729, 19, 31, 1640, 4815, 2833, 353, 16027, 965, 19, 5341, 10547, 16221, 4948, 1872, 49795, 382, 31, 16282, 49808, 31133, 912, 97, 417, 29222, 2397, 19, 587, 505, 1044, 40024, 1433, 43, 9724, 320, 4815, 40384, 4280, 26700, 49791, 244, 5036, 97, 31, 4223, 2435, 16221, 49796, 52, 12747, 2316, 3817, 775, 42, 9370, 19, 400, 49808, 3217, 27, 14492, 13390, 7863, 5, 27613, 19, 181, 4, 346, 19, 36105, 97, 466, 47750, 45355, 19, 279, 7, 734, 284, 19, 602, 13, 7, 14, 7, 40384, 4280, 26700, 49791, 26812, 97, 43, 925, 1355, 16220, 3277, 18250, 168, 3698, 26812, 40384, 1004, 228, 41050, 19, 8183, 1457, 16221, 7815, 43, 1479, 905, 19, 21561, 31339, 17808, 5, 7172, 124, 7, 144, 7, 17990, 1793, 49792, 19]\n",
      "[19, 12003, 82, 146, 21545, 5, 4815, 27037, 19, 96, 82, 3620, 1809, 49098, 11, 27944, 8183, 27, 19, 48, 10532, 22366, 43, 3534, 2112, 3292, 22742, 12141, 480, 59, 6038, 27199, 36, 59, 19141, 19, 67, 409, 29219, 42, 7351, 400, 49808, 170, 574, 12806, 3309, 48, 737, 195, 4893, 7, 299, 33334, 49796, 42737, 63, 19, 44985, 1292, 5549, 2065, 2149, 52, 13564, 41767, 49795, 19, 4, 4, 258, 51, 49808, 2706, 19, 252, 13686, 3969, 4815, 97, 16027, 965, 19, 67, 21489, 76, 275, 211, 43240, 103, 19, 48, 102, 610, 29219, 42, 533, 481, 23980, 3095, 103, 49795, 7, 3426, 734, 2407, 117, 1030, 3945, 33695, 29647, 10698, 734, 19, 1772, 102, 19, 98, 365, 2112, 66, 527, 49808, 1073, 19, 48, 76, 549]\n",
      "[12756, 147, 9729, 45321, 6936, 49796, 7048, 100, 37384, 43, 1752, 36655, 17808, 49791, 2215, 52, 204, 219, 466, 47750, 7, 26538, 7, 28660, 335, 15192, 40354, 585, 31, 21, 16354, 67, 37439, 19, 36, 11340, 36221, 147, 48, 4815, 26838, 51, 678, 12801, 19, 5271, 26119, 21, 16354, 10563, 18523, 1069, 2997, 266, 7, 299, 102, 6177, 68, 275, 7152, 199, 713, 49796, 16889, 1793, 10, 19, 4, 31, 654, 26573, 20213, 49792, 21, 16354, 102, 29219, 1221, 5196, 7816, 49795, 19, 66, 9010, 4815, 97, 1060, 19377, 19, 98, 48, 440, 2143, 6936, 19, 480, 574, 970, 457, 4815, 6061, 19, 18022, 264, 797, 43240, 12104, 605, 19, 409, 358, 30378, 48, 17343, 31, 4216, 4815, 32591, 1385, 231, 49801, 23535, 357, 32, 43, 9745, 3277]\n",
      "loss\n"
     ]
    },
    {
     "name": "stderr",
     "output_type": "stream",
     "text": [
      "Map: 100%|██████████| 100/100 [00:00<00:00, 5668.67 examples/s]\n"
     ]
    },
    {
     "name": "stdout",
     "output_type": "stream",
     "text": [
      "100\n",
      "[2, 1729, 19, 31, 1640, 4815, 2833, 353, 16027, 965, 19, 5341, 10547, 16221, 4948, 1872, 49795, 382, 31, 16282, 49808, 31133, 912, 97, 417, 29222, 2397, 19, 587, 505, 1044, 40024, 1433, 43, 9724, 320, 4815, 40384, 4280, 26700, 49791, 244, 5036, 97, 31, 4223, 2435, 16221, 49796, 52, 12747, 2316, 3817, 775, 42, 9370, 19, 400, 49808, 3217, 27, 14492, 13390, 7863, 5, 27613, 19, 181, 44884, 4, 19, 36105, 97, 466, 47750, 45355, 19, 279, 7, 734, 284, 19, 602, 13, 7, 14, 7, 40384, 4280, 26700, 49791, 26812, 97, 43, 925, 1355, 16220, 3277, 18250, 168, 3698, 26812, 40384, 1004, 228, 41050, 19, 8183, 1457, 16221, 7815, 43, 1479, 905, 19, 21561, 31339, 17808, 5, 7172, 124, 7, 144, 7, 17990, 1793, 49792, 19]\n",
      "[19, 12003, 82, 146, 21545, 5, 4815, 27037, 19, 96, 82, 3620, 1809, 49098, 11, 27944, 8183, 27, 19, 48, 10532, 22366, 43, 3534, 2112, 3292, 22742, 12141, 480, 59, 6038, 27199, 36, 59, 19141, 19, 67, 409, 29219, 42, 7351, 400, 49808, 170, 574, 12806, 3309, 48, 737, 195, 4893, 7, 299, 33334, 49796, 42737, 63, 19, 44985, 1292, 5549, 2065, 2149, 52, 13564, 41767, 49795, 19, 9632, 4, 258, 51, 49808, 2706, 19, 252, 13686, 3969, 4815, 97, 16027, 965, 19, 67, 21489, 76, 275, 211, 43240, 103, 19, 48, 102, 610, 29219, 42, 533, 481, 23980, 3095, 103, 49795, 7, 3426, 734, 2407, 117, 1030, 3945, 33695, 29647, 10698, 734, 19, 1772, 102, 19, 98, 365, 2112, 66, 527, 49808, 1073, 19, 48, 76, 549]\n",
      "[12756, 147, 9729, 45321, 6936, 49796, 7048, 100, 37384, 43, 1752, 36655, 17808, 49791, 2215, 52, 204, 219, 466, 47750, 7, 26538, 7, 28660, 335, 15192, 40354, 585, 31, 21, 16354, 67, 37439, 19, 36, 11340, 36221, 147, 48, 4815, 26838, 51, 678, 12801, 19, 5271, 26119, 21, 16354, 10563, 18523, 1069, 2997, 266, 7, 299, 102, 6177, 68, 275, 7152, 199, 713, 49796, 16889, 1793, 10, 19, 48, 4, 654, 26573, 20213, 49792, 21, 16354, 102, 29219, 1221, 5196, 7816, 49795, 19, 66, 9010, 4815, 97, 1060, 19377, 19, 98, 48, 440, 2143, 6936, 19, 480, 574, 970, 457, 4815, 6061, 19, 18022, 264, 797, 43240, 12104, 605, 19, 409, 358, 30378, 48, 17343, 31, 4216, 4815, 32591, 1385, 231, 49801, 23535, 357, 32, 43, 9745, 3277]\n",
      "loss\n"
     ]
    },
    {
     "name": "stderr",
     "output_type": "stream",
     "text": [
      "Map: 100%|██████████| 100/100 [00:00<00:00, 5702.73 examples/s]\n"
     ]
    },
    {
     "name": "stdout",
     "output_type": "stream",
     "text": [
      "100\n",
      "[2, 1729, 19, 31, 1640, 4815, 2833, 353, 16027, 965, 19, 5341, 10547, 16221, 4948, 1872, 49795, 382, 31, 16282, 49808, 31133, 912, 97, 417, 29222, 2397, 19, 587, 505, 1044, 40024, 1433, 43, 9724, 320, 4815, 40384, 4280, 26700, 49791, 244, 5036, 97, 31, 4223, 2435, 16221, 49796, 52, 12747, 2316, 3817, 775, 42, 9370, 19, 400, 49808, 3217, 27, 14492, 13390, 7863, 5, 27613, 19, 181, 44884, 346, 4, 36105, 97, 466, 47750, 45355, 19, 279, 7, 734, 284, 19, 602, 13, 7, 14, 7, 40384, 4280, 26700, 49791, 26812, 97, 43, 925, 1355, 16220, 3277, 18250, 168, 3698, 26812, 40384, 1004, 228, 41050, 19, 8183, 1457, 16221, 7815, 43, 1479, 905, 19, 21561, 31339, 17808, 5, 7172, 124, 7, 144, 7, 17990, 1793, 49792, 19]\n",
      "[19, 12003, 82, 146, 21545, 5, 4815, 27037, 19, 96, 82, 3620, 1809, 49098, 11, 27944, 8183, 27, 19, 48, 10532, 22366, 43, 3534, 2112, 3292, 22742, 12141, 480, 59, 6038, 27199, 36, 59, 19141, 19, 67, 409, 29219, 42, 7351, 400, 49808, 170, 574, 12806, 3309, 48, 737, 195, 4893, 7, 299, 33334, 49796, 42737, 63, 19, 44985, 1292, 5549, 2065, 2149, 52, 13564, 41767, 49795, 19, 9632, 75, 4, 4, 4, 4, 19, 252, 13686, 3969, 4815, 97, 16027, 965, 19, 67, 21489, 76, 275, 211, 43240, 103, 19, 48, 102, 610, 29219, 42, 533, 481, 23980, 3095, 103, 49795, 7, 3426, 734, 2407, 117, 1030, 3945, 33695, 29647, 10698, 734, 19, 1772, 102, 19, 98, 365, 2112, 66, 527, 49808, 1073, 19, 48, 76, 549]\n",
      "[12756, 147, 9729, 45321, 6936, 49796, 7048, 100, 37384, 43, 1752, 36655, 17808, 49791, 2215, 52, 204, 219, 466, 47750, 7, 26538, 7, 28660, 335, 15192, 40354, 585, 31, 21, 16354, 67, 37439, 19, 36, 11340, 36221, 147, 48, 4815, 26838, 51, 678, 12801, 19, 5271, 26119, 21, 16354, 10563, 18523, 1069, 2997, 266, 7, 299, 102, 6177, 68, 275, 7152, 199, 713, 49796, 16889, 1793, 10, 19, 48, 31, 4, 26573, 20213, 49792, 21, 16354, 102, 29219, 1221, 5196, 7816, 49795, 19, 66, 9010, 4815, 97, 1060, 19377, 19, 98, 48, 440, 2143, 6936, 19, 480, 574, 970, 457, 4815, 6061, 19, 18022, 264, 797, 43240, 12104, 605, 19, 409, 358, 30378, 48, 17343, 31, 4216, 4815, 32591, 1385, 231, 49801, 23535, 357, 32, 43, 9745, 3277]\n",
      "loss\n"
     ]
    },
    {
     "name": "stderr",
     "output_type": "stream",
     "text": [
      "Map: 100%|██████████| 100/100 [00:00<00:00, 5483.83 examples/s]\n"
     ]
    },
    {
     "name": "stdout",
     "output_type": "stream",
     "text": [
      "100\n",
      "[2, 1729, 19, 31, 1640, 4815, 2833, 353, 16027, 965, 19, 5341, 10547, 16221, 4948, 1872, 49795, 382, 31, 16282, 49808, 31133, 912, 97, 417, 29222, 2397, 19, 587, 505, 1044, 40024, 1433, 43, 9724, 320, 4815, 40384, 4280, 26700, 49791, 244, 5036, 97, 31, 4223, 2435, 16221, 49796, 52, 12747, 2316, 3817, 775, 42, 9370, 19, 400, 49808, 3217, 27, 14492, 13390, 7863, 5, 27613, 19, 181, 44884, 346, 19, 4, 97, 466, 47750, 45355, 19, 279, 7, 734, 284, 19, 602, 13, 7, 14, 7, 40384, 4280, 26700, 49791, 26812, 97, 43, 925, 1355, 16220, 3277, 18250, 168, 3698, 26812, 40384, 1004, 228, 41050, 19, 8183, 1457, 16221, 7815, 43, 1479, 905, 19, 21561, 31339, 17808, 5, 7172, 124, 7, 144, 7, 17990, 1793, 49792, 19]\n",
      "[19, 12003, 82, 146, 21545, 5, 4815, 27037, 19, 96, 82, 3620, 1809, 49098, 11, 27944, 8183, 27, 19, 48, 10532, 22366, 43, 3534, 2112, 3292, 22742, 12141, 480, 59, 6038, 27199, 36, 59, 19141, 19, 67, 409, 29219, 42, 7351, 400, 49808, 170, 574, 12806, 3309, 48, 737, 195, 4893, 7, 299, 33334, 49796, 42737, 63, 19, 44985, 1292, 5549, 2065, 2149, 52, 13564, 41767, 49795, 19, 9632, 75, 258, 4, 4, 4, 19, 252, 13686, 3969, 4815, 97, 16027, 965, 19, 67, 21489, 76, 275, 211, 43240, 103, 19, 48, 102, 610, 29219, 42, 533, 481, 23980, 3095, 103, 49795, 7, 3426, 734, 2407, 117, 1030, 3945, 33695, 29647, 10698, 734, 19, 1772, 102, 19, 98, 365, 2112, 66, 527, 49808, 1073, 19, 48, 76, 549]\n",
      "[12756, 147, 9729, 45321, 6936, 49796, 7048, 100, 37384, 43, 1752, 36655, 17808, 49791, 2215, 52, 204, 219, 466, 47750, 7, 26538, 7, 28660, 335, 15192, 40354, 585, 31, 21, 16354, 67, 37439, 19, 36, 11340, 36221, 147, 48, 4815, 26838, 51, 678, 12801, 19, 5271, 26119, 21, 16354, 10563, 18523, 1069, 2997, 266, 7, 299, 102, 6177, 68, 275, 7152, 199, 713, 49796, 16889, 1793, 10, 19, 48, 31, 654, 4, 20213, 49792, 21, 16354, 102, 29219, 1221, 5196, 7816, 49795, 19, 66, 9010, 4815, 97, 1060, 19377, 19, 98, 48, 440, 2143, 6936, 19, 480, 574, 970, 457, 4815, 6061, 19, 18022, 264, 797, 43240, 12104, 605, 19, 409, 358, 30378, 48, 17343, 31, 4216, 4815, 32591, 1385, 231, 49801, 23535, 357, 32, 43, 9745, 3277]\n",
      "loss\n"
     ]
    },
    {
     "name": "stderr",
     "output_type": "stream",
     "text": [
      "Map: 100%|██████████| 100/100 [00:00<00:00, 5669.36 examples/s]\n"
     ]
    },
    {
     "name": "stdout",
     "output_type": "stream",
     "text": [
      "100\n",
      "[2, 1729, 19, 31, 1640, 4815, 2833, 353, 16027, 965, 19, 5341, 10547, 16221, 4948, 1872, 49795, 382, 31, 16282, 49808, 31133, 912, 97, 417, 29222, 2397, 19, 587, 505, 1044, 40024, 1433, 43, 9724, 320, 4815, 40384, 4280, 26700, 49791, 244, 5036, 97, 31, 4223, 2435, 16221, 49796, 52, 12747, 2316, 3817, 775, 42, 9370, 19, 400, 49808, 3217, 27, 14492, 13390, 7863, 5, 27613, 19, 181, 44884, 346, 19, 36105, 4, 466, 47750, 45355, 19, 279, 7, 734, 284, 19, 602, 13, 7, 14, 7, 40384, 4280, 26700, 49791, 26812, 97, 43, 925, 1355, 16220, 3277, 18250, 168, 3698, 26812, 40384, 1004, 228, 41050, 19, 8183, 1457, 16221, 7815, 43, 1479, 905, 19, 21561, 31339, 17808, 5, 7172, 124, 7, 144, 7, 17990, 1793, 49792, 19]\n",
      "[19, 12003, 82, 146, 21545, 5, 4815, 27037, 19, 96, 82, 3620, 1809, 49098, 11, 27944, 8183, 27, 19, 48, 10532, 22366, 43, 3534, 2112, 3292, 22742, 12141, 480, 59, 6038, 27199, 36, 59, 19141, 19, 67, 409, 29219, 42, 7351, 400, 49808, 170, 574, 12806, 3309, 48, 737, 195, 4893, 7, 299, 33334, 49796, 42737, 63, 19, 44985, 1292, 5549, 2065, 2149, 52, 13564, 41767, 49795, 19, 9632, 75, 258, 51, 4, 4, 19, 252, 13686, 3969, 4815, 97, 16027, 965, 19, 67, 21489, 76, 275, 211, 43240, 103, 19, 48, 102, 610, 29219, 42, 533, 481, 23980, 3095, 103, 49795, 7, 3426, 734, 2407, 117, 1030, 3945, 33695, 29647, 10698, 734, 19, 1772, 102, 19, 98, 365, 2112, 66, 527, 49808, 1073, 19, 48, 76, 549]\n",
      "[12756, 147, 9729, 45321, 6936, 49796, 7048, 100, 37384, 43, 1752, 36655, 17808, 49791, 2215, 52, 204, 219, 466, 47750, 7, 26538, 7, 28660, 335, 15192, 40354, 585, 31, 21, 16354, 67, 37439, 19, 36, 11340, 36221, 147, 48, 4815, 26838, 51, 678, 12801, 19, 5271, 26119, 21, 16354, 10563, 18523, 1069, 2997, 266, 7, 299, 102, 6177, 68, 275, 7152, 199, 713, 49796, 16889, 1793, 10, 19, 48, 31, 654, 26573, 4, 4, 21, 16354, 102, 29219, 1221, 5196, 7816, 49795, 19, 66, 9010, 4815, 97, 1060, 19377, 19, 98, 48, 440, 2143, 6936, 19, 480, 574, 970, 457, 4815, 6061, 19, 18022, 264, 797, 43240, 12104, 605, 19, 409, 358, 30378, 48, 17343, 31, 4216, 4815, 32591, 1385, 231, 49801, 23535, 357, 32, 43, 9745, 3277]\n",
      "loss\n"
     ]
    },
    {
     "name": "stderr",
     "output_type": "stream",
     "text": [
      "Map: 100%|██████████| 100/100 [00:00<00:00, 5665.45 examples/s]\n"
     ]
    },
    {
     "name": "stdout",
     "output_type": "stream",
     "text": [
      "100\n",
      "[2, 1729, 19, 31, 1640, 4815, 2833, 353, 16027, 965, 19, 5341, 10547, 16221, 4948, 1872, 49795, 382, 31, 16282, 49808, 31133, 912, 97, 417, 29222, 2397, 19, 587, 505, 1044, 40024, 1433, 43, 9724, 320, 4815, 40384, 4280, 26700, 49791, 244, 5036, 97, 31, 4223, 2435, 16221, 49796, 52, 12747, 2316, 3817, 775, 42, 9370, 19, 400, 49808, 3217, 27, 14492, 13390, 7863, 5, 27613, 19, 181, 44884, 346, 19, 36105, 97, 4, 47750, 45355, 19, 279, 7, 734, 284, 19, 602, 13, 7, 14, 7, 40384, 4280, 26700, 49791, 26812, 97, 43, 925, 1355, 16220, 3277, 18250, 168, 3698, 26812, 40384, 1004, 228, 41050, 19, 8183, 1457, 16221, 7815, 43, 1479, 905, 19, 21561, 31339, 17808, 5, 7172, 124, 7, 144, 7, 17990, 1793, 49792, 19]\n",
      "[19, 12003, 82, 146, 21545, 5, 4815, 27037, 19, 96, 82, 3620, 1809, 49098, 11, 27944, 8183, 27, 19, 48, 10532, 22366, 43, 3534, 2112, 3292, 22742, 12141, 480, 59, 6038, 27199, 36, 59, 19141, 19, 67, 409, 29219, 42, 7351, 400, 49808, 170, 574, 12806, 3309, 48, 737, 195, 4893, 7, 299, 33334, 49796, 42737, 63, 19, 44985, 1292, 5549, 2065, 2149, 52, 13564, 41767, 49795, 19, 9632, 75, 258, 51, 49808, 4, 19, 252, 13686, 3969, 4815, 97, 16027, 965, 19, 67, 21489, 76, 275, 211, 43240, 103, 19, 48, 102, 610, 29219, 42, 533, 481, 23980, 3095, 103, 49795, 7, 3426, 734, 2407, 117, 1030, 3945, 33695, 29647, 10698, 734, 19, 1772, 102, 19, 98, 365, 2112, 66, 527, 49808, 1073, 19, 48, 76, 549]\n",
      "[12756, 147, 9729, 45321, 6936, 49796, 7048, 100, 37384, 43, 1752, 36655, 17808, 49791, 2215, 52, 204, 219, 466, 47750, 7, 26538, 7, 28660, 335, 15192, 40354, 585, 31, 21, 16354, 67, 37439, 19, 36, 11340, 36221, 147, 48, 4815, 26838, 51, 678, 12801, 19, 5271, 26119, 21, 16354, 10563, 18523, 1069, 2997, 266, 7, 299, 102, 6177, 68, 275, 7152, 199, 713, 49796, 16889, 1793, 10, 19, 48, 31, 654, 26573, 20213, 4, 21, 16354, 102, 29219, 1221, 5196, 7816, 49795, 19, 66, 9010, 4815, 97, 1060, 19377, 19, 98, 48, 440, 2143, 6936, 19, 480, 574, 970, 457, 4815, 6061, 19, 18022, 264, 797, 43240, 12104, 605, 19, 409, 358, 30378, 48, 17343, 31, 4216, 4815, 32591, 1385, 231, 49801, 23535, 357, 32, 43, 9745, 3277]\n",
      "loss\n"
     ]
    },
    {
     "name": "stderr",
     "output_type": "stream",
     "text": [
      "Map: 100%|██████████| 100/100 [00:00<00:00, 5628.58 examples/s]\n"
     ]
    },
    {
     "name": "stdout",
     "output_type": "stream",
     "text": [
      "100\n",
      "[2, 1729, 19, 31, 1640, 4815, 2833, 353, 16027, 965, 19, 5341, 10547, 16221, 4948, 1872, 49795, 382, 31, 16282, 49808, 31133, 912, 97, 417, 29222, 2397, 19, 587, 505, 1044, 40024, 1433, 43, 9724, 320, 4815, 40384, 4280, 26700, 49791, 244, 5036, 97, 31, 4223, 2435, 16221, 49796, 52, 12747, 2316, 3817, 775, 42, 9370, 19, 400, 49808, 3217, 27, 14492, 13390, 7863, 5, 27613, 19, 181, 44884, 346, 19, 36105, 97, 466, 4, 45355, 19, 279, 7, 734, 284, 19, 602, 13, 7, 14, 7, 40384, 4280, 26700, 49791, 26812, 97, 43, 925, 1355, 16220, 3277, 18250, 168, 3698, 26812, 40384, 1004, 228, 41050, 19, 8183, 1457, 16221, 7815, 43, 1479, 905, 19, 21561, 31339, 17808, 5, 7172, 124, 7, 144, 7, 17990, 1793, 49792, 19]\n",
      "[19, 12003, 82, 146, 21545, 5, 4815, 27037, 19, 96, 82, 3620, 1809, 49098, 11, 27944, 8183, 27, 19, 48, 10532, 22366, 43, 3534, 2112, 3292, 22742, 12141, 480, 59, 6038, 27199, 36, 59, 19141, 19, 67, 409, 29219, 42, 7351, 400, 49808, 170, 574, 12806, 3309, 48, 737, 195, 4893, 7, 299, 33334, 49796, 42737, 63, 19, 44985, 1292, 5549, 2065, 2149, 52, 13564, 41767, 49795, 19, 9632, 75, 258, 51, 49808, 2706, 4, 252, 13686, 3969, 4815, 97, 16027, 965, 19, 67, 21489, 76, 275, 211, 43240, 103, 19, 48, 102, 610, 29219, 42, 533, 481, 23980, 3095, 103, 49795, 7, 3426, 734, 2407, 117, 1030, 3945, 33695, 29647, 10698, 734, 19, 1772, 102, 19, 98, 365, 2112, 66, 527, 49808, 1073, 19, 48, 76, 549]\n",
      "[12756, 147, 9729, 45321, 6936, 49796, 7048, 100, 37384, 43, 1752, 36655, 17808, 49791, 2215, 52, 204, 219, 466, 47750, 7, 26538, 7, 28660, 335, 15192, 40354, 585, 31, 21, 16354, 67, 37439, 19, 36, 11340, 36221, 147, 48, 4815, 26838, 51, 678, 12801, 19, 5271, 26119, 21, 16354, 10563, 18523, 1069, 2997, 266, 7, 299, 102, 6177, 68, 275, 7152, 199, 713, 49796, 16889, 1793, 10, 19, 48, 31, 654, 26573, 20213, 49792, 4, 4, 102, 29219, 1221, 5196, 7816, 49795, 19, 66, 9010, 4815, 97, 1060, 19377, 19, 98, 48, 440, 2143, 6936, 19, 480, 574, 970, 457, 4815, 6061, 19, 18022, 264, 797, 43240, 12104, 605, 19, 409, 358, 30378, 48, 17343, 31, 4216, 4815, 32591, 1385, 231, 49801, 23535, 357, 32, 43, 9745, 3277]\n",
      "loss\n"
     ]
    },
    {
     "name": "stderr",
     "output_type": "stream",
     "text": [
      "Map: 100%|██████████| 100/100 [00:00<00:00, 5750.98 examples/s]\n"
     ]
    },
    {
     "name": "stdout",
     "output_type": "stream",
     "text": [
      "100\n",
      "[2, 1729, 19, 31, 1640, 4815, 2833, 353, 16027, 965, 19, 5341, 10547, 16221, 4948, 1872, 49795, 382, 31, 16282, 49808, 31133, 912, 97, 417, 29222, 2397, 19, 587, 505, 1044, 40024, 1433, 43, 9724, 320, 4815, 40384, 4280, 26700, 49791, 244, 5036, 97, 31, 4223, 2435, 16221, 49796, 52, 12747, 2316, 3817, 775, 42, 9370, 19, 400, 49808, 3217, 27, 14492, 13390, 7863, 5, 27613, 19, 181, 44884, 346, 19, 36105, 97, 466, 47750, 4, 19, 279, 7, 734, 284, 19, 602, 13, 7, 14, 7, 40384, 4280, 26700, 49791, 26812, 97, 43, 925, 1355, 16220, 3277, 18250, 168, 3698, 26812, 40384, 1004, 228, 41050, 19, 8183, 1457, 16221, 7815, 43, 1479, 905, 19, 21561, 31339, 17808, 5, 7172, 124, 7, 144, 7, 17990, 1793, 49792, 19]\n",
      "[19, 12003, 82, 146, 21545, 5, 4815, 27037, 19, 96, 82, 3620, 1809, 49098, 11, 27944, 8183, 27, 19, 48, 10532, 22366, 43, 3534, 2112, 3292, 22742, 12141, 480, 59, 6038, 27199, 36, 59, 19141, 19, 67, 409, 29219, 42, 7351, 400, 49808, 170, 574, 12806, 3309, 48, 737, 195, 4893, 7, 299, 33334, 49796, 42737, 63, 19, 44985, 1292, 5549, 2065, 2149, 52, 13564, 41767, 49795, 19, 9632, 75, 258, 51, 49808, 2706, 19, 4, 13686, 3969, 4815, 97, 16027, 965, 19, 67, 21489, 76, 275, 211, 43240, 103, 19, 48, 102, 610, 29219, 42, 533, 481, 23980, 3095, 103, 49795, 7, 3426, 734, 2407, 117, 1030, 3945, 33695, 29647, 10698, 734, 19, 1772, 102, 19, 98, 365, 2112, 66, 527, 49808, 1073, 19, 48, 76, 549]\n",
      "[12756, 147, 9729, 45321, 6936, 49796, 7048, 100, 37384, 43, 1752, 36655, 17808, 49791, 2215, 52, 204, 219, 466, 47750, 7, 26538, 7, 28660, 335, 15192, 40354, 585, 31, 21, 16354, 67, 37439, 19, 36, 11340, 36221, 147, 48, 4815, 26838, 51, 678, 12801, 19, 5271, 26119, 21, 16354, 10563, 18523, 1069, 2997, 266, 7, 299, 102, 6177, 68, 275, 7152, 199, 713, 49796, 16889, 1793, 10, 19, 48, 31, 654, 26573, 20213, 49792, 21, 4, 102, 29219, 1221, 5196, 7816, 49795, 19, 66, 9010, 4815, 97, 1060, 19377, 19, 98, 48, 440, 2143, 6936, 19, 480, 574, 970, 457, 4815, 6061, 19, 18022, 264, 797, 43240, 12104, 605, 19, 409, 358, 30378, 48, 17343, 31, 4216, 4815, 32591, 1385, 231, 49801, 23535, 357, 32, 43, 9745, 3277]\n",
      "loss\n"
     ]
    },
    {
     "name": "stderr",
     "output_type": "stream",
     "text": [
      "Map: 100%|██████████| 100/100 [00:00<00:00, 5679.11 examples/s]\n"
     ]
    },
    {
     "name": "stdout",
     "output_type": "stream",
     "text": [
      "100\n",
      "[2, 1729, 19, 31, 1640, 4815, 2833, 353, 16027, 965, 19, 5341, 10547, 16221, 4948, 1872, 49795, 382, 31, 16282, 49808, 31133, 912, 97, 417, 29222, 2397, 19, 587, 505, 1044, 40024, 1433, 43, 9724, 320, 4815, 40384, 4280, 26700, 49791, 244, 5036, 97, 31, 4223, 2435, 16221, 49796, 52, 12747, 2316, 3817, 775, 42, 9370, 19, 400, 49808, 3217, 27, 14492, 13390, 7863, 5, 27613, 19, 181, 44884, 346, 19, 36105, 97, 466, 47750, 45355, 4, 279, 7, 734, 284, 19, 602, 13, 7, 14, 7, 40384, 4280, 26700, 49791, 26812, 97, 43, 925, 1355, 16220, 3277, 18250, 168, 3698, 26812, 40384, 1004, 228, 41050, 19, 8183, 1457, 16221, 7815, 43, 1479, 905, 19, 21561, 31339, 17808, 5, 7172, 124, 7, 144, 7, 17990, 1793, 49792, 19]\n",
      "[19, 12003, 82, 146, 21545, 5, 4815, 27037, 19, 96, 82, 3620, 1809, 49098, 11, 27944, 8183, 27, 19, 48, 10532, 22366, 43, 3534, 2112, 3292, 22742, 12141, 480, 59, 6038, 27199, 36, 59, 19141, 19, 67, 409, 29219, 42, 7351, 400, 49808, 170, 574, 12806, 3309, 48, 737, 195, 4893, 7, 299, 33334, 49796, 42737, 63, 19, 44985, 1292, 5549, 2065, 2149, 52, 13564, 41767, 49795, 19, 9632, 75, 258, 51, 49808, 2706, 19, 252, 4, 4, 4815, 97, 16027, 965, 19, 67, 21489, 76, 275, 211, 43240, 103, 19, 48, 102, 610, 29219, 42, 533, 481, 23980, 3095, 103, 49795, 7, 3426, 734, 2407, 117, 1030, 3945, 33695, 29647, 10698, 734, 19, 1772, 102, 19, 98, 365, 2112, 66, 527, 49808, 1073, 19, 48, 76, 549]\n",
      "[12756, 147, 9729, 45321, 6936, 49796, 7048, 100, 37384, 43, 1752, 36655, 17808, 49791, 2215, 52, 204, 219, 466, 47750, 7, 26538, 7, 28660, 335, 15192, 40354, 585, 31, 21, 16354, 67, 37439, 19, 36, 11340, 36221, 147, 48, 4815, 26838, 51, 678, 12801, 19, 5271, 26119, 21, 16354, 10563, 18523, 1069, 2997, 266, 7, 299, 102, 6177, 68, 275, 7152, 199, 713, 49796, 16889, 1793, 10, 19, 48, 31, 654, 26573, 20213, 49792, 21, 16354, 4, 29219, 1221, 5196, 7816, 49795, 19, 66, 9010, 4815, 97, 1060, 19377, 19, 98, 48, 440, 2143, 6936, 19, 480, 574, 970, 457, 4815, 6061, 19, 18022, 264, 797, 43240, 12104, 605, 19, 409, 358, 30378, 48, 17343, 31, 4216, 4815, 32591, 1385, 231, 49801, 23535, 357, 32, 43, 9745, 3277]\n",
      "loss\n"
     ]
    },
    {
     "name": "stderr",
     "output_type": "stream",
     "text": [
      "Map: 100%|██████████| 100/100 [00:00<00:00, 5661.70 examples/s]\n"
     ]
    },
    {
     "name": "stdout",
     "output_type": "stream",
     "text": [
      "100\n",
      "[2, 1729, 19, 31, 1640, 4815, 2833, 353, 16027, 965, 19, 5341, 10547, 16221, 4948, 1872, 49795, 382, 31, 16282, 49808, 31133, 912, 97, 417, 29222, 2397, 19, 587, 505, 1044, 40024, 1433, 43, 9724, 320, 4815, 40384, 4280, 26700, 49791, 244, 5036, 97, 31, 4223, 2435, 16221, 49796, 52, 12747, 2316, 3817, 775, 42, 9370, 19, 400, 49808, 3217, 27, 14492, 13390, 7863, 5, 27613, 19, 181, 44884, 346, 19, 36105, 97, 466, 47750, 45355, 19, 4, 7, 734, 284, 19, 602, 13, 7, 14, 7, 40384, 4280, 26700, 49791, 26812, 97, 43, 925, 1355, 16220, 3277, 18250, 168, 3698, 26812, 40384, 1004, 228, 41050, 19, 8183, 1457, 16221, 7815, 43, 1479, 905, 19, 21561, 31339, 17808, 5, 7172, 124, 7, 144, 7, 17990, 1793, 49792, 19]\n",
      "[19, 12003, 82, 146, 21545, 5, 4815, 27037, 19, 96, 82, 3620, 1809, 49098, 11, 27944, 8183, 27, 19, 48, 10532, 22366, 43, 3534, 2112, 3292, 22742, 12141, 480, 59, 6038, 27199, 36, 59, 19141, 19, 67, 409, 29219, 42, 7351, 400, 49808, 170, 574, 12806, 3309, 48, 737, 195, 4893, 7, 299, 33334, 49796, 42737, 63, 19, 44985, 1292, 5549, 2065, 2149, 52, 13564, 41767, 49795, 19, 9632, 75, 258, 51, 49808, 2706, 19, 252, 13686, 4, 4815, 97, 16027, 965, 19, 67, 21489, 76, 275, 211, 43240, 103, 19, 48, 102, 610, 29219, 42, 533, 481, 23980, 3095, 103, 49795, 7, 3426, 734, 2407, 117, 1030, 3945, 33695, 29647, 10698, 734, 19, 1772, 102, 19, 98, 365, 2112, 66, 527, 49808, 1073, 19, 48, 76, 549]\n",
      "[12756, 147, 9729, 45321, 6936, 49796, 7048, 100, 37384, 43, 1752, 36655, 17808, 49791, 2215, 52, 204, 219, 466, 47750, 7, 26538, 7, 28660, 335, 15192, 40354, 585, 31, 21, 16354, 67, 37439, 19, 36, 11340, 36221, 147, 48, 4815, 26838, 51, 678, 12801, 19, 5271, 26119, 21, 16354, 10563, 18523, 1069, 2997, 266, 7, 299, 102, 6177, 68, 275, 7152, 199, 713, 49796, 16889, 1793, 10, 19, 48, 31, 654, 26573, 20213, 49792, 21, 16354, 102, 4, 4, 5196, 7816, 49795, 19, 66, 9010, 4815, 97, 1060, 19377, 19, 98, 48, 440, 2143, 6936, 19, 480, 574, 970, 457, 4815, 6061, 19, 18022, 264, 797, 43240, 12104, 605, 19, 409, 358, 30378, 48, 17343, 31, 4216, 4815, 32591, 1385, 231, 49801, 23535, 357, 32, 43, 9745, 3277]\n",
      "loss\n"
     ]
    },
    {
     "name": "stderr",
     "output_type": "stream",
     "text": [
      "Map: 100%|██████████| 100/100 [00:00<00:00, 5646.46 examples/s]\n"
     ]
    },
    {
     "name": "stdout",
     "output_type": "stream",
     "text": [
      "100\n",
      "[2, 1729, 19, 31, 1640, 4815, 2833, 353, 16027, 965, 19, 5341, 10547, 16221, 4948, 1872, 49795, 382, 31, 16282, 49808, 31133, 912, 97, 417, 29222, 2397, 19, 587, 505, 1044, 40024, 1433, 43, 9724, 320, 4815, 40384, 4280, 26700, 49791, 244, 5036, 97, 31, 4223, 2435, 16221, 49796, 52, 12747, 2316, 3817, 775, 42, 9370, 19, 400, 49808, 3217, 27, 14492, 13390, 7863, 5, 27613, 19, 181, 44884, 346, 19, 36105, 97, 466, 47750, 45355, 19, 279, 4, 734, 284, 19, 602, 13, 7, 14, 7, 40384, 4280, 26700, 49791, 26812, 97, 43, 925, 1355, 16220, 3277, 18250, 168, 3698, 26812, 40384, 1004, 228, 41050, 19, 8183, 1457, 16221, 7815, 43, 1479, 905, 19, 21561, 31339, 17808, 5, 7172, 124, 7, 144, 7, 17990, 1793, 49792, 19]\n",
      "[19, 12003, 82, 146, 21545, 5, 4815, 27037, 19, 96, 82, 3620, 1809, 49098, 11, 27944, 8183, 27, 19, 48, 10532, 22366, 43, 3534, 2112, 3292, 22742, 12141, 480, 59, 6038, 27199, 36, 59, 19141, 19, 67, 409, 29219, 42, 7351, 400, 49808, 170, 574, 12806, 3309, 48, 737, 195, 4893, 7, 299, 33334, 49796, 42737, 63, 19, 44985, 1292, 5549, 2065, 2149, 52, 13564, 41767, 49795, 19, 9632, 75, 258, 51, 49808, 2706, 19, 252, 13686, 3969, 4, 97, 16027, 965, 19, 67, 21489, 76, 275, 211, 43240, 103, 19, 48, 102, 610, 29219, 42, 533, 481, 23980, 3095, 103, 49795, 7, 3426, 734, 2407, 117, 1030, 3945, 33695, 29647, 10698, 734, 19, 1772, 102, 19, 98, 365, 2112, 66, 527, 49808, 1073, 19, 48, 76, 549]\n",
      "[12756, 147, 9729, 45321, 6936, 49796, 7048, 100, 37384, 43, 1752, 36655, 17808, 49791, 2215, 52, 204, 219, 466, 47750, 7, 26538, 7, 28660, 335, 15192, 40354, 585, 31, 21, 16354, 67, 37439, 19, 36, 11340, 36221, 147, 48, 4815, 26838, 51, 678, 12801, 19, 5271, 26119, 21, 16354, 10563, 18523, 1069, 2997, 266, 7, 299, 102, 6177, 68, 275, 7152, 199, 713, 49796, 16889, 1793, 10, 19, 48, 31, 654, 26573, 20213, 49792, 21, 16354, 102, 29219, 4, 5196, 7816, 49795, 19, 66, 9010, 4815, 97, 1060, 19377, 19, 98, 48, 440, 2143, 6936, 19, 480, 574, 970, 457, 4815, 6061, 19, 18022, 264, 797, 43240, 12104, 605, 19, 409, 358, 30378, 48, 17343, 31, 4216, 4815, 32591, 1385, 231, 49801, 23535, 357, 32, 43, 9745, 3277]\n",
      "loss\n"
     ]
    },
    {
     "name": "stderr",
     "output_type": "stream",
     "text": [
      "Map: 100%|██████████| 100/100 [00:00<00:00, 5617.95 examples/s]\n"
     ]
    },
    {
     "name": "stdout",
     "output_type": "stream",
     "text": [
      "100\n",
      "[2, 1729, 19, 31, 1640, 4815, 2833, 353, 16027, 965, 19, 5341, 10547, 16221, 4948, 1872, 49795, 382, 31, 16282, 49808, 31133, 912, 97, 417, 29222, 2397, 19, 587, 505, 1044, 40024, 1433, 43, 9724, 320, 4815, 40384, 4280, 26700, 49791, 244, 5036, 97, 31, 4223, 2435, 16221, 49796, 52, 12747, 2316, 3817, 775, 42, 9370, 19, 400, 49808, 3217, 27, 14492, 13390, 7863, 5, 27613, 19, 181, 44884, 346, 19, 36105, 97, 466, 47750, 45355, 19, 279, 7, 4, 284, 19, 602, 13, 7, 14, 7, 40384, 4280, 26700, 49791, 26812, 97, 43, 925, 1355, 16220, 3277, 18250, 168, 3698, 26812, 40384, 1004, 228, 41050, 19, 8183, 1457, 16221, 7815, 43, 1479, 905, 19, 21561, 31339, 17808, 5, 7172, 124, 7, 144, 7, 17990, 1793, 49792, 19]\n",
      "[19, 12003, 82, 146, 21545, 5, 4815, 27037, 19, 96, 82, 3620, 1809, 49098, 11, 27944, 8183, 27, 19, 48, 10532, 22366, 43, 3534, 2112, 3292, 22742, 12141, 480, 59, 6038, 27199, 36, 59, 19141, 19, 67, 409, 29219, 42, 7351, 400, 49808, 170, 574, 12806, 3309, 48, 737, 195, 4893, 7, 299, 33334, 49796, 42737, 63, 19, 44985, 1292, 5549, 2065, 2149, 52, 13564, 41767, 49795, 19, 9632, 75, 258, 51, 49808, 2706, 19, 252, 13686, 3969, 4815, 4, 16027, 965, 19, 67, 21489, 76, 275, 211, 43240, 103, 19, 48, 102, 610, 29219, 42, 533, 481, 23980, 3095, 103, 49795, 7, 3426, 734, 2407, 117, 1030, 3945, 33695, 29647, 10698, 734, 19, 1772, 102, 19, 98, 365, 2112, 66, 527, 49808, 1073, 19, 48, 76, 549]\n",
      "[12756, 147, 9729, 45321, 6936, 49796, 7048, 100, 37384, 43, 1752, 36655, 17808, 49791, 2215, 52, 204, 219, 466, 47750, 7, 26538, 7, 28660, 335, 15192, 40354, 585, 31, 21, 16354, 67, 37439, 19, 36, 11340, 36221, 147, 48, 4815, 26838, 51, 678, 12801, 19, 5271, 26119, 21, 16354, 10563, 18523, 1069, 2997, 266, 7, 299, 102, 6177, 68, 275, 7152, 199, 713, 49796, 16889, 1793, 10, 19, 48, 31, 654, 26573, 20213, 49792, 21, 16354, 102, 29219, 1221, 4, 4, 4, 19, 66, 9010, 4815, 97, 1060, 19377, 19, 98, 48, 440, 2143, 6936, 19, 480, 574, 970, 457, 4815, 6061, 19, 18022, 264, 797, 43240, 12104, 605, 19, 409, 358, 30378, 48, 17343, 31, 4216, 4815, 32591, 1385, 231, 49801, 23535, 357, 32, 43, 9745, 3277]\n",
      "loss\n"
     ]
    },
    {
     "name": "stderr",
     "output_type": "stream",
     "text": [
      "Map: 100%|██████████| 100/100 [00:00<00:00, 5620.51 examples/s]\n"
     ]
    },
    {
     "name": "stdout",
     "output_type": "stream",
     "text": [
      "100\n",
      "[2, 1729, 19, 31, 1640, 4815, 2833, 353, 16027, 965, 19, 5341, 10547, 16221, 4948, 1872, 49795, 382, 31, 16282, 49808, 31133, 912, 97, 417, 29222, 2397, 19, 587, 505, 1044, 40024, 1433, 43, 9724, 320, 4815, 40384, 4280, 26700, 49791, 244, 5036, 97, 31, 4223, 2435, 16221, 49796, 52, 12747, 2316, 3817, 775, 42, 9370, 19, 400, 49808, 3217, 27, 14492, 13390, 7863, 5, 27613, 19, 181, 44884, 346, 19, 36105, 97, 466, 47750, 45355, 19, 279, 7, 734, 4, 19, 602, 13, 7, 14, 7, 40384, 4280, 26700, 49791, 26812, 97, 43, 925, 1355, 16220, 3277, 18250, 168, 3698, 26812, 40384, 1004, 228, 41050, 19, 8183, 1457, 16221, 7815, 43, 1479, 905, 19, 21561, 31339, 17808, 5, 7172, 124, 7, 144, 7, 17990, 1793, 49792, 19]\n",
      "[19, 12003, 82, 146, 21545, 5, 4815, 27037, 19, 96, 82, 3620, 1809, 49098, 11, 27944, 8183, 27, 19, 48, 10532, 22366, 43, 3534, 2112, 3292, 22742, 12141, 480, 59, 6038, 27199, 36, 59, 19141, 19, 67, 409, 29219, 42, 7351, 400, 49808, 170, 574, 12806, 3309, 48, 737, 195, 4893, 7, 299, 33334, 49796, 42737, 63, 19, 44985, 1292, 5549, 2065, 2149, 52, 13564, 41767, 49795, 19, 9632, 75, 258, 51, 49808, 2706, 19, 252, 13686, 3969, 4815, 97, 4, 4, 19, 67, 21489, 76, 275, 211, 43240, 103, 19, 48, 102, 610, 29219, 42, 533, 481, 23980, 3095, 103, 49795, 7, 3426, 734, 2407, 117, 1030, 3945, 33695, 29647, 10698, 734, 19, 1772, 102, 19, 98, 365, 2112, 66, 527, 49808, 1073, 19, 48, 76, 549]\n",
      "[12756, 147, 9729, 45321, 6936, 49796, 7048, 100, 37384, 43, 1752, 36655, 17808, 49791, 2215, 52, 204, 219, 466, 47750, 7, 26538, 7, 28660, 335, 15192, 40354, 585, 31, 21, 16354, 67, 37439, 19, 36, 11340, 36221, 147, 48, 4815, 26838, 51, 678, 12801, 19, 5271, 26119, 21, 16354, 10563, 18523, 1069, 2997, 266, 7, 299, 102, 6177, 68, 275, 7152, 199, 713, 49796, 16889, 1793, 10, 19, 48, 31, 654, 26573, 20213, 49792, 21, 16354, 102, 29219, 1221, 5196, 4, 4, 19, 66, 9010, 4815, 97, 1060, 19377, 19, 98, 48, 440, 2143, 6936, 19, 480, 574, 970, 457, 4815, 6061, 19, 18022, 264, 797, 43240, 12104, 605, 19, 409, 358, 30378, 48, 17343, 31, 4216, 4815, 32591, 1385, 231, 49801, 23535, 357, 32, 43, 9745, 3277]\n",
      "loss\n"
     ]
    },
    {
     "name": "stderr",
     "output_type": "stream",
     "text": [
      "Map: 100%|██████████| 100/100 [00:00<00:00, 5734.55 examples/s]\n"
     ]
    },
    {
     "name": "stdout",
     "output_type": "stream",
     "text": [
      "100\n",
      "[2, 1729, 19, 31, 1640, 4815, 2833, 353, 16027, 965, 19, 5341, 10547, 16221, 4948, 1872, 49795, 382, 31, 16282, 49808, 31133, 912, 97, 417, 29222, 2397, 19, 587, 505, 1044, 40024, 1433, 43, 9724, 320, 4815, 40384, 4280, 26700, 49791, 244, 5036, 97, 31, 4223, 2435, 16221, 49796, 52, 12747, 2316, 3817, 775, 42, 9370, 19, 400, 49808, 3217, 27, 14492, 13390, 7863, 5, 27613, 19, 181, 44884, 346, 19, 36105, 97, 466, 47750, 45355, 19, 279, 7, 734, 284, 4, 602, 13, 7, 14, 7, 40384, 4280, 26700, 49791, 26812, 97, 43, 925, 1355, 16220, 3277, 18250, 168, 3698, 26812, 40384, 1004, 228, 41050, 19, 8183, 1457, 16221, 7815, 43, 1479, 905, 19, 21561, 31339, 17808, 5, 7172, 124, 7, 144, 7, 17990, 1793, 49792, 19]\n",
      "[19, 12003, 82, 146, 21545, 5, 4815, 27037, 19, 96, 82, 3620, 1809, 49098, 11, 27944, 8183, 27, 19, 48, 10532, 22366, 43, 3534, 2112, 3292, 22742, 12141, 480, 59, 6038, 27199, 36, 59, 19141, 19, 67, 409, 29219, 42, 7351, 400, 49808, 170, 574, 12806, 3309, 48, 737, 195, 4893, 7, 299, 33334, 49796, 42737, 63, 19, 44985, 1292, 5549, 2065, 2149, 52, 13564, 41767, 49795, 19, 9632, 75, 258, 51, 49808, 2706, 19, 252, 13686, 3969, 4815, 97, 16027, 4, 19, 67, 21489, 76, 275, 211, 43240, 103, 19, 48, 102, 610, 29219, 42, 533, 481, 23980, 3095, 103, 49795, 7, 3426, 734, 2407, 117, 1030, 3945, 33695, 29647, 10698, 734, 19, 1772, 102, 19, 98, 365, 2112, 66, 527, 49808, 1073, 19, 48, 76, 549]\n",
      "[12756, 147, 9729, 45321, 6936, 49796, 7048, 100, 37384, 43, 1752, 36655, 17808, 49791, 2215, 52, 204, 219, 466, 47750, 7, 26538, 7, 28660, 335, 15192, 40354, 585, 31, 21, 16354, 67, 37439, 19, 36, 11340, 36221, 147, 48, 4815, 26838, 51, 678, 12801, 19, 5271, 26119, 21, 16354, 10563, 18523, 1069, 2997, 266, 7, 299, 102, 6177, 68, 275, 7152, 199, 713, 49796, 16889, 1793, 10, 19, 48, 31, 654, 26573, 20213, 49792, 21, 16354, 102, 29219, 1221, 5196, 7816, 4, 19, 66, 9010, 4815, 97, 1060, 19377, 19, 98, 48, 440, 2143, 6936, 19, 480, 574, 970, 457, 4815, 6061, 19, 18022, 264, 797, 43240, 12104, 605, 19, 409, 358, 30378, 48, 17343, 31, 4216, 4815, 32591, 1385, 231, 49801, 23535, 357, 32, 43, 9745, 3277]\n",
      "loss\n"
     ]
    },
    {
     "name": "stderr",
     "output_type": "stream",
     "text": [
      "Map: 100%|██████████| 100/100 [00:00<00:00, 5628.80 examples/s]\n"
     ]
    },
    {
     "name": "stdout",
     "output_type": "stream",
     "text": [
      "100\n",
      "[2, 1729, 19, 31, 1640, 4815, 2833, 353, 16027, 965, 19, 5341, 10547, 16221, 4948, 1872, 49795, 382, 31, 16282, 49808, 31133, 912, 97, 417, 29222, 2397, 19, 587, 505, 1044, 40024, 1433, 43, 9724, 320, 4815, 40384, 4280, 26700, 49791, 244, 5036, 97, 31, 4223, 2435, 16221, 49796, 52, 12747, 2316, 3817, 775, 42, 9370, 19, 400, 49808, 3217, 27, 14492, 13390, 7863, 5, 27613, 19, 181, 44884, 346, 19, 36105, 97, 466, 47750, 45355, 19, 279, 7, 734, 284, 19, 4, 13, 7, 14, 7, 40384, 4280, 26700, 49791, 26812, 97, 43, 925, 1355, 16220, 3277, 18250, 168, 3698, 26812, 40384, 1004, 228, 41050, 19, 8183, 1457, 16221, 7815, 43, 1479, 905, 19, 21561, 31339, 17808, 5, 7172, 124, 7, 144, 7, 17990, 1793, 49792, 19]\n",
      "[19, 12003, 82, 146, 21545, 5, 4815, 27037, 19, 96, 82, 3620, 1809, 49098, 11, 27944, 8183, 27, 19, 48, 10532, 22366, 43, 3534, 2112, 3292, 22742, 12141, 480, 59, 6038, 27199, 36, 59, 19141, 19, 67, 409, 29219, 42, 7351, 400, 49808, 170, 574, 12806, 3309, 48, 737, 195, 4893, 7, 299, 33334, 49796, 42737, 63, 19, 44985, 1292, 5549, 2065, 2149, 52, 13564, 41767, 49795, 19, 9632, 75, 258, 51, 49808, 2706, 19, 252, 13686, 3969, 4815, 97, 16027, 965, 4, 67, 21489, 76, 275, 211, 43240, 103, 19, 48, 102, 610, 29219, 42, 533, 481, 23980, 3095, 103, 49795, 7, 3426, 734, 2407, 117, 1030, 3945, 33695, 29647, 10698, 734, 19, 1772, 102, 19, 98, 365, 2112, 66, 527, 49808, 1073, 19, 48, 76, 549]\n",
      "[12756, 147, 9729, 45321, 6936, 49796, 7048, 100, 37384, 43, 1752, 36655, 17808, 49791, 2215, 52, 204, 219, 466, 47750, 7, 26538, 7, 28660, 335, 15192, 40354, 585, 31, 21, 16354, 67, 37439, 19, 36, 11340, 36221, 147, 48, 4815, 26838, 51, 678, 12801, 19, 5271, 26119, 21, 16354, 10563, 18523, 1069, 2997, 266, 7, 299, 102, 6177, 68, 275, 7152, 199, 713, 49796, 16889, 1793, 10, 19, 48, 31, 654, 26573, 20213, 49792, 21, 16354, 102, 29219, 1221, 5196, 7816, 49795, 4, 66, 9010, 4815, 97, 1060, 19377, 19, 98, 48, 440, 2143, 6936, 19, 480, 574, 970, 457, 4815, 6061, 19, 18022, 264, 797, 43240, 12104, 605, 19, 409, 358, 30378, 48, 17343, 31, 4216, 4815, 32591, 1385, 231, 49801, 23535, 357, 32, 43, 9745, 3277]\n",
      "loss\n"
     ]
    },
    {
     "name": "stderr",
     "output_type": "stream",
     "text": [
      "Map: 100%|██████████| 100/100 [00:00<00:00, 5622.99 examples/s]\n"
     ]
    },
    {
     "name": "stdout",
     "output_type": "stream",
     "text": [
      "100\n",
      "[2, 1729, 19, 31, 1640, 4815, 2833, 353, 16027, 965, 19, 5341, 10547, 16221, 4948, 1872, 49795, 382, 31, 16282, 49808, 31133, 912, 97, 417, 29222, 2397, 19, 587, 505, 1044, 40024, 1433, 43, 9724, 320, 4815, 40384, 4280, 26700, 49791, 244, 5036, 97, 31, 4223, 2435, 16221, 49796, 52, 12747, 2316, 3817, 775, 42, 9370, 19, 400, 49808, 3217, 27, 14492, 13390, 7863, 5, 27613, 19, 181, 44884, 346, 19, 36105, 97, 466, 47750, 45355, 19, 279, 7, 734, 284, 19, 602, 4, 7, 14, 7, 40384, 4280, 26700, 49791, 26812, 97, 43, 925, 1355, 16220, 3277, 18250, 168, 3698, 26812, 40384, 1004, 228, 41050, 19, 8183, 1457, 16221, 7815, 43, 1479, 905, 19, 21561, 31339, 17808, 5, 7172, 124, 7, 144, 7, 17990, 1793, 49792, 19]\n",
      "[19, 12003, 82, 146, 21545, 5, 4815, 27037, 19, 96, 82, 3620, 1809, 49098, 11, 27944, 8183, 27, 19, 48, 10532, 22366, 43, 3534, 2112, 3292, 22742, 12141, 480, 59, 6038, 27199, 36, 59, 19141, 19, 67, 409, 29219, 42, 7351, 400, 49808, 170, 574, 12806, 3309, 48, 737, 195, 4893, 7, 299, 33334, 49796, 42737, 63, 19, 44985, 1292, 5549, 2065, 2149, 52, 13564, 41767, 49795, 19, 9632, 75, 258, 51, 49808, 2706, 19, 252, 13686, 3969, 4815, 97, 16027, 965, 19, 4, 21489, 76, 275, 211, 43240, 103, 19, 48, 102, 610, 29219, 42, 533, 481, 23980, 3095, 103, 49795, 7, 3426, 734, 2407, 117, 1030, 3945, 33695, 29647, 10698, 734, 19, 1772, 102, 19, 98, 365, 2112, 66, 527, 49808, 1073, 19, 48, 76, 549]\n",
      "[12756, 147, 9729, 45321, 6936, 49796, 7048, 100, 37384, 43, 1752, 36655, 17808, 49791, 2215, 52, 204, 219, 466, 47750, 7, 26538, 7, 28660, 335, 15192, 40354, 585, 31, 21, 16354, 67, 37439, 19, 36, 11340, 36221, 147, 48, 4815, 26838, 51, 678, 12801, 19, 5271, 26119, 21, 16354, 10563, 18523, 1069, 2997, 266, 7, 299, 102, 6177, 68, 275, 7152, 199, 713, 49796, 16889, 1793, 10, 19, 48, 31, 654, 26573, 20213, 49792, 21, 16354, 102, 29219, 1221, 5196, 7816, 49795, 19, 4, 9010, 4815, 97, 1060, 19377, 19, 98, 48, 440, 2143, 6936, 19, 480, 574, 970, 457, 4815, 6061, 19, 18022, 264, 797, 43240, 12104, 605, 19, 409, 358, 30378, 48, 17343, 31, 4216, 4815, 32591, 1385, 231, 49801, 23535, 357, 32, 43, 9745, 3277]\n",
      "loss\n"
     ]
    },
    {
     "name": "stderr",
     "output_type": "stream",
     "text": [
      "Map: 100%|██████████| 100/100 [00:00<00:00, 5667.21 examples/s]\n"
     ]
    },
    {
     "name": "stdout",
     "output_type": "stream",
     "text": [
      "100\n",
      "[2, 1729, 19, 31, 1640, 4815, 2833, 353, 16027, 965, 19, 5341, 10547, 16221, 4948, 1872, 49795, 382, 31, 16282, 49808, 31133, 912, 97, 417, 29222, 2397, 19, 587, 505, 1044, 40024, 1433, 43, 9724, 320, 4815, 40384, 4280, 26700, 49791, 244, 5036, 97, 31, 4223, 2435, 16221, 49796, 52, 12747, 2316, 3817, 775, 42, 9370, 19, 400, 49808, 3217, 27, 14492, 13390, 7863, 5, 27613, 19, 181, 44884, 346, 19, 36105, 97, 466, 47750, 45355, 19, 279, 7, 734, 284, 19, 602, 13, 4, 14, 7, 40384, 4280, 26700, 49791, 26812, 97, 43, 925, 1355, 16220, 3277, 18250, 168, 3698, 26812, 40384, 1004, 228, 41050, 19, 8183, 1457, 16221, 7815, 43, 1479, 905, 19, 21561, 31339, 17808, 5, 7172, 124, 7, 144, 7, 17990, 1793, 49792, 19]\n",
      "[19, 12003, 82, 146, 21545, 5, 4815, 27037, 19, 96, 82, 3620, 1809, 49098, 11, 27944, 8183, 27, 19, 48, 10532, 22366, 43, 3534, 2112, 3292, 22742, 12141, 480, 59, 6038, 27199, 36, 59, 19141, 19, 67, 409, 29219, 42, 7351, 400, 49808, 170, 574, 12806, 3309, 48, 737, 195, 4893, 7, 299, 33334, 49796, 42737, 63, 19, 44985, 1292, 5549, 2065, 2149, 52, 13564, 41767, 49795, 19, 9632, 75, 258, 51, 49808, 2706, 19, 252, 13686, 3969, 4815, 97, 16027, 965, 19, 67, 4, 76, 275, 211, 43240, 103, 19, 48, 102, 610, 29219, 42, 533, 481, 23980, 3095, 103, 49795, 7, 3426, 734, 2407, 117, 1030, 3945, 33695, 29647, 10698, 734, 19, 1772, 102, 19, 98, 365, 2112, 66, 527, 49808, 1073, 19, 48, 76, 549]\n",
      "[12756, 147, 9729, 45321, 6936, 49796, 7048, 100, 37384, 43, 1752, 36655, 17808, 49791, 2215, 52, 204, 219, 466, 47750, 7, 26538, 7, 28660, 335, 15192, 40354, 585, 31, 21, 16354, 67, 37439, 19, 36, 11340, 36221, 147, 48, 4815, 26838, 51, 678, 12801, 19, 5271, 26119, 21, 16354, 10563, 18523, 1069, 2997, 266, 7, 299, 102, 6177, 68, 275, 7152, 199, 713, 49796, 16889, 1793, 10, 19, 48, 31, 654, 26573, 20213, 49792, 21, 16354, 102, 29219, 1221, 5196, 7816, 49795, 19, 66, 4, 4815, 97, 1060, 19377, 19, 98, 48, 440, 2143, 6936, 19, 480, 574, 970, 457, 4815, 6061, 19, 18022, 264, 797, 43240, 12104, 605, 19, 409, 358, 30378, 48, 17343, 31, 4216, 4815, 32591, 1385, 231, 49801, 23535, 357, 32, 43, 9745, 3277]\n",
      "loss\n"
     ]
    },
    {
     "name": "stderr",
     "output_type": "stream",
     "text": [
      "Map: 100%|██████████| 100/100 [00:00<00:00, 5663.23 examples/s]\n"
     ]
    },
    {
     "name": "stdout",
     "output_type": "stream",
     "text": [
      "100\n",
      "[2, 1729, 19, 31, 1640, 4815, 2833, 353, 16027, 965, 19, 5341, 10547, 16221, 4948, 1872, 49795, 382, 31, 16282, 49808, 31133, 912, 97, 417, 29222, 2397, 19, 587, 505, 1044, 40024, 1433, 43, 9724, 320, 4815, 40384, 4280, 26700, 49791, 244, 5036, 97, 31, 4223, 2435, 16221, 49796, 52, 12747, 2316, 3817, 775, 42, 9370, 19, 400, 49808, 3217, 27, 14492, 13390, 7863, 5, 27613, 19, 181, 44884, 346, 19, 36105, 97, 466, 47750, 45355, 19, 279, 7, 734, 284, 19, 602, 13, 7, 4, 7, 40384, 4280, 26700, 49791, 26812, 97, 43, 925, 1355, 16220, 3277, 18250, 168, 3698, 26812, 40384, 1004, 228, 41050, 19, 8183, 1457, 16221, 7815, 43, 1479, 905, 19, 21561, 31339, 17808, 5, 7172, 124, 7, 144, 7, 17990, 1793, 49792, 19]\n",
      "[19, 12003, 82, 146, 21545, 5, 4815, 27037, 19, 96, 82, 3620, 1809, 49098, 11, 27944, 8183, 27, 19, 48, 10532, 22366, 43, 3534, 2112, 3292, 22742, 12141, 480, 59, 6038, 27199, 36, 59, 19141, 19, 67, 409, 29219, 42, 7351, 400, 49808, 170, 574, 12806, 3309, 48, 737, 195, 4893, 7, 299, 33334, 49796, 42737, 63, 19, 44985, 1292, 5549, 2065, 2149, 52, 13564, 41767, 49795, 19, 9632, 75, 258, 51, 49808, 2706, 19, 252, 13686, 3969, 4815, 97, 16027, 965, 19, 67, 21489, 4, 275, 211, 43240, 103, 19, 48, 102, 610, 29219, 42, 533, 481, 23980, 3095, 103, 49795, 7, 3426, 734, 2407, 117, 1030, 3945, 33695, 29647, 10698, 734, 19, 1772, 102, 19, 98, 365, 2112, 66, 527, 49808, 1073, 19, 48, 76, 549]\n",
      "[12756, 147, 9729, 45321, 6936, 49796, 7048, 100, 37384, 43, 1752, 36655, 17808, 49791, 2215, 52, 204, 219, 466, 47750, 7, 26538, 7, 28660, 335, 15192, 40354, 585, 31, 21, 16354, 67, 37439, 19, 36, 11340, 36221, 147, 48, 4815, 26838, 51, 678, 12801, 19, 5271, 26119, 21, 16354, 10563, 18523, 1069, 2997, 266, 7, 299, 102, 6177, 68, 275, 7152, 199, 713, 49796, 16889, 1793, 10, 19, 48, 31, 654, 26573, 20213, 49792, 21, 16354, 102, 29219, 1221, 5196, 7816, 49795, 19, 66, 9010, 4, 97, 1060, 19377, 19, 98, 48, 440, 2143, 6936, 19, 480, 574, 970, 457, 4815, 6061, 19, 18022, 264, 797, 43240, 12104, 605, 19, 409, 358, 30378, 48, 17343, 31, 4216, 4815, 32591, 1385, 231, 49801, 23535, 357, 32, 43, 9745, 3277]\n",
      "loss\n"
     ]
    },
    {
     "name": "stderr",
     "output_type": "stream",
     "text": [
      "Map: 100%|██████████| 100/100 [00:00<00:00, 5625.63 examples/s]\n"
     ]
    },
    {
     "name": "stdout",
     "output_type": "stream",
     "text": [
      "100\n",
      "[2, 1729, 19, 31, 1640, 4815, 2833, 353, 16027, 965, 19, 5341, 10547, 16221, 4948, 1872, 49795, 382, 31, 16282, 49808, 31133, 912, 97, 417, 29222, 2397, 19, 587, 505, 1044, 40024, 1433, 43, 9724, 320, 4815, 40384, 4280, 26700, 49791, 244, 5036, 97, 31, 4223, 2435, 16221, 49796, 52, 12747, 2316, 3817, 775, 42, 9370, 19, 400, 49808, 3217, 27, 14492, 13390, 7863, 5, 27613, 19, 181, 44884, 346, 19, 36105, 97, 466, 47750, 45355, 19, 279, 7, 734, 284, 19, 602, 13, 7, 14, 4, 40384, 4280, 26700, 49791, 26812, 97, 43, 925, 1355, 16220, 3277, 18250, 168, 3698, 26812, 40384, 1004, 228, 41050, 19, 8183, 1457, 16221, 7815, 43, 1479, 905, 19, 21561, 31339, 17808, 5, 7172, 124, 7, 144, 7, 17990, 1793, 49792, 19]\n",
      "[19, 12003, 82, 146, 21545, 5, 4815, 27037, 19, 96, 82, 3620, 1809, 49098, 11, 27944, 8183, 27, 19, 48, 10532, 22366, 43, 3534, 2112, 3292, 22742, 12141, 480, 59, 6038, 27199, 36, 59, 19141, 19, 67, 409, 29219, 42, 7351, 400, 49808, 170, 574, 12806, 3309, 48, 737, 195, 4893, 7, 299, 33334, 49796, 42737, 63, 19, 44985, 1292, 5549, 2065, 2149, 52, 13564, 41767, 49795, 19, 9632, 75, 258, 51, 49808, 2706, 19, 252, 13686, 3969, 4815, 97, 16027, 965, 19, 67, 21489, 76, 4, 4, 4, 4, 19, 48, 102, 610, 29219, 42, 533, 481, 23980, 3095, 103, 49795, 7, 3426, 734, 2407, 117, 1030, 3945, 33695, 29647, 10698, 734, 19, 1772, 102, 19, 98, 365, 2112, 66, 527, 49808, 1073, 19, 48, 76, 549]\n",
      "[12756, 147, 9729, 45321, 6936, 49796, 7048, 100, 37384, 43, 1752, 36655, 17808, 49791, 2215, 52, 204, 219, 466, 47750, 7, 26538, 7, 28660, 335, 15192, 40354, 585, 31, 21, 16354, 67, 37439, 19, 36, 11340, 36221, 147, 48, 4815, 26838, 51, 678, 12801, 19, 5271, 26119, 21, 16354, 10563, 18523, 1069, 2997, 266, 7, 299, 102, 6177, 68, 275, 7152, 199, 713, 49796, 16889, 1793, 10, 19, 48, 31, 654, 26573, 20213, 49792, 21, 16354, 102, 29219, 1221, 5196, 7816, 49795, 19, 66, 9010, 4815, 4, 1060, 19377, 19, 98, 48, 440, 2143, 6936, 19, 480, 574, 970, 457, 4815, 6061, 19, 18022, 264, 797, 43240, 12104, 605, 19, 409, 358, 30378, 48, 17343, 31, 4216, 4815, 32591, 1385, 231, 49801, 23535, 357, 32, 43, 9745, 3277]\n",
      "loss\n"
     ]
    },
    {
     "name": "stderr",
     "output_type": "stream",
     "text": [
      "Map: 100%|██████████| 100/100 [00:00<00:00, 5573.31 examples/s]\n"
     ]
    },
    {
     "name": "stdout",
     "output_type": "stream",
     "text": [
      "100\n",
      "[2, 1729, 19, 31, 1640, 4815, 2833, 353, 16027, 965, 19, 5341, 10547, 16221, 4948, 1872, 49795, 382, 31, 16282, 49808, 31133, 912, 97, 417, 29222, 2397, 19, 587, 505, 1044, 40024, 1433, 43, 9724, 320, 4815, 40384, 4280, 26700, 49791, 244, 5036, 97, 31, 4223, 2435, 16221, 49796, 52, 12747, 2316, 3817, 775, 42, 9370, 19, 400, 49808, 3217, 27, 14492, 13390, 7863, 5, 27613, 19, 181, 44884, 346, 19, 36105, 97, 466, 47750, 45355, 19, 279, 7, 734, 284, 19, 602, 13, 7, 14, 7, 4, 4280, 26700, 49791, 26812, 97, 43, 925, 1355, 16220, 3277, 18250, 168, 3698, 26812, 40384, 1004, 228, 41050, 19, 8183, 1457, 16221, 7815, 43, 1479, 905, 19, 21561, 31339, 17808, 5, 7172, 124, 7, 144, 7, 17990, 1793, 49792, 19]\n",
      "[19, 12003, 82, 146, 21545, 5, 4815, 27037, 19, 96, 82, 3620, 1809, 49098, 11, 27944, 8183, 27, 19, 48, 10532, 22366, 43, 3534, 2112, 3292, 22742, 12141, 480, 59, 6038, 27199, 36, 59, 19141, 19, 67, 409, 29219, 42, 7351, 400, 49808, 170, 574, 12806, 3309, 48, 737, 195, 4893, 7, 299, 33334, 49796, 42737, 63, 19, 44985, 1292, 5549, 2065, 2149, 52, 13564, 41767, 49795, 19, 9632, 75, 258, 51, 49808, 2706, 19, 252, 13686, 3969, 4815, 97, 16027, 965, 19, 67, 21489, 76, 275, 4, 4, 4, 19, 48, 102, 610, 29219, 42, 533, 481, 23980, 3095, 103, 49795, 7, 3426, 734, 2407, 117, 1030, 3945, 33695, 29647, 10698, 734, 19, 1772, 102, 19, 98, 365, 2112, 66, 527, 49808, 1073, 19, 48, 76, 549]\n",
      "[12756, 147, 9729, 45321, 6936, 49796, 7048, 100, 37384, 43, 1752, 36655, 17808, 49791, 2215, 52, 204, 219, 466, 47750, 7, 26538, 7, 28660, 335, 15192, 40354, 585, 31, 21, 16354, 67, 37439, 19, 36, 11340, 36221, 147, 48, 4815, 26838, 51, 678, 12801, 19, 5271, 26119, 21, 16354, 10563, 18523, 1069, 2997, 266, 7, 299, 102, 6177, 68, 275, 7152, 199, 713, 49796, 16889, 1793, 10, 19, 48, 31, 654, 26573, 20213, 49792, 21, 16354, 102, 29219, 1221, 5196, 7816, 49795, 19, 66, 9010, 4815, 97, 4, 4, 19, 98, 48, 440, 2143, 6936, 19, 480, 574, 970, 457, 4815, 6061, 19, 18022, 264, 797, 43240, 12104, 605, 19, 409, 358, 30378, 48, 17343, 31, 4216, 4815, 32591, 1385, 231, 49801, 23535, 357, 32, 43, 9745, 3277]\n",
      "loss\n"
     ]
    },
    {
     "name": "stderr",
     "output_type": "stream",
     "text": [
      "Map: 100%|██████████| 100/100 [00:00<00:00, 5577.90 examples/s]\n"
     ]
    },
    {
     "name": "stdout",
     "output_type": "stream",
     "text": [
      "100\n",
      "[2, 1729, 19, 31, 1640, 4815, 2833, 353, 16027, 965, 19, 5341, 10547, 16221, 4948, 1872, 49795, 382, 31, 16282, 49808, 31133, 912, 97, 417, 29222, 2397, 19, 587, 505, 1044, 40024, 1433, 43, 9724, 320, 4815, 40384, 4280, 26700, 49791, 244, 5036, 97, 31, 4223, 2435, 16221, 49796, 52, 12747, 2316, 3817, 775, 42, 9370, 19, 400, 49808, 3217, 27, 14492, 13390, 7863, 5, 27613, 19, 181, 44884, 346, 19, 36105, 97, 466, 47750, 45355, 19, 279, 7, 734, 284, 19, 602, 13, 7, 14, 7, 40384, 4, 26700, 49791, 26812, 97, 43, 925, 1355, 16220, 3277, 18250, 168, 3698, 26812, 40384, 1004, 228, 41050, 19, 8183, 1457, 16221, 7815, 43, 1479, 905, 19, 21561, 31339, 17808, 5, 7172, 124, 7, 144, 7, 17990, 1793, 49792, 19]\n",
      "[19, 12003, 82, 146, 21545, 5, 4815, 27037, 19, 96, 82, 3620, 1809, 49098, 11, 27944, 8183, 27, 19, 48, 10532, 22366, 43, 3534, 2112, 3292, 22742, 12141, 480, 59, 6038, 27199, 36, 59, 19141, 19, 67, 409, 29219, 42, 7351, 400, 49808, 170, 574, 12806, 3309, 48, 737, 195, 4893, 7, 299, 33334, 49796, 42737, 63, 19, 44985, 1292, 5549, 2065, 2149, 52, 13564, 41767, 49795, 19, 9632, 75, 258, 51, 49808, 2706, 19, 252, 13686, 3969, 4815, 97, 16027, 965, 19, 67, 21489, 76, 275, 211, 4, 4, 19, 48, 102, 610, 29219, 42, 533, 481, 23980, 3095, 103, 49795, 7, 3426, 734, 2407, 117, 1030, 3945, 33695, 29647, 10698, 734, 19, 1772, 102, 19, 98, 365, 2112, 66, 527, 49808, 1073, 19, 48, 76, 549]\n",
      "[12756, 147, 9729, 45321, 6936, 49796, 7048, 100, 37384, 43, 1752, 36655, 17808, 49791, 2215, 52, 204, 219, 466, 47750, 7, 26538, 7, 28660, 335, 15192, 40354, 585, 31, 21, 16354, 67, 37439, 19, 36, 11340, 36221, 147, 48, 4815, 26838, 51, 678, 12801, 19, 5271, 26119, 21, 16354, 10563, 18523, 1069, 2997, 266, 7, 299, 102, 6177, 68, 275, 7152, 199, 713, 49796, 16889, 1793, 10, 19, 48, 31, 654, 26573, 20213, 49792, 21, 16354, 102, 29219, 1221, 5196, 7816, 49795, 19, 66, 9010, 4815, 97, 1060, 4, 19, 98, 48, 440, 2143, 6936, 19, 480, 574, 970, 457, 4815, 6061, 19, 18022, 264, 797, 43240, 12104, 605, 19, 409, 358, 30378, 48, 17343, 31, 4216, 4815, 32591, 1385, 231, 49801, 23535, 357, 32, 43, 9745, 3277]\n",
      "loss\n"
     ]
    },
    {
     "name": "stderr",
     "output_type": "stream",
     "text": [
      "Map: 100%|██████████| 100/100 [00:00<00:00, 5541.94 examples/s]\n"
     ]
    },
    {
     "name": "stdout",
     "output_type": "stream",
     "text": [
      "100\n",
      "[2, 1729, 19, 31, 1640, 4815, 2833, 353, 16027, 965, 19, 5341, 10547, 16221, 4948, 1872, 49795, 382, 31, 16282, 49808, 31133, 912, 97, 417, 29222, 2397, 19, 587, 505, 1044, 40024, 1433, 43, 9724, 320, 4815, 40384, 4280, 26700, 49791, 244, 5036, 97, 31, 4223, 2435, 16221, 49796, 52, 12747, 2316, 3817, 775, 42, 9370, 19, 400, 49808, 3217, 27, 14492, 13390, 7863, 5, 27613, 19, 181, 44884, 346, 19, 36105, 97, 466, 47750, 45355, 19, 279, 7, 734, 284, 19, 602, 13, 7, 14, 7, 40384, 4280, 4, 4, 26812, 97, 43, 925, 1355, 16220, 3277, 18250, 168, 3698, 26812, 40384, 1004, 228, 41050, 19, 8183, 1457, 16221, 7815, 43, 1479, 905, 19, 21561, 31339, 17808, 5, 7172, 124, 7, 144, 7, 17990, 1793, 49792, 19]\n",
      "[19, 12003, 82, 146, 21545, 5, 4815, 27037, 19, 96, 82, 3620, 1809, 49098, 11, 27944, 8183, 27, 19, 48, 10532, 22366, 43, 3534, 2112, 3292, 22742, 12141, 480, 59, 6038, 27199, 36, 59, 19141, 19, 67, 409, 29219, 42, 7351, 400, 49808, 170, 574, 12806, 3309, 48, 737, 195, 4893, 7, 299, 33334, 49796, 42737, 63, 19, 44985, 1292, 5549, 2065, 2149, 52, 13564, 41767, 49795, 19, 9632, 75, 258, 51, 49808, 2706, 19, 252, 13686, 3969, 4815, 97, 16027, 965, 19, 67, 21489, 76, 275, 211, 43240, 4, 19, 48, 102, 610, 29219, 42, 533, 481, 23980, 3095, 103, 49795, 7, 3426, 734, 2407, 117, 1030, 3945, 33695, 29647, 10698, 734, 19, 1772, 102, 19, 98, 365, 2112, 66, 527, 49808, 1073, 19, 48, 76, 549]\n",
      "[12756, 147, 9729, 45321, 6936, 49796, 7048, 100, 37384, 43, 1752, 36655, 17808, 49791, 2215, 52, 204, 219, 466, 47750, 7, 26538, 7, 28660, 335, 15192, 40354, 585, 31, 21, 16354, 67, 37439, 19, 36, 11340, 36221, 147, 48, 4815, 26838, 51, 678, 12801, 19, 5271, 26119, 21, 16354, 10563, 18523, 1069, 2997, 266, 7, 299, 102, 6177, 68, 275, 7152, 199, 713, 49796, 16889, 1793, 10, 19, 48, 31, 654, 26573, 20213, 49792, 21, 16354, 102, 29219, 1221, 5196, 7816, 49795, 19, 66, 9010, 4815, 97, 1060, 19377, 4, 98, 48, 440, 2143, 6936, 19, 480, 574, 970, 457, 4815, 6061, 19, 18022, 264, 797, 43240, 12104, 605, 19, 409, 358, 30378, 48, 17343, 31, 4216, 4815, 32591, 1385, 231, 49801, 23535, 357, 32, 43, 9745, 3277]\n",
      "loss\n"
     ]
    },
    {
     "name": "stderr",
     "output_type": "stream",
     "text": [
      "Map: 100%|██████████| 100/100 [00:00<00:00, 5691.36 examples/s]\n"
     ]
    },
    {
     "name": "stdout",
     "output_type": "stream",
     "text": [
      "100\n",
      "[2, 1729, 19, 31, 1640, 4815, 2833, 353, 16027, 965, 19, 5341, 10547, 16221, 4948, 1872, 49795, 382, 31, 16282, 49808, 31133, 912, 97, 417, 29222, 2397, 19, 587, 505, 1044, 40024, 1433, 43, 9724, 320, 4815, 40384, 4280, 26700, 49791, 244, 5036, 97, 31, 4223, 2435, 16221, 49796, 52, 12747, 2316, 3817, 775, 42, 9370, 19, 400, 49808, 3217, 27, 14492, 13390, 7863, 5, 27613, 19, 181, 44884, 346, 19, 36105, 97, 466, 47750, 45355, 19, 279, 7, 734, 284, 19, 602, 13, 7, 14, 7, 40384, 4280, 26700, 4, 26812, 97, 43, 925, 1355, 16220, 3277, 18250, 168, 3698, 26812, 40384, 1004, 228, 41050, 19, 8183, 1457, 16221, 7815, 43, 1479, 905, 19, 21561, 31339, 17808, 5, 7172, 124, 7, 144, 7, 17990, 1793, 49792, 19]\n",
      "[19, 12003, 82, 146, 21545, 5, 4815, 27037, 19, 96, 82, 3620, 1809, 49098, 11, 27944, 8183, 27, 19, 48, 10532, 22366, 43, 3534, 2112, 3292, 22742, 12141, 480, 59, 6038, 27199, 36, 59, 19141, 19, 67, 409, 29219, 42, 7351, 400, 49808, 170, 574, 12806, 3309, 48, 737, 195, 4893, 7, 299, 33334, 49796, 42737, 63, 19, 44985, 1292, 5549, 2065, 2149, 52, 13564, 41767, 49795, 19, 9632, 75, 258, 51, 49808, 2706, 19, 252, 13686, 3969, 4815, 97, 16027, 965, 19, 67, 21489, 76, 275, 211, 43240, 103, 4, 48, 102, 610, 29219, 42, 533, 481, 23980, 3095, 103, 49795, 7, 3426, 734, 2407, 117, 1030, 3945, 33695, 29647, 10698, 734, 19, 1772, 102, 19, 98, 365, 2112, 66, 527, 49808, 1073, 19, 48, 76, 549]\n",
      "[12756, 147, 9729, 45321, 6936, 49796, 7048, 100, 37384, 43, 1752, 36655, 17808, 49791, 2215, 52, 204, 219, 466, 47750, 7, 26538, 7, 28660, 335, 15192, 40354, 585, 31, 21, 16354, 67, 37439, 19, 36, 11340, 36221, 147, 48, 4815, 26838, 51, 678, 12801, 19, 5271, 26119, 21, 16354, 10563, 18523, 1069, 2997, 266, 7, 299, 102, 6177, 68, 275, 7152, 199, 713, 49796, 16889, 1793, 10, 19, 48, 31, 654, 26573, 20213, 49792, 21, 16354, 102, 29219, 1221, 5196, 7816, 49795, 19, 66, 9010, 4815, 97, 1060, 19377, 19, 4, 48, 440, 2143, 6936, 19, 480, 574, 970, 457, 4815, 6061, 19, 18022, 264, 797, 43240, 12104, 605, 19, 409, 358, 30378, 48, 17343, 31, 4216, 4815, 32591, 1385, 231, 49801, 23535, 357, 32, 43, 9745, 3277]\n",
      "loss\n"
     ]
    },
    {
     "name": "stderr",
     "output_type": "stream",
     "text": [
      "Map: 100%|██████████| 100/100 [00:00<00:00, 5649.88 examples/s]\n"
     ]
    },
    {
     "name": "stdout",
     "output_type": "stream",
     "text": [
      "100\n",
      "[2, 1729, 19, 31, 1640, 4815, 2833, 353, 16027, 965, 19, 5341, 10547, 16221, 4948, 1872, 49795, 382, 31, 16282, 49808, 31133, 912, 97, 417, 29222, 2397, 19, 587, 505, 1044, 40024, 1433, 43, 9724, 320, 4815, 40384, 4280, 26700, 49791, 244, 5036, 97, 31, 4223, 2435, 16221, 49796, 52, 12747, 2316, 3817, 775, 42, 9370, 19, 400, 49808, 3217, 27, 14492, 13390, 7863, 5, 27613, 19, 181, 44884, 346, 19, 36105, 97, 466, 47750, 45355, 19, 279, 7, 734, 284, 19, 602, 13, 7, 14, 7, 40384, 4280, 26700, 49791, 4, 97, 43, 925, 1355, 16220, 3277, 18250, 168, 3698, 26812, 40384, 1004, 228, 41050, 19, 8183, 1457, 16221, 7815, 43, 1479, 905, 19, 21561, 31339, 17808, 5, 7172, 124, 7, 144, 7, 17990, 1793, 49792, 19]\n",
      "[19, 12003, 82, 146, 21545, 5, 4815, 27037, 19, 96, 82, 3620, 1809, 49098, 11, 27944, 8183, 27, 19, 48, 10532, 22366, 43, 3534, 2112, 3292, 22742, 12141, 480, 59, 6038, 27199, 36, 59, 19141, 19, 67, 409, 29219, 42, 7351, 400, 49808, 170, 574, 12806, 3309, 48, 737, 195, 4893, 7, 299, 33334, 49796, 42737, 63, 19, 44985, 1292, 5549, 2065, 2149, 52, 13564, 41767, 49795, 19, 9632, 75, 258, 51, 49808, 2706, 19, 252, 13686, 3969, 4815, 97, 16027, 965, 19, 67, 21489, 76, 275, 211, 43240, 103, 19, 4, 102, 610, 29219, 42, 533, 481, 23980, 3095, 103, 49795, 7, 3426, 734, 2407, 117, 1030, 3945, 33695, 29647, 10698, 734, 19, 1772, 102, 19, 98, 365, 2112, 66, 527, 49808, 1073, 19, 48, 76, 549]\n",
      "[12756, 147, 9729, 45321, 6936, 49796, 7048, 100, 37384, 43, 1752, 36655, 17808, 49791, 2215, 52, 204, 219, 466, 47750, 7, 26538, 7, 28660, 335, 15192, 40354, 585, 31, 21, 16354, 67, 37439, 19, 36, 11340, 36221, 147, 48, 4815, 26838, 51, 678, 12801, 19, 5271, 26119, 21, 16354, 10563, 18523, 1069, 2997, 266, 7, 299, 102, 6177, 68, 275, 7152, 199, 713, 49796, 16889, 1793, 10, 19, 48, 31, 654, 26573, 20213, 49792, 21, 16354, 102, 29219, 1221, 5196, 7816, 49795, 19, 66, 9010, 4815, 97, 1060, 19377, 19, 98, 4, 440, 2143, 6936, 19, 480, 574, 970, 457, 4815, 6061, 19, 18022, 264, 797, 43240, 12104, 605, 19, 409, 358, 30378, 48, 17343, 31, 4216, 4815, 32591, 1385, 231, 49801, 23535, 357, 32, 43, 9745, 3277]\n",
      "loss\n"
     ]
    },
    {
     "name": "stderr",
     "output_type": "stream",
     "text": [
      "Map: 100%|██████████| 100/100 [00:00<00:00, 5459.13 examples/s]\n"
     ]
    },
    {
     "name": "stdout",
     "output_type": "stream",
     "text": [
      "100\n",
      "[2, 1729, 19, 31, 1640, 4815, 2833, 353, 16027, 965, 19, 5341, 10547, 16221, 4948, 1872, 49795, 382, 31, 16282, 49808, 31133, 912, 97, 417, 29222, 2397, 19, 587, 505, 1044, 40024, 1433, 43, 9724, 320, 4815, 40384, 4280, 26700, 49791, 244, 5036, 97, 31, 4223, 2435, 16221, 49796, 52, 12747, 2316, 3817, 775, 42, 9370, 19, 400, 49808, 3217, 27, 14492, 13390, 7863, 5, 27613, 19, 181, 44884, 346, 19, 36105, 97, 466, 47750, 45355, 19, 279, 7, 734, 284, 19, 602, 13, 7, 14, 7, 40384, 4280, 26700, 49791, 26812, 4, 43, 925, 1355, 16220, 3277, 18250, 168, 3698, 26812, 40384, 1004, 228, 41050, 19, 8183, 1457, 16221, 7815, 43, 1479, 905, 19, 21561, 31339, 17808, 5, 7172, 124, 7, 144, 7, 17990, 1793, 49792, 19]\n",
      "[19, 12003, 82, 146, 21545, 5, 4815, 27037, 19, 96, 82, 3620, 1809, 49098, 11, 27944, 8183, 27, 19, 48, 10532, 22366, 43, 3534, 2112, 3292, 22742, 12141, 480, 59, 6038, 27199, 36, 59, 19141, 19, 67, 409, 29219, 42, 7351, 400, 49808, 170, 574, 12806, 3309, 48, 737, 195, 4893, 7, 299, 33334, 49796, 42737, 63, 19, 44985, 1292, 5549, 2065, 2149, 52, 13564, 41767, 49795, 19, 9632, 75, 258, 51, 49808, 2706, 19, 252, 13686, 3969, 4815, 97, 16027, 965, 19, 67, 21489, 76, 275, 211, 43240, 103, 19, 48, 4, 610, 29219, 42, 533, 481, 23980, 3095, 103, 49795, 7, 3426, 734, 2407, 117, 1030, 3945, 33695, 29647, 10698, 734, 19, 1772, 102, 19, 98, 365, 2112, 66, 527, 49808, 1073, 19, 48, 76, 549]\n",
      "[12756, 147, 9729, 45321, 6936, 49796, 7048, 100, 37384, 43, 1752, 36655, 17808, 49791, 2215, 52, 204, 219, 466, 47750, 7, 26538, 7, 28660, 335, 15192, 40354, 585, 31, 21, 16354, 67, 37439, 19, 36, 11340, 36221, 147, 48, 4815, 26838, 51, 678, 12801, 19, 5271, 26119, 21, 16354, 10563, 18523, 1069, 2997, 266, 7, 299, 102, 6177, 68, 275, 7152, 199, 713, 49796, 16889, 1793, 10, 19, 48, 31, 654, 26573, 20213, 49792, 21, 16354, 102, 29219, 1221, 5196, 7816, 49795, 19, 66, 9010, 4815, 97, 1060, 19377, 19, 98, 48, 4, 2143, 6936, 19, 480, 574, 970, 457, 4815, 6061, 19, 18022, 264, 797, 43240, 12104, 605, 19, 409, 358, 30378, 48, 17343, 31, 4216, 4815, 32591, 1385, 231, 49801, 23535, 357, 32, 43, 9745, 3277]\n",
      "loss\n"
     ]
    },
    {
     "name": "stderr",
     "output_type": "stream",
     "text": [
      "Map: 100%|██████████| 100/100 [00:00<00:00, 5668.74 examples/s]\n"
     ]
    },
    {
     "name": "stdout",
     "output_type": "stream",
     "text": [
      "100\n",
      "[2, 1729, 19, 31, 1640, 4815, 2833, 353, 16027, 965, 19, 5341, 10547, 16221, 4948, 1872, 49795, 382, 31, 16282, 49808, 31133, 912, 97, 417, 29222, 2397, 19, 587, 505, 1044, 40024, 1433, 43, 9724, 320, 4815, 40384, 4280, 26700, 49791, 244, 5036, 97, 31, 4223, 2435, 16221, 49796, 52, 12747, 2316, 3817, 775, 42, 9370, 19, 400, 49808, 3217, 27, 14492, 13390, 7863, 5, 27613, 19, 181, 44884, 346, 19, 36105, 97, 466, 47750, 45355, 19, 279, 7, 734, 284, 19, 602, 13, 7, 14, 7, 40384, 4280, 26700, 49791, 26812, 97, 4, 925, 1355, 16220, 3277, 18250, 168, 3698, 26812, 40384, 1004, 228, 41050, 19, 8183, 1457, 16221, 7815, 43, 1479, 905, 19, 21561, 31339, 17808, 5, 7172, 124, 7, 144, 7, 17990, 1793, 49792, 19]\n",
      "[19, 12003, 82, 146, 21545, 5, 4815, 27037, 19, 96, 82, 3620, 1809, 49098, 11, 27944, 8183, 27, 19, 48, 10532, 22366, 43, 3534, 2112, 3292, 22742, 12141, 480, 59, 6038, 27199, 36, 59, 19141, 19, 67, 409, 29219, 42, 7351, 400, 49808, 170, 574, 12806, 3309, 48, 737, 195, 4893, 7, 299, 33334, 49796, 42737, 63, 19, 44985, 1292, 5549, 2065, 2149, 52, 13564, 41767, 49795, 19, 9632, 75, 258, 51, 49808, 2706, 19, 252, 13686, 3969, 4815, 97, 16027, 965, 19, 67, 21489, 76, 275, 211, 43240, 103, 19, 48, 102, 4, 29219, 42, 533, 481, 23980, 3095, 103, 49795, 7, 3426, 734, 2407, 117, 1030, 3945, 33695, 29647, 10698, 734, 19, 1772, 102, 19, 98, 365, 2112, 66, 527, 49808, 1073, 19, 48, 76, 549]\n",
      "[12756, 147, 9729, 45321, 6936, 49796, 7048, 100, 37384, 43, 1752, 36655, 17808, 49791, 2215, 52, 204, 219, 466, 47750, 7, 26538, 7, 28660, 335, 15192, 40354, 585, 31, 21, 16354, 67, 37439, 19, 36, 11340, 36221, 147, 48, 4815, 26838, 51, 678, 12801, 19, 5271, 26119, 21, 16354, 10563, 18523, 1069, 2997, 266, 7, 299, 102, 6177, 68, 275, 7152, 199, 713, 49796, 16889, 1793, 10, 19, 48, 31, 654, 26573, 20213, 49792, 21, 16354, 102, 29219, 1221, 5196, 7816, 49795, 19, 66, 9010, 4815, 97, 1060, 19377, 19, 98, 48, 440, 4, 6936, 19, 480, 574, 970, 457, 4815, 6061, 19, 18022, 264, 797, 43240, 12104, 605, 19, 409, 358, 30378, 48, 17343, 31, 4216, 4815, 32591, 1385, 231, 49801, 23535, 357, 32, 43, 9745, 3277]\n",
      "loss\n"
     ]
    },
    {
     "name": "stderr",
     "output_type": "stream",
     "text": [
      "Map: 100%|██████████| 100/100 [00:00<00:00, 5724.14 examples/s]\n"
     ]
    },
    {
     "name": "stdout",
     "output_type": "stream",
     "text": [
      "100\n",
      "[2, 1729, 19, 31, 1640, 4815, 2833, 353, 16027, 965, 19, 5341, 10547, 16221, 4948, 1872, 49795, 382, 31, 16282, 49808, 31133, 912, 97, 417, 29222, 2397, 19, 587, 505, 1044, 40024, 1433, 43, 9724, 320, 4815, 40384, 4280, 26700, 49791, 244, 5036, 97, 31, 4223, 2435, 16221, 49796, 52, 12747, 2316, 3817, 775, 42, 9370, 19, 400, 49808, 3217, 27, 14492, 13390, 7863, 5, 27613, 19, 181, 44884, 346, 19, 36105, 97, 466, 47750, 45355, 19, 279, 7, 734, 284, 19, 602, 13, 7, 14, 7, 40384, 4280, 26700, 49791, 26812, 97, 43, 4, 1355, 16220, 3277, 18250, 168, 3698, 26812, 40384, 1004, 228, 41050, 19, 8183, 1457, 16221, 7815, 43, 1479, 905, 19, 21561, 31339, 17808, 5, 7172, 124, 7, 144, 7, 17990, 1793, 49792, 19]\n",
      "[19, 12003, 82, 146, 21545, 5, 4815, 27037, 19, 96, 82, 3620, 1809, 49098, 11, 27944, 8183, 27, 19, 48, 10532, 22366, 43, 3534, 2112, 3292, 22742, 12141, 480, 59, 6038, 27199, 36, 59, 19141, 19, 67, 409, 29219, 42, 7351, 400, 49808, 170, 574, 12806, 3309, 48, 737, 195, 4893, 7, 299, 33334, 49796, 42737, 63, 19, 44985, 1292, 5549, 2065, 2149, 52, 13564, 41767, 49795, 19, 9632, 75, 258, 51, 49808, 2706, 19, 252, 13686, 3969, 4815, 97, 16027, 965, 19, 67, 21489, 76, 275, 211, 43240, 103, 19, 48, 102, 610, 4, 4, 533, 481, 23980, 3095, 103, 49795, 7, 3426, 734, 2407, 117, 1030, 3945, 33695, 29647, 10698, 734, 19, 1772, 102, 19, 98, 365, 2112, 66, 527, 49808, 1073, 19, 48, 76, 549]\n",
      "[12756, 147, 9729, 45321, 6936, 49796, 7048, 100, 37384, 43, 1752, 36655, 17808, 49791, 2215, 52, 204, 219, 466, 47750, 7, 26538, 7, 28660, 335, 15192, 40354, 585, 31, 21, 16354, 67, 37439, 19, 36, 11340, 36221, 147, 48, 4815, 26838, 51, 678, 12801, 19, 5271, 26119, 21, 16354, 10563, 18523, 1069, 2997, 266, 7, 299, 102, 6177, 68, 275, 7152, 199, 713, 49796, 16889, 1793, 10, 19, 48, 31, 654, 26573, 20213, 49792, 21, 16354, 102, 29219, 1221, 5196, 7816, 49795, 19, 66, 9010, 4815, 97, 1060, 19377, 19, 98, 48, 440, 2143, 4, 19, 480, 574, 970, 457, 4815, 6061, 19, 18022, 264, 797, 43240, 12104, 605, 19, 409, 358, 30378, 48, 17343, 31, 4216, 4815, 32591, 1385, 231, 49801, 23535, 357, 32, 43, 9745, 3277]\n",
      "loss\n"
     ]
    },
    {
     "name": "stderr",
     "output_type": "stream",
     "text": [
      "Map: 100%|██████████| 100/100 [00:00<00:00, 5659.26 examples/s]\n"
     ]
    },
    {
     "name": "stdout",
     "output_type": "stream",
     "text": [
      "100\n",
      "[2, 1729, 19, 31, 1640, 4815, 2833, 353, 16027, 965, 19, 5341, 10547, 16221, 4948, 1872, 49795, 382, 31, 16282, 49808, 31133, 912, 97, 417, 29222, 2397, 19, 587, 505, 1044, 40024, 1433, 43, 9724, 320, 4815, 40384, 4280, 26700, 49791, 244, 5036, 97, 31, 4223, 2435, 16221, 49796, 52, 12747, 2316, 3817, 775, 42, 9370, 19, 400, 49808, 3217, 27, 14492, 13390, 7863, 5, 27613, 19, 181, 44884, 346, 19, 36105, 97, 466, 47750, 45355, 19, 279, 7, 734, 284, 19, 602, 13, 7, 14, 7, 40384, 4280, 26700, 49791, 26812, 97, 43, 925, 4, 4, 3277, 18250, 168, 3698, 26812, 40384, 1004, 228, 41050, 19, 8183, 1457, 16221, 7815, 43, 1479, 905, 19, 21561, 31339, 17808, 5, 7172, 124, 7, 144, 7, 17990, 1793, 49792, 19]\n",
      "[19, 12003, 82, 146, 21545, 5, 4815, 27037, 19, 96, 82, 3620, 1809, 49098, 11, 27944, 8183, 27, 19, 48, 10532, 22366, 43, 3534, 2112, 3292, 22742, 12141, 480, 59, 6038, 27199, 36, 59, 19141, 19, 67, 409, 29219, 42, 7351, 400, 49808, 170, 574, 12806, 3309, 48, 737, 195, 4893, 7, 299, 33334, 49796, 42737, 63, 19, 44985, 1292, 5549, 2065, 2149, 52, 13564, 41767, 49795, 19, 9632, 75, 258, 51, 49808, 2706, 19, 252, 13686, 3969, 4815, 97, 16027, 965, 19, 67, 21489, 76, 275, 211, 43240, 103, 19, 48, 102, 610, 29219, 4, 533, 481, 23980, 3095, 103, 49795, 7, 3426, 734, 2407, 117, 1030, 3945, 33695, 29647, 10698, 734, 19, 1772, 102, 19, 98, 365, 2112, 66, 527, 49808, 1073, 19, 48, 76, 549]\n",
      "[12756, 147, 9729, 45321, 6936, 49796, 7048, 100, 37384, 43, 1752, 36655, 17808, 49791, 2215, 52, 204, 219, 466, 47750, 7, 26538, 7, 28660, 335, 15192, 40354, 585, 31, 21, 16354, 67, 37439, 19, 36, 11340, 36221, 147, 48, 4815, 26838, 51, 678, 12801, 19, 5271, 26119, 21, 16354, 10563, 18523, 1069, 2997, 266, 7, 299, 102, 6177, 68, 275, 7152, 199, 713, 49796, 16889, 1793, 10, 19, 48, 31, 654, 26573, 20213, 49792, 21, 16354, 102, 29219, 1221, 5196, 7816, 49795, 19, 66, 9010, 4815, 97, 1060, 19377, 19, 98, 48, 440, 2143, 6936, 4, 480, 574, 970, 457, 4815, 6061, 19, 18022, 264, 797, 43240, 12104, 605, 19, 409, 358, 30378, 48, 17343, 31, 4216, 4815, 32591, 1385, 231, 49801, 23535, 357, 32, 43, 9745, 3277]\n",
      "loss\n"
     ]
    },
    {
     "name": "stderr",
     "output_type": "stream",
     "text": [
      "Map: 100%|██████████| 100/100 [00:00<00:00, 5609.38 examples/s]\n"
     ]
    },
    {
     "name": "stdout",
     "output_type": "stream",
     "text": [
      "100\n",
      "[2, 1729, 19, 31, 1640, 4815, 2833, 353, 16027, 965, 19, 5341, 10547, 16221, 4948, 1872, 49795, 382, 31, 16282, 49808, 31133, 912, 97, 417, 29222, 2397, 19, 587, 505, 1044, 40024, 1433, 43, 9724, 320, 4815, 40384, 4280, 26700, 49791, 244, 5036, 97, 31, 4223, 2435, 16221, 49796, 52, 12747, 2316, 3817, 775, 42, 9370, 19, 400, 49808, 3217, 27, 14492, 13390, 7863, 5, 27613, 19, 181, 44884, 346, 19, 36105, 97, 466, 47750, 45355, 19, 279, 7, 734, 284, 19, 602, 13, 7, 14, 7, 40384, 4280, 26700, 49791, 26812, 97, 43, 925, 1355, 4, 3277, 18250, 168, 3698, 26812, 40384, 1004, 228, 41050, 19, 8183, 1457, 16221, 7815, 43, 1479, 905, 19, 21561, 31339, 17808, 5, 7172, 124, 7, 144, 7, 17990, 1793, 49792, 19]\n",
      "[19, 12003, 82, 146, 21545, 5, 4815, 27037, 19, 96, 82, 3620, 1809, 49098, 11, 27944, 8183, 27, 19, 48, 10532, 22366, 43, 3534, 2112, 3292, 22742, 12141, 480, 59, 6038, 27199, 36, 59, 19141, 19, 67, 409, 29219, 42, 7351, 400, 49808, 170, 574, 12806, 3309, 48, 737, 195, 4893, 7, 299, 33334, 49796, 42737, 63, 19, 44985, 1292, 5549, 2065, 2149, 52, 13564, 41767, 49795, 19, 9632, 75, 258, 51, 49808, 2706, 19, 252, 13686, 3969, 4815, 97, 16027, 965, 19, 67, 21489, 76, 275, 211, 43240, 103, 19, 48, 102, 610, 29219, 42, 4, 481, 23980, 3095, 103, 49795, 7, 3426, 734, 2407, 117, 1030, 3945, 33695, 29647, 10698, 734, 19, 1772, 102, 19, 98, 365, 2112, 66, 527, 49808, 1073, 19, 48, 76, 549]\n",
      "[12756, 147, 9729, 45321, 6936, 49796, 7048, 100, 37384, 43, 1752, 36655, 17808, 49791, 2215, 52, 204, 219, 466, 47750, 7, 26538, 7, 28660, 335, 15192, 40354, 585, 31, 21, 16354, 67, 37439, 19, 36, 11340, 36221, 147, 48, 4815, 26838, 51, 678, 12801, 19, 5271, 26119, 21, 16354, 10563, 18523, 1069, 2997, 266, 7, 299, 102, 6177, 68, 275, 7152, 199, 713, 49796, 16889, 1793, 10, 19, 48, 31, 654, 26573, 20213, 49792, 21, 16354, 102, 29219, 1221, 5196, 7816, 49795, 19, 66, 9010, 4815, 97, 1060, 19377, 19, 98, 48, 440, 2143, 6936, 19, 4, 574, 970, 457, 4815, 6061, 19, 18022, 264, 797, 43240, 12104, 605, 19, 409, 358, 30378, 48, 17343, 31, 4216, 4815, 32591, 1385, 231, 49801, 23535, 357, 32, 43, 9745, 3277]\n",
      "loss\n"
     ]
    },
    {
     "name": "stderr",
     "output_type": "stream",
     "text": [
      "Map: 100%|██████████| 100/100 [00:00<00:00, 5660.63 examples/s]\n"
     ]
    },
    {
     "name": "stdout",
     "output_type": "stream",
     "text": [
      "100\n",
      "[2, 1729, 19, 31, 1640, 4815, 2833, 353, 16027, 965, 19, 5341, 10547, 16221, 4948, 1872, 49795, 382, 31, 16282, 49808, 31133, 912, 97, 417, 29222, 2397, 19, 587, 505, 1044, 40024, 1433, 43, 9724, 320, 4815, 40384, 4280, 26700, 49791, 244, 5036, 97, 31, 4223, 2435, 16221, 49796, 52, 12747, 2316, 3817, 775, 42, 9370, 19, 400, 49808, 3217, 27, 14492, 13390, 7863, 5, 27613, 19, 181, 44884, 346, 19, 36105, 97, 466, 47750, 45355, 19, 279, 7, 734, 284, 19, 602, 13, 7, 14, 7, 40384, 4280, 26700, 49791, 26812, 97, 43, 925, 1355, 16220, 4, 4, 4, 3698, 26812, 40384, 1004, 228, 41050, 19, 8183, 1457, 16221, 7815, 43, 1479, 905, 19, 21561, 31339, 17808, 5, 7172, 124, 7, 144, 7, 17990, 1793, 49792, 19]\n",
      "[19, 12003, 82, 146, 21545, 5, 4815, 27037, 19, 96, 82, 3620, 1809, 49098, 11, 27944, 8183, 27, 19, 48, 10532, 22366, 43, 3534, 2112, 3292, 22742, 12141, 480, 59, 6038, 27199, 36, 59, 19141, 19, 67, 409, 29219, 42, 7351, 400, 49808, 170, 574, 12806, 3309, 48, 737, 195, 4893, 7, 299, 33334, 49796, 42737, 63, 19, 44985, 1292, 5549, 2065, 2149, 52, 13564, 41767, 49795, 19, 9632, 75, 258, 51, 49808, 2706, 19, 252, 13686, 3969, 4815, 97, 16027, 965, 19, 67, 21489, 76, 275, 211, 43240, 103, 19, 48, 102, 610, 29219, 42, 533, 4, 23980, 3095, 103, 49795, 7, 3426, 734, 2407, 117, 1030, 3945, 33695, 29647, 10698, 734, 19, 1772, 102, 19, 98, 365, 2112, 66, 527, 49808, 1073, 19, 48, 76, 549]\n",
      "[12756, 147, 9729, 45321, 6936, 49796, 7048, 100, 37384, 43, 1752, 36655, 17808, 49791, 2215, 52, 204, 219, 466, 47750, 7, 26538, 7, 28660, 335, 15192, 40354, 585, 31, 21, 16354, 67, 37439, 19, 36, 11340, 36221, 147, 48, 4815, 26838, 51, 678, 12801, 19, 5271, 26119, 21, 16354, 10563, 18523, 1069, 2997, 266, 7, 299, 102, 6177, 68, 275, 7152, 199, 713, 49796, 16889, 1793, 10, 19, 48, 31, 654, 26573, 20213, 49792, 21, 16354, 102, 29219, 1221, 5196, 7816, 49795, 19, 66, 9010, 4815, 97, 1060, 19377, 19, 98, 48, 440, 2143, 6936, 19, 480, 4, 4, 4, 4815, 6061, 19, 18022, 264, 797, 43240, 12104, 605, 19, 409, 358, 30378, 48, 17343, 31, 4216, 4815, 32591, 1385, 231, 49801, 23535, 357, 32, 43, 9745, 3277]\n",
      "loss\n"
     ]
    },
    {
     "name": "stderr",
     "output_type": "stream",
     "text": [
      "Map: 100%|██████████| 100/100 [00:00<00:00, 5661.02 examples/s]\n"
     ]
    },
    {
     "name": "stdout",
     "output_type": "stream",
     "text": [
      "100\n",
      "[2, 1729, 19, 31, 1640, 4815, 2833, 353, 16027, 965, 19, 5341, 10547, 16221, 4948, 1872, 49795, 382, 31, 16282, 49808, 31133, 912, 97, 417, 29222, 2397, 19, 587, 505, 1044, 40024, 1433, 43, 9724, 320, 4815, 40384, 4280, 26700, 49791, 244, 5036, 97, 31, 4223, 2435, 16221, 49796, 52, 12747, 2316, 3817, 775, 42, 9370, 19, 400, 49808, 3217, 27, 14492, 13390, 7863, 5, 27613, 19, 181, 44884, 346, 19, 36105, 97, 466, 47750, 45355, 19, 279, 7, 734, 284, 19, 602, 13, 7, 14, 7, 40384, 4280, 26700, 49791, 26812, 97, 43, 925, 1355, 16220, 3277, 4, 4, 3698, 26812, 40384, 1004, 228, 41050, 19, 8183, 1457, 16221, 7815, 43, 1479, 905, 19, 21561, 31339, 17808, 5, 7172, 124, 7, 144, 7, 17990, 1793, 49792, 19]\n",
      "[19, 12003, 82, 146, 21545, 5, 4815, 27037, 19, 96, 82, 3620, 1809, 49098, 11, 27944, 8183, 27, 19, 48, 10532, 22366, 43, 3534, 2112, 3292, 22742, 12141, 480, 59, 6038, 27199, 36, 59, 19141, 19, 67, 409, 29219, 42, 7351, 400, 49808, 170, 574, 12806, 3309, 48, 737, 195, 4893, 7, 299, 33334, 49796, 42737, 63, 19, 44985, 1292, 5549, 2065, 2149, 52, 13564, 41767, 49795, 19, 9632, 75, 258, 51, 49808, 2706, 19, 252, 13686, 3969, 4815, 97, 16027, 965, 19, 67, 21489, 76, 275, 211, 43240, 103, 19, 48, 102, 610, 29219, 42, 533, 481, 4, 4, 4, 4, 7, 3426, 734, 2407, 117, 1030, 3945, 33695, 29647, 10698, 734, 19, 1772, 102, 19, 98, 365, 2112, 66, 527, 49808, 1073, 19, 48, 76, 549]\n",
      "[12756, 147, 9729, 45321, 6936, 49796, 7048, 100, 37384, 43, 1752, 36655, 17808, 49791, 2215, 52, 204, 219, 466, 47750, 7, 26538, 7, 28660, 335, 15192, 40354, 585, 31, 21, 16354, 67, 37439, 19, 36, 11340, 36221, 147, 48, 4815, 26838, 51, 678, 12801, 19, 5271, 26119, 21, 16354, 10563, 18523, 1069, 2997, 266, 7, 299, 102, 6177, 68, 275, 7152, 199, 713, 49796, 16889, 1793, 10, 19, 48, 31, 654, 26573, 20213, 49792, 21, 16354, 102, 29219, 1221, 5196, 7816, 49795, 19, 66, 9010, 4815, 97, 1060, 19377, 19, 98, 48, 440, 2143, 6936, 19, 480, 574, 4, 4, 4815, 6061, 19, 18022, 264, 797, 43240, 12104, 605, 19, 409, 358, 30378, 48, 17343, 31, 4216, 4815, 32591, 1385, 231, 49801, 23535, 357, 32, 43, 9745, 3277]\n",
      "loss\n"
     ]
    },
    {
     "name": "stderr",
     "output_type": "stream",
     "text": [
      "Map: 100%|██████████| 100/100 [00:00<00:00, 5581.91 examples/s]\n"
     ]
    },
    {
     "name": "stdout",
     "output_type": "stream",
     "text": [
      "100\n",
      "[2, 1729, 19, 31, 1640, 4815, 2833, 353, 16027, 965, 19, 5341, 10547, 16221, 4948, 1872, 49795, 382, 31, 16282, 49808, 31133, 912, 97, 417, 29222, 2397, 19, 587, 505, 1044, 40024, 1433, 43, 9724, 320, 4815, 40384, 4280, 26700, 49791, 244, 5036, 97, 31, 4223, 2435, 16221, 49796, 52, 12747, 2316, 3817, 775, 42, 9370, 19, 400, 49808, 3217, 27, 14492, 13390, 7863, 5, 27613, 19, 181, 44884, 346, 19, 36105, 97, 466, 47750, 45355, 19, 279, 7, 734, 284, 19, 602, 13, 7, 14, 7, 40384, 4280, 26700, 49791, 26812, 97, 43, 925, 1355, 16220, 3277, 18250, 4, 3698, 26812, 40384, 1004, 228, 41050, 19, 8183, 1457, 16221, 7815, 43, 1479, 905, 19, 21561, 31339, 17808, 5, 7172, 124, 7, 144, 7, 17990, 1793, 49792, 19]\n",
      "[19, 12003, 82, 146, 21545, 5, 4815, 27037, 19, 96, 82, 3620, 1809, 49098, 11, 27944, 8183, 27, 19, 48, 10532, 22366, 43, 3534, 2112, 3292, 22742, 12141, 480, 59, 6038, 27199, 36, 59, 19141, 19, 67, 409, 29219, 42, 7351, 400, 49808, 170, 574, 12806, 3309, 48, 737, 195, 4893, 7, 299, 33334, 49796, 42737, 63, 19, 44985, 1292, 5549, 2065, 2149, 52, 13564, 41767, 49795, 19, 9632, 75, 258, 51, 49808, 2706, 19, 252, 13686, 3969, 4815, 97, 16027, 965, 19, 67, 21489, 76, 275, 211, 43240, 103, 19, 48, 102, 610, 29219, 42, 533, 481, 23980, 4, 4, 4, 7, 3426, 734, 2407, 117, 1030, 3945, 33695, 29647, 10698, 734, 19, 1772, 102, 19, 98, 365, 2112, 66, 527, 49808, 1073, 19, 48, 76, 549]\n",
      "[12756, 147, 9729, 45321, 6936, 49796, 7048, 100, 37384, 43, 1752, 36655, 17808, 49791, 2215, 52, 204, 219, 466, 47750, 7, 26538, 7, 28660, 335, 15192, 40354, 585, 31, 21, 16354, 67, 37439, 19, 36, 11340, 36221, 147, 48, 4815, 26838, 51, 678, 12801, 19, 5271, 26119, 21, 16354, 10563, 18523, 1069, 2997, 266, 7, 299, 102, 6177, 68, 275, 7152, 199, 713, 49796, 16889, 1793, 10, 19, 48, 31, 654, 26573, 20213, 49792, 21, 16354, 102, 29219, 1221, 5196, 7816, 49795, 19, 66, 9010, 4815, 97, 1060, 19377, 19, 98, 48, 440, 2143, 6936, 19, 480, 574, 970, 4, 4815, 6061, 19, 18022, 264, 797, 43240, 12104, 605, 19, 409, 358, 30378, 48, 17343, 31, 4216, 4815, 32591, 1385, 231, 49801, 23535, 357, 32, 43, 9745, 3277]\n",
      "loss\n"
     ]
    },
    {
     "name": "stderr",
     "output_type": "stream",
     "text": [
      "Map: 100%|██████████| 100/100 [00:00<00:00, 5682.18 examples/s]\n"
     ]
    },
    {
     "name": "stdout",
     "output_type": "stream",
     "text": [
      "100\n",
      "[2, 1729, 19, 31, 1640, 4815, 2833, 353, 16027, 965, 19, 5341, 10547, 16221, 4948, 1872, 49795, 382, 31, 16282, 49808, 31133, 912, 97, 417, 29222, 2397, 19, 587, 505, 1044, 40024, 1433, 43, 9724, 320, 4815, 40384, 4280, 26700, 49791, 244, 5036, 97, 31, 4223, 2435, 16221, 49796, 52, 12747, 2316, 3817, 775, 42, 9370, 19, 400, 49808, 3217, 27, 14492, 13390, 7863, 5, 27613, 19, 181, 44884, 346, 19, 36105, 97, 466, 47750, 45355, 19, 279, 7, 734, 284, 19, 602, 13, 7, 14, 7, 40384, 4280, 26700, 49791, 26812, 97, 43, 925, 1355, 16220, 3277, 18250, 168, 4, 26812, 40384, 1004, 228, 41050, 19, 8183, 1457, 16221, 7815, 43, 1479, 905, 19, 21561, 31339, 17808, 5, 7172, 124, 7, 144, 7, 17990, 1793, 49792, 19]\n",
      "[19, 12003, 82, 146, 21545, 5, 4815, 27037, 19, 96, 82, 3620, 1809, 49098, 11, 27944, 8183, 27, 19, 48, 10532, 22366, 43, 3534, 2112, 3292, 22742, 12141, 480, 59, 6038, 27199, 36, 59, 19141, 19, 67, 409, 29219, 42, 7351, 400, 49808, 170, 574, 12806, 3309, 48, 737, 195, 4893, 7, 299, 33334, 49796, 42737, 63, 19, 44985, 1292, 5549, 2065, 2149, 52, 13564, 41767, 49795, 19, 9632, 75, 258, 51, 49808, 2706, 19, 252, 13686, 3969, 4815, 97, 16027, 965, 19, 67, 21489, 76, 275, 211, 43240, 103, 19, 48, 102, 610, 29219, 42, 533, 481, 23980, 3095, 4, 4, 7, 3426, 734, 2407, 117, 1030, 3945, 33695, 29647, 10698, 734, 19, 1772, 102, 19, 98, 365, 2112, 66, 527, 49808, 1073, 19, 48, 76, 549]\n",
      "[12756, 147, 9729, 45321, 6936, 49796, 7048, 100, 37384, 43, 1752, 36655, 17808, 49791, 2215, 52, 204, 219, 466, 47750, 7, 26538, 7, 28660, 335, 15192, 40354, 585, 31, 21, 16354, 67, 37439, 19, 36, 11340, 36221, 147, 48, 4815, 26838, 51, 678, 12801, 19, 5271, 26119, 21, 16354, 10563, 18523, 1069, 2997, 266, 7, 299, 102, 6177, 68, 275, 7152, 199, 713, 49796, 16889, 1793, 10, 19, 48, 31, 654, 26573, 20213, 49792, 21, 16354, 102, 29219, 1221, 5196, 7816, 49795, 19, 66, 9010, 4815, 97, 1060, 19377, 19, 98, 48, 440, 2143, 6936, 19, 480, 574, 970, 457, 4, 6061, 19, 18022, 264, 797, 43240, 12104, 605, 19, 409, 358, 30378, 48, 17343, 31, 4216, 4815, 32591, 1385, 231, 49801, 23535, 357, 32, 43, 9745, 3277]\n",
      "loss\n"
     ]
    },
    {
     "name": "stderr",
     "output_type": "stream",
     "text": [
      "Map: 100%|██████████| 100/100 [00:00<00:00, 5696.54 examples/s]\n"
     ]
    },
    {
     "name": "stdout",
     "output_type": "stream",
     "text": [
      "100\n",
      "[2, 1729, 19, 31, 1640, 4815, 2833, 353, 16027, 965, 19, 5341, 10547, 16221, 4948, 1872, 49795, 382, 31, 16282, 49808, 31133, 912, 97, 417, 29222, 2397, 19, 587, 505, 1044, 40024, 1433, 43, 9724, 320, 4815, 40384, 4280, 26700, 49791, 244, 5036, 97, 31, 4223, 2435, 16221, 49796, 52, 12747, 2316, 3817, 775, 42, 9370, 19, 400, 49808, 3217, 27, 14492, 13390, 7863, 5, 27613, 19, 181, 44884, 346, 19, 36105, 97, 466, 47750, 45355, 19, 279, 7, 734, 284, 19, 602, 13, 7, 14, 7, 40384, 4280, 26700, 49791, 26812, 97, 43, 925, 1355, 16220, 3277, 18250, 168, 3698, 4, 40384, 1004, 228, 41050, 19, 8183, 1457, 16221, 7815, 43, 1479, 905, 19, 21561, 31339, 17808, 5, 7172, 124, 7, 144, 7, 17990, 1793, 49792, 19]\n",
      "[19, 12003, 82, 146, 21545, 5, 4815, 27037, 19, 96, 82, 3620, 1809, 49098, 11, 27944, 8183, 27, 19, 48, 10532, 22366, 43, 3534, 2112, 3292, 22742, 12141, 480, 59, 6038, 27199, 36, 59, 19141, 19, 67, 409, 29219, 42, 7351, 400, 49808, 170, 574, 12806, 3309, 48, 737, 195, 4893, 7, 299, 33334, 49796, 42737, 63, 19, 44985, 1292, 5549, 2065, 2149, 52, 13564, 41767, 49795, 19, 9632, 75, 258, 51, 49808, 2706, 19, 252, 13686, 3969, 4815, 97, 16027, 965, 19, 67, 21489, 76, 275, 211, 43240, 103, 19, 48, 102, 610, 29219, 42, 533, 481, 23980, 3095, 103, 4, 7, 3426, 734, 2407, 117, 1030, 3945, 33695, 29647, 10698, 734, 19, 1772, 102, 19, 98, 365, 2112, 66, 527, 49808, 1073, 19, 48, 76, 549]\n",
      "[12756, 147, 9729, 45321, 6936, 49796, 7048, 100, 37384, 43, 1752, 36655, 17808, 49791, 2215, 52, 204, 219, 466, 47750, 7, 26538, 7, 28660, 335, 15192, 40354, 585, 31, 21, 16354, 67, 37439, 19, 36, 11340, 36221, 147, 48, 4815, 26838, 51, 678, 12801, 19, 5271, 26119, 21, 16354, 10563, 18523, 1069, 2997, 266, 7, 299, 102, 6177, 68, 275, 7152, 199, 713, 49796, 16889, 1793, 10, 19, 48, 31, 654, 26573, 20213, 49792, 21, 16354, 102, 29219, 1221, 5196, 7816, 49795, 19, 66, 9010, 4815, 97, 1060, 19377, 19, 98, 48, 440, 2143, 6936, 19, 480, 574, 970, 457, 4815, 4, 19, 18022, 264, 797, 43240, 12104, 605, 19, 409, 358, 30378, 48, 17343, 31, 4216, 4815, 32591, 1385, 231, 49801, 23535, 357, 32, 43, 9745, 3277]\n",
      "loss\n"
     ]
    },
    {
     "name": "stderr",
     "output_type": "stream",
     "text": [
      "Map: 100%|██████████| 100/100 [00:00<00:00, 5753.58 examples/s]\n"
     ]
    },
    {
     "name": "stdout",
     "output_type": "stream",
     "text": [
      "100\n",
      "[2, 1729, 19, 31, 1640, 4815, 2833, 353, 16027, 965, 19, 5341, 10547, 16221, 4948, 1872, 49795, 382, 31, 16282, 49808, 31133, 912, 97, 417, 29222, 2397, 19, 587, 505, 1044, 40024, 1433, 43, 9724, 320, 4815, 40384, 4280, 26700, 49791, 244, 5036, 97, 31, 4223, 2435, 16221, 49796, 52, 12747, 2316, 3817, 775, 42, 9370, 19, 400, 49808, 3217, 27, 14492, 13390, 7863, 5, 27613, 19, 181, 44884, 346, 19, 36105, 97, 466, 47750, 45355, 19, 279, 7, 734, 284, 19, 602, 13, 7, 14, 7, 40384, 4280, 26700, 49791, 26812, 97, 43, 925, 1355, 16220, 3277, 18250, 168, 3698, 26812, 4, 1004, 228, 41050, 19, 8183, 1457, 16221, 7815, 43, 1479, 905, 19, 21561, 31339, 17808, 5, 7172, 124, 7, 144, 7, 17990, 1793, 49792, 19]\n",
      "[19, 12003, 82, 146, 21545, 5, 4815, 27037, 19, 96, 82, 3620, 1809, 49098, 11, 27944, 8183, 27, 19, 48, 10532, 22366, 43, 3534, 2112, 3292, 22742, 12141, 480, 59, 6038, 27199, 36, 59, 19141, 19, 67, 409, 29219, 42, 7351, 400, 49808, 170, 574, 12806, 3309, 48, 737, 195, 4893, 7, 299, 33334, 49796, 42737, 63, 19, 44985, 1292, 5549, 2065, 2149, 52, 13564, 41767, 49795, 19, 9632, 75, 258, 51, 49808, 2706, 19, 252, 13686, 3969, 4815, 97, 16027, 965, 19, 67, 21489, 76, 275, 211, 43240, 103, 19, 48, 102, 610, 29219, 42, 533, 481, 23980, 3095, 103, 49795, 4, 3426, 734, 2407, 117, 1030, 3945, 33695, 29647, 10698, 734, 19, 1772, 102, 19, 98, 365, 2112, 66, 527, 49808, 1073, 19, 48, 76, 549]\n",
      "[12756, 147, 9729, 45321, 6936, 49796, 7048, 100, 37384, 43, 1752, 36655, 17808, 49791, 2215, 52, 204, 219, 466, 47750, 7, 26538, 7, 28660, 335, 15192, 40354, 585, 31, 21, 16354, 67, 37439, 19, 36, 11340, 36221, 147, 48, 4815, 26838, 51, 678, 12801, 19, 5271, 26119, 21, 16354, 10563, 18523, 1069, 2997, 266, 7, 299, 102, 6177, 68, 275, 7152, 199, 713, 49796, 16889, 1793, 10, 19, 48, 31, 654, 26573, 20213, 49792, 21, 16354, 102, 29219, 1221, 5196, 7816, 49795, 19, 66, 9010, 4815, 97, 1060, 19377, 19, 98, 48, 440, 2143, 6936, 19, 480, 574, 970, 457, 4815, 6061, 4, 18022, 264, 797, 43240, 12104, 605, 19, 409, 358, 30378, 48, 17343, 31, 4216, 4815, 32591, 1385, 231, 49801, 23535, 357, 32, 43, 9745, 3277]\n",
      "loss\n"
     ]
    },
    {
     "name": "stderr",
     "output_type": "stream",
     "text": [
      "Map: 100%|██████████| 100/100 [00:00<00:00, 5562.88 examples/s]\n"
     ]
    },
    {
     "name": "stdout",
     "output_type": "stream",
     "text": [
      "100\n",
      "[2, 1729, 19, 31, 1640, 4815, 2833, 353, 16027, 965, 19, 5341, 10547, 16221, 4948, 1872, 49795, 382, 31, 16282, 49808, 31133, 912, 97, 417, 29222, 2397, 19, 587, 505, 1044, 40024, 1433, 43, 9724, 320, 4815, 40384, 4280, 26700, 49791, 244, 5036, 97, 31, 4223, 2435, 16221, 49796, 52, 12747, 2316, 3817, 775, 42, 9370, 19, 400, 49808, 3217, 27, 14492, 13390, 7863, 5, 27613, 19, 181, 44884, 346, 19, 36105, 97, 466, 47750, 45355, 19, 279, 7, 734, 284, 19, 602, 13, 7, 14, 7, 40384, 4280, 26700, 49791, 26812, 97, 43, 925, 1355, 16220, 3277, 18250, 168, 3698, 26812, 40384, 4, 228, 41050, 19, 8183, 1457, 16221, 7815, 43, 1479, 905, 19, 21561, 31339, 17808, 5, 7172, 124, 7, 144, 7, 17990, 1793, 49792, 19]\n",
      "[19, 12003, 82, 146, 21545, 5, 4815, 27037, 19, 96, 82, 3620, 1809, 49098, 11, 27944, 8183, 27, 19, 48, 10532, 22366, 43, 3534, 2112, 3292, 22742, 12141, 480, 59, 6038, 27199, 36, 59, 19141, 19, 67, 409, 29219, 42, 7351, 400, 49808, 170, 574, 12806, 3309, 48, 737, 195, 4893, 7, 299, 33334, 49796, 42737, 63, 19, 44985, 1292, 5549, 2065, 2149, 52, 13564, 41767, 49795, 19, 9632, 75, 258, 51, 49808, 2706, 19, 252, 13686, 3969, 4815, 97, 16027, 965, 19, 67, 21489, 76, 275, 211, 43240, 103, 19, 48, 102, 610, 29219, 42, 533, 481, 23980, 3095, 103, 49795, 7, 4, 734, 2407, 117, 1030, 3945, 33695, 29647, 10698, 734, 19, 1772, 102, 19, 98, 365, 2112, 66, 527, 49808, 1073, 19, 48, 76, 549]\n",
      "[12756, 147, 9729, 45321, 6936, 49796, 7048, 100, 37384, 43, 1752, 36655, 17808, 49791, 2215, 52, 204, 219, 466, 47750, 7, 26538, 7, 28660, 335, 15192, 40354, 585, 31, 21, 16354, 67, 37439, 19, 36, 11340, 36221, 147, 48, 4815, 26838, 51, 678, 12801, 19, 5271, 26119, 21, 16354, 10563, 18523, 1069, 2997, 266, 7, 299, 102, 6177, 68, 275, 7152, 199, 713, 49796, 16889, 1793, 10, 19, 48, 31, 654, 26573, 20213, 49792, 21, 16354, 102, 29219, 1221, 5196, 7816, 49795, 19, 66, 9010, 4815, 97, 1060, 19377, 19, 98, 48, 440, 2143, 6936, 19, 480, 574, 970, 457, 4815, 6061, 19, 4, 264, 797, 43240, 12104, 605, 19, 409, 358, 30378, 48, 17343, 31, 4216, 4815, 32591, 1385, 231, 49801, 23535, 357, 32, 43, 9745, 3277]\n",
      "loss\n"
     ]
    },
    {
     "name": "stderr",
     "output_type": "stream",
     "text": [
      "Map: 100%|██████████| 100/100 [00:00<00:00, 5766.00 examples/s]\n"
     ]
    },
    {
     "name": "stdout",
     "output_type": "stream",
     "text": [
      "100\n",
      "[2, 1729, 19, 31, 1640, 4815, 2833, 353, 16027, 965, 19, 5341, 10547, 16221, 4948, 1872, 49795, 382, 31, 16282, 49808, 31133, 912, 97, 417, 29222, 2397, 19, 587, 505, 1044, 40024, 1433, 43, 9724, 320, 4815, 40384, 4280, 26700, 49791, 244, 5036, 97, 31, 4223, 2435, 16221, 49796, 52, 12747, 2316, 3817, 775, 42, 9370, 19, 400, 49808, 3217, 27, 14492, 13390, 7863, 5, 27613, 19, 181, 44884, 346, 19, 36105, 97, 466, 47750, 45355, 19, 279, 7, 734, 284, 19, 602, 13, 7, 14, 7, 40384, 4280, 26700, 49791, 26812, 97, 43, 925, 1355, 16220, 3277, 18250, 168, 3698, 26812, 40384, 1004, 4, 41050, 19, 8183, 1457, 16221, 7815, 43, 1479, 905, 19, 21561, 31339, 17808, 5, 7172, 124, 7, 144, 7, 17990, 1793, 49792, 19]\n",
      "[19, 12003, 82, 146, 21545, 5, 4815, 27037, 19, 96, 82, 3620, 1809, 49098, 11, 27944, 8183, 27, 19, 48, 10532, 22366, 43, 3534, 2112, 3292, 22742, 12141, 480, 59, 6038, 27199, 36, 59, 19141, 19, 67, 409, 29219, 42, 7351, 400, 49808, 170, 574, 12806, 3309, 48, 737, 195, 4893, 7, 299, 33334, 49796, 42737, 63, 19, 44985, 1292, 5549, 2065, 2149, 52, 13564, 41767, 49795, 19, 9632, 75, 258, 51, 49808, 2706, 19, 252, 13686, 3969, 4815, 97, 16027, 965, 19, 67, 21489, 76, 275, 211, 43240, 103, 19, 48, 102, 610, 29219, 42, 533, 481, 23980, 3095, 103, 49795, 7, 3426, 4, 2407, 117, 1030, 3945, 33695, 29647, 10698, 734, 19, 1772, 102, 19, 98, 365, 2112, 66, 527, 49808, 1073, 19, 48, 76, 549]\n",
      "[12756, 147, 9729, 45321, 6936, 49796, 7048, 100, 37384, 43, 1752, 36655, 17808, 49791, 2215, 52, 204, 219, 466, 47750, 7, 26538, 7, 28660, 335, 15192, 40354, 585, 31, 21, 16354, 67, 37439, 19, 36, 11340, 36221, 147, 48, 4815, 26838, 51, 678, 12801, 19, 5271, 26119, 21, 16354, 10563, 18523, 1069, 2997, 266, 7, 299, 102, 6177, 68, 275, 7152, 199, 713, 49796, 16889, 1793, 10, 19, 48, 31, 654, 26573, 20213, 49792, 21, 16354, 102, 29219, 1221, 5196, 7816, 49795, 19, 66, 9010, 4815, 97, 1060, 19377, 19, 98, 48, 440, 2143, 6936, 19, 480, 574, 970, 457, 4815, 6061, 19, 18022, 4, 797, 43240, 12104, 605, 19, 409, 358, 30378, 48, 17343, 31, 4216, 4815, 32591, 1385, 231, 49801, 23535, 357, 32, 43, 9745, 3277]\n",
      "loss\n"
     ]
    },
    {
     "name": "stderr",
     "output_type": "stream",
     "text": [
      "Map: 100%|██████████| 100/100 [00:00<00:00, 5565.25 examples/s]\n"
     ]
    },
    {
     "name": "stdout",
     "output_type": "stream",
     "text": [
      "100\n",
      "[2, 1729, 19, 31, 1640, 4815, 2833, 353, 16027, 965, 19, 5341, 10547, 16221, 4948, 1872, 49795, 382, 31, 16282, 49808, 31133, 912, 97, 417, 29222, 2397, 19, 587, 505, 1044, 40024, 1433, 43, 9724, 320, 4815, 40384, 4280, 26700, 49791, 244, 5036, 97, 31, 4223, 2435, 16221, 49796, 52, 12747, 2316, 3817, 775, 42, 9370, 19, 400, 49808, 3217, 27, 14492, 13390, 7863, 5, 27613, 19, 181, 44884, 346, 19, 36105, 97, 466, 47750, 45355, 19, 279, 7, 734, 284, 19, 602, 13, 7, 14, 7, 40384, 4280, 26700, 49791, 26812, 97, 43, 925, 1355, 16220, 3277, 18250, 168, 3698, 26812, 40384, 1004, 228, 4, 19, 8183, 1457, 16221, 7815, 43, 1479, 905, 19, 21561, 31339, 17808, 5, 7172, 124, 7, 144, 7, 17990, 1793, 49792, 19]\n",
      "[19, 12003, 82, 146, 21545, 5, 4815, 27037, 19, 96, 82, 3620, 1809, 49098, 11, 27944, 8183, 27, 19, 48, 10532, 22366, 43, 3534, 2112, 3292, 22742, 12141, 480, 59, 6038, 27199, 36, 59, 19141, 19, 67, 409, 29219, 42, 7351, 400, 49808, 170, 574, 12806, 3309, 48, 737, 195, 4893, 7, 299, 33334, 49796, 42737, 63, 19, 44985, 1292, 5549, 2065, 2149, 52, 13564, 41767, 49795, 19, 9632, 75, 258, 51, 49808, 2706, 19, 252, 13686, 3969, 4815, 97, 16027, 965, 19, 67, 21489, 76, 275, 211, 43240, 103, 19, 48, 102, 610, 29219, 42, 533, 481, 23980, 3095, 103, 49795, 7, 3426, 734, 4, 117, 1030, 3945, 33695, 29647, 10698, 734, 19, 1772, 102, 19, 98, 365, 2112, 66, 527, 49808, 1073, 19, 48, 76, 549]\n",
      "[12756, 147, 9729, 45321, 6936, 49796, 7048, 100, 37384, 43, 1752, 36655, 17808, 49791, 2215, 52, 204, 219, 466, 47750, 7, 26538, 7, 28660, 335, 15192, 40354, 585, 31, 21, 16354, 67, 37439, 19, 36, 11340, 36221, 147, 48, 4815, 26838, 51, 678, 12801, 19, 5271, 26119, 21, 16354, 10563, 18523, 1069, 2997, 266, 7, 299, 102, 6177, 68, 275, 7152, 199, 713, 49796, 16889, 1793, 10, 19, 48, 31, 654, 26573, 20213, 49792, 21, 16354, 102, 29219, 1221, 5196, 7816, 49795, 19, 66, 9010, 4815, 97, 1060, 19377, 19, 98, 48, 440, 2143, 6936, 19, 480, 574, 970, 457, 4815, 6061, 19, 18022, 264, 4, 4, 4, 4, 19, 409, 358, 30378, 48, 17343, 31, 4216, 4815, 32591, 1385, 231, 49801, 23535, 357, 32, 43, 9745, 3277]\n",
      "loss\n"
     ]
    },
    {
     "name": "stderr",
     "output_type": "stream",
     "text": [
      "Map: 100%|██████████| 100/100 [00:00<00:00, 5641.60 examples/s]\n"
     ]
    },
    {
     "name": "stdout",
     "output_type": "stream",
     "text": [
      "100\n",
      "[2, 1729, 19, 31, 1640, 4815, 2833, 353, 16027, 965, 19, 5341, 10547, 16221, 4948, 1872, 49795, 382, 31, 16282, 49808, 31133, 912, 97, 417, 29222, 2397, 19, 587, 505, 1044, 40024, 1433, 43, 9724, 320, 4815, 40384, 4280, 26700, 49791, 244, 5036, 97, 31, 4223, 2435, 16221, 49796, 52, 12747, 2316, 3817, 775, 42, 9370, 19, 400, 49808, 3217, 27, 14492, 13390, 7863, 5, 27613, 19, 181, 44884, 346, 19, 36105, 97, 466, 47750, 45355, 19, 279, 7, 734, 284, 19, 602, 13, 7, 14, 7, 40384, 4280, 26700, 49791, 26812, 97, 43, 925, 1355, 16220, 3277, 18250, 168, 3698, 26812, 40384, 1004, 228, 41050, 4, 8183, 1457, 16221, 7815, 43, 1479, 905, 19, 21561, 31339, 17808, 5, 7172, 124, 7, 144, 7, 17990, 1793, 49792, 19]\n",
      "[19, 12003, 82, 146, 21545, 5, 4815, 27037, 19, 96, 82, 3620, 1809, 49098, 11, 27944, 8183, 27, 19, 48, 10532, 22366, 43, 3534, 2112, 3292, 22742, 12141, 480, 59, 6038, 27199, 36, 59, 19141, 19, 67, 409, 29219, 42, 7351, 400, 49808, 170, 574, 12806, 3309, 48, 737, 195, 4893, 7, 299, 33334, 49796, 42737, 63, 19, 44985, 1292, 5549, 2065, 2149, 52, 13564, 41767, 49795, 19, 9632, 75, 258, 51, 49808, 2706, 19, 252, 13686, 3969, 4815, 97, 16027, 965, 19, 67, 21489, 76, 275, 211, 43240, 103, 19, 48, 102, 610, 29219, 42, 533, 481, 23980, 3095, 103, 49795, 7, 3426, 734, 2407, 4, 4, 4, 4, 29647, 10698, 734, 19, 1772, 102, 19, 98, 365, 2112, 66, 527, 49808, 1073, 19, 48, 76, 549]\n",
      "[12756, 147, 9729, 45321, 6936, 49796, 7048, 100, 37384, 43, 1752, 36655, 17808, 49791, 2215, 52, 204, 219, 466, 47750, 7, 26538, 7, 28660, 335, 15192, 40354, 585, 31, 21, 16354, 67, 37439, 19, 36, 11340, 36221, 147, 48, 4815, 26838, 51, 678, 12801, 19, 5271, 26119, 21, 16354, 10563, 18523, 1069, 2997, 266, 7, 299, 102, 6177, 68, 275, 7152, 199, 713, 49796, 16889, 1793, 10, 19, 48, 31, 654, 26573, 20213, 49792, 21, 16354, 102, 29219, 1221, 5196, 7816, 49795, 19, 66, 9010, 4815, 97, 1060, 19377, 19, 98, 48, 440, 2143, 6936, 19, 480, 574, 970, 457, 4815, 6061, 19, 18022, 264, 797, 4, 4, 4, 19, 409, 358, 30378, 48, 17343, 31, 4216, 4815, 32591, 1385, 231, 49801, 23535, 357, 32, 43, 9745, 3277]\n",
      "loss\n"
     ]
    },
    {
     "name": "stderr",
     "output_type": "stream",
     "text": [
      "Map: 100%|██████████| 100/100 [00:00<00:00, 5592.33 examples/s]\n"
     ]
    },
    {
     "name": "stdout",
     "output_type": "stream",
     "text": [
      "100\n",
      "[2, 1729, 19, 31, 1640, 4815, 2833, 353, 16027, 965, 19, 5341, 10547, 16221, 4948, 1872, 49795, 382, 31, 16282, 49808, 31133, 912, 97, 417, 29222, 2397, 19, 587, 505, 1044, 40024, 1433, 43, 9724, 320, 4815, 40384, 4280, 26700, 49791, 244, 5036, 97, 31, 4223, 2435, 16221, 49796, 52, 12747, 2316, 3817, 775, 42, 9370, 19, 400, 49808, 3217, 27, 14492, 13390, 7863, 5, 27613, 19, 181, 44884, 346, 19, 36105, 97, 466, 47750, 45355, 19, 279, 7, 734, 284, 19, 602, 13, 7, 14, 7, 40384, 4280, 26700, 49791, 26812, 97, 43, 925, 1355, 16220, 3277, 18250, 168, 3698, 26812, 40384, 1004, 228, 41050, 19, 4, 4, 16221, 7815, 43, 1479, 905, 19, 21561, 31339, 17808, 5, 7172, 124, 7, 144, 7, 17990, 1793, 49792, 19]\n",
      "[19, 12003, 82, 146, 21545, 5, 4815, 27037, 19, 96, 82, 3620, 1809, 49098, 11, 27944, 8183, 27, 19, 48, 10532, 22366, 43, 3534, 2112, 3292, 22742, 12141, 480, 59, 6038, 27199, 36, 59, 19141, 19, 67, 409, 29219, 42, 7351, 400, 49808, 170, 574, 12806, 3309, 48, 737, 195, 4893, 7, 299, 33334, 49796, 42737, 63, 19, 44985, 1292, 5549, 2065, 2149, 52, 13564, 41767, 49795, 19, 9632, 75, 258, 51, 49808, 2706, 19, 252, 13686, 3969, 4815, 97, 16027, 965, 19, 67, 21489, 76, 275, 211, 43240, 103, 19, 48, 102, 610, 29219, 42, 533, 481, 23980, 3095, 103, 49795, 7, 3426, 734, 2407, 117, 4, 4, 4, 29647, 10698, 734, 19, 1772, 102, 19, 98, 365, 2112, 66, 527, 49808, 1073, 19, 48, 76, 549]\n",
      "[12756, 147, 9729, 45321, 6936, 49796, 7048, 100, 37384, 43, 1752, 36655, 17808, 49791, 2215, 52, 204, 219, 466, 47750, 7, 26538, 7, 28660, 335, 15192, 40354, 585, 31, 21, 16354, 67, 37439, 19, 36, 11340, 36221, 147, 48, 4815, 26838, 51, 678, 12801, 19, 5271, 26119, 21, 16354, 10563, 18523, 1069, 2997, 266, 7, 299, 102, 6177, 68, 275, 7152, 199, 713, 49796, 16889, 1793, 10, 19, 48, 31, 654, 26573, 20213, 49792, 21, 16354, 102, 29219, 1221, 5196, 7816, 49795, 19, 66, 9010, 4815, 97, 1060, 19377, 19, 98, 48, 440, 2143, 6936, 19, 480, 574, 970, 457, 4815, 6061, 19, 18022, 264, 797, 43240, 4, 4, 19, 409, 358, 30378, 48, 17343, 31, 4216, 4815, 32591, 1385, 231, 49801, 23535, 357, 32, 43, 9745, 3277]\n",
      "loss\n"
     ]
    },
    {
     "name": "stderr",
     "output_type": "stream",
     "text": [
      "Map: 100%|██████████| 100/100 [00:00<00:00, 5731.57 examples/s]\n"
     ]
    },
    {
     "name": "stdout",
     "output_type": "stream",
     "text": [
      "100\n",
      "[2, 1729, 19, 31, 1640, 4815, 2833, 353, 16027, 965, 19, 5341, 10547, 16221, 4948, 1872, 49795, 382, 31, 16282, 49808, 31133, 912, 97, 417, 29222, 2397, 19, 587, 505, 1044, 40024, 1433, 43, 9724, 320, 4815, 40384, 4280, 26700, 49791, 244, 5036, 97, 31, 4223, 2435, 16221, 49796, 52, 12747, 2316, 3817, 775, 42, 9370, 19, 400, 49808, 3217, 27, 14492, 13390, 7863, 5, 27613, 19, 181, 44884, 346, 19, 36105, 97, 466, 47750, 45355, 19, 279, 7, 734, 284, 19, 602, 13, 7, 14, 7, 40384, 4280, 26700, 49791, 26812, 97, 43, 925, 1355, 16220, 3277, 18250, 168, 3698, 26812, 40384, 1004, 228, 41050, 19, 8183, 4, 16221, 7815, 43, 1479, 905, 19, 21561, 31339, 17808, 5, 7172, 124, 7, 144, 7, 17990, 1793, 49792, 19]\n",
      "[19, 12003, 82, 146, 21545, 5, 4815, 27037, 19, 96, 82, 3620, 1809, 49098, 11, 27944, 8183, 27, 19, 48, 10532, 22366, 43, 3534, 2112, 3292, 22742, 12141, 480, 59, 6038, 27199, 36, 59, 19141, 19, 67, 409, 29219, 42, 7351, 400, 49808, 170, 574, 12806, 3309, 48, 737, 195, 4893, 7, 299, 33334, 49796, 42737, 63, 19, 44985, 1292, 5549, 2065, 2149, 52, 13564, 41767, 49795, 19, 9632, 75, 258, 51, 49808, 2706, 19, 252, 13686, 3969, 4815, 97, 16027, 965, 19, 67, 21489, 76, 275, 211, 43240, 103, 19, 48, 102, 610, 29219, 42, 533, 481, 23980, 3095, 103, 49795, 7, 3426, 734, 2407, 117, 1030, 4, 4, 29647, 10698, 734, 19, 1772, 102, 19, 98, 365, 2112, 66, 527, 49808, 1073, 19, 48, 76, 549]\n",
      "[12756, 147, 9729, 45321, 6936, 49796, 7048, 100, 37384, 43, 1752, 36655, 17808, 49791, 2215, 52, 204, 219, 466, 47750, 7, 26538, 7, 28660, 335, 15192, 40354, 585, 31, 21, 16354, 67, 37439, 19, 36, 11340, 36221, 147, 48, 4815, 26838, 51, 678, 12801, 19, 5271, 26119, 21, 16354, 10563, 18523, 1069, 2997, 266, 7, 299, 102, 6177, 68, 275, 7152, 199, 713, 49796, 16889, 1793, 10, 19, 48, 31, 654, 26573, 20213, 49792, 21, 16354, 102, 29219, 1221, 5196, 7816, 49795, 19, 66, 9010, 4815, 97, 1060, 19377, 19, 98, 48, 440, 2143, 6936, 19, 480, 574, 970, 457, 4815, 6061, 19, 18022, 264, 797, 43240, 12104, 4, 19, 409, 358, 30378, 48, 17343, 31, 4216, 4815, 32591, 1385, 231, 49801, 23535, 357, 32, 43, 9745, 3277]\n",
      "loss\n"
     ]
    },
    {
     "name": "stderr",
     "output_type": "stream",
     "text": [
      "Map: 100%|██████████| 100/100 [00:00<00:00, 5627.67 examples/s]\n"
     ]
    },
    {
     "name": "stdout",
     "output_type": "stream",
     "text": [
      "100\n",
      "[2, 1729, 19, 31, 1640, 4815, 2833, 353, 16027, 965, 19, 5341, 10547, 16221, 4948, 1872, 49795, 382, 31, 16282, 49808, 31133, 912, 97, 417, 29222, 2397, 19, 587, 505, 1044, 40024, 1433, 43, 9724, 320, 4815, 40384, 4280, 26700, 49791, 244, 5036, 97, 31, 4223, 2435, 16221, 49796, 52, 12747, 2316, 3817, 775, 42, 9370, 19, 400, 49808, 3217, 27, 14492, 13390, 7863, 5, 27613, 19, 181, 44884, 346, 19, 36105, 97, 466, 47750, 45355, 19, 279, 7, 734, 284, 19, 602, 13, 7, 14, 7, 40384, 4280, 26700, 49791, 26812, 97, 43, 925, 1355, 16220, 3277, 18250, 168, 3698, 26812, 40384, 1004, 228, 41050, 19, 8183, 1457, 4, 4, 43, 1479, 905, 19, 21561, 31339, 17808, 5, 7172, 124, 7, 144, 7, 17990, 1793, 49792, 19]\n",
      "[19, 12003, 82, 146, 21545, 5, 4815, 27037, 19, 96, 82, 3620, 1809, 49098, 11, 27944, 8183, 27, 19, 48, 10532, 22366, 43, 3534, 2112, 3292, 22742, 12141, 480, 59, 6038, 27199, 36, 59, 19141, 19, 67, 409, 29219, 42, 7351, 400, 49808, 170, 574, 12806, 3309, 48, 737, 195, 4893, 7, 299, 33334, 49796, 42737, 63, 19, 44985, 1292, 5549, 2065, 2149, 52, 13564, 41767, 49795, 19, 9632, 75, 258, 51, 49808, 2706, 19, 252, 13686, 3969, 4815, 97, 16027, 965, 19, 67, 21489, 76, 275, 211, 43240, 103, 19, 48, 102, 610, 29219, 42, 533, 481, 23980, 3095, 103, 49795, 7, 3426, 734, 2407, 117, 1030, 3945, 4, 29647, 10698, 734, 19, 1772, 102, 19, 98, 365, 2112, 66, 527, 49808, 1073, 19, 48, 76, 549]\n",
      "[12756, 147, 9729, 45321, 6936, 49796, 7048, 100, 37384, 43, 1752, 36655, 17808, 49791, 2215, 52, 204, 219, 466, 47750, 7, 26538, 7, 28660, 335, 15192, 40354, 585, 31, 21, 16354, 67, 37439, 19, 36, 11340, 36221, 147, 48, 4815, 26838, 51, 678, 12801, 19, 5271, 26119, 21, 16354, 10563, 18523, 1069, 2997, 266, 7, 299, 102, 6177, 68, 275, 7152, 199, 713, 49796, 16889, 1793, 10, 19, 48, 31, 654, 26573, 20213, 49792, 21, 16354, 102, 29219, 1221, 5196, 7816, 49795, 19, 66, 9010, 4815, 97, 1060, 19377, 19, 98, 48, 440, 2143, 6936, 19, 480, 574, 970, 457, 4815, 6061, 19, 18022, 264, 797, 43240, 12104, 605, 4, 409, 358, 30378, 48, 17343, 31, 4216, 4815, 32591, 1385, 231, 49801, 23535, 357, 32, 43, 9745, 3277]\n",
      "loss\n"
     ]
    },
    {
     "name": "stderr",
     "output_type": "stream",
     "text": [
      "Map: 100%|██████████| 100/100 [00:00<00:00, 5551.62 examples/s]\n"
     ]
    },
    {
     "name": "stdout",
     "output_type": "stream",
     "text": [
      "100\n",
      "[2, 1729, 19, 31, 1640, 4815, 2833, 353, 16027, 965, 19, 5341, 10547, 16221, 4948, 1872, 49795, 382, 31, 16282, 49808, 31133, 912, 97, 417, 29222, 2397, 19, 587, 505, 1044, 40024, 1433, 43, 9724, 320, 4815, 40384, 4280, 26700, 49791, 244, 5036, 97, 31, 4223, 2435, 16221, 49796, 52, 12747, 2316, 3817, 775, 42, 9370, 19, 400, 49808, 3217, 27, 14492, 13390, 7863, 5, 27613, 19, 181, 44884, 346, 19, 36105, 97, 466, 47750, 45355, 19, 279, 7, 734, 284, 19, 602, 13, 7, 14, 7, 40384, 4280, 26700, 49791, 26812, 97, 43, 925, 1355, 16220, 3277, 18250, 168, 3698, 26812, 40384, 1004, 228, 41050, 19, 8183, 1457, 16221, 4, 43, 1479, 905, 19, 21561, 31339, 17808, 5, 7172, 124, 7, 144, 7, 17990, 1793, 49792, 19]\n",
      "[19, 12003, 82, 146, 21545, 5, 4815, 27037, 19, 96, 82, 3620, 1809, 49098, 11, 27944, 8183, 27, 19, 48, 10532, 22366, 43, 3534, 2112, 3292, 22742, 12141, 480, 59, 6038, 27199, 36, 59, 19141, 19, 67, 409, 29219, 42, 7351, 400, 49808, 170, 574, 12806, 3309, 48, 737, 195, 4893, 7, 299, 33334, 49796, 42737, 63, 19, 44985, 1292, 5549, 2065, 2149, 52, 13564, 41767, 49795, 19, 9632, 75, 258, 51, 49808, 2706, 19, 252, 13686, 3969, 4815, 97, 16027, 965, 19, 67, 21489, 76, 275, 211, 43240, 103, 19, 48, 102, 610, 29219, 42, 533, 481, 23980, 3095, 103, 49795, 7, 3426, 734, 2407, 117, 1030, 3945, 33695, 4, 4, 734, 19, 1772, 102, 19, 98, 365, 2112, 66, 527, 49808, 1073, 19, 48, 76, 549]\n",
      "[12756, 147, 9729, 45321, 6936, 49796, 7048, 100, 37384, 43, 1752, 36655, 17808, 49791, 2215, 52, 204, 219, 466, 47750, 7, 26538, 7, 28660, 335, 15192, 40354, 585, 31, 21, 16354, 67, 37439, 19, 36, 11340, 36221, 147, 48, 4815, 26838, 51, 678, 12801, 19, 5271, 26119, 21, 16354, 10563, 18523, 1069, 2997, 266, 7, 299, 102, 6177, 68, 275, 7152, 199, 713, 49796, 16889, 1793, 10, 19, 48, 31, 654, 26573, 20213, 49792, 21, 16354, 102, 29219, 1221, 5196, 7816, 49795, 19, 66, 9010, 4815, 97, 1060, 19377, 19, 98, 48, 440, 2143, 6936, 19, 480, 574, 970, 457, 4815, 6061, 19, 18022, 264, 797, 43240, 12104, 605, 19, 4, 358, 30378, 48, 17343, 31, 4216, 4815, 32591, 1385, 231, 49801, 23535, 357, 32, 43, 9745, 3277]\n",
      "loss\n"
     ]
    },
    {
     "name": "stderr",
     "output_type": "stream",
     "text": [
      "Map: 100%|██████████| 100/100 [00:00<00:00, 5650.19 examples/s]\n"
     ]
    },
    {
     "name": "stdout",
     "output_type": "stream",
     "text": [
      "100\n",
      "[2, 1729, 19, 31, 1640, 4815, 2833, 353, 16027, 965, 19, 5341, 10547, 16221, 4948, 1872, 49795, 382, 31, 16282, 49808, 31133, 912, 97, 417, 29222, 2397, 19, 587, 505, 1044, 40024, 1433, 43, 9724, 320, 4815, 40384, 4280, 26700, 49791, 244, 5036, 97, 31, 4223, 2435, 16221, 49796, 52, 12747, 2316, 3817, 775, 42, 9370, 19, 400, 49808, 3217, 27, 14492, 13390, 7863, 5, 27613, 19, 181, 44884, 346, 19, 36105, 97, 466, 47750, 45355, 19, 279, 7, 734, 284, 19, 602, 13, 7, 14, 7, 40384, 4280, 26700, 49791, 26812, 97, 43, 925, 1355, 16220, 3277, 18250, 168, 3698, 26812, 40384, 1004, 228, 41050, 19, 8183, 1457, 16221, 7815, 4, 1479, 905, 19, 21561, 31339, 17808, 5, 7172, 124, 7, 144, 7, 17990, 1793, 49792, 19]\n",
      "[19, 12003, 82, 146, 21545, 5, 4815, 27037, 19, 96, 82, 3620, 1809, 49098, 11, 27944, 8183, 27, 19, 48, 10532, 22366, 43, 3534, 2112, 3292, 22742, 12141, 480, 59, 6038, 27199, 36, 59, 19141, 19, 67, 409, 29219, 42, 7351, 400, 49808, 170, 574, 12806, 3309, 48, 737, 195, 4893, 7, 299, 33334, 49796, 42737, 63, 19, 44985, 1292, 5549, 2065, 2149, 52, 13564, 41767, 49795, 19, 9632, 75, 258, 51, 49808, 2706, 19, 252, 13686, 3969, 4815, 97, 16027, 965, 19, 67, 21489, 76, 275, 211, 43240, 103, 19, 48, 102, 610, 29219, 42, 533, 481, 23980, 3095, 103, 49795, 7, 3426, 734, 2407, 117, 1030, 3945, 33695, 29647, 4, 734, 19, 1772, 102, 19, 98, 365, 2112, 66, 527, 49808, 1073, 19, 48, 76, 549]\n",
      "[12756, 147, 9729, 45321, 6936, 49796, 7048, 100, 37384, 43, 1752, 36655, 17808, 49791, 2215, 52, 204, 219, 466, 47750, 7, 26538, 7, 28660, 335, 15192, 40354, 585, 31, 21, 16354, 67, 37439, 19, 36, 11340, 36221, 147, 48, 4815, 26838, 51, 678, 12801, 19, 5271, 26119, 21, 16354, 10563, 18523, 1069, 2997, 266, 7, 299, 102, 6177, 68, 275, 7152, 199, 713, 49796, 16889, 1793, 10, 19, 48, 31, 654, 26573, 20213, 49792, 21, 16354, 102, 29219, 1221, 5196, 7816, 49795, 19, 66, 9010, 4815, 97, 1060, 19377, 19, 98, 48, 440, 2143, 6936, 19, 480, 574, 970, 457, 4815, 6061, 19, 18022, 264, 797, 43240, 12104, 605, 19, 409, 4, 30378, 48, 17343, 31, 4216, 4815, 32591, 1385, 231, 49801, 23535, 357, 32, 43, 9745, 3277]\n",
      "loss\n"
     ]
    },
    {
     "name": "stderr",
     "output_type": "stream",
     "text": [
      "Map: 100%|██████████| 100/100 [00:00<00:00, 5765.05 examples/s]\n"
     ]
    },
    {
     "name": "stdout",
     "output_type": "stream",
     "text": [
      "100\n",
      "[2, 1729, 19, 31, 1640, 4815, 2833, 353, 16027, 965, 19, 5341, 10547, 16221, 4948, 1872, 49795, 382, 31, 16282, 49808, 31133, 912, 97, 417, 29222, 2397, 19, 587, 505, 1044, 40024, 1433, 43, 9724, 320, 4815, 40384, 4280, 26700, 49791, 244, 5036, 97, 31, 4223, 2435, 16221, 49796, 52, 12747, 2316, 3817, 775, 42, 9370, 19, 400, 49808, 3217, 27, 14492, 13390, 7863, 5, 27613, 19, 181, 44884, 346, 19, 36105, 97, 466, 47750, 45355, 19, 279, 7, 734, 284, 19, 602, 13, 7, 14, 7, 40384, 4280, 26700, 49791, 26812, 97, 43, 925, 1355, 16220, 3277, 18250, 168, 3698, 26812, 40384, 1004, 228, 41050, 19, 8183, 1457, 16221, 7815, 43, 4, 905, 19, 21561, 31339, 17808, 5, 7172, 124, 7, 144, 7, 17990, 1793, 49792, 19]\n",
      "[19, 12003, 82, 146, 21545, 5, 4815, 27037, 19, 96, 82, 3620, 1809, 49098, 11, 27944, 8183, 27, 19, 48, 10532, 22366, 43, 3534, 2112, 3292, 22742, 12141, 480, 59, 6038, 27199, 36, 59, 19141, 19, 67, 409, 29219, 42, 7351, 400, 49808, 170, 574, 12806, 3309, 48, 737, 195, 4893, 7, 299, 33334, 49796, 42737, 63, 19, 44985, 1292, 5549, 2065, 2149, 52, 13564, 41767, 49795, 19, 9632, 75, 258, 51, 49808, 2706, 19, 252, 13686, 3969, 4815, 97, 16027, 965, 19, 67, 21489, 76, 275, 211, 43240, 103, 19, 48, 102, 610, 29219, 42, 533, 481, 23980, 3095, 103, 49795, 7, 3426, 734, 2407, 117, 1030, 3945, 33695, 29647, 10698, 4, 19, 1772, 102, 19, 98, 365, 2112, 66, 527, 49808, 1073, 19, 48, 76, 549]\n",
      "[12756, 147, 9729, 45321, 6936, 49796, 7048, 100, 37384, 43, 1752, 36655, 17808, 49791, 2215, 52, 204, 219, 466, 47750, 7, 26538, 7, 28660, 335, 15192, 40354, 585, 31, 21, 16354, 67, 37439, 19, 36, 11340, 36221, 147, 48, 4815, 26838, 51, 678, 12801, 19, 5271, 26119, 21, 16354, 10563, 18523, 1069, 2997, 266, 7, 299, 102, 6177, 68, 275, 7152, 199, 713, 49796, 16889, 1793, 10, 19, 48, 31, 654, 26573, 20213, 49792, 21, 16354, 102, 29219, 1221, 5196, 7816, 49795, 19, 66, 9010, 4815, 97, 1060, 19377, 19, 98, 48, 440, 2143, 6936, 19, 480, 574, 970, 457, 4815, 6061, 19, 18022, 264, 797, 43240, 12104, 605, 19, 409, 358, 4, 48, 17343, 31, 4216, 4815, 32591, 1385, 231, 49801, 23535, 357, 32, 43, 9745, 3277]\n",
      "loss\n"
     ]
    },
    {
     "name": "stderr",
     "output_type": "stream",
     "text": [
      "Map: 100%|██████████| 100/100 [00:00<00:00, 5656.36 examples/s]\n"
     ]
    },
    {
     "name": "stdout",
     "output_type": "stream",
     "text": [
      "100\n",
      "[2, 1729, 19, 31, 1640, 4815, 2833, 353, 16027, 965, 19, 5341, 10547, 16221, 4948, 1872, 49795, 382, 31, 16282, 49808, 31133, 912, 97, 417, 29222, 2397, 19, 587, 505, 1044, 40024, 1433, 43, 9724, 320, 4815, 40384, 4280, 26700, 49791, 244, 5036, 97, 31, 4223, 2435, 16221, 49796, 52, 12747, 2316, 3817, 775, 42, 9370, 19, 400, 49808, 3217, 27, 14492, 13390, 7863, 5, 27613, 19, 181, 44884, 346, 19, 36105, 97, 466, 47750, 45355, 19, 279, 7, 734, 284, 19, 602, 13, 7, 14, 7, 40384, 4280, 26700, 49791, 26812, 97, 43, 925, 1355, 16220, 3277, 18250, 168, 3698, 26812, 40384, 1004, 228, 41050, 19, 8183, 1457, 16221, 7815, 43, 1479, 4, 19, 21561, 31339, 17808, 5, 7172, 124, 7, 144, 7, 17990, 1793, 49792, 19]\n",
      "[19, 12003, 82, 146, 21545, 5, 4815, 27037, 19, 96, 82, 3620, 1809, 49098, 11, 27944, 8183, 27, 19, 48, 10532, 22366, 43, 3534, 2112, 3292, 22742, 12141, 480, 59, 6038, 27199, 36, 59, 19141, 19, 67, 409, 29219, 42, 7351, 400, 49808, 170, 574, 12806, 3309, 48, 737, 195, 4893, 7, 299, 33334, 49796, 42737, 63, 19, 44985, 1292, 5549, 2065, 2149, 52, 13564, 41767, 49795, 19, 9632, 75, 258, 51, 49808, 2706, 19, 252, 13686, 3969, 4815, 97, 16027, 965, 19, 67, 21489, 76, 275, 211, 43240, 103, 19, 48, 102, 610, 29219, 42, 533, 481, 23980, 3095, 103, 49795, 7, 3426, 734, 2407, 117, 1030, 3945, 33695, 29647, 10698, 734, 4, 1772, 102, 19, 98, 365, 2112, 66, 527, 49808, 1073, 19, 48, 76, 549]\n",
      "[12756, 147, 9729, 45321, 6936, 49796, 7048, 100, 37384, 43, 1752, 36655, 17808, 49791, 2215, 52, 204, 219, 466, 47750, 7, 26538, 7, 28660, 335, 15192, 40354, 585, 31, 21, 16354, 67, 37439, 19, 36, 11340, 36221, 147, 48, 4815, 26838, 51, 678, 12801, 19, 5271, 26119, 21, 16354, 10563, 18523, 1069, 2997, 266, 7, 299, 102, 6177, 68, 275, 7152, 199, 713, 49796, 16889, 1793, 10, 19, 48, 31, 654, 26573, 20213, 49792, 21, 16354, 102, 29219, 1221, 5196, 7816, 49795, 19, 66, 9010, 4815, 97, 1060, 19377, 19, 98, 48, 440, 2143, 6936, 19, 480, 574, 970, 457, 4815, 6061, 19, 18022, 264, 797, 43240, 12104, 605, 19, 409, 358, 30378, 4, 17343, 31, 4216, 4815, 32591, 1385, 231, 49801, 23535, 357, 32, 43, 9745, 3277]\n",
      "loss\n"
     ]
    },
    {
     "name": "stderr",
     "output_type": "stream",
     "text": [
      "Map: 100%|██████████| 100/100 [00:00<00:00, 5622.62 examples/s]\n"
     ]
    },
    {
     "name": "stdout",
     "output_type": "stream",
     "text": [
      "100\n",
      "[2, 1729, 19, 31, 1640, 4815, 2833, 353, 16027, 965, 19, 5341, 10547, 16221, 4948, 1872, 49795, 382, 31, 16282, 49808, 31133, 912, 97, 417, 29222, 2397, 19, 587, 505, 1044, 40024, 1433, 43, 9724, 320, 4815, 40384, 4280, 26700, 49791, 244, 5036, 97, 31, 4223, 2435, 16221, 49796, 52, 12747, 2316, 3817, 775, 42, 9370, 19, 400, 49808, 3217, 27, 14492, 13390, 7863, 5, 27613, 19, 181, 44884, 346, 19, 36105, 97, 466, 47750, 45355, 19, 279, 7, 734, 284, 19, 602, 13, 7, 14, 7, 40384, 4280, 26700, 49791, 26812, 97, 43, 925, 1355, 16220, 3277, 18250, 168, 3698, 26812, 40384, 1004, 228, 41050, 19, 8183, 1457, 16221, 7815, 43, 1479, 905, 4, 21561, 31339, 17808, 5, 7172, 124, 7, 144, 7, 17990, 1793, 49792, 19]\n",
      "[19, 12003, 82, 146, 21545, 5, 4815, 27037, 19, 96, 82, 3620, 1809, 49098, 11, 27944, 8183, 27, 19, 48, 10532, 22366, 43, 3534, 2112, 3292, 22742, 12141, 480, 59, 6038, 27199, 36, 59, 19141, 19, 67, 409, 29219, 42, 7351, 400, 49808, 170, 574, 12806, 3309, 48, 737, 195, 4893, 7, 299, 33334, 49796, 42737, 63, 19, 44985, 1292, 5549, 2065, 2149, 52, 13564, 41767, 49795, 19, 9632, 75, 258, 51, 49808, 2706, 19, 252, 13686, 3969, 4815, 97, 16027, 965, 19, 67, 21489, 76, 275, 211, 43240, 103, 19, 48, 102, 610, 29219, 42, 533, 481, 23980, 3095, 103, 49795, 7, 3426, 734, 2407, 117, 1030, 3945, 33695, 29647, 10698, 734, 19, 4, 102, 19, 98, 365, 2112, 66, 527, 49808, 1073, 19, 48, 76, 549]\n",
      "[12756, 147, 9729, 45321, 6936, 49796, 7048, 100, 37384, 43, 1752, 36655, 17808, 49791, 2215, 52, 204, 219, 466, 47750, 7, 26538, 7, 28660, 335, 15192, 40354, 585, 31, 21, 16354, 67, 37439, 19, 36, 11340, 36221, 147, 48, 4815, 26838, 51, 678, 12801, 19, 5271, 26119, 21, 16354, 10563, 18523, 1069, 2997, 266, 7, 299, 102, 6177, 68, 275, 7152, 199, 713, 49796, 16889, 1793, 10, 19, 48, 31, 654, 26573, 20213, 49792, 21, 16354, 102, 29219, 1221, 5196, 7816, 49795, 19, 66, 9010, 4815, 97, 1060, 19377, 19, 98, 48, 440, 2143, 6936, 19, 480, 574, 970, 457, 4815, 6061, 19, 18022, 264, 797, 43240, 12104, 605, 19, 409, 358, 30378, 48, 4, 31, 4216, 4815, 32591, 1385, 231, 49801, 23535, 357, 32, 43, 9745, 3277]\n",
      "loss\n"
     ]
    },
    {
     "name": "stderr",
     "output_type": "stream",
     "text": [
      "Map: 100%|██████████| 100/100 [00:00<00:00, 5631.98 examples/s]\n"
     ]
    },
    {
     "name": "stdout",
     "output_type": "stream",
     "text": [
      "100\n",
      "[2, 1729, 19, 31, 1640, 4815, 2833, 353, 16027, 965, 19, 5341, 10547, 16221, 4948, 1872, 49795, 382, 31, 16282, 49808, 31133, 912, 97, 417, 29222, 2397, 19, 587, 505, 1044, 40024, 1433, 43, 9724, 320, 4815, 40384, 4280, 26700, 49791, 244, 5036, 97, 31, 4223, 2435, 16221, 49796, 52, 12747, 2316, 3817, 775, 42, 9370, 19, 400, 49808, 3217, 27, 14492, 13390, 7863, 5, 27613, 19, 181, 44884, 346, 19, 36105, 97, 466, 47750, 45355, 19, 279, 7, 734, 284, 19, 602, 13, 7, 14, 7, 40384, 4280, 26700, 49791, 26812, 97, 43, 925, 1355, 16220, 3277, 18250, 168, 3698, 26812, 40384, 1004, 228, 41050, 19, 8183, 1457, 16221, 7815, 43, 1479, 905, 19, 4, 4, 4, 4, 7172, 124, 7, 144, 7, 17990, 1793, 49792, 19]\n",
      "[19, 12003, 82, 146, 21545, 5, 4815, 27037, 19, 96, 82, 3620, 1809, 49098, 11, 27944, 8183, 27, 19, 48, 10532, 22366, 43, 3534, 2112, 3292, 22742, 12141, 480, 59, 6038, 27199, 36, 59, 19141, 19, 67, 409, 29219, 42, 7351, 400, 49808, 170, 574, 12806, 3309, 48, 737, 195, 4893, 7, 299, 33334, 49796, 42737, 63, 19, 44985, 1292, 5549, 2065, 2149, 52, 13564, 41767, 49795, 19, 9632, 75, 258, 51, 49808, 2706, 19, 252, 13686, 3969, 4815, 97, 16027, 965, 19, 67, 21489, 76, 275, 211, 43240, 103, 19, 48, 102, 610, 29219, 42, 533, 481, 23980, 3095, 103, 49795, 7, 3426, 734, 2407, 117, 1030, 3945, 33695, 29647, 10698, 734, 19, 1772, 4, 19, 98, 365, 2112, 66, 527, 49808, 1073, 19, 48, 76, 549]\n",
      "[12756, 147, 9729, 45321, 6936, 49796, 7048, 100, 37384, 43, 1752, 36655, 17808, 49791, 2215, 52, 204, 219, 466, 47750, 7, 26538, 7, 28660, 335, 15192, 40354, 585, 31, 21, 16354, 67, 37439, 19, 36, 11340, 36221, 147, 48, 4815, 26838, 51, 678, 12801, 19, 5271, 26119, 21, 16354, 10563, 18523, 1069, 2997, 266, 7, 299, 102, 6177, 68, 275, 7152, 199, 713, 49796, 16889, 1793, 10, 19, 48, 31, 654, 26573, 20213, 49792, 21, 16354, 102, 29219, 1221, 5196, 7816, 49795, 19, 66, 9010, 4815, 97, 1060, 19377, 19, 98, 48, 440, 2143, 6936, 19, 480, 574, 970, 457, 4815, 6061, 19, 18022, 264, 797, 43240, 12104, 605, 19, 409, 358, 30378, 48, 17343, 4, 4216, 4815, 32591, 1385, 231, 49801, 23535, 357, 32, 43, 9745, 3277]\n",
      "loss\n"
     ]
    },
    {
     "name": "stderr",
     "output_type": "stream",
     "text": [
      "Map: 100%|██████████| 100/100 [00:00<00:00, 5718.60 examples/s]\n"
     ]
    },
    {
     "name": "stdout",
     "output_type": "stream",
     "text": [
      "100\n",
      "[2, 1729, 19, 31, 1640, 4815, 2833, 353, 16027, 965, 19, 5341, 10547, 16221, 4948, 1872, 49795, 382, 31, 16282, 49808, 31133, 912, 97, 417, 29222, 2397, 19, 587, 505, 1044, 40024, 1433, 43, 9724, 320, 4815, 40384, 4280, 26700, 49791, 244, 5036, 97, 31, 4223, 2435, 16221, 49796, 52, 12747, 2316, 3817, 775, 42, 9370, 19, 400, 49808, 3217, 27, 14492, 13390, 7863, 5, 27613, 19, 181, 44884, 346, 19, 36105, 97, 466, 47750, 45355, 19, 279, 7, 734, 284, 19, 602, 13, 7, 14, 7, 40384, 4280, 26700, 49791, 26812, 97, 43, 925, 1355, 16220, 3277, 18250, 168, 3698, 26812, 40384, 1004, 228, 41050, 19, 8183, 1457, 16221, 7815, 43, 1479, 905, 19, 21561, 4, 4, 4, 7172, 124, 7, 144, 7, 17990, 1793, 49792, 19]\n",
      "[19, 12003, 82, 146, 21545, 5, 4815, 27037, 19, 96, 82, 3620, 1809, 49098, 11, 27944, 8183, 27, 19, 48, 10532, 22366, 43, 3534, 2112, 3292, 22742, 12141, 480, 59, 6038, 27199, 36, 59, 19141, 19, 67, 409, 29219, 42, 7351, 400, 49808, 170, 574, 12806, 3309, 48, 737, 195, 4893, 7, 299, 33334, 49796, 42737, 63, 19, 44985, 1292, 5549, 2065, 2149, 52, 13564, 41767, 49795, 19, 9632, 75, 258, 51, 49808, 2706, 19, 252, 13686, 3969, 4815, 97, 16027, 965, 19, 67, 21489, 76, 275, 211, 43240, 103, 19, 48, 102, 610, 29219, 42, 533, 481, 23980, 3095, 103, 49795, 7, 3426, 734, 2407, 117, 1030, 3945, 33695, 29647, 10698, 734, 19, 1772, 102, 4, 98, 365, 2112, 66, 527, 49808, 1073, 19, 48, 76, 549]\n",
      "[12756, 147, 9729, 45321, 6936, 49796, 7048, 100, 37384, 43, 1752, 36655, 17808, 49791, 2215, 52, 204, 219, 466, 47750, 7, 26538, 7, 28660, 335, 15192, 40354, 585, 31, 21, 16354, 67, 37439, 19, 36, 11340, 36221, 147, 48, 4815, 26838, 51, 678, 12801, 19, 5271, 26119, 21, 16354, 10563, 18523, 1069, 2997, 266, 7, 299, 102, 6177, 68, 275, 7152, 199, 713, 49796, 16889, 1793, 10, 19, 48, 31, 654, 26573, 20213, 49792, 21, 16354, 102, 29219, 1221, 5196, 7816, 49795, 19, 66, 9010, 4815, 97, 1060, 19377, 19, 98, 48, 440, 2143, 6936, 19, 480, 574, 970, 457, 4815, 6061, 19, 18022, 264, 797, 43240, 12104, 605, 19, 409, 358, 30378, 48, 17343, 31, 4, 4815, 32591, 1385, 231, 49801, 23535, 357, 32, 43, 9745, 3277]\n",
      "loss\n"
     ]
    },
    {
     "name": "stderr",
     "output_type": "stream",
     "text": [
      "Map: 100%|██████████| 100/100 [00:00<00:00, 5666.06 examples/s]\n"
     ]
    },
    {
     "name": "stdout",
     "output_type": "stream",
     "text": [
      "100\n",
      "[2, 1729, 19, 31, 1640, 4815, 2833, 353, 16027, 965, 19, 5341, 10547, 16221, 4948, 1872, 49795, 382, 31, 16282, 49808, 31133, 912, 97, 417, 29222, 2397, 19, 587, 505, 1044, 40024, 1433, 43, 9724, 320, 4815, 40384, 4280, 26700, 49791, 244, 5036, 97, 31, 4223, 2435, 16221, 49796, 52, 12747, 2316, 3817, 775, 42, 9370, 19, 400, 49808, 3217, 27, 14492, 13390, 7863, 5, 27613, 19, 181, 44884, 346, 19, 36105, 97, 466, 47750, 45355, 19, 279, 7, 734, 284, 19, 602, 13, 7, 14, 7, 40384, 4280, 26700, 49791, 26812, 97, 43, 925, 1355, 16220, 3277, 18250, 168, 3698, 26812, 40384, 1004, 228, 41050, 19, 8183, 1457, 16221, 7815, 43, 1479, 905, 19, 21561, 31339, 4, 4, 7172, 124, 7, 144, 7, 17990, 1793, 49792, 19]\n",
      "[19, 12003, 82, 146, 21545, 5, 4815, 27037, 19, 96, 82, 3620, 1809, 49098, 11, 27944, 8183, 27, 19, 48, 10532, 22366, 43, 3534, 2112, 3292, 22742, 12141, 480, 59, 6038, 27199, 36, 59, 19141, 19, 67, 409, 29219, 42, 7351, 400, 49808, 170, 574, 12806, 3309, 48, 737, 195, 4893, 7, 299, 33334, 49796, 42737, 63, 19, 44985, 1292, 5549, 2065, 2149, 52, 13564, 41767, 49795, 19, 9632, 75, 258, 51, 49808, 2706, 19, 252, 13686, 3969, 4815, 97, 16027, 965, 19, 67, 21489, 76, 275, 211, 43240, 103, 19, 48, 102, 610, 29219, 42, 533, 481, 23980, 3095, 103, 49795, 7, 3426, 734, 2407, 117, 1030, 3945, 33695, 29647, 10698, 734, 19, 1772, 102, 19, 4, 365, 2112, 66, 527, 49808, 1073, 19, 48, 76, 549]\n",
      "[12756, 147, 9729, 45321, 6936, 49796, 7048, 100, 37384, 43, 1752, 36655, 17808, 49791, 2215, 52, 204, 219, 466, 47750, 7, 26538, 7, 28660, 335, 15192, 40354, 585, 31, 21, 16354, 67, 37439, 19, 36, 11340, 36221, 147, 48, 4815, 26838, 51, 678, 12801, 19, 5271, 26119, 21, 16354, 10563, 18523, 1069, 2997, 266, 7, 299, 102, 6177, 68, 275, 7152, 199, 713, 49796, 16889, 1793, 10, 19, 48, 31, 654, 26573, 20213, 49792, 21, 16354, 102, 29219, 1221, 5196, 7816, 49795, 19, 66, 9010, 4815, 97, 1060, 19377, 19, 98, 48, 440, 2143, 6936, 19, 480, 574, 970, 457, 4815, 6061, 19, 18022, 264, 797, 43240, 12104, 605, 19, 409, 358, 30378, 48, 17343, 31, 4216, 4, 32591, 1385, 231, 49801, 23535, 357, 32, 43, 9745, 3277]\n",
      "loss\n"
     ]
    },
    {
     "name": "stderr",
     "output_type": "stream",
     "text": [
      "Map: 100%|██████████| 100/100 [00:00<00:00, 5684.49 examples/s]\n"
     ]
    },
    {
     "name": "stdout",
     "output_type": "stream",
     "text": [
      "100\n",
      "[2, 1729, 19, 31, 1640, 4815, 2833, 353, 16027, 965, 19, 5341, 10547, 16221, 4948, 1872, 49795, 382, 31, 16282, 49808, 31133, 912, 97, 417, 29222, 2397, 19, 587, 505, 1044, 40024, 1433, 43, 9724, 320, 4815, 40384, 4280, 26700, 49791, 244, 5036, 97, 31, 4223, 2435, 16221, 49796, 52, 12747, 2316, 3817, 775, 42, 9370, 19, 400, 49808, 3217, 27, 14492, 13390, 7863, 5, 27613, 19, 181, 44884, 346, 19, 36105, 97, 466, 47750, 45355, 19, 279, 7, 734, 284, 19, 602, 13, 7, 14, 7, 40384, 4280, 26700, 49791, 26812, 97, 43, 925, 1355, 16220, 3277, 18250, 168, 3698, 26812, 40384, 1004, 228, 41050, 19, 8183, 1457, 16221, 7815, 43, 1479, 905, 19, 21561, 31339, 17808, 4, 7172, 124, 7, 144, 7, 17990, 1793, 49792, 19]\n",
      "[19, 12003, 82, 146, 21545, 5, 4815, 27037, 19, 96, 82, 3620, 1809, 49098, 11, 27944, 8183, 27, 19, 48, 10532, 22366, 43, 3534, 2112, 3292, 22742, 12141, 480, 59, 6038, 27199, 36, 59, 19141, 19, 67, 409, 29219, 42, 7351, 400, 49808, 170, 574, 12806, 3309, 48, 737, 195, 4893, 7, 299, 33334, 49796, 42737, 63, 19, 44985, 1292, 5549, 2065, 2149, 52, 13564, 41767, 49795, 19, 9632, 75, 258, 51, 49808, 2706, 19, 252, 13686, 3969, 4815, 97, 16027, 965, 19, 67, 21489, 76, 275, 211, 43240, 103, 19, 48, 102, 610, 29219, 42, 533, 481, 23980, 3095, 103, 49795, 7, 3426, 734, 2407, 117, 1030, 3945, 33695, 29647, 10698, 734, 19, 1772, 102, 19, 98, 4, 2112, 66, 527, 49808, 1073, 19, 48, 76, 549]\n",
      "[12756, 147, 9729, 45321, 6936, 49796, 7048, 100, 37384, 43, 1752, 36655, 17808, 49791, 2215, 52, 204, 219, 466, 47750, 7, 26538, 7, 28660, 335, 15192, 40354, 585, 31, 21, 16354, 67, 37439, 19, 36, 11340, 36221, 147, 48, 4815, 26838, 51, 678, 12801, 19, 5271, 26119, 21, 16354, 10563, 18523, 1069, 2997, 266, 7, 299, 102, 6177, 68, 275, 7152, 199, 713, 49796, 16889, 1793, 10, 19, 48, 31, 654, 26573, 20213, 49792, 21, 16354, 102, 29219, 1221, 5196, 7816, 49795, 19, 66, 9010, 4815, 97, 1060, 19377, 19, 98, 48, 440, 2143, 6936, 19, 480, 574, 970, 457, 4815, 6061, 19, 18022, 264, 797, 43240, 12104, 605, 19, 409, 358, 30378, 48, 17343, 31, 4216, 4815, 4, 1385, 231, 49801, 23535, 357, 32, 43, 9745, 3277]\n",
      "loss\n"
     ]
    },
    {
     "name": "stderr",
     "output_type": "stream",
     "text": [
      "Map: 100%|██████████| 100/100 [00:00<00:00, 5642.36 examples/s]\n"
     ]
    },
    {
     "name": "stdout",
     "output_type": "stream",
     "text": [
      "100\n",
      "[2, 1729, 19, 31, 1640, 4815, 2833, 353, 16027, 965, 19, 5341, 10547, 16221, 4948, 1872, 49795, 382, 31, 16282, 49808, 31133, 912, 97, 417, 29222, 2397, 19, 587, 505, 1044, 40024, 1433, 43, 9724, 320, 4815, 40384, 4280, 26700, 49791, 244, 5036, 97, 31, 4223, 2435, 16221, 49796, 52, 12747, 2316, 3817, 775, 42, 9370, 19, 400, 49808, 3217, 27, 14492, 13390, 7863, 5, 27613, 19, 181, 44884, 346, 19, 36105, 97, 466, 47750, 45355, 19, 279, 7, 734, 284, 19, 602, 13, 7, 14, 7, 40384, 4280, 26700, 49791, 26812, 97, 43, 925, 1355, 16220, 3277, 18250, 168, 3698, 26812, 40384, 1004, 228, 41050, 19, 8183, 1457, 16221, 7815, 43, 1479, 905, 19, 21561, 31339, 17808, 5, 4, 124, 7, 144, 7, 17990, 1793, 49792, 19]\n",
      "[19, 12003, 82, 146, 21545, 5, 4815, 27037, 19, 96, 82, 3620, 1809, 49098, 11, 27944, 8183, 27, 19, 48, 10532, 22366, 43, 3534, 2112, 3292, 22742, 12141, 480, 59, 6038, 27199, 36, 59, 19141, 19, 67, 409, 29219, 42, 7351, 400, 49808, 170, 574, 12806, 3309, 48, 737, 195, 4893, 7, 299, 33334, 49796, 42737, 63, 19, 44985, 1292, 5549, 2065, 2149, 52, 13564, 41767, 49795, 19, 9632, 75, 258, 51, 49808, 2706, 19, 252, 13686, 3969, 4815, 97, 16027, 965, 19, 67, 21489, 76, 275, 211, 43240, 103, 19, 48, 102, 610, 29219, 42, 533, 481, 23980, 3095, 103, 49795, 7, 3426, 734, 2407, 117, 1030, 3945, 33695, 29647, 10698, 734, 19, 1772, 102, 19, 98, 365, 4, 66, 527, 49808, 1073, 19, 48, 76, 549]\n",
      "[12756, 147, 9729, 45321, 6936, 49796, 7048, 100, 37384, 43, 1752, 36655, 17808, 49791, 2215, 52, 204, 219, 466, 47750, 7, 26538, 7, 28660, 335, 15192, 40354, 585, 31, 21, 16354, 67, 37439, 19, 36, 11340, 36221, 147, 48, 4815, 26838, 51, 678, 12801, 19, 5271, 26119, 21, 16354, 10563, 18523, 1069, 2997, 266, 7, 299, 102, 6177, 68, 275, 7152, 199, 713, 49796, 16889, 1793, 10, 19, 48, 31, 654, 26573, 20213, 49792, 21, 16354, 102, 29219, 1221, 5196, 7816, 49795, 19, 66, 9010, 4815, 97, 1060, 19377, 19, 98, 48, 440, 2143, 6936, 19, 480, 574, 970, 457, 4815, 6061, 19, 18022, 264, 797, 43240, 12104, 605, 19, 409, 358, 30378, 48, 17343, 31, 4216, 4815, 32591, 4, 4, 4, 4, 4, 4, 43, 9745, 3277]\n",
      "loss\n"
     ]
    },
    {
     "name": "stderr",
     "output_type": "stream",
     "text": [
      "Map: 100%|██████████| 100/100 [00:00<00:00, 5736.82 examples/s]\n"
     ]
    },
    {
     "name": "stdout",
     "output_type": "stream",
     "text": [
      "100\n",
      "[2, 1729, 19, 31, 1640, 4815, 2833, 353, 16027, 965, 19, 5341, 10547, 16221, 4948, 1872, 49795, 382, 31, 16282, 49808, 31133, 912, 97, 417, 29222, 2397, 19, 587, 505, 1044, 40024, 1433, 43, 9724, 320, 4815, 40384, 4280, 26700, 49791, 244, 5036, 97, 31, 4223, 2435, 16221, 49796, 52, 12747, 2316, 3817, 775, 42, 9370, 19, 400, 49808, 3217, 27, 14492, 13390, 7863, 5, 27613, 19, 181, 44884, 346, 19, 36105, 97, 466, 47750, 45355, 19, 279, 7, 734, 284, 19, 602, 13, 7, 14, 7, 40384, 4280, 26700, 49791, 26812, 97, 43, 925, 1355, 16220, 3277, 18250, 168, 3698, 26812, 40384, 1004, 228, 41050, 19, 8183, 1457, 16221, 7815, 43, 1479, 905, 19, 21561, 31339, 17808, 5, 7172, 4, 7, 144, 7, 17990, 1793, 49792, 19]\n",
      "[19, 12003, 82, 146, 21545, 5, 4815, 27037, 19, 96, 82, 3620, 1809, 49098, 11, 27944, 8183, 27, 19, 48, 10532, 22366, 43, 3534, 2112, 3292, 22742, 12141, 480, 59, 6038, 27199, 36, 59, 19141, 19, 67, 409, 29219, 42, 7351, 400, 49808, 170, 574, 12806, 3309, 48, 737, 195, 4893, 7, 299, 33334, 49796, 42737, 63, 19, 44985, 1292, 5549, 2065, 2149, 52, 13564, 41767, 49795, 19, 9632, 75, 258, 51, 49808, 2706, 19, 252, 13686, 3969, 4815, 97, 16027, 965, 19, 67, 21489, 76, 275, 211, 43240, 103, 19, 48, 102, 610, 29219, 42, 533, 481, 23980, 3095, 103, 49795, 7, 3426, 734, 2407, 117, 1030, 3945, 33695, 29647, 10698, 734, 19, 1772, 102, 19, 98, 365, 2112, 4, 4, 4, 4, 19, 48, 76, 549]\n",
      "[12756, 147, 9729, 45321, 6936, 49796, 7048, 100, 37384, 43, 1752, 36655, 17808, 49791, 2215, 52, 204, 219, 466, 47750, 7, 26538, 7, 28660, 335, 15192, 40354, 585, 31, 21, 16354, 67, 37439, 19, 36, 11340, 36221, 147, 48, 4815, 26838, 51, 678, 12801, 19, 5271, 26119, 21, 16354, 10563, 18523, 1069, 2997, 266, 7, 299, 102, 6177, 68, 275, 7152, 199, 713, 49796, 16889, 1793, 10, 19, 48, 31, 654, 26573, 20213, 49792, 21, 16354, 102, 29219, 1221, 5196, 7816, 49795, 19, 66, 9010, 4815, 97, 1060, 19377, 19, 98, 48, 440, 2143, 6936, 19, 480, 574, 970, 457, 4815, 6061, 19, 18022, 264, 797, 43240, 12104, 605, 19, 409, 358, 30378, 48, 17343, 31, 4216, 4815, 32591, 1385, 4, 4, 4, 4, 4, 43, 9745, 3277]\n",
      "loss\n"
     ]
    },
    {
     "name": "stderr",
     "output_type": "stream",
     "text": [
      "Map: 100%|██████████| 100/100 [00:00<00:00, 5716.02 examples/s]\n"
     ]
    },
    {
     "name": "stdout",
     "output_type": "stream",
     "text": [
      "100\n",
      "[2, 1729, 19, 31, 1640, 4815, 2833, 353, 16027, 965, 19, 5341, 10547, 16221, 4948, 1872, 49795, 382, 31, 16282, 49808, 31133, 912, 97, 417, 29222, 2397, 19, 587, 505, 1044, 40024, 1433, 43, 9724, 320, 4815, 40384, 4280, 26700, 49791, 244, 5036, 97, 31, 4223, 2435, 16221, 49796, 52, 12747, 2316, 3817, 775, 42, 9370, 19, 400, 49808, 3217, 27, 14492, 13390, 7863, 5, 27613, 19, 181, 44884, 346, 19, 36105, 97, 466, 47750, 45355, 19, 279, 7, 734, 284, 19, 602, 13, 7, 14, 7, 40384, 4280, 26700, 49791, 26812, 97, 43, 925, 1355, 16220, 3277, 18250, 168, 3698, 26812, 40384, 1004, 228, 41050, 19, 8183, 1457, 16221, 7815, 43, 1479, 905, 19, 21561, 31339, 17808, 5, 7172, 124, 4, 144, 7, 17990, 1793, 49792, 19]\n",
      "[19, 12003, 82, 146, 21545, 5, 4815, 27037, 19, 96, 82, 3620, 1809, 49098, 11, 27944, 8183, 27, 19, 48, 10532, 22366, 43, 3534, 2112, 3292, 22742, 12141, 480, 59, 6038, 27199, 36, 59, 19141, 19, 67, 409, 29219, 42, 7351, 400, 49808, 170, 574, 12806, 3309, 48, 737, 195, 4893, 7, 299, 33334, 49796, 42737, 63, 19, 44985, 1292, 5549, 2065, 2149, 52, 13564, 41767, 49795, 19, 9632, 75, 258, 51, 49808, 2706, 19, 252, 13686, 3969, 4815, 97, 16027, 965, 19, 67, 21489, 76, 275, 211, 43240, 103, 19, 48, 102, 610, 29219, 42, 533, 481, 23980, 3095, 103, 49795, 7, 3426, 734, 2407, 117, 1030, 3945, 33695, 29647, 10698, 734, 19, 1772, 102, 19, 98, 365, 2112, 66, 4, 4, 4, 19, 48, 76, 549]\n",
      "[12756, 147, 9729, 45321, 6936, 49796, 7048, 100, 37384, 43, 1752, 36655, 17808, 49791, 2215, 52, 204, 219, 466, 47750, 7, 26538, 7, 28660, 335, 15192, 40354, 585, 31, 21, 16354, 67, 37439, 19, 36, 11340, 36221, 147, 48, 4815, 26838, 51, 678, 12801, 19, 5271, 26119, 21, 16354, 10563, 18523, 1069, 2997, 266, 7, 299, 102, 6177, 68, 275, 7152, 199, 713, 49796, 16889, 1793, 10, 19, 48, 31, 654, 26573, 20213, 49792, 21, 16354, 102, 29219, 1221, 5196, 7816, 49795, 19, 66, 9010, 4815, 97, 1060, 19377, 19, 98, 48, 440, 2143, 6936, 19, 480, 574, 970, 457, 4815, 6061, 19, 18022, 264, 797, 43240, 12104, 605, 19, 409, 358, 30378, 48, 17343, 31, 4216, 4815, 32591, 1385, 231, 4, 4, 4, 4, 43, 9745, 3277]\n",
      "loss\n"
     ]
    },
    {
     "name": "stderr",
     "output_type": "stream",
     "text": [
      "Map: 100%|██████████| 100/100 [00:00<00:00, 5683.72 examples/s]\n"
     ]
    },
    {
     "name": "stdout",
     "output_type": "stream",
     "text": [
      "100\n",
      "[2, 1729, 19, 31, 1640, 4815, 2833, 353, 16027, 965, 19, 5341, 10547, 16221, 4948, 1872, 49795, 382, 31, 16282, 49808, 31133, 912, 97, 417, 29222, 2397, 19, 587, 505, 1044, 40024, 1433, 43, 9724, 320, 4815, 40384, 4280, 26700, 49791, 244, 5036, 97, 31, 4223, 2435, 16221, 49796, 52, 12747, 2316, 3817, 775, 42, 9370, 19, 400, 49808, 3217, 27, 14492, 13390, 7863, 5, 27613, 19, 181, 44884, 346, 19, 36105, 97, 466, 47750, 45355, 19, 279, 7, 734, 284, 19, 602, 13, 7, 14, 7, 40384, 4280, 26700, 49791, 26812, 97, 43, 925, 1355, 16220, 3277, 18250, 168, 3698, 26812, 40384, 1004, 228, 41050, 19, 8183, 1457, 16221, 7815, 43, 1479, 905, 19, 21561, 31339, 17808, 5, 7172, 124, 7, 4, 7, 17990, 1793, 49792, 19]\n",
      "[19, 12003, 82, 146, 21545, 5, 4815, 27037, 19, 96, 82, 3620, 1809, 49098, 11, 27944, 8183, 27, 19, 48, 10532, 22366, 43, 3534, 2112, 3292, 22742, 12141, 480, 59, 6038, 27199, 36, 59, 19141, 19, 67, 409, 29219, 42, 7351, 400, 49808, 170, 574, 12806, 3309, 48, 737, 195, 4893, 7, 299, 33334, 49796, 42737, 63, 19, 44985, 1292, 5549, 2065, 2149, 52, 13564, 41767, 49795, 19, 9632, 75, 258, 51, 49808, 2706, 19, 252, 13686, 3969, 4815, 97, 16027, 965, 19, 67, 21489, 76, 275, 211, 43240, 103, 19, 48, 102, 610, 29219, 42, 533, 481, 23980, 3095, 103, 49795, 7, 3426, 734, 2407, 117, 1030, 3945, 33695, 29647, 10698, 734, 19, 1772, 102, 19, 98, 365, 2112, 66, 527, 4, 4, 19, 48, 76, 549]\n",
      "[12756, 147, 9729, 45321, 6936, 49796, 7048, 100, 37384, 43, 1752, 36655, 17808, 49791, 2215, 52, 204, 219, 466, 47750, 7, 26538, 7, 28660, 335, 15192, 40354, 585, 31, 21, 16354, 67, 37439, 19, 36, 11340, 36221, 147, 48, 4815, 26838, 51, 678, 12801, 19, 5271, 26119, 21, 16354, 10563, 18523, 1069, 2997, 266, 7, 299, 102, 6177, 68, 275, 7152, 199, 713, 49796, 16889, 1793, 10, 19, 48, 31, 654, 26573, 20213, 49792, 21, 16354, 102, 29219, 1221, 5196, 7816, 49795, 19, 66, 9010, 4815, 97, 1060, 19377, 19, 98, 48, 440, 2143, 6936, 19, 480, 574, 970, 457, 4815, 6061, 19, 18022, 264, 797, 43240, 12104, 605, 19, 409, 358, 30378, 48, 17343, 31, 4216, 4815, 32591, 1385, 231, 49801, 4, 4, 4, 43, 9745, 3277]\n",
      "loss\n"
     ]
    },
    {
     "name": "stderr",
     "output_type": "stream",
     "text": [
      "Map: 100%|██████████| 100/100 [00:00<00:00, 5662.85 examples/s]\n"
     ]
    },
    {
     "name": "stdout",
     "output_type": "stream",
     "text": [
      "100\n",
      "[2, 1729, 19, 31, 1640, 4815, 2833, 353, 16027, 965, 19, 5341, 10547, 16221, 4948, 1872, 49795, 382, 31, 16282, 49808, 31133, 912, 97, 417, 29222, 2397, 19, 587, 505, 1044, 40024, 1433, 43, 9724, 320, 4815, 40384, 4280, 26700, 49791, 244, 5036, 97, 31, 4223, 2435, 16221, 49796, 52, 12747, 2316, 3817, 775, 42, 9370, 19, 400, 49808, 3217, 27, 14492, 13390, 7863, 5, 27613, 19, 181, 44884, 346, 19, 36105, 97, 466, 47750, 45355, 19, 279, 7, 734, 284, 19, 602, 13, 7, 14, 7, 40384, 4280, 26700, 49791, 26812, 97, 43, 925, 1355, 16220, 3277, 18250, 168, 3698, 26812, 40384, 1004, 228, 41050, 19, 8183, 1457, 16221, 7815, 43, 1479, 905, 19, 21561, 31339, 17808, 5, 7172, 124, 7, 144, 4, 17990, 1793, 49792, 19]\n",
      "[19, 12003, 82, 146, 21545, 5, 4815, 27037, 19, 96, 82, 3620, 1809, 49098, 11, 27944, 8183, 27, 19, 48, 10532, 22366, 43, 3534, 2112, 3292, 22742, 12141, 480, 59, 6038, 27199, 36, 59, 19141, 19, 67, 409, 29219, 42, 7351, 400, 49808, 170, 574, 12806, 3309, 48, 737, 195, 4893, 7, 299, 33334, 49796, 42737, 63, 19, 44985, 1292, 5549, 2065, 2149, 52, 13564, 41767, 49795, 19, 9632, 75, 258, 51, 49808, 2706, 19, 252, 13686, 3969, 4815, 97, 16027, 965, 19, 67, 21489, 76, 275, 211, 43240, 103, 19, 48, 102, 610, 29219, 42, 533, 481, 23980, 3095, 103, 49795, 7, 3426, 734, 2407, 117, 1030, 3945, 33695, 29647, 10698, 734, 19, 1772, 102, 19, 98, 365, 2112, 66, 527, 49808, 4, 19, 48, 76, 549]\n",
      "[12756, 147, 9729, 45321, 6936, 49796, 7048, 100, 37384, 43, 1752, 36655, 17808, 49791, 2215, 52, 204, 219, 466, 47750, 7, 26538, 7, 28660, 335, 15192, 40354, 585, 31, 21, 16354, 67, 37439, 19, 36, 11340, 36221, 147, 48, 4815, 26838, 51, 678, 12801, 19, 5271, 26119, 21, 16354, 10563, 18523, 1069, 2997, 266, 7, 299, 102, 6177, 68, 275, 7152, 199, 713, 49796, 16889, 1793, 10, 19, 48, 31, 654, 26573, 20213, 49792, 21, 16354, 102, 29219, 1221, 5196, 7816, 49795, 19, 66, 9010, 4815, 97, 1060, 19377, 19, 98, 48, 440, 2143, 6936, 19, 480, 574, 970, 457, 4815, 6061, 19, 18022, 264, 797, 43240, 12104, 605, 19, 409, 358, 30378, 48, 17343, 31, 4216, 4815, 32591, 1385, 231, 49801, 23535, 4, 4, 43, 9745, 3277]\n",
      "loss\n"
     ]
    },
    {
     "name": "stderr",
     "output_type": "stream",
     "text": [
      "Map: 100%|██████████| 100/100 [00:00<00:00, 5633.19 examples/s]\n"
     ]
    },
    {
     "name": "stdout",
     "output_type": "stream",
     "text": [
      "100\n",
      "[2, 1729, 19, 31, 1640, 4815, 2833, 353, 16027, 965, 19, 5341, 10547, 16221, 4948, 1872, 49795, 382, 31, 16282, 49808, 31133, 912, 97, 417, 29222, 2397, 19, 587, 505, 1044, 40024, 1433, 43, 9724, 320, 4815, 40384, 4280, 26700, 49791, 244, 5036, 97, 31, 4223, 2435, 16221, 49796, 52, 12747, 2316, 3817, 775, 42, 9370, 19, 400, 49808, 3217, 27, 14492, 13390, 7863, 5, 27613, 19, 181, 44884, 346, 19, 36105, 97, 466, 47750, 45355, 19, 279, 7, 734, 284, 19, 602, 13, 7, 14, 7, 40384, 4280, 26700, 49791, 26812, 97, 43, 925, 1355, 16220, 3277, 18250, 168, 3698, 26812, 40384, 1004, 228, 41050, 19, 8183, 1457, 16221, 7815, 43, 1479, 905, 19, 21561, 31339, 17808, 5, 7172, 124, 7, 144, 7, 4, 4, 4, 19]\n",
      "[19, 12003, 82, 146, 21545, 5, 4815, 27037, 19, 96, 82, 3620, 1809, 49098, 11, 27944, 8183, 27, 19, 48, 10532, 22366, 43, 3534, 2112, 3292, 22742, 12141, 480, 59, 6038, 27199, 36, 59, 19141, 19, 67, 409, 29219, 42, 7351, 400, 49808, 170, 574, 12806, 3309, 48, 737, 195, 4893, 7, 299, 33334, 49796, 42737, 63, 19, 44985, 1292, 5549, 2065, 2149, 52, 13564, 41767, 49795, 19, 9632, 75, 258, 51, 49808, 2706, 19, 252, 13686, 3969, 4815, 97, 16027, 965, 19, 67, 21489, 76, 275, 211, 43240, 103, 19, 48, 102, 610, 29219, 42, 533, 481, 23980, 3095, 103, 49795, 7, 3426, 734, 2407, 117, 1030, 3945, 33695, 29647, 10698, 734, 19, 1772, 102, 19, 98, 365, 2112, 66, 527, 49808, 1073, 4, 48, 76, 549]\n",
      "[12756, 147, 9729, 45321, 6936, 49796, 7048, 100, 37384, 43, 1752, 36655, 17808, 49791, 2215, 52, 204, 219, 466, 47750, 7, 26538, 7, 28660, 335, 15192, 40354, 585, 31, 21, 16354, 67, 37439, 19, 36, 11340, 36221, 147, 48, 4815, 26838, 51, 678, 12801, 19, 5271, 26119, 21, 16354, 10563, 18523, 1069, 2997, 266, 7, 299, 102, 6177, 68, 275, 7152, 199, 713, 49796, 16889, 1793, 10, 19, 48, 31, 654, 26573, 20213, 49792, 21, 16354, 102, 29219, 1221, 5196, 7816, 49795, 19, 66, 9010, 4815, 97, 1060, 19377, 19, 98, 48, 440, 2143, 6936, 19, 480, 574, 970, 457, 4815, 6061, 19, 18022, 264, 797, 43240, 12104, 605, 19, 409, 358, 30378, 48, 17343, 31, 4216, 4815, 32591, 1385, 231, 49801, 23535, 357, 4, 43, 9745, 3277]\n",
      "loss\n"
     ]
    },
    {
     "name": "stderr",
     "output_type": "stream",
     "text": [
      "Map: 100%|██████████| 100/100 [00:00<00:00, 5629.18 examples/s]\n"
     ]
    },
    {
     "name": "stdout",
     "output_type": "stream",
     "text": [
      "100\n",
      "[2, 1729, 19, 31, 1640, 4815, 2833, 353, 16027, 965, 19, 5341, 10547, 16221, 4948, 1872, 49795, 382, 31, 16282, 49808, 31133, 912, 97, 417, 29222, 2397, 19, 587, 505, 1044, 40024, 1433, 43, 9724, 320, 4815, 40384, 4280, 26700, 49791, 244, 5036, 97, 31, 4223, 2435, 16221, 49796, 52, 12747, 2316, 3817, 775, 42, 9370, 19, 400, 49808, 3217, 27, 14492, 13390, 7863, 5, 27613, 19, 181, 44884, 346, 19, 36105, 97, 466, 47750, 45355, 19, 279, 7, 734, 284, 19, 602, 13, 7, 14, 7, 40384, 4280, 26700, 49791, 26812, 97, 43, 925, 1355, 16220, 3277, 18250, 168, 3698, 26812, 40384, 1004, 228, 41050, 19, 8183, 1457, 16221, 7815, 43, 1479, 905, 19, 21561, 31339, 17808, 5, 7172, 124, 7, 144, 7, 17990, 4, 4, 19]\n",
      "[19, 12003, 82, 146, 21545, 5, 4815, 27037, 19, 96, 82, 3620, 1809, 49098, 11, 27944, 8183, 27, 19, 48, 10532, 22366, 43, 3534, 2112, 3292, 22742, 12141, 480, 59, 6038, 27199, 36, 59, 19141, 19, 67, 409, 29219, 42, 7351, 400, 49808, 170, 574, 12806, 3309, 48, 737, 195, 4893, 7, 299, 33334, 49796, 42737, 63, 19, 44985, 1292, 5549, 2065, 2149, 52, 13564, 41767, 49795, 19, 9632, 75, 258, 51, 49808, 2706, 19, 252, 13686, 3969, 4815, 97, 16027, 965, 19, 67, 21489, 76, 275, 211, 43240, 103, 19, 48, 102, 610, 29219, 42, 533, 481, 23980, 3095, 103, 49795, 7, 3426, 734, 2407, 117, 1030, 3945, 33695, 29647, 10698, 734, 19, 1772, 102, 19, 98, 365, 2112, 66, 527, 49808, 1073, 19, 4, 76, 549]\n",
      "[12756, 147, 9729, 45321, 6936, 49796, 7048, 100, 37384, 43, 1752, 36655, 17808, 49791, 2215, 52, 204, 219, 466, 47750, 7, 26538, 7, 28660, 335, 15192, 40354, 585, 31, 21, 16354, 67, 37439, 19, 36, 11340, 36221, 147, 48, 4815, 26838, 51, 678, 12801, 19, 5271, 26119, 21, 16354, 10563, 18523, 1069, 2997, 266, 7, 299, 102, 6177, 68, 275, 7152, 199, 713, 49796, 16889, 1793, 10, 19, 48, 31, 654, 26573, 20213, 49792, 21, 16354, 102, 29219, 1221, 5196, 7816, 49795, 19, 66, 9010, 4815, 97, 1060, 19377, 19, 98, 48, 440, 2143, 6936, 19, 480, 574, 970, 457, 4815, 6061, 19, 18022, 264, 797, 43240, 12104, 605, 19, 409, 358, 30378, 48, 17343, 31, 4216, 4815, 32591, 1385, 231, 49801, 23535, 357, 32, 4, 9745, 3277]\n",
      "loss\n"
     ]
    },
    {
     "name": "stderr",
     "output_type": "stream",
     "text": [
      "Map: 100%|██████████| 100/100 [00:00<00:00, 5703.12 examples/s]\n"
     ]
    },
    {
     "name": "stdout",
     "output_type": "stream",
     "text": [
      "100\n",
      "[2, 1729, 19, 31, 1640, 4815, 2833, 353, 16027, 965, 19, 5341, 10547, 16221, 4948, 1872, 49795, 382, 31, 16282, 49808, 31133, 912, 97, 417, 29222, 2397, 19, 587, 505, 1044, 40024, 1433, 43, 9724, 320, 4815, 40384, 4280, 26700, 49791, 244, 5036, 97, 31, 4223, 2435, 16221, 49796, 52, 12747, 2316, 3817, 775, 42, 9370, 19, 400, 49808, 3217, 27, 14492, 13390, 7863, 5, 27613, 19, 181, 44884, 346, 19, 36105, 97, 466, 47750, 45355, 19, 279, 7, 734, 284, 19, 602, 13, 7, 14, 7, 40384, 4280, 26700, 49791, 26812, 97, 43, 925, 1355, 16220, 3277, 18250, 168, 3698, 26812, 40384, 1004, 228, 41050, 19, 8183, 1457, 16221, 7815, 43, 1479, 905, 19, 21561, 31339, 17808, 5, 7172, 124, 7, 144, 7, 17990, 1793, 4, 19]\n",
      "[19, 12003, 82, 146, 21545, 5, 4815, 27037, 19, 96, 82, 3620, 1809, 49098, 11, 27944, 8183, 27, 19, 48, 10532, 22366, 43, 3534, 2112, 3292, 22742, 12141, 480, 59, 6038, 27199, 36, 59, 19141, 19, 67, 409, 29219, 42, 7351, 400, 49808, 170, 574, 12806, 3309, 48, 737, 195, 4893, 7, 299, 33334, 49796, 42737, 63, 19, 44985, 1292, 5549, 2065, 2149, 52, 13564, 41767, 49795, 19, 9632, 75, 258, 51, 49808, 2706, 19, 252, 13686, 3969, 4815, 97, 16027, 965, 19, 67, 21489, 76, 275, 211, 43240, 103, 19, 48, 102, 610, 29219, 42, 533, 481, 23980, 3095, 103, 49795, 7, 3426, 734, 2407, 117, 1030, 3945, 33695, 29647, 10698, 734, 19, 1772, 102, 19, 98, 365, 2112, 66, 527, 49808, 1073, 19, 48, 4, 549]\n",
      "[12756, 147, 9729, 45321, 6936, 49796, 7048, 100, 37384, 43, 1752, 36655, 17808, 49791, 2215, 52, 204, 219, 466, 47750, 7, 26538, 7, 28660, 335, 15192, 40354, 585, 31, 21, 16354, 67, 37439, 19, 36, 11340, 36221, 147, 48, 4815, 26838, 51, 678, 12801, 19, 5271, 26119, 21, 16354, 10563, 18523, 1069, 2997, 266, 7, 299, 102, 6177, 68, 275, 7152, 199, 713, 49796, 16889, 1793, 10, 19, 48, 31, 654, 26573, 20213, 49792, 21, 16354, 102, 29219, 1221, 5196, 7816, 49795, 19, 66, 9010, 4815, 97, 1060, 19377, 19, 98, 48, 440, 2143, 6936, 19, 480, 574, 970, 457, 4815, 6061, 19, 18022, 264, 797, 43240, 12104, 605, 19, 409, 358, 30378, 48, 17343, 31, 4216, 4815, 32591, 1385, 231, 49801, 23535, 357, 32, 43, 4, 3277]\n",
      "loss\n"
     ]
    },
    {
     "name": "stderr",
     "output_type": "stream",
     "text": [
      "Map: 100%|██████████| 100/100 [00:00<00:00, 5660.48 examples/s]\n"
     ]
    },
    {
     "name": "stdout",
     "output_type": "stream",
     "text": [
      "100\n",
      "[2, 1729, 19, 31, 1640, 4815, 2833, 353, 16027, 965, 19, 5341, 10547, 16221, 4948, 1872, 49795, 382, 31, 16282, 49808, 31133, 912, 97, 417, 29222, 2397, 19, 587, 505, 1044, 40024, 1433, 43, 9724, 320, 4815, 40384, 4280, 26700, 49791, 244, 5036, 97, 31, 4223, 2435, 16221, 49796, 52, 12747, 2316, 3817, 775, 42, 9370, 19, 400, 49808, 3217, 27, 14492, 13390, 7863, 5, 27613, 19, 181, 44884, 346, 19, 36105, 97, 466, 47750, 45355, 19, 279, 7, 734, 284, 19, 602, 13, 7, 14, 7, 40384, 4280, 26700, 49791, 26812, 97, 43, 925, 1355, 16220, 3277, 18250, 168, 3698, 26812, 40384, 1004, 228, 41050, 19, 8183, 1457, 16221, 7815, 43, 1479, 905, 19, 21561, 31339, 17808, 5, 7172, 124, 7, 144, 7, 17990, 1793, 49792, 4]\n",
      "[19, 12003, 82, 146, 21545, 5, 4815, 27037, 19, 96, 82, 3620, 1809, 49098, 11, 27944, 8183, 27, 19, 48, 10532, 22366, 43, 3534, 2112, 3292, 22742, 12141, 480, 59, 6038, 27199, 36, 59, 19141, 19, 67, 409, 29219, 42, 7351, 400, 49808, 170, 574, 12806, 3309, 48, 737, 195, 4893, 7, 299, 33334, 49796, 42737, 63, 19, 44985, 1292, 5549, 2065, 2149, 52, 13564, 41767, 49795, 19, 9632, 75, 258, 51, 49808, 2706, 19, 252, 13686, 3969, 4815, 97, 16027, 965, 19, 67, 21489, 76, 275, 211, 43240, 103, 19, 48, 102, 610, 29219, 42, 533, 481, 23980, 3095, 103, 49795, 7, 3426, 734, 2407, 117, 1030, 3945, 33695, 29647, 10698, 734, 19, 1772, 102, 19, 98, 365, 2112, 66, 527, 49808, 1073, 19, 48, 76, 4]\n",
      "[12756, 147, 9729, 45321, 6936, 49796, 7048, 100, 37384, 43, 1752, 36655, 17808, 49791, 2215, 52, 204, 219, 466, 47750, 7, 26538, 7, 28660, 335, 15192, 40354, 585, 31, 21, 16354, 67, 37439, 19, 36, 11340, 36221, 147, 48, 4815, 26838, 51, 678, 12801, 19, 5271, 26119, 21, 16354, 10563, 18523, 1069, 2997, 266, 7, 299, 102, 6177, 68, 275, 7152, 199, 713, 49796, 16889, 1793, 10, 19, 48, 31, 654, 26573, 20213, 49792, 21, 16354, 102, 29219, 1221, 5196, 7816, 49795, 19, 66, 9010, 4815, 97, 1060, 19377, 19, 98, 48, 440, 2143, 6936, 19, 480, 574, 970, 457, 4815, 6061, 19, 18022, 264, 797, 43240, 12104, 605, 19, 409, 358, 30378, 48, 17343, 31, 4216, 4815, 32591, 1385, 231, 49801, 23535, 357, 32, 43, 9745, 4]\n",
      "loss\n"
     ]
    },
    {
     "data": {
      "text/plain": [
       "tensor(213.2565, device='cuda:0')"
      ]
     },
     "execution_count": 63,
     "metadata": {},
     "output_type": "execute_result"
    }
   ],
   "source": [
    "from datasets import Dataset\n",
    "import numpy as np\n",
    "pll = 0\n",
    "batch_size=64\n",
    "for i in  range(max_length):\n",
    "\n",
    "    losses=[]\n",
    "    eval_dataset_log = Dataset.from_dict(lm_datasets_subset).map(\n",
    "        lambda examples: insert_special_masking_bis(examples,i),\n",
    "        batched=True,\n",
    "        remove_columns= lm_datasets[\"test\"].column_names\n",
    "    )\n",
    "    eval_dataloader = preprocessing.create_dataloader(eval_dataset_log,batch_size,default_data_collator)\n",
    "    for step, batch in enumerate(eval_dataloader):\n",
    "        batch={key: value.to(device) for key, value in batch.items()}\n",
    "        with torch.no_grad():\n",
    "            output=model_hugging_face(**batch)\n",
    "   \n",
    "        loss=output.loss\n",
    "        losses.append(loss.repeat(eval_dataloader.batch_size))\n",
    "\n",
    "   \n",
    "    losses = torch.cat(losses)\n",
    "    print(\"loss\")\n",
    "    #losses = losses[: len(eval_dataloader.dataset)]\n",
    "    pll += torch.mean(losses)\n",
    "\n",
    "pll"
   ]
  },
  {
   "cell_type": "code",
   "execution_count": 75,
   "metadata": {},
   "outputs": [
    {
     "data": {
      "text/plain": [
       "device(type='cuda')"
      ]
     },
     "execution_count": 75,
     "metadata": {},
     "output_type": "execute_result"
    }
   ],
   "source": [
    "device"
   ]
  },
  {
   "cell_type": "code",
   "execution_count": 43,
   "metadata": {},
   "outputs": [
    {
     "name": "stdout",
     "output_type": "stream",
     "text": [
      "[\"Sedan, i kraft af Rikets Regeringsform, lagtima Riksdag sammanträdt här i hufvudstaden den 15 innevarande månad, samt sedan fullmagterna för ledamöterne af Riksdagens Andra Kammare undergått den i $ 32 Riksdags - ordningen föreskrifna granskning, äfvensom inträdestecken ombuden tilldelats, så sammanträdde nu, Fredagen den 18 Januari 1867, kl.'/, 11 f. m. Riksdagens Andra Kammare uti den för dess sammankomster atsedda lokal uti Riksdagens hus å Riddarholmen, dervid Riksdagsmannen för Stockholms stad, Grosshandlanden Herr L. J. Hierta,\", 'såsom varande den bland Kammarens ledamöter, hvilken de flesta riksdagarne bevistat, intog ordförandeplatsen och helsade Kammaren med följande ord : Mine Herrar! Enligt 33 8 i Riksdags - ordningen skall, innan talmän för Kamrarne blifvit utnämnde, ordet i hvardera Kammaren föras af den ledamot, som de flesta riksdagar bevistat och, der två eller flera ledamöter i lika många riksdagar deltagit, af den som är till lefnadsåren äldst. Det är till följd af denna föreskrift, som den äran mig tillfallit, att helsa den Andra Kammarens ledamöter den första gången de', 'äro församlade på grund af den förändring, som inträdt i National - representationens sammansättning. Ett sådant ögonblick i en stats lif är fullt af betydelse. Icke minst för oss, Mine Herrar, innebär det närvarande ett allvar, af lärdomar, om vi kasta blicken tillbaka på det förflutna, af förpligtelser, då vi sända den med våra önskningar in i det obekanta tillkommande. Då för snart sextio år sedan bekymrade fosterländska hjertan, djupt kännande olyckan af den ställning, hvari Sveriges rike hade blifvit bragt genom en enväldig Konungs ovisa sjelfrådighet', ', räddade det från branten af undergång, var det allmänna tänkesättet ense derom, att samhällets bestånd för framtiden icke vore försäkradt utan en styrelseförändring och en grundlag, som skulle lemna utrymme äfven åt folkets vilja att göra sig gällande. Men grundlagens stiftare, 1809 års Konstitutions - Utskott, anmärkte sjelfve, vid föreslåendet af den Regeringsform, som antogs till efterlefnad, att de måste lemna sitt verk ofullbordadt. —\\'+ Fäderneslandets vådor \\', sade de, \" hade icke medgifvit, att till någon', 'fullständighet samla upplyste medborgares tankar om grunderna för Sveriges tillkommande stats - 4 Den 18 Januari. författning. < De erkände bristfälligheten i hvad som föreslogs, och tidens otillräcklighet att afhjelpa densamma, synnerligast hvad Nationalrepresentationen angick. Men de lade på efterkommande Ständers hjertan, att i detta hänseende fullborda hvad de lemnat ogjordt, med uttalande af den grundsatsen, \" att alla Svenska medborgare, utan åtskilnad af stånd, yrken eller lefnadssätt, skulle vara berättigade att deltaga i valet af nationens befullmägtigade för vården at', 'dess lagstiftning, att utöfningen af valrätten skulle endast bero af egenskaperna af bosatt, oberoende och fullmyndig, som anses erforderliga för samhället till borgen för bruket af en sådan rättighet. \" I kännen alle, Mine Herrar, de svårigheter af meningsstrider och farhågor samt andra hinder af många slag, hvilka sedan under mera än ett halft århundrade motverkat uppnåendet af det önskningsmål, som den allmänna meningen, lifvad af fosterlandskänslan, hade uppställt såsom ett uttryck af 1809 års grundlagsstiftares yttersta vilja. Många, äfven bland dem, som med största värma delat önskningarne, ha', '##fva i det längsta betviflat att de skulle upplefva den dag, då detta stora mål kunde på den fria öfvertygelsens väg uppnås. Men tiden, som kan försätta hälleberg, har omsider äfven i denna sak gjort den långsamt mognande öfvertygelsen oemotståndlig. Beviset är, att vi nu befinna oss här församlade såsom Svenska Folkets ombud. Och om intet menskligt arbete är fullkomligt ; om vi icke kunna förneka, att en och annan icke oväsendtlig förändring är önskvärd i den grundlag, enligt hvilken vi äro hitkomne ; så är dock en stor', 'sak redan vunnen deri, att ingen numera utöfvar riksdagsmannakallet på grund af börd eller särskilda privilegier, utan alla i följd af medborgares förtroende till insigter, förstånd och nit för det allmänna bästa. Under en så lofvande begynnelse tror jag mig icke taga miste om Eder gemensamma känsla, om vi, näst en ödmjuk tacksägelse till Den, från hvilken all god gåfva kommer, egna ett uttryck af varm erkänsla i främsta rummet åt Konungen och hans Regering, som tagit initiativet till denna förändring, hvarifrån Sverige skall räkna början af ett nytt tidskifte, och dernäst åt', 'de fordna Riksstånden, som gjort en storsinnad uppoffring af gamla företrädesrättigheter och genom detta afslutande at sim verksamhet beredt sig i häfderna en oförgänglig minnesvård. Vid detta högtidliga tillfälle hägrar tör vår syn hoppet om en ljus framtid, och jag tror mig å allas vägnar kunna säga, att det är förenadt med en innerlig uppfattning af riksdagsmannakallets allvarliga åligganden och med en fast föresats, att den Svenska Riksdagen hädanefter skall vara ett sannt uttryck af det Svenska Folkets tänkesätt och vilja ; att vi vid början at vår bana gifva hvarandra handen uppå', 'att icke glömma, att hvarje Svensk man, utan åtskilnad af stånd, yrke eller lefnadssätt, är en medborgare, som har anspråk på jemnlikhet inför lagen och på möjligheten, så vidt det beror af lagstiftningen, att komma i åtnjutande at alla samhällsodlingens frukter ; att vid beviljandet af allmänna utgifter alltid erinra oss, att medlen dertill i sista hand endast förvärfvas genom arbete af det stora flertal, som måste äta sitt bröd i sitt anletes svett och hvars dagliga uppgift är att vänja sig vid försakelser ; att hos denna Representation icke skall framträda någon', 'böjelse att sätta enskilda fördelar framför det Den 18 Januari. 5 allmännas ; samt att vi skola såsom allmän regel visa oss i sann mening tänka högt om fosterlandet för bevarandet af dess sjelfständighet och för det unga slägtets uppfostran, medan vi tillika, på grund af vår historias lärdomar om förflutna tiders misstag, bedja Gud, att i alla tillgöranden, så väl rörande yttre som inre angelägenheter, städse bevara oss för vådorna af skryt, högfärd, lystnad och öfverdåd, hvilka mer än en gång under fordna mansåldrar varit hufvudors', '##akerna till fosterlandets olyckor och förluster. Med dessa föresatser, med det bistånd af likstämmiga tänkesätt, som denna församling vågar påräkna hos Rikets Första Kammare, och alltid ihågkommande att menniskans vilja förmår mycket, blott den allvar är, böra vi kunna emotse en lyckosam framtid för det Svenska folket. Vi böra kunna hoppas, att, såsom en frukt af denna och efterföljande riksdagars verksamhet, det ädla valspråket : Land skall med lag byggas alltid skall få sin rätta och skönaste tolkning i visa och milda lagar ; att Rätt och Samning skall blifva den enda ledstjernan för statsmag', '##ternas handlingar ; att Folkets kärlek skall utgöra en god och fridsäll Styrelses belöning, och att hos kommande slägten skall lefva såsom minnesvärd den dag, då 1867 års riksdag sammanträdde för sina rådslag. Jag slutar, Mine Herrar, med att uttala denna vår gemensamma bön : Gud bevare Konungen och beskydde Fäderneslandet! & 1. Herr Ordföranden tillkännagaf, det han anmodat e. o. Kanslisten i Kongl. Ecklesiastik - departementet C. Sandström och Kanslisten i Sundhets - kollegium K. H. Sahlström, hvilka under föregående riksdagar bestridt notarie', \"##befattning, den förstnämnde hos Borgareoch den sistnämnde hos Bonde - Ståndet, att tills vidare och intill dess Sekreterare och öfrig kanslipersonal antagits, ombesörja protokollsföringen hos Andra Kammaren ; Och blef, i enlighet med Herr Ordförandens derom nu gjorda framställning, denna hans åtgärd af Kammaren nu gillad och fastställd. § 2. Till ledamöter i den deputation, som skulle hos Kongl. Maj : t i underdånighet begära'Talman och vice Talman, utsågos nu Herrar von Troil, Sundberg, Mannerskantz, Matts Persson, Westblad, Voug\", '##t, Johannes Andersson, Sandstedt, Medin, Hellerström, de Maré, Indebetou, Ödmansson, Per Nilsson i Espö, Bälter Sven Ersson, Wijk, Liljenmark, Stendahl, Friherre Fock, Svanberg, Swartz och Berger. Vid inträdestecknens utdelande hade H. Exc. Herr Justitie - Statsministern tillställt Ordföranden : 1 : o Följande, nu upplästa Utdrag af Protokollet, hållet inför H. Exc. Herr Justitie - Statsministern vid lagtima riksdagen i Stockholm den 16 Januari 1867. 5. D. För granskning af de', 'riksdagsmannafullmagter, hvilka nästlidna dag blifvit af Andra Kammarens Ledamöter till H. Exc. Herr Justitie - Statsministern aflemnade, hade Hans Excellens bestämt denna dag ö Den 18 Januari. samt, till följd af stadgandet i 32 $ Riksdags - ordningen, anmodat tre bland fullmägtige i Rikets Bank och tre bland fullmägtige 1 Riksgälds - kontoret att vid denna granskning närvara ; Och infunno sig nu, å dertill anvisadt rum inom Kongl. Slottet, af fullmägtige i Banken : Herrar Professor', \"##en m. m. N. H. Selander, Grosshandlanden L. J. Hierta och Anders Wilhelm Uhr från Örebro län, samt af fullmägtige i Riksgälds - kontoret : Herrar f. d. Statsrådet m. m. Grefve Henning Hamilton, Majoren M. C. Wolffelt och Bruksegaren A. A. Berger.. Såsom riksdagsmän rör Ramsele och Sollefteå'Tingslagers valdistrikt af Ångermanlands Södra domsaga hade anmält sig såväl Hemmansegaren Henrik Hansson i Klofsta, som Landthandlanden Per Engman i Näsåker, begge med\", 'företeende af fullmagter, utvisande att de blifvit valde till ledamöter af Andra Kammaren för nämnda valdistrikt, Henrik Hansson den 30 Augusti och Engman den 30 November sistlidne år. Med anledning häraf upplyste Hans Excellens, det han af tillgängliga handlingar inhemtat, att sedan Kongl. Maj : ts Befallningshafvande i Wester - Norrlands län, uppå anförda besvär öfver förstnämnda den 30 Augusti sistlidne år hållna riksdagsmannaval genom utslag den 16 derpåföljde Oktober, med undanrödjande af samma val visat ärendet åter till vederbörande domhafvande med', 'anmodan att nytt val för valkretsen ofördröjligen anställa, och sådant val den 30 November blifvit förrättadt, så hade den 8 påföljande December till Kongl. Maj : t ställda underdåniga besvär öfver Kongl. Maj : ts Befallningshafvandes berörda utslag blifvit till Kongl. Maj : ts Befallningshafvande ingifna : att efter det dessa underdåniga besvär blifvit till Kongl. Maj : t insända, Kongl. Maj : t medelst remiss den 17 December anbefallt Kongl. Maj : ts Befallningshaf', '##vande att öfver samma besvär infordra vederbörandes underdåniga förklaring och dermed, jemte de remitterade handlingarne, till Kongl. Maj : t inkomma, samt att Kongl. Maj : ts Befallningshafvande derefter genom utfärdad kungörelse den 27 December förständigat vederbörande att de egde å Landskansliet i Hernösand ingifva underdåniga förklaringar öfver besvären sednast den 12 innevarande Januari månad, med underrättelse derjemte, att med pröfningen af den klagan, som blifvit hos Kongl. Maj : ts Befallningshaf', '##vande förd öfver det sednare valet, komme att anstå, i afbidan å Kongl. Maj : ts Nådiga beslut i anledning af förutnämnda underdåniga besvär. Då således det val, på grund hvaraf den utaf Henrik Hansson företedda fullmagten blifvit utfärdad, är vordet genom Kongl. Maj : ts Befallningshafvandes beslut upphäfdt ; så och ehuru underdånig klagan öfver detta beslut blifvit hos Kongl. Maj : t fullföljd, ansågs nämnda fullmagt likväl icke kunna för närvarande godkännas ; hvare', '##mot och då den valförrättning, som föranledt utfärdandet af fullmagten för Engman, icke blifvit af vederbörande myndighet till sin verkan undanröjd, berörda fullmagt, mot hvilken eljest icke någon anledning till anmärkning förekommit, ansågs böra, utan hinder deraf att besvär öfver förrättningen anförts och vore på pröfning beroende, tillsvidare såsom giltig antagas ; Kammarens pröfningsrätt dock, så i det ena, som det andra fallet, densamma förbehållen. Uti flera bland de i öfrigt företedda fullmagterna förekommo åtskilliga skiljaktigheter och afvikelser från det i 20', '8 af Riksdags - ordningen Den 18 Januari, 7 föreskrifna formulär, såsom att i några fullmagter tiden för riksdagsmannauppdragets fortvaro förmälts skola beräknas från den 1 Januari innevarande år, 1 stället för från och med nämnda dag, att i en del fullmagter de i officiela handlingar antagna benämningarne å vissa domsagor och valkretsar ej blifvit med fullkomlig trohet och fullständighet återgifna ; att i en fullmagt blifvit tillagdt ett tillkännagifvande, att anförda besvär öfver det val, hvarå fullmagten sig grundade, blifvit', 'ogillade, samt att jemväl för öfrigt i åtskilliga fullmagter ett eller annat ord blifvit antingen tillagdt eller uteslutet eller mot ett motsvarande utbytt ; men då samtliga dessa afvikelser icke syntes vara af beskaffenhet att derigenom meningen förändrades eller otydlighet föranleddes, ansågos berörda fullmagter i likhet med öfriga, mot hvilka anmärkning ej förekommit, böra godkännas. För Westbo härads valkrets af Östbo och Westbo häraders domsaga, Mellansysslets domsaga, Ås och Gäseneds häraders domsaga, Thorstuna m. fl. häradersdomsaga samt Södra Jemtlands domsaga', 'hade icke någon riksdagsman sig inställt ; och tillkännagaf Hans Excellens dels att, enligt af honom inhemtad underrättelse, de i sistnämnda 3 domsagor hållna riksdagsmannaval blifvit upphäfda, valet i Ås och Gäseneds häraders domsaga genom Kongl. Maj : ts Utslag den 3 December sistlidne år samt valen i Thorstunå m. fl. häraders domsaga och Jemtlands Södra domsaga genom Kongl. Maj : ts Befallningshafvandes i Westmanlands och Jemtlands 1 än Utslag den 17 Oktober och den 29 September samma år, emot hvilka två', 'sednare Utslag, såvidt de anginge valens ogillande, klagan blifvit hos Kongl. Maj : t fullföljd, dels ock att Kongl. Maj : ts Befallningshafvande i Wermlands län anmält att, sedan offentlig stämning blifvit utfärdad å den för Mellansysslets domsaga utsedde riksdagsmannens samtlige borgenärer, Kongl. Maj : ts Befallningsbafvande förordnat om anställande af nytt val till riksdagsman för domsagan, hvilket val blifvit utsatt att hållas den 19 innevarande månad. Hvad sålunda förekommit skulle Andra Kammaren genom utdrag af', 'protokollet meddelas, hvarjemte förteckning skulle till Kammaren öfverlemnas å dess nu anmälda ledamöter, samt fullmagterna till dem återställas. In fidem F. F. Huss. som lades till handlingarne ; och 2 : 0 här nedan intagna Förteckning å ledamöterne af Riksdagens Andra Kammare år 1867. Stockholms stad. Kommendör - kapitenen m. m. A. Adlersparre. Grosshandlanden L. J. Hierta. Professoren m. m. Friherre A. H. E. Fock. f. d. Statsrådet m. m. Friherre J', '. A. Gripenstedt. Kammarrättsrådet m. m. C. L. Kinmanson. Folkskole - inspektören m. m. OC. J. Meijerberg. SIR ONA Den 18 Januari. 8 7. Rektorn m. m. J. O. Leffler. 8. Kommerserådet m. m. J. Sjöberg. 9. Spegelfabrikören C. T. Svanberg. 10. Fabriksidkaren m. m. G. H. Stråle. 11. f. d. vice Auditören A. T. Blanche. 12. f. d. Kammarherren', 'Friherre J. Liljencrantz. 13. Sockerbagaren OC. J. Grafström. Stockholms län. Frösåkers, Närdinghundra samt Wäddö och Häfverö domsaga : 14. Hemmansegaren Per Persson i Barkö. Sjuhundra, Lyhundra, Frötuna och Länna samt Bro och Wätö domsaga : 15. Hemmansegaren Matts Persson 1 Oster Edsvik. Färentuna, Sollentuna, Danderyds, Akers och Wermdö domsaga : 16. Arrendatorn J. Wener. - Erlinghundra, Semminghundra, Långhundra och Wallentona domsaga : 17.', 'Expeditions - kr onofogden L. Öhlin. Södertörns domsage 18. f d Rektorn m. m. P. A. Siljeström. Södertelje, Norrtelje, Waxholm, Öregrund, Östhammar och Sigtuna : 19. Postmästaren J. Borg. Upsala län. Norra domsagan : 20. Häradshötdingen L. E. Westblad. Södra domsagan : 21. Hemmansegaren Joh. Fredr. Fredriksson i Eklunda. Mellersta domsagan : 22. LDLandtbrukaren A. Lindevall. Upsala : 23. Professoren m. m. S.', 'Ribbing. Södermanlands län. Jönåkers, Rönö och Hölebo härader : 24. Bruksegaren E. M. Sederholm. ND Oppunda och Willåttinge härader : 25. Bruksegaren m. m. OC. G. Indebetou. Österoch Wester - Rekarne härader : 26. Bruksegaren R. Arfvedson. Selebo, Åkers och Daga härader : 27. Godsegaren C. A. V. Kallstenius. Nyköping, Thorshälla, Mariefred och Trosa : 28. Kamereraren J. H. Vougt', '. 30. 3l. 32. 30. Den 18 Januari. 2 Eskilstuna och Strergnäs : Fabriksidkaren S. Palmgren. Östergötlands län. Kinda och, Ydre domsaga : vice Häradshöfdingen J. A. Astrand. Björkekinds, Östkinds, Lösings, Bråbo och Memmings domsaga : Godsegaren C. J. L. Lönnberg. Lysings och Göstrings domsaga : Landtbrukaren Anders August Andersson i Westanå. Åkerbo, Bankekinds och Hanekinds domsaga : ft. d. Premier - löjtnant', '##en Friherre I. Koskull. Wifolka, Walkebo och Gullbergs domsaga : Hemmansegaren Carl Anders Larsson i Maspelösa. Risinge samt Hällestads och Tjellmo domsaga : Häradshöfdingen A. Reutercrona. Aska, Dals och Bobergs domsaga : Hemmansegaren Jonas Andersson i Häckanäs. Skärkinds och Hammarkinds häraders med Stegeborgs skärgårds domsaga : 37. 38. 39. 40. 41. Landtbrukaren Sven Hansson i Torp. Linköping : Boktryckaren, f. d. Löjtnanten C.', 'F. Ridderstad. Norrköping : Fabriksidkaren J. Sääf. Fabriksidkaren J. E. Swartz. Wadstena, Söderköping, Skenninge och Grenna : Borgmästaren m. m. P. Blidberg. Jönköpings län. Westra härads domsaga : Hemmansegaren Anders Johan Sandstedt i Knäfvelsby. Östra härads domsaga : Hemmansegaren Daniel Danielsson i Nyabyberg. Östbo härad : Folkskolläraren A. W. Wigardt. Westbo härad : Tveta, Wista och Mo domsaga : Kronolänsmannen CO. Orre. Norra och Södra Wedbo domsaga : Johan', 'Eriksson från Skälsnäs. 10 48. 60. 61. 62. 63. 64. Den 18 Januari. Jönköping : Hofrättsrådet m. m. J. A. Lemchen. Kronobergs läm. Uppvidinge härad : Hemmansegaren Jonas Jonasson i Rasslebygd. Konga härad : f. d. Löjtnanten J. F. Kjellson. Kinnevalds och Norrvidinge härader : Orgelnisten Peter Petersson i Ugglekull. Allbo härad : Hemmansegaren, Fullmägtigen i Riksgälds - kontoret Anders Medin i Taxås. Sunnerbo domsagas', 'östra valkrets : Hemmansegaren Carl Isak Bengtsson i Össlöf Nästagård. Sunnerbo domsagas vestra valkrets : Hemmansegaren Jöns Persson i Kråkeryd Södregård. Wexiö, Eksjö och Wimmerby : Apothekaren B. F. Ekerot. Calmar län. Norra Tjusts härad : Bruksegaren G. de Maré. Södra Tjusts härad : Godsegaren E. Key. Aspelands och Handbörds domsaga : Landtbrukaren Ö. J. Svensén. Sefvedes och Tunaläns domsaga : Underlöjtnanten 0', '. Hedenberg. Norra Möre och Stranda domsaga : Hemmansegaren Johan Olsson i Bårstad. Södra Möre domsagas vestra valkrets : Hemmansegaren Jonas Jonasson i Gullaboås. Södra Möre domsagas östra valkrets : f. d. Kapitenen m. m. C. A. Mannerskantz. Ölands domsaga : Landtbrukaren E. J. Rudberg. Calmar : f. d. Rektorn 0. E. L. Dahm. Westervik och Oscarshamn : Handlanden C. F. Carlsson. 81. 82. 83. Den 18 Januari. 11', 'Gotlands län. Södra domsagan : Postexpeditören O. Lagergren Oxarfve. Norra domsagan : Arrendatorn G. Kolmodin. Wisby : Lektorn C. J. Bergman. Blekinge län. Listers domsaga : Hemmansegaren Ola Månsson 1 Jemshög. Bräkne domsaga : Garfverifabrikören J. Sjögren. Östra domsaga : Hemmansegaren Petter Andersson 1 Säby. Medelstads domsaga : vice Häradshöfdingen 0. F. Brunberg. Carlskrona : Kapitenlöjtnanten m. m. G. C. Witt. Carlshamn och', 'Sölvesborg : Grosshandlanden S. A. Hellerström. Christianstads län. Ingelstads och Jerrestads domsaga : Hemmansegaren Ola Lasson i Hofby. Willands härad : Hemmansegaren Sven Nilsson i Österslöf. Östra Göinge härad : Hemmansegaren Per Nilsson i Östra Kulhult. Gerts och Albo domsaga : Hemmansegaren Anders Persson i Wä. Westra Göinge domsaga : Hemmansegaren Ola Bosson Olsson i Maglehult. Norra Åsbo härad : Klockaren S. P. Rosenberg. Bjäre och Södra Åsbo härader : Hemmans', '##egaren Ola Nilsson i Rebbelberga. Christianstad och Cimbrishamn : Hofrätts - assessoren P. A. Bergström. Malmöhus län. Skytts och Oxie domsaga : Hemmansegaren Åke Andersson i Mellanköpinge. 88. 89. 90. 99. 100. 101. Den 18 Januari. Färs härad : Kronofogden m. m. N. A. Witthoft. Frosta härad : Hemmansegaren Nils Nilsson i Östra Espinge. Harjagers och Rönnebergs härader : Hemmansegaren Per Johnsson i Remmarlöfsgård. Onsjö härad : Hemmansegaren', 'Anders Nilsson i Tekumatorp. Luggude domsaga : Hemmansegaren Ola Jönsson i Kungshult. Bara härad : Hemmansegaren Jöns Olsson i Nordanå. Torna härad :. Godsegaren m. m. Grefve R. De la Gardie. Herrestads och Ljunits härader : Godsegaren m. m. Grefve A. R. Fr : son Posse. Wemmenhögs härad : Hemmansegaren Per Nilsson 1 Espö. Malmö : Handlanden C. J. Kock. | Landshöfdingen m. m. S. G', '. von Troil. Lund : Professorn m. m. J. G. Agardh. Landskrona : Borgmästaren m. m. J. Odmansson. Helsingborg och Engelholm : vice Konsuln m. m. C. J. F. Rooth. | Ystad, Skanör och Falsterbo : Borgmästaren m. m. S. Trägårdh. Hallands län. Halmstads och Tönnersjö härader : Prosten och Kyrkoherden L. O. Stendahl. Höks härad : Hemmansegaren Carl Ifvarsson i Wärestorp. Faurås och Årstads härader : Hemmans', '##egaren Anders Gudmundsson i Berte. Himble härad : Hemmansegaren Anders Persson i Tofta. Fjäre och Wiske domsaga : Landtbrukaren M. G. Wallén. 104. 108. 109. 110. 111. 112. 113. 114. 115. 116, Den 18 Januari. 13 Halmstad, Warberg, Laholm, Falkenberg och Kongsbacka : Landshöfdingen m. m. Friherre C. J. O. Alströmer. Göteborgs och Bohus län. Hisings och Askims domsaga : Orgelnisten Jöns Rundbäck i Asmundtorp. Inlands domsaga :', \"Hemmansegaren Anders Andersson i Intagan. Orousts och Tjörns domsaga : Hemmansegaren Johan Henriksson i Kolbuxeröd. Norrvikens domsaga : Kommissions - landtmätaren R. T. C. Busck. as Lane och Stångenäs härader : Häradshöfdingen A. M. Rosenqvist.'Tunge ; Sotenäs och Sörbygdens härader : Kapitenen m. m. A. von Proschwitz. Säfvedals domsaga : Rektorn C. F. Winkrans. Göteborg : Rådmannen m. m. A. W\", '. Björck. Handlanden J. Lindström. Grosshandlanden OM Wijk. Boktryckaren S. A. Hedlund. Uddevalla, Strömstad, Marstrand och Kongelf : Rektorn G. E. Widell. Elfsborgs län. Marks härad : Färgerifabrikören E. Andersson i Bastarås. Wedens och Bollebygds härader : Hemmansegaren Carl Larsson i Apelnäs. Wäne, Flundre och Bjerke domsaga : Kapitenen J. Ericson. Kinds härad : vice Häradshöfdingen m. m. W. OC. Olivecreutz. Red', '##vägs härad : Landtbrukaren 0. P. Rylander. Kullings, Ale och Wettle domsaga : Häradshöfdingen m. m. B. W. Hessle. Ås och Gäseneds domsaga : Sundals härad : Hemmansegaren Daniel Isaksson i Nygården, Oo Oo 134. 135. 136. 138. 139. 140. 141. 142. 143. Den 18 Januari. Walbo och Nordals härader : Landtbrukaren G. von Proschwitz. Wedbo och Tössbo domsaga : Bruksegaren A. W. Chenon. Wenersborg', 'och Åmål : Fabrikören A. J. Landström. Borås, Alingsås och Ulricehamn : Rektorn A. G. Hollander. Skaraborgs län. Åse och Wiste, Barne och Laske domsaga : Magnus Svensson i Torpa. Kållands, Kinne och Kinnefjerdings domsaga : Landtbrukaren A. Rydberg. Skånings, Wilske och Walle domsaga : Godsegaren Friherre H. Gyllenhaal. Kåkinds och Gudhems domsaga : Kyrkoherden m. m. J. Otterström. Wartofta och Frökinds domsaga : Hemmansegaren, Fullmägtigen i', 'Riksgälds - kontoret, Gustaf Bjerkander i Brismetorp. Norra Wadsbo domsaga : Landtbrukaren A. Sköldberg. Södra Wadsbo domsaga : Landtbrukaren Victor Rehnström. Mariestad, Skara och Sköfde : Auditören A. Grenander. Lidköping, Falköping och Hjo : Rektorn A. W. Nilsson. Wermlands län. Wisnums, Wäse och Ölme härader : Bruksegaren A. A. Berger. Fernebo härad : Bruksegaren E. J. Jansson. Mellansysslets domsaga : Gillbergs och Näs härader : Hemmansega', '##ren Anders Andersson 1 Smedbyn. Nordmarks härad : Hemmansegaren Anders Jonsson i Sundsbyn. Fryksdals öfre tingslag : Hemmansegaren Arvid Jönsson i Östmark. 147. 148. 149. 150. 151. 152. Den 18 Januari, 15 | Fryksdals nedre tinslag : Hemmansegaren Nils Andersson i Bäfvik. Jösse domsaga : Hemmansegaren Olof Olsson i Olebyn. Elfdals och Nyeds domsaga : Häradshöfdingen A. M. Myrtin. Carlstad och Filipstad : Biskopen m. m. Doktor A. N. Sundberg. Christinehamn', ', Askersund, Nora och Lindesberg : Rektorn J. J. Magnell. Örebro län. Edsbergs, Lekebergs, Grimstens och Hardemo härader : Godsegaren O. G. Hedengren. Kumla och Sundbo härader : Hemmansegaren Erik Olsson i Sånnersta. Örebro och Glanshammars härader : Hemmansegaren Per Nilsson i Råby. Sköllersta och Askers härader : Hemmansegaren, Fullmägtigen i Riksbanken, Anders Wilhelm Uhr i Svenstorp. Lindes domsaga : Bruksegaren H. M. Ericsson. Nora domsaga : F.', 'd. Talmannen Anders Eriksson i Östra Kärne. Örebro : Kontraktsprosten m. m. Doktor G. W. Gumeelius. Westmanlands län. Snefringe, Siende, Tuhundra och Ytter - Tjurbo domsaga : Hemmansegaren Lars Persson i Hjulsta. Åkerbo och Skinskattebergs domsaga : Godsegaren, Friherre D. von Schulzenheim. Gamla Norbergs, Norrbo och Wagnsbro domsaga : F. d. Landshöfdingen m. m. Friherre H. S. K. Akerhjelm. Thorstuna, Simtuna, Ö', '##fver - Tjurbo och Wåla domsaga : > t DHD Westerås, Köping och Enköping : Konrektorn D. Olausson. Sala och Arboga : Borgmästaren J. A. Bovin. 16 Den 18 Januari. Kopparbergs län. Mora, Sophia Magdalena och Wenjans, Orsa, Elfdals samt Särna och Idre tingslager : 162. Hemmansegaren Bälter Sven Ersson i Östnor. Leksands, Åls och Bjursås, Rättviks och Ore samt Gagnefs tingslager : 163. Hemmansegaren Liss Olof Larsson i Westannor. Hedemora domsaga : 164. Hemmansegaren', 'Jan Andersson i Jönvik. Falu domsaga : 165. Kyrkoherden CO. Liljenmark. Grangärdes, Norrbärkes och Söderbärkes tingslager : 166. Bruksegaren m. m. F. V. Aman. Malungs, Lima och Äppelbo samt Nås, Järna och Floda tingslager : 167. Handlanden E. Dofsén. Falun, Hedemora och Säter : 168. Grufveläkaren, Doktor V. M. Beronius. Gefleborys län. Ofvansjö, Thorsåkers och Årsunda samt Hedesunda och | Öster - Fernebo tingslager : 169. Bruk', \"##segaren m. m. B. Benedicks. Ugglebo och Hamrånge samt Hille och Walbo tingslager : 170. Hemmansegaren Jon Jonsson i Mo. Norra Helsinglands domsaga : 171. Hemmansegaren Per Eriksson 1 Wik. Westra Helsinglands domsaga : 172. Hemmansegaren, Fullmägtigen i Riksbanken, Erik Ersson i Wallsta. Södra Helsinglands domsaga : 173. Hemmansegaren Per Persson i Höle. Gefle :'174. Grosshandlanden m. m. P. Murén. Söderhamn och Hudiksvall : 175. Häradshöfdingen\", 'P. Staaf. Wester - Norrlands län. Torps, Tuna och Njurunda tingslager : 176. Hofpredikanten P. Lithner. | Ljustorps, Sjöns, Indals och Selångers tingslager : 177. Hemmansegaren Per Ulrik Ljuslin i Högom. Boteå, Säbrå, Nora och Gudmundrå tingslager : 178. Hemmansegaren Per Östman i Ry. Sollefteå Den 18 Januari. 17 Sollefteå och Ramsele tingslager : 179. Landthandlanden Per Engman. | Norra Ångermanlands domsaga : 180. Hemmansegaren Per Olof Hörnfteldt', 'i Hörnäs. Hernösand, Umeå, Luleå och Piteå : 181. Rådmannen G. P. Rönblad. Sundsvall och Östersund : 182. Borgmästaren M. Ahlgren. Jemtlands län. Norra Jemtlands domsaga : 183. f. d. Talmannen m. m. Nils Larson i Tullus. Södra Jemtlands domsaga : 184. Westerbottens län. Umeå tingslag : 185. Hemmansegaren Olof Nilsson i Brattby. Nordmalings och Bjurholms, Degerfors, Åsele och Lycksele tingslager : 186. Verksdelegaren G. E. Häggström. Norra domsagan : 187', '. Rektorn C. Ocklind. Mellersta domsagan : 183. Hemmansegaren Leonard J. Fahlander i Bäck. Norrbottens län. Södra domsagan : 189. Hemmansegaren August Danielsson i Långnäs. Norra domsagan : 190. Kollegan Z. Grape. Angående tryckning af ett visst antal exemplar af denna förteckning ville Kammaren framdeles fatta beslut. 8 - 4.. Herr Ordföranden uppläste en från Kongl. Maj : ts tjenstförrättande Ofverste - kammarherre. ankommen skrifvelse, deruti Riksdagens Andra Kammare underrättas, att denna dag klockan ett', 'på dagen ankomma till Kammarens samlingsrum två Konungens Öfverste - kammarjunkare, för att bjuda Kammarens ledamöter att följande dag bevista gudstjensten i Storkyrkan och derefter infinna sig i Rikssalen ; hvarjemte tillkännagafs, att nittio biljetter till Storkyrkan och Rikssalen blifvit öfversända till disposition af Andra Kammarens ledamöter, hvilka biljetter, efter skedd anteckning, nu jemväl i mån af tillgången till ledamöterne utdelades. RBiksd. Prot. 1867. 2 Afd, 2 Den 18 Januari. Gu V 8 5. Den dep', '##utation, som jemlikt 8 3 af detta protokoll blifvit utsedd för att hos Kongl. Maj : t i underdånighet begära talmän, och för någon stund sedan afgått till Kongl. slottet, återkom nu, dervid Landshöfdingen m. m. Herr 8. G. von Troil, som anfört deputationen, tillkännagaf, att Kongl. Maj : t till Talman i Andra Kammaren vid denna riksdag i nåder utnämnt och förordnat Biskopen i Carlstads Stift Kommendören K. N. O. Doktor A. N. Sundberg samt till', 'vice Talman f. d. Kapitenen Kommendören K. N. 0. C. A. Mannerskantz, hvilka hvar för sig, i deputerades närvaro, inför Konungen aflagt den ed 33 $ - Riksdags - ordningen föreskrifver. Herr Ordföranden yttrade härefter : Till följd af den utaf Herrar Deputerade, genom deras Ordförande, nu gjorda anmälan öfverlemnar jag nu ordförandeplatsen åt den af Konungen utsedde Talmannen ; och Herr Doktorns och Biskopens från fordna riksdagar kända stora förmåga och skicklighet är en borgen derför, att talmansklubban kommer att', 'föras med säker hand och med den oväld, som Kammaren kan önska till förmån för såväl sig sjelf som fäderneslandet.? Herr Talmannen intog derefter talmansplatsen och helsade derefter Kammaren med följande ord : Mine Herrar! Sannolikt är det för många bland Eder oväntadt att se en prest intaga talmansstolen i Riksdagens Andra Kammare. Det sker också icke efter min egen önskan. Jag har lika litet eftersträfvat detta höga och ansvarsfulla förtroende, som jag sökt sjelfva riksdagsmannakallets hedrande uppdrag. Men då vahnännen inom den krets jag tillhör lemnat mig det', 'sednare, och Kongl. Maj : t sedermera behagat förläna mig det förra, har jag ej haft giltiga skäl att undandraga mig någotdera. Det är nemligen min öfvertygelse, att hvarje Svensk medborgare, i hvilken samhällsställning han än må befinna sig, är skyldig att gå dit han kallas, så snart kallelsen för honom innebär en uppmaning att, på den plats honom anvisas, efter bästa förstånd bidraga till fäderneslandets gagn. Då I, Mine Herrar, utan tvitvel alla hafven samma öfvertygelse, vågar jag hoppas, att af Eder', 'blifva emottagen med den välvilja, som en ärlig afsigt förtjenar, och att derjemte få påräkna det öfverseende, som jag säkert vid många tillfällen nödgas taga i anspråk. Jag behöfver icke här beskrifva de svårigheter, som åtfölja talmansbefattningen och förorsaka bryderi äfven för en långt större förmåga än den, som blifvit mig beskärd, ej heller erinra, att dessa svårigheter ingalunda blifvit förminskade utan snarare förökade genom den nya Riksdags - ordningen, så länge hon ännu saknar den gamlas traditioner. En antydning härom torde vara tillräcklig för', 'att framkalla den endrägt, det trofasta inbördes tillstånd, hvarförutan vår gemensamma verksamhet omöjligt kan vinna erforderlig reda och önskad framgång. Särskildt skattar jag mig för egen del lycklig att 1 detta hänseende få närmast trygga mig vid den aktade och bepröfvade man, Konungen förordnat till vice Talman, och hans utmärkta egenskaper i mycket skall ersätta mina brister. Båda hafva vi, för få ögonblick sedan, med ed förpligtat oss att ställa oss Rikets grundlagar till ovilkorlig efterlefnad. I bådas namn afgifver jag nu offentligt och högtidligt den försäkran, att', 'Den 18 Januari. 19 ordet af oss skall föras med fullkomlig oväld vid denna Kammares ötverläggningar. Och det löftet skall ej svikas, huru mycket än meningarne må komma att korsa hvarandra, då de snart skola fritt utbytas om hvad som för oss alla är dyrbart. Ty hvad betyder det väl, att de sinsemellan äro olika och hvarföre skulle derigenom passioner uppröras, då de allesamman beherrskas af upprigtigt nit att tjena Konungen och landet? Jag tror fullt och fast på magten af detta föreningsband, och derföre går jag äfven', 'med lugn förtröstan mina åligganden till mötes, anhållande ännn en gång, Mine Herrar, att i allas Eder vänskap få vara innesluten. I 6. Herr Talmannen yttrade härefter : Itt ärende, som i främsta rummet torde fordra en skyndsam handläggning af Kammaren, är, utan tvifvel, uppgörande af en lämplig arbetsordning för Kammaren, och då jag har mig bekant, det en af Kammarens ledamöter, Herr Sjöberg, redan utarbetat förslag till en sådan, torde Kammaren tillåta, att detta förslag här nu af författaren uppläses. | Sedan Kammaren till denna framställning lemnat', 'bifall, uppläste Herr Sjöberg Motion N : o 1, med förslag till arbetsordning för Riksdagens Andra Kammare. Härefter, och då Herr Talmannen förklarade, det han ansåge den nu skedda uppläsningen blott såsom ett preliminärt meddelande af förslaget, då motionstiden icke kunde beräknas taga sin början förr än med morgondagen, uppstod diskussion, derunder sig yttrade : Herr Sjöberg : I fråga om behörigheten eller obehörigheten att redan nu framlägga en motion, kan jag icke dela Herr Talmannens uppfattning af Riksdags - ordningens stadganden i ämnet. Enligt min åsigt är den uti första punkten af 8 55 angifna tid', 'af tio dagar från Riksdags öppnande bestämd endast såsom den termin, inom hvilken motioner, hvilka skola handläggas af de ständiga Utskotten, böra anmälas, och att således motion i ämne, som uti denna punkt afses, kan göras, så snart Riksdagen är lagligen konstituerad. Beträffande mål, som icke tillhör ständigt Utskotts behandling, utan bör till utredning af tillfälligt Utskott öfverlemnas, — och endast ett Utskott af detta sednare slag skulle kunna komma i fråga att yttra sig öfver min motion, — medgifver åter Riksdags - ordningen uti andra stycket af nyss åberopade', 'grundlagsparagraf, att motion kan framställas, så länge Riksdagen är samlad ; och att detta sednare förhållande redan nu inträdt torde icke kunna förnekas. På grund af hvad Jag nu anfört, synes mig otvifvelaktigt, att jag varit i min goda rätt, då jag nu redan framlagt den ifrågavarande motionen, likaväl som densamma kunnat af mig framställas den dag Riksdagen sednast är samlad. ilerr Talmannen anförde : För min del vill jag visserligen icke strängt hålla på min mening, men det förekommer mig dock som motionstiden borde räknas från den dag Konungen förklarar Riksdagen vara öppnad. Vidare yttrade sig : 20 Den 18', 'Januari. Herr Friherre Gripenstedt : I afseende å frågan, från hvilken dag motionstiden må beräknas, är jag för min del af alldeles samma åsigt som Herr Talmannen, nemligen att den i grundlagen nämnda motionstiden icke kan anses taga sin början förrän den dag, Konungen å Rikssalen förklarat riksdagen öppnad. Saken är visserligen, i förevarande fall, temligen likgiltig, men detta är dock rätta tolkningen, och öfverensstämmer med hvad i gamla Riksdags - ordningen fanns stadgadt, der det heter, att motionstidens början räknas alltid från den dag, då Propositionen angående Statsverkets tillstånd', 'och behof af Riksens Ständer eller Stats - Utskottet blifvit emottagen. Jag hemställer derföre, huruvida det icke nu vore rättast, att Kammaren förenade sig i den mening, som af Herr Talmannen blifvit uttalad. Herr Sjöberg : Jag tillåter mig att rätta en uppgift af Herr Friherre Gripenstedt, hvilken uppgift, om än icke rigtig, är lätt förklarlig. Gamla Riksdags - ordningen innehöll, som en hvar känner, många märkvärdigheter och besynnerligheter, och bland dem, äfven den, att riksdagen började trenne gånger ; nemligen första gången den dag', 'Rikets Ständer sig å riksdagsorten församlade ; andra gången, då de på Kongl. Maj : ts kallelse infunno sig å Rikssalen till riksdagens öppnande ; och slutligen för tredje gången, och den vigtigaste, då den Kongl. Propositionen om Statsverkets tillstånd och behof till Rikets Ständer eller Stats - Utskottet öfverlemnades, hvarifrån, enligt då gällande Riksdags - ordnings lydelse, motionstiden räknades, utan att likväl, mig veterligen, något hinder ansågs förekomma mot motions väckande före den sålunda angifna terminens början. Nu är förhållandet så tillvida detsamma,', 'som 55 8 Riksdags - ordningen stadgar i I mom., att motion i ämne, som tillhör ständigt Utskotts behandling, må - af riksdagsman i den Kammare han tillhör göras inom tio dagar från riksdagens öppnande, och sålunda, på sätt jag redan anmärkt, uttryckligen endast angifver den tid, inom hvilken motion i sådant ämne må väckas ; hvarefter andra mom. i samma $ bjuder : \" i ämne, som icke tillhör ständigt Utskotts behandling, kan motion, så länge Riksdagen är samlad, framställas. « Af ordalydelsen i båda dessa momenter följer sålunda oförtydbart, att motion', 'i hvilket ämne som helst kan redan nu framläggas. Emellertid är detta, åtminstone i förevarande fall, en oväsendtlig formfråga, på hvilken jag icke vill hålla detringaste. Hyser Herr Talmannen någon tvekan att biträda min uppfattning af frågan, så må min framställning för närvarande endast betraktas såsom ett till Kammarens kännedom provisoriskt framlagdt förslag och först efter det Riksdagen af Konungen högtidligen öppnats, behandlas såsom motion. Herr Stråle : Jag förmodar att det icke är nödvändigt att i dag afgöra principfrågan om motionstidens beräknande, och om Herr Sjöbergs upplästa förslag må betraktas såsom motion', 'eller ej ; i förstnämnda fall hade den dock bort öfverlemnas i tvänne exemplar. Hufvudsaken för Kammaren är nu, att dess ledamöter, som ej annorlunda än genom ett flygtigt uppläsande af förslaget, fått kännedom om detsamma, må erhålla tid och tillfälle att närmare granska detaljerna deraf, hvadan jag alltså, för frågans lösning, föreslår, att Herr Sjöbergs förslag, — vare sig det - Den 18 Januari. 21 samma betraktas såsom motion eller icke, — må få hvila på bordet tills i morgon till vidare behandling. Efter det Herr Talmannen tillkännagifvit, att', 'i morgon icke något sammanträde för vidlyftigare ärendens afgörande komme att hållas, fortsatte Herr Stråle : Jag föreställde mig, att vi kunde, innan Kammaren afgår till Storkyrkan, medhinna att någon stund vara här samlade ; i hvilket fall som helst upprepar jag ännu en gång, att egentliga vinsten af en bordläggning synes mig vara den, att Kammarens ledamöter derigenom beredas tillfälle att förskaffa sig närmare kännedom om förslaget. Herr Sjöberg : Af Herr Stråles yttrande finner jag, att han endast ser ett formelt hinder ligga i vägen derför, att mitt förslag må såsom motion betraktas, och att detta', 'hinder skulle bestå deruti, att motionen icke skulle hafva blifvit i tvänne exemplar öfverlemnad. Ehuru grundlagen numera alldeles icke innehåller ett dylikt stadgande, utan endast att motion alltid bör skriftligen till protokollet aflemnas, hvilken föreskrift äfven finnes intagen uti det af mig upplästa förslaget, så har jag dock aflemnat motionen uti tvänne exemplar, hvilket Herr Talmannen torde benäget kunna vitsorda. Då Herr Stråle föreslår, att Kammaren i morgon, innan den begifver sig till gudstjensten i Storkyrkan, borde företaga ärendet till ytterligare', 'behandling, synes han mig begå en inkonseqvens, - ty det formela hinder, han påpekar i dag, qvarstår äfven i morgon, och således torde den af honom gjorda invändningen böra helt och hållet förfalla. Herr Gumeelius : Det förefaller mig märkvärdigt, att man har en sådan brådska att få detta ärende under behandling. Det är visserligen af stor vigt, och en af de angelägnaste sakerna att, nu vid början af riksdagen, komma öfverens om de former, hvarunder vi skola arbeta, men lika angeläget är det ock att alla få fullständig kännedom om hvad', 'i detta hänseende föreslås. Nu är visserligen ett fullständigt förslag härtill uppsatt och utaf en ledamot af Kammaren framlagdt, men osäkert är om ledamöterne derom hafva den kännedom att de kunna derom med full öfvertygelse besluta. Jag kan för min del icke se, att något förloras, om afgörandet af denna fråga uppskjutes, till dess något verkligt arbete inom Kammaren tager sin början. Jag bekänner att jag är af samma mening, som Herr Talmannen uttalat, i fråga om riksdagens öppnande, och det synes mig att denna icke är formligen öppnad, förrän detta skett af Konungen på Rikssalen,', 'och att först derefter motionstiden tager sin begynnelse, så att hvad som i dag är gjordt, blott är förberedelsen till hvad som sedermera kommer. Således föreställer jag mig att motionstiden kommer att beräknas från morgondagen och för min del anser jag, att billig grannlagenhet och uppmärksamhet mot dem, som ämna väcka motioner, fordrar att ej motionstiden afskäres med en eller flera dagar, hvilket naturligtvis blefve följden, ifall denna tid skulle beräknas taga sin början före morgondagen. Många ledamöter af Kammaren finnas, som ej förut bevistat 22 Den 18 Januari. riksdagar, och dessa', 'kunna behöfva tid på sig för att taga del af föregående riksdagars handlingar med mera dylikt. Jag hemställer alltså till Kammaren, att motionstiden må beräknas från morgondagen, och att det nu föredragna förslaget må få blifva hvilande på bordet, för att sedermera i laga ordning såsom motion behandlas. Herr Ifvarsson : Jag är förekommen och förenar mig med Herr Gumeelius, ty frågan är icke af mer brådskande beskaffenhet, än att förslaget må hvila på bordet. Jag önskar att detta må ske nu och äfven sedermera, då det blir en verklig motion, allt i ändamål att man må blif', \"##va satt i tillfälle att derom taga fullständig kännedom, så att detsamma först t. ex. om Tisdag kommer att till afgörande föredragas. Herr Bergström : Må det tillåtas mig att yttra den mening, att jag är fullkomligt ense med motionären angående frågan om rätta tiden för motionens väckande ; och, efter min uppfattning hade Kammaren redan gillat denna åsigt, då frågan härom ånyo af en talare upptogs. För öfrigt hastar det icke med antagande af förslaget, ty traditioner från förutgå -'ende riksdagar och de i Riksdags - ordningen upptagna föreskrifter lemna tillräcklig ledning tills vidare för ärendenas behandling.\", 'Förslaget innehåller stadganden, som tåla en noggrann och allsidig granskning. Deremot saknas i förslaget åtskilliga bestämmelser, som deri borde finnas ; jag har således betänkligheter mot antagande af förslaget i befintligt skick och förbehåller mig att vid en blifvande öfverläggning derom få framställa dessa betänkligheter. För närvarande inskränker jag mig till yrkande, att förslaget måtte anses såsom en väckt motion, och att denna motion nu första gången bordlägges. Herr Hierta : Då det utan tvifvel kan intressera hvarje ledamot af Kammaren att taga reda på förslagets alla detaljer, hemställer jag huruvida det icke bör, så skyndsamt som möjligt, till trycket', 'befordras, för att sedermera bland Kammarens ledamöter utdelas. Lämpligaste sättet att härvid gå till väga, torde vara, att Kammaren anmodade Herr Sjöberg att draga försorg härom, och att utgiften uppfördes på riksdagskostnaderna. Jag anhåller det Herr Talmannen behagade framställa proposition på denna min hemställan. Öfverläggningen förklarades vara afslutad, och uppå af Herr Talmannen framstäldt förslag blef den föredragna motionen nu bordlagd. Och lemnade Kammaren motionären det uppdrag att ofördröjligen befordra förslaget till trycket, på det detsamma kunde en hvar af Kammarens ledamöter med gör', '##ligaste första tillhandakomma. Sd Uppå af Herr Talmannen derom framstäldt förslag beslöt Kammaren att nästkommande Måndag den 21 innevarande månad utse och förordna sin sekreterare. 8 8. Likaledes beslöt Kammaren, efter framställning af Herr Talmannen, det val till ledamöter i Utskotten skulle ske omedelbart och icke genom för detta ändamål utsedde elektorer. ta co Den 18 Januari. § 9. Anmäldes och inbeledsagades två Konungens Öfverste - kammarjunkare Herr Grefve Wachtmeister och Herr Friherre Falkenberg, hvilka på Hans Maj : t Konungens befallning inbjödo Kammar', '##en att i morgon förmiddag för riksdagspredikans afhörande infinna sig i hufvudstadens Storkyrka samt att efter slutad gudstjenst möta Hans Maj : t å Rikssalen för riksdagens öppnande. § 10. I sammanhang med den, enligt 8 8, afgjorda frågan om sättet för utseende af ledamöter i Utskotten, genom omedelbara val, tillkännagaf Herr Talmannen att spörjsmål bland åtskillige af Kammarens ledamöter uppstått, huruvida en komité borde utses, för att uppgifva förslag å de personer, som må finnas lämpliga att i Utskotten inträda ; hvadan Herr \" Talmannen uppmanade dem at', 'Kammarens ledamöter, som hyste en dylik åsigt, att deröfver sig yttra. Härom uppstod diskussion, som dock icke skulle i protokollet inflyta, men efter afslutande hvaraf votering begärdes. På grund af hvad under diskussionen härom förekommit, uppsattes, justerades och anslogs en så lydande voterings - proposition : Den som vill, att en komité må af Kammaren utses, för att uppgifva förslag å de personer, som må finnas lämplige att i Utskotten inträda, röstar Ja ; Den det ej vill röstar Nej ; Vinner Nej, har Kammaren beslutat, att', \"all fråga om tillsättandet af en dylik komité har förfallit. Omröstningen, härefter i vanlig ordning verkställd, utvisade, att 81 ledamöter röstat Ja och 95 Nej, i följd hvaraf Kammaren stadnat i det beslut nej - propositionen innehåller. Sedan Herr Talmannen härefter tillkännagifvit, att gudstjensten i Storkyrkan i morgon komme att taga sin början klockan 11 och att anslag skulle utfärdas till samlingsplenum klockan'/, till 11, upplöstes sammanträdet klockan '! /, till 3 e. m. In fidem K. H. Sahlström. Den 21 Januari\", '. 25 mande af tiden för dessa val, erhållit underrättelse, att Thorsdagen vore härtill utsedd, så hade Herr Talmannen föreställt sig, att denna dag skulle befinnas vara äfven för Andra Kammaren härtill lämplig. Öfverläggningen förklarades nu vara afslutad, hvarefter, uppå derom. af Herr Talmannen framställd proposition, Kammaren fann skäligt bestämma, att val till ledamöter uti de af grundlagen bestämda ständiga Utskotten skulle af Andra Kammaren företagas nästkommande Thorsdag den 24 innevarande månad. § 3. Sedan Kongl. Maj : t nästlidne dag låtit inbjuda Riksdagens ledamöter', 'att i dag klockan 11 förmiddagen tillstädeskomma till gudstjenst i stadens Storkyrka och att derefter sig å Rikssalen infinna, så afgick Kammaren nu till kyrkan, för att, efter derstädes bevistad gudstjenst, uppträda å Rikssalen, hvarest Kongl. Maj : t, jemlikt 34 8 Riksdags - ordningen meddelade Riksdagen berättelse om hvad i Rikets Styrelse sedan nästföregående lagtima Riksdags sammanträde sig tilldragit m. m. ; och åtskiljdes Kammarens ledamöter vid nedgåendet från Rikssalen. In fidem K. H. Sahlström. Måndagen', 'den 21 Januari. KI. 10 f. m. § 1. Det vid Kammarens sammanträde den 18 i denna månad förda protokoll blef till justering uppläst och godkändt. Uppå hemställan af Herr Talmannen beslöt Kammaren, det justering af protokoll : skulle verkställas på det sätt, att protokollets innehåll skulle till justering uppläsas, med undantag af de utaf ledamöterne afgifna yttrandena, hvilka, i kanslirummen tillgängliga, derstädes borde af ledamöterne sjelfve genomses och justeras. § § 3. Beträffande den benämning Talmannen borde begagna vid upprop af Kammarens ledamöter, hem', '##ställde Herr Talmannen huruvida icke endast namnet jemte ordet Herr, borde härvid användas, med bibehållande af 26 Den 21 Januari. bördsbenämningen för dem af Kammarens ledamöter, som deraf voro i besittning ; och, efter det Herr Reutercrona uttalat den önskan att några adliga titlar icke borde begagnas, samt Herr Sven Nilsson yrkat att äfven ordet \" Herre \" icke heller måtte användas, fann Kammaren skäligt godkänna Herr Talmannens förslag att tillsvidare iakttagas, intilldess Fresk i förevarande hänseende kunde varda i blifvande arbetsordning intagen. § 4. Vidare beslöt Kammaren, efter hemställa', '##n at Herr Talmannen, att motionerna, såsom förut öfligt varit, endast skulle i protokollet antecknas under en gifven ordningsföljd, samt, med hvar sitt nummer försedd, derefter särskildt tryckas och intagas såsom en särskild afdelning af Bihanget till Riksdagens protokoll. § öd. Härefter föredrogs Kongl. Maj : ts nådiga Proposition till Riksdagen angående Statsverkets tillstånd och behof af den 11 Januari 1867 ; och blef samma Proposition nu bordlagd. S 6. Till följd af Kammarens vid sammanträde den 18 i denna månad fattade beslut att innevarande dag utse och förordna', 'sin Sekreterare, anmälde Herr Talmannen att till sekreterarebefattningen hos Kammaren vid innevarande riksdag inkommit ansökningar från Arkivarien i Kongl. Maj : ts och Rikets Svea Hofrätt E. G. Björkman, Notarien i Kongl. Sundhetskollegium, v. Häradshöfdingen H. Husberg och Doktor J. A. Thurgren. — Efter föredragning af berörda ansökningar, företogs nu, med slutna sedlar, valet, hvilket utföll sålunda, att Herr Husberg erhöll 109 röster ; och herr Björkman 66 röster ; hvadan vice Häradshöfdingen Husberg blif', '##vit till Kammarens Sekreterare utnämnd ; och blef bud genast affärdadt, som skulle uppkalla honom för att om Kammarens sålunda fattade beslut underrättas. § 7. Vid härefter väckt fråga om tillsättande af Kammarens öfriga kanslioch vaktbetjening, äfvensom om utseende af de ledamöter utaf Kammaren, som jemlikt 35 8 Riksdags - ordningen ega att jemte Talmannen tillsätta denna betjening, beslöt, uppå hemställan af Herr Talmannen, Kammaren lemna i uppdrag åt den blifvande nämnden att äfven bestämma antalet af den personal,', 'som kunde anses behöflig, och alltså borde för närvarande antagas. Vidare blef, uppå förslag af Herrar Murén, Sjöberg och Staaff, antalet af komiterade bestämdt till 8 personer, hvilka skulle i morgondagens sammanträde genom sluten omröstning af Kammaren utses. g 8. Vidare hemställde Herr Talmannen till Kammarens ompröfning huruvida icke med tryckning af Kammarens protokoll och de inom Kammaren Den 21 Januari. 27 väckta motioner borde förfaras på sätt brukligt varit inom de fordna Riks - Stånden, eller att protokollen och motionerna tryckas, hvarje samling för', 'sig, och de sednare utgörande en afdelning af Bihanget till Riksdagens protokoll. Herr Bergström, som på begäran erhöll ordet, yrkade att endast motionerna måtte till trycket befordras, ty för protokollen blefve intresset i allmänhet ringa, då deras tryckning vanligtvis droge alltför långt ut på tiden, och en riksdagstidning, väl redigerad, långt bättre uppfyllde allmänhetens anspråk på att få skyndsam underrättelse om Riksdagens förhandlingar, än hvad protokollen kunde åstadkomma. Efter afslutad öfverläggning beslöt Kammaren att tills vidare endast de motioner, som inom Kammaren väckas, skulle på öfligt sätt till', 'trycket befordras. § 9. Jemte tillkännagifvande att under de förberedande sammankomster, som af Kammarens ledamöter hållits, fråga uppstått om utväljande af några ledamöter för ombesörjande af Kammarens ekonomiska angelägenheter, hemställde Herr Talmannen huruvida Kammaren ville för detta ändamål nu utse några bland dess ledamöter, till ett antal af tre eller flere, om så ansåges nödigt. Med bifall till denna hemställan förklarade Kammaren det tre ledamöter skulle för ändamålet utses, och bestämdes uppå förslag af Herrar Per Nilsson från Malmöhus län och Rosenberg, att val af dessa ledamöter skulle ega rum i morgondagens', 'sammanträde, näst efter valet af Komiterade för utseende af kanslioch vaktbetjening. g 10. Härefter förekom fråga om val af suppleanter i de af grundlagen föreskrifna ständiga Utskotten, och hemställde Herr Talmannen till Kammaren huruvida dessa val borde förrättas särskildt för sig eller i sammanhang med valen af ordinarie ledamöter i hvarje Utskott. Härvid yrkade Herr Per Nilsson från Malmöhus län, det suppleanterne måtte väljas särskildt efter det val af de ordinarie ledamöterne i samtliga Utskotten först försiggått och Herr Murén hemställde att suppleanter måtte utses till ett antal at hälften emot de ordinarie', 'ledamöternes antal. Efter sålunda slutad öfverläggning beslöt Kammaren att val af ordinarie ledamöter i alla Utskotten skulle, hvart efter annat, först förrättas och sedan alla dessa val försiggått, derefter företagas val af suppleanter i samma Utskott, äfvensom att suppleanter skulle utses till ett antal, motsvarande hälften af de ordinarie ledamöterne uti hvarje Utskott. § 11. Vidare förekom fråga om val af två ledamöter för att, enligt 8 80 Riksdags - ordningen hafva inseende öfver Riksdagens Kansli ; och blef, efter erinran af Herr Sjöberg, det Riksdagens Kansli ännu']\n",
      "1\n",
      "1\n"
     ]
    },
    {
     "name": "stderr",
     "output_type": "stream",
     "text": [
      "Map: 100%|██████████| 1/1 [00:00<00:00, 342.22 examples/s]\n"
     ]
    },
    {
     "name": "stdout",
     "output_type": "stream",
     "text": [
      "[83, 101, 100, 97, 110, 44, 32, 105, 32, 107, 114, 97, 102, 116, 32, 97, 102, 32, 82, 105, 107, 101, 116, 115, 32, 82, 101, 103, 101, 114, 105, 110, 103, 115, 102, 111, 114, 109, 44, 32, 108, 97, 103, 116, 105, 109, 97, 32, 82, 105, 107, 115, 100, 97, 103, 32, 115, 97, 109, 109, 97, 110, 116, 114, 228, 100, 116, 32, 104, 228, 114, 32, 105, 32, 104, 117, 102, 118, 117, 100, 115, 116, 97, 100, 101, 110, 32, 100, 101, 110, 32, 49, 53, 32, 105, 110, 110, 101, 118, 97, 114, 97, 110, 100, 101, 32, 109, 229, 110, 97, 100, 44, 32, 115, 97, 109, 116, 32, 115, 101, 100, 97, 110, 32, 102, 117, 108, 108]\n"
     ]
    },
    {
     "name": "stderr",
     "output_type": "stream",
     "text": [
      "Map: 100%|██████████| 4/4 [00:00<00:00, 1352.67 examples/s]\n",
      "Map: 100%|██████████| 4/4 [00:00<00:00, 1279.73 examples/s]\n",
      "Map: 100%|██████████| 4/4 [00:00<00:00, 1314.93 examples/s]\n",
      "Map: 100%|██████████| 4/4 [00:00<00:00, 1316.27 examples/s]\n",
      "Map: 100%|██████████| 4/4 [00:00<00:00, 1348.22 examples/s]\n",
      "Map: 100%|██████████| 4/4 [00:00<00:00, 1342.39 examples/s]\n",
      "Map: 100%|██████████| 4/4 [00:00<00:00, 1313.49 examples/s]\n",
      "Map: 100%|██████████| 4/4 [00:00<00:00, 1368.34 examples/s]\n",
      "Map: 100%|██████████| 4/4 [00:00<00:00, 1341.53 examples/s]\n",
      "Map: 100%|██████████| 4/4 [00:00<00:00, 1364.67 examples/s]\n",
      "Map: 100%|██████████| 4/4 [00:00<00:00, 1376.99 examples/s]\n",
      "Map: 100%|██████████| 4/4 [00:00<00:00, 1349.19 examples/s]\n",
      "Map: 100%|██████████| 4/4 [00:00<00:00, 1312.57 examples/s]\n",
      "Map: 100%|██████████| 4/4 [00:00<00:00, 1345.30 examples/s]\n",
      "Map: 100%|██████████| 4/4 [00:00<00:00, 1338.00 examples/s]\n",
      "Map: 100%|██████████| 4/4 [00:00<00:00, 1345.51 examples/s]\n",
      "Map: 100%|██████████| 4/4 [00:00<00:00, 1335.77 examples/s]\n",
      "Map: 100%|██████████| 4/4 [00:00<00:00, 1354.75 examples/s]\n",
      "Map: 100%|██████████| 4/4 [00:00<00:00, 1305.52 examples/s]\n",
      "Map: 100%|██████████| 4/4 [00:00<00:00, 1334.07 examples/s]\n",
      "Map: 100%|██████████| 4/4 [00:00<00:00, 1342.39 examples/s]\n",
      "Map: 100%|██████████| 4/4 [00:00<00:00, 1354.86 examples/s]\n",
      "Map: 100%|██████████| 4/4 [00:00<00:00, 1365.56 examples/s]\n",
      "Map: 100%|██████████| 4/4 [00:00<00:00, 1352.24 examples/s]\n",
      "Map: 100%|██████████| 4/4 [00:00<00:00, 1358.59 examples/s]\n",
      "Map: 100%|██████████| 4/4 [00:00<00:00, 1340.25 examples/s]\n",
      "Map: 100%|██████████| 4/4 [00:00<00:00, 1361.35 examples/s]\n",
      "Map: 100%|██████████| 4/4 [00:00<00:00, 1356.83 examples/s]\n",
      "Map: 100%|██████████| 4/4 [00:00<00:00, 1407.72 examples/s]\n",
      "Map: 100%|██████████| 4/4 [00:00<00:00, 1345.51 examples/s]\n",
      "Map: 100%|██████████| 4/4 [00:00<00:00, 1340.68 examples/s]\n",
      "Map: 100%|██████████| 4/4 [00:00<00:00, 1288.77 examples/s]\n",
      "Map: 100%|██████████| 4/4 [00:00<00:00, 1353.55 examples/s]\n",
      "Map: 100%|██████████| 4/4 [00:00<00:00, 1366.33 examples/s]\n",
      "Map: 100%|██████████| 4/4 [00:00<00:00, 1382.09 examples/s]\n",
      "Map: 100%|██████████| 4/4 [00:00<00:00, 1377.78 examples/s]\n",
      "Map: 100%|██████████| 4/4 [00:00<00:00, 1386.89 examples/s]\n",
      "Map: 100%|██████████| 4/4 [00:00<00:00, 1435.91 examples/s]\n",
      "Map: 100%|██████████| 4/4 [00:00<00:00, 1395.08 examples/s]\n",
      "Map: 100%|██████████| 4/4 [00:00<00:00, 1361.01 examples/s]\n",
      "Map: 100%|██████████| 4/4 [00:00<00:00, 1351.80 examples/s]\n",
      "Map: 100%|██████████| 4/4 [00:00<00:00, 1356.61 examples/s]\n",
      "Map: 100%|██████████| 4/4 [00:00<00:00, 1350.39 examples/s]\n",
      "Map: 100%|██████████| 4/4 [00:00<00:00, 1296.94 examples/s]\n",
      "Map: 100%|██████████| 4/4 [00:00<00:00, 1349.74 examples/s]\n",
      "Map: 100%|██████████| 4/4 [00:00<00:00, 1285.91 examples/s]\n",
      "Map: 100%|██████████| 4/4 [00:00<00:00, 1293.84 examples/s]\n",
      "Map: 100%|██████████| 4/4 [00:00<00:00, 1372.71 examples/s]\n",
      "Map: 100%|██████████| 4/4 [00:00<00:00, 1365.22 examples/s]\n",
      "Map: 100%|██████████| 4/4 [00:00<00:00, 1355.19 examples/s]\n",
      "Map: 100%|██████████| 4/4 [00:00<00:00, 1368.34 examples/s]\n",
      "Map: 100%|██████████| 4/4 [00:00<00:00, 1370.80 examples/s]\n",
      "Map: 100%|██████████| 4/4 [00:00<00:00, 1359.80 examples/s]\n",
      "Map: 100%|██████████| 4/4 [00:00<00:00, 1338.00 examples/s]\n",
      "Map: 100%|██████████| 4/4 [00:00<00:00, 1352.24 examples/s]\n",
      "Map: 100%|██████████| 4/4 [00:00<00:00, 1419.03 examples/s]\n",
      "Map: 100%|██████████| 4/4 [00:00<00:00, 1346.59 examples/s]\n",
      "Map: 100%|██████████| 4/4 [00:00<00:00, 1349.08 examples/s]\n",
      "Map: 100%|██████████| 4/4 [00:00<00:00, 1332.79 examples/s]\n",
      "Map: 100%|██████████| 4/4 [00:00<00:00, 1350.39 examples/s]\n",
      "Map: 100%|██████████| 4/4 [00:00<00:00, 1357.38 examples/s]\n",
      "Map: 100%|██████████| 4/4 [00:00<00:00, 1367.11 examples/s]\n",
      "Map: 100%|██████████| 4/4 [00:00<00:00, 1427.85 examples/s]\n",
      "Map: 100%|██████████| 4/4 [00:00<00:00, 1354.97 examples/s]\n",
      "Map: 100%|██████████| 4/4 [00:00<00:00, 1367.34 examples/s]\n",
      "Map: 100%|██████████| 4/4 [00:00<00:00, 1419.27 examples/s]\n",
      "Map: 100%|██████████| 4/4 [00:00<00:00, 1353.22 examples/s]\n",
      "Map: 100%|██████████| 4/4 [00:00<00:00, 1319.38 examples/s]\n",
      "Map: 100%|██████████| 4/4 [00:00<00:00, 1354.42 examples/s]\n",
      "Map: 100%|██████████| 4/4 [00:00<00:00, 1341.75 examples/s]\n",
      "Map: 100%|██████████| 4/4 [00:00<00:00, 1309.70 examples/s]\n",
      "Map: 100%|██████████| 4/4 [00:00<00:00, 1302.68 examples/s]\n",
      "Map: 100%|██████████| 4/4 [00:00<00:00, 1336.51 examples/s]\n",
      "Map: 100%|██████████| 4/4 [00:00<00:00, 1348.76 examples/s]\n",
      "Map: 100%|██████████| 4/4 [00:00<00:00, 1390.45 examples/s]\n",
      "Map: 100%|██████████| 4/4 [00:00<00:00, 1375.52 examples/s]\n",
      "Map: 100%|██████████| 4/4 [00:00<00:00, 1356.06 examples/s]\n",
      "Map: 100%|██████████| 4/4 [00:00<00:00, 1298.55 examples/s]\n",
      "Map: 100%|██████████| 4/4 [00:00<00:00, 1340.78 examples/s]\n",
      "Map: 100%|██████████| 4/4 [00:00<00:00, 1334.07 examples/s]\n",
      "Map: 100%|██████████| 4/4 [00:00<00:00, 1342.39 examples/s]\n",
      "Map: 100%|██████████| 4/4 [00:00<00:00, 1148.73 examples/s]\n",
      "Map: 100%|██████████| 4/4 [00:00<00:00, 1324.90 examples/s]\n",
      "Map: 100%|██████████| 4/4 [00:00<00:00, 1328.26 examples/s]\n",
      "Map: 100%|██████████| 4/4 [00:00<00:00, 1334.07 examples/s]\n",
      "Map: 100%|██████████| 4/4 [00:00<00:00, 1349.08 examples/s]\n",
      "Map: 100%|██████████| 4/4 [00:00<00:00, 1345.08 examples/s]\n",
      "Map: 100%|██████████| 4/4 [00:00<00:00, 1353.11 examples/s]\n",
      "Map: 100%|██████████| 4/4 [00:00<00:00, 1354.97 examples/s]\n",
      "Map: 100%|██████████| 4/4 [00:00<00:00, 1385.86 examples/s]\n",
      "Map: 100%|██████████| 4/4 [00:00<00:00, 1290.56 examples/s]\n",
      "Map: 100%|██████████| 4/4 [00:00<00:00, 1311.95 examples/s]\n",
      "Map: 100%|██████████| 4/4 [00:00<00:00, 1287.88 examples/s]\n",
      "Map: 100%|██████████| 4/4 [00:00<00:00, 1269.46 examples/s]\n",
      "Map: 100%|██████████| 4/4 [00:00<00:00, 1272.16 examples/s]\n",
      "Map: 100%|██████████| 4/4 [00:00<00:00, 1282.17 examples/s]\n",
      "Map: 100%|██████████| 4/4 [00:00<00:00, 1301.27 examples/s]\n",
      "Map: 100%|██████████| 4/4 [00:00<00:00, 1318.24 examples/s]\n",
      "Map: 100%|██████████| 4/4 [00:00<00:00, 1281.58 examples/s]\n",
      "Map: 100%|██████████| 4/4 [00:00<00:00, 1300.56 examples/s]\n",
      "Map: 100%|██████████| 4/4 [00:00<00:00, 1276.90 examples/s]\n",
      "Map: 100%|██████████| 4/4 [00:00<00:00, 1281.98 examples/s]\n",
      "Map: 100%|██████████| 4/4 [00:00<00:00, 1300.96 examples/s]\n",
      "Map: 100%|██████████| 4/4 [00:00<00:00, 1282.76 examples/s]\n",
      "Map: 100%|██████████| 4/4 [00:00<00:00, 1309.90 examples/s]\n",
      "Map: 100%|██████████| 4/4 [00:00<00:00, 993.44 examples/s]\n",
      "Map: 100%|██████████| 4/4 [00:00<00:00, 1174.71 examples/s]\n",
      "Map: 100%|██████████| 4/4 [00:00<00:00, 1248.86 examples/s]\n",
      "Map: 100%|██████████| 4/4 [00:00<00:00, 1200.77 examples/s]\n",
      "Map: 100%|██████████| 4/4 [00:00<00:00, 1276.90 examples/s]\n",
      "Map: 100%|██████████| 4/4 [00:00<00:00, 1243.13 examples/s]\n",
      "Map: 100%|██████████| 4/4 [00:00<00:00, 1339.07 examples/s]\n",
      "Map: 100%|██████████| 4/4 [00:00<00:00, 1295.14 examples/s]\n",
      "Map: 100%|██████████| 4/4 [00:00<00:00, 1315.65 examples/s]\n",
      "Map: 100%|██████████| 4/4 [00:00<00:00, 1342.71 examples/s]\n",
      "Map: 100%|██████████| 4/4 [00:00<00:00, 1333.11 examples/s]\n",
      "Map: 100%|██████████| 4/4 [00:00<00:00, 1324.59 examples/s]\n",
      "Map: 100%|██████████| 4/4 [00:00<00:00, 1342.50 examples/s]\n",
      "Map: 100%|██████████| 4/4 [00:00<00:00, 1323.96 examples/s]\n",
      "Map: 100%|██████████| 4/4 [00:00<00:00, 1346.16 examples/s]\n",
      "Map: 100%|██████████| 4/4 [00:00<00:00, 1332.16 examples/s]\n",
      "Map: 100%|██████████| 4/4 [00:00<00:00, 1330.26 examples/s]\n",
      "Map: 100%|██████████| 4/4 [00:00<00:00, 1320.11 examples/s]\n",
      "Map: 100%|██████████| 4/4 [00:00<00:00, 1306.84 examples/s]\n",
      "Map: 100%|██████████| 4/4 [00:00<00:00, 1180.83 examples/s]\n",
      "Map: 100%|██████████| 4/4 [00:00<00:00, 1316.89 examples/s]\n",
      "Map: 100%|██████████| 4/4 [00:00<00:00, 1330.89 examples/s]\n",
      "Map: 100%|██████████| 4/4 [00:00<00:00, 1347.46 examples/s]\n"
     ]
    },
    {
     "data": {
      "text/plain": [
       "tensor(7.2115, device='cuda:0')"
      ]
     },
     "execution_count": 43,
     "metadata": {},
     "output_type": "execute_result"
    }
   ],
   "source": [
    "from datasets import Dataset\n",
    "class CharTokenizer:\n",
    "    def __init__(self):\n",
    "        self.is_fast = True\n",
    "    def tokenize(self, text):\n",
    "        return list(text)  # Convert string to list of character\n",
    "\n",
    "    def encode(self, text):\n",
    "        return [ord(c) for c in text]  # Convert characters to ASCII values\n",
    "    def __call__(self, examples):\n",
    "        input_ids = []\n",
    "        attention_masks=[]\n",
    "        word_ids = []\n",
    "        for text in examples:\n",
    "            # Generate a list of indices for each character in the text\n",
    "            input_ids.append([ord(c) for c in text ])\n",
    "            current_word_ids = [i for i, _ in enumerate(text)]\n",
    "            word_ids.append(current_word_ids)\n",
    "            attention_masks.append([1] * len(text)) \n",
    "        \n",
    "            return {'input_ids': input_ids, 'word_ids': word_ids,\"attention_mask\":attention_masks}\n",
    "\n",
    "# Assuming 'lm_datasets_subset' is already a dictionary containing your data\n",
    "letter_tokenizer = CharTokenizer()\n",
    "\n",
    "detokenized_texts = Dataset.from_dict({\"texte\": [tokenizer.decode(toks, skip_special_tokens=True) for toks in lm_datasets_subset[\"input_ids\"]],\"protocole\":[tokenizer.decode(toks, skip_special_tokens=True) for toks in lm_datasets_subset[\"input_ids\"]]})\n",
    "print(detokenized_texts[\"texte\"])\n",
    "result = letter_tokenizer(detokenized_texts[\"texte\"])\n",
    "print(len(result['input_ids']))\n",
    "print(len(result[\"word_ids\"]))\n",
    "#eval_dataset = preprocessing.tokenize_dataset(detokenized_texts,letter_tokenizer)\n",
    "eval_dataset = preprocessing.grouping_dataset( Dataset.from_dict(result),128)\n",
    "print(eval_dataset[\"input_ids\"][0])\n",
    "pll = 0\n",
    "losses=[]\n",
    "for i in range(128):\n",
    "    eval_dataset_log = eval_dataset.map(\n",
    "            lambda examples: insert_special_masking_bis(examples,i),\n",
    "            batched=True,\n",
    "            remove_columns= eval_dataset.column_names\n",
    "        )\n",
    "    eval_dataloader = preprocessing.create_dataloader(eval_dataset_log,64,default_data_collator)\n",
    "\n",
    "\n",
    "    for step, batch in enumerate(eval_dataloader):\n",
    "        batch = {key: value.to(device) for key, value in batch.items()}\n",
    "        with torch.no_grad():\n",
    "\n",
    "            output=model_hugging_face(**batch)\n",
    "    \n",
    "        loss=output.loss\n",
    "        losses.append(loss.repeat(eval_dataloader.batch_size))\n",
    "\n",
    "    \n",
    "losses = torch.cat(losses)\n",
    "        #losses = losses[: len(eval_dataloader.dataset)]\n",
    "pll += torch.mean(losses)\n",
    "\n",
    "pll"
   ]
  },
  {
   "cell_type": "code",
   "execution_count": 69,
   "metadata": {},
   "outputs": [
    {
     "name": "stderr",
     "output_type": "stream",
     "text": [
      "Map:   0%|          | 0/100 [00:00<?, ? examples/s]"
     ]
    },
    {
     "name": "stderr",
     "output_type": "stream",
     "text": [
      "Map: 100%|██████████| 100/100 [00:00<00:00, 3125.34 examples/s]\n"
     ]
    },
    {
     "name": "stdout",
     "output_type": "stream",
     "text": [
      "['[MASK]. Herr Friherre Gripenstedt : I afseende å frågan, från hvilken dag motionstiden må beräknas, är jag för min del af alldeles samma åsigt som Herr Talmannen, nemligen att den i grundlagen nämnda motionstiden icke kan anses taga sin början förrän den dag, Konungen å Rikssalen förklarat riksdagen öppnad. Saken är visserligen, i förevarande fall, temligen likgiltig, men detta är dock rätta tolkningen, och öfverensstämmer med hvad i gamla Riksdags - ordningen fanns stadgadt, der det heter, att motionstidens början räknas alltid från den dag, då Propositionen angående Statsverkets tillstånd', '[MASK] hvilket ämne som helst kan redan nu framläggas. Emellertid är detta, åtminstone i förevarande fall, en oväsendtlig formfråga, på hvilken jag icke vill hålla detringaste. Hyser Herr Talmannen någon tvekan att biträda min uppfattning af frågan, så må min framställning för närvarande endast betraktas såsom ett till Kammarens kännedom provisoriskt framlagdt förslag och först efter det Riksdagen af Konungen högtidligen öppnats, behandlas såsom motion. Herr Stråle : Jag förmodar att det icke är nödvändigt att i dag afgöra principfrågan om motionstidens beräknande, och om Herr Sjöbergs upplästa förslag må betraktas såsom motion', '[MASK] meddelas, hvarjemte förteckning skulle till Kammaren öfverlemnas å dess nu anmälda ledamöter, samt fullmagterna till dem återställas. In fidem F. F. Huss. som lades till handlingarne ; och 2 : 0 här nedan intagna Förteckning å ledamöterne af Riksdagens Andra Kammare år 1867. Stockholms stad. Kommendör - kapitenen m. m. A. Adlersparre. Grosshandlanden L. J. Hierta. Professoren m. m. Friherre A. H. E. Fock. f. d. Statsrådet m. m. Friherre J', '[MASK] von Troil. Lund : Professorn m. m. J. G. Agardh. Landskrona : Borgmästaren m. m. J. Odmansson. Helsingborg och Engelholm : vice Konsuln m. m. C. J. F. Rooth. | Ystad, Skanör och Falsterbo : Borgmästaren m. m. S. Trägårdh. Hallands län. Halmstads och Tönnersjö härader : Prosten och Kyrkoherden L. O. Stendahl. Höks härad : Hemmansegaren Carl Ifvarsson i Wärestorp. Faurås och Årstads härader : Hemmans', '[MASK] Talman f. d. Kapitenen Kommendören K. N. 0. C. A. Mannerskantz, hvilka hvar för sig, i deputerades närvaro, inför Konungen aflagt den ed 33 $ - Riksdags - ordningen föreskrifver. Herr Ordföranden yttrade härefter : Till följd af den utaf Herrar Deputerade, genom deras Ordförande, nu gjorda anmälan öfverlemnar jag nu ordförandeplatsen åt den af Konungen utsedde Talmannen ; och Herr Doktorns och Biskopens från fordna riksdagar kända stora förmåga och skicklighet är en borgen derför, att talmansklubban kommer att', '[MASK] Hedenberg. Norra Möre och Stranda domsaga : Hemmansegaren Johan Olsson i Bårstad. Södra Möre domsagas vestra valkrets : Hemmansegaren Jonas Jonasson i Gullaboås. Södra Möre domsagas östra valkrets : f. d. Kapitenen m. m. C. A. Mannerskantz. Ölands domsaga : Landtbrukaren E. J. Rudberg. Calmar : f. d. Rektorn 0. E. L. Dahm. Westervik och Oscarshamn : Handlanden C. F. Carlsson. 81. 82. 83. Den 18 Januari. 11', '[MASK] [MASK] samla upplyste medborgares tankar om grunderna för Sveriges tillkommande stats - 4 Den 18 Januari. författning. < De erkände bristfälligheten i hvad som föreslogs, och tidens otillräcklighet att afhjelpa densamma, synnerligast hvad Nationalrepresentationen angick. Men de lade på efterkommande Ständers hjertan, att i detta hänseende fullborda hvad de lemnat ogjordt, med uttalande af den grundsatsen, \" att alla Svenska medborgare, utan åtskilnad af stånd, yrken eller lefnadssätt, skulle vara berättigade att deltaga i valet af nationens befullmägtigade för vården at', '[MASK] [MASK] Ola Nilsson i Rebbelberga. Christianstad och Cimbrishamn : Hofrätts - assessoren P. A. Bergström. Malmöhus län. Skytts och Oxie domsaga : Hemmansegaren Åke Andersson i Mellanköpinge. 88. 89. 90. 99. 100. 101. Den 18 Januari. Färs härad : Kronofogden m. m. N. A. Witthoft. Frosta härad : Hemmansegaren Nils Nilsson i Östra Espinge. Harjagers och Rönnebergs härader : Hemmansegaren Per Johnsson i Remmarlöfsgård. Onsjö härad : Hemmansegaren', '[MASK] Nilsson i Tekumatorp. Luggude domsaga : Hemmansegaren Ola Jönsson i Kungshult. Bara härad : Hemmansegaren Jöns Olsson i Nordanå. Torna härad :. Godsegaren m. m. Grefve R. De la Gardie. Herrestads och Ljunits härader : Godsegaren m. m. Grefve A. R. Fr : son Posse. Wemmenhögs härad : Hemmansegaren Per Nilsson 1 Espö. Malmö : Handlanden C. J. Kock. | Landshöfdingen m. m. S. G', '[MASK] 25 mande af tiden för dessa val, erhållit underrättelse, att Thorsdagen vore härtill utsedd, så hade Herr Talmannen föreställt sig, att denna dag skulle befinnas vara äfven för Andra Kammaren härtill lämplig. Öfverläggningen förklarades nu vara afslutad, hvarefter, uppå derom. af Herr Talmannen framställd proposition, Kammaren fann skäligt bestämma, att val till ledamöter uti de af grundlagen bestämda ständiga Utskotten skulle af Andra Kammaren företagas nästkommande Thorsdag den 24 innevarande månad. § 3. Sedan Kongl. Maj : t nästlidne dag låtit inbjuda Riksdagens ledamöter', '[MASK] Askersund, Nora och Lindesberg : Rektorn J. J. Magnell. Örebro län. Edsbergs, Lekebergs, Grimstens och Hardemo härader : Godsegaren O. G. Hedengren. Kumla och Sundbo härader : Hemmansegaren Erik Olsson i Sånnersta. Örebro och Glanshammars härader : Hemmansegaren Per Nilsson i Råby. Sköllersta och Askers härader : Hemmansegaren, Fullmägtigen i Riksbanken, Anders Wilhelm Uhr i Svenstorp. Lindes domsaga : Bruksegaren H. M. Ericsson. Nora domsaga : F.', '[MASK] att i morgon förmiddag för riksdagspredikans afhörande infinna sig i hufvudstadens Storkyrka samt att efter slutad gudstjenst möta Hans Maj : t å Rikssalen för riksdagens öppnande. § 10. I sammanhang med den, enligt 8 8, afgjorda frågan om sättet för utseende af ledamöter i Utskotten, genom omedelbara val, tillkännagaf Herr Talmannen att spörjsmål bland åtskillige af Kammarens ledamöter uppstått, huruvida en komité borde utses, för att uppgifva förslag å de personer, som må finnas lämpliga att i Utskotten inträda ; hvadan Herr \" Talmannen uppmanade dem at', \"[MASK] [MASK], den förstnämnde hos Borgareoch den sistnämnde hos Bonde - Ståndet, att tills vidare och intill dess Sekreterare och öfrig kanslipersonal antagits, ombesörja protokollsföringen hos Andra Kammaren ; Och blef, i enlighet med Herr Ordförandens derom nu gjorda framställning, denna hans åtgärd af Kammaren nu gillad och fastställd. § 2. Till ledamöter i den deputation, som skulle hos Kongl. Maj : t i underdånighet begära'Talman och vice Talman, utsågos nu Herrar von Troil, Sundberg, Mannerskantz, Matts Persson, Westblad, Voug\", '[MASK] [MASK], och Kongl. Maj : t sedermera behagat förläna mig det förra, har jag ej haft giltiga skäl att undandraga mig någotdera. Det är nemligen min öfvertygelse, att hvarje Svensk medborgare, i hvilken samhällsställning han än må befinna sig, är skyldig att gå dit han kallas, så snart kallelsen för honom innebär en uppmaning att, på den plats honom anvisas, efter bästa förstånd bidraga till fäderneslandets gagn. Då I, Mine Herrar, utan tvitvel alla hafven samma öfvertygelse, vågar jag hoppas, att af Eder', '[MASK] ej ; i förstnämnda fall hade den dock bort öfverlemnas i tvänne exemplar. Hufvudsaken för Kammaren är nu, att dess ledamöter, som ej annorlunda än genom ett flygtigt uppläsande af förslaget, fått kännedom om detsamma, må erhålla tid och tillfälle att närmare granska detaljerna deraf, hvadan jag alltså, för frågans lösning, föreslår, att Herr Sjöbergs förslag, — vare sig det - Den 18 Januari. 21 samma betraktas såsom motion eller icke, — må få hvila på bordet tills i morgon till vidare behandling. Efter det Herr Talmannen tillkännagifvit, att', \"[MASK] [MASK] m. m. B. Benedicks. Ugglebo och Hamrånge samt Hille och Walbo tingslager : 170. Hemmansegaren Jon Jonsson i Mo. Norra Helsinglands domsaga : 171. Hemmansegaren Per Eriksson 1 Wik. Westra Helsinglands domsaga : 172. Hemmansegaren, Fullmägtigen i Riksbanken, Erik Ersson i Wallsta. Södra Helsinglands domsaga : 173. Hemmansegaren Per Persson i Höle. Gefle :'174. Grosshandlanden m. m. P. Murén. Söderhamn och Hudiksvall : 175. Häradshöfdingen\", \"[MASK] m. m. N. H. Selander, Grosshandlanden L. J. Hierta och Anders Wilhelm Uhr från Örebro län, samt af fullmägtige i Riksgälds - kontoret : Herrar f. d. Statsrådet m. m. Grefve Henning Hamilton, Majoren M. C. Wolffelt och Bruksegaren A. A. Berger.. Såsom riksdagsmän rör Ramsele och Sollefteå'Tingslagers valdistrikt af Ångermanlands Södra domsaga hade anmält sig såväl Hemmansegaren Henrik Hansson i Klofsta, som Landthandlanden Per Engman i Näsåker, begge med\", '[MASK] skulle bestå deruti, att motionen icke skulle hafva blifvit i tvänne exemplar öfverlemnad. Ehuru grundlagen numera alldeles icke innehåller ett dylikt stadgande, utan endast att motion alltid bör skriftligen till protokollet aflemnas, hvilken föreskrift äfven finnes intagen uti det af mig upplästa förslaget, så har jag dock aflemnat motionen uti tvänne exemplar, hvilket Herr Talmannen torde benäget kunna vitsorda. Då Herr Stråle föreslår, att Kammaren i morgon, innan den begifver sig till gudstjensten i Storkyrkan, borde företaga ärendet till ytterligare', '[MASK] till Kammarens Sekreterare utnämnd ; och blef bud genast affärdadt, som skulle uppkalla honom för att om Kammarens sålunda fattade beslut underrättas. § 7. Vid härefter väckt fråga om tillsättande af Kammarens öfriga kanslioch vaktbetjening, äfvensom om utseende af de ledamöter utaf Kammaren, som jemlikt 35 8 Riksdags - ordningen ega att jemte Talmannen tillsätta denna betjening, beslöt, uppå hemställan af Herr Talmannen, Kammaren lemna i uppdrag åt den blifvande nämnden att äfven bestämma antalet af den personal,', '[MASK] handlingar ; att Folkets kärlek skall utgöra en god och fridsäll Styrelses belöning, och att hos kommande slägten skall lefva såsom minnesvärd den dag, då 1867 års riksdag sammanträdde för sina rådslag. Jag slutar, Mine Herrar, med att uttala denna vår gemensamma bön : Gud bevare Konungen och beskydde Fäderneslandet! & 1. Herr Ordföranden tillkännagaf, det han anmodat e. o. Kanslisten i Kongl. Ecklesiastik - departementet C. Sandström och Kanslisten i Sundhets - kollegium K. H. Sahlström, hvilka under föregående riksdagar bestridt notarie', '[MASK] lagstiftning, att utöfningen af valrätten skulle endast bero af egenskaperna af bosatt, oberoende och fullmyndig, som anses erforderliga för samhället till borgen för bruket af en sådan rättighet. \" I kännen alle, Mine Herrar, de svårigheter af meningsstrider och farhågor samt andra hinder af många slag, hvilka sedan under mera än ett halft århundrade motverkat uppnåendet af det önskningsmål, som den allmänna meningen, lifvad af fosterlandskänslan, hade uppställt såsom ett uttryck af 1809 års grundlagsstiftares yttersta vilja. Många, äfven bland dem, som med största värma delat önskningarne, ha', '[MASK] [MASK] af fullmagter, utvisande att de blifvit valde till ledamöter af Andra Kammaren för nämnda valdistrikt, Henrik Hansson den 30 Augusti och Engman den 30 November sistlidne år. Med anledning häraf upplyste Hans Excellens, det han af tillgängliga handlingar inhemtat, att sedan Kongl. Maj : ts Befallningshafvande i Wester - Norrlands län, uppå anförda besvär öfver förstnämnda den 30 Augusti sistlidne år hållna riksdagsmannaval genom utslag den 16 derpåföljde Oktober, med undanrödjande af samma val visat ärendet åter till vederbörande domhafvande med', '[MASK] innehåller stadganden, som tåla en noggrann och allsidig granskning. Deremot saknas i förslaget åtskilliga bestämmelser, som deri borde finnas ; jag har således betänkligheter mot antagande af förslaget i befintligt skick och förbehåller mig att vid en blifvande öfverläggning derom få framställa dessa betänkligheter. För närvarande inskränker jag mig till yrkande, att förslaget måtte anses såsom en väckt motion, och att denna motion nu första gången bordlägges. Herr Hierta : Då det utan tvifvel kan intressera hvarje ledamot af Kammaren att taga reda på förslagets alla detaljer, hemställer jag huruvida det icke bör, så skyndsamt som möjligt, till trycket', '[MASK] behof af Riksens Ständer eller Stats - Utskottet blifvit emottagen. Jag hemställer derföre, huruvida det icke nu vore rättast, att Kammaren förenade sig i den mening, som af Herr Talmannen blifvit uttalad. Herr Sjöberg : Jag tillåter mig att rätta en uppgift af Herr Friherre Gripenstedt, hvilken uppgift, om än icke rigtig, är lätt förklarlig. Gamla Riksdags - ordningen innehöll, som en hvar känner, många märkvärdigheter och besynnerligheter, och bland dem, äfven den, att riksdagen började trenne gånger ; nemligen första gången den dag', '[MASK] fordna Riksstånden, som gjort en storsinnad uppoffring af gamla företrädesrättigheter och genom detta afslutande at sim verksamhet beredt sig i häfderna en oförgänglig minnesvård. Vid detta högtidliga tillfälle hägrar tör vår syn hoppet om en ljus framtid, och jag tror mig å allas vägnar kunna säga, att det är förenadt med en innerlig uppfattning af riksdagsmannakallets allvarliga åligganden och med en fast föresats, att den Svenska Riksdagen hädanefter skall vara ett sannt uttryck af det Svenska Folkets tänkesätt och vilja ; att vi vid början at vår bana gifva hvarandra handen uppå', '[MASK] kunde anses behöflig, och alltså borde för närvarande antagas. Vidare blef, uppå förslag af Herrar Murén, Sjöberg och Staaff, antalet af komiterade bestämdt till 8 personer, hvilka skulle i morgondagens sammanträde genom sluten omröstning af Kammaren utses. g 8. Vidare hemställde Herr Talmannen till Kammarens ompröfning huruvida icke med tryckning af Kammarens protokoll och de inom Kammaren Den 21 Januari. 27 väckta motioner borde förfaras på sätt brukligt varit inom de fordna Riks - Stånden, eller att protokollen och motionerna tryckas, hvarje samling för', '[MASK] redan vunnen deri, att ingen numera utöfvar riksdagsmannakallet på grund af börd eller särskilda privilegier, utan alla i följd af medborgares förtroende till insigter, förstånd och nit för det allmänna bästa. Under en så lofvande begynnelse tror jag mig icke taga miste om Eder gemensamma känsla, om vi, näst en ödmjuk tacksägelse till Den, från hvilken all god gåfva kommer, egna ett uttryck af varm erkänsla i främsta rummet åt Konungen och hans Regering, som tagit initiativet till denna förändring, hvarifrån Sverige skall räkna början af ett nytt tidskifte, och dernäst åt', '[MASK] varande den bland Kammarens ledamöter, hvilken de flesta riksdagarne bevistat, intog ordförandeplatsen och helsade Kammaren med följande ord : Mine Herrar! Enligt 33 8 i Riksdags - ordningen skall, innan talmän för Kamrarne blifvit utnämnde, ordet i hvardera Kammaren föras af den ledamot, som de flesta riksdagar bevistat och, der två eller flera ledamöter i lika många riksdagar deltagit, af den som är till lefnadsåren äldst. Det är till följd af denna föreskrift, som den äran mig tillfallit, att helsa den Andra Kammarens ledamöter den första gången de', '[MASK] med säker hand och med den oväld, som Kammaren kan önska till förmån för såväl sig sjelf som fäderneslandet.? Herr Talmannen intog derefter talmansplatsen och helsade derefter Kammaren med följande ord : Mine Herrar! Sannolikt är det för många bland Eder oväntadt att se en prest intaga talmansstolen i Riksdagens Andra Kammare. Det sker också icke efter min egen önskan. Jag har lika litet eftersträfvat detta höga och ansvarsfulla förtroende, som jag sökt sjelfva riksdagsmannakallets hedrande uppdrag. Men då vahnännen inom den krets jag tillhör lemnat mig det', '[MASK] [MASK], samt att jemväl för öfrigt i åtskilliga fullmagter ett eller annat ord blifvit antingen tillagdt eller uteslutet eller mot ett motsvarande utbytt ; men då samtliga dessa afvikelser icke syntes vara af beskaffenhet att derigenom meningen förändrades eller otydlighet föranleddes, ansågos berörda fullmagter i likhet med öfriga, mot hvilka anmärkning ej förekommit, böra godkännas. För Westbo härads valkrets af Östbo och Westbo häraders domsaga, Mellansysslets domsaga, Ås och Gäseneds häraders domsaga, Thorstuna m. fl. häradersdomsaga samt Södra Jemtlands domsaga', \"[MASK] fråga om tillsättandet af en dylik komité har förfallit. Omröstningen, härefter i vanlig ordning verkställd, utvisade, att 81 ledamöter röstat Ja och 95 Nej, i följd hvaraf Kammaren stadnat i det beslut nej - propositionen innehåller. Sedan Herr Talmannen härefter tillkännagifvit, att gudstjensten i Storkyrkan i morgon komme att taga sin början klockan 11 och att anslag skulle utfärdas till samlingsplenum klockan'/, till 11, upplöstes sammanträdet klockan '! /, till 3 e. m. In fidem K. H. Sahlström. [SEP] [CLS] Den 21 Januari\", '[MASK]. Ridderstad. Norrköping : Fabriksidkaren J. Sääf. Fabriksidkaren J. E. Swartz. Wadstena, Söderköping, Skenninge och Grenna : Borgmästaren m. m. P. Blidberg. Jönköpings län. Westra härads domsaga : Hemmansegaren Anders Johan Sandstedt i Knäfvelsby. Östra härads domsaga : Hemmansegaren Daniel Danielsson i Nyabyberg. Östbo härad : Folkskolläraren A. W. Wigardt. Westbo härad : Tveta, Wista och Mo domsaga : Kronolänsmannen CO. Orre. Norra och Södra Wedbo domsaga : Johan', '[MASK] framkalla den endrägt, det trofasta inbördes tillstånd, hvarförutan vår gemensamma verksamhet omöjligt kan vinna erforderlig reda och önskad framgång. Särskildt skattar jag mig för egen del lycklig att 1 detta hänseende få närmast trygga mig vid den aktade och bepröfvade man, Konungen förordnat till vice Talman, och hans utmärkta egenskaper i mycket skall ersätta mina brister. Båda hafva vi, för få ögonblick sedan, med ed förpligtat oss att ställa oss Rikets grundlagar till ovilkorlig efterlefnad. I bådas namn afgifver jag nu offentligt och högtidligt den försäkran, att', '[MASK] Anders Andersson 1 Smedbyn. Nordmarks härad : Hemmansegaren Anders Jonsson i Sundsbyn. Fryksdals öfre tingslag : Hemmansegaren Arvid Jönsson i Östmark. 147. 148. 149. 150. 151. 152. Den 18 Januari, 15 | Fryksdals nedre tinslag : Hemmansegaren Nils Andersson i Bäfvik. Jösse domsaga : Hemmansegaren Olof Olsson i Olebyn. Elfdals och Nyeds domsaga : Häradshöfdingen A. M. Myrtin. Carlstad och Filipstad : Biskopen m. m. Doktor A. N. Sundberg. Christinehamn', '[MASK] församlade på grund af den förändring, som inträdt i National - representationens sammansättning. Ett sådant ögonblick i en stats lif är fullt af betydelse. Icke minst för oss, Mine Herrar, innebär det närvarande ett allvar, af lärdomar, om vi kasta blicken tillbaka på det förflutna, af förpligtelser, då vi sända den med våra önskningar in i det obekanta tillkommande. Då för snart sextio år sedan bekymrade fosterländska hjertan, djupt kännande olyckan af den ställning, hvari Sveriges rike hade blifvit bragt genom en enväldig Konungs ovisa sjelfrådighet', '[MASK]. Staaf. Wester - Norrlands län. Torps, Tuna och Njurunda tingslager : 176. Hofpredikanten P. Lithner. | Ljustorps, Sjöns, Indals och Selångers tingslager : 177. Hemmansegaren Per Ulrik Ljuslin i Högom. Boteå, Säbrå, Nora och Gudmundrå tingslager : 178. Hemmansegaren Per Östman i Ry. Sollefteå Den 18 Januari. 17 Sollefteå och Ramsele tingslager : 179. Landthandlanden Per Engman. | Norra Ångermanlands domsaga : 180. Hemmansegaren Per Olof Hörnfteldt', '[MASK] [MASK]. Södermanlands län. Jönåkers, Rönö och Hölebo härader : 24. Bruksegaren E. M. Sederholm. ND Oppunda och Willåttinge härader : 25. Bruksegaren m. m. OC. G. Indebetou. Österoch Wester - Rekarne härader : 26. Bruksegaren R. Arfvedson. Selebo, Åkers och Daga härader : 27. Godsegaren C. A. V. Kallstenius. Nyköping, Thorshälla, Mariefred och Trosa : 28. Kamereraren J. H. Vougt', '[MASK], synes han mig begå en inkonseqvens, - ty det formela hinder, han påpekar i dag, qvarstår äfven i morgon, och således torde den af honom gjorda invändningen böra helt och hållet förfalla. Herr Gumeelius : Det förefaller mig märkvärdigt, att man har en sådan brådska att få detta ärende under behandling. Det är visserligen af stor vigt, och en af de angelägnaste sakerna att, nu vid början af riksdagen, komma öfverens om de former, hvarunder vi skola arbeta, men lika angeläget är det ock att alla få fullständig kännedom om hvad', '[MASK] [MASK] Ständer sig å riksdagsorten församlade ; andra gången, då de på Kongl. Maj : ts kallelse infunno sig å Rikssalen till riksdagens öppnande ; och slutligen för tredje gången, och den vigtigaste, då den Kongl. Propositionen om Statsverkets tillstånd och behof till Rikets Ständer eller Stats - Utskottet öfverlemnades, hvarifrån, enligt då gällande Riksdags - ordnings lydelse, motionstiden räknades, utan att likväl, mig veterligen, något hinder ansågs förekomma mot motions väckande före den sålunda angifna terminens början. Nu är förhållandet så tillvida detsamma,', '[MASK] [MASK] i det längsta betviflat att de skulle upplefva den dag, då detta stora mål kunde på den fria öfvertygelsens väg uppnås. Men tiden, som kan försätta hälleberg, har omsider äfven i denna sak gjort den långsamt mognande öfvertygelsen oemotståndlig. Beviset är, att vi nu befinna oss här församlade såsom Svenska Folkets ombud. Och om intet menskligt arbete är fullkomligt ; om vi icke kunna förneka, att en och annan icke oväsendtlig förändring är önskvärd i den grundlag, enligt hvilken vi äro hitkomne ; så är dock en stor', '[MASK] från Skälsnäs. 10 48. 60. 61. 62. 63. 64. Den 18 Januari. Jönköping : Hofrättsrådet m. m. J. A. Lemchen. Kronobergs läm. Uppvidinge härad : Hemmansegaren Jonas Jonasson i Rasslebygd. Konga härad : f. d. Löjtnanten J. F. Kjellson. Kinnevalds och Norrvidinge härader : Orgelnisten Peter Petersson i Ugglekull. Allbo härad : Hemmansegaren, Fullmägtigen i Riksgälds - kontoret Anders Medin i Taxås. Sunnerbo domsagas', '[MASK] att först derefter motionstiden tager sin begynnelse, så att hvad som i dag är gjordt, blott är förberedelsen till hvad som sedermera kommer. Således föreställer jag mig att motionstiden kommer att beräknas från morgondagen och för min del anser jag, att billig grannlagenhet och uppmärksamhet mot dem, som ämna väcka motioner, fordrar att ej motionstiden afskäres med en eller flera dagar, hvilket naturligtvis blefve följden, ifall denna tid skulle beräknas taga sin början före morgondagen. Många ledamöter af Kammaren finnas, som ej förut bevistat 22 Den 18 Januari. riksdagar, och dessa', '[MASK] at Herr Talmannen, att motionerna, såsom förut öfligt varit, endast skulle i protokollet antecknas under en gifven ordningsföljd, samt, med hvar sitt nummer försedd, derefter särskildt tryckas och intagas såsom en särskild afdelning af Bihanget till Riksdagens protokoll. § öd. Härefter föredrogs Kongl. Maj : ts nådiga Proposition till Riksdagen angående Statsverkets tillstånd och behof af den 11 Januari 1867 ; och blef samma Proposition nu bordlagd. S 6. Till följd af Kammarens vid sammanträde den 18 i denna månad fattade beslut att innevarande dag utse och förordna', '[MASK] och då den valförrättning, som föranledt utfärdandet af fullmagten för Engman, icke blifvit af vederbörande myndighet till sin verkan undanröjd, berörda fullmagt, mot hvilken eljest icke någon anledning till anmärkning förekommit, ansågs böra, utan hinder deraf att besvär öfver förrättningen anförts och vore på pröfning beroende, tillsvidare såsom giltig antagas ; Kammarens pröfningsrätt dock, så i det ena, som det andra fallet, densamma förbehållen. Uti flera bland de i öfrigt företedda fullmagterna förekommo åtskilliga skiljaktigheter och afvikelser från det i 20', '[MASK] [MASK] till fosterlandets olyckor och förluster. Med dessa föresatser, med det bistånd af likstämmiga tänkesätt, som denna församling vågar påräkna hos Rikets Första Kammare, och alltid ihågkommande att menniskans vilja förmår mycket, blott den allvar är, böra vi kunna emotse en lyckosam framtid för det Svenska folket. Vi böra kunna hoppas, att, såsom en frukt af denna och efterföljande riksdagars verksamhet, det ädla valspråket : Land skall med lag byggas alltid skall få sin rätta och skönaste tolkning i visa och milda lagar ; att Rätt och Samning skall blifva den enda ledstjernan för statsmag', '[MASK] 21 Januari. KI. 10 f. m. § 1. Det vid Kammarens sammanträde den 18 i denna månad förda protokoll blef till justering uppläst och godkändt. Uppå hemställan af Herr Talmannen beslöt Kammaren, det justering af protokoll : skulle verkställas på det sätt, att protokollets innehåll skulle till justering uppläsas, med undantag af de utaf ledamöterne afgifna yttrandena, hvilka, i kanslirummen tillgängliga, derstädes borde af ledamöterne sjelfve genomses och justeras. § § 3. Beträffande den benämning Talmannen borde begagna vid upprop af Kammarens ledamöter, hem', '[MASK] dagen ankomma till Kammarens samlingsrum två Konungens Öfverste - kammarjunkare, för att bjuda Kammarens ledamöter att följande dag bevista gudstjensten i Storkyrkan och derefter infinna sig i Rikssalen ; hvarjemte tillkännagafs, att nittio biljetter till Storkyrkan och Rikssalen blifvit öfversända till disposition af Andra Kammarens ledamöter, hvilka biljetter, efter skedd anteckning, nu jemväl i mån af tillgången till ledamöterne utdelades. RBiksd. Prot. 1867. 2 Afd, 2 Den 18 Januari. Gu V 8 5. Den dep', '[MASK] icke glömma, att hvarje Svensk man, utan åtskilnad af stånd, yrke eller lefnadssätt, är en medborgare, som har anspråk på jemnlikhet inför lagen och på möjligheten, så vidt det beror af lagstiftningen, att komma i åtnjutande at alla samhällsodlingens frukter ; att vid beviljandet af allmänna utgifter alltid erinra oss, att medlen dertill i sista hand endast förvärfvas genom arbete af det stora flertal, som måste äta sitt bröd i sitt anletes svett och hvars dagliga uppgift är att vänja sig vid försakelser ; att hos denna Representation icke skall framträda någon', '[MASK] icke någon riksdagsman sig inställt ; och tillkännagaf Hans Excellens dels att, enligt af honom inhemtad underrättelse, de i sistnämnda 3 domsagor hållna riksdagsmannaval blifvit upphäfda, valet i Ås och Gäseneds häraders domsaga genom Kongl. Maj : ts Utslag den 3 December sistlidne år samt valen i Thorstunå m. fl. häraders domsaga och Jemtlands Södra domsaga genom Kongl. Maj : ts Befallningshafvandes i Westmanlands och Jemtlands 1 än Utslag den 17 Oktober och den 29 September samma år, emot hvilka två', '[MASK] - Tjurbo och Wåla domsaga : > t DHD Westerås, Köping och Enköping : Konrektorn D. Olausson. Sala och Arboga : Borgmästaren J. A. Bovin. 16 Den 18 Januari. Kopparbergs län. Mora, Sophia Magdalena och Wenjans, Orsa, Elfdals samt Särna och Idre tingslager : 162. Hemmansegaren Bälter Sven Ersson i Östnor. Leksands, Åls och Bjursås, Rättviks och Ore samt Gagnefs tingslager : 163. Hemmansegaren Liss Olof Larsson i Westannor. Hedemora domsaga : 164. Hemmansegaren', '[MASK] [MASK] J. Liljencrantz. 13. Sockerbagaren OC. J. Grafström. Stockholms län. Frösåkers, Närdinghundra samt Wäddö och Häfverö domsaga : 14. Hemmansegaren Per Persson i Barkö. Sjuhundra, Lyhundra, Frötuna och Länna samt Bro och Wätö domsaga : 15. Hemmansegaren Matts Persson 1 Oster Edsvik. Färentuna, Sollentuna, Danderyds, Akers och Wermdö domsaga : 16. Arrendatorn J. Wener. - Erlinghundra, Semminghundra, Långhundra och Wallentona domsaga : 17.', '[MASK] 18 Januari. 19 ordet af oss skall föras med fullkomlig oväld vid denna Kammares ötverläggningar. Och det löftet skall ej svikas, huru mycket än meningarne må komma att korsa hvarandra, då de snart skola fritt utbytas om hvad som för oss alla är dyrbart. Ty hvad betyder det väl, att de sinsemellan äro olika och hvarföre skulle derigenom passioner uppröras, då de allesamman beherrskas af upprigtigt nit att tjena Konungen och landet? Jag tror fullt och fast på magten af detta föreningsband, och derföre går jag äfven', '[MASK] förd öfver det sednare valet, komme att anstå, i afbidan å Kongl. Maj : ts Nådiga beslut i anledning af förutnämnda underdåniga besvär. Då således det val, på grund hvaraf den utaf Henrik Hansson företedda fullmagten blifvit utfärdad, är vordet genom Kongl. Maj : ts Befallningshafvandes beslut upphäfdt ; så och ehuru underdånig klagan öfver detta beslut blifvit hos Kongl. Maj : t fullföljd, ansågs nämnda fullmagt likväl icke kunna för närvarande godkännas ; hvare', '[MASK] Hörnäs. Hernösand, Umeå, Luleå och Piteå : 181. Rådmannen G. P. Rönblad. Sundsvall och Östersund : 182. Borgmästaren M. Ahlgren. Jemtlands län. Norra Jemtlands domsaga : 183. f. d. Talmannen m. m. Nils Larson i Tullus. Södra Jemtlands domsaga : 184. Westerbottens län. Umeå tingslag : 185. Hemmansegaren Olof Nilsson i Brattby. Nordmalings och Bjurholms, Degerfors, Åsele och Lycksele tingslager : 186. Verksdelegaren G. E. Häggström. Norra domsagan : 187', '[MASK] 30. 3l. 32. 30. Den 18 Januari. 2 Eskilstuna och Strergnäs : Fabriksidkaren S. Palmgren. Östergötlands län. Kinda och, Ydre domsaga : vice Häradshöfdingen J. A. Astrand. Björkekinds, Östkinds, Lösings, Bråbo och Memmings domsaga : Godsegaren C. J. L. Lönnberg. Lysings och Göstrings domsaga : Landtbrukaren Anders August Andersson i Westanå. Åkerbo, Bankekinds och Hanekinds domsaga : ft. d. Premier - löjtnant', '[MASK], näst efter valet af Komiterade för utseende af kanslioch vaktbetjening. g 10. Härefter förekom fråga om val af suppleanter i de af grundlagen föreskrifna ständiga Utskotten, och hemställde Herr Talmannen till Kammaren huruvida dessa val borde förrättas särskildt för sig eller i sammanhang med valen af ordinarie ledamöter i hvarje Utskott. Härvid yrkade Herr Per Nilsson från Malmöhus län, det suppleanterne måtte väljas särskildt efter det val af de ordinarie ledamöterne i samtliga Utskotten först försiggått och Herr Murén hemställde att suppleanter måtte utses till ett antal at hälften emot de ordinarie', '[MASK] [MASK] att sätta enskilda fördelar framför det Den 18 Januari. 5 allmännas ; samt att vi skola såsom allmän regel visa oss i sann mening tänka högt om fosterlandet för bevarandet af dess sjelfständighet och för det unga slägtets uppfostran, medan vi tillika, på grund af vår historias lärdomar om förflutna tiders misstag, bedja Gud, att i alla tillgöranden, så väl rörande yttre som inre angelägenheter, städse bevara oss för vådorna af skryt, högfärd, lystnad och öfverdåd, hvilka mer än en gång under fordna mansåldrar varit hufvudors', '[MASK] tio dagar från Riksdags öppnande bestämd endast såsom den termin, inom hvilken motioner, hvilka skola handläggas af de ständiga Utskotten, böra anmälas, och att således motion i ämne, som uti denna punkt afses, kan göras, så snart Riksdagen är lagligen konstituerad. Beträffande mål, som icke tillhör ständigt Utskotts behandling, utan bör till utredning af tillfälligt Utskott öfverlemnas, — och endast ett Utskott af detta sednare slag skulle kunna komma i fråga att yttra sig öfver min motion, — medgifver åter Riksdags - ordningen uti andra stycket af nyss åberopade', '[MASK] [MASK], för att sedermera bland Kammarens ledamöter utdelas. Lämpligaste sättet att härvid gå till väga, torde vara, att Kammaren anmodade Herr Sjöberg att draga försorg härom, och att utgiften uppfördes på riksdagskostnaderna. Jag anhåller det Herr Talmannen behagade framställa proposition på denna min hemställan. Öfverläggningen förklarades vara afslutad, och uppå af Herr Talmannen framstäldt förslag blef den föredragna motionen nu bordlagd. Och lemnade Kammaren motionären det uppdrag att ofördröjligen befordra förslaget till trycket, på det detsamma kunde en hvar af Kammarens ledamöter med gör', '[MASK] 55 8 Riksdags - ordningen stadgar i I mom., att motion i ämne, som tillhör ständigt Utskotts behandling, må - af riksdagsman i den Kammare han tillhör göras inom tio dagar från riksdagens öppnande, och sålunda, på sätt jag redan anmärkt, uttryckligen endast angifver den tid, inom hvilken motion i sådant ämne må väckas ; hvarefter andra mom. i samma $ bjuder : \" i ämne, som icke tillhör ständigt Utskotts [UNK] behandling, kan motion, så länge Riksdagen är samlad, framställas. « Af ordalydelsen i båda dessa momenter följer sålunda oförtydbart, att motion', '[MASK], Johannes Andersson, Sandstedt, Medin, Hellerström, de Maré, Indebetou, Ödmansson, Per Nilsson i Espö, Bälter Sven Ersson, Wijk, Liljenmark, Stendahl, Friherre Fock, Svanberg, Swartz och Berger. Vid inträdestecknens utdelande hade H. Exc. Herr Justitie - Statsministern tillställt Ordföranden : 1 : o Följande, nu upplästa Utdrag af Protokollet, hållet inför H. Exc. Herr Justitie - Statsministern vid lagtima riksdagen i Stockholm den 16 Januari 1867. 5. D. För granskning af de', '[MASK] räddade det från branten af undergång, var det allmänna tänkesättet ense derom, att samhällets bestånd för framtiden icke vore försäkradt utan en styrelseförändring och en grundlag, som skulle lemna utrymme äfven åt folkets vilja att göra sig gällande. Men grundlagens stiftare, 1809 års Konstitutions - Utskott, anmärkte sjelfve, vid föreslåendet af den Regeringsform, som antogs till efterlefnad, att de måste lemna sitt verk ofullbordadt. —\\'+ Fäderneslandets vådor \\', sade de, \" hade icke medgifvit, att till någon', '[MASK] [MASK] ledamöter, som hyste en dylik åsigt, att deröfver sig yttra. Härom uppstod diskussion, som dock icke skulle i protokollet inflyta, men efter afslutande hvaraf votering begärdes. På grund af hvad under diskussionen härom förekommit, uppsattes, justerades och anslogs en så lydande voterings - proposition : Den som vill, att en komité må af Kammaren utses, för att uppgifva förslag å de personer, som må finnas lämplige att i Utskotten inträda, röstar Ja ; Den det ej vill röstar Nej ; Vinner Nej, har Kammaren beslutat, att', '[MASK]. Talmannen Anders Eriksson i Östra Kärne. Örebro : Kontraktsprosten m. m. Doktor G. W. Gumeelius. Westmanlands län. Snefringe, Siende, Tuhundra och Ytter - Tjurbo domsaga : Hemmansegaren Lars Persson i Hjulsta. Åkerbo och Skinskattebergs domsaga : Godsegaren, Friherre D. von Schulzenheim. Gamla Norbergs, Norrbo och Wagnsbro domsaga : F. d. Landshöfdingen m. m. Friherre H. S. K. Akerhjelm. Thorstuna, Simtuna, Ö']\n",
      "[{'score': 0.0966888964176178, 'token': 1870, 'token_str': 'punkten', 'sequence': 'punkten. Herr Friherre Gripenstedt : I afseende å frågan, från hvilken dag motionstiden må beräknas, är jag för min del af alldeles samma åsigt som Herr Talmannen, nemligen att den i grundlagen nämnda motionstiden icke kan anses taga sin början förrän den dag, Konungen å Rikssalen förklarat riksdagen öppnad. Saken är visserligen, i förevarande fall, temligen likgiltig, men detta är dock rätta tolkningen, och öfverensstämmer med hvad i gamla Riksdags - ordningen fanns stadgadt, der det heter, att motionstidens början räknas alltid från den dag, då Propositionen angående Statsverkets tillstånd'}, {'score': 0.067656010389328, 'token': 2139, 'token_str': 'förslag', 'sequence': 'förslag. Herr Friherre Gripenstedt : I afseende å frågan, från hvilken dag motionstiden må beräknas, är jag för min del af alldeles samma åsigt som Herr Talmannen, nemligen att den i grundlagen nämnda motionstiden icke kan anses taga sin början förrän den dag, Konungen å Rikssalen förklarat riksdagen öppnad. Saken är visserligen, i förevarande fall, temligen likgiltig, men detta är dock rätta tolkningen, och öfverensstämmer med hvad i gamla Riksdags - ordningen fanns stadgadt, der det heter, att motionstidens början räknas alltid från den dag, då Propositionen angående Statsverkets tillstånd'}, {'score': 0.05302479490637779, 'token': 20643, 'token_str': 'proposition', 'sequence': 'proposition. Herr Friherre Gripenstedt : I afseende å frågan, från hvilken dag motionstiden må beräknas, är jag för min del af alldeles samma åsigt som Herr Talmannen, nemligen att den i grundlagen nämnda motionstiden icke kan anses taga sin början förrän den dag, Konungen å Rikssalen förklarat riksdagen öppnad. Saken är visserligen, i förevarande fall, temligen likgiltig, men detta är dock rätta tolkningen, och öfverensstämmer med hvad i gamla Riksdags - ordningen fanns stadgadt, der det heter, att motionstidens början räknas alltid från den dag, då Propositionen angående Statsverkets tillstånd'}, {'score': 0.038052789866924286, 'token': 21303, 'token_str': 'propositionen', 'sequence': 'propositionen. Herr Friherre Gripenstedt : I afseende å frågan, från hvilken dag motionstiden må beräknas, är jag för min del af alldeles samma åsigt som Herr Talmannen, nemligen att den i grundlagen nämnda motionstiden icke kan anses taga sin början förrän den dag, Konungen å Rikssalen förklarat riksdagen öppnad. Saken är visserligen, i förevarande fall, temligen likgiltig, men detta är dock rätta tolkningen, och öfverensstämmer med hvad i gamla Riksdags - ordningen fanns stadgadt, der det heter, att motionstidens början räknas alltid från den dag, då Propositionen angående Statsverkets tillstånd'}, {'score': 0.029093120247125626, 'token': 14, 'token_str': 'm', 'sequence': 'm. Herr Friherre Gripenstedt : I afseende å frågan, från hvilken dag motionstiden må beräknas, är jag för min del af alldeles samma åsigt som Herr Talmannen, nemligen att den i grundlagen nämnda motionstiden icke kan anses taga sin början förrän den dag, Konungen å Rikssalen förklarat riksdagen öppnad. Saken är visserligen, i förevarande fall, temligen likgiltig, men detta är dock rätta tolkningen, och öfverensstämmer med hvad i gamla Riksdags - ordningen fanns stadgadt, der det heter, att motionstidens början räknas alltid från den dag, då Propositionen angående Statsverkets tillstånd'}]\n"
     ]
    },
    {
     "ename": "TypeError",
     "evalue": "cannot assign 'float' object to buffer 'weight' (torch Tensor or None required)",
     "output_type": "error",
     "traceback": [
      "\u001b[0;31m---------------------------------------------------------------------------\u001b[0m",
      "\u001b[0;31mTypeError\u001b[0m                                 Traceback (most recent call last)",
      "Cell \u001b[0;32mIn[69], line 22\u001b[0m\n\u001b[1;32m     20\u001b[0m     results \u001b[38;5;241m=\u001b[39m fill_mask(masked_input)\n\u001b[1;32m     21\u001b[0m     \u001b[38;5;28mprint\u001b[39m(results)\n\u001b[0;32m---> 22\u001b[0m     loss \u001b[38;5;241m+\u001b[39m\u001b[38;5;241m=\u001b[39m \u001b[43mnn\u001b[49m\u001b[38;5;241;43m.\u001b[39;49m\u001b[43mCrossEntropyLoss\u001b[49m\u001b[43m(\u001b[49m\u001b[43mresults\u001b[49m\u001b[43m[\u001b[49m\u001b[38;5;241;43m0\u001b[39;49m\u001b[43m]\u001b[49m\u001b[43m[\u001b[49m\u001b[38;5;124;43m'\u001b[39;49m\u001b[38;5;124;43mscore\u001b[39;49m\u001b[38;5;124;43m'\u001b[39;49m\u001b[43m]\u001b[49m\u001b[43m)\u001b[49m\n\u001b[1;32m     23\u001b[0m     \u001b[38;5;28mprint\u001b[39m(loss)\n\u001b[1;32m     24\u001b[0m \u001b[38;5;28;01mbreak\u001b[39;00m\n",
      "File \u001b[0;32m~/anaconda3/envs/swerick/lib/python3.12/site-packages/torch/nn/modules/loss.py:1174\u001b[0m, in \u001b[0;36mCrossEntropyLoss.__init__\u001b[0;34m(self, weight, size_average, ignore_index, reduce, reduction, label_smoothing)\u001b[0m\n\u001b[1;32m   1172\u001b[0m \u001b[38;5;28;01mdef\u001b[39;00m \u001b[38;5;21m__init__\u001b[39m(\u001b[38;5;28mself\u001b[39m, weight: Optional[Tensor] \u001b[38;5;241m=\u001b[39m \u001b[38;5;28;01mNone\u001b[39;00m, size_average\u001b[38;5;241m=\u001b[39m\u001b[38;5;28;01mNone\u001b[39;00m, ignore_index: \u001b[38;5;28mint\u001b[39m \u001b[38;5;241m=\u001b[39m \u001b[38;5;241m-\u001b[39m\u001b[38;5;241m100\u001b[39m,\n\u001b[1;32m   1173\u001b[0m              reduce\u001b[38;5;241m=\u001b[39m\u001b[38;5;28;01mNone\u001b[39;00m, reduction: \u001b[38;5;28mstr\u001b[39m \u001b[38;5;241m=\u001b[39m \u001b[38;5;124m'\u001b[39m\u001b[38;5;124mmean\u001b[39m\u001b[38;5;124m'\u001b[39m, label_smoothing: \u001b[38;5;28mfloat\u001b[39m \u001b[38;5;241m=\u001b[39m \u001b[38;5;241m0.0\u001b[39m) \u001b[38;5;241m-\u001b[39m\u001b[38;5;241m>\u001b[39m \u001b[38;5;28;01mNone\u001b[39;00m:\n\u001b[0;32m-> 1174\u001b[0m     \u001b[38;5;28;43msuper\u001b[39;49m\u001b[43m(\u001b[49m\u001b[43m)\u001b[49m\u001b[38;5;241;43m.\u001b[39;49m\u001b[38;5;21;43m__init__\u001b[39;49m\u001b[43m(\u001b[49m\u001b[43mweight\u001b[49m\u001b[43m,\u001b[49m\u001b[43m \u001b[49m\u001b[43msize_average\u001b[49m\u001b[43m,\u001b[49m\u001b[43m \u001b[49m\u001b[43mreduce\u001b[49m\u001b[43m,\u001b[49m\u001b[43m \u001b[49m\u001b[43mreduction\u001b[49m\u001b[43m)\u001b[49m\n\u001b[1;32m   1175\u001b[0m     \u001b[38;5;28mself\u001b[39m\u001b[38;5;241m.\u001b[39mignore_index \u001b[38;5;241m=\u001b[39m ignore_index\n\u001b[1;32m   1176\u001b[0m     \u001b[38;5;28mself\u001b[39m\u001b[38;5;241m.\u001b[39mlabel_smoothing \u001b[38;5;241m=\u001b[39m label_smoothing\n",
      "File \u001b[0;32m~/anaconda3/envs/swerick/lib/python3.12/site-packages/torch/nn/modules/loss.py:31\u001b[0m, in \u001b[0;36m_WeightedLoss.__init__\u001b[0;34m(self, weight, size_average, reduce, reduction)\u001b[0m\n\u001b[1;32m     29\u001b[0m \u001b[38;5;28;01mdef\u001b[39;00m \u001b[38;5;21m__init__\u001b[39m(\u001b[38;5;28mself\u001b[39m, weight: Optional[Tensor] \u001b[38;5;241m=\u001b[39m \u001b[38;5;28;01mNone\u001b[39;00m, size_average\u001b[38;5;241m=\u001b[39m\u001b[38;5;28;01mNone\u001b[39;00m, reduce\u001b[38;5;241m=\u001b[39m\u001b[38;5;28;01mNone\u001b[39;00m, reduction: \u001b[38;5;28mstr\u001b[39m \u001b[38;5;241m=\u001b[39m \u001b[38;5;124m'\u001b[39m\u001b[38;5;124mmean\u001b[39m\u001b[38;5;124m'\u001b[39m) \u001b[38;5;241m-\u001b[39m\u001b[38;5;241m>\u001b[39m \u001b[38;5;28;01mNone\u001b[39;00m:\n\u001b[1;32m     30\u001b[0m     \u001b[38;5;28msuper\u001b[39m()\u001b[38;5;241m.\u001b[39m\u001b[38;5;21m__init__\u001b[39m(size_average, reduce, reduction)\n\u001b[0;32m---> 31\u001b[0m     \u001b[38;5;28;43mself\u001b[39;49m\u001b[38;5;241;43m.\u001b[39;49m\u001b[43mregister_buffer\u001b[49m\u001b[43m(\u001b[49m\u001b[38;5;124;43m'\u001b[39;49m\u001b[38;5;124;43mweight\u001b[39;49m\u001b[38;5;124;43m'\u001b[39;49m\u001b[43m,\u001b[49m\u001b[43m \u001b[49m\u001b[43mweight\u001b[49m\u001b[43m)\u001b[49m\n\u001b[1;32m     32\u001b[0m     \u001b[38;5;28mself\u001b[39m\u001b[38;5;241m.\u001b[39mweight: Optional[Tensor]\n",
      "File \u001b[0;32m~/anaconda3/envs/swerick/lib/python3.12/site-packages/torch/nn/modules/module.py:537\u001b[0m, in \u001b[0;36mModule.register_buffer\u001b[0;34m(self, name, tensor, persistent)\u001b[0m\n\u001b[1;32m    535\u001b[0m     \u001b[38;5;28;01mraise\u001b[39;00m \u001b[38;5;167;01mKeyError\u001b[39;00m(\u001b[38;5;124mf\u001b[39m\u001b[38;5;124m\"\u001b[39m\u001b[38;5;124mattribute \u001b[39m\u001b[38;5;124m'\u001b[39m\u001b[38;5;132;01m{\u001b[39;00mname\u001b[38;5;132;01m}\u001b[39;00m\u001b[38;5;124m'\u001b[39m\u001b[38;5;124m already exists\u001b[39m\u001b[38;5;124m\"\u001b[39m)\n\u001b[1;32m    536\u001b[0m \u001b[38;5;28;01melif\u001b[39;00m tensor \u001b[38;5;129;01mis\u001b[39;00m \u001b[38;5;129;01mnot\u001b[39;00m \u001b[38;5;28;01mNone\u001b[39;00m \u001b[38;5;129;01mand\u001b[39;00m \u001b[38;5;129;01mnot\u001b[39;00m \u001b[38;5;28misinstance\u001b[39m(tensor, torch\u001b[38;5;241m.\u001b[39mTensor):\n\u001b[0;32m--> 537\u001b[0m     \u001b[38;5;28;01mraise\u001b[39;00m \u001b[38;5;167;01mTypeError\u001b[39;00m(\u001b[38;5;124mf\u001b[39m\u001b[38;5;124m\"\u001b[39m\u001b[38;5;124mcannot assign \u001b[39m\u001b[38;5;124m'\u001b[39m\u001b[38;5;132;01m{\u001b[39;00mtorch\u001b[38;5;241m.\u001b[39mtypename(tensor)\u001b[38;5;132;01m}\u001b[39;00m\u001b[38;5;124m'\u001b[39m\u001b[38;5;124m object to buffer \u001b[39m\u001b[38;5;124m'\u001b[39m\u001b[38;5;132;01m{\u001b[39;00mname\u001b[38;5;132;01m}\u001b[39;00m\u001b[38;5;124m'\u001b[39m\u001b[38;5;124m \u001b[39m\u001b[38;5;124m\"\u001b[39m\n\u001b[1;32m    538\u001b[0m                     \u001b[38;5;124m\"\u001b[39m\u001b[38;5;124m(torch Tensor or None required)\u001b[39m\u001b[38;5;124m\"\u001b[39m\n\u001b[1;32m    539\u001b[0m                     )\n\u001b[1;32m    540\u001b[0m \u001b[38;5;28;01melse\u001b[39;00m:\n\u001b[1;32m    541\u001b[0m     \u001b[38;5;28;01mfor\u001b[39;00m hook \u001b[38;5;129;01min\u001b[39;00m _global_buffer_registration_hooks\u001b[38;5;241m.\u001b[39mvalues():\n",
      "\u001b[0;31mTypeError\u001b[0m: cannot assign 'float' object to buffer 'weight' (torch Tensor or None required)"
     ]
    }
   ],
   "source": [
    "import torch.nn as nn\n",
    "pll = 0\n",
    "batch_size=64\n",
    "fill_mask = pipeline('fill-mask', model=model_hugging_face,tokenizer=tokenizer)\n",
    "for i in  range(max_length):\n",
    "\n",
    "    losses=[]\n",
    "    eval_dataset_log = Dataset.from_dict(lm_datasets_subset).map(\n",
    "        lambda examples: insert_special_masking_bis(examples,i),\n",
    "        batched=True,\n",
    "        remove_columns= lm_datasets[\"test\"].column_names\n",
    "    )\n",
    "    eval_dataloader = preprocessing.create_dataloader(eval_dataset_log,batch_size,default_data_collator)\n",
    "    for step, batch in enumerate(eval_dataloader):\n",
    "        inputs = tokenizer.batch_decode(batch['input_ids'])\n",
    "        print(inputs)\n",
    "        loss=0\n",
    "        for input_text in inputs:\n",
    "            # Remplacer le token <mask> approprié, si votre fonction `insert_special_masking_bis` ne le fait pas\n",
    "            masked_input = input_text.replace('[MASK]', fill_mask.tokenizer.mask_token)\n",
    "            results = fill_mask(masked_input)\n",
    "            print(results)\n",
    "            loss += nn.CrossEntropyLoss(results[0]['score'])\n",
    "            print(loss)\n",
    "        break\n",
    "        losses.append(loss)\n",
    "\n",
    "   \n",
    "    losses = torch.cat(losses)\n",
    "    print(\"loss\")\n",
    "    #losses = losses[: len(eval_dataloader.dataset)]\n",
    "    pll += torch.mean(losses)\n",
    "\n",
    "pll"
   ]
  },
  {
   "cell_type": "markdown",
   "metadata": {},
   "source": []
  },
  {
   "cell_type": "markdown",
   "metadata": {},
   "source": []
  },
  {
   "cell_type": "code",
   "execution_count": null,
   "metadata": {},
   "outputs": [],
   "source": [
    "evaluation_task(model_kb,eval_dataloader)"
   ]
  },
  {
   "cell_type": "code",
   "execution_count": 17,
   "metadata": {},
   "outputs": [],
   "source": [
    "# Undertanding the loss\n",
    "import torch.nn as nn\n",
    "\n",
    "vocab_size = 50328\n",
    "loss_function=nn.CrossEntropyLoss(reduction='none')\n",
    "losses=[]\n",
    "token_indices_with_high_loss = []\n",
    "\n",
    "for batch in valid_dataloader :\n",
    "    batch={key : batch[key].to(device) for key in batch.keys()}\n",
    "    output= model_kb(**batch)\n",
    "    loss = loss_function(output.logits.view(-1,output.logits.size(-1)), batch['labels'].view(-1))\n",
    "    del output\n",
    "    losses.extend(loss.tolist())\n",
    "    token_indices_with_high_loss.extend(batch['labels'].view(-1).tolist())\n",
    "    \n",
    "    \n",
    "high_loss_indices = sorted(range(len(losses)), key=lambda i: losses[i], reverse=True)[:50]\n",
    "high_loss_values = [losses[i] for i in high_loss_indices]\n",
    "print(high_loss_values)\n",
    "high_loss_tokens = [token_indices_with_high_loss[i] for i in high_loss_indices]\n",
    "print(high_loss_tokens)\n",
    "high_loss_words = [tokenizer.decode([idx]) for idx in high_loss_tokens]\n",
    "print(high_loss_words)"
   ]
  },
  {
   "cell_type": "code",
   "execution_count": 14,
   "metadata": {},
   "outputs": [
    {
     "data": {
      "text/plain": [
       "50"
      ]
     },
     "execution_count": 14,
     "metadata": {},
     "output_type": "execute_result"
    }
   ],
   "source": [
    "len(high_loss_values)"
   ]
  }
 ],
 "metadata": {
  "kernelspec": {
   "display_name": "base",
   "language": "python",
   "name": "python3"
  },
  "language_info": {
   "codemirror_mode": {
    "name": "ipython",
    "version": 3
   },
   "file_extension": ".py",
   "mimetype": "text/x-python",
   "name": "python",
   "nbconvert_exporter": "python",
   "pygments_lexer": "ipython3",
   "version": "3.12.2"
  }
 },
 "nbformat": 4,
 "nbformat_minor": 2
}
