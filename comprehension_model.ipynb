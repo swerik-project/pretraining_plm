{
 "cells": [
  {
   "cell_type": "code",
   "execution_count": 1,
   "metadata": {},
   "outputs": [],
   "source": [
    "from transformers import AutoModelForMaskedLM\n",
    "from transformers import AutoTokenizer\n",
    "import torch\n",
    "from collections import Counter\n",
    "import transformers\n",
    "from transformers import pipeline\n",
    "from datasets import load_dataset\n",
    "from transformers import DataCollatorForLanguageModeling\n",
    "from transformers import TrainingArguments\n",
    "from transformers import Trainer\n",
    "import math\n",
    "from torch.utils.data import DataLoader\n",
    "from transformers import default_data_collator\n",
    "from torch.optim import AdamW\n",
    "from accelerate import Accelerator\n",
    "from transformers import get_scheduler\n",
    "from tqdm.auto import tqdm\n",
    "import matplotlib.pyplot as plt\n",
    "import preprocessing\n",
    "import pickle\n",
    "import pandas as pd\n",
    "import os\n",
    "import re\n",
    "import comprehension_model\n",
    "from datasets import Dataset"
   ]
  },
  {
   "cell_type": "code",
   "execution_count": 5,
   "metadata": {},
   "outputs": [
    {
     "name": "stdout",
     "output_type": "stream",
     "text": [
      "cuda\n"
     ]
    }
   ],
   "source": [
    "device = torch.device(\"cuda\" if torch.cuda.is_available() else \"cpu\")\n",
    "print(device)"
   ]
  },
  {
   "cell_type": "code",
   "execution_count": 4,
   "metadata": {},
   "outputs": [
    {
     "name": "stdout",
     "output_type": "stream",
     "text": [
      "DatasetDict({\n",
      "    train: Dataset({\n",
      "        features: ['protocole', 'texte'],\n",
      "        num_rows: 12399\n",
      "    })\n",
      "    test: Dataset({\n",
      "        features: ['protocole', 'texte'],\n",
      "        num_rows: 2673\n",
      "    })\n",
      "})\n"
     ]
    }
   ],
   "source": [
    "data_files = {\"train\": \"swerick_data_random_train.pkl\", \"test\": \"swerick_data_random_test.pkl\"}\n",
    "swerick_dataset = load_dataset(\"pandas\",data_files=data_files)\n",
    "print(swerick_dataset)"
   ]
  },
  {
   "cell_type": "code",
   "execution_count": 2,
   "metadata": {},
   "outputs": [],
   "source": [
    "model_checkpoint = \"KBLab/bert-base-swedish-cased\"\n",
    "tokenizer =preprocessing.create_tokenizer(model_checkpoint)"
   ]
  },
  {
   "cell_type": "code",
   "execution_count": 13,
   "metadata": {},
   "outputs": [
    {
     "name": "stderr",
     "output_type": "stream",
     "text": [
      "Some weights of the model checkpoint at KBLab/bert-base-swedish-cased were not used when initializing BertForMaskedLM: ['bert.pooler.dense.bias', 'bert.pooler.dense.weight']\n",
      "- This IS expected if you are initializing BertForMaskedLM from the checkpoint of a model trained on another task or with another architecture (e.g. initializing a BertForSequenceClassification model from a BertForPreTraining model).\n",
      "- This IS NOT expected if you are initializing BertForMaskedLM from the checkpoint of a model that you expect to be exactly identical (initializing a BertForSequenceClassification model from a BertForSequenceClassification model).\n"
     ]
    }
   ],
   "source": [
    "model_kb = preprocessing.create_model_MLM(model_checkpoint)\n",
    "model_kb=model_kb.to(device)"
   ]
  },
  {
   "cell_type": "code",
   "execution_count": null,
   "metadata": {},
   "outputs": [],
   "source": [
    "tokenizer =preprocessing.create_tokenizer(model_checkpoint)"
   ]
  },
  {
   "cell_type": "code",
   "execution_count": null,
   "metadata": {},
   "outputs": [
    {
     "name": "stderr",
     "output_type": "stream",
     "text": [
      "Special tokens have been added in the vocabulary, make sure the associated word embeddings are fine-tuned or trained.\n"
     ]
    }
   ],
   "source": [
    "exbert_tokenizer = AutoTokenizer.from_pretrained(\"exbert_tokenizer\")"
   ]
  },
  {
   "cell_type": "code",
   "execution_count": 7,
   "metadata": {},
   "outputs": [],
   "source": [
    "from transformers import PreTrainedTokenizerFast\n",
    "\n",
    "swerick_tokenizer= PreTrainedTokenizerFast(\n",
    "    tokenizer_file=\"/home/laurinemeier/swerick/alvis_project/pretraining_from_scratch/tokenizer_swerick.json\",\n",
    "    unk_token=\"[UNK]\",\n",
    "    pad_token=\"[PAD]\",\n",
    "    cls_token=\"[CLS]\",\n",
    "    sep_token=\"[SEP]\",\n",
    "    mask_token=\"[MASK]\"\n",
    ")"
   ]
  },
  {
   "cell_type": "code",
   "execution_count": null,
   "metadata": {},
   "outputs": [],
   "source": [
    "with open(\"lm_dataset.pkl\",\"rb\") as f:\n",
    "    lm_datasets= pickle.load(f)"
   ]
  },
  {
   "cell_type": "code",
   "execution_count": null,
   "metadata": {},
   "outputs": [],
   "source": [
    "with open(\"valid_dataset.pkl\",\"rb\") as f:\n",
    "    valid_dataset= pickle.load(f)\n",
    "\n",
    "valid_dataset"
   ]
  },
  {
   "cell_type": "code",
   "execution_count": null,
   "metadata": {},
   "outputs": [],
   "source": [
    "valid_dataset=valid_dataset.remove_columns([\"word_ids\"])\n",
    "data_collator = preprocessing.data_collector_masking(tokenizer,0.15)\n",
    "lm_dataset_bis = lm_datasets.remove_columns([\"word_ids\",\"token_type_ids\"])\n",
    "\n",
    "print(lm_dataset_bis[\"test\"])\n",
    "eval_dataset = preprocessing.create_deterministic_eval_dataset(lm_dataset_bis[\"test\"],data_collator)\n",
    "valid_dataset=preprocessing.create_deterministic_eval_dataset(valid_dataset,data_collator)"
   ]
  },
  {
   "cell_type": "code",
   "execution_count": null,
   "metadata": {},
   "outputs": [],
   "source": [
    "from datasets import Dataset\n",
    "valid_dataset=valid_dataset.remove_columns([\"word_ids\"])\n",
    "data_collator = preprocessing.data_collector_masking(tokenizer,0.15)\n",
    "small_valid_dataset = preprocessing.create_deterministic_eval_dataset(valid_dataset.select(range(10000)),data_collator)\n",
    "small_valid_dataloader=preprocessing.create_dataloader(small_valid_dataset,64,default_data_collator)\n",
    "                                                                      "
   ]
  },
  {
   "cell_type": "code",
   "execution_count": null,
   "metadata": {},
   "outputs": [],
   "source": [
    "word = \"Statsrådet\"\n",
    "token_id = tokenizer.convert_tokens_to_ids(word)"
   ]
  },
  {
   "cell_type": "code",
   "execution_count": null,
   "metadata": {},
   "outputs": [],
   "source": [
    "def special_token(token,example):\n",
    "    return token in example['labels']"
   ]
  },
  {
   "cell_type": "code",
   "execution_count": null,
   "metadata": {},
   "outputs": [],
   "source": [
    "valid_filtered_dataset = valid_dataset.filter(lambda example : special_token(token_id,example))"
   ]
  },
  {
   "cell_type": "code",
   "execution_count": null,
   "metadata": {},
   "outputs": [],
   "source": [
    "valid_filtered_dataset"
   ]
  },
  {
   "cell_type": "code",
   "execution_count": null,
   "metadata": {},
   "outputs": [],
   "source": [
    "\n",
    "valid_filtered_dataloader=preprocessing.create_dataloader(valid_filtered_dataset,64,default_data_collator)"
   ]
  },
  {
   "cell_type": "code",
   "execution_count": null,
   "metadata": {},
   "outputs": [],
   "source": [
    "batch_size = 64\n",
    "train_dataloader = preprocessing.create_dataloader(lm_dataset_bis[\"train\"],batch_size,data_collator)\n",
    "def to_device(batch):\n",
    "    return {key: value.to(device) for key, value in batch.items()}\n",
    "\n",
    "print(\"ok\")\n",
    "eval_dataloader = preprocessing.create_dataloader(eval_dataset,batch_size,default_data_collator)\n",
    "valid_dataloader=preprocessing.create_dataloader(valid_dataset,batch_size,default_data_collator)"
   ]
  },
  {
   "cell_type": "code",
   "execution_count": 6,
   "metadata": {},
   "outputs": [],
   "source": [
    "model_hugging_face = AutoModelForMaskedLM.from_pretrained(\"finetuning_hugging_whitespace_bis-finetuned-imdb/checkpoint-2175500\")\n",
    "model_hugging_face=model_hugging_face.to(device)"
   ]
  },
  {
   "cell_type": "code",
   "execution_count": 7,
   "metadata": {},
   "outputs": [],
   "source": [
    "model_exbert = AutoModelForMaskedLM.from_pretrained(\"exbert-finetuned-imdb/checkpoint-5751300\")\n",
    "model_exbert=model_exbert.to(device)"
   ]
  },
  {
   "cell_type": "code",
   "execution_count": 10,
   "metadata": {},
   "outputs": [
    {
     "name": "stderr",
     "output_type": "stream",
     "text": [
      "/home/laurinemeier/.cache/huggingface/modules/transformers_modules/checkpoint-5258900/bert_layers.py:177: UserWarning: Unable to import Triton; defaulting MosaicBERT attention implementation to pytorch (this will reduce throughput when using this model).\n",
      "  warnings.warn(\n"
     ]
    },
    {
     "data": {
      "text/plain": [
       "BertForMaskedLM(\n",
       "  (bert): BertModel(\n",
       "    (embeddings): BertEmbeddings(\n",
       "      (word_embeddings): Embedding(50328, 768, padding_idx=0)\n",
       "      (token_type_embeddings): Embedding(2, 768)\n",
       "      (LayerNorm): LayerNorm((768,), eps=1e-12, elementwise_affine=True)\n",
       "      (dropout): Dropout(p=0.1, inplace=False)\n",
       "    )\n",
       "    (encoder): BertEncoder(\n",
       "      (layer): ModuleList(\n",
       "        (0-11): 12 x BertLayer(\n",
       "          (attention): BertUnpadAttention(\n",
       "            (self): BertUnpadSelfAttention(\n",
       "              (dropout): Dropout(p=0.1, inplace=False)\n",
       "              (Wqkv): Linear(in_features=768, out_features=2304, bias=True)\n",
       "            )\n",
       "            (output): BertSelfOutput(\n",
       "              (dense): Linear(in_features=768, out_features=768, bias=True)\n",
       "              (LayerNorm): LayerNorm((768,), eps=1e-12, elementwise_affine=True)\n",
       "              (dropout): Dropout(p=0.1, inplace=False)\n",
       "            )\n",
       "          )\n",
       "          (mlp): BertGatedLinearUnitMLP(\n",
       "            (gated_layers): Linear(in_features=768, out_features=6144, bias=False)\n",
       "            (act): GELU(approximate='none')\n",
       "            (wo): Linear(in_features=3072, out_features=768, bias=True)\n",
       "            (dropout): Dropout(p=0.1, inplace=False)\n",
       "            (layernorm): LayerNorm((768,), eps=1e-12, elementwise_affine=True)\n",
       "          )\n",
       "        )\n",
       "      )\n",
       "    )\n",
       "  )\n",
       "  (cls): BertOnlyMLMHead(\n",
       "    (predictions): BertLMPredictionHead(\n",
       "      (transform): BertPredictionHeadTransform(\n",
       "        (dense): Linear(in_features=768, out_features=768, bias=True)\n",
       "        (transform_act_fn): GELUActivation()\n",
       "        (LayerNorm): LayerNorm((768,), eps=1e-12, elementwise_affine=True)\n",
       "      )\n",
       "      (decoder): Linear(in_features=768, out_features=50328, bias=True)\n",
       "    )\n",
       "  )\n",
       ")"
      ]
     },
     "execution_count": 10,
     "metadata": {},
     "output_type": "execute_result"
    }
   ],
   "source": [
    "import transformers\n",
    "config = transformers.BertConfig.from_pretrained(\"alvis_project/pretraining_from_scratch/checkpoint-5258900\")\n",
    "mosaicBert = AutoModelForMaskedLM.from_pretrained(\"alvis_project/pretraining_from_scratch/checkpoint-5258900\",config=config,trust_remote_code=True)\n",
    "mosaicBert.to(device)"
   ]
  },
  {
   "cell_type": "code",
   "execution_count": null,
   "metadata": {},
   "outputs": [],
   "source": [
    "\n",
    "  \n",
    "valid_sentence_filtered = valid_filtered_dataset.map(lambda example : preprocessing.get_context_with_mask(example,token_id,tokenizer))"
   ]
  },
  {
   "cell_type": "code",
   "execution_count": null,
   "metadata": {},
   "outputs": [],
   "source": [
    "def get_embeddings_bis(model,dataloader, tokenizer,token_id):\n",
    "    model.eval()\n",
    "    model.to(device)\n",
    "    layerwise_embeddings = [[] for _ in range(model.config.num_hidden_layers + 1)]\n",
    "    preds=[]\n",
    "    for batch in dataloader :\n",
    "        tokens={key : value.to(device) for key,value in batch.items()}\n",
    "        if token_id not in list(batch[\"labels\"][0]):\n",
    "            continue\n",
    "        index=list(batch[\"labels\"][0]).index(token_id)\n",
    "        outputs= model(input_ids=tokens[\"input_ids\"],attention_mask=tokens[\"attention_mask\"],labels=tokens[\"labels\"],output_hidden_states=True)\n",
    "        preds.append(torch.argmax(F.softmax(outputs.logits.squeeze(0)[index])))\n",
    "        hidden_states = outputs.hidden_states  # tuple of (layer+1) tensors, each of shape (batch_size, seq_len, hidden_size)\n",
    "        for i, hidden_state in enumerate(hidden_states):\n",
    "            masked_embeddings = hidden_state[:, index, :].detach().cpu().numpy()  # Extract [CLS] token\n",
    "            layerwise_embeddings[i].append(masked_embeddings)\n",
    "    return [np.vstack(layer) for layer in layerwise_embeddings],preds\n"
   ]
  },
  {
   "cell_type": "code",
   "execution_count": null,
   "metadata": {},
   "outputs": [],
   "source": []
  },
  {
   "cell_type": "code",
   "execution_count": null,
   "metadata": {},
   "outputs": [],
   "source": [
    "from sklearn.decomposition import PCA\n",
    "inputs = valid_sentence_filtered[3]\n",
    "print(tokenizer.decode(inputs[\"input_ids\"]))\n",
    "token = {key: torch.tensor(value, dtype=torch.long).unsqueeze(0).to(device) for key,value in inputs.items()}\n",
    "outputs = model_hugging_face(input_ids=token[\"input_ids\"],attention_mask=token[\"attention_mask\"],labels=token[\"labels\"],output_hidden_states=True)\n",
    "outputs2=model_kb(input_ids=token[\"input_ids\"],attention_mask=token[\"attention_mask\"],labels=token[\"labels\"],output_hidden_states=True)\n",
    "tokens = tokenizer.convert_ids_to_tokens(token[\"input_ids\"].squeeze())\n",
    "index=inputs[\"labels\"].index(token_id)\n",
    "hidden_states = outputs.hidden_states\n",
    "hidden_states_kb = outputs2.hidden_states\n",
    "last_hidden_state = hidden_states[-1].squeeze().detach().cpu().numpy()\n",
    "print(tokenizer.decode(torch.argmax(outputs.logits.squeeze()[index])))\n",
    "print(tokenizer.decode(torch.argmax(outputs2.logits.squeeze()[index])))\n",
    "def plot_pca_hidden_state(hidden_state,tokens,number):\n",
    "    pca = PCA(n_components=2)\n",
    "    reduced_states = pca.fit_transform(hidden_state.squeeze().detach().cpu().numpy())\n",
    "\n",
    "    # Préparer la figure pour la visualisation\n",
    "    plt.figure(figsize=(14, 8))\n",
    "    for i, token in enumerate(tokens):\n",
    "        if token in [\"[CLS]\",\"[SEP]\"]:\n",
    "            color = 'green'  # Token spécial\n",
    "        elif token == '[MASK]':\n",
    "            color = 'purple'  # Token masqué\n",
    "        else:\n",
    "            color = 'cyan'  # Token de contexte\n",
    "        \n",
    "        plt.scatter(reduced_states[i, 0], reduced_states[i, 1], c=color, label=token)\n",
    "        plt.text(reduced_states[i, 0], reduced_states[i, 1], token, fontsize=9)\n",
    "\n",
    "    plt.xlabel(\"PC 1\")\n",
    "    plt.ylabel(\"PC 2\")\n",
    "    plt.title(f\"PCA of hidden state for one sentence at layer {number} \")\n",
    "    plt.legend(handles=[\n",
    "        plt.Line2D([0], [0], marker='o', color='w', markerfacecolor='cyan', markersize=10, label='Token de Contexte'),\n",
    "        plt.Line2D([0], [0], marker='o', color='w', markerfacecolor='green', markersize=10, label='Token Spécial'),\n",
    "        plt.Line2D([0], [0], marker='o', color='w', markerfacecolor='purple', markersize=10, label='Token Masqué')\n",
    "    ], loc='upper right')\n",
    "\n",
    "    plt.show()\n",
    "\n",
    "for j in range(13):\n",
    "    print(\"hugging face\")\n",
    "    plot_pca_hidden_state(hidden_states[j],tokens,j)\n",
    "    print(\"kb\")\n",
    "    plot_pca_hidden_state(hidden_states_kb[j],tokens,j)"
   ]
  },
  {
   "cell_type": "code",
   "execution_count": null,
   "metadata": {},
   "outputs": [],
   "source": [
    "#PCA hidden states\n",
    "from sklearn.decomposition import PCA\n",
    "from mpl_toolkits.mplot3d import Axes3D\n",
    "text = \"Herr [MASK] von Ehrenheim : Anledningen till den framställning \"\n",
    "inputs = tokenizer(text, return_tensors='pt').to(device)\n",
    "input_eb=exbert_tokenizer(text,return_tensors='pt').to(device)\n",
    "input_spa = swerick_tokenizer(text,return_tensors='pt').to(device)\n",
    "\n",
    "outputs = model_kb(**inputs,output_hidden_states=True)\n",
    "outputs_hugging = model_hugging_face(**inputs,output_hidden_states=True)\n",
    "output_eb=model_exbert(**input_eb,output_hidden_states=True)\n",
    "output_spa=mosaicBert(**input_spa,output_hidden_states=True)\n",
    "print(output_spa)\n",
    "all_hidden_states = outputs.hidden_states\n",
    "all_hidden_states_cpt = outputs_hugging.hidden_states\n",
    "all_hidden_states_eb = output_eb.hidden_states\n",
    "all_hidden_states_spa = output_spa.hidden_states\n",
    "\n",
    "index=2\n",
    "token_hidden_states = [layer_hidden_states[0, index].detach().cpu().numpy() for layer_hidden_states in all_hidden_states]\n",
    "token_hidden_states_cpt = [layer_hidden_states[0, index].detach().cpu().numpy() for layer_hidden_states in all_hidden_states_cpt]\n",
    "token_hidden_states_eb = [layer_hidden_states[0, index].detach().cpu().numpy() for layer_hidden_states in all_hidden_states_eb]\n",
    "#token_hidden_states_spa = [layer_hidden_states[0, index].detach().cpu().numpy() for layer_hidden_states in all_hidden_states_spa]\n",
    "\n",
    "pca_2d = PCA(n_components=2)\n",
    "token_hidden_states_2d = pca_2d.fit_transform(token_hidden_states)\n",
    "token_hidden_states_cpt_2d = pca_2d.fit_transform(token_hidden_states_cpt)\n",
    "token_hidden_states_eb_2d = pca_2d.fit_transform(token_hidden_states_eb)\n",
    "#token_hidden_states_spa_2d = pca_2d.fit_transform(token_hidden_states_spa)\n",
    "\n",
    "pca_3d = PCA(n_components=3)\n",
    "token_hidden_states_3d = pca_3d.fit_transform(token_hidden_states)\n",
    "token_hidden_states_cpt_3d = pca_3d.fit_transform(token_hidden_states_cpt)\n",
    "token_hidden_states_eb_3d = pca_3d.fit_transform(token_hidden_states_eb)\n",
    "#token_hidden_states_spa_3d = pca_3d.fit_transform(token_hidden_states_spa)\n",
    "\n",
    "plt.figure(figsize=(10, 7))\n",
    "for i in range(len(token_hidden_states_2d)):\n",
    "    plt.scatter(token_hidden_states_2d[i, 0], token_hidden_states_2d[i, 1], label=f'Layer {i}')\n",
    "  \n",
    "plt.plot(token_hidden_states_2d[:, 0], token_hidden_states_2d[:, 1], linestyle='-', marker='o')\n",
    "plt.plot(token_hidden_states_cpt_2d[:, 0], token_hidden_states_cpt_2d[:, 1], linestyle='-', marker='o',color='red',label='cptBERT')\n",
    "plt.plot(token_hidden_states_eb_2d[:, 0], token_hidden_states_eb_2d[:, 1], linestyle='-', marker='o',color='green',label='sBERTex')\n",
    "#plt.plot(token_hidden_states_spa_2d[:, 0], token_hidden_states_spa_2d[:, 1], linestyle='-', marker='o',color='black',label='sparBERT')\n",
    "plt.title(f'2D Projection of Hidden States of Token {tokenizer.decode(inputs[\"input_ids\"][0][index])} through layers')\n",
    "plt.xlabel('Principal Component 1')\n",
    "plt.ylabel('Principal Component 2')\n",
    "plt.legend()\n",
    "plt.show()\n",
    "\n",
    "# Visualisation en 3D\n",
    "fig = plt.figure(figsize=(10, 7))\n",
    "ax = fig.add_subplot(111, projection='3d')\n",
    "for i in range(len(token_hidden_states_3d)):\n",
    "    ax.scatter(token_hidden_states_3d[i, 0], token_hidden_states_3d[i, 1], token_hidden_states_3d[i, 2], label=f'Layer {i}')\n",
    "ax.plot(token_hidden_states_3d[:, 0], token_hidden_states_3d[:, 1], token_hidden_states_3d[:, 2], linestyle='-', marker='o')\n",
    "ax.plot(token_hidden_states_cpt_3d[:, 0], token_hidden_states_cpt_3d[:, 1], token_hidden_states_cpt_3d[:, 2], linestyle='-', marker='o',color='red',label='cptBERT')\n",
    "ax.plot(token_hidden_states_eb_3d[:, 0], token_hidden_states_eb_3d[:, 1], token_hidden_states_eb_3d[:, 2], linestyle='-', marker='o',color='green',label='sBERTex')\n",
    "#ax.plot(token_hidden_states_spa_3d[:, 0], token_hidden_states_spa_3d[:, 1], token_hidden_states_spa_3d[:, 2], linestyle='-', marker='o',color='black',label='sparBERT')\n",
    "ax.set_title(f'3D Projection of Hidden States of Token {tokenizer.decode(inputs[\"input_ids\"][0][index])} through layer')\n",
    "ax.set_xlabel('Principal Component 1')\n",
    "ax.set_ylabel('Principal Component 2')\n",
    "ax.set_zlabel('Principal Component 3')\n",
    "ax.legend()\n",
    "plt.show()"
   ]
  },
  {
   "cell_type": "code",
   "execution_count": null,
   "metadata": {},
   "outputs": [],
   "source": [
    "for layer in range(13):\n",
    "        combined_embeddings = np.concatenate([baseline_embeddings[layer], finetuned_embeddings[layer]])\n",
    "        tsne = TSNE(n_components=2, random_state=42)\n",
    "        X_tsne = tsne.fit_transform(combined_embeddings)\n",
    "        plt.figure(figsize=(10, 8))\n",
    "        for i, color in enumerate(['blue', 'red', 'orange', 'green']):\n",
    "            indices = [j for j, c in enumerate(colors) if c == color]\n",
    "            plt.scatter(X_tsne[indices, 0], X_tsne[indices, 1], c=color, label=color, alpha=0.5, edgecolors='w', s=50)\n",
    "\n",
    "        plt.title('t-SNE of Word Embeddings with Classification Results')\n",
    "        plt.legend(loc='best')\n",
    "        plt.show()"
   ]
  },
  {
   "cell_type": "code",
   "execution_count": null,
   "metadata": {},
   "outputs": [],
   "source": [
    "import matplotlib.pyplot as plt\n",
    "from sklearn.manifold import TSNE\n",
    "num_words=500\n",
    "embedding_matrix_kb = model_kb.bert.embeddings.word_embeddings.weight.detach().cpu()\n",
    "embedding_matrix_cpt= model_hugging_face.bert.embeddings.word_embeddings.weight.detach().cpu()\n",
    "#words_of_interest = ['##nader', '##varo', '##sapparat', 'ned', 'begär', '##ier', '##vens', 'replik', '##skri', '##ads', 'regionerna', '##skar', '##ositionen', 'försäkra', '##vot', '##fri', '##näringen', '##oko', '##olin', 'fonden', '##äck', '##skill', '##kontakt', '##grip', '##raftt', 'Fru', '##mäl', '##vari', 'Statsrådet', 'Utskottet', '##£', '##ati', '##rift', 'Full', '##farlig', '##eminister', '##iter', 'Pro', '##ande', 'någonting', 'Hultsfred', '##ötet', '##igen', '##speriod', 'Kungl', '##pekt', 'Onsdagen', '##kning', '##£', 'Kungl', 'Flott', '##sättas', '##arbetar', '718', '##mäter', '##mt', 'fi', '##NE', 'godkännas', 'JOHANSSON', 'Onsdagen', '##taga', 'Måndagen', 'Nr', '##hai', 'talman', 'Riksdagen']\n",
    "#word_indices = [tokenizer.vocab[word] for word in words_of_interest if word in tokenizer.vocab]\n",
    "words_of_interest= list(tokenizer.vocab.keys())[:num_words]\n",
    "selected_embeddings_kb = embedding_matrix_kb[:num_words, :]\n",
    "selected_embeddings_cpt = embedding_matrix_cpt[:num_words, :]\n",
    "tsne = TSNE(n_components=2, random_state=42,perplexity=30)\n",
    "embedding_2d = tsne.fit_transform(selected_embeddings_kb)\n",
    "\n",
    "# Tracer les embeddings 2D\n",
    "plt.figure(figsize=(10, 10))\n",
    "for i, word in enumerate(words_of_interest):\n",
    "    x, y = embedding_2d[i, :]\n",
    "    plt.scatter(x, y)\n",
    "    plt.annotate(word, (x, y), fontsize=9)\n",
    "\n",
    "plt.title('2D t-SNE Representation of Word Embeddings')\n",
    "plt.xlabel('t-SNE Dimension 1')\n",
    "plt.ylabel('t-SNE Dimension 2')\n",
    "plt.show()\n",
    "\n",
    "embedding_cpt = tsne.fit_transform(selected_embeddings_cpt)\n",
    "plt.figure(figsize=(10, 10))\n",
    "for i, word in enumerate(words_of_interest):\n",
    "    x, y = embedding_cpt[i, :]\n",
    "    plt.scatter(x, y)\n",
    "    plt.annotate(word, (x, y), fontsize=9)\n",
    "\n",
    "plt.title('2D t-SNE Representation of Word Embeddings for cptBERT')\n",
    "plt.xlabel('t-SNE Dimension 1')\n",
    "plt.ylabel('t-SNE Dimension 2')\n",
    "plt.show()"
   ]
  },
  {
   "cell_type": "code",
   "execution_count": 18,
   "metadata": {},
   "outputs": [
    {
     "name": "stdout",
     "output_type": "stream",
     "text": [
      "cls.predictions.transform.LayerNorm.weight\n"
     ]
    },
    {
     "data": {
      "image/png": "[encoded data removed]",
      "text/plain": [
       "<Figure size 1000x800 with 1 Axes>"
      ]
     },
     "metadata": {},
     "output_type": "display_data"
    }
   ],
   "source": [
    "# Comparaison of weights for different model\n",
    "import numpy as np\n",
    "\n",
    "weights_kb = comprehension_model.get_model_weights(model_kb)\n",
    "weights_finetuned = comprehension_model.get_model_weights(model_hugging_face)\n",
    "\n",
    "weight_diffs = {}\n",
    "for key in weights_kb.keys():\n",
    "    weight_diffs[key] = weights_finetuned[key] - weights_kb[key]\n",
    "    if (np.linalg.norm(weight_diffs[key])/weight_diffs[key].size) > 0.04 :\n",
    "        print(key)\n",
    "    #     print(np.linalg.norm(weight_diffs[key],2))\n",
    "    #     print(weight_diffs[key].size)\n",
    "    #     print( np.linalg.norm(weight_diffs[key])/weight_diffs[key].size)\n",
    "    \n",
    "\n",
    "weight_diffs[\"cls.predictions.decoder.bias\"] = model_hugging_face.cls.predictions.decoder.bias.detach().cpu().numpy() - model_kb.cls.predictions.decoder.bias.detach().cpu().numpy()\n",
    "weight_diffs[\"cls.predictions.decoder.weight\"] = model_hugging_face.cls.predictions.decoder.weight.detach().cpu().numpy() - model_kb.cls.predictions.decoder.weight.detach().cpu().numpy()\n",
    "norms = [(np.linalg.norm(weight_diffs[key])/weight_diffs[key].size) for key in weight_diffs.keys()]\n",
    "embedding_indices = [list(range(0, 5))]\n",
    "encoder_layers= list(range(5 ,5 +16*(11)))  # Adjust based on actual sublayers\n",
    "head_layer_indices = list(range(181, len(norms)))\n",
    "\n",
    "xticks_positions = [0, len(encoder_layers)//2 + len(embedding_indices), len(norms)-1]\n",
    "xticks_labels = ['Embedding Layers', 'Encoder Layers', 'Head Layers']\n",
    "\n",
    "plt.figure(figsize=(10, 8))\n",
    "plt.bar(range(len(norms)), norms)\n",
    "plt.axvline(x=5.5, color='grey', linestyle='--')\n",
    "plt.axvline(x=len(embedding_indices) + len(encoder_layers) - 0.5, color='grey', linestyle='--')\n",
    "plt.xticks(xticks_positions, xticks_labels, rotation=0)\n",
    "plt.ylabel('Frobenius Norm of Weight Differences')\n",
    "plt.xlabel('Sublayers')\n",
    "plt.title('Comparison of Weight Changes in BERT Layers')\n",
    "plt.show()  "
   ]
  },
  {
   "cell_type": "code",
   "execution_count": null,
   "metadata": {},
   "outputs": [],
   "source": [
    " "
   ]
  },
  {
   "cell_type": "code",
   "execution_count": null,
   "metadata": {},
   "outputs": [],
   "source": [
    "model_hugging_face.state_dict()[\"bert.encoder.layer.0.attention.self.key.weight\"].shape"
   ]
  },
  {
   "cell_type": "code",
   "execution_count": null,
   "metadata": {},
   "outputs": [],
   "source": [
    "import matplotlib.pyplot as plt\n",
    "from matplotlib.backends.backend_pdf import PdfPages\n",
    "\n",
    "with PdfPages('weight_distribution_scratch.pdf') as pdf:\n",
    "    for name,param in mosaicBert.named_parameters():\n",
    "        layer_name = name\n",
    "        print(name)\n",
    "        split_name =name.split('.')\n",
    "        layer = split_name[3]\n",
    "        print(layer)\n",
    "        #comprehension_model.plot_weight_distributions(model_hugging_face, model_kb, layer_name)\n",
    "        if \"attention.self.Wqkv\"  in name and \"weight\" in name:\n",
    "            weights2 = model_kb.state_dict()[f\"bert.encoder.layer.{str(layer)}.attention.self.query.{split_name[-1]}\"].flatten().cpu().numpy()\n",
    "            weights1 = mosaicBert.state_dict()[layer_name][:768,:].flatten().cpu().numpy()\n",
    "            plt.figure(figsize=(10, 5))\n",
    "            plt.hist(weights1, bins=100, alpha=0.5, label='finetuned Model',density=True)\n",
    "            plt.hist(weights2, bins=100, alpha=0.5, label='Baseline Model',density=True)\n",
    "            plt.title(f\"Weight Distribution Comparison for {layer_name}\")\n",
    "            plt.xlabel(\"Weight values\")\n",
    "            plt.ylabel(\"Frequency\")\n",
    "            plt.legend()\n",
    "            pdf.savefig()\n",
    "            plt.show()\n",
    "            plt.close()\n",
    "            \n",
    "            weights2 = model_kb.state_dict()[f\"bert.encoder.layer.{str(layer)}.attention.self.key.{split_name[-1]}\"].flatten().cpu().numpy()\n",
    "            weights1 = mosaicBert.state_dict()[layer_name][768:1536,:].flatten().cpu().numpy()\n",
    "            plt.figure(figsize=(10, 5))\n",
    "            plt.hist(weights1, bins=100, alpha=0.5, label='finetuned Model',density=True)\n",
    "            plt.hist(weights2, bins=100, alpha=0.5, label='Baseline Model',density=True)\n",
    "            plt.title(f\"Weight Distribution Comparison for {layer_name}\")\n",
    "            plt.xlabel(\"Weight values\")\n",
    "            plt.ylabel(\"Frequency\")\n",
    "            plt.legend()\n",
    "            pdf.savefig()\n",
    "            plt.show()\n",
    "            plt.close()\n",
    "            \n",
    "            weights2 = model_kb.state_dict()[f\"bert.encoder.layer.{str(layer)}.attention.self.value.{split_name[-1]}\"].flatten().cpu().numpy()\n",
    "            weights1 = mosaicBert.state_dict()[layer_name][1536:,:].flatten().cpu().numpy()\n",
    "            plt.figure(figsize=(10, 5))\n",
    "            plt.hist(weights1, bins=100, alpha=0.5, label='finetuned Model',density=True)\n",
    "            plt.hist(weights2, bins=100, alpha=0.5, label='Baseline Model',density=True)\n",
    "            plt.title(f\"Weight Distribution Comparison for {layer_name}\")\n",
    "            plt.xlabel(\"Weight values\")\n",
    "            plt.ylabel(\"Frequency\")\n",
    "            plt.legend()\n",
    "            pdf.savefig()\n",
    "            plt.show()\n",
    "            plt.close()\n",
    "        elif  \"attention.self.Wqkv\" in name and \"bias\" in name :\n",
    "            weights2 = model_kb.state_dict()[f\"bert.encoder.layer.{str(layer)}.attention.self.query.{split_name[-1]}\"].flatten().cpu().numpy()\n",
    "            weights1 = mosaicBert.state_dict()[layer_name][:768].flatten().cpu().numpy()\n",
    "            plt.figure(figsize=(10, 5))\n",
    "            plt.hist(weights1, bins=100, alpha=0.5, label='finetuned Model',density=True)\n",
    "            plt.hist(weights2, bins=100, alpha=0.5, label='Baseline Model',density=True)\n",
    "            plt.title(f\"Weight Distribution Comparison for {layer_name}\")\n",
    "            plt.xlabel(\"Weight values\")\n",
    "            plt.ylabel(\"Frequency\")\n",
    "            plt.legend()\n",
    "            pdf.savefig()\n",
    "            plt.show()\n",
    "            plt.close()\n",
    "            \n",
    "            weights2 = model_kb.state_dict()[f\"bert.encoder.layer.{str(layer)}.attention.self.key.{split_name[-1]}\"].flatten().cpu().numpy()\n",
    "            weights1 = mosaicBert.state_dict()[layer_name][768:1536].flatten().cpu().numpy()\n",
    "            plt.figure(figsize=(10, 5))\n",
    "            plt.hist(weights1, bins=100, alpha=0.5, label='finetuned Model',density=True)\n",
    "            plt.hist(weights2, bins=100, alpha=0.5, label='Baseline Model',density=True)\n",
    "            plt.title(f\"Weight Distribution Comparison for {layer_name}\")\n",
    "            plt.xlabel(\"Weight values\")\n",
    "            plt.ylabel(\"Frequency\")\n",
    "            plt.legend()\n",
    "            pdf.savefig()\n",
    "            plt.show()\n",
    "            plt.close()\n",
    "            \n",
    "            weights2 = model_kb.state_dict()[f\"bert.encoder.layer.{str(layer)}.attention.self.value.{split_name[-1]}\"].flatten().cpu().numpy()\n",
    "            weights1 = mosaicBert.state_dict()[layer_name][1536:].flatten().cpu().numpy()\n",
    "            plt.figure(figsize=(10, 5))\n",
    "            plt.hist(weights1, bins=100, alpha=0.5, label='finetuned Model',density=True)\n",
    "            plt.hist(weights2, bins=100, alpha=0.5, label='Baseline Model',density=True)\n",
    "            plt.title(f\"Weight Distribution Comparison for {layer_name}\")\n",
    "            plt.xlabel(\"Weight values\")\n",
    "            plt.ylabel(\"Frequency\")\n",
    "            plt.legend()\n",
    "            pdf.savefig()\n",
    "            plt.show()\n",
    "            plt.close() \n",
    "        elif \"mlp.gated_layers\"  in name :\n",
    "            \n",
    "            weights2 = model_kb.state_dict()[f\"bert.encoder.layer.{str(layer)}.intermediate.dense.{split_name[-1]}\"].flatten().cpu().numpy()\n",
    "            weights1 = mosaicBert.state_dict()[layer_name].flatten().cpu().numpy()\n",
    "            plt.figure(figsize=(10, 5))\n",
    "            plt.hist(weights1, bins=100, alpha=0.5, label='finetuned Model',density=True)\n",
    "            plt.hist(weights2, bins=100, alpha=0.5, label='Baseline Model',density=True)\n",
    "            plt.title(f\"Weight Distribution Comparison for {layer_name}\")\n",
    "            plt.xlabel(\"Weight values\")\n",
    "            plt.ylabel(\"Frequency\")\n",
    "            plt.legend()\n",
    "            pdf.savefig()\n",
    "            plt.show()\n",
    "            plt.close()\n",
    "            \n",
    "        elif \"mlp.wo\" in name :\n",
    "            weights2 = model_kb.state_dict()[f\"bert.encoder.layer.{str(layer)}.output.dense.{split_name[-1]}\"].flatten().cpu().numpy()\n",
    "            weights1 = mosaicBert.state_dict()[layer_name].flatten().cpu().numpy()\n",
    "            plt.figure(figsize=(10, 5))\n",
    "            plt.hist(weights1, bins=100, alpha=0.5, label='finetuned Model',density=True)\n",
    "            plt.hist(weights2, bins=100, alpha=0.5, label='Baseline Model',density=True)\n",
    "            plt.title(f\"Weight Distribution Comparison for {layer_name}\")\n",
    "            plt.xlabel(\"Weight values\")\n",
    "            plt.ylabel(\"Frequency\")\n",
    "            plt.legend()\n",
    "            pdf.savefig()\n",
    "            plt.show()\n",
    "            plt.close()\n",
    "            \n",
    "        elif \"mlp.layernorm\"  in name :\n",
    "            \n",
    "            weights2 = model_kb.state_dict()[f\"bert.encoder.layer.{str(layer)}.output.LayerNorm.{split_name[-1]}\"].flatten().cpu().numpy()\n",
    "            weights1 = mosaicBert.state_dict()[layer_name].flatten().cpu().numpy()\n",
    "            plt.figure(figsize=(10, 5))\n",
    "            plt.hist(weights1, bins=100, alpha=0.5, label='finetuned Model',density=True)\n",
    "            plt.hist(weights2, bins=100, alpha=0.5, label='Baseline Model',density=True)\n",
    "            plt.title(f\"Weight Distribution Comparison for {layer_name}\")\n",
    "            plt.xlabel(\"Weight values\")\n",
    "            plt.ylabel(\"Frequency\")\n",
    "            plt.legend()\n",
    "            pdf.savefig()\n",
    "            plt.show()\n",
    "            plt.close()\n",
    "            \n",
    "        elif \"cls.predictions.decoder\" in name:\n",
    "            continue\n",
    "            \n",
    "        else :\n",
    "            weights1 = mosaicBert.state_dict()[layer_name].flatten().cpu().numpy()\n",
    "            weights2 = model_kb.state_dict()[layer_name].flatten().cpu().numpy()\n",
    "            plt.figure(figsize=(10, 5))\n",
    "            plt.hist(weights1, bins=100, alpha=0.5, label='finetuned Model',density=True)\n",
    "            plt.hist(weights2, bins=100, alpha=0.5, label='Baseline Model',density=True)\n",
    "            plt.title(f\"Weight Distribution Comparison for {layer_name}\")\n",
    "            plt.xlabel(\"Weight values\")\n",
    "            plt.ylabel(\"Frequency\")\n",
    "            plt.legend()\n",
    "            pdf.savefig()\n",
    "            plt.show()\n",
    "            plt.close()"
   ]
  },
  {
   "cell_type": "code",
   "execution_count": null,
   "metadata": {},
   "outputs": [],
   "source": [
    "for name,param in model_exbert.named_parameters():\n",
    "    print(name)"
   ]
  },
  {
   "cell_type": "code",
   "execution_count": null,
   "metadata": {},
   "outputs": [],
   "source": [
    "\n",
    "layer_name = \"cls.predictions.transform.dense.weight\"\n",
    "\n",
    "weights2 = model_kb.state_dict()[layer_name].flatten().cpu().numpy()\n",
    "weights1 = mosaicBert.state_dict()[layer_name].flatten().cpu().numpy()\n",
    "plt.figure(figsize=(10, 5))\n",
    "plt.hist(weights1, bins=100, alpha=0.5, label='finetuned Model',density=True)\n",
    "plt.hist(weights2, bins=100, alpha=0.5, label='Baseline Model',density=True)\n",
    "plt.title(f\"Weight Distribution Comparison for {layer_name} for SparBERT\")\n",
    "plt.xlabel(\"Weight values\")\n",
    "plt.ylabel(\"Frequency\")\n",
    "plt.legend()\n",
    "plt.show()\n",
    "plt.close()"
   ]
  },
  {
   "cell_type": "code",
   "execution_count": null,
   "metadata": {},
   "outputs": [],
   "source": [
    "import torch.nn.functional as F\n",
    "print(hidden_states1[0].shape)\n",
    "i=8\n",
    "hidden_states1,logits1=get_embeddings_bis(model_kb,valid_sentence_filtered [i],tokenizer)\n",
    "hidden_states2,logits2=get_embeddings_bis(model_hugging_face,valid_sentence_filtered [i],tokenizer)\n",
    "#masked_positions =[idx for idx, token in enumerate(valid_filtered_dataset[i]['input_ids']) if token == tokenizer.mask_token_id]\n",
    "index = valid_sentence_filtered [i]['labels'].index(token_id)\n",
    "print(token_id)\n",
    "print(tokenizer.decode(valid_sentence_filtered[i]['input_ids']))\n",
    "print(tokenizer.decode(torch.argmax(F.softmax(logits1.squeeze()[index], dim=-1)).item()))\n",
    "print(tokenizer.decode(torch.argmax(F.softmax(logits2.squeeze()[index], dim=-1)).item()))\n",
    "for j in range(len(hidden_states1)) :\n",
    "    print(tokenizer.decode((valid_sentence_filtered[i]['labels'][index])))\n",
    "    print('hidden layer ',j)\n",
    "    plt.figure(figsize=(10,6))\n",
    "   #plt.hist(hidden_states1[j][0][index].detach().cpu().numpy(), bins=100, alpha=0.5, label='Baseline Model')\n",
    "    plt.hist(hidden_states1[j][0][0].detach().cpu().numpy(), bins=100, alpha=0.5, label='Baseline Model cls')\n",
    "    #plt.hist(hidden_states2[j][0][index].detach().cpu().numpy(), bins=100, alpha=0.5, label='Fine-tuned Model')\n",
    "    plt.hist(hidden_states2[j][0][0].detach().cpu().numpy(), bins=100, alpha=0.5, label='finetuned Model cls')\n",
    "    plt.xlabel('weight')\n",
    "    plt.ylabel('frequency')\n",
    "    plt.legend()\n",
    "    plt.show()"
   ]
  },
  {
   "cell_type": "code",
   "execution_count": null,
   "metadata": {},
   "outputs": [],
   "source": [
    "import numpy as np \n",
    "checkpoint_directory = \"/home/laurinemeier/swerick/finetuning/finetuning_hugging_whitespace-finetuned-imdb\"\n",
    "checkpoint_files = os.listdir(checkpoint_directory)\n",
    "checkpoint_files.sort(key=lambda x: int(re.search(r'checkpoint-(\\d+)', x).group(1)))\n",
    "selected_checkpoints = [checkpoint_files[i] for i in range(0, len(checkpoint_files), 10)]\n",
    "weight1 = model_kb.state_dict()[\"bert.embeddings.word_embeddings.weight\"].flatten().cpu().numpy()\n",
    "print(\"std kb\", np.std(weight1))\n",
    "for name in selected_checkpoints :\n",
    "    print(name)\n",
    "    model_hugging =AutoModelForMaskedLM.from_pretrained(checkpoint_directory + '/'+name)\n",
    "    weights2 = model_hugging.state_dict()[\"bert.embeddings.word_embeddings.weight\"].flatten().cpu().numpy()\n",
    "    print(np.std(weights2))\n",
    "    model_hugging.to(device)\n",
    "    comprehension_model.plot_weight_distributions(model_hugging, model_kb, \"bert.embeddings.word_embeddings.weight\")"
   ]
  },
  {
   "cell_type": "code",
   "execution_count": null,
   "metadata": {},
   "outputs": [],
   "source": [
    "hidden_states1 = comprehension_model.get_embeddings(model_kb, small_valid_dataloader, tokenizer)\n",
    "hidden_states2 = comprehension_model.get_embeddings(model_hugging_face, small_valid_dataloader, tokenizer)\n",
    "\n",
    "for i in range(len(hidden_states1)):\n",
    "        plt.figure(figsize=(10, 5))\n",
    "        plt.hist(hidden_states1[i].flatten(), bins=100, alpha=0.5, label='Baseline Model')\n",
    "        plt.hist(hidden_states2[i].flatten(), bins=100, alpha=0.5, label='Fine-tuned Model')\n",
    "        plt.title(f\"Hidden States Distribution Comparison for Layer {i}\")\n",
    "        plt.xlabel(\"Hidden States Values\")\n",
    "        plt.ylabel(\"Frequency\")\n",
    "        plt.legend()\n",
    "        plt.show()"
   ]
  },
  {
   "cell_type": "code",
   "execution_count": null,
   "metadata": {},
   "outputs": [],
   "source": [
    "#Evolution of a specific layer through epochs\n",
    "checkpoint_directory = 'finetuning/finetuning_hugging_whitespace-finetuned-imdb'\n",
    "comprehension_model.evolution_specific_layer_weight(chekpoint_directory)"
   ]
  },
  {
   "cell_type": "markdown",
   "metadata": {},
   "source": [
    "Study of Word Embedding"
   ]
  },
  {
   "cell_type": "code",
   "execution_count": null,
   "metadata": {},
   "outputs": [],
   "source": [
    "\n",
    "def plot_results(mean_similarities,x_label='Layer Number',y_label='Average Cosine Similarity',title='Average Layer-wise Cosine Similarity between hidden_states Across Validation Dataset'):\n",
    "    plt.figure(figsize=(10, 5))\n",
    "    plt.plot(range(len(mean_similarities)), mean_similarities, marker='o', linestyle='-', color='b')\n",
    "    plt.xlabel(x_label)\n",
    "    plt.ylabel(y_label)\n",
    "    plt.title(title)\n",
    "    plt.grid(True)\n",
    "    plt.show()\n",
    "\n",
    "mean_similarities_hidden_states,mean_similarities_attention,diff_tot = comprehension_model.extract_and_compare_activations(model_kb, model_hugging_face, valid_filtered_dataloader,token_id)\n",
    "print(\"Layer-wise cosine similarities:\", mean_similarities_hidden_states)\n",
    "\n",
    "\n",
    "plot_results(mean_similarities_hidden_states)\n",
    "plot_results(mean_similarities_attention,'Attention Layer Number',title='Average Attention Layer-wise Cosine Similarity between Attention values Across Validation Dataset')\n",
    "plot_results(diff_tot,'Layer Number',title='Average Norm difference between hidden states  Across Validation Dataset for token {words}')\n",
    "\n"
   ]
  },
  {
   "cell_type": "code",
   "execution_count": null,
   "metadata": {},
   "outputs": [],
   "source": [
    "import numpy as np\n",
    "import torch\n",
    "import matplotlib.pyplot as plt\n",
    "\n",
    "\n",
    "def cosine_similarity(tensor1, tensor2):\n",
    "    # Ensure tensors are flattened (1D) to compute vector cosine similarity\n",
    "    tensor1_flat = tensor1.view(-1)\n",
    "    tensor2_flat = tensor2.view(-1)\n",
    "    cos_sim = torch.nn.functional.cosine_similarity(tensor1_flat.unsqueeze(0), tensor2_flat.unsqueeze(0))\n",
    "    return cos_sim.item()\n",
    "\n",
    "\n",
    "# Define the device\n",
    "device = torch.device('cuda' if torch.cuda.is_available() else 'cpu')\n",
    "\n",
    "def plot_results(similarities, x_label='Layer Number', y_label='Average Cosine Similarity', title='Average Layer-wise Cosine Similarity between hidden_states Across Validation Dataset'):\n",
    "    plt.figure(figsize=(10, 5))\n",
    "    plt.plot(range(len(similarities)), similarities, marker='o', linestyle='-', color='b')\n",
    "    plt.xlabel(x_label)\n",
    "    plt.ylabel(y_label)\n",
    "    plt.title(title)\n",
    "    plt.grid(True)\n",
    "    plt.show()\n",
    "\n",
    "def compare_ffn_contributions(model_pre, model_post, dataloader):\n",
    "    similarities_pre = []\n",
    "   #similarities_post = []\n",
    "    \n",
    "    for batch in dataloader:\n",
    "        batch = {k: batch[k].to(device) for k in batch.keys()}\n",
    "        \n",
    "        with torch.no_grad():\n",
    "            pre_output = model_pre(**batch, output_hidden_states=True)\n",
    "            pre_activations = pre_output.hidden_states\n",
    "            post_output = model_post(**batch, output_hidden_states=True)\n",
    "            post_activations = post_output.hidden_states\n",
    "    \n",
    "        pre_contribution = [(pre_activations[layer+1] -pre_activations[layer]) for layer in range(len(pre_activations)-1)]\n",
    "        post_contribution = [(post_activations[layer+1] - post_activations[layer]) for layer in range(len(post_activations)-1)]\n",
    "\n",
    "        pre_activation = [cosine_similarity(pre_contribution[i],post_contribution[i]) for i in range (len(pre_contribution))]\n",
    "       # post_activation = [cosine_similairity(post_contribution[i] for i in range (len(post_contribution)))]\n",
    "        similarities_pre.append(pre_activation)\n",
    "       # similarities_post.append(post_contribution)\n",
    "        \n",
    "        del pre_activations\n",
    "        del post_activations\n",
    "        del pre_output\n",
    "        del post_output\n",
    "    \n",
    "    similarities_pre = np.mean(np.array(similarities_pre), axis=0)\n",
    "   # similarities_post = np.mean(np.array(similarities_post), axis=0)\n",
    "    \n",
    "    return similarities_pre\n",
    "# Example usage\n",
    "mean_similarity_pr = compare_ffn_contributions(model_kb, model_hugging_face, small_valid_dataloader)\n",
    "\n",
    "plot_results(mean_similarity_pr, x_label='Layer n+1 - Layer n', y_label='Average Cosine Similarity', title='Average Layer-wise Cosine Similarity for differences consecutive layers of KB Bert Model and cptBERT')\n",
    "#plot_results(mean_similarity_post, label='Layer n+1 - Layer n', x_label='Layer n+1 - Layer n', y_label='Average Cosine Similarity', title='Average Layer-wise Cosine Similarity for Finetuned Model')\n"
   ]
  },
  {
   "cell_type": "markdown",
   "metadata": {},
   "source": []
  },
  {
   "cell_type": "code",
   "execution_count": null,
   "metadata": {},
   "outputs": [],
   "source": [
    "import torch.nn.functional as F\n",
    "import numpy as np\n",
    "\n",
    "# see if final layers is similar\n",
    "\n",
    "\n",
    "def cosine_similarity(tensor1, tensor2):\n",
    "    # Ensure tensors are flattened (1D) to compute vector cosine similarity\n",
    "    tensor1_flat = tensor1.view(-1)\n",
    "    tensor2_flat = tensor2.view(-1)\n",
    "    cos_sim = torch.nn.functional.cosine_similarity(tensor1_flat.unsqueeze(0), tensor2_flat.unsqueeze(0))\n",
    "    return cos_sim.item()\n",
    "\n",
    "\n",
    "def interpolate_to_length(tensor, target_length):\n",
    "    # Interpolation linéaire pour redimensionner le tenseur à la longueur cible\n",
    "    current_length = tensor.shape[1]\n",
    "    if current_length == target_length:\n",
    "        return tensor\n",
    "    # Créer un tenseur avec la longueur cible en utilisant l'interpolation linéaire\n",
    "    interpolated_tensor = F.interpolate(tensor.transpose(1, 2), size=target_length, mode='linear', align_corners=False).transpose(1, 2)\n",
    "    return interpolated_tensor\n",
    "\n",
    "def plot_results(similarities, x_label='Layer Number', y_label='Average Cosine Similarity', title='Average Layer-wise Cosine Similarity between hidden_states Across Validation Dataset'):\n",
    "    plt.figure(figsize=(10, 5))\n",
    "    plt.plot(range(len(similarities)), similarities, marker='o', linestyle='-', color='b')\n",
    "    plt.xlabel(x_label)\n",
    "    plt.ylabel(y_label)\n",
    "    plt.title(title)\n",
    "    plt.grid(True)\n",
    "    plt.show()\n",
    "    \n",
    "model_hugging_face.to(device)\n",
    "model_exbert.to(device)\n",
    "#mosaicBert.to(device)  \n",
    "model_kb.to(device)\n",
    "\n",
    "\n",
    "\n",
    "\n",
    "cosine_cpt_final=[]\n",
    "cosine_eb_final=[]\n",
    "cosine_spa_final=[]\n",
    "hidden_states=[]\n",
    "cosine_embedding=[]\n",
    "diff_final_kb=[]\n",
    "diff_final_eb=[]\n",
    "embedding_cpt = model_hugging_face.bert.embeddings\n",
    "embedding_kb=model_kb.bert.embeddings\n",
    "\n",
    "# random_vector = torch.randn_like(hidden_states[0]).to(device)\n",
    "torch.manual_seed(33)\n",
    "for layer in range(12):\n",
    "\n",
    "    cosine_cpt=[]\n",
    "    cosine_eb=[]\n",
    "    cosine_spa=[]\n",
    "    diff_kb=[]\n",
    "    diff_eb=[]\n",
    "    last_layer_kb = model_kb.bert.encoder.layer[layer]\n",
    "    last_layer_cpt = model_hugging_face.bert.encoder.layer[layer]\n",
    "    last_layer_eb=model_exbert.bert.encoder.layer[layer]\n",
    "       \n",
    "    for batch in small_valid_dataloader :\n",
    "        batch={key:value.to(device) for key,value in batch.items()}\n",
    "        with torch.no_grad():\n",
    "            output=model_kb(**batch,output_hidden_states=True)\n",
    "        if layer ==0:\n",
    "            embedding = embedding_cpt(batch[\"input_ids\"])\n",
    "            \n",
    "        hidden_states=output.hidden_states[layer].to(device)\n",
    "\n",
    "      \n",
    "        # if layer ==0:\n",
    "        #     embedding = embedding_cpt(random_embedding)  \n",
    "        #     embeddingkb= embedding_kb(random_embedding)\n",
    "        hs_kb=last_layer_kb(hidden_states)\n",
    "        hs_cpt=last_layer_cpt(hidden_states)\n",
    "        hs_eb=last_layer_eb(hidden_states)\n",
    "        \n",
    "        \n",
    "                \n",
    "        # if layer==0:\n",
    "        #     cosine_embedding.append(cosine_similarity(embeddingkb,embedding))\n",
    "            \n",
    "        cosine_cpt.append(cosine_similarity(hs_kb[0],hs_cpt[0]))\n",
    "        cosine_eb.append(cosine_similarity(hs_kb[0],hs_eb[0]))\n",
    "        cosine_spa.append(cosine_similarity(hs_eb[0],hs_cpt[0]))\n",
    "        diff_kb.append(cosine_similarity(hs_kb[0]-hidden_states,hs_cpt[0]-hidden_states))\n",
    "        diff_eb.append(cosine_similarity(hs_kb[0]-hidden_states,hs_eb[0]-hidden_states))\n",
    "        # if layer==0:\n",
    "        #     cosine_cpt_final.append(np.mean(cosine_embedding))\n",
    "    cosine_cpt_final.append(np.mean(cosine_cpt))\n",
    "    cosine_eb_final.append(np.mean(cosine_eb))\n",
    "    cosine_spa_final.append(np.mean(cosine_spa,axis=0))\n",
    "    diff_final_kb.append(np.mean(diff_kb))\n",
    "    diff_final_eb.append(np.mean(diff_eb))\n",
    "    \n",
    "    print(np.mean(cosine_cpt))\n",
    "    print(np.mean(cosine_eb))   \n",
    "            \n",
    "\n",
    "plot_results(cosine_cpt_final,x_label='Layer',title='Avg cosine similarity between KB bert and cptBERT without propagation')\n",
    "plot_results(cosine_eb_final,x_label='Layer',title='Avg cosine similarity between KB bert and sBERTex without propagation')\n",
    "plot_results(cosine_spa_final,x_label='Layer',title='Avg cosine similarity between cptBERT and sBERTex without propagation')\n",
    "plot_results(diff_final_kb,x_label='Layer',title='Avg cosine similarity between differences of consecutives layers cptBERT and KB bert without propagation')\n",
    "plot_results(diff_final_eb,x_label='Layer',title='Avg cosine similarity between differences of consecutives layers sBERTex and KB bert without propagation')\n",
    "# # print(\"cosine similarity spa\",np.mean(cosine_spa,axis=0))\n",
    "    \n",
    "# sentence = \"Herr [MASK] von Ehrenheim : Äfven\"\n",
    "# input_kb=tokenizer(sentence,return_tensors='pt').to(device)\n",
    "# input_eb=exbert_tokenizer(sentence,return_tensors='pt').to(device)\n",
    "# model_kb.to(device)\n",
    "# model_exbert.to(device)\n",
    "\n",
    "\n",
    "# output1=model_kb(**input_kb,output_hidden_states=True)\n",
    "# output2=model_exbert(**input_eb,output_hidden_states=True)\n",
    "# pre_activations = output1.hidden_states\n",
    "# post_activation=output2.hidden_states\n",
    "\n",
    "# target_length=len(pre_activations[0][0])\n",
    "# print(target_length)\n",
    "\n",
    "# pre_contribution = [interpolate_to_length((pre_activations[layer+1] -pre_activations[layer]),target_length) for layer in range(len(pre_activations)-1)]\n",
    "# post_contribution = [interpolate_to_length((post_activation[layer+1] - post_activation[layer]),target_length) for layer in range(len(post_activation)-1)]\n",
    "\n",
    "# cosine_activation = [cosine_similarity(pre_contribution[i],post_contribution[i]) for i in range (len(pre_contribution))]\n",
    "\n",
    "\n",
    "# plot_results(cosine_activation,x_label=\"Layer\",y_label=\"Average Cosine Similairyt difference\")\n",
    "\n",
    "\n",
    "\n",
    "\n"
   ]
  },
  {
   "cell_type": "code",
   "execution_count": null,
   "metadata": {},
   "outputs": [],
   "source": [
    "import torch.nn.functional as F\n",
    "\n",
    "text=\"Herr [MASK] von Ehrenheim : Anledningen till den framställning\"\n",
    "input_kb=tokenizer(text,return_tensors='pt').to(device)\n",
    "output=model_kb(**input_kb,output_hidden_states=True)\n",
    "\n",
    "hidden_states=output.hidden_states[-1].to(device)\n",
    "head_layer_kb=model_kb.cls\n",
    "head_layer_cpt=model_hugging_face.cls\n",
    "head_layer_eb=model_exbert.cls\n",
    "head_layer_spa=mosaicBert.cls\n",
    "output_kb = head_layer_kb(hidden_states)\n",
    "output_cpt = head_layer_cpt(hidden_states)\n",
    "output_eb = head_layer_eb(hidden_states)\n",
    "output_spa=head_layer_spa(hidden_states)\n",
    "print(output_kb.shape)\n",
    "\n",
    "softmax_probs_kb = F.softmax(output_kb.squeeze()[2], dim=-1)\n",
    "sorted_probs_kb, sorted_indices_kb = torch.sort(softmax_probs_kb, descending=True)\n",
    "sorted_tokens_kb = [tokenizer.decode([idx]) for idx in sorted_indices_kb[:10]]\n",
    "print(sorted_tokens_kb)\n",
    "\n",
    "softmax_probs_kb = F.softmax(output.logits.squeeze()[2], dim=-1)\n",
    "sorted_probs_kb, sorted_indices_kb = torch.sort(softmax_probs_kb, descending=True)\n",
    "sorted_tokens_kb = [tokenizer.decode([idx]) for idx in sorted_indices_kb[:10]]\n",
    "print(sorted_tokens_kb)\n",
    "\n",
    "softmax_probs_cpt = F.softmax(output_cpt.squeeze()[2], dim=-1)\n",
    "sorted_probs_cpt, sorted_indices_cpt = torch.sort(softmax_probs_cpt, descending=True)\n",
    "sorted_tokens_cpt= [tokenizer.decode([idx]) for idx in sorted_indices_cpt[:10]]\n",
    "print(sorted_tokens_cpt)\n",
    "\n",
    "softmax_probs_eb = F.softmax(output_eb.squeeze()[2], dim=-1)\n",
    "sorted_probs_eb, sorted_indices_eb = torch.sort(softmax_probs_eb, descending=True)\n",
    "sorted_tokens_eb = [exbert_tokenizer.decode([idx]) for idx in sorted_indices_eb[:10]]\n",
    "print(sorted_tokens_eb)\n",
    "\n",
    "\n",
    "softmax_probs_spa = F.softmax(output_spa.squeeze()[2], dim=-1)\n",
    "sorted_probs_spa, sorted_indices_spa = torch.sort(softmax_probs_spa, descending=True)\n",
    "sorted_tokens_spa = [swerick_tokenizer.decode([idx]) for idx in sorted_indices_spa[:10]]\n",
    "print(sorted_tokens_spa)"
   ]
  },
  {
   "cell_type": "code",
   "execution_count": null,
   "metadata": {},
   "outputs": [],
   "source": [
    "# Cosine similarity between layers\n",
    "from datasets import Dataset\n",
    "import torch\n",
    "import numpy as np\n",
    "\n",
    "\n",
    "\n",
    "\n",
    "def extract_and_compare_feed_forward_weights(model_pre, model_post, dataloader):\n",
    "    similarities_attention = {}\n",
    "    similarities_query = {}\n",
    "    similarities_key = {}\n",
    "    similarities_value = {}\n",
    "    for (name_base, param_base), (name_fine, param_fine) in zip(model_kb.named_parameters(), model_hugging_face.named_parameters()):\n",
    "        if \"cls.predictions.transform.dense.weight\" in name_base :\n",
    "            sim = cosine_similarity(param_base, param_fine)\n",
    "            similarities_attention[name_base]=sim\n",
    "            print(f\"{name_base} - Cosine Similarity: {sim}\")\n",
    "        if  \"cls.predictions.transform.dense.bias\" in name_base:\n",
    "            sim = cosine_similarity(param_base, param_fine)\n",
    "            similarities_query[name_base]=sim\n",
    "        if  \"attention.self.key.bias\" in name_base:\n",
    "            sim = cosine_similarity(param_base, param_fine)\n",
    "            similarities_key[name_base]=sim\n",
    "        if  \"attention.self.value.bias\" in name_base:\n",
    "            sim = cosine_similarity(param_base, param_fine)\n",
    "            similarities_value[name_base]=sim\n",
    "            print(f\"{name_base} - Cosine Similarity: {sim}\")\n",
    "\n",
    "    return similarities_attention,similarities_query,similarities_key,similarities_value\n",
    "       \n",
    "def cosine_similarity(tensor1, tensor2):\n",
    "    # Ensure tensors are flattened (1D) to compute vector cosine similarity\n",
    "    tensor1_flat = tensor1.view(-1)\n",
    "    tensor2_flat = tensor2.view(-1)\n",
    "    cos_sim = torch.nn.functional.cosine_similarity(tensor1_flat.unsqueeze(0), tensor2_flat.unsqueeze(0))\n",
    "    return cos_sim.item()\n",
    "\n",
    "\n",
    "\n",
    "def plot_results(similarities,label,x_label='Layer Number',y_label='Average Cosine Similarity',title='Average Layer-wise Cosine Similarity between hidden_states Across Validation Dataset'):\n",
    "    plt.figure(figsize=(10, 5))\n",
    "    plt.plot(range(len(similarities)), similarities, marker='o', linestyle='-', color='b',)\n",
    "    plt.xlabel(label)\n",
    "    plt.ylabel(y_label)\n",
    "    plt.title(title)\n",
    "    plt.grid(True)\n",
    "    plt.show()\n",
    "\n",
    "mean_similarities_attention,mean_similarities_query,mean_similarities_key,mean_similarities_value = extract_and_compare_feed_forward_weights(model_kb, model_hugging_face, valid_dataloader)\n",
    "similarity_attention=[mean_similarities_attention[i] for i in mean_similarities_attention.keys()]\n",
    "similarity_query=[mean_similarities_query[i] for i in mean_similarities_query.keys()]\n",
    "similarity_key=[mean_similarities_key[i] for i in mean_similarities_key.keys()]\n",
    "similarity_value=[mean_similarities_value[i] for i in mean_similarities_value.keys()]\n",
    "\n",
    "\n",
    "\n",
    "plot_results(similarity_attention,label = mean_similarities_attention.keys(),title='layer wise cosine similarity between weights for attention.output.dense')\n",
    "plot_results(similarity_query,label = mean_similarities_query.keys(),title='layer wise cosine similarity between weights for attention.self.query')\n",
    "plot_results(similarity_key,label = mean_similarities_key.keys(),title='layer wise cosine similarity between weights for attention.self.key')\n",
    "plot_results(similarity_value,label = mean_similarities_value.keys(),title='layer wise cosine similarity between weights for attention.self.value')\n"
   ]
  },
  {
   "cell_type": "code",
   "execution_count": 7,
   "metadata": {},
   "outputs": [],
   "source": [
    "def get_embeddings(text,model):\n",
    "\n",
    "    inputs = tokenizer(text, return_tensors=\"pt\", padding=\"max_length\", truncation=True, max_length=512).to(device)\n",
    "    with torch.no_grad():\n",
    "        outputs = model(**inputs,output_hidden_states=True)\n",
    "        \n",
    "    embeddings = outputs.hidden_states\n",
    "    return embeddings"
   ]
  },
  {
   "cell_type": "code",
   "execution_count": null,
   "metadata": {},
   "outputs": [],
   "source": [
    "embeddings_train = [get_embeddings(phrase,model_kb) for phrase in date_dataset[\"train\"][\"content\"][:5]]\n",
    "print(len(embeddings_train))\n",
    "print(len(embeddings_train[0]))\n",
    "embeddings_test = [get_embeddings(phrase,model_kb) for phrase in date_dataset[\"test\"][\"content\"][:5]]"
   ]
  },
  {
   "cell_type": "code",
   "execution_count": 8,
   "metadata": {},
   "outputs": [
    {
     "name": "stdout",
     "output_type": "stream",
     "text": [
      "DatasetDict({\n",
      "    train: Dataset({\n",
      "        features: ['protocole', 'Note', 'id', 'party', 'gender'],\n",
      "        num_rows: 3378877\n",
      "    })\n",
      "    test: Dataset({\n",
      "        features: ['protocole', 'Note', 'id', 'party', 'gender'],\n",
      "        num_rows: 725974\n",
      "    })\n",
      "})\n"
     ]
    }
   ],
   "source": [
    "data_files = {\"train\": \"evaluation/swerick_data_party_train.pkl\", \"test\": \"evaluation/swerick_data_party_test.pkl\"}\n",
    "party_dataset = load_dataset(\"pandas\",data_files=data_files)\n",
    "print(party_dataset)"
   ]
  },
  {
   "cell_type": "code",
   "execution_count": 9,
   "metadata": {},
   "outputs": [],
   "source": [
    "def extract_date_from_filename(protocole):\n",
    "    match = re.search(r'/(\\d+)/', protocole)\n",
    "    if match:\n",
    "        year = match.group(1)\n",
    "        return int(year[:4])\n",
    "    else:\n",
    "        return None\n",
    "dates = [extract_date_from_filename(row['protocole']) for row in party_dataset['train']]\n",
    "dates_test = [extract_date_from_filename(row['protocole']) for row in party_dataset['test']]\n",
    "party_dataset['train'] = party_dataset['train'].add_column('date', dates)\n",
    "party_dataset['test'] = party_dataset['test'].add_column('date', dates_test)"
   ]
  },
  {
   "cell_type": "code",
   "execution_count": 10,
   "metadata": {},
   "outputs": [
    {
     "data": {
      "application/vnd.jupyter.widget-view+json": {
       "model_id": "d0f91b38a0c4422fbdf2b5804797e73f",
       "version_major": 2,
       "version_minor": 0
      },
      "text/plain": [
       "Map:   0%|          | 0/3378877 [00:00<?, ? examples/s]"
      ]
     },
     "metadata": {},
     "output_type": "display_data"
    },
    {
     "data": {
      "application/vnd.jupyter.widget-view+json": {
       "model_id": "4c8ec61197b649d490fd5c2e788fb2ce",
       "version_major": 2,
       "version_minor": 0
      },
      "text/plain": [
       "Map:   0%|          | 0/725974 [00:00<?, ? examples/s]"
      ]
     },
     "metadata": {},
     "output_type": "display_data"
    }
   ],
   "source": [
    "def determine_reform(example):\n",
    "    example['reform'] = 0 if example['date'] <= 1912 else 1\n",
    "    return example\n",
    "\n",
    "# Appliquer la fonction à chaque ligne du dataset\n",
    "date_dataset = party_dataset.map(determine_reform)"
   ]
  },
  {
   "cell_type": "code",
   "execution_count": 72,
   "metadata": {},
   "outputs": [
    {
     "name": "stdout",
     "output_type": "stream",
     "text": [
      "[1, 1, 0, 1, 1, 0, 1, 1, 1, 1]\n",
      "[1, 1, 0, 1, 1, 0, 1, 1, 1, 1]\n"
     ]
    }
   ],
   "source": [
    "date_dataset[\"train\"] = date_dataset[\"train\"].shuffle(seed=42)\n",
    "date_dataset[\"test\"] = date_dataset[\"test\"].shuffle(seed=42)\n",
    "print(date_dataset[\"train\"][:10][\"reform\"])\n",
    "print(date_dataset[\"train\"][:10][\"reform\"])"
   ]
  },
  {
   "cell_type": "code",
   "execution_count": 22,
   "metadata": {},
   "outputs": [
    {
     "name": "stdout",
     "output_type": "stream",
     "text": [
      "['post', 'post', 'pre', 'post', 'post', 'pre', 'post', 'post', 'post', 'post']\n",
      "['post', 'post', 'pre', 'post', 'post', 'pre', 'post', 'post', 'post', 'post']\n",
      "['post', 'post', 'pre', 'post', 'post', 'pre', 'post', 'post', 'post', 'post']\n",
      "['post', 'post', 'pre', 'post', 'post', 'pre', 'post', 'post', 'post', 'post']\n",
      "['post', 'post', 'pre', 'post', 'post', 'pre', 'post', 'post', 'post', 'post']\n",
      "['post', 'post', 'pre', 'post', 'post', 'pre', 'post', 'post', 'post', 'post']\n",
      "['post', 'post', 'pre', 'post', 'post', 'pre', 'post', 'post', 'post', 'post']\n",
      "['post', 'post', 'pre', 'post', 'post', 'pre', 'post', 'post', 'post', 'post']\n",
      "['post', 'post', 'pre', 'post', 'post', 'pre', 'post', 'post', 'post', 'post']\n",
      "['post', 'post', 'pre', 'post', 'post', 'pre', 'post', 'post', 'post', 'post']\n",
      "['post', 'post', 'pre', 'post', 'post', 'pre', 'post', 'post', 'post', 'post']\n",
      "['post', 'post', 'pre', 'post', 'post', 'pre', 'post', 'post', 'post', 'post']\n",
      "['post', 'post', 'pre', 'post', 'post', 'pre', 'post', 'post', 'post', 'post']\n",
      "Layer 0: Accuracy 0.8\n",
      "Layer 1: Accuracy 0.8\n",
      "Layer 2: Accuracy 0.8\n",
      "Layer 3: Accuracy 0.8\n",
      "Layer 4: Accuracy 0.8\n",
      "Layer 5: Accuracy 0.8\n",
      "Layer 6: Accuracy 0.8\n",
      "Layer 7: Accuracy 0.8\n",
      "Layer 8: Accuracy 0.8\n",
      "Layer 9: Accuracy 0.8\n",
      "Layer 10: Accuracy 0.8\n",
      "Layer 11: Accuracy 0.8\n",
      "Layer 12: Accuracy 0.8\n"
     ]
    }
   ],
   "source": [
    "#Edge probing : predicting noun  \n",
    "import numpy as np \n",
    "from sklearn.linear_model import LogisticRegression\n",
    "from sklearn.metrics import accuracy_score\n",
    "        \n",
    "def extract_and_classify(dataset_train,dataset_test, model,length):\n",
    "    layer_accuracies = []\n",
    "    with torch.no_grad():\n",
    "        for layer_index in range(model.config.num_hidden_layers + 1):  # Include the embedding layer\n",
    "            embeddings_train = [get_embeddings(phrase,model_kb) for phrase in dataset_train['Note'][:length]]\n",
    "            train_embeddings =[sentence[layer_index].cpu().numpy().flatten() for sentence in embeddings_train] \n",
    "            train_labels = dataset_train[\"reform\"][:length]\n",
    "            print(train_labels)\n",
    "            embeddings_test = [get_embeddings(phrase,model_kb) for phrase in dataset_test[\"Note\"][:length]]\n",
    "            test_embeddings =[sentence[layer_index].cpu().numpy().flatten() for sentence in embeddings_test] \n",
    "            test_labels = dataset_test[\"reform\"][:length]\n",
    "\n",
    "            clf = LogisticRegression()\n",
    "            clf.fit(train_embeddings, train_labels)\n",
    "            y_pred = clf.predict(test_embeddings)\n",
    "\n",
    "            # Calculate accuracy\n",
    "            accuracy = accuracy_score(test_labels, y_pred)\n",
    "            layer_accuracies.append((layer_index, accuracy))\n",
    "    \n",
    "    return layer_accuracies\n",
    "\n",
    "\n",
    "accuracies = extract_and_classify(date_dataset[\"train\"],date_dataset[\"test\"], model_kb,10)\n",
    "\n",
    "# Output the accuracies for each layer\n",
    "for layer, acc in accuracies:\n",
    "    print(f\"Layer {layer}: Accuracy {acc}\")\n",
    "\n",
    "\n"
   ]
  },
  {
   "cell_type": "code",
   "execution_count": 24,
   "metadata": {},
   "outputs": [
    {
     "name": "stdout",
     "output_type": "stream",
     "text": [
      "['post', 'post', 'pre', 'post', 'post', 'pre', 'post', 'post', 'post', 'post']\n",
      "['post', 'post', 'pre', 'post', 'post', 'pre', 'post', 'post', 'post', 'post']\n",
      "['post', 'post', 'pre', 'post', 'post', 'pre', 'post', 'post', 'post', 'post']\n",
      "['post', 'post', 'pre', 'post', 'post', 'pre', 'post', 'post', 'post', 'post']\n",
      "['post', 'post', 'pre', 'post', 'post', 'pre', 'post', 'post', 'post', 'post']\n",
      "['post', 'post', 'pre', 'post', 'post', 'pre', 'post', 'post', 'post', 'post']\n",
      "['post', 'post', 'pre', 'post', 'post', 'pre', 'post', 'post', 'post', 'post']\n",
      "['post', 'post', 'pre', 'post', 'post', 'pre', 'post', 'post', 'post', 'post']\n",
      "['post', 'post', 'pre', 'post', 'post', 'pre', 'post', 'post', 'post', 'post']\n",
      "['post', 'post', 'pre', 'post', 'post', 'pre', 'post', 'post', 'post', 'post']\n",
      "['post', 'post', 'pre', 'post', 'post', 'pre', 'post', 'post', 'post', 'post']\n",
      "['post', 'post', 'pre', 'post', 'post', 'pre', 'post', 'post', 'post', 'post']\n",
      "['post', 'post', 'pre', 'post', 'post', 'pre', 'post', 'post', 'post', 'post']\n",
      "Layer 0: Accuracy 0.8\n",
      "Layer 1: Accuracy 0.8\n",
      "Layer 2: Accuracy 0.8\n",
      "Layer 3: Accuracy 0.8\n",
      "Layer 4: Accuracy 0.8\n",
      "Layer 5: Accuracy 0.8\n",
      "Layer 6: Accuracy 0.8\n",
      "Layer 7: Accuracy 0.8\n",
      "Layer 8: Accuracy 0.8\n",
      "Layer 9: Accuracy 0.8\n",
      "Layer 10: Accuracy 0.8\n",
      "Layer 11: Accuracy 0.8\n",
      "Layer 12: Accuracy 0.8\n"
     ]
    }
   ],
   "source": [
    "accuracies = extract_and_classify(date_dataset[\"train\"],date_dataset[\"test\"], model_hugging_face,10)\n",
    "for layer, acc in accuracies:\n",
    "    print(f\"Layer {layer}: Accuracy {acc}\")"
   ]
  },
  {
   "cell_type": "code",
   "execution_count": null,
   "metadata": {},
   "outputs": [],
   "source": [
    "train_embeddings =[sentence[1] for sentence in embeddings_train] \n",
    "len(train_embeddings[0][0][0])"
   ]
  },
  {
   "cell_type": "code",
   "execution_count": null,
   "metadata": {},
   "outputs": [],
   "source": [
    "input = date_dataset[\"train\"][\"content\"][0]\n",
    "input = tokenizer(input,return_tensors=\"pt\", padding=\"max_length\", truncation=True, max_length=512)\n",
    "data_collator = preprocessing.data_collector_masking(tokenizer,0.15)\n",
    "input=data_collator([input])\n",
    "collated_inputs = {key: value.squeeze(1) for key, value in input.items()}\n",
    "output =model_kb(collated_inputs[\"input_ids\"],attention_mask=collated_inputs[\"attention_mask\"],labels =collated_inputs[\"labels\"],output_hidden_states=True)\n",
    "hidden_states = output.hidden_states\n",
    "\n"
   ]
  },
  {
   "cell_type": "code",
   "execution_count": 14,
   "metadata": {},
   "outputs": [],
   "source": [
    "def extract_features(examples,model,tokenizer):\n",
    "  # take a batch of images\n",
    "  images = examples['Note']\n",
    "  images = tokenizer(images,return_tensors=\"pt\", padding=\"max_length\", truncation=True, max_length=512).to(device)\n",
    "  with torch.no_grad():\n",
    "    output =model(**images,output_hidden_states=True)\n",
    "  hidden_states = output.hidden_states\n",
    "  # add features of each layer\n",
    "  for i in range(len(hidden_states)):\n",
    "      features = torch.mean(hidden_states[i], dim=1)\n",
    "      #features = hidden_states[i].cpu().numpy().flatten() \n",
    "      examples[f'features_{i}'] = features.cpu().detach().numpy()\n",
    "      #examples[f'features_{i}'] = features\n",
    "  \n",
    "  return examples"
   ]
  },
  {
   "cell_type": "markdown",
   "metadata": {},
   "source": []
  },
  {
   "cell_type": "code",
   "execution_count": 15,
   "metadata": {},
   "outputs": [
    {
     "data": {
      "application/vnd.jupyter.widget-view+json": {
       "model_id": "0368da3bc8bf4347b6270b727ad41435",
       "version_major": 2,
       "version_minor": 0
      },
      "text/plain": [
       "Map:   0%|          | 0/1000 [00:00<?, ? examples/s]"
      ]
     },
     "metadata": {},
     "output_type": "display_data"
    },
    {
     "ename": "",
     "evalue": "",
     "output_type": "error",
     "traceback": [
      "\u001b[1;31mThe Kernel crashed while executing code in the current cell or a previous cell. \n",
      "\u001b[1;31mPlease review the code in the cell(s) to identify a possible cause of the failure. \n",
      "\u001b[1;31mClick <a href='https://aka.ms/vscodeJupyterKernelCrash'>here</a> for more info. \n",
      "\u001b[1;31mView Jupyter <a href='command:jupyter.viewOutput'>log</a> for further details."
     ]
    }
   ],
   "source": [
    "from transformers import default_data_collator\n",
    "data_collator = default_data_collator\n",
    "encoded_dataset_train_cpt=Dataset.from_dict(date_dataset[\"train\"][:1000]).map(lambda example :extract_features(example,model_hugging_face,tokenizer), batched=False)\n",
    "encoded_dataset_train_kb=Dataset.from_dict(date_dataset[\"train\"][:1000]).map(lambda example :extract_features(example,model_kb,tokenizer), batched=False)\n",
    "encoded_dataset_train_eb=Dataset.from_dict(date_dataset[\"train\"][:1000]).map(lambda example :extract_features(example,model_exbert,exbert_tokenizer), batched=False)\n",
    "#encoded_dataset_train_spa=Dataset.from_dict(date_dataset[\"train\"][:5000]).map(lambda example :extract_features(example,mosaicBert,swerick_tokenizer), batched=False)"
   ]
  },
  {
   "cell_type": "code",
   "execution_count": null,
   "metadata": {},
   "outputs": [
    {
     "data": {
      "application/vnd.jupyter.widget-view+json": {
       "model_id": "8b2bb1a16ffd4ed3b8199760bf4f4295",
       "version_major": 2,
       "version_minor": 0
      },
      "text/plain": [
       "Map:   0%|          | 0/10000 [00:00<?, ? examples/s]"
      ]
     },
     "metadata": {},
     "output_type": "display_data"
    },
    {
     "data": {
      "application/vnd.jupyter.widget-view+json": {
       "model_id": "7b06d2ee9e5a42d792c5dff0f9c67a82",
       "version_major": 2,
       "version_minor": 0
      },
      "text/plain": [
       "Map:   0%|          | 0/10000 [00:00<?, ? examples/s]"
      ]
     },
     "metadata": {},
     "output_type": "display_data"
    },
    {
     "data": {
      "application/vnd.jupyter.widget-view+json": {
       "model_id": "9926f1ccfbcb40868c8151f843ae4fd8",
       "version_major": 2,
       "version_minor": 0
      },
      "text/plain": [
       "Map:   0%|          | 0/10000 [00:00<?, ? examples/s]"
      ]
     },
     "metadata": {},
     "output_type": "display_data"
    }
   ],
   "source": [
    "encoded_dataset_test_cpt = Dataset.from_dict(date_dataset[\"test\"][:1000]).map(lambda example :extract_features(example,model_hugging_face,tokenizer), batched=False)\n",
    "encoded_dataset_test_kb = Dataset.from_dict(date_dataset[\"test\"][:1000]).map(lambda example :extract_features(example,model_kb,tokenizer), batched=False)\n",
    "encoded_dataset_test_eb = Dataset.from_dict(date_dataset[\"test\"][:1000]).map(lambda example :extract_features(example,model_exbert,exbert_tokenizer), batched=False)"
   ]
  },
  {
   "cell_type": "code",
   "execution_count": null,
   "metadata": {},
   "outputs": [],
   "source": [
    "encoded_dataset_test['features_4']==encoded_dataset_test_bis['features_4']"
   ]
  },
  {
   "cell_type": "code",
   "execution_count": null,
   "metadata": {},
   "outputs": [],
   "source": [
    "from sklearn.linear_model import LogisticRegression\n",
    "from tqdm.notebook import tqdm\n",
    "from sklearn.metrics import f1_score\n",
    "def scores_linear_prob(train_dataset,test_dataset):\n",
    "    train_dataset = train_dataset\n",
    "    test_dataset = test_dataset\n",
    "\n",
    "    scores = dict()\n",
    "    for i in range(model_kb.config.num_hidden_layers + 1):\n",
    "        train_features = torch.Tensor(train_dataset[f'features_{i}']).squeeze(1)\n",
    "        test_features = torch.Tensor(test_dataset[f'features_{i}']).squeeze(1)\n",
    "        lr_clf = LogisticRegression(max_iter=1000)\n",
    "        lr_clf.fit(train_features, train_dataset['reform'])\n",
    "        # compute accuracy on training + test set\n",
    "        #training_score = lr_clf.score(train_features, train_dataset['reform_label'])\n",
    "        #test_score = lr_clf.score(test_features, test_dataset['reform_label'])\n",
    "        #scores[f'features_{i}'] = (training_score, test_score)\n",
    "\n",
    "        train_preds = lr_clf.predict(train_features)\n",
    "        test_preds = lr_clf.predict(test_features)\n",
    "        training_f1 = f1_score(train_dataset['reform'], train_preds, average='macro')\n",
    "        test_f1 = f1_score(test_dataset['reform'], test_preds, average='macro')\n",
    "        \n",
    "        scores[f'features_{i}'] = (training_f1, test_f1)\n",
    "        \n",
    "    return scores\n",
    "\n",
    "\n",
    "scores_cpt = scores_linear_prob(encoded_dataset_train_cpt,encoded_dataset_test_cpt)\n",
    "scores_kb = scores_linear_prob(encoded_dataset_train_kb,encoded_dataset_test_kb)\n",
    "scores_eb = scores_linear_prob(encoded_dataset_train_eb,encoded_dataset_test_eb)\n"
   ]
  },
  {
   "cell_type": "code",
   "execution_count": null,
   "metadata": {},
   "outputs": [
    {
     "data": {
      "image/png": "[encoded data removed]",
      "text/plain": [
       "<Figure size 1400x700 with 1 Axes>"
      ]
     },
     "metadata": {},
     "output_type": "display_data"
    }
   ],
   "source": [
    "layers = list(scores_cpt.keys())\n",
    "\n",
    "test_scores_1 = [scores_cpt[layer][1] for layer in layers]\n",
    "test_scores_2 = [scores_kb[layer][1] for layer in layers]\n",
    "test_scores_3 = [scores_eb[layer][1] for layer in layers]\n",
    "##test_scores_4 = [scores_spa[layer][1] for layer in layers]\n",
    "\n",
    "# Création des graphiques\n",
    "plt.figure(figsize=(14, 7))\n",
    "\n",
    "\n",
    "plt.plot(layers, test_scores_1, label='cptBERT', marker='o')\n",
    "plt.plot(layers, test_scores_2, label='KB-BERT', marker='s')\n",
    "plt.plot(layers, test_scores_3, label='sBERTex', marker='s')\n",
    "#plt.plot(layers, test_scores_4, label='KB-BERT', marker='s')\n",
    "\n",
    "plt.xlabel('Layers')\n",
    "plt.ylabel('F1 Score')\n",
    "plt.title('F1 Scores for Each Layer')\n",
    "plt.legend()\n",
    "plt.xticks(rotation=45)\n",
    "plt.grid(True)\n",
    "\n",
    "plt.tight_layout()\n",
    "plt.show()"
   ]
  },
  {
   "cell_type": "code",
   "execution_count": 46,
   "metadata": {},
   "outputs": [
    {
     "data": {
      "application/vnd.jupyter.widget-view+json": {
       "model_id": "e2892dab5017453788d9b75b73b85113",
       "version_major": 2,
       "version_minor": 0
      },
      "text/plain": [
       "Map:   0%|          | 0/10 [00:00<?, ? examples/s]"
      ]
     },
     "metadata": {},
     "output_type": "display_data"
    },
    {
     "data": {
      "application/vnd.jupyter.widget-view+json": {
       "model_id": "f4d34415707346a8b2d109ee4e75456a",
       "version_major": 2,
       "version_minor": 0
      },
      "text/plain": [
       "Map:   0%|          | 0/10 [00:00<?, ? examples/s]"
      ]
     },
     "metadata": {},
     "output_type": "display_data"
    }
   ],
   "source": [
    "#Scalr mixing probing\n",
    "import torch.nn as nn\n",
    "import torch.optim as optim\n",
    "from transformers import AutoTokenizer, AutoModel\n",
    "from datasets import Dataset\n",
    "from sklearn.metrics import f1_score\n",
    "\n",
    "class ScalarMix(nn.Module):\n",
    "    def __init__(self, num_layers):\n",
    "        super(ScalarMix, self).__init__()\n",
    "        self.weights = nn.Parameter(torch.zeros(num_layers))\n",
    "        self.gamma = nn.Parameter(torch.tensor(1.0))\n",
    "    \n",
    "    def forward(self, layers):\n",
    "        norm_weights = torch.nn.functional.softmax(self.weights, dim=0)\n",
    "        mixed_representation = sum(w * layer for w, layer in zip(norm_weights, layers))\n",
    "        return self.gamma * mixed_representation\n",
    "\n",
    "\n",
    "class ProbingModel(nn.Module):\n",
    "    def __init__(self, num_layers, hidden_size):\n",
    "        super(ProbingModel, self).__init__()\n",
    "        self.scalar_mix = ScalarMix(num_layers)\n",
    "        self.classifier = nn.Linear(hidden_size, 2)  # Assuming binary classification\n",
    "    \n",
    "    def forward(self, hidden_states):\n",
    "        mixed_representation = self.scalar_mix(hidden_states)\n",
    "        return self.classifier(mixed_representation)\n",
    "    \n",
    "    \n",
    "def extract_features(example, model, tokenizer):\n",
    "    inputs = tokenizer(example['Note'], return_tensors=\"pt\", padding=\"max_length\", truncation=True, max_length=512).to(device)\n",
    "    with torch.no_grad():\n",
    "        outputs = model(**inputs,output_hidden_states=True)\n",
    "    hidden_states=outputs.hidden_states\n",
    "    hidden_states =torch.stack([torch.mean(state, dim=1) for state in hidden_states], dim=0).cpu().numpy()\n",
    "    example[\"hidden_states\"]=hidden_states\n",
    "    return example\n",
    "\n",
    "def train_scalar_mix(train_dataset, model, criterion, optimizer, num_epochs=3):\n",
    "    model.train()\n",
    "    for epoch in range(num_epochs):\n",
    "        total_loss = 0.0\n",
    "        for batch in train_dataset:\n",
    "            optimizer.zero_grad()\n",
    "            hidden_states = torch.tensor(example['hidden_states']).to(device)\n",
    "            labels = torch.tensor(example['reform']).to(device)\n",
    "            \n",
    "            outputs = model(hidden_states)\n",
    "            print(outputs.shape)\n",
    "            print(labels.shape)\n",
    "            loss = criterion(outputs, labels)\n",
    "            loss.backward()\n",
    "            optimizer.step()\n",
    "            \n",
    "            total_loss += loss.item()\n",
    "        \n",
    "        avg_loss = total_loss / len(train_dataset)\n",
    "        print(f'Epoch {epoch+1}, Loss: {avg_loss}')\n",
    " \n",
    " \n",
    "def evaluate(test_set,model,criterion):\n",
    "    model.eval()\n",
    "    all_preds = []\n",
    "    all_labels = []\n",
    "    with torch.no_grad():\n",
    "        for example in test_dataset:\n",
    "            hidden_states = torch.tensor(example['hidden_states']).to(device)\n",
    "            labels = torch.tensor(example['reform']).to(device)\n",
    "            \n",
    "            outputs = model(hidden_states)\n",
    "            preds = torch.argmax(outputs, dim=1)\n",
    "            \n",
    "            all_preds.extend(preds.cpu().numpy())\n",
    "            all_labels.extend(labels.cpu().numpy())\n",
    "    \n",
    "    test_f1 = f1_score(all_labels, all_preds, average='macro')\n",
    "    return test_f1\n",
    "    \n",
    "    \n",
    "num_layers = 13  # For BERT base model\n",
    "hidden_size = 768  # Hidden size for BERT base model\n",
    "model_probe_kb = ProbingModel(num_layers, hidden_size).to(device)\n",
    "criterion = nn.CrossEntropyLoss()\n",
    "optimizer = optim.Adam(model_probe_kb.parameters(), lr=1e-5)\n",
    "\n",
    "\n",
    "encoded_dataset_train = Dataset.from_dict(date_dataset[\"train\"][:10]).map(lambda example: extract_features(example, model_kb, tokenizer), batched=False)\n",
    "encoded_dataset_test = Dataset.from_dict(date_dataset[\"test\"][:10]).map(lambda example: extract_features(example, model_kb, tokenizer), batched=False)\n",
    "train_dataloader = DataLoader(encoded_dataset_train, batch_size=32, shuffle=True)\n",
    "test_dataloader = DataLoader(encoded_dataset_test, batch_size=32, shuffle=False)\n",
    "\n",
    "#train_scalar_mix(encoded_dataset_train, model_probe_kb, criterion, optimizer, num_epochs=3)\n",
    "\n",
    "\n",
    "#scores_scalar = evaluate(encoded_dataset_test,model_probe_kb,criterion)\n"
   ]
  },
  {
   "cell_type": "code",
   "execution_count": 33,
   "metadata": {},
   "outputs": [
    {
     "name": "stdout",
     "output_type": "stream",
     "text": [
      "10\n"
     ]
    }
   ],
   "source": [
    "#train_scalar_mix(encoded_dataset_train, model_probe_kb, criterion, optimizer, num_epochs=3)\n",
    "\n",
    "\n",
    "#scores_scalar = evaluate(encoded_dataset_test,model_probe_kb,criterion)"
   ]
  },
  {
   "cell_type": "code",
   "execution_count": 108,
   "metadata": {},
   "outputs": [
    {
     "data": {
      "application/vnd.jupyter.widget-view+json": {
       "model_id": "0d950bd015214009a4ad6baff5864839",
       "version_major": 2,
       "version_minor": 0
      },
      "text/plain": [
       "Map:   0%|          | 0/100 [00:00<?, ? examples/s]"
      ]
     },
     "metadata": {},
     "output_type": "display_data"
    },
    {
     "data": {
      "application/vnd.jupyter.widget-view+json": {
       "model_id": "b2d0970c7c674a8eba2bc244fb5f775d",
       "version_major": 2,
       "version_minor": 0
      },
      "text/plain": [
       "Map:   0%|          | 0/100 [00:00<?, ? examples/s]"
      ]
     },
     "metadata": {},
     "output_type": "display_data"
    },
    {
     "ename": "TypeError",
     "evalue": "only integer tensors of a single element can be converted to an index",
     "output_type": "error",
     "traceback": [
      "\u001b[0;31m---------------------------------------------------------------------------\u001b[0m",
      "\u001b[0;31mTypeError\u001b[0m                                 Traceback (most recent call last)",
      "Cell \u001b[0;32mIn[108], line 215\u001b[0m\n\u001b[1;32m    209\u001b[0m test_dataloader \u001b[38;5;241m=\u001b[39m DataLoader(encoded_dataset_test, batch_size\u001b[38;5;241m=\u001b[39m\u001b[38;5;241m32\u001b[39m, shuffle\u001b[38;5;241m=\u001b[39m\u001b[38;5;28;01mFalse\u001b[39;00m)\n\u001b[1;32m    210\u001b[0m \u001b[38;5;66;03m# train_dataloader_cpt = DataLoader(encoded_dataset_train_cpt, batch_size=32, shuffle=True, collate_fn=collate_fn)\u001b[39;00m\n\u001b[1;32m    211\u001b[0m \u001b[38;5;66;03m# test_dataloader_cpt= DataLoader(encoded_dataset_test_cpt, batch_size=32, shuffle=False, collate_fn=collate_fn)\u001b[39;00m\n\u001b[1;32m    212\u001b[0m \n\u001b[1;32m    213\u001b[0m \n\u001b[1;32m    214\u001b[0m \u001b[38;5;66;03m# Train the model to update scalar mix parameters\u001b[39;00m\n\u001b[0;32m--> 215\u001b[0m \u001b[43mtrain_scalar_mixbis\u001b[49m\u001b[43m(\u001b[49m\u001b[43mtrain_dataloader\u001b[49m\u001b[43m,\u001b[49m\u001b[43m \u001b[49m\u001b[43mtest_dataloader\u001b[49m\u001b[43m,\u001b[49m\u001b[43m \u001b[49m\u001b[43mmodel_probe_kb\u001b[49m\u001b[43m,\u001b[49m\u001b[43m \u001b[49m\u001b[43mcriterion\u001b[49m\u001b[43m,\u001b[49m\u001b[43m \u001b[49m\u001b[43moptimizer_kb\u001b[49m\u001b[43m,\u001b[49m\u001b[43m \u001b[49m\u001b[43mnum_epochs\u001b[49m\u001b[38;5;241;43m=\u001b[39;49m\u001b[38;5;241;43m5\u001b[39;49m\u001b[43m)\u001b[49m\n\u001b[1;32m    216\u001b[0m \u001b[38;5;66;03m#train_scalar_mix(train_dataloader_cpt, test_dataloader_cpt, model_probe_cpt, criterion, optimizer_cpt, num_epochs=5)\u001b[39;00m\n",
      "Cell \u001b[0;32mIn[108], line 116\u001b[0m, in \u001b[0;36mtrain_scalar_mixbis\u001b[0;34m(train_dataloader, test_dataset, model, criterion, optimizer, num_epochs)\u001b[0m\n\u001b[1;32m    114\u001b[0m total_loss \u001b[38;5;241m=\u001b[39m \u001b[38;5;241m0.0\u001b[39m\n\u001b[1;32m    115\u001b[0m \u001b[38;5;28;01mfor\u001b[39;00m batch \u001b[38;5;129;01min\u001b[39;00m train_dataloader:\n\u001b[0;32m--> 116\u001b[0m     input_ids \u001b[38;5;241m=\u001b[39m \u001b[43mtorch\u001b[49m\u001b[38;5;241;43m.\u001b[39;49m\u001b[43mtensor\u001b[49m\u001b[43m(\u001b[49m\u001b[43mbatch\u001b[49m\u001b[43m[\u001b[49m\u001b[38;5;124;43m'\u001b[39;49m\u001b[38;5;124;43minput_ids\u001b[39;49m\u001b[38;5;124;43m'\u001b[39;49m\u001b[43m]\u001b[49m\u001b[43m)\u001b[49m\u001b[38;5;241m.\u001b[39mto(device)\n\u001b[1;32m    117\u001b[0m     token_type_ids \u001b[38;5;241m=\u001b[39m torch\u001b[38;5;241m.\u001b[39mtensor(batch[\u001b[38;5;124m'\u001b[39m\u001b[38;5;124mtoken_type_ids\u001b[39m\u001b[38;5;124m'\u001b[39m])\u001b[38;5;241m.\u001b[39mto(device)\n\u001b[1;32m    118\u001b[0m     attention_mask \u001b[38;5;241m=\u001b[39m torch\u001b[38;5;241m.\u001b[39mtensor(batch[\u001b[38;5;124m'\u001b[39m\u001b[38;5;124mattention_mask\u001b[39m\u001b[38;5;124m'\u001b[39m])\u001b[38;5;241m.\u001b[39mto(device)\n",
      "\u001b[0;31mTypeError\u001b[0m: only integer tensors of a single element can be converted to an index"
     ]
    }
   ],
   "source": [
    "import torch\n",
    "import torch.nn as nn\n",
    "from torch.nn import ParameterList, Parameter\n",
    "\n",
    "import torch.optim as optim\n",
    "from transformers import AutoTokenizer, AutoModel\n",
    "from datasets import Dataset\n",
    "from sklearn.metrics import f1_score\n",
    "from torch.utils.data import DataLoader\n",
    "from sklearn.linear_model import LogisticRegression\n",
    "import torch.nn.functional as F\n",
    "from typing import List\n",
    "\n",
    "device = torch.device('cuda' if torch.cuda.is_available() else 'cpu')\n",
    "\n",
    "# Define ScalarMix class\n",
    "class ScalarMix(nn.Module):\n",
    "    def __init__(\n",
    "        self,\n",
    "        mixture_size: int,\n",
    "        initial_scalar_parameters: List[float] = None,\n",
    "        trainable: bool = True,\n",
    "    ) -> None:\n",
    "        super().__init__()\n",
    "        self.mixture_size = mixture_size\n",
    "        initial_scalar_parameters = [0.0] * mixture_size\n",
    "        self.weights =  ParameterList(\n",
    "            [\n",
    "                Parameter(\n",
    "                    torch.FloatTensor([initial_scalar_parameters[i]]), requires_grad=trainable\n",
    "                )\n",
    "                for i in range(mixture_size)\n",
    "            ]\n",
    "        )\n",
    "        self.gamma = nn.Parameter(torch.tensor(1.0))\n",
    "    \n",
    "    def forward(self, layers):\n",
    "        normed_weights = torch.nn.functional.softmax(torch.cat([parameter for parameter in self.scalar_parameters]), dim=0)\n",
    "        normed_weights = torch.split(normed_weights, split_size_or_sections=1)\n",
    "        pieces = []\n",
    "        for weight, tensor in zip(normed_weights, tensors):\n",
    "            pieces.append(weight * tensor)\n",
    "        return self.gamma * sum(pieces)\n",
    "    \n",
    "\n",
    "# Define ProbingModel class\n",
    "class ProbingModel(nn.Module):\n",
    "    def __init__(self, num_layers, hidden_size):\n",
    "        super(ProbingModel, self).__init__()\n",
    "        self.scalar_mix = ScalarMix(num_layers)\n",
    "        self.classifier = nn.Linear(hidden_size, 2)  # Binary classification\n",
    "    \n",
    "    def forward(self, hidden_states):\n",
    "        mixed_representation = self.scalar_mix(hidden_states)\n",
    "        return self.classifier(mixed_representation)\n",
    "    \n",
    "    \n",
    "class ProbingModelBis(nn.Module):\n",
    "    def __init__(self, pretrained_model: str, requires_grad: bool = False, top_layer_only: bool = False,\n",
    "                 scalar_mix_parameters: List[float] = None, num_classes: int = 2) -> None:\n",
    "\n",
    "        super(ProbingModel, self).__init__()\n",
    "        self.bert=AutoModelForMaskedLM.from_pretrained(pretrained_model)\n",
    "\n",
    "        for param in model.parameters():\n",
    "            param.requires_grad = requires_grad\n",
    "        self._scalar_mix = ScalarMix(model.config.num_hidden_layers,\n",
    "                                          do_layer_norm=False,\n",
    "                                          initial_scalar_parameters=scalar_mix_parameters,\n",
    "                                          trainable=scalar_mix_parameters is None)\n",
    "\n",
    "        self.classifier = nn.Linear(model.config.hidden_size, num_classes) # Binary classification\n",
    "    \n",
    "\n",
    "    def forward(self, input_ids, token_type_ids=None, attention_mask=None):\n",
    "        bert_output = self.bert(input_ids=input_ids, token_type_ids=token_type_ids, attention_mask=attention_mask, output_hidden_states=True)\n",
    "        hidden_states=torch.mean(bert_output.hidden_states,dim=1)\n",
    "        mixed_representation = self._scalar_mix(hidden_states)\n",
    "       \n",
    "        return self.classifier(mixed_representation)\n",
    "\n",
    "# Define feature extraction function with averaging\n",
    "def extract_features(example, model, tokenizer):\n",
    "    inputs = tokenizer(example['Note'], return_tensors=\"pt\", padding=\"max_length\", truncation=True, max_length=512).to(device)\n",
    "    with torch.no_grad():\n",
    "        outputs = model(**inputs, output_hidden_states=True)\n",
    "    hidden_states = outputs.hidden_states\n",
    "    mean_hidden_states = torch.stack([torch.mean(state, dim=1) for state in hidden_states], dim=0).squeeze(1)\n",
    "    example[\"hidden_states\"] = mean_hidden_states.cpu().numpy()\n",
    "    example[\"reform\"] = torch.tensor(example[\"reform\"])\n",
    "    return example\n",
    "\n",
    "def extract_featuresbis(example, model, tokenizer):\n",
    "    inputs = tokenizer(example['Note'], return_tensors=\"pt\", padding=\"max_length\", truncation=True, max_length=512).to(device)\n",
    "    example[\"input_ids\"] = inputs['input_ids']\n",
    "    example[\"token_type_ids\"] = inputs['token_type_ids']\n",
    "    example[\"attention_mask\"] = inputs['attention_mask']\n",
    "    return example\n",
    "# Prepare data\n",
    "def prepare_data(tokenizer, dataset, model):\n",
    "    return Dataset.from_dict(dataset).map(lambda example: extract_features(example, model, tokenizer), batched=False)\n",
    "\n",
    "# Define collate function for DataLoader\n",
    "def collate_fn(batch):\n",
    "    hidden_states = torch.stack([torch.tensor(example['hidden_states']) for example in batch])\n",
    "    labels = torch.tensor([example['reform'] for example in batch])\n",
    "    return hidden_states, labels\n",
    "\n",
    "# Define training function with batches\n",
    "def train_scalar_mixbis(train_dataloader, test_dataset, model, criterion, optimizer, num_epochs=3):\n",
    "    model.train()\n",
    "\n",
    "    for epoch in range(num_epochs):\n",
    "        total_loss = 0.0\n",
    "        for batch in train_dataloader:\n",
    "            input_ids = torch.tensor(batch['input_ids']).to(device)\n",
    "            token_type_ids = torch.tensor(batch['token_type_ids']).to(device)\n",
    "            attention_mask = torch.tensor(batch['attention_mask']).to(device)\n",
    "            labels = torch.tensor(batch['labels']).to(device)\n",
    "            \n",
    "            optimizer.zero_grad()\n",
    "            outputs = model(input_ids, token_type_ids=token_type_ids, attention_mask=attention_mask)\n",
    "            loss = criterion(outputs, labels)\n",
    "            loss.backward()\n",
    "            optimizer.step()\n",
    "            \n",
    "            \n",
    "            total_loss += loss.item()\n",
    "        \n",
    "        avg_loss = total_loss / len(train_dataloader)\n",
    "        print(f'Epoch {epoch+1}, Loss: {avg_loss}')\n",
    "            \n",
    "            \n",
    "    \n",
    "    # Evaluate on test set\n",
    "    model.eval()\n",
    "    all_preds = []\n",
    "    all_labels = []\n",
    "    with torch.no_grad():\n",
    "        for hidden_states_batch, labels_batch in test_dataloader:\n",
    "            hidden_states_batch = hidden_states_batch.to(device)\n",
    "            labels_batch = labels_batch.to(device)\n",
    "            \n",
    "            outputs = model(hidden_states_batch)\n",
    "            preds = torch.argmax(outputs, dim=1)\n",
    "            \n",
    "            all_preds.extend(preds.cpu().numpy())\n",
    "            all_labels.extend(labels_batch.cpu().numpy())\n",
    "    \n",
    "    test_f1 = f1_score(all_labels, all_preds, average='macro')\n",
    "    print(f'Test F1 Score: {test_f1}')\n",
    "def train_scalar_mix(train_dataloader, test_dataset, model, criterion, optimizer, num_epochs=3):\n",
    "    model.train()\n",
    "\n",
    "    for epoch in range(num_epochs):\n",
    "        total_loss = 0.0\n",
    "        for hidden_states_batch, labels_batch in train_dataloader:\n",
    "            hidden_states_batch = hidden_states_batch.to(device)\n",
    "            labels_batch = labels_batch.to(device)\n",
    "            \n",
    "            optimizer.zero_grad()\n",
    "            outputs = model(hidden_states_batch)\n",
    "            loss = criterion(outputs, labels_batch)\n",
    "            loss.backward()\n",
    "            optimizer.step()\n",
    "            \n",
    "            total_loss += loss.item()\n",
    "        \n",
    "        avg_loss = total_loss / len(train_dataloader)\n",
    "        print(f'Epoch {epoch+1}, Loss: {avg_loss}')\n",
    "            \n",
    "            \n",
    "    \n",
    "    # Evaluate on test set\n",
    "    model.eval()\n",
    "    all_preds = []\n",
    "    all_labels = []\n",
    "    with torch.no_grad():\n",
    "        for hidden_states_batch, labels_batch in test_dataloader:\n",
    "            hidden_states_batch = hidden_states_batch.to(device)\n",
    "            labels_batch = labels_batch.to(device)\n",
    "            \n",
    "            outputs = model(hidden_states_batch)\n",
    "            preds = torch.argmax(outputs, dim=1)\n",
    "            \n",
    "            all_preds.extend(preds.cpu().numpy())\n",
    "            all_labels.extend(labels_batch.cpu().numpy())\n",
    "    \n",
    "    test_f1 = f1_score(all_labels, all_preds, average='macro')\n",
    "    print(f'Test F1 Score: {test_f1}')\n",
    "\n",
    "\n",
    "num_layers = 13  # For BERT base model\n",
    "hidden_size = 768  # Hidden size for BERT base model\n",
    "model_probe_kb= ProbingModel(num_layers, hidden_size).to(device)\n",
    "model_probe_cpt= ProbingModel(num_layers, hidden_size).to(device)\n",
    "#model_probe_kb=ScalarMix(num_layers)\n",
    "criterion = nn.CrossEntropyLoss()\n",
    "optimizer_kb = optim.Adam(model_probe_kb.parameters(), lr=1e-5)\n",
    "optimizer_cpt = optim.Adam(model_probe_cpt.parameters(), lr=1e-5)\n",
    "\n",
    "\n",
    "encoded_dataset_train = Dataset.from_dict(date_dataset[\"train\"][:100]).map(lambda example: extract_featuresbis(example, model_kb, tokenizer), batched=False)\n",
    "encoded_dataset_test=Dataset.from_dict(date_dataset[\"test\"][:100]).map(lambda example: extract_featuresbis(example, model_kb, tokenizer), batched=False)\n",
    "# encoded_dataset_train_cpt = Dataset.from_dict(date_dataset[\"train\"][:100]).map(lambda example: extract_features(example, model_hugging_face, tokenizer), batched=False)\n",
    "# encoded_dataset_test_cpt=Dataset.from_dict(date_dataset[\"test\"][:100]).map(lambda example: extract_features(example, model_hugging_face, tokenizer), batched=False)\n",
    "\n",
    "train_dataloader = DataLoader(encoded_dataset_train, batch_size=32, shuffle=True)\n",
    "test_dataloader = DataLoader(encoded_dataset_test, batch_size=32, shuffle=False)\n",
    "# train_dataloader_cpt = DataLoader(encoded_dataset_train_cpt, batch_size=32, shuffle=True, collate_fn=collate_fn)\n",
    "# test_dataloader_cpt= DataLoader(encoded_dataset_test_cpt, batch_size=32, shuffle=False, collate_fn=collate_fn)\n",
    "\n",
    "\n",
    "# Train the model to update scalar mix parameters\n",
    "train_scalar_mixbis(train_dataloader, test_dataloader, model_probe_kb, criterion, optimizer_kb, num_epochs=5)\n",
    "#train_scalar_mix(train_dataloader_cpt, test_dataloader_cpt, model_probe_cpt, criterion, optimizer_cpt, num_epochs=5)"
   ]
  },
  {
   "cell_type": "code",
   "execution_count": 103,
   "metadata": {},
   "outputs": [
    {
     "data": {
      "text/plain": [
       "Dataset({\n",
       "    features: ['protocole', 'Note', 'id', 'party', 'gender', 'date', 'reform', 'input_ids', 'token_type_ids', 'attention_mask'],\n",
       "    num_rows: 100\n",
       "})"
      ]
     },
     "execution_count": 103,
     "metadata": {},
     "output_type": "execute_result"
    }
   ],
   "source": []
  },
  {
   "cell_type": "code",
   "execution_count": 98,
   "metadata": {},
   "outputs": [
    {
     "data": {
      "image/png": "[encoded data removed]",
      "text/plain": [
       "<Figure size 1200x600 with 1 Axes>"
      ]
     },
     "metadata": {},
     "output_type": "display_data"
    }
   ],
   "source": [
    "import numpy as np\n",
    "weights_kb =model_probe_kb.scalar_mix.weights.detach().cpu().numpy()\n",
    "weights_cpt =model_probe_cpt.scalar_mix.weights.detach().cpu().numpy()\n",
    "\n",
    "# Number of layers\n",
    "num_layers = len(weights_kb)\n",
    "\n",
    "# Set the width of the bars\n",
    "bar_width = 0.4\n",
    "\n",
    "# Set the positions of the bars\n",
    "positions_kb = np.arange(num_layers)\n",
    "positions_cpt = positions_kb + bar_width\n",
    "\n",
    "plt.figure(figsize=(12, 6))\n",
    "plt.bar(positions_kb, weights_kb, width=bar_width, color='skyblue', label='KBBERT')\n",
    "plt.bar(positions_cpt, weights_cpt, width=bar_width, color='red', label='cptBERT')\n",
    "plt.xlabel('Layer')\n",
    "plt.ylabel('Weight')\n",
    "plt.title('Weights of Each Layer in ScalarMix')\n",
    "plt.legend()\n",
    "plt.xticks(positions_kb + bar_width / 2, labels=[f'Layer {i+1}' for i in range(num_layers)])\n",
    "plt.show()"
   ]
  }
 ],
 "metadata": {
  "kernelspec": {
   "display_name": "swerick",
   "language": "python",
   "name": "python3"
  },
  "language_info": {
   "codemirror_mode": {
    "name": "ipython",
    "version": 3
   },
   "file_extension": ".py",
   "mimetype": "text/x-python",
   "name": "python",
   "nbconvert_exporter": "python",
   "pygments_lexer": "ipython3",
   "version": "3.12.2"
  }
 },
 "nbformat": 4,
 "nbformat_minor": 2
}
