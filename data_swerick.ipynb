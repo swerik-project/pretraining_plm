{
 "cells": [
  {
   "cell_type": "code",
   "execution_count": 42,
   "metadata": {},
   "outputs": [
    {
     "name": "stdout",
     "output_type": "stream",
     "text": [
      "Requirement already satisfied: pyriksdagen in /home/laurinemeier/anaconda3/lib/python3.11/site-packages (1.0.0)\n",
      "Requirement already satisfied: SPARQLWrapper in /home/laurinemeier/anaconda3/lib/python3.11/site-packages (from pyriksdagen) (2.0.0)\n",
      "Requirement already satisfied: alto-xml in /home/laurinemeier/anaconda3/lib/python3.11/site-packages (from pyriksdagen) (0.0.5)\n",
      "Requirement already satisfied: base58 in /home/laurinemeier/anaconda3/lib/python3.11/site-packages (from pyriksdagen) (2.1.1)\n",
      "Requirement already satisfied: beautifulsoup4 in /home/laurinemeier/anaconda3/lib/python3.11/site-packages (from pyriksdagen) (4.12.2)\n",
      "Requirement already satisfied: dateparser in /home/laurinemeier/anaconda3/lib/python3.11/site-packages (from pyriksdagen) (1.2.0)\n",
      "Requirement already satisfied: importlib_resources in /home/laurinemeier/anaconda3/lib/python3.11/site-packages (from pyriksdagen) (6.4.0)\n",
      "Requirement already satisfied: kblab-client in /home/laurinemeier/anaconda3/lib/python3.11/site-packages (from pyriksdagen) (0.0.16a0)\n",
      "Requirement already satisfied: lxml in /home/laurinemeier/anaconda3/lib/python3.11/site-packages (from pyriksdagen) (4.9.3)\n",
      "Requirement already satisfied: matplotlib in /home/laurinemeier/anaconda3/lib/python3.11/site-packages (from pyriksdagen) (3.8.0)\n",
      "Requirement already satisfied: nltk in /home/laurinemeier/anaconda3/lib/python3.11/site-packages (from pyriksdagen) (3.8.1)\n",
      "Requirement already satisfied: numpy in /home/laurinemeier/anaconda3/lib/python3.11/site-packages (from pyriksdagen) (1.26.4)\n",
      "Requirement already satisfied: pandas in /home/laurinemeier/anaconda3/lib/python3.11/site-packages (from pyriksdagen) (2.1.4)\n",
      "Requirement already satisfied: progressbar2 in /home/laurinemeier/anaconda3/lib/python3.11/site-packages (from pyriksdagen) (4.4.2)\n",
      "Requirement already satisfied: py-markdown-table in /home/laurinemeier/anaconda3/lib/python3.11/site-packages (from pyriksdagen) (0.4.0)\n",
      "Requirement already satisfied: pyparlaclarin in /home/laurinemeier/anaconda3/lib/python3.11/site-packages (from pyriksdagen) (0.9.0)\n",
      "Requirement already satisfied: requests in /home/laurinemeier/anaconda3/lib/python3.11/site-packages (from pyriksdagen) (2.31.0)\n",
      "Requirement already satisfied: textdistance in /home/laurinemeier/anaconda3/lib/python3.11/site-packages (from pyriksdagen) (4.2.1)\n",
      "Requirement already satisfied: tqdm in /home/laurinemeier/anaconda3/lib/python3.11/site-packages (from pyriksdagen) (4.65.0)\n",
      "Requirement already satisfied: trainerlog in /home/laurinemeier/anaconda3/lib/python3.11/site-packages (from pyriksdagen) (0.3.0)\n",
      "Requirement already satisfied: unidecode in /home/laurinemeier/anaconda3/lib/python3.11/site-packages (from pyriksdagen) (1.2.0)\n",
      "Requirement already satisfied: xmlschema in /home/laurinemeier/anaconda3/lib/python3.11/site-packages (from pyriksdagen) (3.2.0)\n",
      "Requirement already satisfied: typing-extensions>=3.10.0.0 in /home/laurinemeier/anaconda3/lib/python3.11/site-packages (from alto-xml->pyriksdagen) (4.9.0)\n",
      "Requirement already satisfied: soupsieve>1.2 in /home/laurinemeier/anaconda3/lib/python3.11/site-packages (from beautifulsoup4->pyriksdagen) (2.5)\n",
      "Requirement already satisfied: python-dateutil in /home/laurinemeier/anaconda3/lib/python3.11/site-packages (from dateparser->pyriksdagen) (2.8.2)\n",
      "Requirement already satisfied: pytz in /home/laurinemeier/anaconda3/lib/python3.11/site-packages (from dateparser->pyriksdagen) (2023.3.post1)\n",
      "Requirement already satisfied: regex!=2019.02.19,!=2021.8.27 in /home/laurinemeier/anaconda3/lib/python3.11/site-packages (from dateparser->pyriksdagen) (2023.10.3)\n",
      "Requirement already satisfied: tzlocal in /home/laurinemeier/anaconda3/lib/python3.11/site-packages (from dateparser->pyriksdagen) (2.1)\n",
      "Requirement already satisfied: pyyaml in /home/laurinemeier/anaconda3/lib/python3.11/site-packages (from kblab-client->pyriksdagen) (6.0.1)\n",
      "Requirement already satisfied: htfile in /home/laurinemeier/anaconda3/lib/python3.11/site-packages (from kblab-client->pyriksdagen) (0.0.1a0)\n",
      "Requirement already satisfied: contourpy>=1.0.1 in /home/laurinemeier/anaconda3/lib/python3.11/site-packages (from matplotlib->pyriksdagen) (1.2.0)\n",
      "Requirement already satisfied: cycler>=0.10 in /home/laurinemeier/anaconda3/lib/python3.11/site-packages (from matplotlib->pyriksdagen) (0.11.0)\n",
      "Requirement already satisfied: fonttools>=4.22.0 in /home/laurinemeier/anaconda3/lib/python3.11/site-packages (from matplotlib->pyriksdagen) (4.25.0)\n",
      "Requirement already satisfied: kiwisolver>=1.0.1 in /home/laurinemeier/anaconda3/lib/python3.11/site-packages (from matplotlib->pyriksdagen) (1.4.4)\n",
      "Requirement already satisfied: packaging>=20.0 in /home/laurinemeier/anaconda3/lib/python3.11/site-packages (from matplotlib->pyriksdagen) (23.1)\n",
      "Requirement already satisfied: pillow>=6.2.0 in /home/laurinemeier/anaconda3/lib/python3.11/site-packages (from matplotlib->pyriksdagen) (10.2.0)\n",
      "Requirement already satisfied: pyparsing>=2.3.1 in /home/laurinemeier/anaconda3/lib/python3.11/site-packages (from matplotlib->pyriksdagen) (3.0.9)\n",
      "Requirement already satisfied: click in /home/laurinemeier/anaconda3/lib/python3.11/site-packages (from nltk->pyriksdagen) (8.1.7)\n",
      "Requirement already satisfied: joblib in /home/laurinemeier/anaconda3/lib/python3.11/site-packages (from nltk->pyriksdagen) (1.2.0)\n",
      "Requirement already satisfied: tzdata>=2022.1 in /home/laurinemeier/anaconda3/lib/python3.11/site-packages (from pandas->pyriksdagen) (2023.3)\n",
      "Requirement already satisfied: python-utils>=3.8.1 in /home/laurinemeier/anaconda3/lib/python3.11/site-packages (from progressbar2->pyriksdagen) (3.8.2)\n",
      "Requirement already satisfied: charset-normalizer<4,>=2 in /home/laurinemeier/anaconda3/lib/python3.11/site-packages (from requests->pyriksdagen) (2.0.4)\n",
      "Requirement already satisfied: idna<4,>=2.5 in /home/laurinemeier/anaconda3/lib/python3.11/site-packages (from requests->pyriksdagen) (3.4)\n",
      "Requirement already satisfied: urllib3<3,>=1.21.1 in /home/laurinemeier/anaconda3/lib/python3.11/site-packages (from requests->pyriksdagen) (2.0.7)\n",
      "Requirement already satisfied: certifi>=2017.4.17 in /home/laurinemeier/anaconda3/lib/python3.11/site-packages (from requests->pyriksdagen) (2024.2.2)\n",
      "Requirement already satisfied: rdflib>=6.1.1 in /home/laurinemeier/anaconda3/lib/python3.11/site-packages (from SPARQLWrapper->pyriksdagen) (7.0.0)\n",
      "Requirement already satisfied: colorlog in /home/laurinemeier/anaconda3/lib/python3.11/site-packages (from trainerlog->pyriksdagen) (6.8.2)\n",
      "Requirement already satisfied: elementpath<5.0.0,>=4.4.0 in /home/laurinemeier/anaconda3/lib/python3.11/site-packages (from xmlschema->pyriksdagen) (4.4.0)\n",
      "Requirement already satisfied: six>=1.5 in /home/laurinemeier/anaconda3/lib/python3.11/site-packages (from python-dateutil->dateparser->pyriksdagen) (1.16.0)\n",
      "Requirement already satisfied: isodate<0.7.0,>=0.6.0 in /home/laurinemeier/anaconda3/lib/python3.11/site-packages (from rdflib>=6.1.1->SPARQLWrapper->pyriksdagen) (0.6.1)\n",
      "Note: you may need to restart the kernel to use updated packages.\n"
     ]
    }
   ],
   "source": [
    "%pip install pyriksdagen\n",
    "from lxml import etree\n",
    "import progressbar\n",
    "from pyparlaclarin.read import paragraph_iterator, speeches_with_name,parlaclarin_to_txt,parlaclarin_to_md\n",
    "from pyriksdagen.utils import protocol_iterators, download_corpus\n",
    "from pyriksdagen.metadata import load_Corpus_metadata\n",
    "import pyriksdagen\n",
    "# We need a parser for reading in XML data\n",
    "parser = etree.XMLParser(remove_blank_text=True)\n",
    "import pandas as pd\n",
    "from sklearn.model_selection import train_test_split\n",
    "import numpy as np\n",
    "import pandas as pd\n",
    "from bs4 import BeautifulSoup\n",
    "import re\n"
   ]
  },
  {
   "cell_type": "code",
   "execution_count": 2,
   "metadata": {},
   "outputs": [
    {
     "name": "stdout",
     "output_type": "stream",
     "text": [
      "Requirement already satisfied: pyparlaclarin in /home/laurinemeier/anaconda3/envs/swerick/lib/python3.12/site-packages (0.9.0)\n",
      "Collecting pyparlaclarin\n",
      "  Downloading pyparlaclarin-0.9.1-py3-none-any.whl.metadata (1.6 kB)\n",
      "Downloading pyparlaclarin-0.9.1-py3-none-any.whl (6.6 kB)\n",
      "Installing collected packages: pyparlaclarin\n",
      "  Attempting uninstall: pyparlaclarin\n",
      "    Found existing installation: pyparlaclarin 0.9.0\n",
      "    Uninstalling pyparlaclarin-0.9.0:\n",
      "      Successfully uninstalled pyparlaclarin-0.9.0\n",
      "Successfully installed pyparlaclarin-0.9.1\n",
      "Note: you may need to restart the kernel to use updated packages.\n"
     ]
    }
   ],
   "source": [
    "pip install --upgrade pyparlaclarin"
   ]
  },
  {
   "cell_type": "code",
   "execution_count": 3,
   "metadata": {},
   "outputs": [
    {
     "name": "stdout",
     "output_type": "stream",
     "text": [
      "Name: pyparlaclarin\n",
      "Version: 0.9.1\n",
      "Summary: Read, create, and modify Parla-Clarin XML files\n",
      "Home-page: https://github.com/welfare-state-analytics/pyparlaclarin\n",
      "Author: ninpnin\n",
      "Author-email: vainoyrjanainen@icloud.com\n",
      "License: MIT\n",
      "Location: /home/laurinemeier/anaconda3/envs/swerick/lib/python3.12/site-packages\n",
      "Requires: \n",
      "Required-by: pyriksdagen\n",
      "Note: you may need to restart the kernel to use updated packages.\n"
     ]
    }
   ],
   "source": [
    "pip show pyparlaclarin"
   ]
  },
  {
   "cell_type": "code",
   "execution_count": 2,
   "metadata": {},
   "outputs": [
    {
     "name": "stdout",
     "output_type": "stream",
     "text": [
      "ModuleSpec(name='pyriksdagen', loader=<_frozen_importlib_external.SourceFileLoader object at 0x7473401ad5d0>, origin='/home/laurinemeier/anaconda3/lib/python3.11/site-packages/pyriksdagen/__init__.py', submodule_search_locations=['/home/laurinemeier/anaconda3/lib/python3.11/site-packages/pyriksdagen'])\n"
     ]
    },
    {
     "name": "stderr",
     "output_type": "stream",
     "text": [
      "politicians.zip: 100%|██████████| 2.20M/2.20M [00:00<00:00, 28.9MiB/s]"
     ]
    },
    {
     "name": "stdout",
     "output_type": "stream",
     "text": [
      "\u001b[33m11:11:34 [WARNING] \u001b[37m(pyriksdagen)\u001b[0m: data already exists at the path 'data'. It will be overwritten once the download is finished.\u001b[0m\n"
     ]
    },
    {
     "name": "stderr",
     "output_type": "stream",
     "text": [
      "\n",
      "records.zip: 100%|██████████| 1.60G/1.60G [00:20<00:00, 84.8MiB/s]\n"
     ]
    }
   ],
   "source": [
    "print(pyriksdagen.__spec__)\n",
    "download_corpus(partitions=[\"politicians\", \"records\"])"
   ]
  },
  {
   "cell_type": "code",
   "execution_count": null,
   "metadata": {},
   "outputs": [],
   "source": []
  },
  {
   "cell_type": "code",
   "execution_count": 2,
   "metadata": {},
   "outputs": [],
   "source": [
    "protocols = list(protocol_iterators(corpus_root=\"data/\", start=1867, end=202122))"
   ]
  },
  {
   "cell_type": "code",
   "execution_count": 4,
   "metadata": {},
   "outputs": [],
   "source": [
    "def oppna_data_to_dict(input_dict):\n",
    "    \"\"\"\n",
    "    Load protocols with the new XML / HTML structure (from 2013 onwards)\n",
    "    and convert it to a python dict with contents.\n",
    "    \"\"\"\n",
    "    data = {}\n",
    "    data[\"paragraphs\"] = []\n",
    "\n",
    "    # Metadata\n",
    "    session = input_dict[\"dokumentstatus\"][\"dokument\"][\"rm\"]\n",
    "    session = session.replace(\"/\", \"\")\n",
    "    pid = input_dict[\"dokumentstatus\"][\"dokument\"][\"nummer\"]\n",
    "    date = input_dict[\"dokumentstatus\"][\"dokument\"][\"datum\"]\n",
    "    html = input_dict[\"dokumentstatus\"][\"dokument\"][\"html\"]\n",
    "    html_tree = clean_html(html)\n",
    "    year = int(date.split(\"-\")[0])\n",
    "    protocol_id = f\"prot-{session}--{pid}\"\n",
    "\n",
    "    data[\"protocol_id\"] = protocol_id\n",
    "    data[\"date\"] = date.split(\" \")[0]\n",
    "    data[\"session\"] = session\n",
    "\n",
    "    # New HTML structure with div[@class='Section1']\n",
    "    section1 = html_tree.xpath(\".//div[@class='Section1']\")\n",
    "    for elements in section1:\n",
    "        for elem in elements:\n",
    "            if elem.tag in [\"p\", \"h1\", \"h2\"]:\n",
    "                elemtext = \"\".join(elem.itertext())\n",
    "                linebreak = elemtext.strip() == \"\" and \"\\n\" in elemtext\n",
    "                if linebreak:\n",
    "                    pass\n",
    "                else:\n",
    "                    paragraph = elemtext.strip()\n",
    "                    paragraph = paragraph.replace(\"\\n\", \" \")\n",
    "                    paragraph = re.sub(\"\\\\s+\", \" \", paragraph)\n",
    "                    data[\"paragraphs\"].append(paragraph)\n",
    "\n",
    "    if len(data[\"paragraphs\"]) == 0:\n",
    "        tree = html_tree\n",
    "\n",
    "        # Old data structure 1990-2003\n",
    "        pres = tree.findall(\".//pre\")\n",
    "        if len(pres) > 0:\n",
    "            for pre in pres:\n",
    "                if pre.text is not None:\n",
    "                    tblocks = re.sub(\"([a-zß-ÿ,])- ?\\n ?([a-zß-ÿ])\", \"\\\\1\\\\2\", pre.text)\n",
    "                    tblocks = re.sub(\"([a-zß-ÿ,]) ?\\n ?([a-zß-ÿ])\", \"\\\\1 \\\\2\", tblocks)\n",
    "                    for paragraph in tblocks.split(\"\\n\"):\n",
    "                        paragraph = paragraph.replace(\"\\n\", \" \")\n",
    "                        paragraph = paragraph.replace(\"\\n\", \" \")\n",
    "                        data[\"paragraphs\"].append(paragraph)\n",
    "\n",
    "        # Standard HTML structure, roughly 2003-2013\n",
    "        elif len(tree.xpath(\"//div[@class='indrag']\")) > 0:\n",
    "            tree = tree.xpath(\"//body\")[0]\n",
    "            for elem in tree:\n",
    "                elemtext = \"\".join(elem.itertext())\n",
    "                linebreak = elemtext.strip() == \"\" and \"\\n\" in elemtext\n",
    "                if elem.tag == \"br\" or linebreak:\n",
    "                    pass\n",
    "                else:\n",
    "                    paragraph = elemtext.strip()\n",
    "                    paragraph = paragraph.replace(\"\\n\", \" \")\n",
    "                    paragraph = re.sub(\"\\\\s+\", \" \", paragraph)\n",
    "                    data[\"paragraphs\"].append(paragraph)\n",
    "    return data\n"
   ]
  },
  {
   "cell_type": "code",
   "execution_count": 3,
   "metadata": {},
   "outputs": [],
   "source": [
    "protocol_in_question = protocols[10]\n",
    "root = etree.parse(protocol_in_question, parser).getroot()"
   ]
  },
  {
   "cell_type": "code",
   "execution_count": 4,
   "metadata": {},
   "outputs": [
    {
     "data": {
      "text/plain": [
       "'data/1867/prot-1867--ak--0130.xml'"
      ]
     },
     "execution_count": 4,
     "metadata": {},
     "output_type": "execute_result"
    }
   ],
   "source": [
    "protocol_in_question"
   ]
  },
  {
   "cell_type": "code",
   "execution_count": 13,
   "metadata": {},
   "outputs": [
    {
     "name": "stdout",
     "output_type": "stream",
     "text": [
      "\n",
      "\n",
      "          RIKSDAGENS Ar PROTOKOLL\n",
      "        \n",
      "\n",
      "          1955 ANDRA KAMMAREN Nr 13\n",
      "        \n",
      "\n",
      "          13—15 april\n",
      "        \n",
      "\n",
      "          Debatter m. m.\n",
      "        \n",
      "\n",
      "          Onsdagen den 13 april Sid.\n",
      "        \n",
      "\n",
      "          Familjerådgivning «... 5 Interpellation av herr Ericsson : i\n",
      "          Näs ang. de minskade perioderna\n",
      "        \n"
     ]
    }
   ],
   "source": [
    "\n",
    "for elem in list(paragraph_iterator(root, output=\"lxml\"))[:7]:\n",
    "  print(\" \".join(elem.itertext()))"
   ]
  },
  {
   "cell_type": "code",
   "execution_count": 18,
   "metadata": {},
   "outputs": [
    {
     "name": "stdout",
     "output_type": "stream",
     "text": [
      "                           protocole  \\\n",
      "0  data/1867/prot-1867--ak--0118.xml   \n",
      "1  data/1867/prot-1867--ak--0119.xml   \n",
      "2  data/1867/prot-1867--ak--0121.xml   \n",
      "3  data/1867/prot-1867--ak--0122.xml   \n",
      "4  data/1867/prot-1867--ak--0123.xml   \n",
      "\n",
      "                                               texte  \n",
      "0  Sedan, i kraft af Rikets Regeringsform, lagtim...  \n",
      "1  24 Den 19 Januari. Lördagen den 19 Januari, KL...  \n",
      "2  Den 21 Januari. 25 mande af tiden för dessa va...  \n",
      "3  Den 22 Januari. 41 Tisdagen den 22 Januari. Kl...  \n",
      "4  Den 23 Januari. - 55 Onsdagen den 23 Januari. ...  \n"
     ]
    }
   ],
   "source": [
    "data=[]\n",
    "\n",
    "for i in range(len(protocols)):\n",
    "  protocol_in_question = protocols[i]\n",
    "\n",
    "\n",
    "  root = etree.parse(protocol_in_question, parser).getroot()\n",
    "  element_str=paragraph_iterator(root, output=\"str\")\n",
    "\n",
    "  data.append({\"protocole\": protocol_in_question,\"texte\": \" \".join(element_str)})\n",
    "\n",
    "df=pd.DataFrame(data)\n",
    "print(df.head())\n"
   ]
  },
  {
   "cell_type": "code",
   "execution_count": 17,
   "metadata": {},
   "outputs": [
    {
     "name": "stdout",
     "output_type": "stream",
     "text": [
      "Den 30 Januari, 139 Onsdagen den 30 Januari. KL. 10 f. m. SE Protokollsutdrag för den 28 i denna månad upplästes och godkändes. g 2. Herr L. Öhlin begärde och erhöll ledighet från riksdagsgöromålen under tre dagar. § 3. I enlighet med Kammarens förut fattade beslut företogs nu med slutna sedlar val af ledamöter för inseende af Riksdagens Kansli; och befunnos vid valsedlarnes öppnande till sådane ledamöter vara utsedde: Herr Sjöberg med . «sms c rr rr 122 röster och Leffler nm sssce ses tr 71 ov § 4. Jemlikt Kammarens den 28 i denna månad fattade beslut företogs val af tre ledamöter för att deltaga i talmans-öfverläggningarne. Detta med slutna sedlar förrättade val utföll sålunda att härtill utsågos: Herr Björck med. s .cscs ss ec er 94 röster, » Friherre Gripenstedt med . . . +. - - 77 oo», och » Nils Larson med . ..ssccc ccs 73 8 > Bordlagda motioner hänvisades: Herr Rudbergs motion, N:o 80 till Lag-Utskottet; Herr Heggströms motioner, N:ris 81 och 82, till Stats-Utskottet; Herr .Grenanders motioner, N:ris 83 och 84, till Stats-Utskottet; Herr Sven Nilssons motion, N:o 85, till det särskilda Utskott, som komme att handlägga alla frågor rörande förändrad organisation af landtförsvaret; Herr Ola Lassons motioner, N:o 86, till ett tillfälligt Utskott, och N:o 87 till Bevillnings-Utskottet. § 6. Föredrogs ånyo Herr Rudbergs motion, N:o 88, om uppflyttning af Borgholms tvåklassiga pedagogi till treklassigt elementarläroverk och anvisande af härtill erforderliga medel. § 140 Den 30 Januari. Herr Hedlund: Då motion blifvit väckt, om jag ej misstager mig, af Herr Siljeström, om tillsättande af ett särskildt Utskott för behandling af läroverksfrågorna i gemen, hemställer jag, om det ej kunde vara skäl att till detta Utskott, i fall det kommer till stånd, öfverlemna äfven denna motion, hvarigenom man kunde befria Stats-Utskottet från den tunga börden af alla frågor, som angå läroverken. Herr Lindström: Då något särskildt Utskott för behandlingen af dessa frågor ännu icke blifvit beslutadt och motioner af likartadt innehåll med denna törut under dessa dagar hänvisats till Stats-Utskottet, yrkar jag, att äfven nu så måtte ske. Skulle man sedermera anse nödigt att tillsätta ett särskildt Utskott, möter det ej något hinder för Stats- Utskottet att afhända sig dessa motioner. Så har förut under riksdagarne skett, när ett Utskott fått till sin behandling en motion, som det ej ansett tillhöra sig; och finner jag således intet hinder för denna motions remiss till Stats-Utskottet. Öfverläggningen var slutad, och sedan Herr Talmannen förklarat, att då särskildt Utskott för det af Herr Hedlund uppgifna ändamål icke vore tillsatt, motionen icke heller för närvarande kunde anses tillhöra sådant Utskotts behandling, blef Herr Rudbergs motion, N:o 88, till Stats-Utskottet hänvisad. § 7. Herr Magnells motion, N:o 89, att till skolkassor må i vissa fall ingå de s. k. terminsafgifterna, föredrogs ånyo, då ordet begärdes af Herr Hollander: Jag ber få fästa uppmärksamheten derpå, att min motion icke afser något nytt bidrag för läroverken, utan endast en förändring i fråga om fördelningen af de redan förut utgående terminsafgifterna; hvarföre motionen torde till ett tillfälligt Utskott böra öfverlemnas. Motionen hänvisades till ett tillfälligt Utskott. s 8. Vidare hänvisades: Herr Magnells motion, N:o 90, till Lag-Utskottet; Herr Ahlgrens motion, N:o 91, till ett tillfälligt Utskott; Densammes motion, N:o 92, till Stats-Utskottet. § 9. Föredrogs ånyo Herr Myrtins motion, N:o 96, angående ytterligare undersökning af nordvestra jernvägsstambanan och, intilldess sådan undersökning egt rum, denna banas byggande endast för så stor del, som är gemensam för de ifrågasatta begge alternativa sträckningarne. I anledning af denna motion yttrade: Herr Lars Daniel Andersson: Jag kan icke annat än yrka afslag på denna motion, och anser det föga passande, om man nu skulle upprifva det beslut, som vid förra riksdagen fattades rörande denna jernvägssträckning. Den 30 Januari. 141 Herr Rosenberg: Jag hoppas, att enhvar, som erinrar sig den förra Riksdagens jernvägsstrider, ej må hafva lust att nu upplifva desamma, och för min del måste jag yrka afslag på denna motion, som innebär ett försök att upprifva hvad som nyss blifvit beslutadt. Herr Murén: Äfven jag kan ej underlåta att begagna detta tillfälle att beklaga, det en sådan motion som den nu förevarande kunnat framkomma. Vid sistlidna riksdag bestämde Ständerna denna banas sträckning, och deras beslut fattades, såsom enhvar torde minnas, efter svåra strider och moget begrundande; och jag kunde vid sådant förhållande icke tro, att någon nu skulle försöka upprifva detta beslut. Jag hoppas visserligen och är öfvertygad derom, att Stats-Utskottet kommer att affärda denna motion såsom den förtjenar; men jag skulle dock vara tacksam, om motionären ville genast återtaga densamma. Om så icke sker, måste motionen naturligtvis remitteras till Stats-Utskottet, och jag får då hos Utskottet rekommendera den till ett moget öfvervägande, ty ett sådant måste föranleda Utskottet att å motionen afstyrka allt afseende. På begäran af Herr Friherre Liljencrantz upplästes Herr Myrtins ifrågavarande motion, hvarefter öfverläggningen fortsattes af Herr Friherre Liljencerantz: Herr Ribbing: När sträckningen af nordvestra stambanan vid sistlidna riksdag utgjorde föremål för Ständernas behandling, var jag anhängare af den åsigten, som förordade den s. k. norra linien, d. v. s. den som icke blef Riksdagens beslut. Min öfvertygelse rörande denna linies företräde har jag ännu qvar. Men jag har ock en annan öfvertygelse, som i nu ifrågavarande ämne för mig är af ännu större vigt, nemligen i fråga om lämpligheten af en gång fattade besluts upphäfvande. Jag delar visserligen ej Friherre Liljencrantz” åsigt att motionen skulle innehålla en sammanblandning af olika förslag, ty mig synes, att af förslaget om den underdåniga anhållan rörande en förnyad undersökning de andra besluten utgöra enkla och klara följder, och att alltså motionen rör ett hufvudämne och ett sådant, i följd hvaraf den antingen till tillfälligt Utskott bör remitteras eller ock genast afslås. Jag yrkar det sistnämnda. Ty jag vill för min del uttrycka min stora farhåga för att genast på den första riksdagen efter det nya statsskicket kullkasta ett efter mogen pröfning fattadt beslut af en föregående Riksdag, hvilket, enligt mitt förmenande, endast i rara undantagsfall, der synnerligen talande skäl derför förefinnas, bör ske. Börjar man med att upprifva föregående Riksdagars beslut, råkar man in i en cirkelgång, som icke leder till något bestämdt resultat. Detta är det skäl, hvarföre jag för min del ogillar denna motion och yrkar dess afslående. Herr Ola Jönsson: Jag delar fullkomligt den föregående talarens åsigt derom att detta icke är något önskningsmål, utan måste remitteras till Stats-Utskottet. Motionen afser att upprifva ett af begge statsmagterna fattadt beslut, och då Stats-Utskottet vid förra riksdagen behandlade denna fråga, torde den nu väckta motionen dermed stå i sådant sammanhang, att den måste af nämnda Utskott behandlas. 142 Den 30 Januari. Herr Rosenberg: Sedan motionen nu blifvit uppläst, kunde man visst blifva något villrådig, huruvida den icke borde remitteras till Stats- Utskottet, eftersom här är fråga om vilkoren för ett statsanslags utgående. Men motionens hufvudsyfte synes dock vara en utredning rörande de båda sträckningarne, hvaraf visserligen alltid, i händelse af motionens framgång, de öfriga nu framställda anslagsyrkandena framdeles skulle blifva en följd, och då hufvudtanken således är, att få förra riksdagens beslut upphäfdt och banan om möjligt anlagd i en annan rigtning, så får jag just med afseende derpå allvarligt motsätta mig denna motion; ty genom ett bifall dertill skulle man, såsom en talare redan anmärkt, komma in i en cirkelgång, som kanske aldrig skulle taga slut, och man skulle aldrig kunna säga när någonting vore definitivt beslutadt, om den praxis började vinna insteg, att man vid nästpåföljande riksdag tog sig för att upphäfva den föregåendes beslut. Utan att nu vilja upptaga tiden med att ingå i någon granskning af de olika bansträckningarnes företräde för hvarandra, vill jag förklara, att jag af respekt för sednaste riksdags belut anser denna motion böra ogillas. Herr Lindström: Jag vill ej ingå i något bedömande af motionärens bevekelsegrunder och vill ej heller påstå, att motionären haft för afsigt att upphäfva förra Riksdagens beslut. Utan att hafva genomläst motionen, har jag dock, när den s. k. klämmen i densamma nyss upplästes, sökt uppfatta motionärens mening och får förklara, att jag för min del icke kan finna motionen utgöra ett försök att upphäfva det en gång fattade beslutet. - Motionen afser i första rummet, att de medel, som blifvit till denna bana anvisade, skulle användas på den oomtvistade delen deraf. Deri torde ej ligga något, som kan vara stridande emot förra Riksdagens beslut. Vidare begär motionären uppskof med anläggningen af den omtvistade delen, och ej heller detta innebär ett upprifvande af förra Riksdagens beslut. Endast i händelse motionären yrkat banans anläggning i en annan rigtning, skulle man kunna tala om försök att upprifva det förra beslutet. Men jag har egentligen begärt ordet för att, då afslag å motionen här blifvit yrkadt, se till hvad grundlagen derom säger. För att en motion skall kunna genast afslås, måste densamma vara af beskaffenhet att böra af tillfälligt Utskott behandlas. Så är dock icke förhållandet med denna motion, som bör remitteras till Stats-Utskottet. Dit har Kongl. Maj:ts Proposition om anslag till denna bana blifvit remitterad och till denna Proposition torde den nu förevarande motionen kunna betraktas såsom ett supplement. Derföre kan motionen icke nu afslås, hvadan jag yrkar remiss till Stats-Utskottet. Herr Mannerskantz: Efter den siste talarens anförande kan jag inskränka mig till att instämma med honom. Motionen tillhör uppenbarligen Stats-Utskottet, hvilket alltid behandlat frågor om anslag till jeruvägsbyggnader och i sammanhang dermed äfven frågor om banornas rigtning; och för öfrigt hafva andra motioner om jernväsars anläggning under dessa dagar blifvit till Stats-Utskottet remitterade. Den 30 Januari. 143 Herr Friherre von Schulzenheim: Efter det fullständiga yttrande, som Herr Lindström afgifvit, återstår för mig icke något att tillägga i i sjelfva saken. För mig var det, från det motionen började diskuteras, fullkomligt tydligt, att frågan rörde en långt vigtigare punkt, än hvad motionens sjelfva ordalydelse gaf vid handen; nemligen en riksdagsmans okränkbara rätt och grundlagens helighållande. Enligt 58 $ i Riksdagsordningen har hvarje medlem af Representationen rättighet att få en af honom lagligen väckt fråga till vederbörligt Utskott hänvisad och af Kammaren pröfvad; och denna rätt kan honom icke beröfvas, äfven om hans förslag skulle förefalla hvarje individ inom Kammaren på det högsta misshagligt. Vidkommande Herr Ribbings anmärkning om det obehöriga deri, att en efterföljande Riksdag upphäfver ett beslut, som en föregående fattat, vill jag erinra derom, att, med undantag måhända af anslagsfrågor, inga ämnen gifvas, der icke en sednare representantförsamling ofta förändrar en föregåendes beslut och mäste göra det, såvida den icke skulle lemna helt och hållet utan afseende, hvad förändrade omständigheter, en mera upplyst tidsanda och dess tillfredsställande ovilkorligen fordra. Hvad nu denna fråga angår, kan jag icke finna det ringaste olämpligt eller förnärmande deri, att man söker genom noggrannare undersökningar vinna större klarhet uti åtskilliga omständigheter, som måhända äro väl i behof af en närmare utredning. Sjelfva saken kan ej annat än vinna derpå; och för ernående af detta ändamål, påyrkar jag på det ifrigaste, att frågan icke, såsom åtskilliga här åsyftat, skjutes å sido, utan förenar mig i yrkandet om motionens öfverlemnande till Stats- Utskottet. Herr Östman: Hvar och en, som minnes de bittra strider, som utkämpades vid sistförflutna riksdagen angående rigtningen af den nordvestra stambanan, ser utan tvifvel icke utan missnöje att det gamla trätofröet åter upprifves. Ehuruväl den nu föredragna motionen icke innehåller något bestämdt förslag om en ändring i den en gång beslutade Jernvägssträckningen, så ligger dock i densamma nedlagd möjligheten att upprifva ett beslut, som af en föregående Riksdag blifvit fattadt uti en stor och vigtig fråga. Och ehuruväl det stundom händt, att Representationens beslut blifvit af efterföljande folkombud ändrade, så ligger dock i dessa exempel icke något efterföljansvärdt; då ett sådant förfaringssätt leder till en kretsgång i besluten, som icke lemnar något resultat, utan mer än behöfligt fördröjer utförandet af besluten och skördandet af de fördelar, som genom stora uppoffringar äro afsedda att vinnas. Ehuru jag af dessa skäl icke kan gilla motionens syfte, vill jag dock, fastän jag helst önskade att den af motionären återtoges, icke motsätta mig dess remitterande till vederbörligt Utskott, som väl lärer vara Stats-Utskottet. Herr Hierta: Jag tror alldeles icke, att från grundlagens sida något hinder möter för den ifrågavarande motionens öfverlemnande till Stats- Utskottet, då det både är vanligt och äfven ligger i sjelfva sakens natur, att Stats-Utskottet i sammanhang med frågor om anslag stundom måste föreslå underdåniga framställningar, som äro helt och hållet att hänföra 144 Den 30 Januari. till s. k. önskningsmål. Men då motionen afser en underdånig framställning i och för sig, utan någon begäran om tillökning i redan beviljade anslag, tror jag. att den ej måste af Stats-Utskottet behandlas, utan tillhör sådana förslag, som kunna af Kammaren remitteras till tillfälligt Utskott eller ock afslås. | Hvad följden skulle blifva af ett bifall till motionen, anser jag Herr Ribbing hafva ganska tydligt lagt i dagen, och lika med honom anser jag upprifvande af de beslut, som så nyss blifvit fattade, icke verka något godt; ehuruväl jag alldeles icke anser Representationen vara absolut hindrad att ändra föregående beslut, äfven om de afse användandet af redan beviljade anslag, då dessa nemligen icke äro till fullo använda. Ty det skulle i sanning vara högst besynnerligt, om, sedan allmänna tänkesättet blifvit fullkomligt stadgadt i åsigten af det olämpliga uti att använda disponerade medel på ett visst bestämdt sätt, man dock skulle vara hindrad att ändra det fattade beslutet derom och nödgas fortfarande framgå på den origtiga väg, hvarpå föregångarne hafva slagit in. Som det i allt fall är beredt Stats-Utskottet tillfälle att, vid behandlingen af Kongl. Maj:ts nådiga Proposition om Statsverkets tillstånd och behof, yttra sig äfven om denna fråga, finner jag mig föranlåten att förorda dess öfverlemnande till tillfälligt Utskott, derest Kammaren icke skulle finna för godt att den genast aftslå. Herr Hedlund: Jag instämmer fullkomligt 1 den Herr Friherre Liljencrantz” uppfattning af motionen, att deri icke bestämdt blifvit uttalad någon önskan att upprifra den sista Riksdagens beslut, men vill ej heller förneka, att ju en sådan önskan ligger i motionen dold. Motionären vill hafva öppet lemnadt för en kommande Riksdag att besluta om jernbanans sträckning; och jag delar äfven denna önskan samt är ingalunda rädd att draga de konseqvenser, som kunna härflyta af en sådan sakens uppfattning. Huru okränkbart jag än anser att ett riksdagsbeslut bör vara, önskar jag dock att det, i händelse nya upplysningar ingå, som göra allmänna meningen ense om dess olämplighet, icke må binda händerna på en kommande Representation. Ett fattadt beslut, såväl i det allmänna som enskilda lifvet, har för mig den största helgd, dock endast så länge jag finner det grundadt på goda och fullgiltiga skäl; men när deras haltlöshet blifvit lagd i dagen, då jag blifvit fullt öfvertygad om att jag befinner mig på en orätt väg, vill jag icke dröja att gifva mig in på den rätta. Med all aktning för våra gamla vördnadsvärda Rikets Ständer, mot hvilkas auktoritet ju dessutom just vår närvaro här utgör den kraftigaste protest, anser jag dem dock icke hafva varit ofelbara. Det är tillika en känd sak med huru ringa pluralitet Ständernas beslut tillkom. Jag tillönskar motionen all framgång i det Utskott, dit den hänvisas, vare sig i Stats-Utskottet eller ett särskildt Utskott, ty jag kan ej finna annat än att en fråga, sådan som denna, enligt Riksdags-ordningen icke kan till tillfälligt Utskott öfverlemnas. Herr Murén: En värd talare har yttrat, att det icke saknade exempel att af Representationen fattade beslut blifvit upprifna; och jag vill Den 30 Januari. 145 vill icke bestrida, att så stundom händt, men jag kan dock icke finna att häraf något skäl är att hemta för fortgående på en så vådlig bana, lika litet som man deraf, att ett beslut tillkommit med ringa majoritet, bör tillerkänna det mindre auktoritet. Huru ofta har ej det händt, att beslut äfven i vigtiga frågor tillkommit genom en ringa röstöfvervigt. De äro dock lika lagliga och lika bindande; och hvad det ifrågavarande angår, så bör man icke förbise, att det var öfverensstämmande med Kongl. Maj:ts Proposition, som åter grundade sig på noggranna undersökningar. En annan talare har påstått, att motionärens yrkande alldeles icke står i strid med Rikets Ständers beslut. Detta grundar sig dock på ett misstag, ty Rikets Ständer hafva beslutat, ej att någon viss del af den bestämda sträckan utan att hela densamma skall byggas, och då ett förslag framlägges med syfte att endast en del af det beslutade arbetet skall fullbordas, så är ju detta i uppenbar strid mot nämnda beslut. Banan är ju redan påbörjad, medlen för ändamålet disponerade och Kongl. Maj:t bemyndigad att använda dem på det sätt, som han sjelf ansett vara det rätta. Låt vara, att en annan sträckning än den beslutade i mångas tycke vore lämpligare; det är dock en fråga, som genom definitivt beslut redan blifvit afgjord, och som derföre ej vidare bör komma under öfverläggning. Då motionären ej är närvarande för att upplysa, till hvilket Utskott han sjelf anser att hans motion lämpligen bör hänvisas, torde den, med fästadt afseende på hvad flere föregående talare ansett rigtigt, kunna till Stats-Utskottet öfverlemnas, hvaremot jag för min del icke har något att erinra. Herr Hessle: Jag vill helt och hållet afhålla mig från hvarje yttrande om förslagets befogenhet, huruvida det bör bifallas eller icke. Föregående talare hafva yttrat sig om det betänkliga och vådliga i att upprifva ett beslut från en föregående riksdag. Vida vådligare finner jag dock, att försöka undertrycka en representants yttranderätt; hvilket är ett uppenbart brott mot grundlagen. Utan att dertill göra sig skyldig, tror jag derföre att man ej kan vägra remiss af den nu föredragna motionen, hvilken ingalunda är att hänföra bland sådana förslag, som tillhöra tillfälligt Utskotts behandling och som jag förty yrkar måtte öfverlemnas till Stats-Utskottet. Herr Jöns Pährsson instämde. Herr Eric Ersson: Som jag anser, att det skulle vara mindre värdigt, om Kammaren sökte förqväfva en motion, som ostridigt tillhör ständigt Utskotts behandling, förenar jag mig med den siste talaren och yrkar att motionen måtte till Stats-Utskottet öfverlemnas. Herr Uhr: Jag må bekänna, att jag ej kan fatta de skäl, som kunna föranleda att undertrycka denna motion. Det ser ut som om man genom diskussionen åter ville föra oss in på de eviga jernvägsstriderna; men för min del får jag förklara, att jag anser tiden alltför dyrbar att derpå Riksd. Prot. 1867. 2 Afd. 10 146 Den 30 Januari. spilla många ord. Jag anhåller derföre hos Herr Talmannen om proposition på motionens hänvisande till Stats-Utskottet. Herr Lindström: Frågan om till hvilket Utskott en motion bör hänvisas, eller om den må af Kammaren genast förkastas, är, efter min tanke, af allt för stor vigt, att man skulle härutinnan låta sig bestämmas af vissa, förut fattade opinioner eller af något så opålitligt, som det man kallar tycke och smak. En talare på Stockholmsbänken har, som det synes af stort icke annan grund, påstått, att förevarande motion icke hör till Stats-Utskottets handläggning. Jag dristar likväl fortfarande påstå motsatsen, enär motionären ifrågasatt förnyade undersökningar, rörande nordvestra stambanans rigtning, och sådana undersökningar icke lära aflöpa utan kostnader, hvilka naturligtvis skola fyllas genom statsanslag. En annan talare har velat påbörda mig ett misstag härutinnan och förmenat, att motionen ej kan föranleda andra kostnader än de, hvartill medel genom förra Riksdagens anslag äro tillgängliga. Jag hyser likväl motsatt uppfattning och tror att misstaget ligger på bemälde talares sida. Det är i motionen icke blott fråga om användandet af förra Riksdagens anslag, utan äfven af dem, som Regeringen vid denna begärt. Vid dessa förhållanden yrkar jag, att motionen måtte till Stats-Utskottet remitteras. Herr Hierta: I anledning af den föregående talarens anförande, får jag endast åberopa mitt förra yttrande i frågan. Jag finner visserligen intet bestämdt hinder, att remittera motionen till Stats-Utskottet, men, då densamma likväl icke egentligen afser något statsanmslag, anser jag Kammaren oförhindrad att genast afslå den eller hänvisa den till tillfälligt Utskott, och härvid tror jag det rättaste vara att, till undvikande af det förhatliga i ett omedelbart undertryckande, låta ett tillfälligt Utskott taga frågan om händer. Detta sker likväl under den öfverbevisning, att motionen sedermera icke kommer att föranleda någon åtgärd från Riksdagens sida, ty det vore verkligen alltför sorgligt om ridån åter skulle dragas upp till den bedröfliga tragedi, som vi i förevarande ämne fingo genomspela under sista riksdagen. Herr Staaff: Det tyckes mig, som skulle icke ringaste tvifvel kunna uppkomma derom, att fjerde punkten i föreliggande motion innefattar en ren anslagsfråga. Och ehuruväl motionären nu i öfrigt omrört åtskilliga ämnen af beskaffenhet att i och för sig böra komma under tillfälligt Utskotts handläggning, så tror jag likväl det rättaste vara att motionen i sin helhet hänvisas till Stats-Utskottet, då de särskilda punkterna stå i ett visst sammanhang med hvarandra. Öfverläggningen var slutad, och Herr Myrtins motion, N:o 96, hänvisades till Stats-Utskottet. § 10. Hänvisades: Herr Svanbergs motion, N:o 97, till ett tillfälligt Utskott. Herr Hollanders motion, N:o 99, till Stats-Utskottet, Densammes motioner, N:ris 100 och 101, till ett tillfälligt Utskott. Den 30 Januari. 147 g 11. Vid föredragning ånyo af Herr Sköldbergs motion, N:o 106, om öfverflyttning till bankerna af landtränteriernas kassaförvaltning, uppträdde och yttrade: . Herr And. Gudmundsson: Så vidt jag kunnat uppfatta förevarande motion, afser den ett ämne, som bör komma under Banko- Utskottets beredning. Frågan är visserligen från ena sidan sedd af ekonomisk, natur; men då det innebär en ej oväsendtlig utvidgning af bankernas rättigheter, derest till dem öfverlemnas ränteriernas medel, anser jag motionen böra till Banko-Utskottet hänvisas. Herr Lindström: Då motionen ej rörer Riksbanken och dess verksamhet, kan jag ej inse, att densamma bör hänföras till Banko-Utskottet. Detta Utskott har med privatbankernas operationer intet att skaffa, och motionärens mening är ju den, att ränteriernas medel skulle i dessa banker insättas. Vid sista riksdagen behandlades samma ämne af Ekonomi- Utskottet; och den torde nu rättast böra till ett tillfälligt Utskott hänvisas. Med Herr Lindström hördes flere af Kammarens ledamöter instämma. Herr Rosenqvist: För min del anser jag motionen, såsom rörande: förvaltningen af Statens medel, böra till Stats-Utskottet remitteras. Herr Rydberg: I visst afseende berör motionen äfven Landshöfdinge-instruktionen, såsom innebärande en ändring i landskontorens funktioner, och borde till Lag-Utskottet remitteras. Men då således flera Utskott möjligen ega anspråk på handläggningen af ämnet, så tror jag det för tvistens slitande vara lämpligast, om motionen hänvisades till behandling af tillfälligt Utskott. Herr Staaff: Jag kan ej finna, att denna fråga under någon förevändning kan sägas höra till Banko-Utskottets beredning. Om man nödvändigt vill hafva den hänvisad till något ständigt Utskott, borde det väl snarare blifva Statseller, på den af föregående talare antydda grund, Lag-Utskottet. Men då motionens syften äro at flerahanda art och det synes medföra svårigheter, hvilket af de ständiga Utskotten man än stadnade vid, så anser jag klokast, att saken hänskjutes till tillfälligt Utskott; och jag har dertill så mycket större anledning, som likartad motion under föregående riksdag blifvit till Ekonomi-Utskottet remitterad. Öfverläggningen var slutad och Herr Sköldbergs ifrågavarande motion hänvisades till ett tillfälligt Utskott. & 12. Ytterligare hänvisades: Herr Sköldbergs motion, N:o 107, och Herr 0. B. Olssons motion, N:o 108, till Stats-Utskottet. 148 Den 30 Januari. g 13. Herr Hedengrens motion, N:o 112, om gästgifveri-, håll-, reservoch postskjutsens skiljande från jordbruket och öfvertagande af Staten, föredrogs ånyo, då ordet begärdes af: Herr Sven Nilsson: Jag har begärt ordet, endast för att uttrycka mitt anslutande till de af motionären ådagalagda syften. Jag kan så mycket heldre i desamma instämma, som jag blifvit af motionären helt och hållet förekommen, enär jag sjelf ämnat framlägga förslag i samma rigtning. Herr Anders Eriksson: Äfven jag ber att få instämma, under uttryckande af den förhoppning, att motionen skall vinna det erkännande och den framgång, som den så väl förtjenar. Öfverläggningen var slutad och Herr Hedengrens motion, N:o 112, med deröfver afgifna yttranden hänvisades till Stats-Utskottet. g 14. Ånyo föredrogs Herr Kjellsons motion, N:o 113, om underdånig skrifvelse till Kongl. Maj:t, angående utarbetande och framläggande af förslag till reglering af samtlige embetsoch tjenstemäns aflöning. Herr Hierta: Jag har genomläst denna motion och funnit den innefatta ett allmänt förslag till lönernas omreglerande och borttagande af alla sportler. Som bekant har Herr Björck jemväl väckt ett förslag af enahanda syfte, men mera vidsträckt liksom mera bestämdt formuleradt ; och detta sednare förslag hvilar nu på Kammarens bord. Jag föreslår derföre, att Kammaren ville låta nu förevarande motion hvila, till dess afgjordt blifvit till hvilket Utskott Herr Björcks kommer att hänvisas, enär lämpligast vore, att begge motionerna i detta afseende delade öde. Herr Kjellson instämde. | Med anledning af hvad Herr Hierta anfört beslöt, på Herr Talmannens hemställan, Kammaren, att, sedan Herr Björcks motion, N:o 133, derom att Riksdagen för sin del måtte besluta de centrala embetsverkens ombildning samt hos Kongl. Maj:t anhålla om nådiga propositioner med förslag till embetsverkens organisation och tjenstemännens ställning, blifvit föredragen, skulle Herr Kjellsons ifrågavarande motion till vidare behandling företagas. & 15. Vidare hänvisades: Herr Sjögrens motion, N:o 115, till Bevillnings-Utskottet; Densammes motion, N:o 116, och Herr Hörnfelts motion, N:o 117, till Stats-Utskottet; Densammes motion, N:o 118, till Lag-Utskottet; \"Den 30 Januari. 149 Herr Hellerströms motioner, N:o 119, till Bevillnings-Utskottet, och N:o 120, till Stats-Utskottet ; Herr Erik Erssons motion, N:o 121, till Stats-Utskottet, och Herr Dahms motion, N:o 123, till Stats-Utskottet. & 16. Föredrogs ånyo Herr Lars Perssons motion, N:o 124, om upphäf- vande af 60 8 i Kongl. Förordningen den 21 Mars 1862, angående kommunalstyrelse på landet. Herr Lars Persson: Om jag ej uppfattat saken origtigt, så har Kammaren beslutat ett särskildt Utskott för behandling af frågor, rörande ändring i kommunallagarne. I så fall torde jag få föreslå, att denna motion måtte till nämnda Utskott hänvisas. Herr Lindström: Jag får upplysa den föregående talaren, att samtliga de af honom omförmälda frågor blifvit till Lag-Utskottet hänvisade; och torde således äfven denna motion böra gå samma väg. Efter öfverläggningens slut och sedan Herr Talmannen fästat uppmärksamhet derå, att särskildt Utskott ännu icke vore tillsatt för behandling af frågor om ändring i kommunalförordningarne, hänvisades Herr Lars Perssons motion, N:o 124, till Lag-Utskottet. § 17. Herr Reutercronas motion, N:o 125, hänvisades till det särskilda Utskott, som fått sig uppdraget att handlägga alla frågor rörande organisationen af landtförsvaret. g 18. Föredrogs ånyo Herr D. .Damielssons motion, N:o 126, derom att Riksdagen måtte låta utreda, hvilka tjenster och befattningar inom embetsverk och korpser, som kunna indragas till besparing för Statsverket. Herr Rosenberg: Jag hemställer, att denna motion måtte gå samma väg med öfriga motioner af enahanda syfte eller till ett af Kammaren tillsatt särskildt Utskott. Herr Witt: Jag anser, att något särskildt Utskott för behandlingen af denna och likartade motioner så mycket mindre behöfver tillsättas, som de alla, efter min tanke, höra till tillfälligt Utskotts beredning, och således böra till sådant Utskott hänvisas. Öfverläggningen var slutad, och Herr Danielssons motion, N:o 126, jemte dit hörande yttranden hänvisades till tillfälligt Utskott. g 19. Hänvisades: Herr D. Danielssons motioner, N:ris 127 och 128, till Stats-Utskottet ; 150 Den 30 Januari. Herr Byjörcks motion, N:o 133, till tillfälligt Utskott; i anledning hvaraf Herr Kjellsons motion, N:o 113, jemlikt Kammarens under 8 14 här ofvan omförmälda beslut, äfven hänvisades till ett tillfälligt Utskott. § 20. Herr Friherre Liljenerantz? motion, N:o 135, om indragning af en del utaf de på Riks-statens Tredje Hufvudtitel anvisade utgifter, föredrogs ånyo, då ordet begärdes af Hans Excellens Herr Statsministern för utrikes ärendena: Då jag först helt nyligen under loppet af förmiddagen haft tillfälle taga kännedom om nu förevarande motion, har jag naturligtvis ej kunnat fullständigt sätta mig in i alla dess ganska vidlyftiga detaljer. Så mycket har jag likväl inhemtat, att motionen innehåller plan till en genomgripande omorganisation af Utrikes-departementet, så väl med hänsyn till de utländska legationerna, som till Departementets kansli här hemma. Ett sådant förslag är ingalunda något nytt. Under den långa tid, jag haft äran deltaga i Representationens förhandlingar har jag nästan hvarje riksdag sett likartade planer framkomma. Vid 1840 års riksdag lyckades det dem, som då drefvo saken, att göra sitt förslag gällande. Jag behöfver ej påpeka de orsaker, som betingade detta förhållande. Följden blef emellertid, att Utrikes-departementets stat, som förut bestigit sig till 307,666 Riksdaler 32 skillingar Banko eller något mera än 460,000 R:dr R:mt, nedsattes till 300,000 R:dr i sistnämnda mynt räknadt; och denna nedsättning var för Utrikes-departementet så mycket bekymmersammare, som vid denna tidpunkt inträffade förhållanden, af de flesta måhända förgätna, men som dock helt säkert icke äro alle af Eder obekanta, hvilka särdeles försvårade bestridandet at Departementets utgifter. Detta missförhållande utjemnades likväl på ett sätt, som icke torde vara okändt; och när Konung Oscar besteg thronen, var Han för högsint att af sitt folk begära ersättning för de honom på antydda sätt tillskyndade, högst betydliga kostnader. Först vid 1856 års riksdag gjordes framställning om förhöjning uti Utrikes-departementets budget: och i bil. 2 till Kongl. Maj:ts nådiga Proposition till 1856 års Ständer om Statsverkets tillstånd och behof finnes intagen en — jag kan säga det, ty jag befann mig vid denna tid i Kongl. Maj:ts och Kronans tjenst utom Riket — särdeles fullständig och förtjenstfull utredning angående Utrikes-departementets organisation. Anslaget till Departementet ökades ock med 141,000 R:dr, och har med den sålunda erhållna förhöjning sedermera oförändradt utgått. Vid 1860 års riksdag väcktes åter fråga om nedsättning af anslaget. Då förslaget förekom på Riddarhuset, understöddes det af flere talare, ibland hvilka jemväl befann sig Riksdagsveteranen Grefve Carl Henrik Anckarsvärd. För undvikande af vidlyftighet får jag hänvisa till det yttrande, som jag under denna debatt hade äran afgifva. Det återfinnes i Ridderskapet och Adelns protokoll för den 11 Februari 1860, 3:dje delen, pag. 441—456. Som jag redan anmärkt, innefattar nu föreliggande motion en fullständig organisationsplan och ingår sålunda i en mängd detaljer, rörande hvilka jag har svårt att uttala mig efter den mindre fullständiga kännedom, jag hunnit taga af förslaget. Det är ganska förtjenstfullt att uppgöra en sådan organisationsplan, men erbjuder äfven stora svårigheter för den, som ej är fullkomligt förtrolig med alla de, stundom invecklade, detalj- Den 30 Januari. 151 förhållanden, som inverka på det hela. Motionären åsyftar emellertid att återföra Utrikes-departementets anslag till ungefär samma belopp, som 1840 års riksdag. Hans slutsumma bestiger sig till 308,000 eller 309,000 R:dr. Vid 1840 års riksdag bestämdes den, såsom jag förut anfört, till jemt 300,000 R:dr. Motionären synes härvid hufvudsakligen hatva stödt sig på jemförelser med främmande länders förhållanden, särskildt med Danmarks och Hollands. Den Danska budgeten för utrikes angelägenheterna är den lägsta, jag känner, åtminstone inom något Europeiskt land — jag tror ej, att vi för upplysnings vinnande behöfva gå utom Europa, helst det är bekant, att de Trans-atlantiska stater, som äro af någon betydenhet, för sin diplomati använda högst ansenliga belopp — och likväl bestiger sig denna budget, som efter de sednaste beklagliga tilldragelserna naturligtvis blifvit betydligen nedsatt, till 170,000 Riksbanksdaler eller i Svenskt mynt efter vanlig kurs å 2 Riksdaler en summa af 340,000 Riksdaler. Häruti inbegripes dock icke lönen till Utrikesministern; hvarjemte tillkommer en post till obestämdt belopp, enär i budgeten finnes för vissa ändamål anslaget 10,000 Riksdaler, med rättighet för Utrikesministern att i Finansministeriet lyfta derutöfver erforderliga medel. Med en folkmängd af omkring 1,700,000 menniskor har Danmark således en budget för utrikes angelägenheterna öfverstigande 340,000 Riksdaler. Det behöfver väl ej nämnas; men Sveriges folkmängd är mera än dubbelt så stor, som grannlandets. Hvad Holland angår, har jag begärt men ännu icke bekommit dess sednaste budget. Jag tror dock icke att några väsendtliga förändringar tillkommit till den föregående budgeten. Och enligt denna bestiger sig Hollands anslag för diplomatiska angelägenheter till 526,500 Holländska floriner eller i Svenskt mynt räknadt 790,000 Riksdaler. Belgiens är något lägre; det utgör omkring en million francs, eller efter en kurs af 70 öre per francs 700,000 Riksdaler. Nu är det ett välbekant förhållande, att Hollands och Belgiens representanter hos främmande magter äro särdeles lågt aflönade. Under den tid, jag hade äran vara Sveriges representant i Frankrike, hade min Holländska kollega ett traktamente af 40,000 francs och den Belgiske ministern ett, som jag vill erinra mig, något lägre belopp. Jag kan dock med fullkomlig kännedom om förhållandena upplysa, att ingen at dessa ministrar för sina lefnadskostnader depenserade mindre än 100,000 francs årligen. I länder sådana som Belgien och Holland, der stor enskild välmåga är rådande, kan man lätt nog finna lämpliga personer, som äro benägna att äfven med ekonomiska uppoffringar tjena sitt land. Hos oss betvitlar jag att förhållandet är detsamma; och för min del skulle jag i hvarje fall beklaga, om de diplomatiska posterna hos utländska regeringar blefvo ett monopol för rikedomen. Hufvudsakligen på denna grund finner jag olämpligt att inskränka våra sändebuds aflöning. Enligt hvad kändt är, måste lefnadskostnaderna i de flesta utrikes länder beräknas högre än här. Den, som med knapp aflöning skall uppehålla en ministerplats, har en ganska svår uppgift; och kan svårligen undgå att råka i ganska bedröfliga förhållanden. Jag vågar påstå, att det icke blott är hans sociala ställning, som derpå blifver lidande. Detta leder mig till till en jemförelse emellan en Envoyés och en Ministerresidents ställning. Man har sagt, att vi för landets representation utrikes icke behöfva annat än ministerresidenter, och att de 152 Den 30 Januari. skulle göra samma nytta, som diplomater af högre rang. Jag kan naturligtvis ej bevisa motsatsen, men jag vågar dock hoppas, att den erfarenhet, jag kan hafva i sådana ämnen, måtte få något gälla; och jag tror, att den särskildt i detta fall icke skall kunna jäfvas, då jag säger, att en diplomatisk agent af lägre rang icke har samma sannolikhet att träffa personer eller att genom personligt umgänge och sällskaplig beröring utöfva inflytande eller få fram sina önskningsmål, något som ej alltid kan ske genom skriftliga afhandlingar. Jag tror således, att en sådan besparing, som den ifrågavarande, skulle vara af men för våra intressen utomlands, helst som, efter min tanke, man ingalunda kan beskylla Regeringen under sednare tider att hafva till öfverdrift ökat antalet af platser med högre karakter. Om man jemnför den stat, som antogs 1765 — i slutet af frihetstiden, då Ständernas frikostighet med anslag var ganska ringa, -- med den nuvarande, så finner man enligt den förstnämnda ministerstaten, att Envoyéer voro anställde i Wien, Petersburg, Köpenhamn, Berlin, Paris, London, Haag, Madrid, Constantinopel, innalles nio Envoyéer. Den nuvarande ministerstaten upptager jemväl nio sådana funktionärer, deribland inbegripne Envoyéerne i Italien och Förenta Staterna, af hvilka stater den sednare icke existerade 1765, och den förra, som bekant, var sönderdelad i en mängd smärre länder. Under Gustaf III:s tid hade Sverige, enligt hvad kändt är, flera diplomatiska agenter af än högre rang, hvilkas lefnadskostnader alltså jemväl vore högre. Vi hade Ambassadörer i Petersburg, Paris och Köpenhamn. Sjelfva budgeten är till siffran något högre för närvarande, än uti 1765 års stat, dock är skilnaden ej särdeles stor. Så hade, för exempel, sändebuden i Berlin och Köpenhamn i årlig aflöning 7,000 Riksdaler Hamburger Banko, och de hafva nu 8,000 Riksdaler. Men jag vågar till en hvar hemställa, huruvida icke år 1765 7,000 Riksdaler ijemförelse med 8,000 Riksdaler år 1867 gällde oändligt mycket mera, och jag tror, att med hänsyn till penningevärdet och lefnadskostnaderna vid dessa tidpunkter, den första summan kan anses åtminstone tre gånger så stor som den sednare. Detta i korthet rörande de utrikes beskickningarne. Hvad nu beträffar Utrikes-departementets kansli här hemma eller det s. k. Kabinettet, finner jag att motionären deruti föreslagit åtskilliga förändringar och indragningar. Detta Departements nu varande Organisa= tion uppgjordes vid 1856 års riksdag, och synes mig vara särdeles väl afpassad för Departementets behof. Man har nu föreslagit, att Che\"en för den kamerala afdelningen skulle indragas och hans tjenst sammanslås med arkivariens. Dessa befattningar äro dock af alldeles olika karakter. Chefen för den kamerala afdelningen har att besörja alla liqvider till beskickningarnes och konsulatens tjenstemän, hvilkas aflöningar utgå i en mängd olika myntsorter, äfvensom den vidlyftiga brefvexlingen i detta afseende. För befattningen härmed erfordras en person med kännedom om vexelaffärer samt till hvars noggrannhet och erfarenhet man kan förtro sig. Hans göromål äro i öfrigt af beskaffenhet att påkalla daglig närvaro i Kansliet. Äfven Arkivarien bör altid vara i Kansliet tillgänglig. Han har i sin vård ett större arkiv, än som finnes i något af de öfriga Statsdepartementen. Ur de deri befintliga handlingar måste han när som helst vara beredd att utlemna de, som för tillfället kunna vara behöfliga ; och måste naturligtvis ega en noggrann kännedom om sitt arkiv, då dett. ex. Den 30 Januari. 153 alltsomoftast kan blifva nödigt att ur dess gömmor framleta handlingar rörande saker, som passerat för tiotal af år sedan. Tillika vill man indraga förste Sekreterarens plats. Denna tjensteman motsvarar Protokollssekreteraren i de andra Departementen. Jag tror, att detta förslag är föga välbetänkt, åtminstone vore det utan exempel att i ett Statsdepartement saknades en person, som hade till uppgift att föra protokollet i de Departementets ärenden, som inför Kongl. Maj:t i Statsrådet föredragas. Jag anser indragningen af denna plats så mycket mindre limplig, som de ministeriela ärenden, hvilka i Statsrådet förekomma, ofta nog kunna vara af betydlig omfattning, och de, som i sammansatt Svenskt ock Norskt Statsråd föredragas, föranleda en vidlyftig och besvärlig brefvexling. Slutligen har motionären äfven föreslagit indragningar i afseende å Departementets betjening. Med någon kännedom om de talrika budskickningar, som från Utrikes-departementet utgå, tror jag, att de föreslagna två vaktmästarne skulle blifva alldeles otillräckliga, helst som en vaktmästare måste dag och natt vara i Departementet tillstädes. Huru den andre skulle kunna medhinna alla bud till vidt skiljda delar af staden och af beskaffenhet att de böra komma sina adresser med det snaraste tillhanda, är för mig oförklarligt. Det vore också mindre lämpligt om vid besök af ett främmande sändebud i Departementets lokal, han skall finna dörrarne lästa eller betjeningen borta. Med erkännande af det goda syfte, som föresväfvat motionären, tror jag att Utrikesdepartementets liksom det allmännas bästa icke skulle på det föreslagna sättet särdeles befrämjas; och anhåller jag slutligen att till Stats-Utskottet, dit jag förmodar, att motionen kommer att remitteras, få öfverlemna budgeterna för de at mig omförmälda länders utrikes representation, såsom bidrag till frågans belysning, då Utskottet skall taga densamma 1 pröfning. Herr Jöns Pährsson: Jag kan icke annat än instämma i motionens syftemål, helst äfven jag väckt en motion, som atser besparing med Statens medel; och jag kan icke undertrycka det smärtsamma intryck det gjort på den verklige folkrepresentanten, som dagligen erfar det arbetande folkets stora behof af lindring i dess bördor, att höra huru i nästan alla grenar förökade anslag begäras och nya tjensters inrättande äskas. Med statsanslagen har vanligen så tillgått, att de först uppförts bland extra anslag, några år derefter hafva de upptagits såsom ordinarie och efter ytterligare några år hafva de blifvit ökade. Jag vill icke lemna detta tillfälle obegagnadt att vördsamt anhålla, att de förtroende-embetsmän, som stå Konungen närmast, måtte till vår ädle Konung framföra, att Svenska folket icke kan bära ökade bördor och att större sparsamhet i förvaltningen är af nöden. Herr Friherre Liljencrantz: Herr Hedlund: Det torde icke finnas någon bland Kammarens ledamöter, som icke med särdeles intresse följt den nu pågående öfverläggningen, och jag kan, i likhet med Hans Excellens Herr Utrikes-ministern, icke undgå att erkänna det förtjenstfulla hos motionären uti att hafva uttänkt 154 Den 30 Januari. och uppgjordt en ny stat för vår diplomatiska korps, men jag kan dock icke neka, att jag ju icke erfarit ett nästan plågsamt intryck, då jag åhörde detaljerna i motionen. Att en noggrann granskning af dessa detaljer varit och är nödig, måste jag medgifva; men jag har förmenat, att det varit lämpligare, om motionären inför Stats-Utskottet framlagt sin analys i berörda afseende. Äfven jag vill göra några erinringar i afseende på Tredje Hufvudtitelns utgiftsstat, men jag vill hålla dem uti en mera allmän anda och se saken utur en högre synpunkt. Då man föreslår indragning af Biskoparnes och Landshötdingarnes embeten, ligger till grund för ett sådant förslag icke blott ett behörigt afseende på statshushållningen, utan tages jemväl i betraktande den omständigheten, huruvida dessa embeten äro under nuvarande förhållanden nödiga, eller icke; och i fråga härom har man funnit, att de kunna stå vakanta under loppet af ett halft eller helt år och ännu längre, utan att någon rubbning förmärkes i de förvaltningsbestyr, som egentligen tillhöra nämnda embeten. Intet kan vara farligare för sådana embetens fortfarande, än den omständigheten, att allmänheten ser dem kunna stå vakanta under en längre tid och ändock skötas lika bra. Förgäfves skall man åberopa dessa embetens oumbärlighet. Man skall dertill endast svara: \"Det är omöjligt, att Regeringen skall kunna tillåta sådana funktionärer att lemna sin plats, om icke sådant läte sig utan olägenhet göra\", och sålunda synas platserna verkligen vara obehöfliga. Det är vakanserna, som vålla dessa föreställningssätt och de af dem framkallade anspråk. I sammanhang härmed kan den frågan framställas: i hvad mån har ett land, sådant som vårt fosterland, behof af diplomater utaf högre eller lägre rang? Härtill har man svarat, att sådant är nödvändigt för bevakandet af vårt lands intressen hos främmande stater; men då frågas åter: hvilka äro dessa intressen, som böra bevakas? Ar det nödvändigt för Sverige att inblanda sig uti de stora Europeiska politiska stridigheterna och hvad gagn hafva vi att af en sådan inblandning skörda? Detta är kärnpunkten. Hafva vi icke samtligen fägnat oss öfver Kongl. Maj:ts yttrande i Sitt tal på Rikssalen, uti hvilken den mening finnes uttryckt, att Kongl. Maj:t icke vill inblanda sig uti de stora Europeiska frågorna? Kunna vi icke på grund häraf saklöst undvara diplomaternes, de må vara af hvilken rang som helst, meddelanden, helst vi icke kunna vara förvissade om, att desse diplomater verkligen äro så förtrogne med sina åligganden, som man skäligen kan at dem fordra? Det har i diplomatiens rådslag och i staternas förhållanden till hvarandra inkommit en faktor, som förut icke der varit känd, nemligen den offentliga meningen. Denna faktor är för diplomaterne främmande, men den är derföre icke mindre vigtig att beakta. Enligt min föreställning skulle ifrågavarande embetsmän kunna vara af stor och oberäknelig vigt och nytta för ett land, derest, jemte de bestyr, som de sjelfve nu anse för de vigtigaste de ega, de läto sig angeläget vara, att i de främmande länder, der de äro anställda, bibringa innevånarne sanna och rigtiga meddelanden om sitt hemlands förhållanden samt till detta sednare återförde kännedom om sådana förhållanden i utlandet, som för oss vore af vigt att känna och kunde gagna vårt land. Med harm och bedröfvelse har Svenska folket mången gång förnummit, att i utlandet falska, nedsättande Den 30 Januari, 155 rykten blifvit satta i omlopp om våra förhållanden. Det är vid sådana tillfällen, som våra sändebud i utlandet skulle kunna göra nytta, men beklagligtvis har man icke afhört någon verksamhet i detta hänseende från deras sida, hvilket endast kan förklaras dermed, att de icke känt till hvad som försiggått, ty eljest hade helt visst känslan af att vara Svensk uppmanat dem att vederlägga tillvitelserna. I fråga om aflöningen för bemälde embetsmän anser jag, i likhet med Hans Excellens, att den bör vara så tillräcklig, att äfven andra än förmögna personer skola kunna söka och emottaga dylika befattningar. Detta gäller äfven om andra platser än de diplomatiska, och jag kan förthy icke gilla den princip, som i berörda afseende gjort sig gällande, t. ex. uti Schweitz, der man satt en stor del af sina embetsmän på, att jag så må säga, svältkur. Nu frågas dock: hafva under våra nuvarande förhållanden de obemedlade talangerna blifvit uppsökta och tagna i anspråk? Om ock den värde motionärens blygsamhet har förbjudit honom att i detta fall göra någon anmärkning, så är jag dertill oförhindrad. — Man invänder häremot, att vid många hof i Europa fordras äfven den yttre utmärkelse, som ligger i börden, för att vinna tillträde till hofvens gemak. Men det finnes en nyckel, som öppnar alla gemak, äfven de mest tillslutna, och den nyckeln heter talangen. Derpå kunna vi få bekräftelse af vår Svenska diplomatis historia från Carl X:s och Carl XI:s dagar. Jag önskar, att Stats-Utskottet måtte taga noga reda uppå och öfverväga förhållandena i denna fråga, öfvertygad, såsom jag är, att Regeringen sedermera i sin ordning skall fästa afseende på anspråk, hvilka ej ledas utaf afvoghet, utan äro förestafvade af sann fosterlandskänsla, om än ömtåliga att beröra. Det är den stora aktning och vördnad, som jag hyser för denna Regering, som gjort att jag med mindre tveksamhet vågat behandla detta grannlaga ämne. Öfverläggningen var slutad och Herr Friherre Liljencrantg motion, N:o 135, med deröfver afgifna yttranden hänvisades till Stats-Utskottet. & 21. Ytterligare hänvisades: Herr Siljeströms motioner, N:ris 137 och 188, till ett tillfälligt Utskott; Densanmumes motion, N:o 139, och Herr Hedlunds motion, N:o 140, till Stats-Utskottet. § 22. Föredrogs ånyo Herr Hedlunds motion, N:o 141, om upphörande af åtskilliga dagars egenskap af helgedagar. Denna motion föranledde öfverläggning, hvari deltogo: Herr Liss Olof Larsson: Utan att jag förmodar, det ifrågavarande motion” skall vinna något afseende, kan jag icke annat, än vid remissen uttala mitt ogillande af de motiv, som af motionären blifvit anförda för hans förslag att indraga icke mindre än 6 helgedagar. Såsom motiv hafva bibelspråk blifvit citerade, men utan att med skäl, hemtade ur samma 156 Den 30 Januari. källa, hvilket skulle vara mindre passande, vilja vederlägga dessa motiv, får jag endast i förbigående anmärka, att det förefaller mig besynnerligt, att den, som är så hemmastadd i bibelns sanningar, som motionären vill synas vara, kunnat uppfatta Söndagens betydelse och ändamål på det sätt, att den skall vara till endast för sysslolöshet, och att den skall förminska gudsfruktan och sedlighet, äfvensom att indragning eller förminskning af helgedagarnes antal skall verka godt för folkets andliga lif. Mången med mig har säkerligen tunnit just motsatsen i samma bok. Motionären anför, att \"fåfäng gå, lärer mycket ondt\" och att, som helgedagarne äro just de dagar, då man fåfäng går, desamma böra förändras till arbetsdagar, hvarjemte motionären till slut föreslår, att Midsommardagen bör göras till en fridag — således en Söndag — endast med den skilnaden, att på den dagen icke någon gudstjenst skulle förrättas. Huru stämmer detta öfverens? Det ser nästan ut, som skulle det vara gudstjensterna, som-göra det onda på Söndagen, och att helgedagar icke äro att förkasta, om man blott finge borttaga gudstjensterna. Emot en sådan åsigt anser jag mig böra på det högsta protestera. Såsom ytterligare stöd för sitt förslag anför motionären, att, genom ett bifall till detsamma, 15 millioner dagsverken årligen skulle besparas. Härpå svarar jag blott, att det finnes personer, och detta isynnerhet i städerna, som icke använda Söndagarne hvarken till sysslolöshet eller till afhörande af predikningar, utan till arbete; men huru förhåller det sig med dessa? Månne de i allmänhet äro mera välmående och kända för större sedlighet och gudsfruktan, än de, som använda Söndagarne till det ändamål, som med dem är afsedt? Jag tror det icke, och en sorglig erfarenhet styrker mig i denna tro. Jag anser således, att denna motion icke bör vinna någon framgång, ty säkerligen skulle vi icke vara särdeles välkomne hem till våra kommittenter, om vi beslutade att borttaga något, som är för dem så dyrbart, jag menar helgedagarne, hvilka äro, om jag så får uttrycka mig, så häfdvunna, att man med största varsamhet bör gå till väga i fråga om förminskningen af deras antal. Helst skulle jag hafva sett, att denna motion icke framkommit, ty om vi godkänna de grundsatser, som deri uttalas, skulle konseqvensen fordra, att vi snart besluta indragande af de öfriga högtidsdagarne, ja kanske till slut Söndagarne; och jag vill derföre lägga Lag-Utskottets ledamöter på hjertat, att noga betänka sig, innan de besluta någon förändring i det syfte motionären föreslagit. Herr Hedlund: Då jag anhåller att få uppläsa denna min nu till behandling och för hänvisande till Utskott ytterligare föredragna motion, är anledningen dertill den, att alla mina motioner äro till sitt innehåll at den beskaffenhet, att det är fara värdt att, derest icke de motiver, som de -innehålla för konklusionen eller slutresultatet, blitva kända, min mening lätteligen kan missförstås. Annorlunda kan förhållandet vara och är oftast med en mängd andra motioner, såsom t. ex. sådana, som angå jern=' vägsföretag m. fl. I afseende på dem tjenar det i allmänhet icke till något att före remissen höra dem uppläsas; men, såsom jag redan sagt, torde denna min motion, om-den icke skall missförstås, böra uppläsas, och den siste talaren har, genom hvad han anfört, gifvit mig ökad anledning till Den 80 Januari. 157 att taga i anspråk Kammarens tålamod och dyrbara tid för läsning af motionen, hvilken jag affattat med största möjliga korthet. Sedan motionären härefter uppläst sin nu föredragna motion, tillade han: Härmed har jag ju icke föreslagit något förbud för prestman att fira Midsommardagen med gudstjenst. Herr Grafström: På samma gång jag utbeder mig att få hembära motionären min tacksamhet för det förslag, som han nu framlagt, måste jag beklaga, att han icke tagit steget fullt ut och föreslagit förflyttande till firande å Söndag jemväl af öfrige helgedagar, hvilka äro af beskaffenhet, att de kunna och böra förflyttas. Man vet t. ex., att både Juldagen och Midsommardagen understundom infalla på Söndag, och icke har man derföre funnit dem mindre firade eller mindre högtidliga. I Frankrike, ett katholskt land, eger man icke flere än 4 helgedagar på året, och om den nu föredragna motionen skulle vinna framgång, blefve förhållandet enahanda hos oss. Det var år 1805, som man 1 Frankrike beslöt förflyttning af alla helgedagar, med undantag af fyra, till påföljande Söndagar, och jag föreslår nu samt anhåller att få detta mitt yttrande i förening med den föredragna motionen öfverlemnadt till Utskottet, att alla de helgedagar, hvilkas firande lämpligen kan förflyttas till Söndagar, måtte firas å dessa. Hvad beträffar de tvänne helgdagar, som icke skäligen kunna eller böra förflyttas, nemligen Nyårsdagen och Långfredagen, finner jag det vara både vackert och ändamålsenligt, att ett sedligt och gudfruktigt folk börjar sitt nyår med bön och gudstjenst, hvartill kommer, att Nyårsdagen infaller på en tid af året, då den såsom arbetsdag eger det minsta värde, och torde denna högtidsdag alltså böra bibehållas. Hvad Långfredagen åter angår, skulle jag visserligen gerna sett, om dess firande hade kunnat ske å Palmsöndagen, men då denna helgedag afser en högtid af högsta vigt och betydelse samt då jag redan nu från flera håll hört betänkligheter emot-dess förflyttning hafva uppstått, så torde det vara bäst att låta äfven denna helgedag förblifva orörändrad. Enligt \"Bidrag till Sveriges officiela statistik\" utgjorde år 1860 de yrkesidkande personernas antal 263,66 på 1,000 innevånare. Sveriges imnevånares antal utgjorde samma år 3,859,728, alltså 1,017,655 yrkesidkande, och således skulle omkring 9 millioner dagsverken eller omkring 3 procent af landets hela arbetskraft vinnas genom helgedagarnes indragning. Vi äro alltför fattigt folk att bortkasta så många arbetsdagar, och då det finnes påbjudet: \"6 dagar skall du arbeta och den 7:de skall vara en hvilodag', anhåller jag, att alla annandagar måtte indragas och att med undantag af Nyårsdag och Långfredag öfriga helgedagar, hvilka nu firas på söcknedag, måtte framflyttas till derpåföljande Söndag. Herr Rosenberg: Redan vid en föregående diskussion om en annan fråga har jag uttalat min åsigt om olämpligheten och ändamålslösheten af långa diskussioner vid motionernas remitterande, emedan de i allmänhet så föga inverka på Utskottets behandling af frågan, och jag vidhåller ännu denna åsigt och skulle icke hafva öfverträdt den, om icke motionären sjelf genom sina yttranden dertill gifvit särskild anledning, hvarföre det torde 158 Den 30 Januari. tillåtas mig att mot de af hans uttalade grundsatser, som jag icke kan gilla, framställa några anmärkningar. Motionen sjelf förråder tydligen, att den utgör en del af den strid, som i våra dagar pågår emellan materialismen och anden. Att denna uppfattning är rigtig bevisas af den hufvudsakliga utgångspunkt motionären valt för framställande af sitt förslag, nemligen den rent -materiela, och vinna styrka af det biträde motionären erhållit af en värd talare från Stockholmsbänken. Stridssättet är icke illa valdt. Att beräkna det dagsverksantal, som skulle vinnas genom helgedagarnes förvandlande till arbetsdagar och valvera detta i kontanta penningar efter ortens pris, gifver åtminstone ett åskådligt och slående resultat, ty siffrornas vältalighet är oemotståndlig. Det vill: nästan synas, som vore denna penningevinst icke blott motionens hufvudsakliga utgångspunkt utan ock dess yttersta mål. Konseqvensen, då man är inne på den banan, synes mig fordra, att man går längre och yrkar äfven Söndagarnes förvandlande till arbetsdagar. Summan af både dagsverken och penningebeloppet skulle derigenom betydligt tillvexa. Jag vågar dock hemställa till hvar och en, om detta är rätta sättet att uppfatta frågor af denna art. Jag kan åtminstone icke godkänna det. Vill man ställa sig på den rent materiela ståndpunkten och hufvudsakligen tala om förlorade arbetskrafter, hvarföre då icke vända sitt nit mot de s. k. frimåndagarne? Det är en känd sak, att, särdeles i de större städerna, verkstadsoch kontorsarbetet om Söndagarne drifves ganska oförtäckt och sedan man trälat bort hela eller större delen af Söndagen tar man sin skada igen genom s. k. frimåndag. Hvarföre tar man icke vara på denna dag? Hvarföre räknar man icke huru många dagsverken, som derigenom förspillas och evalverar dessa i penningevärde? Hvarföre åberopar man icke härvid det af motionären anförda bibelspråket: fåfäng gå, lärer mycket ondt? Här synes mig vara ett rikt fält för menniskovännen att bearbeta. Men frågan har, Mine Herrar! ännu en sida en sida hvars resultater icke låta taxera sig i penningevärde, och det är denna som är mig dyr och kär. Man kan på ett ungefär beräkna de arbetsdagsverken, som bortspillas genom helgedagarne; men kan man också i penningar uppskatta den välsignelse, som tillflödat vårt Svenska folk genom dessa dagars användande för det med dem afsedda ändamål? Glömmom icke att taga med i räkningen de tusende och åter tusende bland vårt fattiga Svenska folk, hvilka genom ett rätt användande af Sönoch helgedagarne samlat krafter och mod att bära hvardagslifvets vedermödor och besvär! glömmom ej att uppskatta den moraliska kraft, som genom hörandet och betraktandet af de heliga bibelsanningarne, så väl vid den offentliga gudstjensten som i de husliga andaktsstunderna, tillströmma dem, som förstå att rätt begagna dessa nådestillfällen! Detta är saker, som ej kunna beräknas i siffror, men de äro lika verkliga ändå. Må vara att många, allt för många använda dessa dagar illa och på ett sätt, som är fjerran skiljdt från dessa dagars ursprungliga ändamål, men många använda dem dock väl, och det är för dessas skull vi böra taga oss till vara att icke genom obetänksam lagstiftning stöta för hufvudet den folkmängd, som lärt sig att värdera dessa Den 30 Januari. 159 helgedagar och som säkerligen icke sköta sina jordiska göromål sämre än de som förakta både helgedagar och söndagar. Vi hafva nyss hört en röst från det gamla Dalom. Kammarens yngste medlem har framburit en helsning från det folk, som mer än något annat inom vårt land gjort sig kändt för redlighet och flit. Jag fattar denna helsning såsom en bön från nationens djup, från den klass af Svenska folket, som jag ville kalla nationens kärna, från dem, som veta att uppskatta gudstjensttillfällena efter annan måttstock än penningens, och jag tror, att den förtjenar att påaktas. En besynnerlig inkonseqvens i motionärens förslag kan jag icke underlåta att anmärka. Han vill hafva Midsommardagen till en fridag, men utan gudstjenst. Jag vore nästan frestad instämma med representanten från Dalarne, att motionären synes blott vilja hafva den kyrkliga gudstjensten undanröjd, utan att i öfrigt fråga efter huru dagen användes. Jag hade ej väntat att från motionärens ståndpunkt höra en sådan ömhet för presterna, hvilka efter mitt förmenande äro i allmänhet så väl aflönade, att de gerna kunna predika å dertill bestämda dagar, på det de, som föredraga detta nöje på Midsommardagen, må kunna få gå i kyrkan, om tid och lust så medgifva. Slutligen får jag medgifva hvad jag väl från början kanske bort hafva gjort, att jag ingalunda tilltror mig försvara de ifrågavarande helgedagarne från biblisk synpunkt, deri erkänner jag motionären hafva rätt; men märkom väl: de hafva århundradens häfd för sig bland vårt folk, jag är viss att de medföra sann glädje och välsignelse der de rätteligen brukas, och om de än missbrukas af många, så är det en gammal god regel, att missbruket icke upphäfver det rätta bruket och det är på grund häraf jag vågar bedja Riksdagen besinna sig två gånger, innan den fråntager vårt Svenska folk något som blifvit det så dyrt och kärt, som de älskade jul-, påskoch pingsthögtiderna. Flere af Kammarens ledamöter hördes med Herr Rosenberg instämma. Herr Otterström: Under sistlidne och vid flere föregående riksdagar hade det nog varit möjligt att genomdrifva antagandet af en dylik motion, som den nu föredragna, genom de tre lekmannaståndens eniga beslut gent emot Preste-Ståndets protest och beklagande, men nu, då vi mer än väl veta att Riksdagen icke har rätt och befogenhet att ensam lagstifta i denna fråga, hvilken för den oförmodade händelse motionen äfven här skulle vinna någon framgång, ändock måste hänskjutas till ett blifvande Kyrkomöte, så tror jag att vi väl böra betänka oss innan vi fatta beslut i förevarande ärende. Derföre anhåller jag ock, att de ledamöter af Riksdagen, som inom vederbörligt Utskott komma att handlägga denna fråga, måtte dervid gå till råds ej allenast med sin egen känsla och uppfattning af frågans vigt, utan ätven kasta en blick på djupet bland den stora massan af folket och rådfråga dess känsla och åsigt om ärendets betydelse, då jag är förvissad derom att en hvar, vid noggrannt eftersinnande, skall skygga tillbaka att godkänna ett förslag, som i sig innebär frö till oro och bekymmer, och som kan medföra följder af ganska betänkligt slag. 160 Den 30 Januari, Herr Hedlund: Jag har ytterligare begärt ordet allenast för att besvara en talare, hvilken velat tyda min motion derhän, som skulle densamma föra materialismens talan emot anden. Vid närmare eftersinnande hoppas jag dock att man skall finna förhållandet vara alldeles motsatt; ty, utgående från den synpunkten att sysslolösheten just i sig innefattar materialism, har jag i min motion sökt framhålla arbetets ära gent emot sysslolösheten och just derigenom fört andens talan emot materialismen. Här är icke fråga om något tvång! Vilja presterne hålla gudstjenst de ifrågavarande helgedagarne eller till och med alla dagar i veckan, såsom tillgår i åtskilliga andra länder, så gerna för mig; men icke må man derföre betaga oss andra, som vilja arbeta, rättighet att på ifrågavarande dagar utöfva en gagnelig verksamhet. Redan den store reformatorn Martin Luther ansåg lämpligt indraga en mängd helgedagar, och böra derföre vi, som äro ett protestantiskt folk, fortgå på samma väg och, i likhet med hvad redan förut skett inom vårt land, indraga de ännu återstående helgedagar, som må anses obehöfliga, så mycket mer som de icke finnas i något annat protestantiskt land. Herr Kolmodin: Det. har af motionären blifvit antydt, hurusom de många katholska helgedagarna skulle hafva förorsakat katholska kyrkans förfall! För min del tror jag dock icke att så är förhållandet, utan anser att de falska lärosatser, som på de många helgedagarne förkunnades för folket, varit egentliga orsaken dertill att Kristendomen höll på att gå under. Martin Luther afskatfade visserligen en mängd helgedagar, som voro inrättade till firande af helgonens minne, men jag vill erinra derom, att icke någon af de helgedagar, som nu hos oss firas, blifvit för sådant ändamål instiktad. Inkonseqvensen uti motionärens förslag att bibehålla firandet af Midsommardagen såsom en högtidsdag, dock utan kyrklig gudstjenst, ligger i så öppen dag, att vidare ordande derom icke torde vara af nöden; men då motionären i öfrigt gjort sig känd såsom en man med stora vyer och af sträng konseqvens torde möjligen hans afsigt vara att, likasom han redan föreslagit att använda de ifrågavarande helgedagarne till exercis och vapenöfningar, ställa Midsommardagens firande i samband med det af honom framställda förslaget till reform af allmänna undervisningen, och skall väl denna dag alltså högtidlighållas genom anställande af olympiska spel, der den Svenska ungdomen kunde i gymnastiska lekar och manliga idrotter täfla om segrens pris. Slutligen anser jag mig böra hembära representanten från Stockholm min tacksamhet för hans hofsamhet att icke yrka tramflyttandet af Långfredagen till påföljande Söndag. Söndagarne äro i mångens tycke allaredan särdeles långa, så att man ej bör till begreppsförvirringens ökande på någon af dem öfverflytta Långfredagen och derigenom åt denna särskildt förskaffa benämningen \"Långsöndag”. Herr Johan Erik Johansson: Jag instämmer såväl 1 Olof Larssons protest emot bifall till motionen, som uti de'af Herrar Rosenberg och Otterström afgifna yttranden, samt önskar att vi allt framgent må få bibehålla de nuvarande sönoch helgedagarnes antal. Man bör lätteligen finna Den 30 Januari, 161 finna, att det är så mycket mera olämpligt att till en Söndag framflytta Trettondedagen, som just derigenom skulle bortfalla anledningen till denna helgedags benämning. Herr Rosenberg: Oaktadt en viss otålighet förmärkes inom Kammaren öfver diskussionens långvarighet, kan jag dock icke underlåta att bemöta ett par yttranden, som motionären, då han sista gången hade ordet, lät undfalla sig. Han påstår sig nemligen icke föra materialismens strid emot anden, utan just andens strid mot materialismen. Härtill vill jag blott svara, att andens segrar uppskattas icke i dagsverken och penningevärde. Vidare påstår han sig hafva framlagt motionen i frihetens intresse. Jag vill dervid blott fråga: kallas det frihet att vilja tvinga hela vår arbetande befolkning från kyrkan till hvardagsarbetet på dagar, som det från barndomen vant sig att anse såsom heliga? Man tror sig dermed gifva folket en moralisk lyftning, att man stänger kyrkdörrarne för det, befaller det arbeta på helgedagarne och öfva skarpskytte-exercis på sönoch högtidsdagar och man kallar det frihet. Jag vågar deremot tro, att man just på den vägen, utan hvila, utan sabbatsro, utan något af folklifvets. sanna poesi, skall förslöa, förslafva, ja jag vågar säga: förfäa vårt uppvexande slägte. Skall sådant kallas frihet? Ännu vågar jag anföra ett skäl för helgedagarnes bibehållande. Som vi alla känna är för närvarande prestbristen i vårt land ganska stor och hotar att blifva ännu större. I många kyrkor på landet hålles blott gudstjenst hvarannan predikodag och med helgedagarnes indragande skulle många församlingar blifva alldeles i saknad af predikan och offentlig gudstjenst vid våra stora högtider. Nu kan åtminstone i den ena kyrkan predikas på Söndagen och i den andra på annandagen och man slipper således fira jul, påsk och pingst alldeles utan gudstjenst. Herr Medin: För att icke onödigtvis utspinna diskussionen får jag gifva tillkänna att jag hufvudsakligen instämmer med Herr Rosenberg. Jag hyser visserligen icke någon synnerlig farhåga att motionen skall vinna framgång, men, om olyckligtvis så skulle ske, kommer detta sannerligen icke att väl upptagas af Svenska folket. Herr Hedengren: För min del får jag tillstå att jag känner mig sorgligt berörd af detta ämne. Sedan numera alla de helgedagar, som möjligen kunnat anses öfverflödiga, äro afskaffade, så återstå säkert icke andra än de, som äro vundgängligen nödiga. Om det är kärt för den enskilde att i minnet återkalla älskade anhöriges födelseoch andra högtidsdagar; huru mycket dyrbarare bör det då icke vara för ett kristet folk att återupplifva minnet af vår Herres och Frälsares födelsedag äfvensom hans döds-, uppståndelsesoch himmelsfärdsdag vid de tidpunkter at året, då dessa stora och högvigtiga tilldragelser timat! Det skulle säkert blifva djupt sårande för vårt Svenska folks religiösa känsla att förnimma, det den första folkvalda Riksdagen bifallit ett sådant förslag som det förevarande. Om ock så skulle vara, att dessa helgedagar icke äro i Guds ord bestämdt föreskrifna, om än auktoriserade af Gamla Riksd, Prot. 1867. 2 Afd. 11 162 Den 80 Januari. Testamentets lagligen instiftade stora högtider, så må det likväl stå folket öppet att fira minnet af de dagar, då de händelser timat, hvarigenom de största välgerningar tillskyndats menskligheten. Om äfven detta icke kan anföras till försvar för annandagarne, så kunna de likväl vara af stor nytta, ty derigenom beredes tillfälle för husets tjenare och de medlemmar af familjen, som möjligen kunnat vara förhindrade att bevista gudstjensten sjelfva helgedagen, att i stället annandagen begå denna högtid. Jag hoppas dock att motionen icke vinner bifall inom Utskottet, men, om så illa skulle inträffa, förbehåller jag mig att framdeles, då frågans ånyo förekommer, få vidare yttra mig i ämnet. Emellertid vill jag redan nu lägga Lag-Utskottets ledamöter på hjertat, att de afstyrka motionen, ty om det blir kändt i landet att vi här afskaffat dessa helgedagar, så blifva vi i sanning icke särdeles välkomna i vår hemort, då vi från riksdagen dit återvända. Herr And. Gudmundsson: Sällan plägar jag yttra mig öfver en motion innan densamma pröfvats i Utskott, ty jag anser att man till dess bör vänta att fälla sitt omdöme, men då förevarande fråga är af så stor vigt att densamma, efter all sannolikhet, kommer att öfverallt i landet göra ett visst intryck, har jag ansett mig böra uppträda till försvar för sabbathens helgå. Man har här förespeglat oss den stora ekonomiska vinst för landet, som genom åtskilliga helgedagars afskaffande skulle åstadkommas, och vill jag visst icke förneka, att ju både det allmänna och den enskilde deraf skulle kunna skörda ekonomisk fördel, men hvartill gagnar det väl att förvärfva sig aldrig så stora jordiska egodelar, om man under tiden tager skada till sin själ. Herr Magnus Svensson: Jag instämmer med alla dem, som yrkat afslag å motionen, viss derom att den skall väcka allmänt ogillande ilandet, helst den står i strid såväl med folkets föreställningssätt, som grunden i vår Svenska lagstiftning. Herr Friherre Alströmer: Den diskussion, som rörande denna fråga inom Kammaren utspunnit sig, visar tydligen att motionen är för tidigt väckt, men å andra sidan framgår deraf äfven att man om densamma gjort sig en origtig uppfattning, ty onekligen ligga rena och kristliga afsigter till grund för densamma. Emellertid visa de afgifna yttrandena temligen klart, att motionen icke vinner framgång denna riksdag. Herr Olof Nilsson: Jag vill endast gifva tillkänna, det jag icke vill vara med om afskaffande af några helgedagar, hvarföre jag, som i öfrigt instämmer i Herr Rosenbergs yttranden, hoppas och önskar att motionen icke måtte vinna någon framgång mom Utskottet. Efter sålunda slutad öfverläggning blef Herr Hedlunds motion, N:o 141, med de yttranden, som öfver densamma afgifvits, till Lag-Utskottet hänvisad. Kammaren afslutade sammanträdet kl. '/;3 e. m. In fidem H. Husberg.\n"
     ]
    }
   ],
   "source": [
    "print(df.iloc[0][\"texte\"])"
   ]
  },
  {
   "cell_type": "code",
   "execution_count": 19,
   "metadata": {},
   "outputs": [],
   "source": [
    "df.to_pickle(\"swerick_data_long.pkl\")"
   ]
  },
  {
   "cell_type": "code",
   "execution_count": 21,
   "metadata": {},
   "outputs": [
    {
     "data": {
      "application/vnd.jupyter.widget-view+json": {
       "model_id": "45ddaac0b4e94c489e42a3392a2fa6dc",
       "version_major": 2,
       "version_minor": 0
      },
      "text/plain": [
       "Generating train split: 0 examples [00:00, ? examples/s]"
      ]
     },
     "metadata": {},
     "output_type": "display_data"
    }
   ],
   "source": [
    "from datasets import load_dataset\n",
    "swerick_dataset = load_dataset(\"pandas\",data_files=\"swerick_data.pkl\")"
   ]
  },
  {
   "cell_type": "code",
   "execution_count": 22,
   "metadata": {},
   "outputs": [
    {
     "name": "stdout",
     "output_type": "stream",
     "text": [
      "DatasetDict({\n",
      "    train: Dataset({\n",
      "        features: ['protocole', 'texte'],\n",
      "        num_rows: 130\n",
      "    })\n",
      "})\n"
     ]
    }
   ],
   "source": [
    "print(swerick_dataset)"
   ]
  },
  {
   "cell_type": "code",
   "execution_count": 20,
   "metadata": {},
   "outputs": [],
   "source": [
    "def train_test_valid(df):\n",
    "    df_train=pd.DataFrame()\n",
    "    df_test=pd.DataFrame(\n",
    "    )\n",
    "    df_valid=pd.DataFrame()\n",
    "\n",
    "    for s in df[\"protocole\"].unique():\n",
    "        subset_df = df[df[\"protocole\"] == s]\n",
    "        h=hash(s)\n",
    "        h_adjusted = h % (2**32 - 1)\n",
    "        np.random.seed(h_adjusted)\n",
    "        r = np.random.rand()\n",
    "        if r <= 0.7 :\n",
    "            df_train = pd.concat([df_train, subset_df], ignore_index=True)\n",
    "        elif r <=0.85:\n",
    "            df_test = pd.concat([df_test, subset_df], ignore_index=True)\n",
    "        else:\n",
    "            df_valid = pd.concat([df_valid, subset_df], ignore_index=True)\n",
    "    return df_train,df_test,df_valid\n",
    "\n",
    "\n"
   ]
  },
  {
   "cell_type": "code",
   "execution_count": 21,
   "metadata": {},
   "outputs": [],
   "source": [
    "df_train,df_test,df_valid=train_test_valid(df)"
   ]
  },
  {
   "cell_type": "code",
   "execution_count": 22,
   "metadata": {},
   "outputs": [
    {
     "name": "stdout",
     "output_type": "stream",
     "text": [
      "                              protocole  \\\n",
      "0     data/1867/prot-1867--ak--0118.xml   \n",
      "1     data/1867/prot-1867--ak--0121.xml   \n",
      "2     data/1867/prot-1867--ak--0123.xml   \n",
      "3     data/1867/prot-1867--ak--0129.xml   \n",
      "4     data/1867/prot-1867--ak--0130.xml   \n",
      "...                                 ...   \n",
      "2678   data/202122/prot-202122--104.xml   \n",
      "2679   data/202122/prot-202122--106.xml   \n",
      "2680   data/202122/prot-202122--133.xml   \n",
      "2681   data/202122/prot-202122--137.xml   \n",
      "2682   data/202122/prot-202122--141.xml   \n",
      "\n",
      "                                                  texte  \n",
      "0     Sedan, i kraft af Rikets Regeringsform, lagtim...  \n",
      "1     Den 21 Januari. 25 mande af tiden för dessa va...  \n",
      "2     Den 23 Januari. - 55 Onsdagen den 23 Januari. ...  \n",
      "3     120 Den 29 Januari, f. m. På Herr Talmannens f...  \n",
      "4     Den 30 Januari, 139 Onsdagen den 30 Januari. K...  \n",
      "...                                                 ...  \n",
      "2678  § 1 Justering av protokoll Protokollet för den...  \n",
      "2679  § 1 Meddelande om frågestund Tredje vice talma...  \n",
      "2680  § 1 Anmälan om kompletteringsval T almannen me...  \n",
      "2681  § 1 Justering av protokoll Protokollen för den...  \n",
      "2682  § 1 Anmälan om återtagande av plats i riksdage...  \n",
      "\n",
      "[2683 rows x 2 columns]\n"
     ]
    }
   ],
   "source": [
    "print(df_test)"
   ]
  },
  {
   "cell_type": "code",
   "execution_count": 23,
   "metadata": {},
   "outputs": [
    {
     "name": "stdout",
     "output_type": "stream",
     "text": [
      "                              protocole  \\\n",
      "0     data/1867/prot-1867--ak--0202.xml   \n",
      "1     data/1867/prot-1867--ak--0213.xml   \n",
      "2     data/1867/prot-1867--ak--0216.xml   \n",
      "3     data/1867/prot-1867--ak--0316.xml   \n",
      "4     data/1867/prot-1867--ak--0318.xml   \n",
      "...                                 ...   \n",
      "2635   data/202122/prot-202122--103.xml   \n",
      "2636   data/202122/prot-202122--117.xml   \n",
      "2637   data/202122/prot-202122--120.xml   \n",
      "2638   data/202122/prot-202122--130.xml   \n",
      "2639   data/202122/prot-202122--138.xml   \n",
      "\n",
      "                                                  texte  \n",
      "0     210 Den 2 Februari. Lördagen den 2 Februari. K...  \n",
      "1     230 Den 13 Februari. Onsdagen den 13 Februari,...  \n",
      "2     Den 16 Februari, f. m. 239 Lördagen den 16 Feb...  \n",
      "3     236 Den 16 Mars, f. m. > Lördagen den 16 Mars....  \n",
      "4     Den 18 Mars, 2938 Bevillnings-Utskottets Betän...  \n",
      "...                                                 ...  \n",
      "2635  § 1 Justering av protokoll Protokollet för den...  \n",
      "2636  § 1 Justering av protokoll Protokollet för den...  \n",
      "2637  § 1 Justering av protokoll Protokollen för den...  \n",
      "2638  § 1 Avsägelse Andre vice talmannen meddelade a...  \n",
      "2639  § 1 Justering av protokoll Protokollet för den...  \n",
      "\n",
      "[2640 rows x 2 columns]\n"
     ]
    }
   ],
   "source": [
    "print(df_valid)"
   ]
  },
  {
   "cell_type": "code",
   "execution_count": 24,
   "metadata": {},
   "outputs": [
    {
     "name": "stdout",
     "output_type": "stream",
     "text": [
      "                               protocole  \\\n",
      "0      data/1867/prot-1867--ak--0119.xml   \n",
      "1      data/1867/prot-1867--ak--0122.xml   \n",
      "2      data/1867/prot-1867--ak--0124.xml   \n",
      "3      data/1867/prot-1867--ak--0125.xml   \n",
      "4      data/1867/prot-1867--ak--0126.xml   \n",
      "...                                  ...   \n",
      "12314   data/202122/prot-202122--135.xml   \n",
      "12315   data/202122/prot-202122--136.xml   \n",
      "12316   data/202122/prot-202122--139.xml   \n",
      "12317   data/202122/prot-202122--140.xml   \n",
      "12318   data/202122/prot-202122--142.xml   \n",
      "\n",
      "                                                   texte  \n",
      "0      24 Den 19 Januari. Lördagen den 19 Januari, KL...  \n",
      "1      Den 22 Januari. 41 Tisdagen den 22 Januari. Kl...  \n",
      "2      60 Den 24 Januari, f. m, Thorsdagen den 24 Jan...  \n",
      "3      66 Den 25 Januari. N:o 12, med delgifvande af ...  \n",
      "4      68 Den 26 Januari. Lördagen den 26 Januari. Kl...  \n",
      "...                                                  ...  \n",
      "12314  § 1 Justering av protokoll Protokollet för den...  \n",
      "12315  § 1 Justering av protokoll Protokollet för den...  \n",
      "12316  § 1 Justering av protokoll Protokollet för den...  \n",
      "12317  § 1 Justering av protokoll Protokollen för den...  \n",
      "12318  § 1 Anmälan om subsidiaritetsprövningar Talman...  \n",
      "\n",
      "[12319 rows x 2 columns]\n"
     ]
    }
   ],
   "source": [
    "print(df_train)\n",
    "\n"
   ]
  },
  {
   "cell_type": "code",
   "execution_count": 25,
   "metadata": {},
   "outputs": [],
   "source": [
    "#df_train,df_test = train_test_split(df,test_size=0.2,random_state=42)\n",
    "df_train.to_pickle(\"swerick_data_random_train.pkl\")\n",
    "df_test.to_pickle(\"swerick_data_random_test.pkl\")\n",
    "df_test.to_pickle(\"swerick_data_random_valid.pkl\")"
   ]
  },
  {
   "cell_type": "code",
   "execution_count": 13,
   "metadata": {},
   "outputs": [
    {
     "name": "stdout",
     "output_type": "stream",
     "text": [
      "DatasetDict({\n",
      "    train: Dataset({\n",
      "        features: ['protocole', 'texte', '__index_level_0__'],\n",
      "        num_rows: 104\n",
      "    })\n",
      "    test: Dataset({\n",
      "        features: ['protocole', 'texte', '__index_level_0__'],\n",
      "        num_rows: 26\n",
      "    })\n",
      "})\n"
     ]
    }
   ],
   "source": [
    "#datasest\n",
    "data_files = {\"train\": \"swerick_data_train.pkl\", \"test\": \"swerick_data_test.pkl\"}\n",
    "swerick_dataset = load_dataset(\"pandas\",data_files=data_files)\n",
    "print(swerick_dataset)\n"
   ]
  },
  {
   "cell_type": "code",
   "execution_count": 5,
   "metadata": {},
   "outputs": [
    {
     "data": {
      "text/plain": [
       "'data/1867/prot-1867--ak--0202.xml'"
      ]
     },
     "execution_count": 5,
     "metadata": {},
     "output_type": "execute_result"
    }
   ],
   "source": [
    "protocol_in_question"
   ]
  },
  {
   "cell_type": "code",
   "execution_count": 22,
   "metadata": {},
   "outputs": [
    {
     "name": "stdout",
     "output_type": "stream",
     "text": [
      "                                                      Note  Intro\n",
      "0        Sedan, i kraft af Rikets Regeringsform, lagtim...  False\n",
      "1           Fredagen den 18 Januari 1867, kl. '/, 11 f. m.  False\n",
      "2        Riksdagens Andra Kammare uti den för dess samm...  False\n",
      "3                                             Mine Herrar!  False\n",
      "4        Enligt 33 8 i Riksdags-ordningen skall, innan ...  False\n",
      "...                                                    ...    ...\n",
      "7027171  § 7 Bordläggning och beslut om förlängd motion...  False\n",
      "7027172          § 8 Anmälan om frågor för skriftliga svar  False\n",
      "7027173           § 9 Anmälan om skriftliga svar på frågor  False\n",
      "7027174  § 10 Anmälan om uteblivna svar på skriftliga f...  False\n",
      "7027175                 § 11 Kammaren åtskildes kl. 11.40.  False\n",
      "\n",
      "[7027176 rows x 2 columns]\n"
     ]
    }
   ],
   "source": [
    "\n",
    "\n",
    "\n",
    "notes=[]\n",
    "intros=[]\n",
    "\n",
    "for i in range(len(protocols)):\n",
    "    protocol_in_question = protocols[i]\n",
    "    with open(protocol_in_question,\"r\") as f:\n",
    "        xml_content=f.read()\n",
    "    soup=BeautifulSoup(xml_content,\"xml\")\n",
    "    note_elements=soup.find_all(\"note\")\n",
    "\n",
    "    for note in note_elements:\n",
    "        note_text=note.text.strip()\n",
    "        notes.append(note_text)\n",
    "\n",
    "        next_element=note.get(\"type\")\n",
    "        if next_element == \"speaker\" :\n",
    "            intros.append(True)\n",
    "        else :\n",
    "            intros.append(False)\n",
    " \n",
    "df=pd.DataFrame({\"Note\" :notes, \"Intro\":intros})\n",
    "\n",
    "print(df)"
   ]
  },
  {
   "cell_type": "code",
   "execution_count": 23,
   "metadata": {},
   "outputs": [],
   "source": [
    "df_train_intro,df_test_intro = train_test_split(df,test_size=0.2,random_state=42)\n",
    "df_train_intro.to_pickle(\"swerick_data_intro_train.pkl\")\n",
    "df_test_intro.to_pickle(\"swerick_data_intro_test.pkl\")"
   ]
  },
  {
   "cell_type": "code",
   "execution_count": 20,
   "metadata": {},
   "outputs": [
    {
     "name": "stdout",
     "output_type": "stream",
     "text": [
      "                      person_id       start   end  \\\n",
      "0      i-PFAPNmRqeUAaxDzNRTG1x1        1867  1867   \n",
      "1      i-QSYHiJ6G54WwZYYDpVnD4u        1867  1867   \n",
      "2      i-Ddmtm1uG9esPH37c8XjUXZ        1867  1867   \n",
      "3      i-65rmwEXkkhA1kxSrD4oMUw        1867  1867   \n",
      "4      i-AvGpsGJvs5PXTcEG4DtbFt        1867  1867   \n",
      "...                         ...         ...   ...   \n",
      "13206  i-DhFtpnk9dqFrTXA2tvjJnb  2024-01-30   NaN   \n",
      "13207  i-9rzEiT5qs2rumTNiqr6kVD  2024-01-31   NaN   \n",
      "13208  i-Swns2VJiq8mNPgw8cBRfJ9  2024-02-12   NaN   \n",
      "13209   i-x1CuoKmRHYgQr9i2kh3B5         NaN   NaN   \n",
      "13210  i-TUyWWYGDFXW92GhiG3CLwF         NaN   NaN   \n",
      "\n",
      "                                    district                 role  \n",
      "0          Eskilstuna och Strängnäs valkrets   andrakammarledamot  \n",
      "1      Västra Götalands läns västra valkrets  förstakammarledamot  \n",
      "2                      Torna härads valkrets   andrakammarledamot  \n",
      "3                    Värmlands läns valkrets  förstakammarledamot  \n",
      "4                Kristianstads läns valkrets  förstakammarledamot  \n",
      "...                                      ...                  ...  \n",
      "13206  Västra Götalands läns västra valkrets              ledamot  \n",
      "13207                 Malmö kommuns valkrets              ledamot  \n",
      "13208                 Malmö kommuns valkrets              ledamot  \n",
      "13209                                    NaN              ledamot  \n",
      "13210                                    NaN              ledamot  \n",
      "\n",
      "[13211 rows x 5 columns]\n",
      "                      person_id       start   end  \\\n",
      "0      i-PFAPNmRqeUAaxDzNRTG1x1        1867  1867   \n",
      "1      i-QSYHiJ6G54WwZYYDpVnD4u        1867  1867   \n",
      "2      i-Ddmtm1uG9esPH37c8XjUXZ        1867  1867   \n",
      "3      i-65rmwEXkkhA1kxSrD4oMUw        1867  1867   \n",
      "4      i-AvGpsGJvs5PXTcEG4DtbFt        1867  1867   \n",
      "...                         ...         ...   ...   \n",
      "13206  i-DhFtpnk9dqFrTXA2tvjJnb  2024-01-30   NaN   \n",
      "13207  i-9rzEiT5qs2rumTNiqr6kVD  2024-01-31   NaN   \n",
      "13208  i-Swns2VJiq8mNPgw8cBRfJ9  2024-02-12   NaN   \n",
      "13209   i-x1CuoKmRHYgQr9i2kh3B5         NaN   NaN   \n",
      "13210  i-TUyWWYGDFXW92GhiG3CLwF         NaN   NaN   \n",
      "\n",
      "                                    district                 role  \\\n",
      "0          Eskilstuna och Strängnäs valkrets   andrakammarledamot   \n",
      "1      Västra Götalands läns västra valkrets  förstakammarledamot   \n",
      "2                      Torna härads valkrets   andrakammarledamot   \n",
      "3                    Värmlands läns valkrets  förstakammarledamot   \n",
      "4                Kristianstads läns valkrets  förstakammarledamot   \n",
      "...                                      ...                  ...   \n",
      "13206  Västra Götalands läns västra valkrets              ledamot   \n",
      "13207                 Malmö kommuns valkrets              ledamot   \n",
      "13208                 Malmö kommuns valkrets              ledamot   \n",
      "13209                                    NaN              ledamot   \n",
      "13210                                    NaN              ledamot   \n",
      "\n",
      "                       party  \n",
      "0                        NaN  \n",
      "1                        NaN  \n",
      "2      ministeriella partiet  \n",
      "3                        NaN  \n",
      "4                        NaN  \n",
      "...                      ...  \n",
      "13206                    NaN  \n",
      "13207                    NaN  \n",
      "13208                    NaN  \n",
      "13209                    NaN  \n",
      "13210                    NaN  \n",
      "\n",
      "[13211 rows x 6 columns]\n",
      "                      person_id       start         end  \\\n",
      "2      i-Ddmtm1uG9esPH37c8XjUXZ        1867        1867   \n",
      "30      i-txhZTbUuKZkkaU5vYzZgH        1867        1868   \n",
      "74     i-6crgYxGFmn73aep9gWDLzZ        1867        1869   \n",
      "80     i-YFzzFKh2NjM54cFjad2qWQ        1867        1869   \n",
      "92     i-6P9WGen454XYD7xwVEV6JX        1867        1869   \n",
      "...                         ...         ...         ...   \n",
      "12848  i-DF6yJMSNGfT6HwisDSi4qz  2023-05-13  2024-01-26   \n",
      "12849  i-3kfmGYErmuJ81cgi8Cwy88  2022-09-26  2024-01-29   \n",
      "12850  i-AvpuCBNCdN7LHjCsU7ixe5  2023-11-27  2024-01-30   \n",
      "12851  i-Swns2VJiq8mNPgw8cBRfJ9  2022-09-26  2024-02-11   \n",
      "12852  i-DuMkbdojgoQN2GPx9cnpUs  2023-04-01  2024-09-24   \n",
      "\n",
      "                                    district                role  \\\n",
      "2                      Torna härads valkrets  andrakammarledamot   \n",
      "30                                       NaN  andrakammarledamot   \n",
      "74             Ovansiljans domsagas valkrets  andrakammarledamot   \n",
      "80                  Göteborgs stads valkrets  andrakammarledamot   \n",
      "92         Jämtlands norra domsagas valkrets  andrakammarledamot   \n",
      "...                                      ...                 ...   \n",
      "12848                 Blekinge läns valkrets             ledamot   \n",
      "12849  Västra Götalands läns västra valkrets             ledamot   \n",
      "12850                 Malmö kommuns valkrets             ledamot   \n",
      "12851                 Malmö kommuns valkrets             ledamot   \n",
      "12852            Västerbottens läns valkrets             ledamot   \n",
      "\n",
      "                       party  \n",
      "2      ministeriella partiet  \n",
      "30     ministeriella partiet  \n",
      "74     ministeriella partiet  \n",
      "80     ministeriella partiet  \n",
      "92     ministeriella partiet  \n",
      "...                      ...  \n",
      "12848    Sverigedemokraterna  \n",
      "12849     Socialdemokraterna  \n",
      "12850     Socialdemokraterna  \n",
      "12851     Socialdemokraterna  \n",
      "12852     Socialdemokraterna  \n",
      "\n",
      "[7979 rows x 6 columns]\n",
      "                      person_id      start        end  \\\n",
      "28255  i-122QwSSpyGJQiTJjmrUJCM 1992-03-17 1992-05-31   \n",
      "28256  i-122QwSSpyGJQiTJjmrUJCM 1992-03-17 1992-05-31   \n",
      "28332  i-122QwSSpyGJQiTJjmrUJCM 1992-11-26 1992-12-31   \n",
      "28333  i-122QwSSpyGJQiTJjmrUJCM 1992-11-26 1992-12-31   \n",
      "28345  i-122QwSSpyGJQiTJjmrUJCM 1993-01-11 1993-01-25   \n",
      "...                         ...        ...        ...   \n",
      "26615   i-zC3ZtMw7pF7WxkXwbLkKZ 1986-01-10 1988-10-03   \n",
      "26911   i-zC3ZtMw7pF7WxkXwbLkKZ 1988-10-03 1989-01-10   \n",
      "26912   i-zC3ZtMw7pF7WxkXwbLkKZ 1988-10-03 1989-01-10   \n",
      "26913   i-zC3ZtMw7pF7WxkXwbLkKZ 1988-10-03 1989-01-10   \n",
      "26914   i-zC3ZtMw7pF7WxkXwbLkKZ 1988-10-03 1989-01-10   \n",
      "\n",
      "                       district     role               party  \\\n",
      "28255                       NaN  ledamot  Socialdemokraterna   \n",
      "28256                       NaN  ledamot  Socialdemokraterna   \n",
      "28332                       NaN  ledamot  Socialdemokraterna   \n",
      "28333                       NaN  ledamot  Socialdemokraterna   \n",
      "28345                       NaN  ledamot  Socialdemokraterna   \n",
      "...                         ...      ...                 ...   \n",
      "26615                       NaN  ledamot         Moderaterna   \n",
      "26911  Stockholms läns valkrets  ledamot         Moderaterna   \n",
      "26912  Stockholms läns valkrets  ledamot         Moderaterna   \n",
      "26913  Stockholms läns valkrets  ledamot         Moderaterna   \n",
      "26914  Stockholms läns valkrets  ledamot         Moderaterna   \n",
      "\n",
      "                     source chamber government        born dead gender  \\\n",
      "28255  member_of_parliament       0        NaN  1952-09-22  NaN    man   \n",
      "28256  member_of_parliament       0        NaN  1952-09-22  NaN    man   \n",
      "28332  member_of_parliament       0        NaN  1952-09-22  NaN    man   \n",
      "28333  member_of_parliament       0        NaN  1952-09-22  NaN    man   \n",
      "28345  member_of_parliament       0        NaN  1952-09-22  NaN    man   \n",
      "...                     ...     ...        ...         ...  ...    ...   \n",
      "26615  member_of_parliament       0        NaN  1943-10-19  NaN  woman   \n",
      "26911  member_of_parliament       0        NaN  1943-10-19  NaN  woman   \n",
      "26912  member_of_parliament       0        NaN  1943-10-19  NaN  woman   \n",
      "26913  member_of_parliament       0        NaN  1943-10-19  NaN  woman   \n",
      "26914  member_of_parliament       0        NaN  1943-10-19  NaN  woman   \n",
      "\n",
      "        riksdagen_id    location                      name primary_name  \\\n",
      "28255  0573136138218   Västervik         krister örnfjäder         True   \n",
      "28256  0573136138218   Västervik                 örnfjäder        False   \n",
      "28332  0573136138218   Västervik         krister örnfjäder         True   \n",
      "28333  0573136138218   Västervik                 örnfjäder        False   \n",
      "28345  0573136138218   Västervik         krister örnfjäder         True   \n",
      "...              ...         ...                       ...          ...   \n",
      "26615  0233182252702  Åkersberga                 sundström        False   \n",
      "26911  0233182252702  Åkersberga                   gardner        False   \n",
      "26912  0233182252702  Åkersberga  ingela gardner sundström         True   \n",
      "26913  0233182252702  Åkersberga  kerstin ingela sundström        False   \n",
      "26914  0233182252702  Åkersberga                 sundström        False   \n",
      "\n",
      "      party_abbrev twitter  \n",
      "28255            S     NaN  \n",
      "28256            S     NaN  \n",
      "28332            S     NaN  \n",
      "28333            S     NaN  \n",
      "28345            S     NaN  \n",
      "...            ...     ...  \n",
      "26615            M     NaN  \n",
      "26911            M     NaN  \n",
      "26912            M     NaN  \n",
      "26913            M     NaN  \n",
      "26914            M     NaN  \n",
      "\n",
      "[45385 rows x 18 columns]\n"
     ]
    }
   ],
   "source": [
    "metadata =load_Corpus_metadata()\n",
    "print(metadata)\n"
   ]
  },
  {
   "cell_type": "code",
   "execution_count": 21,
   "metadata": {},
   "outputs": [
    {
     "data": {
      "text/html": [
       "<div>\n",
       "<style scoped>\n",
       "    .dataframe tbody tr th:only-of-type {\n",
       "        vertical-align: middle;\n",
       "    }\n",
       "\n",
       "    .dataframe tbody tr th {\n",
       "        vertical-align: top;\n",
       "    }\n",
       "\n",
       "    .dataframe thead th {\n",
       "        text-align: right;\n",
       "    }\n",
       "</style>\n",
       "<table border=\"1\" class=\"dataframe\">\n",
       "  <thead>\n",
       "    <tr style=\"text-align: right;\">\n",
       "      <th></th>\n",
       "      <th>start</th>\n",
       "      <th>end</th>\n",
       "      <th>district</th>\n",
       "      <th>role</th>\n",
       "      <th>party</th>\n",
       "      <th>source</th>\n",
       "      <th>chamber</th>\n",
       "      <th>government</th>\n",
       "      <th>born</th>\n",
       "      <th>dead</th>\n",
       "      <th>gender</th>\n",
       "      <th>riksdagen_id</th>\n",
       "      <th>location</th>\n",
       "      <th>name</th>\n",
       "      <th>primary_name</th>\n",
       "      <th>party_abbrev</th>\n",
       "      <th>twitter</th>\n",
       "    </tr>\n",
       "    <tr>\n",
       "      <th>person_id</th>\n",
       "      <th></th>\n",
       "      <th></th>\n",
       "      <th></th>\n",
       "      <th></th>\n",
       "      <th></th>\n",
       "      <th></th>\n",
       "      <th></th>\n",
       "      <th></th>\n",
       "      <th></th>\n",
       "      <th></th>\n",
       "      <th></th>\n",
       "      <th></th>\n",
       "      <th></th>\n",
       "      <th></th>\n",
       "      <th></th>\n",
       "      <th></th>\n",
       "      <th></th>\n",
       "    </tr>\n",
       "  </thead>\n",
       "  <tbody>\n",
       "    <tr>\n",
       "      <th>i-122QwSSpyGJQiTJjmrUJCM</th>\n",
       "      <td>1992-03-17</td>\n",
       "      <td>1992-05-31</td>\n",
       "      <td>NaN</td>\n",
       "      <td>ledamot</td>\n",
       "      <td>Socialdemokraterna</td>\n",
       "      <td>member_of_parliament</td>\n",
       "      <td>0</td>\n",
       "      <td>NaN</td>\n",
       "      <td>1952-09-22</td>\n",
       "      <td>NaN</td>\n",
       "      <td>man</td>\n",
       "      <td>0573136138218</td>\n",
       "      <td>Västervik</td>\n",
       "      <td>krister örnfjäder</td>\n",
       "      <td>True</td>\n",
       "      <td>S</td>\n",
       "      <td>NaN</td>\n",
       "    </tr>\n",
       "    <tr>\n",
       "      <th>i-122QwSSpyGJQiTJjmrUJCM</th>\n",
       "      <td>1992-03-17</td>\n",
       "      <td>1992-05-31</td>\n",
       "      <td>NaN</td>\n",
       "      <td>ledamot</td>\n",
       "      <td>Socialdemokraterna</td>\n",
       "      <td>member_of_parliament</td>\n",
       "      <td>0</td>\n",
       "      <td>NaN</td>\n",
       "      <td>1952-09-22</td>\n",
       "      <td>NaN</td>\n",
       "      <td>man</td>\n",
       "      <td>0573136138218</td>\n",
       "      <td>Västervik</td>\n",
       "      <td>örnfjäder</td>\n",
       "      <td>False</td>\n",
       "      <td>S</td>\n",
       "      <td>NaN</td>\n",
       "    </tr>\n",
       "    <tr>\n",
       "      <th>i-122QwSSpyGJQiTJjmrUJCM</th>\n",
       "      <td>1992-11-26</td>\n",
       "      <td>1992-12-31</td>\n",
       "      <td>NaN</td>\n",
       "      <td>ledamot</td>\n",
       "      <td>Socialdemokraterna</td>\n",
       "      <td>member_of_parliament</td>\n",
       "      <td>0</td>\n",
       "      <td>NaN</td>\n",
       "      <td>1952-09-22</td>\n",
       "      <td>NaN</td>\n",
       "      <td>man</td>\n",
       "      <td>0573136138218</td>\n",
       "      <td>Västervik</td>\n",
       "      <td>krister örnfjäder</td>\n",
       "      <td>True</td>\n",
       "      <td>S</td>\n",
       "      <td>NaN</td>\n",
       "    </tr>\n",
       "    <tr>\n",
       "      <th>i-122QwSSpyGJQiTJjmrUJCM</th>\n",
       "      <td>1992-11-26</td>\n",
       "      <td>1992-12-31</td>\n",
       "      <td>NaN</td>\n",
       "      <td>ledamot</td>\n",
       "      <td>Socialdemokraterna</td>\n",
       "      <td>member_of_parliament</td>\n",
       "      <td>0</td>\n",
       "      <td>NaN</td>\n",
       "      <td>1952-09-22</td>\n",
       "      <td>NaN</td>\n",
       "      <td>man</td>\n",
       "      <td>0573136138218</td>\n",
       "      <td>Västervik</td>\n",
       "      <td>örnfjäder</td>\n",
       "      <td>False</td>\n",
       "      <td>S</td>\n",
       "      <td>NaN</td>\n",
       "    </tr>\n",
       "    <tr>\n",
       "      <th>i-122QwSSpyGJQiTJjmrUJCM</th>\n",
       "      <td>1993-01-11</td>\n",
       "      <td>1993-01-25</td>\n",
       "      <td>NaN</td>\n",
       "      <td>ledamot</td>\n",
       "      <td>Socialdemokraterna</td>\n",
       "      <td>member_of_parliament</td>\n",
       "      <td>0</td>\n",
       "      <td>NaN</td>\n",
       "      <td>1952-09-22</td>\n",
       "      <td>NaN</td>\n",
       "      <td>man</td>\n",
       "      <td>0573136138218</td>\n",
       "      <td>Västervik</td>\n",
       "      <td>krister örnfjäder</td>\n",
       "      <td>True</td>\n",
       "      <td>S</td>\n",
       "      <td>NaN</td>\n",
       "    </tr>\n",
       "    <tr>\n",
       "      <th>...</th>\n",
       "      <td>...</td>\n",
       "      <td>...</td>\n",
       "      <td>...</td>\n",
       "      <td>...</td>\n",
       "      <td>...</td>\n",
       "      <td>...</td>\n",
       "      <td>...</td>\n",
       "      <td>...</td>\n",
       "      <td>...</td>\n",
       "      <td>...</td>\n",
       "      <td>...</td>\n",
       "      <td>...</td>\n",
       "      <td>...</td>\n",
       "      <td>...</td>\n",
       "      <td>...</td>\n",
       "      <td>...</td>\n",
       "      <td>...</td>\n",
       "    </tr>\n",
       "    <tr>\n",
       "      <th>i-zC3ZtMw7pF7WxkXwbLkKZ</th>\n",
       "      <td>1986-01-10</td>\n",
       "      <td>1988-10-03</td>\n",
       "      <td>NaN</td>\n",
       "      <td>ledamot</td>\n",
       "      <td>Moderaterna</td>\n",
       "      <td>member_of_parliament</td>\n",
       "      <td>0</td>\n",
       "      <td>NaN</td>\n",
       "      <td>1943-10-19</td>\n",
       "      <td>NaN</td>\n",
       "      <td>woman</td>\n",
       "      <td>0233182252702</td>\n",
       "      <td>Åkersberga</td>\n",
       "      <td>sundström</td>\n",
       "      <td>False</td>\n",
       "      <td>M</td>\n",
       "      <td>NaN</td>\n",
       "    </tr>\n",
       "    <tr>\n",
       "      <th>i-zC3ZtMw7pF7WxkXwbLkKZ</th>\n",
       "      <td>1988-10-03</td>\n",
       "      <td>1989-01-10</td>\n",
       "      <td>Stockholms läns valkrets</td>\n",
       "      <td>ledamot</td>\n",
       "      <td>Moderaterna</td>\n",
       "      <td>member_of_parliament</td>\n",
       "      <td>0</td>\n",
       "      <td>NaN</td>\n",
       "      <td>1943-10-19</td>\n",
       "      <td>NaN</td>\n",
       "      <td>woman</td>\n",
       "      <td>0233182252702</td>\n",
       "      <td>Åkersberga</td>\n",
       "      <td>gardner</td>\n",
       "      <td>False</td>\n",
       "      <td>M</td>\n",
       "      <td>NaN</td>\n",
       "    </tr>\n",
       "    <tr>\n",
       "      <th>i-zC3ZtMw7pF7WxkXwbLkKZ</th>\n",
       "      <td>1988-10-03</td>\n",
       "      <td>1989-01-10</td>\n",
       "      <td>Stockholms läns valkrets</td>\n",
       "      <td>ledamot</td>\n",
       "      <td>Moderaterna</td>\n",
       "      <td>member_of_parliament</td>\n",
       "      <td>0</td>\n",
       "      <td>NaN</td>\n",
       "      <td>1943-10-19</td>\n",
       "      <td>NaN</td>\n",
       "      <td>woman</td>\n",
       "      <td>0233182252702</td>\n",
       "      <td>Åkersberga</td>\n",
       "      <td>ingela gardner sundström</td>\n",
       "      <td>True</td>\n",
       "      <td>M</td>\n",
       "      <td>NaN</td>\n",
       "    </tr>\n",
       "    <tr>\n",
       "      <th>i-zC3ZtMw7pF7WxkXwbLkKZ</th>\n",
       "      <td>1988-10-03</td>\n",
       "      <td>1989-01-10</td>\n",
       "      <td>Stockholms läns valkrets</td>\n",
       "      <td>ledamot</td>\n",
       "      <td>Moderaterna</td>\n",
       "      <td>member_of_parliament</td>\n",
       "      <td>0</td>\n",
       "      <td>NaN</td>\n",
       "      <td>1943-10-19</td>\n",
       "      <td>NaN</td>\n",
       "      <td>woman</td>\n",
       "      <td>0233182252702</td>\n",
       "      <td>Åkersberga</td>\n",
       "      <td>kerstin ingela sundström</td>\n",
       "      <td>False</td>\n",
       "      <td>M</td>\n",
       "      <td>NaN</td>\n",
       "    </tr>\n",
       "    <tr>\n",
       "      <th>i-zC3ZtMw7pF7WxkXwbLkKZ</th>\n",
       "      <td>1988-10-03</td>\n",
       "      <td>1989-01-10</td>\n",
       "      <td>Stockholms läns valkrets</td>\n",
       "      <td>ledamot</td>\n",
       "      <td>Moderaterna</td>\n",
       "      <td>member_of_parliament</td>\n",
       "      <td>0</td>\n",
       "      <td>NaN</td>\n",
       "      <td>1943-10-19</td>\n",
       "      <td>NaN</td>\n",
       "      <td>woman</td>\n",
       "      <td>0233182252702</td>\n",
       "      <td>Åkersberga</td>\n",
       "      <td>sundström</td>\n",
       "      <td>False</td>\n",
       "      <td>M</td>\n",
       "      <td>NaN</td>\n",
       "    </tr>\n",
       "  </tbody>\n",
       "</table>\n",
       "<p>45385 rows × 17 columns</p>\n",
       "</div>"
      ],
      "text/plain": [
       "                              start        end                  district  \\\n",
       "person_id                                                                  \n",
       "i-122QwSSpyGJQiTJjmrUJCM 1992-03-17 1992-05-31                       NaN   \n",
       "i-122QwSSpyGJQiTJjmrUJCM 1992-03-17 1992-05-31                       NaN   \n",
       "i-122QwSSpyGJQiTJjmrUJCM 1992-11-26 1992-12-31                       NaN   \n",
       "i-122QwSSpyGJQiTJjmrUJCM 1992-11-26 1992-12-31                       NaN   \n",
       "i-122QwSSpyGJQiTJjmrUJCM 1993-01-11 1993-01-25                       NaN   \n",
       "...                             ...        ...                       ...   \n",
       "i-zC3ZtMw7pF7WxkXwbLkKZ  1986-01-10 1988-10-03                       NaN   \n",
       "i-zC3ZtMw7pF7WxkXwbLkKZ  1988-10-03 1989-01-10  Stockholms läns valkrets   \n",
       "i-zC3ZtMw7pF7WxkXwbLkKZ  1988-10-03 1989-01-10  Stockholms läns valkrets   \n",
       "i-zC3ZtMw7pF7WxkXwbLkKZ  1988-10-03 1989-01-10  Stockholms läns valkrets   \n",
       "i-zC3ZtMw7pF7WxkXwbLkKZ  1988-10-03 1989-01-10  Stockholms läns valkrets   \n",
       "\n",
       "                             role               party                source  \\\n",
       "person_id                                                                     \n",
       "i-122QwSSpyGJQiTJjmrUJCM  ledamot  Socialdemokraterna  member_of_parliament   \n",
       "i-122QwSSpyGJQiTJjmrUJCM  ledamot  Socialdemokraterna  member_of_parliament   \n",
       "i-122QwSSpyGJQiTJjmrUJCM  ledamot  Socialdemokraterna  member_of_parliament   \n",
       "i-122QwSSpyGJQiTJjmrUJCM  ledamot  Socialdemokraterna  member_of_parliament   \n",
       "i-122QwSSpyGJQiTJjmrUJCM  ledamot  Socialdemokraterna  member_of_parliament   \n",
       "...                           ...                 ...                   ...   \n",
       "i-zC3ZtMw7pF7WxkXwbLkKZ   ledamot         Moderaterna  member_of_parliament   \n",
       "i-zC3ZtMw7pF7WxkXwbLkKZ   ledamot         Moderaterna  member_of_parliament   \n",
       "i-zC3ZtMw7pF7WxkXwbLkKZ   ledamot         Moderaterna  member_of_parliament   \n",
       "i-zC3ZtMw7pF7WxkXwbLkKZ   ledamot         Moderaterna  member_of_parliament   \n",
       "i-zC3ZtMw7pF7WxkXwbLkKZ   ledamot         Moderaterna  member_of_parliament   \n",
       "\n",
       "                         chamber government        born dead gender  \\\n",
       "person_id                                                             \n",
       "i-122QwSSpyGJQiTJjmrUJCM       0        NaN  1952-09-22  NaN    man   \n",
       "i-122QwSSpyGJQiTJjmrUJCM       0        NaN  1952-09-22  NaN    man   \n",
       "i-122QwSSpyGJQiTJjmrUJCM       0        NaN  1952-09-22  NaN    man   \n",
       "i-122QwSSpyGJQiTJjmrUJCM       0        NaN  1952-09-22  NaN    man   \n",
       "i-122QwSSpyGJQiTJjmrUJCM       0        NaN  1952-09-22  NaN    man   \n",
       "...                          ...        ...         ...  ...    ...   \n",
       "i-zC3ZtMw7pF7WxkXwbLkKZ        0        NaN  1943-10-19  NaN  woman   \n",
       "i-zC3ZtMw7pF7WxkXwbLkKZ        0        NaN  1943-10-19  NaN  woman   \n",
       "i-zC3ZtMw7pF7WxkXwbLkKZ        0        NaN  1943-10-19  NaN  woman   \n",
       "i-zC3ZtMw7pF7WxkXwbLkKZ        0        NaN  1943-10-19  NaN  woman   \n",
       "i-zC3ZtMw7pF7WxkXwbLkKZ        0        NaN  1943-10-19  NaN  woman   \n",
       "\n",
       "                           riksdagen_id    location                      name  \\\n",
       "person_id                                                                       \n",
       "i-122QwSSpyGJQiTJjmrUJCM  0573136138218   Västervik         krister örnfjäder   \n",
       "i-122QwSSpyGJQiTJjmrUJCM  0573136138218   Västervik                 örnfjäder   \n",
       "i-122QwSSpyGJQiTJjmrUJCM  0573136138218   Västervik         krister örnfjäder   \n",
       "i-122QwSSpyGJQiTJjmrUJCM  0573136138218   Västervik                 örnfjäder   \n",
       "i-122QwSSpyGJQiTJjmrUJCM  0573136138218   Västervik         krister örnfjäder   \n",
       "...                                 ...         ...                       ...   \n",
       "i-zC3ZtMw7pF7WxkXwbLkKZ   0233182252702  Åkersberga                 sundström   \n",
       "i-zC3ZtMw7pF7WxkXwbLkKZ   0233182252702  Åkersberga                   gardner   \n",
       "i-zC3ZtMw7pF7WxkXwbLkKZ   0233182252702  Åkersberga  ingela gardner sundström   \n",
       "i-zC3ZtMw7pF7WxkXwbLkKZ   0233182252702  Åkersberga  kerstin ingela sundström   \n",
       "i-zC3ZtMw7pF7WxkXwbLkKZ   0233182252702  Åkersberga                 sundström   \n",
       "\n",
       "                         primary_name party_abbrev twitter  \n",
       "person_id                                                   \n",
       "i-122QwSSpyGJQiTJjmrUJCM         True            S     NaN  \n",
       "i-122QwSSpyGJQiTJjmrUJCM        False            S     NaN  \n",
       "i-122QwSSpyGJQiTJjmrUJCM         True            S     NaN  \n",
       "i-122QwSSpyGJQiTJjmrUJCM        False            S     NaN  \n",
       "i-122QwSSpyGJQiTJjmrUJCM         True            S     NaN  \n",
       "...                               ...          ...     ...  \n",
       "i-zC3ZtMw7pF7WxkXwbLkKZ         False            M     NaN  \n",
       "i-zC3ZtMw7pF7WxkXwbLkKZ         False            M     NaN  \n",
       "i-zC3ZtMw7pF7WxkXwbLkKZ          True            M     NaN  \n",
       "i-zC3ZtMw7pF7WxkXwbLkKZ         False            M     NaN  \n",
       "i-zC3ZtMw7pF7WxkXwbLkKZ         False            M     NaN  \n",
       "\n",
       "[45385 rows x 17 columns]"
      ]
     },
     "execution_count": 21,
     "metadata": {},
     "output_type": "execute_result"
    }
   ],
   "source": [
    "metadata =pd.DataFrame(metadata)\n",
    "metadata=metadata.set_index(\"person_id\")\n",
    "metadata"
   ]
  },
  {
   "cell_type": "code",
   "execution_count": 26,
   "metadata": {},
   "outputs": [
    {
     "data": {
      "text/plain": [
       "pandas.core.series.Series"
      ]
     },
     "execution_count": 26,
     "metadata": {},
     "output_type": "execute_result"
    }
   ],
   "source": [
    "type(metadata.loc[\"i-Ddmtm1uG9esPH37c8XjUXZ\" ,\"party\"].dropna())"
   ]
  },
  {
   "cell_type": "code",
   "execution_count": 45,
   "metadata": {},
   "outputs": [],
   "source": [
    "notes=[]\n",
    "id=[]\n",
    "party=[]\n",
    "gender=[]\n",
    "protocol=[]\n",
    "\n",
    "for i in range(len(protocols)):\n",
    "    protocol_in_question = protocols[i]\n",
    "    with open(protocol_in_question,\"r\") as f:\n",
    "        xml_content=f.read()\n",
    "    soup=BeautifulSoup(xml_content,\"xml\")\n",
    "    note_elements=soup.find_all(\"u\")\n",
    "\n",
    "\n",
    "    for note in note_elements:\n",
    "        note_text = note.text.strip()\n",
    "        note_text = re.sub(r'\\s+',' ',note_text)\n",
    "        note_text = re.sub(r'\\n+',' ',note_text)\n",
    "        next_element = note.get(\"who\")\n",
    "        if next_element != \"unknown\":\n",
    "            id.append(next_element)\n",
    "            notes.append(note_text)\n",
    "\n",
    "            party_value = metadata.loc[next_element, \"party\"]\n",
    "            if isinstance(party_value, pd.Series):\n",
    "                party_values = party_value.dropna()\n",
    "                if not party_values.empty:\n",
    "                    party.append(party_values.iloc[0])\n",
    "                else:\n",
    "                    party.append(np.nan)\n",
    "            else:\n",
    "                party.append(party_value)\n",
    "\n",
    "            gender_value = metadata.loc[next_element, \"gender\"]\n",
    "            if isinstance(gender_value, pd.Series):\n",
    "                gender_values = gender_value.dropna()\n",
    "                if not gender_values.empty:\n",
    "                    gender.append(gender_values.iloc[0])\n",
    "                else:\n",
    "                    gender.append(np.nan)\n",
    "            else:\n",
    "                gender.append(gender_value)\n",
    "\n",
    "            protocol.append(protocol_in_question)\n",
    "\n",
    "df = pd.DataFrame({\"protocol\": protocol, \"Note\": notes, \"id\": id, \"party\": party, \"gender\": gender})\n",
    "\n",
    "        "
   ]
  },
  {
   "cell_type": "code",
   "execution_count": 44,
   "metadata": {},
   "outputs": [
    {
     "data": {
      "text/plain": [
       "'Herr talman! Jag vill inledningsvis påminna om vad som ofta sas inför folkomröstningen om Sverige skulle gå med i EU: EU är ett fredsprojekt. Vi förstod kanske inte vidden av det argumentet då. Men i dag, när ett krig pågår i Europa, när Ryssland krigar mot Ukraina, vet vi hur viktig sammanhållningen i EU är. EU måste stå starkt.'"
      ]
     },
     "execution_count": 44,
     "metadata": {},
     "output_type": "execute_result"
    }
   ],
   "source": [
    "df.iloc[0][\"Note\"]"
   ]
  },
  {
   "cell_type": "markdown",
   "metadata": {},
   "source": [
    "df"
   ]
  },
  {
   "cell_type": "code",
   "execution_count": 29,
   "metadata": {},
   "outputs": [],
   "source": [
    "df.to_pickle(\"gender_party_dataset.pkl\")"
   ]
  },
  {
   "cell_type": "code",
   "execution_count": 32,
   "metadata": {},
   "outputs": [],
   "source": [
    "df = df.rename(columns={\"protocol\": \"protocole\"})\n"
   ]
  },
  {
   "cell_type": "code",
   "execution_count": 41,
   "metadata": {},
   "outputs": [
    {
     "data": {
      "text/plain": [
       "'Mine Herrar! Sannolikt är det för många bland Eder oväntadt att\\n            se en prest intaga talmansstolen i Riksdagens Andra Kammare. Det\\n            sker också icke efter min egen önskan. Jag har lika litet eftersträfvat\\n            detta höga och ansvarsfulla förtroende, som jag sökt sjelfva riksdagsmannakallets\\n            hedrande uppdrag. Men då vahnännen inom den krets jag tillhör\\n            lemnat mig det sednare, och Kongl. Maj:t sedermera behagat förläna\\n            mig det förra, har jag ej haft giltiga skäl att undandraga mig\\n            någotdera. Det är nemligen min öfvertygelse, att hvarje Svensk\\n            medborgare, i hvilken samhällsställning han än må befinna sig,\\n            är skyldig att gå dit han kallas, så snart kallelsen för honom\\n            innebär en uppmaning att, på den plats honom anvisas, efter bästa\\n            förstånd bidraga till fäderneslandets gagn. Då I, Mine Herrar,\\n            utan tvitvel alla hafven samma öfvertygelse, vågar jag hoppas,\\n            att af Eder blifva emottagen med den välvilja, som en ärlig afsigt\\n            förtjenar, och att derjemte få påräkna det öfverseende, som jag\\n            säkert vid många tillfällen nödgas taga i anspråk. Jag behöfver\\n            icke här beskrifva de svårigheter, som åtfölja talmansbefattningen\\n            och förorsaka bryderi äfven för en långt större förmåga än den,\\n            som blifvit mig beskärd, ej heller erinra, att dessa svårigheter\\n            ingalunda blifvit förminskade utan snarare förökade genom den\\n            nya Riksdags-ordningen, så länge hon ännu saknar den gamlas traditioner.\\n            En antydning härom torde vara tillräcklig för att framkalla den\\n            endrägt, det trofasta inbördes tillstånd, hvarförutan vår gemensamma\\n            verksamhet omöjligt kan vinna erforderlig reda och önskad framgång.'"
      ]
     },
     "execution_count": 41,
     "metadata": {},
     "output_type": "execute_result"
    }
   ],
   "source": [
    "df.iloc[0][\"Note\"]"
   ]
  },
  {
   "cell_type": "code",
   "execution_count": 34,
   "metadata": {},
   "outputs": [],
   "source": [
    "df_train,df_test,df_valid=train_test_valid(df)"
   ]
  },
  {
   "cell_type": "code",
   "execution_count": 40,
   "metadata": {},
   "outputs": [
    {
     "data": {
      "text/plain": [
       "'För min del kan jag ej se något hinder för företagande af dessa\\n            val ännu något tidigare än Herr Talmannen föreslagit. Jag har\\n            föreställt mig, att vi så mycket som möjligt borde taga vara på\\n            den dyrbara tiden, och att nu ifrågakomna val kunde förrättas\\n            t. ex. på Tisdagen, och valen till suppleanter i Utskotten på\\n            Thorsdagen.'"
      ]
     },
     "execution_count": 40,
     "metadata": {},
     "output_type": "execute_result"
    }
   ],
   "source": [
    "df_train.iloc[0][\"Note\"]"
   ]
  },
  {
   "cell_type": "code",
   "execution_count": 35,
   "metadata": {},
   "outputs": [],
   "source": [
    "df_train.to_pickle(\"swerick_data_party_train.pkl\")\n",
    "df_test.to_pickle(\"swerick_data_party_test.pkl\")\n",
    "df_test.to_pickle(\"swerick_data_party_valid.pkl\")"
   ]
  }
 ],
 "metadata": {
  "kernelspec": {
   "display_name": "base",
   "language": "python",
   "name": "python3"
  },
  "language_info": {
   "codemirror_mode": {
    "name": "ipython",
    "version": 3
   },
   "file_extension": ".py",
   "mimetype": "text/x-python",
   "name": "python",
   "nbconvert_exporter": "python",
   "pygments_lexer": "ipython3",
   "version": "3.12.2"
  }
 },
 "nbformat": 4,
 "nbformat_minor": 2
}
